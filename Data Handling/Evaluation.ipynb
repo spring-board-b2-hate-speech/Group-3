{
 "cells": [
  {
   "cell_type": "code",
   "execution_count": 1,
   "id": "b9326914-3ce6-4e1a-bdb0-9fa1b002c4d3",
   "metadata": {},
   "outputs": [
    {
     "data": {
      "text/html": [
       "<div>\n",
       "<style scoped>\n",
       "    .dataframe tbody tr th:only-of-type {\n",
       "        vertical-align: middle;\n",
       "    }\n",
       "\n",
       "    .dataframe tbody tr th {\n",
       "        vertical-align: top;\n",
       "    }\n",
       "\n",
       "    .dataframe thead th {\n",
       "        text-align: right;\n",
       "    }\n",
       "</style>\n",
       "<table border=\"1\" class=\"dataframe\">\n",
       "  <thead>\n",
       "    <tr style=\"text-align: right;\">\n",
       "      <th></th>\n",
       "      <th>comment</th>\n",
       "      <th>hate_speech</th>\n",
       "      <th>tokens</th>\n",
       "      <th>word2vec_vector</th>\n",
       "      <th>text</th>\n",
       "      <th>label</th>\n",
       "    </tr>\n",
       "  </thead>\n",
       "  <tbody>\n",
       "    <tr>\n",
       "      <th>0</th>\n",
       "      <td>A subsection of retarded Hungarians? Oh boy. b...</td>\n",
       "      <td>1</td>\n",
       "      <td>['a', 'subsection', 'of', 'retarded', 'hungari...</td>\n",
       "      <td>[-0.01025309  0.10916914  0.06691193 -0.583091...</td>\n",
       "      <td>a subsection of retarded hungarians ? oh boy ....</td>\n",
       "      <td>__label__1</td>\n",
       "    </tr>\n",
       "    <tr>\n",
       "      <th>1</th>\n",
       "      <td>Iii. Just got off work. Foundation and groundi...</td>\n",
       "      <td>0</td>\n",
       "      <td>['iii', '.', 'just', 'got', 'off', 'work', '.'...</td>\n",
       "      <td>[ 0.01866228  0.12514791  0.12122827 -0.047967...</td>\n",
       "      <td>iii . just got off work . foundation and groun...</td>\n",
       "      <td>__label__0</td>\n",
       "    </tr>\n",
       "    <tr>\n",
       "      <th>2</th>\n",
       "      <td>wow i guess cowboys are the same in every country</td>\n",
       "      <td>0</td>\n",
       "      <td>['wow', 'i', 'guess', 'cowboys', 'are', 'the',...</td>\n",
       "      <td>[ 0.14951295  0.2422072   0.15283646  0.170495...</td>\n",
       "      <td>wow i guess cowboys are the same in every country</td>\n",
       "      <td>__label__0</td>\n",
       "    </tr>\n",
       "    <tr>\n",
       "      <th>3</th>\n",
       "      <td>Owen Benjamin's cowboy song goes for every cou...</td>\n",
       "      <td>0</td>\n",
       "      <td>['owen', 'benjamin', \"'s\", 'cowboy', 'song', '...</td>\n",
       "      <td>[-3.88697950e-02  3.65950141e-01 -1.04890444e-...</td>\n",
       "      <td>owen benjamin 's cowboy song goes for every co...</td>\n",
       "      <td>__label__0</td>\n",
       "    </tr>\n",
       "    <tr>\n",
       "      <th>4</th>\n",
       "      <td>&gt; \"y'all hear sun?\" by all means I live in a s...</td>\n",
       "      <td>0</td>\n",
       "      <td>['&gt;', '``', \"y'all\", 'hear', 'sun', '?', \"''\",...</td>\n",
       "      <td>[ 0.06908988  0.07478161  0.11669861 -0.296530...</td>\n",
       "      <td>&gt; `` y'all hear sun ? '' by all means i live i...</td>\n",
       "      <td>__label__0</td>\n",
       "    </tr>\n",
       "  </tbody>\n",
       "</table>\n",
       "</div>"
      ],
      "text/plain": [
       "                                             comment  hate_speech  \\\n",
       "0  A subsection of retarded Hungarians? Oh boy. b...            1   \n",
       "1  Iii. Just got off work. Foundation and groundi...            0   \n",
       "2  wow i guess cowboys are the same in every country            0   \n",
       "3  Owen Benjamin's cowboy song goes for every cou...            0   \n",
       "4  > \"y'all hear sun?\" by all means I live in a s...            0   \n",
       "\n",
       "                                              tokens  \\\n",
       "0  ['a', 'subsection', 'of', 'retarded', 'hungari...   \n",
       "1  ['iii', '.', 'just', 'got', 'off', 'work', '.'...   \n",
       "2  ['wow', 'i', 'guess', 'cowboys', 'are', 'the',...   \n",
       "3  ['owen', 'benjamin', \"'s\", 'cowboy', 'song', '...   \n",
       "4  ['>', '``', \"y'all\", 'hear', 'sun', '?', \"''\",...   \n",
       "\n",
       "                                     word2vec_vector  \\\n",
       "0  [-0.01025309  0.10916914  0.06691193 -0.583091...   \n",
       "1  [ 0.01866228  0.12514791  0.12122827 -0.047967...   \n",
       "2  [ 0.14951295  0.2422072   0.15283646  0.170495...   \n",
       "3  [-3.88697950e-02  3.65950141e-01 -1.04890444e-...   \n",
       "4  [ 0.06908988  0.07478161  0.11669861 -0.296530...   \n",
       "\n",
       "                                                text       label  \n",
       "0  a subsection of retarded hungarians ? oh boy ....  __label__1  \n",
       "1  iii . just got off work . foundation and groun...  __label__0  \n",
       "2  wow i guess cowboys are the same in every country  __label__0  \n",
       "3  owen benjamin 's cowboy song goes for every co...  __label__0  \n",
       "4  > `` y'all hear sun ? '' by all means i live i...  __label__0  "
      ]
     },
     "execution_count": 1,
     "metadata": {},
     "output_type": "execute_result"
    }
   ],
   "source": [
    "import pandas as pd\n",
    "import numpy as np\n",
    "data = pd.read_csv('RedditTokenized.csv')\n",
    "data.head()"
   ]
  },
  {
   "cell_type": "code",
   "execution_count": 2,
   "id": "c9deb95c-1bd3-4626-bc61-5bc7beef3025",
   "metadata": {},
   "outputs": [
    {
     "name": "stdout",
     "output_type": "stream",
     "text": [
      "Accuracy: 0.8735\n",
      "Precision: 0.8630\n",
      "Recall: 0.5852\n",
      "F1-score: 0.6975\n"
     ]
    }
   ],
   "source": [
    "import fasttext\n",
    "import pandas as pd\n",
    "from sklearn.model_selection import train_test_split\n",
    "from sklearn.metrics import accuracy_score, precision_score, recall_score, f1_score\n",
    "\n",
    "# Train a FastText supervised model\n",
    "model = fasttext.train_supervised(input='train.txt', epoch=10, lr=0.1, wordNgrams=2, bucket=200000, dim=100, loss='ova')\n",
    "\n",
    "# Evaluate the model\n",
    "def evaluate_model(model, test_file):\n",
    "    with open(test_file, 'r', encoding='utf-8') as f:\n",
    "        lines = f.readlines()\n",
    "\n",
    "    y_true = []\n",
    "    y_pred = []\n",
    "    for line in lines:\n",
    "        label, text = line.strip().split(' ', 1)\n",
    "        y_true.append(int(label.replace('__label__', '')))\n",
    "        pred_label, _ = model.predict(text)\n",
    "        y_pred.append(int(pred_label[0].replace('__label__', '')))\n",
    "\n",
    "    accuracy = accuracy_score(y_true, y_pred)\n",
    "    precision = precision_score(y_true, y_pred)\n",
    "    recall = recall_score(y_true, y_pred)\n",
    "    f1 = f1_score(y_true, y_pred)\n",
    "\n",
    "    print(f'Accuracy: {accuracy:.4f}')\n",
    "    print(f'Precision: {precision:.4f}')\n",
    "    print(f'Recall: {recall:.4f}')\n",
    "    print(f'F1-score: {f1:.4f}')\n",
    "\n",
    "# Call the evaluate_model function\n",
    "evaluate_model(model, 'test.txt')\n"
   ]
  },
  {
   "cell_type": "markdown",
   "id": "8d263534-64db-49cc-8ce2-54059f901369",
   "metadata": {},
   "source": [
    "## Analysis of Performance\n",
    "- #### High Accuracy with Low Recall:\n",
    "\n",
    "##### Your model has a high accuracy but a relatively low recall. This often implies that the dataset might be imbalanced, with a majority of non-hate speech examples.\n",
    "##### The model might be biased towards predicting the majority class (non-hate speech), leading to more false negatives (actual hate speech classified as non-hate speech).\n",
    "- #### High Precision:\n",
    "\n",
    "##### The high precision indicates that when the model predicts hate speech, it is usually correct. This is good for reducing false alarms, but it comes at the cost of not catching many true hate speech cases."
   ]
  },
  {
   "cell_type": "markdown",
   "id": "3838d101-0295-43dc-8fce-c0808cf13782",
   "metadata": {},
   "source": [
    "## Improving model"
   ]
  },
  {
   "cell_type": "markdown",
   "id": "62c8ad40-0b05-4af2-9ca2-822c63e971e3",
   "metadata": {},
   "source": [
    "#### Techniques for Handling Imbalanced Data\n",
    "- ##### Class Weighting\n",
    "- ##### Resampling Techniques\n",
    "  Oversampling: SMOTE, ADASYN\n",
    "  \n",
    "  Undersampling: Random undersampling\n",
    "- ##### Algorithmic Approaches\n",
    "  Ensemble Methods: Balanced Random Forest, EasyEnsemble\n",
    "- ##### Performance Metrics\n",
    "  Using metrics suitable for imbalanced datasets: Precision, Recall, F1-score, AUC-ROC"
   ]
  },
  {
   "cell_type": "code",
   "execution_count": 3,
   "id": "58e5230e-0252-475e-9c88-312f644a5181",
   "metadata": {},
   "outputs": [],
   "source": [
    "#Data Preparation\n",
    "import pandas as pd\n",
    "from sklearn.model_selection import train_test_split\n",
    "from sklearn.feature_extraction.text import TfidfVectorizer\n",
    "\n",
    "data['label'] = data['label'].map({'__label__1': 1, '__label__0': 0})\n",
    "\n",
    "# Splitting data\n",
    "X_train, X_test, y_train, y_test = train_test_split(data['text'], data['label'], test_size=0.2, random_state=42)\n",
    "\n",
    "# Vectorizing text data\n",
    "vectorizer = TfidfVectorizer()\n",
    "X_train_tfidf = vectorizer.fit_transform(X_train)\n",
    "X_test_tfidf = vectorizer.transform(X_test)\n"
   ]
  },
  {
   "cell_type": "code",
   "execution_count": 4,
   "id": "fffa37e9-3eeb-4323-8b1b-60ae395d3393",
   "metadata": {},
   "outputs": [
    {
     "name": "stdout",
     "output_type": "stream",
     "text": [
      "Class Weighting:\n",
      "               precision    recall  f1-score   support\n",
      "\n",
      "           0       0.83      0.98      0.90      3341\n",
      "           1       0.90      0.41      0.57      1109\n",
      "\n",
      "    accuracy                           0.84      4450\n",
      "   macro avg       0.87      0.70      0.73      4450\n",
      "weighted avg       0.85      0.84      0.82      4450\n",
      "\n"
     ]
    }
   ],
   "source": [
    "#class weighting\n",
    "from sklearn.utils.class_weight import compute_class_weight\n",
    "from sklearn.ensemble import RandomForestClassifier\n",
    "from sklearn.metrics import classification_report\n",
    "\n",
    "class_weights = compute_class_weight('balanced', classes=[0, 1], y=y_train)\n",
    "class_weight_dict = {0: class_weights[0], 1: class_weights[1]}\n",
    "\n",
    "model_weighted = RandomForestClassifier(class_weight=class_weight_dict, random_state=42)\n",
    "model_weighted.fit(X_train_tfidf, y_train)\n",
    "y_pred_weighted = model_weighted.predict(X_test_tfidf)\n",
    "\n",
    "print(\"Class Weighting:\\n\", classification_report(y_test, y_pred_weighted))\n"
   ]
  },
  {
   "cell_type": "code",
   "execution_count": 5,
   "id": "fafe30b1-b86e-4682-856e-051244c5f824",
   "metadata": {},
   "outputs": [
    {
     "name": "stdout",
     "output_type": "stream",
     "text": [
      "SMOTE:\n",
      "               precision    recall  f1-score   support\n",
      "\n",
      "           0       0.84      0.97      0.90      3341\n",
      "           1       0.83      0.45      0.59      1109\n",
      "\n",
      "    accuracy                           0.84      4450\n",
      "   macro avg       0.84      0.71      0.74      4450\n",
      "weighted avg       0.84      0.84      0.82      4450\n",
      "\n"
     ]
    }
   ],
   "source": [
    "#SMOTE (Oversampling)\n",
    "\n",
    "from imblearn.over_sampling import SMOTE\n",
    "\n",
    "smote = SMOTE(random_state=42)\n",
    "X_train_resampled, y_train_resampled = smote.fit_resample(X_train_tfidf, y_train)\n",
    "\n",
    "model_smote = RandomForestClassifier(random_state=42)\n",
    "model_smote.fit(X_train_resampled, y_train_resampled)\n",
    "y_pred_smote = model_smote.predict(X_test_tfidf)\n",
    "\n",
    "print(\"SMOTE:\\n\", classification_report(y_test, y_pred_smote))\n"
   ]
  },
  {
   "cell_type": "code",
   "execution_count": 6,
   "id": "e9654306-27d6-4aea-8fc2-3db982771ace",
   "metadata": {},
   "outputs": [
    {
     "name": "stdout",
     "output_type": "stream",
     "text": [
      "Random Undersampling:\n",
      "               precision    recall  f1-score   support\n",
      "\n",
      "           0       0.93      0.89      0.91      3341\n",
      "           1       0.70      0.80      0.75      1109\n",
      "\n",
      "    accuracy                           0.86      4450\n",
      "   macro avg       0.81      0.84      0.83      4450\n",
      "weighted avg       0.87      0.86      0.87      4450\n",
      "\n"
     ]
    }
   ],
   "source": [
    "#Random Undersampling\n",
    "from imblearn.under_sampling import RandomUnderSampler\n",
    "\n",
    "rus = RandomUnderSampler(random_state=42)\n",
    "X_train_resampled, y_train_resampled = rus.fit_resample(X_train_tfidf, y_train)\n",
    "\n",
    "model_rus = RandomForestClassifier(random_state=42)\n",
    "model_rus.fit(X_train_resampled, y_train_resampled)\n",
    "y_pred_rus = model_rus.predict(X_test_tfidf)\n",
    "\n",
    "print(\"Random Undersampling:\\n\", classification_report(y_test, y_pred_rus))\n"
   ]
  },
  {
   "cell_type": "code",
   "execution_count": 7,
   "id": "dd116e9f-5a51-4baf-ae40-402dce3234cf",
   "metadata": {},
   "outputs": [
    {
     "name": "stderr",
     "output_type": "stream",
     "text": [
      "C:\\Anaconda3\\Lib\\site-packages\\imblearn\\ensemble\\_forest.py:546: FutureWarning: The default of `sampling_strategy` will change from `'auto'` to `'all'` in version 0.13. This change will follow the implementation proposed in the original paper. Set to `'all'` to silence this warning and adopt the future behaviour.\n",
      "  warn(\n",
      "C:\\Anaconda3\\Lib\\site-packages\\imblearn\\ensemble\\_forest.py:558: FutureWarning: The default of `replacement` will change from `False` to `True` in version 0.13. This change will follow the implementation proposed in the original paper. Set to `True` to silence this warning and adopt the future behaviour.\n",
      "  warn(\n"
     ]
    },
    {
     "name": "stdout",
     "output_type": "stream",
     "text": [
      "Balanced Random Forest:\n",
      "               precision    recall  f1-score   support\n",
      "\n",
      "           0       0.93      0.89      0.91      3341\n",
      "           1       0.71      0.79      0.75      1109\n",
      "\n",
      "    accuracy                           0.87      4450\n",
      "   macro avg       0.82      0.84      0.83      4450\n",
      "weighted avg       0.87      0.87      0.87      4450\n",
      "\n"
     ]
    }
   ],
   "source": [
    "#Balanced Random Forest\n",
    "from imblearn.ensemble import BalancedRandomForestClassifier\n",
    "\n",
    "model_brf = BalancedRandomForestClassifier(random_state=42)\n",
    "model_brf.fit(X_train_tfidf, y_train)\n",
    "y_pred_brf = model_brf.predict(X_test_tfidf)\n",
    "\n",
    "print(\"Balanced Random Forest:\\n\", classification_report(y_test, y_pred_brf))\n"
   ]
  },
  {
   "cell_type": "code",
   "execution_count": 8,
   "id": "a4562642-4d7e-4163-b7c4-ce80070173ab",
   "metadata": {},
   "outputs": [
    {
     "data": {
      "image/png": "[encoded data removed]",
      "text/plain": [
       "<Figure size 640x480 with 1 Axes>"
      ]
     },
     "metadata": {},
     "output_type": "display_data"
    }
   ],
   "source": [
    "#for comparison\n",
    "from sklearn.metrics import roc_auc_score, roc_curve\n",
    "import matplotlib.pyplot as plt\n",
    "\n",
    "methods = {\n",
    "    'Class Weighting': y_pred_weighted,\n",
    "    'SMOTE': y_pred_smote,\n",
    "    'Random Undersampling': y_pred_rus,\n",
    "    'Balanced Random Forest': y_pred_brf\n",
    "}\n",
    "\n",
    "# Calculate and print ROC-AUC for each method\n",
    "for method_name, y_pred in methods.items():\n",
    "    y_probs = model_brf.predict_proba(X_test_tfidf)[:, 1]\n",
    "    auc = roc_auc_score(y_test, y_probs)\n",
    "    fpr, tpr, _ = roc_curve(y_test, y_probs)\n",
    "    plt.plot(fpr, tpr, label=f'{method_name} (AUC = {auc:.2f})')\n",
    "\n",
    "plt.plot([0, 1], [0, 1], 'k--')\n",
    "plt.xlabel('False Positive Rate')\n",
    "plt.ylabel('True Positive Rate')\n",
    "plt.title('ROC Curve Comparison')\n",
    "plt.legend(loc='best')\n",
    "plt.show()\n"
   ]
  },
  {
   "cell_type": "markdown",
   "id": "14d5532a-4754-4ca9-b504-3a1755d185d9",
   "metadata": {},
   "source": [
    "### An AUC of 0.90 is quite high, suggesting that model perform well overall in differentiating between classes. This is a positive indicator for the effectiveness of the methods in handling class imbalance."
   ]
  },
  {
   "cell_type": "code",
   "execution_count": null,
   "id": "37d9f9f0-9731-44dd-8c2b-42fa19d7a11d",
   "metadata": {},
   "outputs": [],
   "source": []
  }
 ],
 "metadata": {
  "kernelspec": {
   "display_name": "Python 3 (ipykernel)",
   "language": "python",
   "name": "python3"
  },
  "language_info": {
   "codemirror_mode": {
    "name": "ipython",
    "version": 3
   },
   "file_extension": ".py",
   "mimetype": "text/x-python",
   "name": "python",
   "nbconvert_exporter": "python",
   "pygments_lexer": "ipython3",
   "version": "3.11.7"
  }
 },
 "nbformat": 4,
 "nbformat_minor": 5
}
