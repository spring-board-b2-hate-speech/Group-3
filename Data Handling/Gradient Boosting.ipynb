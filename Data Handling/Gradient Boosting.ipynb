{
 "cells": [
  {
   "cell_type": "code",
   "execution_count": 2,
   "id": "a68d68fe-b0ba-487c-8cd1-2ca86693354a",
   "metadata": {},
   "outputs": [
    {
     "name": "stderr",
     "output_type": "stream",
     "text": [
      "C:\\Users\\Aman Shekhar Sachan\\AppData\\Local\\Temp\\ipykernel_14352\\3689605058.py:7: DtypeWarning: Columns (300) have mixed types. Specify dtype option on import or set low_memory=False.\n",
      "  train_data = pd.read_csv('train.csv')\n"
     ]
    }
   ],
   "source": [
    "import pandas as pd\n",
    "from sklearn.feature_extraction.text import TfidfVectorizer\n",
    "from sklearn.ensemble import GradientBoostingClassifier\n",
    "from sklearn.metrics import classification_report, accuracy_score\n",
    "\n",
    "# Load the balanced training data and test data\n",
    "train_data = pd.read_csv('train.csv')\n",
    "test_data = pd.read_csv('test.csv')\n",
    "\n",
    "# Ensure text column is string type and handle missing values\n",
    "train_data['lemmatized_comment'] = train_data['lemmatized_comment'].fillna('').astype(str)\n",
    "test_data['lemmatized_comment'] = test_data['lemmatized_comment'].fillna('').astype(str)\n",
    "\n",
    "# Drop rows with empty text data\n",
    "train_data = train_data[train_data['lemmatized_comment'].str.strip() != '']\n",
    "test_data = test_data[test_data['lemmatized_comment'].str.strip() != '']\n",
    "\n",
    "# Separate features and labels\n",
    "X_train_text = train_data['lemmatized_comment']\n",
    "y_train = train_data['hate_speech']\n",
    "\n",
    "X_test_text = test_data['lemmatized_comment']\n",
    "y_test = test_data['hate_speech']\n"
   ]
  },
  {
   "cell_type": "code",
   "execution_count": 3,
   "id": "695ed9f8-5453-41d6-af0d-8cc89bf82abf",
   "metadata": {},
   "outputs": [],
   "source": [
    "# Use TfidfVectorizer to transform text data into feature vectors\n",
    "vectorizer = TfidfVectorizer(max_features=5000, stop_words='english', min_df=1)\n",
    "X_train = vectorizer.fit_transform(X_train_text)\n",
    "X_test = vectorizer.transform(X_test_text)\n"
   ]
  },
  {
   "cell_type": "code",
   "execution_count": 4,
   "id": "0ab58f31-afba-4f88-bc90-d93d4fe50969",
   "metadata": {},
   "outputs": [
    {
     "name": "stdout",
     "output_type": "stream",
     "text": [
      "Classification Report:\n",
      "              precision    recall  f1-score   support\n",
      "\n",
      "           0       0.93      0.96      0.94      3386\n",
      "           1       0.85      0.78      0.81      1057\n",
      "\n",
      "    accuracy                           0.91      4443\n",
      "   macro avg       0.89      0.87      0.88      4443\n",
      "weighted avg       0.91      0.91      0.91      4443\n",
      "\n",
      "Accuracy: 0.9136\n"
     ]
    }
   ],
   "source": [
    "\n",
    "# Initialize the Gradient Boosting model with the best parameters\n",
    "gb_model = GradientBoostingClassifier(learning_rate=0.1, max_depth=5, n_estimators=100, random_state=42)\n",
    "\n",
    "# Train the Gradient Boosting model\n",
    "gb_model.fit(X_train, y_train)\n",
    "\n",
    "# Predict on the test set\n",
    "y_pred = gb_model.predict(X_test)\n",
    "\n",
    "# Display the classification report\n",
    "print(\"Classification Report:\")\n",
    "print(classification_report(y_test, y_pred))\n",
    "\n",
    "# Display the accuracy score\n",
    "accuracy = accuracy_score(y_test, y_pred)\n",
    "print(f\"Accuracy: {accuracy:.4f}\")\n"
   ]
  },
  {
   "cell_type": "code",
   "execution_count": null,
   "id": "f1617976-0162-47fa-bf73-f692caf921a7",
   "metadata": {},
   "outputs": [],
   "source": []
  }
 ],
 "metadata": {
  "kernelspec": {
   "display_name": "Python 3 (ipykernel)",
   "language": "python",
   "name": "python3"
  },
  "language_info": {
   "codemirror_mode": {
    "name": "ipython",
    "version": 3
   },
   "file_extension": ".py",
   "mimetype": "text/x-python",
   "name": "python",
   "nbconvert_exporter": "python",
   "pygments_lexer": "ipython3",
   "version": "3.11.7"
  }
 },
 "nbformat": 4,
 "nbformat_minor": 5
}
