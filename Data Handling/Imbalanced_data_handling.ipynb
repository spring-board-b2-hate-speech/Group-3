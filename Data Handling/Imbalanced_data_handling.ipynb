{
 "cells": [
  {
   "cell_type": "code",
   "execution_count": 1,
   "id": "5bd9fcfe-ff1d-4970-bb08-4e18d6f22357",
   "metadata": {},
   "outputs": [
    {
     "data": {
      "text/html": [
       "<div>\n",
       "<style scoped>\n",
       "    .dataframe tbody tr th:only-of-type {\n",
       "        vertical-align: middle;\n",
       "    }\n",
       "\n",
       "    .dataframe tbody tr th {\n",
       "        vertical-align: top;\n",
       "    }\n",
       "\n",
       "    .dataframe thead th {\n",
       "        text-align: right;\n",
       "    }\n",
       "</style>\n",
       "<table border=\"1\" class=\"dataframe\">\n",
       "  <thead>\n",
       "    <tr style=\"text-align: right;\">\n",
       "      <th></th>\n",
       "      <th>comment</th>\n",
       "      <th>hate_speech</th>\n",
       "      <th>tokens</th>\n",
       "      <th>tokens_spacy</th>\n",
       "      <th>word2vec_vector</th>\n",
       "      <th>cleaned_comment</th>\n",
       "      <th>fasttext_vector</th>\n",
       "    </tr>\n",
       "  </thead>\n",
       "  <tbody>\n",
       "    <tr>\n",
       "      <th>0</th>\n",
       "      <td>A subsection of retarded Hungarians? Oh boy. b...</td>\n",
       "      <td>1</td>\n",
       "      <td>['a', 'subsection', 'of', 'retarded', 'hungari...</td>\n",
       "      <td>['a', 'subsection', 'of', 'retarded', 'hungari...</td>\n",
       "      <td>[ 0.36349716 -0.22094536  0.01051669 -0.602767...</td>\n",
       "      <td>a subsection of retarded hungarians oh boy bra...</td>\n",
       "      <td>[0.004770048428326845, -0.03953176364302635, -...</td>\n",
       "    </tr>\n",
       "    <tr>\n",
       "      <th>1</th>\n",
       "      <td>Iii. Just got off work. Foundation and groundi...</td>\n",
       "      <td>0</td>\n",
       "      <td>['iii', '.', 'just', 'got', 'off', 'work', '.'...</td>\n",
       "      <td>['iii', '.', 'just', 'got', 'off', 'work', '.'...</td>\n",
       "      <td>[ 0.06504157 -0.12219669  0.10038512 -0.005708...</td>\n",
       "      <td>iii just got off work foundation and grounding...</td>\n",
       "      <td>[-0.012044071219861507, -0.011684201657772064,...</td>\n",
       "    </tr>\n",
       "    <tr>\n",
       "      <th>2</th>\n",
       "      <td>wow i guess cowboys are the same in every country</td>\n",
       "      <td>0</td>\n",
       "      <td>['wow', 'i', 'guess', 'cowboys', 'are', 'the',...</td>\n",
       "      <td>['wow', 'i', 'guess', 'cowboys', 'are', 'the',...</td>\n",
       "      <td>[ 2.92166289e-01  3.85734248e-01 -4.80327269e-...</td>\n",
       "      <td>wow i guess cowboys are the same in every country</td>\n",
       "      <td>[-0.0008766286191530526, 0.0192383024841547, 0...</td>\n",
       "    </tr>\n",
       "    <tr>\n",
       "      <th>3</th>\n",
       "      <td>Owen Benjamin's cowboy song goes for every cou...</td>\n",
       "      <td>0</td>\n",
       "      <td>['owen', 'benjamin', \"'s\", 'cowboy', 'song', '...</td>\n",
       "      <td>['owen', 'benjamin', \"'s\", 'cowboy', 'song', '...</td>\n",
       "      <td>[ 0.07474209  0.08315161 -0.081609   -0.397689...</td>\n",
       "      <td>owen benjamins cowboy song goes for every coun...</td>\n",
       "      <td>[0.00418263953179121, -0.0029789397958666086, ...</td>\n",
       "    </tr>\n",
       "    <tr>\n",
       "      <th>4</th>\n",
       "      <td>&gt; \"y'all hear sun?\" by all means I live in a s...</td>\n",
       "      <td>0</td>\n",
       "      <td>['&gt;', '``', \"y'all\", 'hear', 'sun', '?', \"''\",...</td>\n",
       "      <td>['&gt;', '\"', \"y'\", 'all', 'hear', 'sun', '?', '\"...</td>\n",
       "      <td>[ 0.19263356 -0.10749349 -0.08967624 -0.271426...</td>\n",
       "      <td>yall hear sun by all means i live in a small t...</td>\n",
       "      <td>[-6.847345503047109e-05, 0.0004209601611364633...</td>\n",
       "    </tr>\n",
       "  </tbody>\n",
       "</table>\n",
       "</div>"
      ],
      "text/plain": [
       "                                             comment  hate_speech  \\\n",
       "0  A subsection of retarded Hungarians? Oh boy. b...            1   \n",
       "1  Iii. Just got off work. Foundation and groundi...            0   \n",
       "2  wow i guess cowboys are the same in every country            0   \n",
       "3  Owen Benjamin's cowboy song goes for every cou...            0   \n",
       "4  > \"y'all hear sun?\" by all means I live in a s...            0   \n",
       "\n",
       "                                              tokens  \\\n",
       "0  ['a', 'subsection', 'of', 'retarded', 'hungari...   \n",
       "1  ['iii', '.', 'just', 'got', 'off', 'work', '.'...   \n",
       "2  ['wow', 'i', 'guess', 'cowboys', 'are', 'the',...   \n",
       "3  ['owen', 'benjamin', \"'s\", 'cowboy', 'song', '...   \n",
       "4  ['>', '``', \"y'all\", 'hear', 'sun', '?', \"''\",...   \n",
       "\n",
       "                                        tokens_spacy  \\\n",
       "0  ['a', 'subsection', 'of', 'retarded', 'hungari...   \n",
       "1  ['iii', '.', 'just', 'got', 'off', 'work', '.'...   \n",
       "2  ['wow', 'i', 'guess', 'cowboys', 'are', 'the',...   \n",
       "3  ['owen', 'benjamin', \"'s\", 'cowboy', 'song', '...   \n",
       "4  ['>', '\"', \"y'\", 'all', 'hear', 'sun', '?', '\"...   \n",
       "\n",
       "                                     word2vec_vector  \\\n",
       "0  [ 0.36349716 -0.22094536  0.01051669 -0.602767...   \n",
       "1  [ 0.06504157 -0.12219669  0.10038512 -0.005708...   \n",
       "2  [ 2.92166289e-01  3.85734248e-01 -4.80327269e-...   \n",
       "3  [ 0.07474209  0.08315161 -0.081609   -0.397689...   \n",
       "4  [ 0.19263356 -0.10749349 -0.08967624 -0.271426...   \n",
       "\n",
       "                                     cleaned_comment  \\\n",
       "0  a subsection of retarded hungarians oh boy bra...   \n",
       "1  iii just got off work foundation and grounding...   \n",
       "2  wow i guess cowboys are the same in every country   \n",
       "3  owen benjamins cowboy song goes for every coun...   \n",
       "4  yall hear sun by all means i live in a small t...   \n",
       "\n",
       "                                     fasttext_vector  \n",
       "0  [0.004770048428326845, -0.03953176364302635, -...  \n",
       "1  [-0.012044071219861507, -0.011684201657772064,...  \n",
       "2  [-0.0008766286191530526, 0.0192383024841547, 0...  \n",
       "3  [0.00418263953179121, -0.0029789397958666086, ...  \n",
       "4  [-6.847345503047109e-05, 0.0004209601611364633...  "
      ]
     },
     "execution_count": 1,
     "metadata": {},
     "output_type": "execute_result"
    }
   ],
   "source": [
    "import pandas as pd\n",
    "import numpy as np\n",
    "from sklearn.feature_extraction.text import TfidfVectorizer\n",
    "from sklearn.model_selection import train_test_split\n",
    "\n",
    "df = pd.read_csv('RedditTokenized.csv')\n",
    "df.head()"
   ]
  },
  {
   "cell_type": "markdown",
   "id": "d0d284ba-3d9c-4081-92cc-4fcee2228b04",
   "metadata": {},
   "source": [
    "#### Convert Text to Numerical Format using TF-IDF:"
   ]
  },
  {
   "cell_type": "code",
   "execution_count": 2,
   "id": "e3d149ec-bd2e-4972-a990-d097e30f14aa",
   "metadata": {},
   "outputs": [],
   "source": [
    "from sklearn.feature_extraction.text import TfidfVectorizer\n",
    "\n",
    "# Define the TF-IDF vectorizer with additional parameters\n",
    "vectorizer = TfidfVectorizer(min_df=2, max_df=0.95, stop_words='english')\n",
    "\n",
    "# Drop rows with missing comments\n",
    "df = df.dropna(subset=['cleaned_comment'])\n",
    "\n",
    "# Fit and transform the text data to TF-IDF representation\n",
    "X_tfidf = vectorizer.fit_transform(df['cleaned_comment'])\n",
    "\n",
    "# Convert to DataFrame for ease of handling\n",
    "X_tfidf_df = pd.DataFrame(X_tfidf.toarray(), columns=vectorizer.get_feature_names_out())\n",
    "\n",
    "# Display the transformed data\n",
    "#print(X_tfidf_df.head())\n"
   ]
  },
  {
   "cell_type": "markdown",
   "id": "8324fe9f-91bf-4c82-82a4-b226c30b1dc0",
   "metadata": {},
   "source": [
    "### Train and Test Splitting"
   ]
  },
  {
   "cell_type": "code",
   "execution_count": 3,
   "id": "f139f2a5-21fc-4caa-b437-d236209d5bd5",
   "metadata": {},
   "outputs": [
    {
     "name": "stdout",
     "output_type": "stream",
     "text": [
      "Training data shape: (17769, 16626)\n",
      "Testing data shape: (4443, 16626)\n"
     ]
    }
   ],
   "source": [
    "# Define the target variable\n",
    "y = df['hate_speech']\n",
    "\n",
    "# Split the data\n",
    "X_train, X_test, y_train, y_test = train_test_split(X_tfidf_df, y, test_size=0.2, random_state=42)\n",
    "\n",
    "# Display the shapes of the datasets\n",
    "print(f\"Training data shape: {X_train.shape}\")\n",
    "print(f\"Testing data shape: {X_test.shape}\")"
   ]
  },
  {
   "cell_type": "code",
   "execution_count": 4,
   "id": "1e1de6a4-15bf-404f-b364-740d81d2cdac",
   "metadata": {},
   "outputs": [
    {
     "name": "stdout",
     "output_type": "stream",
     "text": [
      "Class Counts:\n",
      " hate_speech\n",
      "0    16925\n",
      "1     5287\n",
      "Name: count, dtype: int64\n",
      "Class Proportions:\n",
      " hate_speech\n",
      "0    0.761976\n",
      "1    0.238024\n",
      "Name: proportion, dtype: float64\n"
     ]
    },
    {
     "data": {
      "image/png": "[encoded data removed]",
      "text/plain": [
       "<Figure size 800x600 with 1 Axes>"
      ]
     },
     "metadata": {},
     "output_type": "display_data"
    },
    {
     "name": "stdout",
     "output_type": "stream",
     "text": [
      "The dataset is imbalanced.\n"
     ]
    }
   ],
   "source": [
    "import matplotlib.pyplot as plt\n",
    "\n",
    "hate_speech_counts = df['hate_speech'].value_counts()\n",
    "print(\"Class Counts:\\n\", hate_speech_counts)\n",
    "\n",
    "# Calculate the proportion of each class\n",
    "hate_speech_proportions = df['hate_speech'].value_counts(normalize=True)\n",
    "print(\"Class Proportions:\\n\", hate_speech_proportions)\n",
    "\n",
    "# Plot the distribution of the 'hate_speech' column\n",
    "plt.figure(figsize=(8, 6))\n",
    "hate_speech_counts.plot(kind='bar')\n",
    "plt.title('Class Distribution: Hate Speech vs Non-Hate Speech')\n",
    "plt.xlabel('Class')\n",
    "plt.ylabel('Count')\n",
    "plt.xticks([0, 1], ['Non-Hate Speech (0)', 'Hate Speech (1)'], rotation=0)\n",
    "plt.show()\n",
    "\n",
    "# Assess balance\n",
    "threshold = 0.1  # Example threshold for determining balance\n",
    "is_balanced = all(abs(hate_speech_proportions - hate_speech_proportions.mean()) < threshold)\n",
    "print(f\"The dataset is {'balanced' if is_balanced else 'imbalanced'}.\")"
   ]
  },
  {
   "cell_type": "markdown",
   "id": "217837c5-a8d2-4aa1-aba2-cab5ecec243d",
   "metadata": {},
   "source": [
    "## Improving model\n",
    "#### Techniques for Handling Imbalanced Data"
   ]
  },
  {
   "cell_type": "code",
   "execution_count": 5,
   "id": "22f169ab-d7fb-4ece-be60-47e2d19d048f",
   "metadata": {},
   "outputs": [],
   "source": [
    "from imblearn.over_sampling import SMOTE\n",
    "from collections import Counter\n",
    "import matplotlib.pyplot as plt\n"
   ]
  },
  {
   "cell_type": "markdown",
   "id": "e586a81c-8a45-466f-93d1-19c7f1a049c6",
   "metadata": {},
   "source": [
    "#### Apply SMOTE to the Training Set:\n",
    "##### Use SMOTE to generate synthetic samples for the minority class:"
   ]
  },
  {
   "cell_type": "code",
   "execution_count": 6,
   "id": "ff73b90d-5fb5-4aa8-a2d7-dd245468a2e0",
   "metadata": {},
   "outputs": [
    {
     "name": "stdout",
     "output_type": "stream",
     "text": [
      "Class distribution after applying SMOTE:\n",
      "Counter({0: 13561, 1: 13561})\n"
     ]
    }
   ],
   "source": [
    "# Initialize the SMOTE object\n",
    "smote = SMOTE(random_state=42)\n",
    "\n",
    "# Apply SMOTE to the training data\n",
    "X_train_resampled, y_train_resampled = smote.fit_resample(X_train, y_train)\n",
    "\n",
    "# Display the new class distribution\n",
    "print(\"Class distribution after applying SMOTE:\")\n",
    "print(Counter(y_train_resampled))\n"
   ]
  },
  {
   "cell_type": "markdown",
   "id": "f4816be8-72fb-4620-8d47-4f5a7627cf1c",
   "metadata": {},
   "source": [
    "#### Verify the Class Distribution:\n",
    "##### Check if the data is balanced after applying SMOTE:"
   ]
  },
  {
   "cell_type": "code",
   "execution_count": 7,
   "id": "671f428b-cab3-4b5b-926f-c7259ab75e9d",
   "metadata": {},
   "outputs": [
    {
     "name": "stdout",
     "output_type": "stream",
     "text": [
      "Class Proportions after Resampling:\n",
      "{0: 0.5, 1: 0.5}\n"
     ]
    },
    {
     "data": {
      "image/png": "[encoded data removed]",
      "text/plain": [
       "<Figure size 800x600 with 1 Axes>"
      ]
     },
     "metadata": {},
     "output_type": "display_data"
    }
   ],
   "source": [
    "# Calculate the class proportions\n",
    "total_count = sum(Counter(y_train_resampled).values())\n",
    "class_proportions = {k: v / total_count for k, v in Counter(y_train_resampled).items()}\n",
    "\n",
    "# Print class proportions\n",
    "print(\"Class Proportions after Resampling:\")\n",
    "print(class_proportions)\n",
    "\n",
    "# Visualize the class distribution\n",
    "plt.figure(figsize=(8, 6))\n",
    "plt.bar(Counter(y_train_resampled).keys(), Counter(y_train_resampled).values(), color=['blue', 'orange'])\n",
    "plt.title('Class Distribution after SMOTE Resampling')\n",
    "plt.xlabel('Class')\n",
    "plt.ylabel('Count')\n",
    "plt.xticks(list(Counter(y_train_resampled).keys()), ['Non-Hate Speech (0)', 'Hate Speech (1)'])\n",
    "plt.show()\n"
   ]
  },
  {
   "cell_type": "code",
   "execution_count": 12,
   "id": "e93a0ea5-a16f-4e9d-9f6f-2eee68e13848",
   "metadata": {},
   "outputs": [
    {
     "name": "stderr",
     "output_type": "stream",
     "text": [
      "C:\\Users\\Aman Shekhar Sachan\\AppData\\Local\\Temp\\ipykernel_5140\\3881858170.py:11: PerformanceWarning: DataFrame is highly fragmented.  This is usually the result of calling `frame.insert` many times, which has poor performance.  Consider joining all columns at once using pd.concat(axis=1) instead. To get a de-fragmented frame, use `newframe = frame.copy()`\n",
      "  chunk_df['hate_speech'] = y_train_resampled[start_idx:end_idx]\n",
      "C:\\Users\\Aman Shekhar Sachan\\AppData\\Local\\Temp\\ipykernel_5140\\3881858170.py:11: PerformanceWarning: DataFrame is highly fragmented.  This is usually the result of calling `frame.insert` many times, which has poor performance.  Consider joining all columns at once using pd.concat(axis=1) instead. To get a de-fragmented frame, use `newframe = frame.copy()`\n",
      "  chunk_df['hate_speech'] = y_train_resampled[start_idx:end_idx]\n",
      "C:\\Users\\Aman Shekhar Sachan\\AppData\\Local\\Temp\\ipykernel_5140\\3881858170.py:11: PerformanceWarning: DataFrame is highly fragmented.  This is usually the result of calling `frame.insert` many times, which has poor performance.  Consider joining all columns at once using pd.concat(axis=1) instead. To get a de-fragmented frame, use `newframe = frame.copy()`\n",
      "  chunk_df['hate_speech'] = y_train_resampled[start_idx:end_idx]\n",
      "C:\\Users\\Aman Shekhar Sachan\\AppData\\Local\\Temp\\ipykernel_5140\\3881858170.py:11: PerformanceWarning: DataFrame is highly fragmented.  This is usually the result of calling `frame.insert` many times, which has poor performance.  Consider joining all columns at once using pd.concat(axis=1) instead. To get a de-fragmented frame, use `newframe = frame.copy()`\n",
      "  chunk_df['hate_speech'] = y_train_resampled[start_idx:end_idx]\n",
      "C:\\Users\\Aman Shekhar Sachan\\AppData\\Local\\Temp\\ipykernel_5140\\3881858170.py:11: PerformanceWarning: DataFrame is highly fragmented.  This is usually the result of calling `frame.insert` many times, which has poor performance.  Consider joining all columns at once using pd.concat(axis=1) instead. To get a de-fragmented frame, use `newframe = frame.copy()`\n",
      "  chunk_df['hate_speech'] = y_train_resampled[start_idx:end_idx]\n",
      "C:\\Users\\Aman Shekhar Sachan\\AppData\\Local\\Temp\\ipykernel_5140\\3881858170.py:11: PerformanceWarning: DataFrame is highly fragmented.  This is usually the result of calling `frame.insert` many times, which has poor performance.  Consider joining all columns at once using pd.concat(axis=1) instead. To get a de-fragmented frame, use `newframe = frame.copy()`\n",
      "  chunk_df['hate_speech'] = y_train_resampled[start_idx:end_idx]\n",
      "C:\\Users\\Aman Shekhar Sachan\\AppData\\Local\\Temp\\ipykernel_5140\\3881858170.py:11: PerformanceWarning: DataFrame is highly fragmented.  This is usually the result of calling `frame.insert` many times, which has poor performance.  Consider joining all columns at once using pd.concat(axis=1) instead. To get a de-fragmented frame, use `newframe = frame.copy()`\n",
      "  chunk_df['hate_speech'] = y_train_resampled[start_idx:end_idx]\n",
      "C:\\Users\\Aman Shekhar Sachan\\AppData\\Local\\Temp\\ipykernel_5140\\3881858170.py:11: PerformanceWarning: DataFrame is highly fragmented.  This is usually the result of calling `frame.insert` many times, which has poor performance.  Consider joining all columns at once using pd.concat(axis=1) instead. To get a de-fragmented frame, use `newframe = frame.copy()`\n",
      "  chunk_df['hate_speech'] = y_train_resampled[start_idx:end_idx]\n",
      "C:\\Users\\Aman Shekhar Sachan\\AppData\\Local\\Temp\\ipykernel_5140\\3881858170.py:11: PerformanceWarning: DataFrame is highly fragmented.  This is usually the result of calling `frame.insert` many times, which has poor performance.  Consider joining all columns at once using pd.concat(axis=1) instead. To get a de-fragmented frame, use `newframe = frame.copy()`\n",
      "  chunk_df['hate_speech'] = y_train_resampled[start_idx:end_idx]\n",
      "C:\\Users\\Aman Shekhar Sachan\\AppData\\Local\\Temp\\ipykernel_5140\\3881858170.py:11: PerformanceWarning: DataFrame is highly fragmented.  This is usually the result of calling `frame.insert` many times, which has poor performance.  Consider joining all columns at once using pd.concat(axis=1) instead. To get a de-fragmented frame, use `newframe = frame.copy()`\n",
      "  chunk_df['hate_speech'] = y_train_resampled[start_idx:end_idx]\n",
      "C:\\Users\\Aman Shekhar Sachan\\AppData\\Local\\Temp\\ipykernel_5140\\3881858170.py:11: PerformanceWarning: DataFrame is highly fragmented.  This is usually the result of calling `frame.insert` many times, which has poor performance.  Consider joining all columns at once using pd.concat(axis=1) instead. To get a de-fragmented frame, use `newframe = frame.copy()`\n",
      "  chunk_df['hate_speech'] = y_train_resampled[start_idx:end_idx]\n",
      "C:\\Users\\Aman Shekhar Sachan\\AppData\\Local\\Temp\\ipykernel_5140\\3881858170.py:11: PerformanceWarning: DataFrame is highly fragmented.  This is usually the result of calling `frame.insert` many times, which has poor performance.  Consider joining all columns at once using pd.concat(axis=1) instead. To get a de-fragmented frame, use `newframe = frame.copy()`\n",
      "  chunk_df['hate_speech'] = y_train_resampled[start_idx:end_idx]\n",
      "C:\\Users\\Aman Shekhar Sachan\\AppData\\Local\\Temp\\ipykernel_5140\\3881858170.py:11: PerformanceWarning: DataFrame is highly fragmented.  This is usually the result of calling `frame.insert` many times, which has poor performance.  Consider joining all columns at once using pd.concat(axis=1) instead. To get a de-fragmented frame, use `newframe = frame.copy()`\n",
      "  chunk_df['hate_speech'] = y_train_resampled[start_idx:end_idx]\n",
      "C:\\Users\\Aman Shekhar Sachan\\AppData\\Local\\Temp\\ipykernel_5140\\3881858170.py:11: PerformanceWarning: DataFrame is highly fragmented.  This is usually the result of calling `frame.insert` many times, which has poor performance.  Consider joining all columns at once using pd.concat(axis=1) instead. To get a de-fragmented frame, use `newframe = frame.copy()`\n",
      "  chunk_df['hate_speech'] = y_train_resampled[start_idx:end_idx]\n",
      "C:\\Users\\Aman Shekhar Sachan\\AppData\\Local\\Temp\\ipykernel_5140\\3881858170.py:11: PerformanceWarning: DataFrame is highly fragmented.  This is usually the result of calling `frame.insert` many times, which has poor performance.  Consider joining all columns at once using pd.concat(axis=1) instead. To get a de-fragmented frame, use `newframe = frame.copy()`\n",
      "  chunk_df['hate_speech'] = y_train_resampled[start_idx:end_idx]\n",
      "C:\\Users\\Aman Shekhar Sachan\\AppData\\Local\\Temp\\ipykernel_5140\\3881858170.py:11: PerformanceWarning: DataFrame is highly fragmented.  This is usually the result of calling `frame.insert` many times, which has poor performance.  Consider joining all columns at once using pd.concat(axis=1) instead. To get a de-fragmented frame, use `newframe = frame.copy()`\n",
      "  chunk_df['hate_speech'] = y_train_resampled[start_idx:end_idx]\n",
      "C:\\Users\\Aman Shekhar Sachan\\AppData\\Local\\Temp\\ipykernel_5140\\3881858170.py:11: PerformanceWarning: DataFrame is highly fragmented.  This is usually the result of calling `frame.insert` many times, which has poor performance.  Consider joining all columns at once using pd.concat(axis=1) instead. To get a de-fragmented frame, use `newframe = frame.copy()`\n",
      "  chunk_df['hate_speech'] = y_train_resampled[start_idx:end_idx]\n",
      "C:\\Users\\Aman Shekhar Sachan\\AppData\\Local\\Temp\\ipykernel_5140\\3881858170.py:11: PerformanceWarning: DataFrame is highly fragmented.  This is usually the result of calling `frame.insert` many times, which has poor performance.  Consider joining all columns at once using pd.concat(axis=1) instead. To get a de-fragmented frame, use `newframe = frame.copy()`\n",
      "  chunk_df['hate_speech'] = y_train_resampled[start_idx:end_idx]\n",
      "C:\\Users\\Aman Shekhar Sachan\\AppData\\Local\\Temp\\ipykernel_5140\\3881858170.py:11: PerformanceWarning: DataFrame is highly fragmented.  This is usually the result of calling `frame.insert` many times, which has poor performance.  Consider joining all columns at once using pd.concat(axis=1) instead. To get a de-fragmented frame, use `newframe = frame.copy()`\n",
      "  chunk_df['hate_speech'] = y_train_resampled[start_idx:end_idx]\n",
      "C:\\Users\\Aman Shekhar Sachan\\AppData\\Local\\Temp\\ipykernel_5140\\3881858170.py:11: PerformanceWarning: DataFrame is highly fragmented.  This is usually the result of calling `frame.insert` many times, which has poor performance.  Consider joining all columns at once using pd.concat(axis=1) instead. To get a de-fragmented frame, use `newframe = frame.copy()`\n",
      "  chunk_df['hate_speech'] = y_train_resampled[start_idx:end_idx]\n",
      "C:\\Users\\Aman Shekhar Sachan\\AppData\\Local\\Temp\\ipykernel_5140\\3881858170.py:11: PerformanceWarning: DataFrame is highly fragmented.  This is usually the result of calling `frame.insert` many times, which has poor performance.  Consider joining all columns at once using pd.concat(axis=1) instead. To get a de-fragmented frame, use `newframe = frame.copy()`\n",
      "  chunk_df['hate_speech'] = y_train_resampled[start_idx:end_idx]\n",
      "C:\\Users\\Aman Shekhar Sachan\\AppData\\Local\\Temp\\ipykernel_5140\\3881858170.py:11: PerformanceWarning: DataFrame is highly fragmented.  This is usually the result of calling `frame.insert` many times, which has poor performance.  Consider joining all columns at once using pd.concat(axis=1) instead. To get a de-fragmented frame, use `newframe = frame.copy()`\n",
      "  chunk_df['hate_speech'] = y_train_resampled[start_idx:end_idx]\n",
      "C:\\Users\\Aman Shekhar Sachan\\AppData\\Local\\Temp\\ipykernel_5140\\3881858170.py:11: PerformanceWarning: DataFrame is highly fragmented.  This is usually the result of calling `frame.insert` many times, which has poor performance.  Consider joining all columns at once using pd.concat(axis=1) instead. To get a de-fragmented frame, use `newframe = frame.copy()`\n",
      "  chunk_df['hate_speech'] = y_train_resampled[start_idx:end_idx]\n",
      "C:\\Users\\Aman Shekhar Sachan\\AppData\\Local\\Temp\\ipykernel_5140\\3881858170.py:11: PerformanceWarning: DataFrame is highly fragmented.  This is usually the result of calling `frame.insert` many times, which has poor performance.  Consider joining all columns at once using pd.concat(axis=1) instead. To get a de-fragmented frame, use `newframe = frame.copy()`\n",
      "  chunk_df['hate_speech'] = y_train_resampled[start_idx:end_idx]\n",
      "C:\\Users\\Aman Shekhar Sachan\\AppData\\Local\\Temp\\ipykernel_5140\\3881858170.py:11: PerformanceWarning: DataFrame is highly fragmented.  This is usually the result of calling `frame.insert` many times, which has poor performance.  Consider joining all columns at once using pd.concat(axis=1) instead. To get a de-fragmented frame, use `newframe = frame.copy()`\n",
      "  chunk_df['hate_speech'] = y_train_resampled[start_idx:end_idx]\n",
      "C:\\Users\\Aman Shekhar Sachan\\AppData\\Local\\Temp\\ipykernel_5140\\3881858170.py:11: PerformanceWarning: DataFrame is highly fragmented.  This is usually the result of calling `frame.insert` many times, which has poor performance.  Consider joining all columns at once using pd.concat(axis=1) instead. To get a de-fragmented frame, use `newframe = frame.copy()`\n",
      "  chunk_df['hate_speech'] = y_train_resampled[start_idx:end_idx]\n",
      "C:\\Users\\Aman Shekhar Sachan\\AppData\\Local\\Temp\\ipykernel_5140\\3881858170.py:11: PerformanceWarning: DataFrame is highly fragmented.  This is usually the result of calling `frame.insert` many times, which has poor performance.  Consider joining all columns at once using pd.concat(axis=1) instead. To get a de-fragmented frame, use `newframe = frame.copy()`\n",
      "  chunk_df['hate_speech'] = y_train_resampled[start_idx:end_idx]\n",
      "C:\\Users\\Aman Shekhar Sachan\\AppData\\Local\\Temp\\ipykernel_5140\\3881858170.py:11: PerformanceWarning: DataFrame is highly fragmented.  This is usually the result of calling `frame.insert` many times, which has poor performance.  Consider joining all columns at once using pd.concat(axis=1) instead. To get a de-fragmented frame, use `newframe = frame.copy()`\n",
      "  chunk_df['hate_speech'] = y_train_resampled[start_idx:end_idx]\n"
     ]
    },
    {
     "name": "stdout",
     "output_type": "stream",
     "text": [
      "Data saved in chunks.\n"
     ]
    }
   ],
   "source": [
    "import pandas as pd\n",
    "\n",
    "chunk_size = 1000  # Adjust chunk size as needed\n",
    "num_chunks = int(len(X_train_resampled) / chunk_size) + 1\n",
    "\n",
    "for i in range(num_chunks):\n",
    "    start_idx = i * chunk_size\n",
    "    end_idx = min((i + 1) * chunk_size, len(X_train_resampled))\n",
    "    \n",
    "    chunk_df = pd.DataFrame(X_train_resampled[start_idx:end_idx], columns=vectorizer.get_feature_names_out())\n",
    "    chunk_df['hate_speech'] = y_train_resampled[start_idx:end_idx]\n",
    "    \n",
    "    if i == 0:\n",
    "        chunk_df.to_csv(\"balanced_train_data_chunked.csv\", index=False, mode='w')\n",
    "    else:\n",
    "        chunk_df.to_csv(\"balanced_train_data_chunked.csv\", index=False, mode='a', header=False)\n",
    "\n",
    "print(\"Data saved in chunks.\")\n"
   ]
  },
  {
   "cell_type": "code",
   "execution_count": null,
   "id": "a1be5af5-9350-4abb-850f-944fed6521dd",
   "metadata": {},
   "outputs": [],
   "source": []
  }
 ],
 "metadata": {
  "kernelspec": {
   "display_name": "Python 3 (ipykernel)",
   "language": "python",
   "name": "python3"
  },
  "language_info": {
   "codemirror_mode": {
    "name": "ipython",
    "version": 3
   },
   "file_extension": ".py",
   "mimetype": "text/x-python",
   "name": "python",
   "nbconvert_exporter": "python",
   "pygments_lexer": "ipython3",
   "version": "3.11.7"
  }
 },
 "nbformat": 4,
 "nbformat_minor": 5
}
