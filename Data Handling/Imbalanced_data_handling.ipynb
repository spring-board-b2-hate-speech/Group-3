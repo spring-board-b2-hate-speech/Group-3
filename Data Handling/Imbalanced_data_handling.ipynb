{
 "cells": [
  {
   "cell_type": "code",
   "execution_count": 1,
   "id": "5bd9fcfe-ff1d-4970-bb08-4e18d6f22357",
   "metadata": {},
   "outputs": [
    {
     "data": {
      "text/html": [
       "<div>\n",
       "<style scoped>\n",
       "    .dataframe tbody tr th:only-of-type {\n",
       "        vertical-align: middle;\n",
       "    }\n",
       "\n",
       "    .dataframe tbody tr th {\n",
       "        vertical-align: top;\n",
       "    }\n",
       "\n",
       "    .dataframe thead th {\n",
       "        text-align: right;\n",
       "    }\n",
       "</style>\n",
       "<table border=\"1\" class=\"dataframe\">\n",
       "  <thead>\n",
       "    <tr style=\"text-align: right;\">\n",
       "      <th></th>\n",
       "      <th>comment</th>\n",
       "      <th>hate_speech</th>\n",
       "      <th>lemmatized_comment</th>\n",
       "      <th>document_vector_flat</th>\n",
       "    </tr>\n",
       "  </thead>\n",
       "  <tbody>\n",
       "    <tr>\n",
       "      <th>0</th>\n",
       "      <td>subsection retarded hungarians ohh boy brace l...</td>\n",
       "      <td>1</td>\n",
       "      <td>subsection retard hungarians ohh boy brace liv...</td>\n",
       "      <td>0.014043219,-0.01809359,0.017145459,0.08062436...</td>\n",
       "    </tr>\n",
       "    <tr>\n",
       "      <th>1</th>\n",
       "      <td>hiii just got work Foundation and grounding ma...</td>\n",
       "      <td>0</td>\n",
       "      <td>hiii just get work Foundation and ground mainl...</td>\n",
       "      <td>-0.0030388932,-0.035133556,0.020659983,0.07383...</td>\n",
       "    </tr>\n",
       "    <tr>\n",
       "      <th>2</th>\n",
       "      <td>wow guess soyboys every country</td>\n",
       "      <td>0</td>\n",
       "      <td>wow guess soyboys every country</td>\n",
       "      <td>0.017362628,0.005587179,0.0297773,0.109146975,...</td>\n",
       "    </tr>\n",
       "    <tr>\n",
       "      <th>3</th>\n",
       "      <td>owen benjamins soyboy song goes every country ...</td>\n",
       "      <td>0</td>\n",
       "      <td>owen benjamins soyboy song go every country amaze</td>\n",
       "      <td>0.018085241,0.0011954829,2.8959475e-05,0.07601...</td>\n",
       "    </tr>\n",
       "    <tr>\n",
       "      <th>4</th>\n",
       "      <td>yall hear sumn means live small town rn for w...</td>\n",
       "      <td>0</td>\n",
       "      <td>yall hear sumn mean live small town rn for wor...</td>\n",
       "      <td>0.023993038,-0.00060867134,0.005239945,0.05989...</td>\n",
       "    </tr>\n",
       "  </tbody>\n",
       "</table>\n",
       "</div>"
      ],
      "text/plain": [
       "                                             comment  hate_speech  \\\n",
       "0  subsection retarded hungarians ohh boy brace l...            1   \n",
       "1  hiii just got work Foundation and grounding ma...            0   \n",
       "2                    wow guess soyboys every country            0   \n",
       "3  owen benjamins soyboy song goes every country ...            0   \n",
       "4   yall hear sumn means live small town rn for w...            0   \n",
       "\n",
       "                                  lemmatized_comment  \\\n",
       "0  subsection retard hungarians ohh boy brace liv...   \n",
       "1  hiii just get work Foundation and ground mainl...   \n",
       "2                    wow guess soyboys every country   \n",
       "3  owen benjamins soyboy song go every country amaze   \n",
       "4  yall hear sumn mean live small town rn for wor...   \n",
       "\n",
       "                                document_vector_flat  \n",
       "0  0.014043219,-0.01809359,0.017145459,0.08062436...  \n",
       "1  -0.0030388932,-0.035133556,0.020659983,0.07383...  \n",
       "2  0.017362628,0.005587179,0.0297773,0.109146975,...  \n",
       "3  0.018085241,0.0011954829,2.8959475e-05,0.07601...  \n",
       "4  0.023993038,-0.00060867134,0.005239945,0.05989...  "
      ]
     },
     "execution_count": 1,
     "metadata": {},
     "output_type": "execute_result"
    }
   ],
   "source": [
    "import pandas as pd\n",
    "import numpy as np\n",
    "from sklearn.feature_extraction.text import TfidfVectorizer\n",
    "from sklearn.model_selection import train_test_split\n",
    "\n",
    "df = pd.read_csv('Reddit_Encoded.csv')\n",
    "df.head()"
   ]
  },
  {
   "cell_type": "markdown",
   "id": "8324fe9f-91bf-4c82-82a4-b226c30b1dc0",
   "metadata": {},
   "source": [
    "### Train and Test Splitting"
   ]
  },
  {
   "cell_type": "code",
   "execution_count": 2,
   "id": "d92245d5-2b5f-4446-8b61-2879e2c085e4",
   "metadata": {},
   "outputs": [
    {
     "name": "stdout",
     "output_type": "stream",
     "text": [
      "X_train shape: (17768, 2)\n",
      "X_test shape: (4443, 2)\n",
      "y_train shape: (17768,)\n",
      "y_test shape: (4443,)\n",
      "X_train_vectors shape: (17768, 300)\n",
      "X_test_vectors shape: (4443, 300)\n"
     ]
    },
    {
     "name": "stderr",
     "output_type": "stream",
     "text": [
      "C:\\Users\\Aman Shekhar Sachan\\AppData\\Local\\Temp\\ipykernel_15436\\1435646104.py:6: SettingWithCopyWarning: \n",
      "A value is trying to be set on a copy of a slice from a DataFrame.\n",
      "Try using .loc[row_indexer,col_indexer] = value instead\n",
      "\n",
      "See the caveats in the documentation: https://pandas.pydata.org/pandas-docs/stable/user_guide/indexing.html#returning-a-view-versus-a-copy\n",
      "  X['document_vector_flat'] = X['document_vector_flat'].apply(lambda x: np.array([float(i) for i in x.split(',')]))\n"
     ]
    }
   ],
   "source": [
    "# Extract features and labels\n",
    "X = df[['lemmatized_comment', 'document_vector_flat']]\n",
    "y = df['hate_speech']\n",
    "\n",
    "# Convert document vectors to numerical form\n",
    "X['document_vector_flat'] = X['document_vector_flat'].apply(lambda x: np.array([float(i) for i in x.split(',')]))\n",
    "\n",
    "# Split the data\n",
    "X_train, X_test, y_train, y_test = train_test_split(X, y, test_size=0.2, random_state=42, stratify=y)\n",
    "\n",
    "# Handle document vectors separately\n",
    "X_train_vectors = np.stack(X_train['document_vector_flat'].values)\n",
    "X_test_vectors = np.stack(X_test['document_vector_flat'].values)\n",
    "\n",
    "# Optional: Combine features if needed\n",
    "combined_train_features = [X_train['lemmatized_comment'].values, X_train_vectors]\n",
    "combined_test_features = [X_test['lemmatized_comment'].values, X_test_vectors]\n",
    "\n",
    "# Print shapes to confirm\n",
    "print(\"X_train shape:\", X_train.shape)\n",
    "print(\"X_test shape:\", X_test.shape)\n",
    "print(\"y_train shape:\", y_train.shape)\n",
    "print(\"y_test shape:\", y_test.shape)\n",
    "print(\"X_train_vectors shape:\", X_train_vectors.shape)\n",
    "print(\"X_test_vectors shape:\", X_test_vectors.shape)\n"
   ]
  },
  {
   "cell_type": "markdown",
   "id": "e586a81c-8a45-466f-93d1-19c7f1a049c6",
   "metadata": {},
   "source": [
    "#### Apply SMOTE to the Training Set:\n",
    "##### Use SMOTE to generate synthetic samples for the minority class:"
   ]
  },
  {
   "cell_type": "markdown",
   "id": "f4816be8-72fb-4620-8d47-4f5a7627cf1c",
   "metadata": {},
   "source": [
    "#### Verify the Class Distribution:\n",
    "##### Check if the data is balanced after applying SMOTE:"
   ]
  },
  {
   "cell_type": "code",
   "execution_count": 8,
   "id": "b0ef022a-6623-4014-b957-5e2e1ef17f86",
   "metadata": {},
   "outputs": [
    {
     "name": "stdout",
     "output_type": "stream",
     "text": [
      "Class distribution after applying SMOTE:\n",
      "Counter({0: 13539, 1: 13539})\n"
     ]
    },
    {
     "data": {
      "image/png": "[encoded data removed]",
      "text/plain": [
       "<Figure size 800x600 with 1 Axes>"
      ]
     },
     "metadata": {},
     "output_type": "display_data"
    },
    {
     "name": "stdout",
     "output_type": "stream",
     "text": [
      "X_train_resampled_vectors shape: (27078, 300)\n",
      "y_train_resampled shape: (27078,)\n"
     ]
    }
   ],
   "source": [
    "import matplotlib.pyplot as plt\n",
    "from imblearn.over_sampling import SMOTE\n",
    "from collections import Counter\n",
    "\n",
    "# Initialize SMOTE\n",
    "smote = SMOTE(random_state=42)\n",
    "\n",
    "# Apply SMOTE to the training data\n",
    "X_train_resampled_vectors, y_train_resampled = smote.fit_resample(X_train_vectors, y_train)\n",
    "\n",
    "# Display the new class distribution after applying SMOTE\n",
    "print(\"Class distribution after applying SMOTE:\")\n",
    "print(Counter(y_train_resampled))\n",
    "\n",
    "# Optional: Plot the new distribution\n",
    "plt.figure(figsize=(8, 6))\n",
    "pd.Series(y_train_resampled).value_counts().plot(kind='bar')\n",
    "plt.title('Class Distribution after SMOTE')\n",
    "plt.xlabel('Class')\n",
    "plt.ylabel('Count')\n",
    "plt.xticks([0, 1], ['Non-Hate Speech (0)', 'Hate Speech (1)'], rotation=0)\n",
    "plt.show()\n",
    "\n",
    "# Print shapes to confirm\n",
    "print(\"X_train_resampled_vectors shape:\", X_train_resampled_vectors.shape)\n",
    "print(\"y_train_resampled shape:\", y_train_resampled.shape)\n"
   ]
  },
  {
   "cell_type": "code",
   "execution_count": 9,
   "id": "a1be5af5-9350-4abb-850f-944fed6521dd",
   "metadata": {},
   "outputs": [
    {
     "name": "stdout",
     "output_type": "stream",
     "text": [
      "Train and test data saved successfully.\n"
     ]
    }
   ],
   "source": [
    "import pandas as pd\n",
    "import numpy as np\n",
    "\n",
    "# Assuming you have already applied SMOTE and have X_train_resampled_vectors, y_train_resampled, X_test_vectors, y_test\n",
    "\n",
    "# Convert X_train_resampled_vectors and X_test_vectors back to DataFrame format if needed\n",
    "X_train_resampled_df = pd.DataFrame(X_train_resampled_vectors, columns=[f'vector_{i+1}' for i in range(X_train_resampled_vectors.shape[1])])\n",
    "X_test_df = pd.DataFrame(X_test_vectors, columns=[f'vector_{i+1}' for i in range(X_test_vectors.shape[1])])\n",
    "\n",
    "# Concatenate X_train_resampled_df with lemmatized_comment and save as train_data.csv\n",
    "X_train_resampled_df = pd.concat([X_train_resampled_df, X_train['lemmatized_comment'].reset_index(drop=True)], axis=1)\n",
    "train_data = pd.concat([X_train_resampled_df, y_train_resampled.reset_index(drop=True)], axis=1)\n",
    "train_data.to_csv('train.csv', index=False)\n",
    "\n",
    "# Concatenate X_test_df with lemmatized_comment and save as test_data.csv\n",
    "X_test_df = pd.concat([X_test_df, X_test['lemmatized_comment'].reset_index(drop=True)], axis=1)\n",
    "test_data = pd.concat([X_test_df, y_test.reset_index(drop=True)], axis=1)\n",
    "test_data.to_csv('test.csv', index=False)\n",
    "\n",
    "print(\"Train and test data saved successfully.\")\n"
   ]
  },
  {
   "cell_type": "code",
   "execution_count": null,
   "id": "7aee6dd8-9e30-40d5-b232-e20fa9a81eb4",
   "metadata": {},
   "outputs": [],
   "source": []
  }
 ],
 "metadata": {
  "kernelspec": {
   "display_name": "Python 3 (ipykernel)",
   "language": "python",
   "name": "python3"
  },
  "language_info": {
   "codemirror_mode": {
    "name": "ipython",
    "version": 3
   },
   "file_extension": ".py",
   "mimetype": "text/x-python",
   "name": "python",
   "nbconvert_exporter": "python",
   "pygments_lexer": "ipython3",
   "version": "3.11.7"
  }
 },
 "nbformat": 4,
 "nbformat_minor": 5
}
