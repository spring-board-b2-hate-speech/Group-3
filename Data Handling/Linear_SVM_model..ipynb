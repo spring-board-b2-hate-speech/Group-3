{
 "cells": [
  {
   "cell_type": "code",
   "execution_count": 1,
   "id": "7f9ab425-c48b-43fe-b586-e361fada7b83",
   "metadata": {},
   "outputs": [],
   "source": [
    "import pandas as pd\n",
    "from sklearn.linear_model import SGDClassifier\n",
    "from sklearn.preprocessing import StandardScaler\n",
    "from sklearn.metrics import roc_auc_score, classification_report\n",
    "from sklearn.utils.class_weight import compute_class_weight\n",
    "import numpy as np\n",
    "from sklearn.model_selection import train_test_split\n",
    "\n",
    "\n",
    "# Define the chunk size\n",
    "chunk_size = 1000\n",
    "file_path = \"balanced_train_data_chunked.csv\"\n",
    "\n",
    "# Initialize the model\n",
    "svm_model = SGDClassifier(loss='hinge', max_iter=1000, tol=1e-3)\n",
    "\n",
    "# Initialize StandardScaler for normalization\n",
    "scaler = StandardScaler()\n"
   ]
  },
  {
   "cell_type": "code",
   "execution_count": 2,
   "id": "5b629c59-f338-4cf0-848e-b89db5eb126a",
   "metadata": {},
   "outputs": [],
   "source": [
    "\n",
    "# Read the first chunk to setup the validation set\n",
    "first_chunk = pd.read_csv(file_path, chunksize=chunk_size).__next__()\n",
    "\n",
    "# Split the first chunk into train and validation sets\n",
    "X = first_chunk.drop(columns=['hate_speech'])\n",
    "y = first_chunk['hate_speech']\n",
    "\n",
    "X_train, X_val, y_train, y_val = train_test_split(X, y, test_size=0.2, random_state=42, stratify=y)\n"
   ]
  },
  {
   "cell_type": "code",
   "execution_count": 3,
   "id": "a8ae6483-1557-41a2-bafc-0964f42515e4",
   "metadata": {},
   "outputs": [],
   "source": [
    "# Define class weights manually\n",
    "class_weights = compute_class_weight(class_weight='balanced', classes=[0, 1], y=y_train)\n",
    "class_weight_dict = {0: class_weights[0], 1: class_weights[1]}\n",
    "\n",
    "# Train the scaler on the initial training set\n",
    "scaler.partial_fit(X_train)\n",
    "\n",
    "# Initialize empty arrays to store the validation data\n",
    "X_val_full = X_val\n",
    "y_val_full = y_val\n"
   ]
  },
  {
   "cell_type": "code",
   "execution_count": 4,
   "id": "ac869341-4efc-443e-9858-a149b26108b4",
   "metadata": {},
   "outputs": [],
   "source": [
    "\n",
    "\n",
    "# Train the model incrementally on each chunk\n",
    "first_chunk_flag = True\n",
    "for chunk in pd.read_csv(file_path, chunksize=chunk_size):\n",
    "    X_chunk = chunk.drop(columns=['hate_speech'])\n",
    "    y_chunk = chunk['hate_speech']\n",
    "    \n",
    "    # Exclude the first chunk as it is already used for splitting\n",
    "    if first_chunk_flag:\n",
    "        first_chunk_flag = False\n",
    "        continue\n",
    "    \n",
    "    # Scale the data using the partial fit scaler\n",
    "    scaler.partial_fit(X_chunk)\n",
    "    X_chunk_scaled = scaler.transform(X_chunk)\n",
    "    \n",
    "    # Compute sample weights for the class imbalance\n",
    "    sample_weights = np.array([class_weight_dict[label] for label in y_chunk])\n",
    "    \n",
    "    # Incrementally train the SVM model\n",
    "    svm_model.partial_fit(X_chunk_scaled, y_chunk, classes=[0, 1], sample_weight=sample_weights)\n",
    "\n"
   ]
  },
  {
   "cell_type": "code",
   "execution_count": 6,
   "id": "a51f4e88-2670-4b5b-ac2b-dbf34bf53e70",
   "metadata": {},
   "outputs": [
    {
     "name": "stdout",
     "output_type": "stream",
     "text": [
      "Classification Report:\n",
      "                 precision    recall  f1-score   support\n",
      "\n",
      "Non-Hate Speech       0.89      0.60      0.72       154\n",
      "    Hate Speech       0.36      0.76      0.49        46\n",
      "\n",
      "       accuracy                           0.64       200\n",
      "      macro avg       0.63      0.68      0.61       200\n",
      "   weighted avg       0.77      0.64      0.67       200\n",
      "\n",
      "ROC-AUC Score: 0.7586109542631281\n"
     ]
    }
   ],
   "source": [
    "# Load the entire validation set if not too large\n",
    "X_val_full_scaled = scaler.transform(X_val_full)\n",
    "\n",
    "# Predict and evaluate the model\n",
    "y_pred_proba = svm_model.decision_function(X_val_full_scaled)\n",
    "auc_score = roc_auc_score(y_val_full, y_pred_proba)\n",
    "\n",
    "# Generate and print the classification report\n",
    "y_pred = svm_model.predict(X_val_full_scaled)\n",
    "report = classification_report(y_val_full, y_pred, target_names=['Non-Hate Speech', 'Hate Speech'])\n",
    "print(\"Classification Report:\")\n",
    "print(report)\n",
    "print(f\"ROC-AUC Score: {auc_score}\")\n",
    "\n"
   ]
  },
  {
   "cell_type": "code",
   "execution_count": null,
   "id": "34ae7656-e955-4fe5-b66b-87f6c9de59ad",
   "metadata": {},
   "outputs": [],
   "source": []
  }
 ],
 "metadata": {
  "kernelspec": {
   "display_name": "Python 3 (ipykernel)",
   "language": "python",
   "name": "python3"
  },
  "language_info": {
   "codemirror_mode": {
    "name": "ipython",
    "version": 3
   },
   "file_extension": ".py",
   "mimetype": "text/x-python",
   "name": "python",
   "nbconvert_exporter": "python",
   "pygments_lexer": "ipython3",
   "version": "3.11.7"
  }
 },
 "nbformat": 4,
 "nbformat_minor": 5
}
