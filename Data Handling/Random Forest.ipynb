{
 "cells": [
  {
   "cell_type": "code",
   "execution_count": 1,
   "id": "497ffc56-ad77-4ba6-aa81-fda357e0a832",
   "metadata": {},
   "outputs": [],
   "source": [
    "import pandas as pd\n",
    "from sklearn.model_selection import train_test_split, GridSearchCV,RandomizedSearchCV\n",
    "from sklearn.preprocessing import StandardScaler\n",
    "from sklearn.linear_model import LogisticRegression\n",
    "from sklearn.ensemble import RandomForestClassifier\n",
    "from sklearn.metrics import classification_report,roc_auc_score"
   ]
  },
  {
   "cell_type": "code",
   "execution_count": 2,
   "id": "e68d2dcb-a2f3-4fe0-b1ea-55b0a29f4a38",
   "metadata": {},
   "outputs": [],
   "source": [
    "\n",
    "# Define the chunk size\n",
    "chunk_size = 1000\n",
    "file_path = \"balanced_train_data_chunked.csv\"\n",
    "\n",
    "# Initialize an empty list to store the data\n",
    "data_chunks = []\n",
    "\n",
    "# Load data in chunks\n",
    "for chunk in pd.read_csv(file_path, chunksize=chunk_size):\n",
    "    data_chunks.append(chunk)\n",
    "\n",
    "# Combine the chunks into a single DataFrame\n",
    "balanced_train_data = pd.concat(data_chunks, ignore_index=True)\n"
   ]
  },
  {
   "cell_type": "code",
   "execution_count": 3,
   "id": "340a2103-7cf1-436e-8ed7-574b2014c5b9",
   "metadata": {},
   "outputs": [],
   "source": [
    "# Separate features (X) and target (y)\n",
    "X = balanced_train_data.drop(columns=['hate_speech'])\n",
    "y = balanced_train_data['hate_speech']\n"
   ]
  },
  {
   "cell_type": "code",
   "execution_count": 4,
   "id": "fd179d1d-dd05-49ec-9548-2635efa6214b",
   "metadata": {},
   "outputs": [],
   "source": [
    "# Split the data into train and validation sets\n",
    "X_train, X_val, y_train, y_val = train_test_split(X, y, test_size=0.2, random_state=42)\n"
   ]
  },
  {
   "cell_type": "markdown",
   "id": "489c4e3b-1aac-4313-a274-d9c2237e0219",
   "metadata": {},
   "source": [
    "## Random Forest Model"
   ]
  },
  {
   "cell_type": "code",
   "execution_count": 5,
   "id": "15cdac08-961e-4796-b7ac-64be771e05fd",
   "metadata": {},
   "outputs": [
    {
     "name": "stdout",
     "output_type": "stream",
     "text": [
      "Random Forest Performance:\n",
      "              precision    recall  f1-score   support\n",
      "\n",
      "           0       0.94      0.93      0.94      2699\n",
      "           1       0.93      0.94      0.94      2726\n",
      "\n",
      "    accuracy                           0.94      5425\n",
      "   macro avg       0.94      0.94      0.94      5425\n",
      "weighted avg       0.94      0.94      0.94      5425\n",
      "\n",
      "ROC-AUC Score: 0.9363828536804887\n"
     ]
    }
   ],
   "source": [
    "\n",
    "# Initialize and train Random Forest model\n",
    "rf_clf = RandomForestClassifier(n_estimators=100, class_weight='balanced')\n",
    "rf_clf.fit(X_train, y_train)\n",
    "\n",
    "# Make predictions\n",
    "y_pred_rf = rf_clf.predict(X_val)\n",
    "\n",
    "# Evaluate the model\n",
    "print(\"Random Forest Performance:\")\n",
    "print(classification_report(y_val, y_pred_rf))\n",
    "print(\"ROC-AUC Score:\", roc_auc_score(y_val, y_pred_rf))\n"
   ]
  },
  {
   "cell_type": "code",
   "execution_count": 6,
   "id": "f4edd6ad-e1be-40f7-99b2-dedbfef7d5da",
   "metadata": {},
   "outputs": [],
   "source": [
    "import warnings\n",
    "warnings.filterwarnings('ignore')"
   ]
  },
  {
   "cell_type": "markdown",
   "id": "623f56db-7ceb-4634-a8b9-dbc3229db00d",
   "metadata": {},
   "source": [
    "#### Hyperparameter tuning"
   ]
  },
  {
   "cell_type": "code",
   "execution_count": 7,
   "id": "870e8728-84e5-4049-9622-a0f7cd2027c0",
   "metadata": {},
   "outputs": [],
   "source": [
    "# Initialize and define the parameter grid for Random Forest\n",
    "rf_clf = RandomForestClassifier(class_weight='balanced', random_state=42, n_jobs=-1)\n",
    "param_grid = {\n",
    "    'n_estimators': [100, 200, 300],\n",
    "    'max_depth': [10, 20, 30],\n",
    "    'min_samples_split': [2, 5, 10]\n",
    "}\n",
    "\n",
    "# Batch size and number of batches\n",
    "batch_size = 1000\n",
    "num_batches = len(X_train) // batch_size + 1  # Adjust to cover all samples\n",
    "\n",
    "best_score = -1\n",
    "best_params = None\n",
    "best_model = None"
   ]
  },
  {
   "cell_type": "code",
   "execution_count": 8,
   "id": "e7f657bb-d161-4842-86f7-50180b302ef3",
   "metadata": {},
   "outputs": [
    {
     "name": "stdout",
     "output_type": "stream",
     "text": [
      "Best parameters found:  {'max_depth': 10, 'min_samples_split': 5, 'n_estimators': 300}\n",
      "Best ROC-AUC score:  0.9016380763736628\n"
     ]
    }
   ],
   "source": [
    "# Perform batched GridSearchCV\n",
    "for i in range(num_batches):\n",
    "    start_idx = i * batch_size\n",
    "    end_idx = min((i + 1) * batch_size, len(X_train))\n",
    "    \n",
    "    X_batch = X_train.iloc[start_idx:end_idx]\n",
    "    y_batch = y_train.iloc[start_idx:end_idx]\n",
    "    \n",
    "    grid_search = GridSearchCV(estimator=rf_clf, param_grid=param_grid, cv=3, scoring='roc_auc', n_jobs=-1)\n",
    "    grid_search.fit(X_batch, y_batch)\n",
    "    \n",
    "    if grid_search.best_score_ > best_score:\n",
    "        best_score = grid_search.best_score_\n",
    "        best_params = grid_search.best_params_\n",
    "        best_model = grid_search.best_estimator_\n",
    "\n",
    "print(\"Best parameters found: \", best_params)\n",
    "print(\"Best ROC-AUC score: \", best_score)\n",
    "\n"
   ]
  },
  {
   "cell_type": "code",
   "execution_count": 9,
   "id": "151cecba-1cdf-40d9-ad93-03e8e2f79f4c",
   "metadata": {},
   "outputs": [
    {
     "name": "stdout",
     "output_type": "stream",
     "text": [
      "Validation ROC-AUC Score: 0.7725966819590527\n",
      "Validation Classification Report:\n",
      "                 precision    recall  f1-score   support\n",
      "\n",
      "Not Hate Speech       0.67      0.91      0.77      2699\n",
      "    Hate Speech       0.86      0.56      0.68      2726\n",
      "\n",
      "       accuracy                           0.74      5425\n",
      "      macro avg       0.77      0.74      0.73      5425\n",
      "   weighted avg       0.77      0.74      0.73      5425\n",
      "\n"
     ]
    }
   ],
   "source": [
    "# Evaluate on validation set\n",
    "X_val_scaled = StandardScaler().fit_transform(X_val)  # Assuming X_val fits in memory\n",
    "y_pred_proba = best_model.predict_proba(X_val_scaled)[:, 1]\n",
    "y_pred = best_model.predict(X_val_scaled)\n",
    "\n",
    "roc_auc = roc_auc_score(y_val, y_pred_proba)\n",
    "report = classification_report(y_val, y_pred, target_names=['Not Hate Speech', 'Hate Speech'])\n",
    "\n",
    "print(f\"Validation ROC-AUC Score: {roc_auc}\")\n",
    "print(f\"Validation Classification Report:\\n{report}\")"
   ]
  },
  {
   "cell_type": "code",
   "execution_count": null,
   "id": "1e410f73-7b4a-4017-bf1d-3cb2b0b17ed2",
   "metadata": {},
   "outputs": [],
   "source": []
  }
 ],
 "metadata": {
  "kernelspec": {
   "display_name": "Python 3 (ipykernel)",
   "language": "python",
   "name": "python3"
  },
  "language_info": {
   "codemirror_mode": {
    "name": "ipython",
    "version": 3
   },
   "file_extension": ".py",
   "mimetype": "text/x-python",
   "name": "python",
   "nbconvert_exporter": "python",
   "pygments_lexer": "ipython3",
   "version": "3.11.7"
  }
 },
 "nbformat": 4,
 "nbformat_minor": 5
}
