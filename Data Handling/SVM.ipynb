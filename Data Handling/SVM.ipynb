{
 "cells": [
  {
   "cell_type": "code",
   "execution_count": 16,
   "id": "74fa2f46-6309-4fae-b177-7830ca561b8a",
   "metadata": {},
   "outputs": [
    {
     "name": "stderr",
     "output_type": "stream",
     "text": [
      "C:\\Users\\Aman Shekhar Sachan\\AppData\\Local\\Temp\\ipykernel_3448\\3536910836.py:8: DtypeWarning: Columns (300) have mixed types. Specify dtype option on import or set low_memory=False.\n",
      "  train_data = pd.read_csv('train.csv')\n"
     ]
    }
   ],
   "source": [
    "import pandas as pd\n",
    "import numpy as np\n",
    "from sklearn.feature_extraction.text import TfidfVectorizer\n",
    "from sklearn.metrics import classification_report, accuracy_score\n",
    "from sklearn.model_selection import GridSearchCV, train_test_split\n",
    "\n",
    "# Load the balanced training data and test data\n",
    "train_data = pd.read_csv('train.csv')\n",
    "test_data = pd.read_csv('test.csv')\n"
   ]
  },
  {
   "cell_type": "code",
   "execution_count": 14,
   "id": "a335c420-84b6-48eb-a2b4-2b6394f538ec",
   "metadata": {},
   "outputs": [],
   "source": [
    "# Ensure text column is string type and handle missing values\n",
    "train_data['lemmatized_comment'] = train_data['lemmatized_comment'].fillna('').astype(str)\n",
    "test_data['lemmatized_comment'] = test_data['lemmatized_comment'].fillna('').astype(str)\n",
    "\n",
    "# Drop rows with empty text data\n",
    "train_data = train_data[train_data['lemmatized_comment'].str.strip() != '']\n",
    "test_data = test_data[test_data['lemmatized_comment'].str.strip() != '']\n",
    "\n",
    "# Separate features and labels\n",
    "X_train_text = train_data['lemmatized_comment']\n",
    "y_train = train_data['hate_speech']\n",
    "\n",
    "X_test_text = test_data['lemmatized_comment']\n",
    "y_test = test_data['hate_speech']\n"
   ]
  },
  {
   "cell_type": "code",
   "execution_count": 17,
   "id": "9960d4af-5884-4994-b4cd-5c49997e386a",
   "metadata": {},
   "outputs": [],
   "source": [
    "# Use TfidfVectorizer to transform text data into feature vectors\n",
    "vectorizer = TfidfVectorizer(max_features=5000, stop_words='english', min_df=1)\n",
    "X_train = vectorizer.fit_transform(X_train_text)\n",
    "X_test = vectorizer.transform(X_test_text)\n",
    "\n",
    "# Initialize the SVM model\n",
    "svm_model = SVC(random_state=42)\n"
   ]
  },
  {
   "cell_type": "code",
   "execution_count": 20,
   "id": "e41f5c22-01d6-45d1-89e1-61340d324c25",
   "metadata": {},
   "outputs": [],
   "source": [
    "# Parameter grid for hyperparameter tuning\n",
    "param_grid = {\n",
    "    'C': [0.1, 1, 10, 100],\n",
    "    'kernel': ['rbf'],\n",
    "    'gamma': ['scale', 'auto']\n",
    "}\n",
    "\n",
    "# Function to tune hyperparameters\n",
    "def tune_hyperparameters(model, param_grid, X_train, y_train):\n",
    "    print(\"\\n--- Tuning SVM ---\")\n",
    "    try:\n",
    "        grid_search = GridSearchCV(model, param_grid, cv=5, scoring='accuracy', n_jobs=-1)\n",
    "        grid_search.fit(X_train, y_train)\n",
    "        print(f\"Best parameters for SVM: {grid_search.best_params_}\")\n",
    "        return grid_search.best_estimator_\n",
    "    except Exception as e:\n",
    "        print(f\"Error tuning SVM: {e}\")\n",
    "        return model\n",
    "\n"
   ]
  },
  {
   "cell_type": "code",
   "execution_count": 21,
   "id": "5d66d03d-eedc-4a31-971c-200474e736f1",
   "metadata": {},
   "outputs": [
    {
     "name": "stdout",
     "output_type": "stream",
     "text": [
      "\n",
      "--- Tuning SVM ---\n",
      "Best parameters for SVM: {'C': 1, 'gamma': 'scale', 'kernel': 'rbf'}\n",
      "Classification Report:\n",
      "              precision    recall  f1-score   support\n",
      "\n",
      "           0       0.90      0.97      0.94      3386\n",
      "           1       0.88      0.67      0.76      1057\n",
      "\n",
      "    accuracy                           0.90      4443\n",
      "   macro avg       0.89      0.82      0.85      4443\n",
      "weighted avg       0.90      0.90      0.89      4443\n",
      "\n",
      "Accuracy: 0.8983\n"
     ]
    }
   ],
   "source": [
    "# Tune the hyperparameters for SVM\n",
    "tuned_svm_model = tune_hyperparameters(svm_model, param_grid, X_train, y_train)\n",
    "\n",
    "# Train the SVM model with the best parameters\n",
    "tuned_svm_model.fit(X_train, y_train)\n",
    "\n",
    "# Predict on the test set\n",
    "y_pred = tuned_svm_model.predict(X_test)\n",
    "\n",
    "# Display the classification report\n",
    "print(\"Classification Report:\")\n",
    "print(classification_report(y_test, y_pred))\n",
    "\n",
    "# Display the accuracy score\n",
    "accuracy = accuracy_score(y_test, y_pred)\n",
    "print(f\"Accuracy: {accuracy:.4f}\")\n"
   ]
  },
  {
   "cell_type": "code",
   "execution_count": null,
   "id": "222c1a66-4a71-4a37-aad9-31f837ee40d7",
   "metadata": {},
   "outputs": [],
   "source": []
  }
 ],
 "metadata": {
  "kernelspec": {
   "display_name": "Python 3 (ipykernel)",
   "language": "python",
   "name": "python3"
  },
  "language_info": {
   "codemirror_mode": {
    "name": "ipython",
    "version": 3
   },
   "file_extension": ".py",
   "mimetype": "text/x-python",
   "name": "python",
   "nbconvert_exporter": "python",
   "pygments_lexer": "ipython3",
   "version": "3.11.7"
  }
 },
 "nbformat": 4,
 "nbformat_minor": 5
}
