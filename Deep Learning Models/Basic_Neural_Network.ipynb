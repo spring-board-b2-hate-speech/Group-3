{
  "nbformat": 4,
  "nbformat_minor": 0,
  "metadata": {
    "colab": {
      "provenance": []
    },
    "kernelspec": {
      "name": "python3",
      "display_name": "Python 3"
    },
    "language_info": {
      "name": "python"
    }
  },
  "cells": [
    {
      "cell_type": "code",
      "execution_count": 1,
      "metadata": {
        "colab": {
          "base_uri": "https://localhost:8080/"
        },
        "id": "SR8MTGcBLtom",
        "outputId": "84437367-325c-4f30-c0d8-2d120315f0c7"
      },
      "outputs": [
        {
          "output_type": "stream",
          "name": "stdout",
          "text": [
            "Requirement already satisfied: imblearn in /usr/local/lib/python3.10/dist-packages (0.0)\n",
            "Requirement already satisfied: imbalanced-learn in /usr/local/lib/python3.10/dist-packages (from imblearn) (0.10.1)\n",
            "Requirement already satisfied: numpy>=1.17.3 in /usr/local/lib/python3.10/dist-packages (from imbalanced-learn->imblearn) (1.25.2)\n",
            "Requirement already satisfied: scipy>=1.3.2 in /usr/local/lib/python3.10/dist-packages (from imbalanced-learn->imblearn) (1.11.4)\n",
            "Requirement already satisfied: scikit-learn>=1.0.2 in /usr/local/lib/python3.10/dist-packages (from imbalanced-learn->imblearn) (1.2.2)\n",
            "Requirement already satisfied: joblib>=1.1.1 in /usr/local/lib/python3.10/dist-packages (from imbalanced-learn->imblearn) (1.4.2)\n",
            "Requirement already satisfied: threadpoolctl>=2.0.0 in /usr/local/lib/python3.10/dist-packages (from imbalanced-learn->imblearn) (3.5.0)\n"
          ]
        }
      ],
      "source": [
        "!pip install imblearn"
      ]
    },
    {
      "cell_type": "code",
      "source": [
        "import pandas as pd\n",
        "import numpy as np\n",
        "\n",
        "from sklearn.model_selection import train_test_split\n",
        "from imblearn.over_sampling import SMOTE\n",
        "\n",
        "from keras.models import Sequential\n",
        "from keras.layers import Dense, Dropout, Flatten\n",
        "\n",
        "import matplotlib.pyplot as plt\n",
        "from sklearn.metrics import confusion_matrix, ConfusionMatrixDisplay\n",
        "from sklearn.metrics import accuracy_score, precision_score, recall_score, f1_score\n",
        "\n",
        "from sklearn.metrics import precision_recall_curve\n",
        "from keras.callbacks import EarlyStopping, ReduceLROnPlateau"
      ],
      "metadata": {
        "id": "H2aP04BELyjT"
      },
      "execution_count": 2,
      "outputs": []
    },
    {
      "cell_type": "code",
      "source": [
        "# Mount Google Drive to access files\n",
        "from google.colab import drive\n",
        "drive.mount('/content/drive')"
      ],
      "metadata": {
        "colab": {
          "base_uri": "https://localhost:8080/"
        },
        "id": "n52rtnpgLytp",
        "outputId": "bcbd0f6a-045f-461c-b998-49e7dbc59f53"
      },
      "execution_count": 3,
      "outputs": [
        {
          "output_type": "stream",
          "name": "stdout",
          "text": [
            "Drive already mounted at /content/drive; to attempt to forcibly remount, call drive.mount(\"/content/drive\", force_remount=True).\n"
          ]
        }
      ]
    },
    {
      "cell_type": "code",
      "source": [
        "# Load preprocessed data\n",
        "X_train_processed = pd.read_csv('/content/drive/MyDrive/Train_Encoded.csv')\n",
        "X_test_processed = pd.read_csv('/content/drive/MyDrive/Test_Encoded.csv')"
      ],
      "metadata": {
        "id": "VX_FYjkOLyvS"
      },
      "execution_count": 4,
      "outputs": []
    },
    {
      "cell_type": "code",
      "source": [
        "#Convert string to list format\n",
        "X_train_processed['document_vector'] = X_train_processed['document_vector_flat'].apply(lambda x: np.fromstring(x, sep=','))\n",
        "X_test_processed['document_vector'] = X_test_processed['document_vector_flat'].apply(lambda x: np.fromstring(x, sep=','))"
      ],
      "metadata": {
        "id": "Iojd-HewLyxj"
      },
      "execution_count": 5,
      "outputs": []
    },
    {
      "cell_type": "code",
      "source": [
        "# Separate features and class labels\n",
        "X_train = X_train_processed['document_vector'].tolist()\n",
        "X_test = X_test_processed['document_vector'].tolist()\n",
        "y_train = X_train_processed['hate_speech']\n",
        "y_test = X_test_processed['hate_speech']"
      ],
      "metadata": {
        "id": "9n6RsIvuLy1P"
      },
      "execution_count": 6,
      "outputs": []
    },
    {
      "cell_type": "code",
      "source": [
        "class_distribution = y_train.value_counts()\n",
        "\n",
        "print(\"Class Distribution:\")\n",
        "print(class_distribution)"
      ],
      "metadata": {
        "colab": {
          "base_uri": "https://localhost:8080/"
        },
        "id": "Tr481MD9Mwgp",
        "outputId": "12428d51-813c-4bc2-ef9b-d4a60e3c6e1c"
      },
      "execution_count": 7,
      "outputs": [
        {
          "output_type": "stream",
          "name": "stdout",
          "text": [
            "Class Distribution:\n",
            "hate_speech\n",
            "0    13513\n",
            "1     4229\n",
            "Name: count, dtype: int64\n"
          ]
        }
      ]
    },
    {
      "cell_type": "code",
      "source": [
        "plt.figure(figsize=(8, 6))\n",
        "class_distribution.plot(kind='bar', color=['skyblue', 'orange'])\n",
        "plt.title('Class Distribution')\n",
        "plt.xlabel('Class')\n",
        "plt.ylabel('Number of Instances')\n",
        "plt.xticks(rotation=0)\n",
        "plt.show()"
      ],
      "metadata": {
        "colab": {
          "base_uri": "https://localhost:8080/",
          "height": 564
        },
        "id": "4l6SeX0QOjRC",
        "outputId": "7e09b82d-9229-45bc-f4f4-07b7ffba8310"
      },
      "execution_count": 8,
      "outputs": [
        {
          "output_type": "display_data",
          "data": {
            "text/plain": [
              "<Figure size 800x600 with 1 Axes>"
            ],
            "image/png": "[encoded data removed]"
          },
          "metadata": {}
        }
      ]
    },
    {
      "cell_type": "code",
      "source": [
        "# Apply SMOTE to balance training data\n",
        "smote = SMOTE(random_state=42)\n",
        "X_train_resampled, y_train_resampled = smote.fit_resample(X_train, y_train)"
      ],
      "metadata": {
        "id": "QwoAcI2bMRjM"
      },
      "execution_count": 9,
      "outputs": []
    },
    {
      "cell_type": "code",
      "source": [
        "X_train_resampled = np.array(X_train_resampled)\n",
        "\n",
        "# Check the shape of the resampled dataset\n",
        "print(X_train_resampled.shape)  # Expected shape: (num_samples, features_size)\n",
        "print(y_train_resampled.shape)  # Expected shape: (num_samples,)"
      ],
      "metadata": {
        "colab": {
          "base_uri": "https://localhost:8080/"
        },
        "id": "NPhdvaq_MRt6",
        "outputId": "1be0b482-63ed-4e09-b36f-66d7999bd08f"
      },
      "execution_count": 10,
      "outputs": [
        {
          "output_type": "stream",
          "name": "stdout",
          "text": [
            "(27026, 300)\n",
            "(27026,)\n"
          ]
        }
      ]
    },
    {
      "cell_type": "code",
      "source": [
        "X_test = np.array(X_test)\n",
        "\n",
        "# Check the shape of the resampled dataset\n",
        "print(X_test.shape)  # Expected shape: (num_samples, features_size)\n",
        "print(y_test.shape)  # Expected shape: (num_samples,)"
      ],
      "metadata": {
        "colab": {
          "base_uri": "https://localhost:8080/"
        },
        "id": "9IsUQ2j8MR7i",
        "outputId": "39ad70b0-d552-4ab1-8037-b5508851be80"
      },
      "execution_count": 11,
      "outputs": [
        {
          "output_type": "stream",
          "name": "stdout",
          "text": [
            "(4436, 300)\n",
            "(4436,)\n"
          ]
        }
      ]
    },
    {
      "cell_type": "markdown",
      "source": [
        "# Simple Neural Network"
      ],
      "metadata": {
        "id": "j81HUktqMzQX"
      }
    },
    {
      "cell_type": "markdown",
      "source": [
        "## One Hidden Layer"
      ],
      "metadata": {
        "id": "lYvjx7KYM5sl"
      }
    },
    {
      "cell_type": "code",
      "source": [
        "# Define the model\n",
        "model1 = Sequential()\n",
        "\n",
        "#One input layer or hidden layer\n",
        "model1.add(Dense(128, activation='relu', input_shape=(X_train_resampled.shape[1],)))\n",
        "\n",
        "# Add the output layer with sigmoid activation for binary classification\n",
        "model1.add(Dense(1, activation='sigmoid'))\n",
        "\n",
        "# Compile the model\n",
        "model1.compile(loss='binary_crossentropy', optimizer='adam', metrics=['accuracy'])\n",
        "\n",
        "model1.summary()"
      ],
      "metadata": {
        "colab": {
          "base_uri": "https://localhost:8080/"
        },
        "id": "pRcS6NN-MR9R",
        "outputId": "37013c1a-021c-4811-dbe6-12e1b42313cc"
      },
      "execution_count": 12,
      "outputs": [
        {
          "output_type": "stream",
          "name": "stdout",
          "text": [
            "Model: \"sequential\"\n",
            "_________________________________________________________________\n",
            " Layer (type)                Output Shape              Param #   \n",
            "=================================================================\n",
            " dense (Dense)               (None, 128)               38528     \n",
            "                                                                 \n",
            " dense_1 (Dense)             (None, 1)                 129       \n",
            "                                                                 \n",
            "=================================================================\n",
            "Total params: 38657 (151.00 KB)\n",
            "Trainable params: 38657 (151.00 KB)\n",
            "Non-trainable params: 0 (0.00 Byte)\n",
            "_________________________________________________________________\n"
          ]
        }
      ]
    },
    {
      "cell_type": "code",
      "source": [
        "# Train the model\n",
        "model1.fit(X_train_resampled, y_train_resampled, epochs=20, batch_size=64, validation_split=0.2)"
      ],
      "metadata": {
        "colab": {
          "base_uri": "https://localhost:8080/"
        },
        "id": "fjGRw2pcMSAl",
        "outputId": "1e66f24f-6966-4acb-a6d7-e919c81ccb2e"
      },
      "execution_count": 13,
      "outputs": [
        {
          "output_type": "stream",
          "name": "stdout",
          "text": [
            "Epoch 1/20\n",
            "338/338 [==============================] - 6s 12ms/step - loss: 0.5409 - accuracy: 0.7256 - val_loss: 0.5806 - val_accuracy: 0.6402\n",
            "Epoch 2/20\n",
            "338/338 [==============================] - 5s 14ms/step - loss: 0.4600 - accuracy: 0.7823 - val_loss: 0.7236 - val_accuracy: 0.5590\n",
            "Epoch 3/20\n",
            "338/338 [==============================] - 2s 7ms/step - loss: 0.4278 - accuracy: 0.8025 - val_loss: 0.5761 - val_accuracy: 0.6857\n",
            "Epoch 4/20\n",
            "338/338 [==============================] - 3s 8ms/step - loss: 0.4065 - accuracy: 0.8164 - val_loss: 0.5388 - val_accuracy: 0.7220\n",
            "Epoch 5/20\n",
            "338/338 [==============================] - 2s 7ms/step - loss: 0.3890 - accuracy: 0.8259 - val_loss: 0.4726 - val_accuracy: 0.7810\n",
            "Epoch 6/20\n",
            "338/338 [==============================] - 3s 7ms/step - loss: 0.3749 - accuracy: 0.8354 - val_loss: 0.4645 - val_accuracy: 0.7867\n",
            "Epoch 7/20\n",
            "338/338 [==============================] - 4s 13ms/step - loss: 0.3621 - accuracy: 0.8421 - val_loss: 0.5259 - val_accuracy: 0.7370\n",
            "Epoch 8/20\n",
            "338/338 [==============================] - 3s 8ms/step - loss: 0.3497 - accuracy: 0.8518 - val_loss: 0.4530 - val_accuracy: 0.7960\n",
            "Epoch 9/20\n",
            "338/338 [==============================] - 1s 4ms/step - loss: 0.3410 - accuracy: 0.8553 - val_loss: 0.3381 - val_accuracy: 0.8725\n",
            "Epoch 10/20\n",
            "338/338 [==============================] - 1s 3ms/step - loss: 0.3342 - accuracy: 0.8581 - val_loss: 0.3921 - val_accuracy: 0.8304\n",
            "Epoch 11/20\n",
            "338/338 [==============================] - 1s 3ms/step - loss: 0.3238 - accuracy: 0.8667 - val_loss: 0.4433 - val_accuracy: 0.7923\n",
            "Epoch 12/20\n",
            "338/338 [==============================] - 1s 3ms/step - loss: 0.3164 - accuracy: 0.8677 - val_loss: 0.3665 - val_accuracy: 0.8442\n",
            "Epoch 13/20\n",
            "338/338 [==============================] - 1s 3ms/step - loss: 0.3089 - accuracy: 0.8733 - val_loss: 0.4093 - val_accuracy: 0.8152\n",
            "Epoch 14/20\n",
            "338/338 [==============================] - 1s 3ms/step - loss: 0.3016 - accuracy: 0.8798 - val_loss: 0.4755 - val_accuracy: 0.7734\n",
            "Epoch 15/20\n",
            "338/338 [==============================] - 1s 3ms/step - loss: 0.2960 - accuracy: 0.8803 - val_loss: 0.3448 - val_accuracy: 0.8637\n",
            "Epoch 16/20\n",
            "338/338 [==============================] - 1s 3ms/step - loss: 0.2894 - accuracy: 0.8834 - val_loss: 0.3347 - val_accuracy: 0.8605\n",
            "Epoch 17/20\n",
            "338/338 [==============================] - 2s 4ms/step - loss: 0.2839 - accuracy: 0.8850 - val_loss: 0.3471 - val_accuracy: 0.8572\n",
            "Epoch 18/20\n",
            "338/338 [==============================] - 2s 6ms/step - loss: 0.2793 - accuracy: 0.8880 - val_loss: 0.3550 - val_accuracy: 0.8465\n",
            "Epoch 19/20\n",
            "338/338 [==============================] - 2s 6ms/step - loss: 0.2756 - accuracy: 0.8901 - val_loss: 0.2756 - val_accuracy: 0.8988\n",
            "Epoch 20/20\n",
            "338/338 [==============================] - 1s 3ms/step - loss: 0.2687 - accuracy: 0.8936 - val_loss: 0.2403 - val_accuracy: 0.9260\n"
          ]
        },
        {
          "output_type": "execute_result",
          "data": {
            "text/plain": [
              "<keras.src.callbacks.History at 0x78b4f48ee170>"
            ]
          },
          "metadata": {},
          "execution_count": 13
        }
      ]
    },
    {
      "cell_type": "code",
      "source": [
        "y_pred = (model1.predict(X_test) > 0.5).astype(\"int32\")"
      ],
      "metadata": {
        "colab": {
          "base_uri": "https://localhost:8080/"
        },
        "id": "3pdxCYwvM9IH",
        "outputId": "4eb4588d-cfea-4574-97dc-1595d9aad829"
      },
      "execution_count": 14,
      "outputs": [
        {
          "output_type": "stream",
          "name": "stdout",
          "text": [
            "139/139 [==============================] - 0s 1ms/step\n"
          ]
        }
      ]
    },
    {
      "cell_type": "code",
      "source": [
        "# Calculate the confusion matrix\n",
        "cm = confusion_matrix(y_test, y_pred)\n",
        "\n",
        "# Plot the confusion matrix\n",
        "disp = ConfusionMatrixDisplay(confusion_matrix=cm)\n",
        "disp.plot(cmap=plt.cm.Blues)\n",
        "plt.show()"
      ],
      "metadata": {
        "colab": {
          "base_uri": "https://localhost:8080/",
          "height": 449
        },
        "id": "jqCHILGeM9Me",
        "outputId": "6fdbe054-704f-4cd0-cccf-77a1c8424e34"
      },
      "execution_count": 15,
      "outputs": [
        {
          "output_type": "display_data",
          "data": {
            "text/plain": [
              "<Figure size 640x480 with 2 Axes>"
            ],
            "image/png": "[encoded data removed]"
          },
          "metadata": {}
        }
      ]
    },
    {
      "cell_type": "code",
      "source": [
        "# Calculate accuracy\n",
        "accuracy = accuracy_score(y_test, y_pred)\n",
        "print(f'Accuracy: {accuracy:.4f}')\n",
        "\n",
        "# Calculate precision\n",
        "precision = precision_score(y_test, y_pred)\n",
        "print(f'Precision: {precision:.4f}')\n",
        "\n",
        "# Calculate recall\n",
        "recall = recall_score(y_test, y_pred)\n",
        "print(f'Recall: {recall:.4f}')\n",
        "\n",
        "# Calculate F1 score\n",
        "f1 = f1_score(y_test, y_pred)\n",
        "print(f'F1 Score: {f1:.4f}')"
      ],
      "metadata": {
        "colab": {
          "base_uri": "https://localhost:8080/"
        },
        "id": "k1JttDEEM9Qz",
        "outputId": "d21aba1b-54e3-4564-d557-a8029bcafdff"
      },
      "execution_count": 16,
      "outputs": [
        {
          "output_type": "stream",
          "name": "stdout",
          "text": [
            "Accuracy: 0.8436\n",
            "Precision: 0.6402\n",
            "Recall: 0.7843\n",
            "F1 Score: 0.7049\n"
          ]
        }
      ]
    },
    {
      "cell_type": "markdown",
      "source": [
        "## Two Hidden Layers"
      ],
      "metadata": {
        "id": "sW7UZ2exNTnW"
      }
    },
    {
      "cell_type": "code",
      "source": [
        "model2 = Sequential()\n",
        "\n",
        "#One input layer or Hidden Layer\n",
        "model2.add(Dense(128, activation='relu', input_shape=(X_train_resampled.shape[1],)))\n",
        "\n",
        "#Another input layer\n",
        "model2.add(Dense(64, activation='relu'))\n",
        "\n",
        "# Add the output layer with sigmoid activation for binary classification\n",
        "model2.add(Dense(1, activation='sigmoid'))\n",
        "\n",
        "# Compile the model\n",
        "model2.compile(loss='binary_crossentropy', optimizer='adam', metrics=['accuracy'])\n",
        "\n",
        "model2.summary()"
      ],
      "metadata": {
        "colab": {
          "base_uri": "https://localhost:8080/"
        },
        "id": "gSjjm5kdIVkO",
        "outputId": "a314cb0f-ff8c-4e66-b2ac-e020d960b428"
      },
      "execution_count": 17,
      "outputs": [
        {
          "output_type": "stream",
          "name": "stdout",
          "text": [
            "Model: \"sequential_1\"\n",
            "_________________________________________________________________\n",
            " Layer (type)                Output Shape              Param #   \n",
            "=================================================================\n",
            " dense_2 (Dense)             (None, 128)               38528     \n",
            "                                                                 \n",
            " dense_3 (Dense)             (None, 64)                8256      \n",
            "                                                                 \n",
            " dense_4 (Dense)             (None, 1)                 65        \n",
            "                                                                 \n",
            "=================================================================\n",
            "Total params: 46849 (183.00 KB)\n",
            "Trainable params: 46849 (183.00 KB)\n",
            "Non-trainable params: 0 (0.00 Byte)\n",
            "_________________________________________________________________\n"
          ]
        }
      ]
    },
    {
      "cell_type": "code",
      "source": [
        "# Train the model\n",
        "model2.fit(X_train_resampled, y_train_resampled, epochs=20, batch_size=64, validation_split=0.2)"
      ],
      "metadata": {
        "colab": {
          "base_uri": "https://localhost:8080/"
        },
        "id": "n2HI_TpBIVnD",
        "outputId": "0f48bc39-e547-4d32-f507-b633ef1476c3"
      },
      "execution_count": 18,
      "outputs": [
        {
          "output_type": "stream",
          "name": "stdout",
          "text": [
            "Epoch 1/20\n",
            "338/338 [==============================] - 2s 4ms/step - loss: 0.4700 - accuracy: 0.7712 - val_loss: 0.6147 - val_accuracy: 0.6683\n",
            "Epoch 2/20\n",
            "338/338 [==============================] - 1s 4ms/step - loss: 0.3668 - accuracy: 0.8430 - val_loss: 0.4817 - val_accuracy: 0.7716\n",
            "Epoch 3/20\n",
            "338/338 [==============================] - 1s 4ms/step - loss: 0.3356 - accuracy: 0.8599 - val_loss: 0.3200 - val_accuracy: 0.8787\n",
            "Epoch 4/20\n",
            "338/338 [==============================] - 1s 4ms/step - loss: 0.3137 - accuracy: 0.8714 - val_loss: 0.3165 - val_accuracy: 0.8718\n",
            "Epoch 5/20\n",
            "338/338 [==============================] - 1s 4ms/step - loss: 0.2930 - accuracy: 0.8815 - val_loss: 0.3547 - val_accuracy: 0.8583\n",
            "Epoch 6/20\n",
            "338/338 [==============================] - 2s 5ms/step - loss: 0.2808 - accuracy: 0.8883 - val_loss: 0.3076 - val_accuracy: 0.8883\n",
            "Epoch 7/20\n",
            "338/338 [==============================] - 2s 6ms/step - loss: 0.2701 - accuracy: 0.8914 - val_loss: 0.2199 - val_accuracy: 0.9384\n",
            "Epoch 8/20\n",
            "338/338 [==============================] - 2s 5ms/step - loss: 0.2536 - accuracy: 0.8995 - val_loss: 0.2230 - val_accuracy: 0.9286\n",
            "Epoch 9/20\n",
            "338/338 [==============================] - 1s 3ms/step - loss: 0.2466 - accuracy: 0.9013 - val_loss: 0.3572 - val_accuracy: 0.8526\n",
            "Epoch 10/20\n",
            "338/338 [==============================] - 1s 4ms/step - loss: 0.2333 - accuracy: 0.9089 - val_loss: 0.4236 - val_accuracy: 0.8106\n",
            "Epoch 11/20\n",
            "338/338 [==============================] - 1s 4ms/step - loss: 0.2237 - accuracy: 0.9123 - val_loss: 0.1666 - val_accuracy: 0.9532\n",
            "Epoch 12/20\n",
            "338/338 [==============================] - 1s 4ms/step - loss: 0.2189 - accuracy: 0.9145 - val_loss: 0.1334 - val_accuracy: 0.9660\n",
            "Epoch 13/20\n",
            "338/338 [==============================] - 1s 4ms/step - loss: 0.2041 - accuracy: 0.9221 - val_loss: 0.2004 - val_accuracy: 0.9367\n",
            "Epoch 14/20\n",
            "338/338 [==============================] - 1s 4ms/step - loss: 0.1974 - accuracy: 0.9243 - val_loss: 0.1584 - val_accuracy: 0.9578\n",
            "Epoch 15/20\n",
            "338/338 [==============================] - 1s 4ms/step - loss: 0.1882 - accuracy: 0.9281 - val_loss: 0.1667 - val_accuracy: 0.9441\n",
            "Epoch 16/20\n",
            "338/338 [==============================] - 1s 4ms/step - loss: 0.1836 - accuracy: 0.9292 - val_loss: 0.1921 - val_accuracy: 0.9345\n",
            "Epoch 17/20\n",
            "338/338 [==============================] - 2s 6ms/step - loss: 0.1722 - accuracy: 0.9363 - val_loss: 0.0928 - val_accuracy: 0.9813\n",
            "Epoch 18/20\n",
            "338/338 [==============================] - 2s 6ms/step - loss: 0.1617 - accuracy: 0.9391 - val_loss: 0.1316 - val_accuracy: 0.9617\n",
            "Epoch 19/20\n",
            "338/338 [==============================] - 1s 4ms/step - loss: 0.1571 - accuracy: 0.9418 - val_loss: 0.1521 - val_accuracy: 0.9445\n",
            "Epoch 20/20\n",
            "338/338 [==============================] - 1s 4ms/step - loss: 0.1448 - accuracy: 0.9477 - val_loss: 0.1402 - val_accuracy: 0.9632\n"
          ]
        },
        {
          "output_type": "execute_result",
          "data": {
            "text/plain": [
              "<keras.src.callbacks.History at 0x78b4f9a74250>"
            ]
          },
          "metadata": {},
          "execution_count": 18
        }
      ]
    },
    {
      "cell_type": "code",
      "source": [
        "y_pred = (model2.predict(X_test) > 0.5).astype(\"int32\")"
      ],
      "metadata": {
        "colab": {
          "base_uri": "https://localhost:8080/"
        },
        "id": "wmlCGqBbIVr1",
        "outputId": "9c9ab401-60a9-4ec0-8517-efea63481989"
      },
      "execution_count": 19,
      "outputs": [
        {
          "output_type": "stream",
          "name": "stdout",
          "text": [
            "139/139 [==============================] - 0s 2ms/step\n"
          ]
        }
      ]
    },
    {
      "cell_type": "code",
      "source": [
        "# Calculate the confusion matrix\n",
        "cm = confusion_matrix(y_test, y_pred)\n",
        "\n",
        "# Plot the confusion matrix\n",
        "disp = ConfusionMatrixDisplay(confusion_matrix=cm)\n",
        "disp.plot(cmap=plt.cm.Blues)\n",
        "plt.show()"
      ],
      "metadata": {
        "colab": {
          "base_uri": "https://localhost:8080/",
          "height": 449
        },
        "id": "cqoKlxEzIVwN",
        "outputId": "8619bf66-4768-4dc6-9b60-2dcbb6609f2e"
      },
      "execution_count": 20,
      "outputs": [
        {
          "output_type": "display_data",
          "data": {
            "text/plain": [
              "<Figure size 640x480 with 2 Axes>"
            ],
            "image/png": "[encoded data removed]"
          },
          "metadata": {}
        }
      ]
    },
    {
      "cell_type": "code",
      "source": [
        "# Calculate accuracy\n",
        "accuracy = accuracy_score(y_test, y_pred)\n",
        "print(f'Accuracy: {accuracy:.4f}')\n",
        "\n",
        "# Calculate precision\n",
        "precision = precision_score(y_test, y_pred)\n",
        "print(f'Precision: {precision:.4f}')\n",
        "\n",
        "# Calculate recall\n",
        "recall = recall_score(y_test, y_pred)\n",
        "print(f'Recall: {recall:.4f}')\n",
        "\n",
        "# Calculate F1 score\n",
        "f1 = f1_score(y_test, y_pred)\n",
        "print(f'F1 Score: {f1:.4f}')"
      ],
      "metadata": {
        "colab": {
          "base_uri": "https://localhost:8080/"
        },
        "id": "mmVsM-zhIV6-",
        "outputId": "1da48b47-f520-4499-ec99-f6a517a416ef"
      },
      "execution_count": 21,
      "outputs": [
        {
          "output_type": "stream",
          "name": "stdout",
          "text": [
            "Accuracy: 0.8546\n",
            "Precision: 0.7056\n",
            "Recall: 0.6689\n",
            "F1 Score: 0.6867\n"
          ]
        }
      ]
    },
    {
      "cell_type": "markdown",
      "source": [
        "## Three Hidden Layers"
      ],
      "metadata": {
        "id": "xHLqPQFuNpn6"
      }
    },
    {
      "cell_type": "code",
      "source": [
        "#Define the model\n",
        "model3 = Sequential()\n",
        "\n",
        "#One Hidden Layer\n",
        "model3.add(Dense(128, activation='relu', input_shape=(X_train_resampled.shape[1],)))\n",
        "\n",
        "#Another Hidden Layer\n",
        "model3.add(Dense(64, activation='relu'))\n",
        "\n",
        "#Another Hidden Layer\n",
        "model3.add(Dense(32, activation='relu'))\n",
        "\n",
        "# Add the output layer with sigmoid activation for binary classification\n",
        "model3.add(Dense(1, activation='sigmoid'))\n",
        "\n",
        "# Compile the model\n",
        "model3.compile(loss='binary_crossentropy', optimizer='adam', metrics=['accuracy'])\n",
        "\n",
        "model3.summary()"
      ],
      "metadata": {
        "colab": {
          "base_uri": "https://localhost:8080/"
        },
        "outputId": "9530d432-60d1-43f1-8b3a-f9aba89c5bbd",
        "id": "549QJ6w7JAF0"
      },
      "execution_count": 22,
      "outputs": [
        {
          "output_type": "stream",
          "name": "stdout",
          "text": [
            "Model: \"sequential_2\"\n",
            "_________________________________________________________________\n",
            " Layer (type)                Output Shape              Param #   \n",
            "=================================================================\n",
            " dense_5 (Dense)             (None, 128)               38528     \n",
            "                                                                 \n",
            " dense_6 (Dense)             (None, 64)                8256      \n",
            "                                                                 \n",
            " dense_7 (Dense)             (None, 32)                2080      \n",
            "                                                                 \n",
            " dense_8 (Dense)             (None, 1)                 33        \n",
            "                                                                 \n",
            "=================================================================\n",
            "Total params: 48897 (191.00 KB)\n",
            "Trainable params: 48897 (191.00 KB)\n",
            "Non-trainable params: 0 (0.00 Byte)\n",
            "_________________________________________________________________\n"
          ]
        }
      ]
    },
    {
      "cell_type": "code",
      "source": [
        "# Train the model\n",
        "model3.fit(X_train_resampled, y_train_resampled, epochs=20, batch_size=64, validation_split=0.2)"
      ],
      "metadata": {
        "colab": {
          "base_uri": "https://localhost:8080/"
        },
        "outputId": "e628c7b8-db38-4d0a-c523-9a4933b909ad",
        "id": "7Yzu3BwYJAGT"
      },
      "execution_count": 23,
      "outputs": [
        {
          "output_type": "stream",
          "name": "stdout",
          "text": [
            "Epoch 1/20\n",
            "338/338 [==============================] - 2s 4ms/step - loss: 0.4623 - accuracy: 0.7794 - val_loss: 0.5987 - val_accuracy: 0.6933\n",
            "Epoch 2/20\n",
            "338/338 [==============================] - 1s 4ms/step - loss: 0.3576 - accuracy: 0.8475 - val_loss: 0.4918 - val_accuracy: 0.7767\n",
            "Epoch 3/20\n",
            "338/338 [==============================] - 1s 4ms/step - loss: 0.3237 - accuracy: 0.8650 - val_loss: 0.3213 - val_accuracy: 0.8829\n",
            "Epoch 4/20\n",
            "338/338 [==============================] - 1s 4ms/step - loss: 0.2987 - accuracy: 0.8802 - val_loss: 0.2779 - val_accuracy: 0.8970\n",
            "Epoch 5/20\n",
            "338/338 [==============================] - 2s 5ms/step - loss: 0.2835 - accuracy: 0.8849 - val_loss: 0.2162 - val_accuracy: 0.9423\n",
            "Epoch 6/20\n",
            "338/338 [==============================] - 2s 6ms/step - loss: 0.2616 - accuracy: 0.8972 - val_loss: 0.4096 - val_accuracy: 0.8270\n",
            "Epoch 7/20\n",
            "338/338 [==============================] - 2s 6ms/step - loss: 0.2492 - accuracy: 0.9025 - val_loss: 0.2476 - val_accuracy: 0.9158\n",
            "Epoch 8/20\n",
            "338/338 [==============================] - 1s 4ms/step - loss: 0.2365 - accuracy: 0.9076 - val_loss: 0.1264 - val_accuracy: 0.9698\n",
            "Epoch 9/20\n",
            "338/338 [==============================] - 1s 4ms/step - loss: 0.2224 - accuracy: 0.9141 - val_loss: 0.1748 - val_accuracy: 0.9526\n",
            "Epoch 10/20\n",
            "338/338 [==============================] - 1s 4ms/step - loss: 0.2095 - accuracy: 0.9199 - val_loss: 0.2625 - val_accuracy: 0.9018\n",
            "Epoch 11/20\n",
            "338/338 [==============================] - 1s 4ms/step - loss: 0.1968 - accuracy: 0.9237 - val_loss: 0.2572 - val_accuracy: 0.9079\n",
            "Epoch 12/20\n",
            "338/338 [==============================] - 1s 4ms/step - loss: 0.1855 - accuracy: 0.9280 - val_loss: 0.1925 - val_accuracy: 0.9415\n",
            "Epoch 13/20\n",
            "338/338 [==============================] - 1s 4ms/step - loss: 0.1725 - accuracy: 0.9352 - val_loss: 0.1105 - val_accuracy: 0.9715\n",
            "Epoch 14/20\n",
            "338/338 [==============================] - 1s 4ms/step - loss: 0.1602 - accuracy: 0.9405 - val_loss: 0.0580 - val_accuracy: 0.9880\n",
            "Epoch 15/20\n",
            "338/338 [==============================] - 1s 4ms/step - loss: 0.1505 - accuracy: 0.9429 - val_loss: 0.0864 - val_accuracy: 0.9778\n",
            "Epoch 16/20\n",
            "338/338 [==============================] - 2s 6ms/step - loss: 0.1423 - accuracy: 0.9473 - val_loss: 0.0471 - val_accuracy: 0.9911\n",
            "Epoch 17/20\n",
            "338/338 [==============================] - 2s 6ms/step - loss: 0.1282 - accuracy: 0.9529 - val_loss: 0.1271 - val_accuracy: 0.9637\n",
            "Epoch 18/20\n",
            "338/338 [==============================] - 2s 5ms/step - loss: 0.1260 - accuracy: 0.9533 - val_loss: 0.1833 - val_accuracy: 0.9360\n",
            "Epoch 19/20\n",
            "338/338 [==============================] - 1s 4ms/step - loss: 0.1109 - accuracy: 0.9595 - val_loss: 0.1082 - val_accuracy: 0.9687\n",
            "Epoch 20/20\n",
            "338/338 [==============================] - 1s 4ms/step - loss: 0.1113 - accuracy: 0.9588 - val_loss: 0.1061 - val_accuracy: 0.9615\n"
          ]
        },
        {
          "output_type": "execute_result",
          "data": {
            "text/plain": [
              "<keras.src.callbacks.History at 0x78b4f6ee2110>"
            ]
          },
          "metadata": {},
          "execution_count": 23
        }
      ]
    },
    {
      "cell_type": "code",
      "source": [
        "y_pred = (model3.predict(X_test) > 0.5).astype(\"int32\")"
      ],
      "metadata": {
        "colab": {
          "base_uri": "https://localhost:8080/"
        },
        "outputId": "d8c8f714-d4cc-40ba-b84e-6f55b4b893ed",
        "id": "pcVnExIKJAGU"
      },
      "execution_count": 24,
      "outputs": [
        {
          "output_type": "stream",
          "name": "stdout",
          "text": [
            "139/139 [==============================] - 0s 2ms/step\n"
          ]
        }
      ]
    },
    {
      "cell_type": "code",
      "source": [
        "# Calculate the confusion matrix\n",
        "cm = confusion_matrix(y_test, y_pred)\n",
        "\n",
        "# Plot the confusion matrix\n",
        "disp = ConfusionMatrixDisplay(confusion_matrix=cm)\n",
        "disp.plot(cmap=plt.cm.Blues)\n",
        "plt.show()"
      ],
      "metadata": {
        "colab": {
          "base_uri": "https://localhost:8080/",
          "height": 454
        },
        "outputId": "53be1104-e8bd-4553-cb29-9cb35e6a15fe",
        "id": "FlCZVaBpJAGU"
      },
      "execution_count": 25,
      "outputs": [
        {
          "output_type": "display_data",
          "data": {
            "text/plain": [
              "<Figure size 640x480 with 2 Axes>"
            ],
            "image/png": "[encoded data removed]"
          },
          "metadata": {}
        }
      ]
    },
    {
      "cell_type": "code",
      "source": [
        "# Calculate accuracy\n",
        "accuracy = accuracy_score(y_test, y_pred)\n",
        "print(f'Accuracy: {accuracy:.4f}')\n",
        "\n",
        "# Calculate precision\n",
        "precision = precision_score(y_test, y_pred)\n",
        "print(f'Precision: {precision:.4f}')\n",
        "\n",
        "# Calculate recall\n",
        "recall = recall_score(y_test, y_pred)\n",
        "print(f'Recall: {recall:.4f}')\n",
        "\n",
        "# Calculate F1 score\n",
        "f1 = f1_score(y_test, y_pred)\n",
        "print(f'F1 Score: {f1:.4f}')"
      ],
      "metadata": {
        "colab": {
          "base_uri": "https://localhost:8080/"
        },
        "outputId": "ce84115c-d873-49a9-d3f8-697e5c49ebf2",
        "id": "wP2CyFRdJAGU"
      },
      "execution_count": 26,
      "outputs": [
        {
          "output_type": "stream",
          "name": "stdout",
          "text": [
            "Accuracy: 0.8472\n",
            "Precision: 0.6684\n",
            "Recall: 0.7114\n",
            "F1 Score: 0.6893\n"
          ]
        }
      ]
    },
    {
      "cell_type": "markdown",
      "source": [
        "Two layers are enough. And now try Dropout()"
      ],
      "metadata": {
        "id": "LJpCFoARPe4z"
      }
    },
    {
      "cell_type": "markdown",
      "source": [
        "### Set dropout to 20%"
      ],
      "metadata": {
        "id": "vRRZaEUCQgrS"
      }
    },
    {
      "cell_type": "code",
      "source": [
        "model4 = Sequential()\n",
        "\n",
        "#One input layer or Hidden Layer\n",
        "model4.add(Dense(128, activation='relu', input_shape=(X_train_resampled.shape[1],)))\n",
        "\n",
        "#Another input layer\n",
        "model4.add(Dense(64, activation='relu'))\n",
        "\n",
        "# Add the output layer with sigmoid activation for binary classification\n",
        "model4.add(Dense(1, activation='sigmoid'))\n",
        "\n",
        "model4.add(Dropout(0.2))\n",
        "\n",
        "# Compile the model\n",
        "model4.compile(loss='binary_crossentropy', optimizer='adam', metrics=['accuracy'])\n",
        "\n",
        "model4.summary()"
      ],
      "metadata": {
        "colab": {
          "base_uri": "https://localhost:8080/"
        },
        "outputId": "f8a844cd-f4d4-474b-dd38-cd633bd10a06",
        "id": "4Y4eQWlqPp9C"
      },
      "execution_count": 27,
      "outputs": [
        {
          "output_type": "stream",
          "name": "stdout",
          "text": [
            "Model: \"sequential_3\"\n",
            "_________________________________________________________________\n",
            " Layer (type)                Output Shape              Param #   \n",
            "=================================================================\n",
            " dense_9 (Dense)             (None, 128)               38528     \n",
            "                                                                 \n",
            " dense_10 (Dense)            (None, 64)                8256      \n",
            "                                                                 \n",
            " dense_11 (Dense)            (None, 1)                 65        \n",
            "                                                                 \n",
            " dropout (Dropout)           (None, 1)                 0         \n",
            "                                                                 \n",
            "=================================================================\n",
            "Total params: 46849 (183.00 KB)\n",
            "Trainable params: 46849 (183.00 KB)\n",
            "Non-trainable params: 0 (0.00 Byte)\n",
            "_________________________________________________________________\n"
          ]
        }
      ]
    },
    {
      "cell_type": "code",
      "source": [
        "# Train the model\n",
        "model4.fit(X_train_resampled, y_train_resampled, epochs=20, batch_size=64, validation_split=0.2)"
      ],
      "metadata": {
        "colab": {
          "base_uri": "https://localhost:8080/"
        },
        "outputId": "4b03169e-a8d8-463a-9b31-1adc06a4aee2",
        "id": "9rw46kNuPp9D"
      },
      "execution_count": 28,
      "outputs": [
        {
          "output_type": "stream",
          "name": "stdout",
          "text": [
            "Epoch 1/20\n",
            "338/338 [==============================] - 2s 4ms/step - loss: 1.5750 - accuracy: 0.7140 - val_loss: 0.8061 - val_accuracy: 0.5181\n",
            "Epoch 2/20\n",
            "338/338 [==============================] - 1s 4ms/step - loss: 1.4634 - accuracy: 0.7884 - val_loss: 0.7750 - val_accuracy: 0.5908\n",
            "Epoch 3/20\n",
            "338/338 [==============================] - 1s 4ms/step - loss: 1.4588 - accuracy: 0.8050 - val_loss: 0.7918 - val_accuracy: 0.5951\n",
            "Epoch 4/20\n",
            "338/338 [==============================] - 2s 5ms/step - loss: 1.4222 - accuracy: 0.8164 - val_loss: 0.6959 - val_accuracy: 0.6598\n",
            "Epoch 5/20\n",
            "338/338 [==============================] - 2s 6ms/step - loss: 1.4373 - accuracy: 0.8219 - val_loss: 0.6540 - val_accuracy: 0.6996\n",
            "Epoch 6/20\n",
            "338/338 [==============================] - 3s 8ms/step - loss: 1.3961 - accuracy: 0.8316 - val_loss: 0.5072 - val_accuracy: 0.8235\n",
            "Epoch 7/20\n",
            "338/338 [==============================] - 1s 4ms/step - loss: 1.4325 - accuracy: 0.8299 - val_loss: 0.6990 - val_accuracy: 0.6818\n",
            "Epoch 8/20\n",
            "338/338 [==============================] - 1s 4ms/step - loss: 1.3747 - accuracy: 0.8399 - val_loss: 0.6429 - val_accuracy: 0.7262\n",
            "Epoch 9/20\n",
            "338/338 [==============================] - 1s 4ms/step - loss: 1.3942 - accuracy: 0.8396 - val_loss: 0.5961 - val_accuracy: 0.7434\n",
            "Epoch 10/20\n",
            "338/338 [==============================] - 1s 4ms/step - loss: 1.3542 - accuracy: 0.8433 - val_loss: 0.5331 - val_accuracy: 0.7995\n",
            "Epoch 11/20\n",
            "338/338 [==============================] - 1s 4ms/step - loss: 1.4179 - accuracy: 0.8307 - val_loss: 0.4838 - val_accuracy: 0.8409\n",
            "Epoch 12/20\n",
            "338/338 [==============================] - 1s 4ms/step - loss: 1.3185 - accuracy: 0.8489 - val_loss: 0.3412 - val_accuracy: 0.9425\n",
            "Epoch 13/20\n",
            "338/338 [==============================] - 1s 4ms/step - loss: 1.3234 - accuracy: 0.8525 - val_loss: 0.4790 - val_accuracy: 0.8294\n",
            "Epoch 14/20\n",
            "338/338 [==============================] - 1s 4ms/step - loss: 1.3449 - accuracy: 0.8526 - val_loss: 0.4438 - val_accuracy: 0.8659\n",
            "Epoch 15/20\n",
            "338/338 [==============================] - 2s 6ms/step - loss: 1.4042 - accuracy: 0.8480 - val_loss: 0.4521 - val_accuracy: 0.8583\n",
            "Epoch 16/20\n",
            "338/338 [==============================] - 2s 6ms/step - loss: 1.3196 - accuracy: 0.8605 - val_loss: 0.3379 - val_accuracy: 0.9410\n",
            "Epoch 17/20\n",
            "338/338 [==============================] - 1s 4ms/step - loss: 1.3165 - accuracy: 0.8601 - val_loss: 0.4437 - val_accuracy: 0.8561\n",
            "Epoch 18/20\n",
            "338/338 [==============================] - 1s 4ms/step - loss: 1.3402 - accuracy: 0.8601 - val_loss: 0.5424 - val_accuracy: 0.7828\n",
            "Epoch 19/20\n",
            "338/338 [==============================] - 1s 4ms/step - loss: 1.3605 - accuracy: 0.8605 - val_loss: 0.3761 - val_accuracy: 0.9038\n",
            "Epoch 20/20\n",
            "338/338 [==============================] - 1s 4ms/step - loss: 1.2898 - accuracy: 0.8704 - val_loss: 0.3555 - val_accuracy: 0.9321\n"
          ]
        },
        {
          "output_type": "execute_result",
          "data": {
            "text/plain": [
              "<keras.src.callbacks.History at 0x78b4f49643d0>"
            ]
          },
          "metadata": {},
          "execution_count": 28
        }
      ]
    },
    {
      "cell_type": "code",
      "source": [
        "y_pred = (model4.predict(X_test) > 0.5).astype(\"int32\")"
      ],
      "metadata": {
        "colab": {
          "base_uri": "https://localhost:8080/"
        },
        "outputId": "0d0e85ab-77f8-4f25-a876-e1474eaa052f",
        "id": "3Q6koXJRPp9E"
      },
      "execution_count": 29,
      "outputs": [
        {
          "output_type": "stream",
          "name": "stdout",
          "text": [
            "139/139 [==============================] - 0s 2ms/step\n"
          ]
        }
      ]
    },
    {
      "cell_type": "code",
      "source": [
        "# Calculate the confusion matrix\n",
        "cm = confusion_matrix(y_test, y_pred)\n",
        "\n",
        "# Plot the confusion matrix\n",
        "disp = ConfusionMatrixDisplay(confusion_matrix=cm)\n",
        "disp.plot(cmap=plt.cm.Blues)\n",
        "plt.show()"
      ],
      "metadata": {
        "colab": {
          "base_uri": "https://localhost:8080/",
          "height": 449
        },
        "outputId": "60322a07-0178-4d29-d2ef-23dfc5ca3cfa",
        "id": "PaXtqag5Pp9F"
      },
      "execution_count": 30,
      "outputs": [
        {
          "output_type": "display_data",
          "data": {
            "text/plain": [
              "<Figure size 640x480 with 2 Axes>"
            ],
            "image/png": "[encoded data removed]"
          },
          "metadata": {}
        }
      ]
    },
    {
      "cell_type": "code",
      "source": [
        "# Calculate accuracy\n",
        "accuracy = accuracy_score(y_test, y_pred)\n",
        "print(f'Accuracy: {accuracy:.4f}')\n",
        "\n",
        "# Calculate precision\n",
        "precision = precision_score(y_test, y_pred)\n",
        "print(f'Precision: {precision:.4f}')\n",
        "\n",
        "# Calculate recall\n",
        "recall = recall_score(y_test, y_pred)\n",
        "print(f'Recall: {recall:.4f}')\n",
        "\n",
        "# Calculate F1 score\n",
        "f1 = f1_score(y_test, y_pred)\n",
        "print(f'F1 Score: {f1:.4f}')"
      ],
      "metadata": {
        "colab": {
          "base_uri": "https://localhost:8080/"
        },
        "outputId": "f92e17e1-dd05-4e5d-acfa-8acf1af7453d",
        "id": "H51vQ_Q6Pp9G"
      },
      "execution_count": 31,
      "outputs": [
        {
          "output_type": "stream",
          "name": "stdout",
          "text": [
            "Accuracy: 0.8638\n",
            "Precision: 0.7205\n",
            "Recall: 0.7001\n",
            "F1 Score: 0.7102\n"
          ]
        }
      ]
    },
    {
      "cell_type": "markdown",
      "source": [
        "### Set dropout to 50%"
      ],
      "metadata": {
        "id": "CzNAkVK1Qr7b"
      }
    },
    {
      "cell_type": "code",
      "source": [
        "model5 = Sequential()\n",
        "\n",
        "#One input layer or Hidden Layer\n",
        "model5.add(Dense(128, activation='relu', input_shape=(X_train_resampled.shape[1],)))\n",
        "\n",
        "#Another input layer\n",
        "model5.add(Dense(64, activation='relu'))\n",
        "\n",
        "# Add the output layer with sigmoid activation for binary classification\n",
        "model5.add(Dense(1, activation='sigmoid'))\n",
        "\n",
        "model5.add(Dropout(0.5))\n",
        "\n",
        "# Compile the model\n",
        "model5.compile(loss='binary_crossentropy', optimizer='adam', metrics=['accuracy'])\n",
        "\n",
        "model5.summary()"
      ],
      "metadata": {
        "colab": {
          "base_uri": "https://localhost:8080/"
        },
        "outputId": "757d8a9c-455a-4377-cc1e-8b6967275d31",
        "id": "zwoGz00PQr7b"
      },
      "execution_count": 32,
      "outputs": [
        {
          "output_type": "stream",
          "name": "stdout",
          "text": [
            "Model: \"sequential_4\"\n",
            "_________________________________________________________________\n",
            " Layer (type)                Output Shape              Param #   \n",
            "=================================================================\n",
            " dense_12 (Dense)            (None, 128)               38528     \n",
            "                                                                 \n",
            " dense_13 (Dense)            (None, 64)                8256      \n",
            "                                                                 \n",
            " dense_14 (Dense)            (None, 1)                 65        \n",
            "                                                                 \n",
            " dropout_1 (Dropout)         (None, 1)                 0         \n",
            "                                                                 \n",
            "=================================================================\n",
            "Total params: 46849 (183.00 KB)\n",
            "Trainable params: 46849 (183.00 KB)\n",
            "Non-trainable params: 0 (0.00 Byte)\n",
            "_________________________________________________________________\n"
          ]
        }
      ]
    },
    {
      "cell_type": "code",
      "source": [
        "# Train the model\n",
        "model5.fit(X_train_resampled, y_train_resampled, epochs=20, batch_size=64, validation_split=0.2)"
      ],
      "metadata": {
        "colab": {
          "base_uri": "https://localhost:8080/"
        },
        "outputId": "af6b10d7-c82f-4036-e9bf-b2201b99bb68",
        "id": "8entUzYUQr7b"
      },
      "execution_count": 33,
      "outputs": [
        {
          "output_type": "stream",
          "name": "stdout",
          "text": [
            "Epoch 1/20\n",
            "338/338 [==============================] - 2s 4ms/step - loss: 3.2381 - accuracy: 0.6431 - val_loss: 1.4654 - val_accuracy: 0.0209\n",
            "Epoch 2/20\n",
            "338/338 [==============================] - 1s 4ms/step - loss: 3.1144 - accuracy: 0.7064 - val_loss: 1.2282 - val_accuracy: 0.0109\n",
            "Epoch 3/20\n",
            "338/338 [==============================] - 3s 8ms/step - loss: 3.0951 - accuracy: 0.7269 - val_loss: 1.2061 - val_accuracy: 0.0205\n",
            "Epoch 4/20\n",
            "338/338 [==============================] - 3s 8ms/step - loss: 3.0631 - accuracy: 0.7345 - val_loss: 1.3144 - val_accuracy: 7.3992e-04\n",
            "Epoch 5/20\n",
            "338/338 [==============================] - 3s 8ms/step - loss: 3.0713 - accuracy: 0.7380 - val_loss: 1.0010 - val_accuracy: 0.0462\n",
            "Epoch 6/20\n",
            "338/338 [==============================] - 2s 5ms/step - loss: 3.0807 - accuracy: 0.7439 - val_loss: 1.1924 - val_accuracy: 0.1193\n",
            "Epoch 7/20\n",
            "338/338 [==============================] - 2s 4ms/step - loss: 3.0722 - accuracy: 0.7446 - val_loss: 1.1104 - val_accuracy: 0.0305\n",
            "Epoch 8/20\n",
            "338/338 [==============================] - 1s 4ms/step - loss: 3.0675 - accuracy: 0.7477 - val_loss: 1.1232 - val_accuracy: 0.1400\n",
            "Epoch 9/20\n",
            "338/338 [==============================] - 1s 4ms/step - loss: 3.0563 - accuracy: 0.7481 - val_loss: 1.1223 - val_accuracy: 0.0723\n",
            "Epoch 10/20\n",
            "338/338 [==============================] - 1s 4ms/step - loss: 3.0204 - accuracy: 0.7519 - val_loss: 1.0430 - val_accuracy: 0.0370\n",
            "Epoch 11/20\n",
            "338/338 [==============================] - 1s 4ms/step - loss: 3.0102 - accuracy: 0.7541 - val_loss: 1.0282 - val_accuracy: 0.1139\n",
            "Epoch 12/20\n",
            "338/338 [==============================] - 1s 4ms/step - loss: 3.0493 - accuracy: 0.7522 - val_loss: 0.9819 - val_accuracy: 0.1360\n",
            "Epoch 13/20\n",
            "338/338 [==============================] - 2s 6ms/step - loss: 3.0142 - accuracy: 0.7567 - val_loss: 0.9462 - val_accuracy: 0.0165\n",
            "Epoch 14/20\n",
            "338/338 [==============================] - 2s 6ms/step - loss: 2.9710 - accuracy: 0.7630 - val_loss: 1.0938 - val_accuracy: 0.0344\n",
            "Epoch 15/20\n",
            "338/338 [==============================] - 1s 4ms/step - loss: 3.0853 - accuracy: 0.7566 - val_loss: 0.9391 - val_accuracy: 0.1385\n",
            "Epoch 16/20\n",
            "338/338 [==============================] - 1s 4ms/step - loss: 3.0238 - accuracy: 0.7601 - val_loss: 0.9340 - val_accuracy: 0.2830\n",
            "Epoch 17/20\n",
            "338/338 [==============================] - 1s 4ms/step - loss: 3.0418 - accuracy: 0.7595 - val_loss: 0.8663 - val_accuracy: 0.2392\n",
            "Epoch 18/20\n",
            "338/338 [==============================] - 1s 4ms/step - loss: 3.0312 - accuracy: 0.7615 - val_loss: 1.0127 - val_accuracy: 0.1189\n",
            "Epoch 19/20\n",
            "338/338 [==============================] - 1s 4ms/step - loss: 3.0056 - accuracy: 0.7650 - val_loss: 0.9449 - val_accuracy: 0.1604\n",
            "Epoch 20/20\n",
            "338/338 [==============================] - 1s 4ms/step - loss: 3.0269 - accuracy: 0.7638 - val_loss: 1.0187 - val_accuracy: 0.2649\n"
          ]
        },
        {
          "output_type": "execute_result",
          "data": {
            "text/plain": [
              "<keras.src.callbacks.History at 0x78b4f9bf35e0>"
            ]
          },
          "metadata": {},
          "execution_count": 33
        }
      ]
    },
    {
      "cell_type": "code",
      "source": [
        "y_pred = (model5.predict(X_test) > 0.5).astype(\"int32\")"
      ],
      "metadata": {
        "colab": {
          "base_uri": "https://localhost:8080/"
        },
        "outputId": "4a432032-a8bc-4b0b-f437-c6968016cecf",
        "id": "EQ-MjQnSQr7c"
      },
      "execution_count": 34,
      "outputs": [
        {
          "output_type": "stream",
          "name": "stdout",
          "text": [
            "139/139 [==============================] - 0s 2ms/step\n"
          ]
        }
      ]
    },
    {
      "cell_type": "code",
      "source": [
        "# Calculate the confusion matrix\n",
        "cm = confusion_matrix(y_test, y_pred)\n",
        "\n",
        "# Plot the confusion matrix\n",
        "disp = ConfusionMatrixDisplay(confusion_matrix=cm)\n",
        "disp.plot(cmap=plt.cm.Blues)\n",
        "plt.show()"
      ],
      "metadata": {
        "colab": {
          "base_uri": "https://localhost:8080/",
          "height": 449
        },
        "outputId": "f67eae8d-e3fa-4f37-a97b-2b347b0fd1ac",
        "id": "AGpP4QW2Qr7c"
      },
      "execution_count": 35,
      "outputs": [
        {
          "output_type": "display_data",
          "data": {
            "text/plain": [
              "<Figure size 640x480 with 2 Axes>"
            ],
            "image/png": "[encoded data removed]"
          },
          "metadata": {}
        }
      ]
    },
    {
      "cell_type": "code",
      "source": [
        "# Calculate accuracy\n",
        "accuracy = accuracy_score(y_test, y_pred)\n",
        "print(f'Accuracy: {accuracy:.4f}')\n",
        "\n",
        "# Calculate precision\n",
        "precision = precision_score(y_test, y_pred)\n",
        "print(f'Precision: {precision:.4f}')\n",
        "\n",
        "# Calculate recall\n",
        "recall = recall_score(y_test, y_pred)\n",
        "print(f'Recall: {recall:.4f}')\n",
        "\n",
        "# Calculate F1 score\n",
        "f1 = f1_score(y_test, y_pred)\n",
        "print(f'F1 Score: {f1:.4f}')"
      ],
      "metadata": {
        "colab": {
          "base_uri": "https://localhost:8080/"
        },
        "outputId": "ff244361-c693-43ae-e30b-9615a4446f70",
        "id": "3b4RXqyyQr7c"
      },
      "execution_count": 36,
      "outputs": [
        {
          "output_type": "stream",
          "name": "stdout",
          "text": [
            "Accuracy: 0.7996\n",
            "Precision: 0.8750\n",
            "Recall: 0.1854\n",
            "F1 Score: 0.3060\n"
          ]
        }
      ]
    },
    {
      "cell_type": "markdown",
      "source": [
        "It's better to set dropout to 20%, as the performance is effected when dropout set to 50%"
      ],
      "metadata": {
        "id": "wbHUwHD0RKHP"
      }
    },
    {
      "cell_type": "markdown",
      "source": [
        "# Model Tuning"
      ],
      "metadata": {
        "id": "2ROhhHVoS4X8"
      }
    },
    {
      "cell_type": "markdown",
      "source": [
        "### Implement early stopping and learning rate reduction techniques, while ensuring that 'y_pred' achieves a balanced precision and recall.\n"
      ],
      "metadata": {
        "id": "x0OmXaBtSlMZ"
      }
    },
    {
      "cell_type": "code",
      "source": [
        "model = Sequential()\n",
        "\n",
        "#One input layer or Hidden Layer\n",
        "model.add(Dense(128, activation='relu', input_shape=(X_train_resampled.shape[1],)))\n",
        "\n",
        "#Another input layer\n",
        "model.add(Dense(64, activation='relu'))\n",
        "\n",
        "# Add the output layer with sigmoid activation for binary classification\n",
        "model.add(Dense(1, activation='sigmoid'))\n",
        "\n",
        "model.add(Dropout(0.2))\n",
        "\n",
        "# Compile the model\n",
        "model.compile(loss='binary_crossentropy', optimizer='adam', metrics=['accuracy'])\n",
        "\n",
        "model.summary()"
      ],
      "metadata": {
        "colab": {
          "base_uri": "https://localhost:8080/"
        },
        "id": "Rbx-pUiuSj22",
        "outputId": "e62ec370-97f4-4560-fe34-e7309252bc51"
      },
      "execution_count": 37,
      "outputs": [
        {
          "output_type": "stream",
          "name": "stdout",
          "text": [
            "Model: \"sequential_5\"\n",
            "_________________________________________________________________\n",
            " Layer (type)                Output Shape              Param #   \n",
            "=================================================================\n",
            " dense_15 (Dense)            (None, 128)               38528     \n",
            "                                                                 \n",
            " dense_16 (Dense)            (None, 64)                8256      \n",
            "                                                                 \n",
            " dense_17 (Dense)            (None, 1)                 65        \n",
            "                                                                 \n",
            " dropout_2 (Dropout)         (None, 1)                 0         \n",
            "                                                                 \n",
            "=================================================================\n",
            "Total params: 46849 (183.00 KB)\n",
            "Trainable params: 46849 (183.00 KB)\n",
            "Non-trainable params: 0 (0.00 Byte)\n",
            "_________________________________________________________________\n"
          ]
        }
      ]
    },
    {
      "cell_type": "code",
      "source": [
        "# Define early stopping callback\n",
        "early_stopping = EarlyStopping(monitor='val_loss', patience=5, restore_best_weights=True)\n",
        "\n",
        "# Define learning rate reduction callback\n",
        "reduce_lr = ReduceLROnPlateau(monitor='val_loss', factor=0.1, patience=3, min_lr=0.00001)"
      ],
      "metadata": {
        "id": "-hNVJkuBS_32"
      },
      "execution_count": 38,
      "outputs": []
    },
    {
      "cell_type": "code",
      "source": [
        "history = model.fit(X_train_resampled, y_train_resampled,\n",
        "                    validation_split=0.2,\n",
        "                    epochs=50,\n",
        "                    batch_size=64,\n",
        "                    callbacks=[early_stopping, reduce_lr])"
      ],
      "metadata": {
        "colab": {
          "base_uri": "https://localhost:8080/"
        },
        "id": "s5_tpU9rTADV",
        "outputId": "64cedde9-8831-4822-b0e2-f2b5dcaf880c"
      },
      "execution_count": 39,
      "outputs": [
        {
          "output_type": "stream",
          "name": "stdout",
          "text": [
            "Epoch 1/50\n",
            "338/338 [==============================] - 3s 4ms/step - loss: 1.5703 - accuracy: 0.7235 - val_loss: 0.7595 - val_accuracy: 0.5971 - lr: 0.0010\n",
            "Epoch 2/50\n",
            "338/338 [==============================] - 2s 6ms/step - loss: 1.4657 - accuracy: 0.7897 - val_loss: 0.7057 - val_accuracy: 0.6408 - lr: 0.0010\n",
            "Epoch 3/50\n",
            "338/338 [==============================] - 2s 6ms/step - loss: 1.4057 - accuracy: 0.8082 - val_loss: 0.6729 - val_accuracy: 0.6907 - lr: 0.0010\n",
            "Epoch 4/50\n",
            "338/338 [==============================] - 2s 5ms/step - loss: 1.4682 - accuracy: 0.8107 - val_loss: 0.9747 - val_accuracy: 0.4243 - lr: 0.0010\n",
            "Epoch 5/50\n",
            "338/338 [==============================] - 1s 4ms/step - loss: 1.4347 - accuracy: 0.8211 - val_loss: 0.5764 - val_accuracy: 0.7675 - lr: 0.0010\n",
            "Epoch 6/50\n",
            "338/338 [==============================] - 1s 4ms/step - loss: 1.3800 - accuracy: 0.8298 - val_loss: 0.7608 - val_accuracy: 0.6332 - lr: 0.0010\n",
            "Epoch 7/50\n",
            "338/338 [==============================] - 1s 4ms/step - loss: 1.3909 - accuracy: 0.8321 - val_loss: 0.4825 - val_accuracy: 0.8748 - lr: 0.0010\n",
            "Epoch 8/50\n",
            "338/338 [==============================] - 1s 4ms/step - loss: 1.3930 - accuracy: 0.8386 - val_loss: 0.5438 - val_accuracy: 0.8061 - lr: 0.0010\n",
            "Epoch 9/50\n",
            "338/338 [==============================] - 1s 4ms/step - loss: 1.3490 - accuracy: 0.8426 - val_loss: 0.4121 - val_accuracy: 0.9260 - lr: 0.0010\n",
            "Epoch 10/50\n",
            "338/338 [==============================] - 1s 4ms/step - loss: 1.3687 - accuracy: 0.8257 - val_loss: 0.5555 - val_accuracy: 0.7954 - lr: 0.0010\n",
            "Epoch 11/50\n",
            "338/338 [==============================] - 1s 4ms/step - loss: 1.4213 - accuracy: 0.8393 - val_loss: 0.4625 - val_accuracy: 0.8679 - lr: 0.0010\n",
            "Epoch 12/50\n",
            "338/338 [==============================] - 2s 6ms/step - loss: 1.3227 - accuracy: 0.8469 - val_loss: 0.4275 - val_accuracy: 0.8781 - lr: 0.0010\n",
            "Epoch 13/50\n",
            "338/338 [==============================] - 2s 6ms/step - loss: 1.3442 - accuracy: 0.8557 - val_loss: 0.4062 - val_accuracy: 0.8944 - lr: 1.0000e-04\n",
            "Epoch 14/50\n",
            "338/338 [==============================] - 2s 5ms/step - loss: 1.3374 - accuracy: 0.8579 - val_loss: 0.4156 - val_accuracy: 0.8868 - lr: 1.0000e-04\n",
            "Epoch 15/50\n",
            "338/338 [==============================] - 1s 4ms/step - loss: 1.3212 - accuracy: 0.8590 - val_loss: 0.4343 - val_accuracy: 0.8707 - lr: 1.0000e-04\n",
            "Epoch 16/50\n",
            "338/338 [==============================] - 1s 4ms/step - loss: 1.3670 - accuracy: 0.8578 - val_loss: 0.4027 - val_accuracy: 0.8994 - lr: 1.0000e-04\n",
            "Epoch 17/50\n",
            "338/338 [==============================] - 1s 4ms/step - loss: 1.3298 - accuracy: 0.8590 - val_loss: 0.4340 - val_accuracy: 0.8744 - lr: 1.0000e-04\n",
            "Epoch 18/50\n",
            "338/338 [==============================] - 1s 4ms/step - loss: 1.3317 - accuracy: 0.8607 - val_loss: 0.4131 - val_accuracy: 0.8883 - lr: 1.0000e-04\n",
            "Epoch 19/50\n",
            "338/338 [==============================] - 1s 4ms/step - loss: 1.3371 - accuracy: 0.8608 - val_loss: 0.4049 - val_accuracy: 0.8936 - lr: 1.0000e-04\n",
            "Epoch 20/50\n",
            "338/338 [==============================] - 1s 4ms/step - loss: 1.3317 - accuracy: 0.8632 - val_loss: 0.4155 - val_accuracy: 0.8861 - lr: 1.0000e-05\n",
            "Epoch 21/50\n",
            "338/338 [==============================] - 2s 4ms/step - loss: 1.2955 - accuracy: 0.8649 - val_loss: 0.4093 - val_accuracy: 0.8901 - lr: 1.0000e-05\n"
          ]
        }
      ]
    },
    {
      "cell_type": "code",
      "source": [
        "y_pred_02 = (model.predict(X_test) > 0.5).astype(\"int32\")"
      ],
      "metadata": {
        "colab": {
          "base_uri": "https://localhost:8080/"
        },
        "outputId": "ade3bb12-61b5-4b98-f5c7-4e515e03b749",
        "id": "yeCDmcfSUGVc"
      },
      "execution_count": 43,
      "outputs": [
        {
          "output_type": "stream",
          "name": "stdout",
          "text": [
            "139/139 [==============================] - 1s 5ms/step\n"
          ]
        }
      ]
    },
    {
      "cell_type": "code",
      "source": [
        "# Calculate the confusion matrix\n",
        "cm = confusion_matrix(y_test, y_pred_02)\n",
        "\n",
        "# Plot the confusion matrix\n",
        "disp = ConfusionMatrixDisplay(confusion_matrix=cm)\n",
        "disp.plot(cmap=plt.cm.Blues)\n",
        "plt.show()"
      ],
      "metadata": {
        "colab": {
          "base_uri": "https://localhost:8080/",
          "height": 449
        },
        "outputId": "9e3fae94-3266-4192-e15b-987c1b563d01",
        "id": "D1dOjgjbUGVd"
      },
      "execution_count": 44,
      "outputs": [
        {
          "output_type": "display_data",
          "data": {
            "text/plain": [
              "<Figure size 640x480 with 2 Axes>"
            ],
            "image/png": "[encoded data removed]"
          },
          "metadata": {}
        }
      ]
    },
    {
      "cell_type": "code",
      "source": [
        "# Calculate accuracy\n",
        "accuracy = accuracy_score(y_test, y_pred_02)\n",
        "print(f'Accuracy: {accuracy:.4f}')\n",
        "\n",
        "# Calculate precision\n",
        "precision = precision_score(y_test, y_pred_02)\n",
        "print(f'Precision: {precision:.4f}')\n",
        "\n",
        "# Calculate recall\n",
        "recall = recall_score(y_test, y_pred_02)\n",
        "print(f'Recall: {recall:.4f}')\n",
        "\n",
        "# Calculate F1 score\n",
        "f1 = f1_score(y_test, y_pred_02)\n",
        "print(f'F1 Score: {f1:.4f}')"
      ],
      "metadata": {
        "colab": {
          "base_uri": "https://localhost:8080/"
        },
        "outputId": "0c4ca935-aeba-4605-bbae-c93139a807a8",
        "id": "b0nswoOyUGVd"
      },
      "execution_count": 45,
      "outputs": [
        {
          "output_type": "stream",
          "name": "stdout",
          "text": [
            "Accuracy: 0.8638\n",
            "Precision: 0.7272\n",
            "Recall: 0.6859\n",
            "F1 Score: 0.7059\n"
          ]
        }
      ]
    },
    {
      "cell_type": "markdown",
      "source": [
        "## If we want to balance all the metrics, we can manually choose the threshold to balance precision and recall."
      ],
      "metadata": {
        "id": "zFUcGWZyUmgm"
      }
    },
    {
      "cell_type": "markdown",
      "source": [
        "### Choose a threshold that balances precision and recall."
      ],
      "metadata": {
        "id": "XLkSi3MaTPER"
      }
    },
    {
      "cell_type": "code",
      "source": [
        "from sklearn.metrics import precision_recall_curve\n",
        "\n",
        "y_pred_prob = model.predict(X_test)\n",
        "precision, recall, thresholds = precision_recall_curve(y_test, y_pred_prob)\n",
        "\n",
        "# Threshold\n",
        "best_threshold = thresholds[np.argmax(precision * recall)]\n",
        "y_pred = (y_pred_prob >= best_threshold).astype(int)\n",
        "print(best_threshold)"
      ],
      "metadata": {
        "colab": {
          "base_uri": "https://localhost:8080/"
        },
        "id": "dQ3UCT5MTNF0",
        "outputId": "732cdb4d-e5ae-477b-ecd4-6ce473bd4094"
      },
      "execution_count": null,
      "outputs": [
        {
          "output_type": "stream",
          "name": "stdout",
          "text": [
            "139/139 [==============================] - 0s 2ms/step\n",
            "0.39735657\n"
          ]
        }
      ]
    },
    {
      "cell_type": "code",
      "source": [
        "# Calculate the confusion matrix\n",
        "cm = confusion_matrix(y_test, y_pred)\n",
        "\n",
        "# Plot the confusion matrix\n",
        "disp = ConfusionMatrixDisplay(confusion_matrix=cm)\n",
        "disp.plot(cmap=plt.cm.Blues)\n",
        "plt.show()"
      ],
      "metadata": {
        "colab": {
          "base_uri": "https://localhost:8080/",
          "height": 452
        },
        "id": "1SDgo6TGTZVQ",
        "outputId": "6c8af8b5-db80-4285-edeb-1caace676ac2"
      },
      "execution_count": null,
      "outputs": [
        {
          "output_type": "display_data",
          "data": {
            "text/plain": [
              "<Figure size 640x480 with 2 Axes>"
            ],
            "image/png": "[encoded data removed]"
          },
          "metadata": {}
        }
      ]
    },
    {
      "cell_type": "code",
      "source": [
        "# Calculate accuracy\n",
        "accuracy = accuracy_score(y_test, y_pred)\n",
        "print(f'Accuracy: {accuracy:.4f}')\n",
        "\n",
        "# Calculate precision\n",
        "precision = precision_score(y_test, y_pred)\n",
        "print(f'Precision: {precision:.4f}')\n",
        "\n",
        "# Calculate recall\n",
        "recall = recall_score(y_test, y_pred)\n",
        "print(f'Recall: {recall:.4f}')\n",
        "\n",
        "# Calculate F1 score\n",
        "f1 = f1_score(y_test, y_pred)\n",
        "print(f'F1 Score: {f1:.4f}')"
      ],
      "metadata": {
        "colab": {
          "base_uri": "https://localhost:8080/"
        },
        "id": "3-btw1dNTZkr",
        "outputId": "2cd70547-5671-4aec-b66a-067874857db5"
      },
      "execution_count": null,
      "outputs": [
        {
          "output_type": "stream",
          "name": "stdout",
          "text": [
            "Accuracy: 0.8591\n",
            "Precision: 0.6875\n",
            "Recall: 0.7493\n",
            "F1 Score: 0.7171\n"
          ]
        }
      ]
    }
  ]
}