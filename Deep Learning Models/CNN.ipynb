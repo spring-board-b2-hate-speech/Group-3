{
 "cells": [
  {
   "cell_type": "code",
   "execution_count": 1,
   "id": "618b5037",
   "metadata": {
    "id": "618b5037"
   },
   "outputs": [],
   "source": [
    "import pandas as pd\n",
    "import numpy as np\n",
    "from sklearn.model_selection import train_test_split\n",
    "from imblearn.over_sampling import SMOTE\n",
    "from keras.models import Sequential\n",
    "from keras.layers import Conv1D, MaxPooling1D, Dense, Dropout, Flatten, BatchNormalization\n",
    "import matplotlib.pyplot as plt\n",
    "from sklearn.metrics import precision_recall_curve\n",
    "from keras.callbacks import EarlyStopping, ReduceLROnPlateau\n",
    "from keras.optimizers import Adam\n",
    "from sklearn.metrics import confusion_matrix, ConfusionMatrixDisplay\n",
    "from sklearn.metrics import accuracy_score, precision_score, recall_score, f1_score"
   ]
  },
  {
   "cell_type": "code",
   "execution_count": 2,
   "id": "3iYTAtA57h26",
   "metadata": {
    "colab": {
     "base_uri": "https://localhost:8080/"
    },
    "id": "3iYTAtA57h26",
    "outputId": "bf00a33f-d7fd-4bc7-f2ab-da5a31fd9845"
   },
   "outputs": [
    {
     "name": "stdout",
     "output_type": "stream",
     "text": [
      "Mounted at /content/drive\n"
     ]
    }
   ],
   "source": [
    "from google.colab import drive\n",
    "drive.mount('/content/drive')"
   ]
  },
  {
   "cell_type": "code",
   "execution_count": 3,
   "id": "db2a02f8",
   "metadata": {
    "colab": {
     "base_uri": "https://localhost:8080/"
    },
    "id": "db2a02f8",
    "outputId": "bdc809e2-c622-4815-99bc-bce7a66de23a",
    "scrolled": true
   },
   "outputs": [
    {
     "name": "stdout",
     "output_type": "stream",
     "text": [
      "                                             comment  hate_speech  \\\n",
      "0  subsection retarded hungarians ohh boy brace l...            1   \n",
      "1  hiii just got work foundation grounding mainly...            0   \n",
      "2                    wow guess soyboys every country            0   \n",
      "3  owen benjamins soyboy song goes every country ...            0   \n",
      "4  yall hear sumn means live small town right now...            0   \n",
      "\n",
      "                                  lemmatized_comment  \\\n",
      "0  subsection retard hungarians ohh boy brace liv...   \n",
      "1  hiii just get work foundation ground mainly ty...   \n",
      "2                    wow guess soyboys every country   \n",
      "3  owen benjamins soyboy song go every country th...   \n",
      "4  yall hear sumn mean live small town right now ...   \n",
      "\n",
      "                                document_vector_flat  \n",
      "0  0.014043219,-0.01809359,0.017145459,0.08062436...  \n",
      "1  -0.0031560725,-0.033554427,0.019422462,0.07846...  \n",
      "2  0.017362628,0.005587179,0.0297773,0.109146975,...  \n",
      "3  0.0122448,0.00724816,-5.1360163e-05,0.0789897,...  \n",
      "4  0.015154357,0.010861638,0.018671766,0.07203491...  \n"
     ]
    }
   ],
   "source": [
    "file_path = '/content/drive/My Drive/Reddit_Encoded(No Stop Words).csv'\n",
    "df = pd.read_csv(file_path)\n",
    "print(df.head())"
   ]
  },
  {
   "cell_type": "code",
   "execution_count": 4,
   "id": "50c2ecff",
   "metadata": {
    "colab": {
     "base_uri": "https://localhost:8080/"
    },
    "id": "50c2ecff",
    "outputId": "7e4acd48-64ae-49cc-df2f-295f6c5fbedb"
   },
   "outputs": [
    {
     "name": "stdout",
     "output_type": "stream",
     "text": [
      "0    [0.014043219, -0.01809359, 0.017145459, 0.0806...\n",
      "1    [-0.0031560725, -0.033554427, 0.019422462, 0.0...\n",
      "2    [0.017362628, 0.005587179, 0.0297773, 0.109146...\n",
      "3    [0.0122448, 0.00724816, -5.1360163e-05, 0.0789...\n",
      "4    [0.015154357, 0.010861638, 0.018671766, 0.0720...\n",
      "Name: document_vector, dtype: object\n"
     ]
    }
   ],
   "source": [
    "# Convert the document vectors from their string representation back into numerical form\n",
    "df['document_vector'] = df['document_vector_flat'].apply(lambda x: np.fromstring(x, sep=','))\n",
    "print(df['document_vector'].head())"
   ]
  },
  {
   "cell_type": "code",
   "execution_count": 5,
   "id": "ad80ea94",
   "metadata": {
    "colab": {
     "base_uri": "https://localhost:8080/"
    },
    "id": "ad80ea94",
    "outputId": "855859ad-8d82-4700-a691-fc2b4c11d8da"
   },
   "outputs": [
    {
     "name": "stdout",
     "output_type": "stream",
     "text": [
      "(22178, 300)\n",
      "(22178,)\n"
     ]
    }
   ],
   "source": [
    "# Extract features (document vectors) and labels (binary hate speech)\n",
    "X = np.array(df['document_vector'].tolist())\n",
    "y = df['hate_speech']\n",
    "\n",
    "# Check the shape of the dataset\n",
    "print(X.shape)  # Expected shape: (num_samples, embedding_dim)\n",
    "print(y.shape)  # Expected shape: (num_samples,)"
   ]
  },
  {
   "cell_type": "markdown",
   "id": "9786e748",
   "metadata": {},
   "source": [
    "## Split the data into train and test set"
   ]
  },
  {
   "cell_type": "code",
   "execution_count": 6,
   "id": "618b73eb",
   "metadata": {
    "id": "618b73eb"
   },
   "outputs": [],
   "source": [
    "X_train, X_test, y_train, y_test = train_test_split(X, y, test_size=0.2, random_state=42)"
   ]
  },
  {
   "cell_type": "markdown",
   "id": "3b5fc973",
   "metadata": {},
   "source": [
    "## Balance the data"
   ]
  },
  {
   "cell_type": "code",
   "execution_count": 7,
   "id": "dd2e15a8",
   "metadata": {
    "id": "dd2e15a8"
   },
   "outputs": [],
   "source": [
    "from imblearn.over_sampling import SMOTE\n",
    "\n",
    "smote = SMOTE(random_state=42)\n",
    "X_train_resampled, y_train_resampled = smote.fit_resample(X_train, y_train)"
   ]
  },
  {
   "cell_type": "markdown",
   "id": "a2165e37",
   "metadata": {},
   "source": [
    "## Shape data to match Conv1D Input Shape"
   ]
  },
  {
   "cell_type": "code",
   "execution_count": 8,
   "id": "48312641",
   "metadata": {
    "colab": {
     "base_uri": "https://localhost:8080/"
    },
    "id": "48312641",
    "outputId": "372beef9-917e-48e4-d43b-c1461c248c21"
   },
   "outputs": [
    {
     "name": "stdout",
     "output_type": "stream",
     "text": [
      "(27022, 300)\n",
      "(27022,)\n"
     ]
    }
   ],
   "source": [
    "X_train_resampled = np.array(X_train_resampled)\n",
    "\n",
    "# Check the shape of the resampled dataset\n",
    "print(X_train_resampled.shape)  # Expected shape: (num_samples, embedding_dim)\n",
    "print(y_train_resampled.shape)  # Expected shape: (num_samples,)"
   ]
  },
  {
   "cell_type": "code",
   "execution_count": 9,
   "id": "-L9XMWvttIQJ",
   "metadata": {
    "colab": {
     "base_uri": "https://localhost:8080/"
    },
    "id": "-L9XMWvttIQJ",
    "outputId": "765c2537-b331-41e1-b130-377e9ae441f8",
    "scrolled": true
   },
   "outputs": [
    {
     "name": "stdout",
     "output_type": "stream",
     "text": [
      "(27022, 300, 1)\n"
     ]
    }
   ],
   "source": [
    "# Reshape train data to match Conv1D input shape: (num_samples, embedding_dim, 1)\n",
    "X_train_resampled = X_train_resampled.reshape(X_train_resampled.shape[0], X_train_resampled.shape[1], 1)\n",
    "print(X_train_resampled.shape)"
   ]
  },
  {
   "cell_type": "code",
   "execution_count": null,
   "id": "05a23630",
   "metadata": {},
   "outputs": [],
   "source": [
    "# Reshape test data to match Conv1D input shape: (num_samples, embedding_dim, 1)\n",
    "X_test = X_test.reshape(X_test.shape[0], X_test.shape[1], 1)\n",
    "print(X_test.shape)  # Should be (num_samples, 1, embedding_dim)"
   ]
  },
  {
   "cell_type": "markdown",
   "id": "3jCIyh5z_wvq",
   "metadata": {
    "id": "3jCIyh5z_wvq"
   },
   "source": [
    "## Single Conv1D Layer"
   ]
  },
  {
   "cell_type": "code",
   "execution_count": 11,
   "id": "7xs2qUhQJSH9",
   "metadata": {
    "colab": {
     "base_uri": "https://localhost:8080/"
    },
    "id": "7xs2qUhQJSH9",
    "outputId": "9230250d-3829-46d7-9727-60c2b8bb8cfb"
   },
   "outputs": [
    {
     "name": "stdout",
     "output_type": "stream",
     "text": [
      "Model: \"sequential\"\n",
      "_________________________________________________________________\n",
      " Layer (type)                Output Shape              Param #   \n",
      "=================================================================\n",
      " conv1d (Conv1D)             (None, 296, 128)          768       \n",
      "                                                                 \n",
      " max_pooling1d (MaxPooling1  (None, 148, 128)          0         \n",
      " D)                                                              \n",
      "                                                                 \n",
      " flatten (Flatten)           (None, 18944)             0         \n",
      "                                                                 \n",
      " dense (Dense)               (None, 128)               2424960   \n",
      "                                                                 \n",
      " dropout (Dropout)           (None, 128)               0         \n",
      "                                                                 \n",
      " dense_1 (Dense)             (None, 1)                 129       \n",
      "                                                                 \n",
      "=================================================================\n",
      "Total params: 2425857 (9.25 MB)\n",
      "Trainable params: 2425857 (9.25 MB)\n",
      "Non-trainable params: 0 (0.00 Byte)\n",
      "_________________________________________________________________\n"
     ]
    }
   ],
   "source": [
    "# Define the CNN model\n",
    "model1 = Sequential()\n",
    "\n",
    "# Add a Conv1D layer\n",
    "model1.add(Conv1D(filters=128, kernel_size=5, activation='relu', input_shape=(X_train_resampled.shape[1], X_train_resampled.shape[2])))\n",
    "\n",
    "# Add a MaxPooling layer\n",
    "model1.add(MaxPooling1D(pool_size=2))\n",
    "\n",
    "# Add a Flatten layer to convert 3D data to 1D\n",
    "model1.add(Flatten())\n",
    "\n",
    "# Add a Dense layer\n",
    "model1.add(Dense(128, activation='relu'))\n",
    "# Add a Dropout layer to prevent overfitting\n",
    "model1.add(Dropout(0.5))\n",
    "\n",
    "# Add the output layer with sigmoid activation for binary classification\n",
    "model1.add(Dense(1, activation='sigmoid'))\n",
    "\n",
    "# Compile the model\n",
    "model1.compile(optimizer='adam', loss='binary_crossentropy', metrics=['accuracy'])\n",
    "\n",
    "model1.summary()"
   ]
  },
  {
   "cell_type": "code",
   "execution_count": 12,
   "id": "sBiPRCRZxCY-",
   "metadata": {
    "colab": {
     "base_uri": "https://localhost:8080/"
    },
    "id": "sBiPRCRZxCY-",
    "outputId": "08f0fae0-6c6e-4865-de3e-733fa13f0a15"
   },
   "outputs": [
    {
     "name": "stdout",
     "output_type": "stream",
     "text": [
      "Epoch 1/50\n",
      "338/338 [==============================] - 9s 7ms/step - loss: 0.4898 - accuracy: 0.7671 - val_loss: 0.5629 - val_accuracy: 0.7040\n",
      "Epoch 2/50\n",
      "338/338 [==============================] - 2s 7ms/step - loss: 0.4077 - accuracy: 0.8210 - val_loss: 0.4773 - val_accuracy: 0.7819\n",
      "Epoch 3/50\n",
      "338/338 [==============================] - 2s 6ms/step - loss: 0.3866 - accuracy: 0.8338 - val_loss: 0.5010 - val_accuracy: 0.7676\n",
      "Epoch 4/50\n",
      "338/338 [==============================] - 3s 7ms/step - loss: 0.3793 - accuracy: 0.8392 - val_loss: 0.5026 - val_accuracy: 0.7660\n",
      "Epoch 5/50\n",
      "338/338 [==============================] - 2s 6ms/step - loss: 0.3681 - accuracy: 0.8459 - val_loss: 0.5285 - val_accuracy: 0.7288\n",
      "Epoch 6/50\n",
      "338/338 [==============================] - 2s 6ms/step - loss: 0.3611 - accuracy: 0.8481 - val_loss: 0.4227 - val_accuracy: 0.8187\n",
      "Epoch 7/50\n",
      "338/338 [==============================] - 2s 6ms/step - loss: 0.3557 - accuracy: 0.8543 - val_loss: 0.4499 - val_accuracy: 0.7937\n",
      "Epoch 8/50\n",
      "338/338 [==============================] - 2s 6ms/step - loss: 0.3534 - accuracy: 0.8522 - val_loss: 0.4725 - val_accuracy: 0.7726\n",
      "Epoch 9/50\n",
      "338/338 [==============================] - 2s 5ms/step - loss: 0.3479 - accuracy: 0.8572 - val_loss: 0.1905 - val_accuracy: 0.9549\n",
      "Epoch 10/50\n",
      "338/338 [==============================] - 2s 6ms/step - loss: 0.3445 - accuracy: 0.8561 - val_loss: 0.2971 - val_accuracy: 0.8897\n",
      "Epoch 11/50\n",
      "338/338 [==============================] - 2s 7ms/step - loss: 0.3410 - accuracy: 0.8556 - val_loss: 0.3136 - val_accuracy: 0.8860\n",
      "Epoch 12/50\n",
      "338/338 [==============================] - 2s 5ms/step - loss: 0.3346 - accuracy: 0.8625 - val_loss: 0.2035 - val_accuracy: 0.9375\n",
      "Epoch 13/50\n",
      "338/338 [==============================] - 2s 5ms/step - loss: 0.3357 - accuracy: 0.8618 - val_loss: 0.4345 - val_accuracy: 0.7993\n",
      "Epoch 14/50\n",
      "338/338 [==============================] - 2s 5ms/step - loss: 0.3325 - accuracy: 0.8619 - val_loss: 0.3595 - val_accuracy: 0.8459\n",
      "Epoch 15/50\n",
      "338/338 [==============================] - 2s 5ms/step - loss: 0.3301 - accuracy: 0.8638 - val_loss: 0.3581 - val_accuracy: 0.8488\n",
      "Epoch 16/50\n",
      "338/338 [==============================] - 2s 5ms/step - loss: 0.3271 - accuracy: 0.8643 - val_loss: 0.2068 - val_accuracy: 0.9447\n",
      "Epoch 17/50\n",
      "338/338 [==============================] - 2s 5ms/step - loss: 0.3292 - accuracy: 0.8662 - val_loss: 0.2832 - val_accuracy: 0.8988\n",
      "Epoch 18/50\n",
      "338/338 [==============================] - 2s 6ms/step - loss: 0.3179 - accuracy: 0.8688 - val_loss: 0.2950 - val_accuracy: 0.8858\n",
      "Epoch 19/50\n",
      "338/338 [==============================] - 2s 6ms/step - loss: 0.3166 - accuracy: 0.8722 - val_loss: 0.3593 - val_accuracy: 0.8464\n",
      "Epoch 20/50\n",
      "338/338 [==============================] - 2s 5ms/step - loss: 0.3163 - accuracy: 0.8691 - val_loss: 0.2276 - val_accuracy: 0.9275\n",
      "Epoch 21/50\n",
      "338/338 [==============================] - 2s 5ms/step - loss: 0.3096 - accuracy: 0.8719 - val_loss: 0.2667 - val_accuracy: 0.9093\n",
      "Epoch 22/50\n",
      "338/338 [==============================] - 2s 5ms/step - loss: 0.3046 - accuracy: 0.8760 - val_loss: 0.2560 - val_accuracy: 0.9121\n",
      "Epoch 23/50\n",
      "338/338 [==============================] - 2s 5ms/step - loss: 0.3035 - accuracy: 0.8745 - val_loss: 0.3245 - val_accuracy: 0.8646\n",
      "Epoch 24/50\n",
      "338/338 [==============================] - 2s 5ms/step - loss: 0.2993 - accuracy: 0.8758 - val_loss: 0.2051 - val_accuracy: 0.9284\n",
      "Epoch 25/50\n",
      "338/338 [==============================] - 2s 6ms/step - loss: 0.2994 - accuracy: 0.8753 - val_loss: 0.2659 - val_accuracy: 0.9068\n",
      "Epoch 26/50\n",
      "338/338 [==============================] - 2s 6ms/step - loss: 0.2984 - accuracy: 0.8764 - val_loss: 0.2516 - val_accuracy: 0.9099\n",
      "Epoch 27/50\n",
      "338/338 [==============================] - 2s 5ms/step - loss: 0.2977 - accuracy: 0.8785 - val_loss: 0.2802 - val_accuracy: 0.9068\n",
      "Epoch 28/50\n",
      "338/338 [==============================] - 2s 5ms/step - loss: 0.2929 - accuracy: 0.8788 - val_loss: 0.2648 - val_accuracy: 0.9121\n",
      "Epoch 29/50\n",
      "338/338 [==============================] - 2s 5ms/step - loss: 0.2932 - accuracy: 0.8792 - val_loss: 0.2482 - val_accuracy: 0.9082\n",
      "Epoch 30/50\n",
      "338/338 [==============================] - 2s 5ms/step - loss: 0.2895 - accuracy: 0.8797 - val_loss: 0.2109 - val_accuracy: 0.9236\n",
      "Epoch 31/50\n",
      "338/338 [==============================] - 2s 5ms/step - loss: 0.2879 - accuracy: 0.8808 - val_loss: 0.2368 - val_accuracy: 0.9169\n",
      "Epoch 32/50\n",
      "338/338 [==============================] - 2s 5ms/step - loss: 0.2843 - accuracy: 0.8812 - val_loss: 0.2988 - val_accuracy: 0.8757\n",
      "Epoch 33/50\n",
      "338/338 [==============================] - 2s 6ms/step - loss: 0.2764 - accuracy: 0.8863 - val_loss: 0.2113 - val_accuracy: 0.9217\n",
      "Epoch 34/50\n",
      "338/338 [==============================] - 2s 6ms/step - loss: 0.2731 - accuracy: 0.8882 - val_loss: 0.2526 - val_accuracy: 0.9042\n",
      "Epoch 35/50\n",
      "338/338 [==============================] - 2s 5ms/step - loss: 0.2659 - accuracy: 0.8899 - val_loss: 0.2417 - val_accuracy: 0.9156\n",
      "Epoch 36/50\n",
      "338/338 [==============================] - 2s 5ms/step - loss: 0.2695 - accuracy: 0.8854 - val_loss: 0.2835 - val_accuracy: 0.8971\n",
      "Epoch 37/50\n",
      "338/338 [==============================] - 2s 5ms/step - loss: 0.2679 - accuracy: 0.8901 - val_loss: 0.1959 - val_accuracy: 0.9362\n",
      "Epoch 38/50\n",
      "338/338 [==============================] - 2s 5ms/step - loss: 0.2658 - accuracy: 0.8875 - val_loss: 0.1577 - val_accuracy: 0.9506\n",
      "Epoch 39/50\n",
      "338/338 [==============================] - 2s 5ms/step - loss: 0.2635 - accuracy: 0.8914 - val_loss: 0.3433 - val_accuracy: 0.8564\n",
      "Epoch 40/50\n",
      "338/338 [==============================] - 2s 6ms/step - loss: 0.2611 - accuracy: 0.8898 - val_loss: 0.3090 - val_accuracy: 0.8792\n",
      "Epoch 41/50\n",
      "338/338 [==============================] - 2s 6ms/step - loss: 0.2595 - accuracy: 0.8887 - val_loss: 0.2554 - val_accuracy: 0.9079\n",
      "Epoch 42/50\n",
      "338/338 [==============================] - 2s 7ms/step - loss: 0.2522 - accuracy: 0.8926 - val_loss: 0.1993 - val_accuracy: 0.9323\n",
      "Epoch 43/50\n",
      "338/338 [==============================] - 2s 5ms/step - loss: 0.2547 - accuracy: 0.8942 - val_loss: 0.2383 - val_accuracy: 0.9225\n",
      "Epoch 44/50\n",
      "338/338 [==============================] - 2s 5ms/step - loss: 0.2615 - accuracy: 0.8908 - val_loss: 0.2105 - val_accuracy: 0.9439\n",
      "Epoch 45/50\n",
      "338/338 [==============================] - 2s 5ms/step - loss: 0.2552 - accuracy: 0.8927 - val_loss: 0.1630 - val_accuracy: 0.9530\n",
      "Epoch 46/50\n",
      "338/338 [==============================] - 2s 5ms/step - loss: 0.2454 - accuracy: 0.8960 - val_loss: 0.3824 - val_accuracy: 0.8237\n",
      "Epoch 47/50\n",
      "338/338 [==============================] - 2s 6ms/step - loss: 0.2491 - accuracy: 0.8947 - val_loss: 0.1507 - val_accuracy: 0.9454\n",
      "Epoch 48/50\n",
      "338/338 [==============================] - 2s 6ms/step - loss: 0.2415 - accuracy: 0.8979 - val_loss: 0.1427 - val_accuracy: 0.9550\n",
      "Epoch 49/50\n",
      "338/338 [==============================] - 2s 5ms/step - loss: 0.2388 - accuracy: 0.8994 - val_loss: 0.1868 - val_accuracy: 0.9412\n",
      "Epoch 50/50\n",
      "338/338 [==============================] - 2s 5ms/step - loss: 0.2426 - accuracy: 0.8974 - val_loss: 0.1494 - val_accuracy: 0.9669\n"
     ]
    },
    {
     "data": {
      "text/plain": [
       "<keras.src.callbacks.History at 0x7f16727f8520>"
      ]
     },
     "execution_count": 12,
     "metadata": {},
     "output_type": "execute_result"
    }
   ],
   "source": [
    "model1.fit(X_train_resampled, y_train_resampled,\n",
    "           validation_split=0.2,\n",
    "           epochs=50,\n",
    "           batch_size=64)"
   ]
  },
  {
   "cell_type": "code",
   "execution_count": 13,
   "id": "6e662f23",
   "metadata": {
    "colab": {
     "base_uri": "https://localhost:8080/"
    },
    "id": "6e662f23",
    "outputId": "a421cef3-4a7d-4c97-f420-c6ca715be5d6",
    "scrolled": false
   },
   "outputs": [
    {
     "name": "stdout",
     "output_type": "stream",
     "text": [
      "139/139 [==============================] - 0s 2ms/step\n"
     ]
    }
   ],
   "source": [
    "y_pred = (model1.predict(X_test) > 0.5).astype(\"int32\")"
   ]
  },
  {
   "cell_type": "code",
   "execution_count": 14,
   "id": "c88b336f",
   "metadata": {
    "colab": {
     "base_uri": "https://localhost:8080/",
     "height": 449
    },
    "id": "c88b336f",
    "outputId": "4373a0fe-ad36-44d6-f167-5b06faa9fec2"
   },
   "outputs": [
    {
     "data": {
      "image/png": "[encoded data removed]",
      "text/plain": [
       "<Figure size 640x480 with 2 Axes>"
      ]
     },
     "metadata": {},
     "output_type": "display_data"
    }
   ],
   "source": [
    "# Calculate the confusion matrix\n",
    "cm = confusion_matrix(y_test, y_pred)\n",
    "\n",
    "# Plot the confusion matrix\n",
    "disp = ConfusionMatrixDisplay(confusion_matrix=cm)\n",
    "disp.plot(cmap=plt.cm.Blues)\n",
    "plt.show()"
   ]
  },
  {
   "cell_type": "code",
   "execution_count": 15,
   "id": "ead42d3b",
   "metadata": {
    "colab": {
     "base_uri": "https://localhost:8080/"
    },
    "id": "ead42d3b",
    "outputId": "bd22b623-bdf1-410e-ea2c-d8b02e9684ca",
    "scrolled": true
   },
   "outputs": [
    {
     "name": "stdout",
     "output_type": "stream",
     "text": [
      "Accuracy: 0.8503\n",
      "Precision: 0.6568\n",
      "Recall: 0.7763\n",
      "F1 Score: 0.7116\n"
     ]
    }
   ],
   "source": [
    "# Calculate accuracy\n",
    "accuracy = accuracy_score(y_test, y_pred)\n",
    "print(f'Accuracy: {accuracy:.4f}')\n",
    "\n",
    "# Calculate precision\n",
    "precision = precision_score(y_test, y_pred)\n",
    "print(f'Precision: {precision:.4f}')\n",
    "\n",
    "# Calculate recall\n",
    "recall = recall_score(y_test, y_pred)\n",
    "print(f'Recall: {recall:.4f}')\n",
    "\n",
    "# Calculate F1 score\n",
    "f1 = f1_score(y_test, y_pred)\n",
    "print(f'F1 Score: {f1:.4f}')"
   ]
  },
  {
   "cell_type": "markdown",
   "id": "gMtRbWGG_6DT",
   "metadata": {
    "id": "gMtRbWGG_6DT"
   },
   "source": [
    "## Two Conv1D Layers"
   ]
  },
  {
   "cell_type": "code",
   "execution_count": 16,
   "id": "LGHDAO5E00Ck",
   "metadata": {
    "colab": {
     "base_uri": "https://localhost:8080/"
    },
    "id": "LGHDAO5E00Ck",
    "outputId": "c69887ef-2a20-4103-8730-9991ca6d5b24"
   },
   "outputs": [
    {
     "name": "stdout",
     "output_type": "stream",
     "text": [
      "Model: \"sequential_1\"\n",
      "_________________________________________________________________\n",
      " Layer (type)                Output Shape              Param #   \n",
      "=================================================================\n",
      " conv1d_1 (Conv1D)           (None, 296, 128)          768       \n",
      "                                                                 \n",
      " max_pooling1d_1 (MaxPoolin  (None, 148, 128)          0         \n",
      " g1D)                                                            \n",
      "                                                                 \n",
      " conv1d_2 (Conv1D)           (None, 146, 64)           24640     \n",
      "                                                                 \n",
      " max_pooling1d_2 (MaxPoolin  (None, 73, 64)            0         \n",
      " g1D)                                                            \n",
      "                                                                 \n",
      " flatten_1 (Flatten)         (None, 4672)              0         \n",
      "                                                                 \n",
      " dense_2 (Dense)             (None, 128)               598144    \n",
      "                                                                 \n",
      " dropout_1 (Dropout)         (None, 128)               0         \n",
      "                                                                 \n",
      " dense_3 (Dense)             (None, 1)                 129       \n",
      "                                                                 \n",
      "=================================================================\n",
      "Total params: 623681 (2.38 MB)\n",
      "Trainable params: 623681 (2.38 MB)\n",
      "Non-trainable params: 0 (0.00 Byte)\n",
      "_________________________________________________________________\n"
     ]
    }
   ],
   "source": [
    "# Define the CNN model\n",
    "model2 = Sequential()\n",
    "\n",
    "# Add the first Conv1D layer\n",
    "model2.add(Conv1D(filters=128, kernel_size=5, activation='relu', input_shape=(X_train_resampled.shape[1], X_train_resampled.shape[2])))\n",
    "model2.add(MaxPooling1D(pool_size=2))\n",
    "\n",
    "# Add a second Conv1D layer\n",
    "model2.add(Conv1D(filters=64, kernel_size=3, activation='relu'))\n",
    "model2.add(MaxPooling1D(pool_size=2))\n",
    "\n",
    "# Add a Flatten layer to convert 3D data to 1D\n",
    "model2.add(Flatten())\n",
    "\n",
    "# Add a Dense layer\n",
    "model2.add(Dense(128, activation='relu'))\n",
    "# Add a Dropout layer to prevent overfitting\n",
    "model2.add(Dropout(0.5))\n",
    "\n",
    "# Add the output layer with sigmoid activation for binary classification\n",
    "model2.add(Dense(1, activation='sigmoid'))\n",
    "\n",
    "# Compile the model\n",
    "model2.compile(optimizer='adam', loss='binary_crossentropy', metrics=['accuracy'])\n",
    "\n",
    "model2.summary()"
   ]
  },
  {
   "cell_type": "code",
   "execution_count": 17,
   "id": "-UPyAmRVKpUm",
   "metadata": {
    "colab": {
     "base_uri": "https://localhost:8080/"
    },
    "id": "-UPyAmRVKpUm",
    "outputId": "19b25484-49f2-4eb3-d71f-7464511fec24"
   },
   "outputs": [
    {
     "name": "stdout",
     "output_type": "stream",
     "text": [
      "Epoch 1/50\n",
      "338/338 [==============================] - 5s 7ms/step - loss: 0.5282 - accuracy: 0.7348 - val_loss: 0.6502 - val_accuracy: 0.6411\n",
      "Epoch 2/50\n",
      "338/338 [==============================] - 2s 5ms/step - loss: 0.4274 - accuracy: 0.8090 - val_loss: 0.4874 - val_accuracy: 0.7983\n",
      "Epoch 3/50\n",
      "338/338 [==============================] - 2s 5ms/step - loss: 0.3929 - accuracy: 0.8296 - val_loss: 0.4283 - val_accuracy: 0.8194\n",
      "Epoch 4/50\n",
      "338/338 [==============================] - 2s 5ms/step - loss: 0.3736 - accuracy: 0.8426 - val_loss: 0.3585 - val_accuracy: 0.8535\n",
      "Epoch 5/50\n",
      "338/338 [==============================] - 2s 5ms/step - loss: 0.3606 - accuracy: 0.8465 - val_loss: 0.4158 - val_accuracy: 0.8198\n",
      "Epoch 6/50\n",
      "338/338 [==============================] - 2s 6ms/step - loss: 0.3503 - accuracy: 0.8520 - val_loss: 0.4476 - val_accuracy: 0.7944\n",
      "Epoch 7/50\n",
      "338/338 [==============================] - 2s 7ms/step - loss: 0.3426 - accuracy: 0.8558 - val_loss: 0.2996 - val_accuracy: 0.8879\n",
      "Epoch 8/50\n",
      "338/338 [==============================] - 2s 5ms/step - loss: 0.3300 - accuracy: 0.8627 - val_loss: 0.3634 - val_accuracy: 0.8368\n",
      "Epoch 9/50\n",
      "338/338 [==============================] - 2s 5ms/step - loss: 0.3261 - accuracy: 0.8642 - val_loss: 0.2581 - val_accuracy: 0.9080\n",
      "Epoch 10/50\n",
      "338/338 [==============================] - 2s 5ms/step - loss: 0.3166 - accuracy: 0.8697 - val_loss: 0.2983 - val_accuracy: 0.8866\n",
      "Epoch 11/50\n",
      "338/338 [==============================] - 2s 7ms/step - loss: 0.3080 - accuracy: 0.8731 - val_loss: 0.3278 - val_accuracy: 0.8662\n",
      "Epoch 12/50\n",
      "338/338 [==============================] - 2s 5ms/step - loss: 0.3006 - accuracy: 0.8752 - val_loss: 0.3102 - val_accuracy: 0.8775\n",
      "Epoch 13/50\n",
      "338/338 [==============================] - 2s 6ms/step - loss: 0.2906 - accuracy: 0.8806 - val_loss: 0.2155 - val_accuracy: 0.9273\n",
      "Epoch 14/50\n",
      "338/338 [==============================] - 2s 7ms/step - loss: 0.2827 - accuracy: 0.8831 - val_loss: 0.2445 - val_accuracy: 0.9227\n",
      "Epoch 15/50\n",
      "338/338 [==============================] - 2s 5ms/step - loss: 0.2792 - accuracy: 0.8859 - val_loss: 0.2898 - val_accuracy: 0.8849\n",
      "Epoch 16/50\n",
      "338/338 [==============================] - 2s 5ms/step - loss: 0.2714 - accuracy: 0.8893 - val_loss: 0.2551 - val_accuracy: 0.9075\n",
      "Epoch 17/50\n",
      "338/338 [==============================] - 2s 5ms/step - loss: 0.2677 - accuracy: 0.8896 - val_loss: 0.2882 - val_accuracy: 0.8825\n",
      "Epoch 18/50\n",
      "338/338 [==============================] - 2s 5ms/step - loss: 0.2560 - accuracy: 0.8949 - val_loss: 0.2583 - val_accuracy: 0.9130\n",
      "Epoch 19/50\n",
      "338/338 [==============================] - 2s 5ms/step - loss: 0.2483 - accuracy: 0.8983 - val_loss: 0.1269 - val_accuracy: 0.9654\n",
      "Epoch 20/50\n",
      "338/338 [==============================] - 2s 6ms/step - loss: 0.2410 - accuracy: 0.9026 - val_loss: 0.4331 - val_accuracy: 0.8017\n",
      "Epoch 21/50\n",
      "338/338 [==============================] - 2s 7ms/step - loss: 0.2336 - accuracy: 0.9039 - val_loss: 0.2622 - val_accuracy: 0.8999\n",
      "Epoch 22/50\n",
      "338/338 [==============================] - 2s 6ms/step - loss: 0.2273 - accuracy: 0.9079 - val_loss: 0.2675 - val_accuracy: 0.9019\n",
      "Epoch 23/50\n",
      "338/338 [==============================] - 2s 6ms/step - loss: 0.2167 - accuracy: 0.9115 - val_loss: 0.1735 - val_accuracy: 0.9419\n",
      "Epoch 24/50\n",
      "338/338 [==============================] - 2s 5ms/step - loss: 0.2144 - accuracy: 0.9135 - val_loss: 0.2492 - val_accuracy: 0.9258\n",
      "Epoch 25/50\n",
      "338/338 [==============================] - 2s 5ms/step - loss: 0.2073 - accuracy: 0.9165 - val_loss: 0.1426 - val_accuracy: 0.9600\n",
      "Epoch 26/50\n",
      "338/338 [==============================] - 2s 5ms/step - loss: 0.2008 - accuracy: 0.9211 - val_loss: 0.1438 - val_accuracy: 0.9573\n",
      "Epoch 27/50\n",
      "338/338 [==============================] - 2s 6ms/step - loss: 0.1922 - accuracy: 0.9230 - val_loss: 0.2038 - val_accuracy: 0.9166\n",
      "Epoch 28/50\n",
      "338/338 [==============================] - 2s 7ms/step - loss: 0.1876 - accuracy: 0.9243 - val_loss: 0.1670 - val_accuracy: 0.9517\n",
      "Epoch 29/50\n",
      "338/338 [==============================] - 2s 5ms/step - loss: 0.1786 - accuracy: 0.9301 - val_loss: 0.1451 - val_accuracy: 0.9558\n",
      "Epoch 30/50\n",
      "338/338 [==============================] - 2s 5ms/step - loss: 0.1696 - accuracy: 0.9323 - val_loss: 0.1219 - val_accuracy: 0.9669\n",
      "Epoch 31/50\n",
      "338/338 [==============================] - 2s 5ms/step - loss: 0.1688 - accuracy: 0.9314 - val_loss: 0.1547 - val_accuracy: 0.9493\n",
      "Epoch 32/50\n",
      "338/338 [==============================] - 2s 5ms/step - loss: 0.1633 - accuracy: 0.9351 - val_loss: 0.1325 - val_accuracy: 0.9578\n",
      "Epoch 33/50\n",
      "338/338 [==============================] - 2s 6ms/step - loss: 0.1543 - accuracy: 0.9393 - val_loss: 0.1168 - val_accuracy: 0.9658\n",
      "Epoch 34/50\n",
      "338/338 [==============================] - 2s 6ms/step - loss: 0.1593 - accuracy: 0.9379 - val_loss: 0.0813 - val_accuracy: 0.9808\n",
      "Epoch 35/50\n",
      "338/338 [==============================] - 2s 7ms/step - loss: 0.1437 - accuracy: 0.9419 - val_loss: 0.0882 - val_accuracy: 0.9828\n",
      "Epoch 36/50\n",
      "338/338 [==============================] - 2s 5ms/step - loss: 0.1404 - accuracy: 0.9455 - val_loss: 0.0716 - val_accuracy: 0.9826\n",
      "Epoch 37/50\n",
      "338/338 [==============================] - 2s 5ms/step - loss: 0.1315 - accuracy: 0.9491 - val_loss: 0.1054 - val_accuracy: 0.9865\n",
      "Epoch 38/50\n",
      "338/338 [==============================] - 2s 5ms/step - loss: 0.1342 - accuracy: 0.9463 - val_loss: 0.0882 - val_accuracy: 0.9821\n",
      "Epoch 39/50\n",
      "338/338 [==============================] - 2s 5ms/step - loss: 0.1199 - accuracy: 0.9535 - val_loss: 0.1083 - val_accuracy: 0.9673\n",
      "Epoch 40/50\n",
      "338/338 [==============================] - 2s 5ms/step - loss: 0.1211 - accuracy: 0.9519 - val_loss: 0.0878 - val_accuracy: 0.9784\n",
      "Epoch 41/50\n",
      "338/338 [==============================] - 2s 6ms/step - loss: 0.1180 - accuracy: 0.9523 - val_loss: 0.0741 - val_accuracy: 0.9817\n",
      "Epoch 42/50\n",
      "338/338 [==============================] - 2s 7ms/step - loss: 0.1126 - accuracy: 0.9561 - val_loss: 0.0583 - val_accuracy: 0.9885\n",
      "Epoch 43/50\n",
      "338/338 [==============================] - 2s 5ms/step - loss: 0.1120 - accuracy: 0.9553 - val_loss: 0.0593 - val_accuracy: 0.9900\n",
      "Epoch 44/50\n",
      "338/338 [==============================] - 2s 5ms/step - loss: 0.1051 - accuracy: 0.9597 - val_loss: 0.1234 - val_accuracy: 0.9678\n",
      "Epoch 45/50\n",
      "338/338 [==============================] - 2s 5ms/step - loss: 0.1033 - accuracy: 0.9605 - val_loss: 0.0511 - val_accuracy: 0.9939\n",
      "Epoch 46/50\n",
      "338/338 [==============================] - 2s 5ms/step - loss: 0.1025 - accuracy: 0.9603 - val_loss: 0.0941 - val_accuracy: 0.9830\n",
      "Epoch 47/50\n",
      "338/338 [==============================] - 2s 6ms/step - loss: 0.1025 - accuracy: 0.9603 - val_loss: 0.0523 - val_accuracy: 0.9891\n",
      "Epoch 48/50\n",
      "338/338 [==============================] - 2s 6ms/step - loss: 0.0970 - accuracy: 0.9633 - val_loss: 0.0567 - val_accuracy: 0.9895\n",
      "Epoch 49/50\n",
      "338/338 [==============================] - 2s 7ms/step - loss: 0.0973 - accuracy: 0.9630 - val_loss: 0.0936 - val_accuracy: 0.9722\n",
      "Epoch 50/50\n",
      "338/338 [==============================] - 2s 5ms/step - loss: 0.0910 - accuracy: 0.9659 - val_loss: 0.0579 - val_accuracy: 0.9883\n"
     ]
    },
    {
     "data": {
      "text/plain": [
       "<keras.src.callbacks.History at 0x7f166c0c2e30>"
      ]
     },
     "execution_count": 17,
     "metadata": {},
     "output_type": "execute_result"
    }
   ],
   "source": [
    "model2.fit(X_train_resampled, y_train_resampled,\n",
    "           validation_split=0.2,\n",
    "           epochs=50,\n",
    "           batch_size=64)"
   ]
  },
  {
   "cell_type": "code",
   "execution_count": 18,
   "id": "aHBFo4uOKpU1",
   "metadata": {
    "colab": {
     "base_uri": "https://localhost:8080/"
    },
    "id": "aHBFo4uOKpU1",
    "outputId": "2d0a45bc-d429-4605-820d-2aeaced461a3",
    "scrolled": false
   },
   "outputs": [
    {
     "name": "stdout",
     "output_type": "stream",
     "text": [
      "139/139 [==============================] - 0s 2ms/step\n"
     ]
    }
   ],
   "source": [
    "y_pred = (model2.predict(X_test) > 0.5).astype(\"int32\")"
   ]
  },
  {
   "cell_type": "code",
   "execution_count": 19,
   "id": "S_GCq4aGKpU1",
   "metadata": {
    "colab": {
     "base_uri": "https://localhost:8080/",
     "height": 449
    },
    "id": "S_GCq4aGKpU1",
    "outputId": "527afcce-ac8b-4667-de34-88850a8447f6"
   },
   "outputs": [
    {
     "data": {
      "image/png": "[encoded data removed]",
      "text/plain": [
       "<Figure size 640x480 with 2 Axes>"
      ]
     },
     "metadata": {},
     "output_type": "display_data"
    }
   ],
   "source": [
    "# Calculate the confusion matrix\n",
    "cm = confusion_matrix(y_test, y_pred)\n",
    "\n",
    "# Plot the confusion matrix\n",
    "disp = ConfusionMatrixDisplay(confusion_matrix=cm)\n",
    "disp.plot(cmap=plt.cm.Blues)\n",
    "plt.show()"
   ]
  },
  {
   "cell_type": "code",
   "execution_count": 20,
   "id": "7j3CXZvGKpU1",
   "metadata": {
    "colab": {
     "base_uri": "https://localhost:8080/"
    },
    "id": "7j3CXZvGKpU1",
    "outputId": "65caaf9d-fe67-4ff8-e155-4c1d11120f7b",
    "scrolled": true
   },
   "outputs": [
    {
     "name": "stdout",
     "output_type": "stream",
     "text": [
      "Accuracy: 0.8469\n",
      "Precision: 0.6950\n",
      "Recall: 0.6351\n",
      "F1 Score: 0.6637\n"
     ]
    }
   ],
   "source": [
    "# Calculate accuracy\n",
    "accuracy = accuracy_score(y_test, y_pred)\n",
    "print(f'Accuracy: {accuracy:.4f}')\n",
    "\n",
    "# Calculate precision\n",
    "precision = precision_score(y_test, y_pred)\n",
    "print(f'Precision: {precision:.4f}')\n",
    "\n",
    "# Calculate recall\n",
    "recall = recall_score(y_test, y_pred)\n",
    "print(f'Recall: {recall:.4f}')\n",
    "\n",
    "# Calculate F1 score\n",
    "f1 = f1_score(y_test, y_pred)\n",
    "print(f'F1 Score: {f1:.4f}')"
   ]
  },
  {
   "cell_type": "markdown",
   "id": "R6P27I6CPChi",
   "metadata": {
    "id": "R6P27I6CPChi"
   },
   "source": [
    "### Using two Conv1D layers is not improving the performance of the model. So one Conv1D layer is enough to train the model"
   ]
  },
  {
   "cell_type": "markdown",
   "id": "HF7p-bm8JWF7",
   "metadata": {
    "id": "HF7p-bm8JWF7"
   },
   "source": [
    "## Single Conv1D Layer (With Batch Normalization)"
   ]
  },
  {
   "cell_type": "code",
   "execution_count": 21,
   "id": "86c3bb49",
   "metadata": {
    "colab": {
     "base_uri": "https://localhost:8080/"
    },
    "id": "86c3bb49",
    "outputId": "7242c398-2ba0-48ad-d48b-9921c2e80296"
   },
   "outputs": [
    {
     "name": "stdout",
     "output_type": "stream",
     "text": [
      "Model: \"sequential_2\"\n",
      "_________________________________________________________________\n",
      " Layer (type)                Output Shape              Param #   \n",
      "=================================================================\n",
      " conv1d_3 (Conv1D)           (None, 296, 128)          768       \n",
      "                                                                 \n",
      " max_pooling1d_3 (MaxPoolin  (None, 148, 128)          0         \n",
      " g1D)                                                            \n",
      "                                                                 \n",
      " batch_normalization (Batch  (None, 148, 128)          512       \n",
      " Normalization)                                                  \n",
      "                                                                 \n",
      " flatten_2 (Flatten)         (None, 18944)             0         \n",
      "                                                                 \n",
      " dense_4 (Dense)             (None, 128)               2424960   \n",
      "                                                                 \n",
      " dropout_2 (Dropout)         (None, 128)               0         \n",
      "                                                                 \n",
      " dense_5 (Dense)             (None, 1)                 129       \n",
      "                                                                 \n",
      "=================================================================\n",
      "Total params: 2426369 (9.26 MB)\n",
      "Trainable params: 2426113 (9.25 MB)\n",
      "Non-trainable params: 256 (1.00 KB)\n",
      "_________________________________________________________________\n"
     ]
    }
   ],
   "source": [
    "# Define the CNN model\n",
    "model3 = Sequential()\n",
    "\n",
    "# Add a Conv1D layer\n",
    "model3.add(Conv1D(filters=128, kernel_size=5, activation='relu', input_shape=(X_train_resampled.shape[1], X_train_resampled.shape[2])))\n",
    "\n",
    "# Add a MaxPooling layer\n",
    "model3.add(MaxPooling1D(pool_size=2))\n",
    "\n",
    "#Peform BatchNormalization\n",
    "model3.add(BatchNormalization())\n",
    "\n",
    "# Add a Flatten layer to convert 3D data to 1D\n",
    "model3.add(Flatten())\n",
    "\n",
    "# Add a Dense layer\n",
    "model3.add(Dense(128, activation='relu'))\n",
    "# Add a Dropout layer to prevent overfitting\n",
    "model3.add(Dropout(0.5))\n",
    "\n",
    "# Add the output layer with sigmoid activation for binary classification\n",
    "model3.add(Dense(1, activation='sigmoid'))\n",
    "\n",
    "# Compile the model\n",
    "model3.compile(optimizer='adam', loss='binary_crossentropy', metrics=['accuracy'])\n",
    "\n",
    "model3.summary()"
   ]
  },
  {
   "cell_type": "code",
   "execution_count": 22,
   "id": "ke6lavljKWtg",
   "metadata": {
    "colab": {
     "base_uri": "https://localhost:8080/"
    },
    "id": "ke6lavljKWtg",
    "outputId": "d727d66f-fc02-430b-abd8-38b29055a1f9"
   },
   "outputs": [
    {
     "name": "stdout",
     "output_type": "stream",
     "text": [
      "Epoch 1/50\n",
      "338/338 [==============================] - 5s 7ms/step - loss: 0.4707 - accuracy: 0.7756 - val_loss: 1.5554 - val_accuracy: 0.0126\n",
      "Epoch 2/50\n",
      "338/338 [==============================] - 2s 6ms/step - loss: 0.3992 - accuracy: 0.8257 - val_loss: 0.8897 - val_accuracy: 0.4270\n",
      "Epoch 3/50\n",
      "338/338 [==============================] - 2s 6ms/step - loss: 0.3829 - accuracy: 0.8347 - val_loss: 0.9516 - val_accuracy: 0.4557\n",
      "Epoch 4/50\n",
      "338/338 [==============================] - 2s 6ms/step - loss: 0.3657 - accuracy: 0.8473 - val_loss: 0.1559 - val_accuracy: 0.9549\n",
      "Epoch 5/50\n",
      "338/338 [==============================] - 2s 6ms/step - loss: 0.3544 - accuracy: 0.8491 - val_loss: 0.8063 - val_accuracy: 0.5391\n",
      "Epoch 6/50\n",
      "338/338 [==============================] - 3s 8ms/step - loss: 0.3463 - accuracy: 0.8564 - val_loss: 0.6386 - val_accuracy: 0.6585\n",
      "Epoch 7/50\n",
      "338/338 [==============================] - 2s 6ms/step - loss: 0.3373 - accuracy: 0.8574 - val_loss: 0.9553 - val_accuracy: 0.4720\n",
      "Epoch 8/50\n",
      "338/338 [==============================] - 2s 6ms/step - loss: 0.3336 - accuracy: 0.8593 - val_loss: 0.4252 - val_accuracy: 0.8161\n",
      "Epoch 9/50\n",
      "338/338 [==============================] - 2s 6ms/step - loss: 0.3186 - accuracy: 0.8679 - val_loss: 0.3298 - val_accuracy: 0.8727\n",
      "Epoch 10/50\n",
      "338/338 [==============================] - 2s 6ms/step - loss: 0.3159 - accuracy: 0.8681 - val_loss: 0.4334 - val_accuracy: 0.8037\n",
      "Epoch 11/50\n",
      "338/338 [==============================] - 2s 6ms/step - loss: 0.3080 - accuracy: 0.8723 - val_loss: 0.4250 - val_accuracy: 0.8050\n",
      "Epoch 12/50\n",
      "338/338 [==============================] - 2s 7ms/step - loss: 0.3016 - accuracy: 0.8740 - val_loss: 0.1759 - val_accuracy: 0.9428\n",
      "Epoch 13/50\n",
      "338/338 [==============================] - 2s 7ms/step - loss: 0.2976 - accuracy: 0.8763 - val_loss: 0.6144 - val_accuracy: 0.6753\n",
      "Epoch 14/50\n",
      "338/338 [==============================] - 2s 6ms/step - loss: 0.2863 - accuracy: 0.8822 - val_loss: 0.4200 - val_accuracy: 0.8118\n",
      "Epoch 15/50\n",
      "338/338 [==============================] - 2s 6ms/step - loss: 0.2836 - accuracy: 0.8819 - val_loss: 0.3887 - val_accuracy: 0.8416\n",
      "Epoch 16/50\n",
      "338/338 [==============================] - 2s 6ms/step - loss: 0.2724 - accuracy: 0.8874 - val_loss: 0.2605 - val_accuracy: 0.9075\n",
      "Epoch 17/50\n",
      "338/338 [==============================] - 2s 6ms/step - loss: 0.2706 - accuracy: 0.8899 - val_loss: 0.5544 - val_accuracy: 0.7005\n",
      "Epoch 18/50\n",
      "338/338 [==============================] - 2s 7ms/step - loss: 0.2637 - accuracy: 0.8900 - val_loss: 0.6478 - val_accuracy: 0.7001\n",
      "Epoch 19/50\n",
      "338/338 [==============================] - 3s 8ms/step - loss: 0.2577 - accuracy: 0.8929 - val_loss: 0.1604 - val_accuracy: 0.9532\n",
      "Epoch 20/50\n",
      "338/338 [==============================] - 2s 6ms/step - loss: 0.2617 - accuracy: 0.8928 - val_loss: 0.4166 - val_accuracy: 0.8218\n",
      "Epoch 21/50\n",
      "338/338 [==============================] - 2s 6ms/step - loss: 0.2523 - accuracy: 0.8952 - val_loss: 0.0633 - val_accuracy: 0.9826\n",
      "Epoch 22/50\n",
      "338/338 [==============================] - 2s 6ms/step - loss: 0.2517 - accuracy: 0.8964 - val_loss: 0.2047 - val_accuracy: 0.9541\n",
      "Epoch 23/50\n",
      "338/338 [==============================] - 2s 6ms/step - loss: 0.2432 - accuracy: 0.9000 - val_loss: 0.2409 - val_accuracy: 0.9360\n",
      "Epoch 24/50\n",
      "338/338 [==============================] - 2s 6ms/step - loss: 0.2412 - accuracy: 0.9009 - val_loss: 0.5957 - val_accuracy: 0.7291\n",
      "Epoch 25/50\n",
      "338/338 [==============================] - 2s 7ms/step - loss: 0.2343 - accuracy: 0.9041 - val_loss: 0.3702 - val_accuracy: 0.8335\n",
      "Epoch 26/50\n",
      "338/338 [==============================] - 2s 7ms/step - loss: 0.2298 - accuracy: 0.9046 - val_loss: 0.2353 - val_accuracy: 0.9517\n",
      "Epoch 27/50\n",
      "338/338 [==============================] - 2s 6ms/step - loss: 0.2268 - accuracy: 0.9100 - val_loss: 0.1290 - val_accuracy: 0.9613\n",
      "Epoch 28/50\n",
      "338/338 [==============================] - 2s 6ms/step - loss: 0.2214 - accuracy: 0.9115 - val_loss: 0.2307 - val_accuracy: 0.9302\n",
      "Epoch 29/50\n",
      "338/338 [==============================] - 2s 6ms/step - loss: 0.2116 - accuracy: 0.9159 - val_loss: 0.1904 - val_accuracy: 0.9204\n",
      "Epoch 30/50\n",
      "338/338 [==============================] - 2s 6ms/step - loss: 0.2118 - accuracy: 0.9125 - val_loss: 0.0545 - val_accuracy: 0.9811\n",
      "Epoch 31/50\n",
      "338/338 [==============================] - 2s 7ms/step - loss: 0.2125 - accuracy: 0.9147 - val_loss: 0.2148 - val_accuracy: 0.9227\n",
      "Epoch 32/50\n",
      "338/338 [==============================] - 3s 7ms/step - loss: 0.2073 - accuracy: 0.9155 - val_loss: 0.0724 - val_accuracy: 0.9826\n",
      "Epoch 33/50\n",
      "338/338 [==============================] - 2s 6ms/step - loss: 0.2079 - accuracy: 0.9155 - val_loss: 0.3646 - val_accuracy: 0.8327\n",
      "Epoch 34/50\n",
      "338/338 [==============================] - 2s 6ms/step - loss: 0.2013 - accuracy: 0.9180 - val_loss: 0.3491 - val_accuracy: 0.8772\n",
      "Epoch 35/50\n",
      "338/338 [==============================] - 2s 6ms/step - loss: 0.1993 - accuracy: 0.9212 - val_loss: 0.2055 - val_accuracy: 0.9180\n",
      "Epoch 36/50\n",
      "338/338 [==============================] - 2s 6ms/step - loss: 0.1912 - accuracy: 0.9236 - val_loss: 0.0763 - val_accuracy: 0.9802\n",
      "Epoch 37/50\n",
      "338/338 [==============================] - 2s 6ms/step - loss: 0.1898 - accuracy: 0.9235 - val_loss: 0.3193 - val_accuracy: 0.8873\n",
      "Epoch 38/50\n",
      "338/338 [==============================] - 3s 8ms/step - loss: 0.1932 - accuracy: 0.9219 - val_loss: 0.1460 - val_accuracy: 0.9721\n",
      "Epoch 39/50\n",
      "338/338 [==============================] - 2s 7ms/step - loss: 0.1830 - accuracy: 0.9262 - val_loss: 0.0964 - val_accuracy: 0.9795\n",
      "Epoch 40/50\n",
      "338/338 [==============================] - 2s 6ms/step - loss: 0.1828 - accuracy: 0.9260 - val_loss: 0.0557 - val_accuracy: 0.9895\n",
      "Epoch 41/50\n",
      "338/338 [==============================] - 2s 6ms/step - loss: 0.1817 - accuracy: 0.9258 - val_loss: 0.1111 - val_accuracy: 0.9739\n",
      "Epoch 42/50\n",
      "338/338 [==============================] - 2s 6ms/step - loss: 0.1689 - accuracy: 0.9312 - val_loss: 0.0905 - val_accuracy: 0.9761\n",
      "Epoch 43/50\n",
      "338/338 [==============================] - 2s 6ms/step - loss: 0.1787 - accuracy: 0.9268 - val_loss: 0.3131 - val_accuracy: 0.8710\n",
      "Epoch 44/50\n",
      "338/338 [==============================] - 2s 7ms/step - loss: 0.1795 - accuracy: 0.9286 - val_loss: 0.1939 - val_accuracy: 0.9530\n",
      "Epoch 45/50\n",
      "338/338 [==============================] - 3s 8ms/step - loss: 0.1773 - accuracy: 0.9307 - val_loss: 0.2806 - val_accuracy: 0.9199\n",
      "Epoch 46/50\n",
      "338/338 [==============================] - 2s 6ms/step - loss: 0.1708 - accuracy: 0.9326 - val_loss: 0.1156 - val_accuracy: 0.9904\n",
      "Epoch 47/50\n",
      "338/338 [==============================] - 2s 6ms/step - loss: 0.1714 - accuracy: 0.9323 - val_loss: 0.1745 - val_accuracy: 0.9591\n",
      "Epoch 48/50\n",
      "338/338 [==============================] - 2s 6ms/step - loss: 0.1672 - accuracy: 0.9341 - val_loss: 0.2252 - val_accuracy: 0.9687\n",
      "Epoch 49/50\n",
      "338/338 [==============================] - 2s 6ms/step - loss: 0.1562 - accuracy: 0.9360 - val_loss: 0.0935 - val_accuracy: 0.9761\n",
      "Epoch 50/50\n",
      "338/338 [==============================] - 2s 7ms/step - loss: 0.1595 - accuracy: 0.9351 - val_loss: 0.1309 - val_accuracy: 0.9826\n"
     ]
    },
    {
     "data": {
      "text/plain": [
       "<keras.src.callbacks.History at 0x7f166234ac20>"
      ]
     },
     "execution_count": 22,
     "metadata": {},
     "output_type": "execute_result"
    }
   ],
   "source": [
    "model3.fit(X_train_resampled, y_train_resampled,\n",
    "           validation_split=0.2,\n",
    "           epochs=50,\n",
    "           batch_size=64)"
   ]
  },
  {
   "cell_type": "code",
   "execution_count": 23,
   "id": "ZAZtK9cgKWtn",
   "metadata": {
    "colab": {
     "base_uri": "https://localhost:8080/"
    },
    "id": "ZAZtK9cgKWtn",
    "outputId": "c015fb1d-fbcd-4537-d1ee-888a54d0a155",
    "scrolled": false
   },
   "outputs": [
    {
     "name": "stdout",
     "output_type": "stream",
     "text": [
      "139/139 [==============================] - 0s 2ms/step\n"
     ]
    }
   ],
   "source": [
    "y_pred = (model3.predict(X_test) > 0.5).astype(\"int32\")"
   ]
  },
  {
   "cell_type": "code",
   "execution_count": 24,
   "id": "YJunH2GsKWtn",
   "metadata": {
    "colab": {
     "base_uri": "https://localhost:8080/",
     "height": 451
    },
    "id": "YJunH2GsKWtn",
    "outputId": "2f126f9c-f168-448e-e9ae-87bcc5ac8348"
   },
   "outputs": [
    {
     "data": {
      "image/png": "[encoded data removed]",
      "text/plain": [
       "<Figure size 640x480 with 2 Axes>"
      ]
     },
     "metadata": {},
     "output_type": "display_data"
    }
   ],
   "source": [
    "# Calculate the confusion matrix\n",
    "cm = confusion_matrix(y_test, y_pred)\n",
    "\n",
    "# Plot the confusion matrix\n",
    "disp = ConfusionMatrixDisplay(confusion_matrix=cm)\n",
    "disp.plot(cmap=plt.cm.Blues)\n",
    "plt.show()"
   ]
  },
  {
   "cell_type": "code",
   "execution_count": 25,
   "id": "2TZ1VXzUKWtn",
   "metadata": {
    "colab": {
     "base_uri": "https://localhost:8080/"
    },
    "id": "2TZ1VXzUKWtn",
    "outputId": "0bdf16ff-c3be-4eb0-8a89-fc9c530d6a7e",
    "scrolled": true
   },
   "outputs": [
    {
     "name": "stdout",
     "output_type": "stream",
     "text": [
      "Accuracy: 0.8532\n",
      "Precision: 0.6813\n",
      "Recall: 0.7194\n",
      "F1 Score: 0.6999\n"
     ]
    }
   ],
   "source": [
    "# Calculate accuracy\n",
    "accuracy = accuracy_score(y_test, y_pred)\n",
    "print(f'Accuracy: {accuracy:.4f}')\n",
    "\n",
    "# Calculate precision\n",
    "precision = precision_score(y_test, y_pred)\n",
    "print(f'Precision: {precision:.4f}')\n",
    "\n",
    "# Calculate recall\n",
    "recall = recall_score(y_test, y_pred)\n",
    "print(f'Recall: {recall:.4f}')\n",
    "\n",
    "# Calculate F1 score\n",
    "f1 = f1_score(y_test, y_pred)\n",
    "print(f'F1 Score: {f1:.4f}')"
   ]
  },
  {
   "cell_type": "markdown",
   "id": "dSz8ELtqPHuk",
   "metadata": {
    "id": "dSz8ELtqPHuk"
   },
   "source": [
    "### With Batch Normalization, the recall value is increasing. But the overall F1-score is decreased. So no need to implement batch normalization"
   ]
  },
  {
   "cell_type": "markdown",
   "id": "kQ4FQ88rKzbL",
   "metadata": {
    "id": "kQ4FQ88rKzbL"
   },
   "source": [
    "## Model Tuning\n",
    "\n",
    "\n",
    "### Implement early stopping and learning rate reduction techniques, while ensuring that 'y_pred' achieves a balanced precision and recall."
   ]
  },
  {
   "cell_type": "code",
   "execution_count": 32,
   "id": "sB8fNQ2C0_Gq",
   "metadata": {
    "colab": {
     "base_uri": "https://localhost:8080/"
    },
    "id": "sB8fNQ2C0_Gq",
    "outputId": "31cd16b7-6c23-485a-c608-2d5b9dae21cd"
   },
   "outputs": [
    {
     "name": "stdout",
     "output_type": "stream",
     "text": [
      "Model: \"sequential_4\"\n",
      "_________________________________________________________________\n",
      " Layer (type)                Output Shape              Param #   \n",
      "=================================================================\n",
      " conv1d_5 (Conv1D)           (None, 296, 128)          768       \n",
      "                                                                 \n",
      " max_pooling1d_5 (MaxPoolin  (None, 148, 128)          0         \n",
      " g1D)                                                            \n",
      "                                                                 \n",
      " flatten_4 (Flatten)         (None, 18944)             0         \n",
      "                                                                 \n",
      " dense_8 (Dense)             (None, 128)               2424960   \n",
      "                                                                 \n",
      " dropout_4 (Dropout)         (None, 128)               0         \n",
      "                                                                 \n",
      " dense_9 (Dense)             (None, 1)                 129       \n",
      "                                                                 \n",
      "=================================================================\n",
      "Total params: 2425857 (9.25 MB)\n",
      "Trainable params: 2425857 (9.25 MB)\n",
      "Non-trainable params: 0 (0.00 Byte)\n",
      "_________________________________________________________________\n"
     ]
    }
   ],
   "source": [
    "# Define the CNN model\n",
    "model = Sequential()\n",
    "\n",
    "# Add a Conv1D layer\n",
    "model.add(Conv1D(filters=128, kernel_size=5, activation='relu', input_shape=(X_train_resampled.shape[1], X_train_resampled.shape[2])))\n",
    "\n",
    "# Add a MaxPooling layer\n",
    "model.add(MaxPooling1D(pool_size=2))\n",
    "\n",
    "# Add a Flatten layer to convert 3D data to 1D\n",
    "model.add(Flatten())\n",
    "\n",
    "# Add a Dense layer\n",
    "model.add(Dense(128, activation='relu'))\n",
    "# Add a Dropout layer to prevent overfitting\n",
    "model.add(Dropout(0.5))\n",
    "\n",
    "# Add the output layer with sigmoid activation for binary classification\n",
    "model.add(Dense(1, activation='sigmoid'))\n",
    "\n",
    "# Compile the model\n",
    "model.compile(optimizer='adam', loss='binary_crossentropy', metrics=['accuracy'])\n",
    "\n",
    "model.summary()"
   ]
  },
  {
   "cell_type": "markdown",
   "id": "3af38f39",
   "metadata": {},
   "source": [
    "### Early stopping is a technique used to prevent overfitting of a model to the training data. It works by monitoring the performance of the model on a separate validation dataset during training. If the performance (e.g., validation loss or accuracy) stops improving or starts deteriorating for a certain number of epochs, training is halted early. This prevents the model from continuing to learn patterns specific to the training data that do not generalize well to unseen data."
   ]
  },
  {
   "cell_type": "markdown",
   "id": "04b6d17d",
   "metadata": {},
   "source": [
    "### Learning rate reduction is a technique to improve the convergence of the model during training. It involves reducing the learning rate when the validation performance plateaus. This helps the model to fine-tune more precisely towards the optimal parameters."
   ]
  },
  {
   "cell_type": "code",
   "execution_count": 33,
   "id": "28za1wu5L7LY",
   "metadata": {
    "id": "28za1wu5L7LY"
   },
   "outputs": [],
   "source": [
    "# Define early stopping callback\n",
    "early_stopping = EarlyStopping(monitor='val_loss', patience=5, restore_best_weights=True)\n",
    "\n",
    "# Define learning rate reduction callback\n",
    "reduce_lr = ReduceLROnPlateau(monitor='val_loss', factor=0.1, patience=3, min_lr=0.00001)"
   ]
  },
  {
   "cell_type": "code",
   "execution_count": 34,
   "id": "5aoYS_ATL7kp",
   "metadata": {
    "colab": {
     "base_uri": "https://localhost:8080/"
    },
    "id": "5aoYS_ATL7kp",
    "outputId": "55cc98c8-3211-4417-84c9-64b835cf1cea"
   },
   "outputs": [
    {
     "name": "stdout",
     "output_type": "stream",
     "text": [
      "Epoch 1/50\n",
      "338/338 [==============================] - 4s 6ms/step - loss: 0.4801 - accuracy: 0.7716 - val_loss: 0.4260 - val_accuracy: 0.8309 - lr: 0.0010\n",
      "Epoch 2/50\n",
      "338/338 [==============================] - 2s 5ms/step - loss: 0.4017 - accuracy: 0.8247 - val_loss: 0.3361 - val_accuracy: 0.8875 - lr: 0.0010\n",
      "Epoch 3/50\n",
      "338/338 [==============================] - 2s 5ms/step - loss: 0.3903 - accuracy: 0.8319 - val_loss: 0.5489 - val_accuracy: 0.7249 - lr: 0.0010\n",
      "Epoch 4/50\n",
      "338/338 [==============================] - 2s 5ms/step - loss: 0.3763 - accuracy: 0.8407 - val_loss: 0.5223 - val_accuracy: 0.7428 - lr: 0.0010\n",
      "Epoch 5/50\n",
      "338/338 [==============================] - 2s 5ms/step - loss: 0.3631 - accuracy: 0.8456 - val_loss: 0.5372 - val_accuracy: 0.7410 - lr: 0.0010\n",
      "Epoch 6/50\n",
      "338/338 [==============================] - 2s 5ms/step - loss: 0.3412 - accuracy: 0.8592 - val_loss: 0.3332 - val_accuracy: 0.8688 - lr: 1.0000e-04\n",
      "Epoch 7/50\n",
      "338/338 [==============================] - 2s 6ms/step - loss: 0.3360 - accuracy: 0.8627 - val_loss: 0.3614 - val_accuracy: 0.8522 - lr: 1.0000e-04\n",
      "Epoch 8/50\n",
      "338/338 [==============================] - 2s 6ms/step - loss: 0.3346 - accuracy: 0.8646 - val_loss: 0.3042 - val_accuracy: 0.8858 - lr: 1.0000e-04\n",
      "Epoch 9/50\n",
      "338/338 [==============================] - 2s 5ms/step - loss: 0.3313 - accuracy: 0.8646 - val_loss: 0.3764 - val_accuracy: 0.8403 - lr: 1.0000e-04\n",
      "Epoch 10/50\n",
      "338/338 [==============================] - 2s 5ms/step - loss: 0.3306 - accuracy: 0.8665 - val_loss: 0.3269 - val_accuracy: 0.8736 - lr: 1.0000e-04\n",
      "Epoch 11/50\n",
      "338/338 [==============================] - 2s 5ms/step - loss: 0.3284 - accuracy: 0.8682 - val_loss: 0.3248 - val_accuracy: 0.8751 - lr: 1.0000e-04\n",
      "Epoch 12/50\n",
      "338/338 [==============================] - 2s 5ms/step - loss: 0.3262 - accuracy: 0.8681 - val_loss: 0.3388 - val_accuracy: 0.8677 - lr: 1.0000e-05\n",
      "Epoch 13/50\n",
      "338/338 [==============================] - 2s 5ms/step - loss: 0.3223 - accuracy: 0.8701 - val_loss: 0.3420 - val_accuracy: 0.8636 - lr: 1.0000e-05\n"
     ]
    }
   ],
   "source": [
    "# Fit the model with early stopping and learning rate reduction\n",
    "history = model.fit(X_train_resampled, y_train_resampled,\n",
    "                    validation_split=0.2,\n",
    "                    epochs=50,\n",
    "                    batch_size=64,\n",
    "                    callbacks=[early_stopping, reduce_lr])"
   ]
  },
  {
   "cell_type": "markdown",
   "id": "c5111c36",
   "metadata": {},
   "source": [
    "## Choose a threshold that balances precision and recall."
   ]
  },
  {
   "cell_type": "code",
   "execution_count": 35,
   "id": "sWeEnHzy00GE",
   "metadata": {
    "colab": {
     "base_uri": "https://localhost:8080/"
    },
    "id": "sWeEnHzy00GE",
    "outputId": "48fb5e00-9840-4076-84dd-c698af8953db"
   },
   "outputs": [
    {
     "name": "stdout",
     "output_type": "stream",
     "text": [
      "139/139 [==============================] - 0s 2ms/step\n"
     ]
    }
   ],
   "source": [
    "y_pred_prob = model.predict(X_test)\n",
    "precision, recall, thresholds = precision_recall_curve(y_test, y_pred_prob)\n",
    "\n",
    "# Threshold\n",
    "best_threshold = thresholds[np.argmax(precision * recall)]\n",
    "y_pred = (y_pred_prob >= best_threshold).astype(int)"
   ]
  },
  {
   "cell_type": "code",
   "execution_count": 36,
   "id": "wsKQmfI300Iy",
   "metadata": {
    "colab": {
     "base_uri": "https://localhost:8080/",
     "height": 449
    },
    "id": "wsKQmfI300Iy",
    "outputId": "5b3f7e13-7d36-49d5-a8f9-fb8e319ee7b9"
   },
   "outputs": [
    {
     "data": {
      "image/png": "[encoded data removed]",
      "text/plain": [
       "<Figure size 640x480 with 2 Axes>"
      ]
     },
     "metadata": {},
     "output_type": "display_data"
    }
   ],
   "source": [
    "# Calculate the confusion matrix\n",
    "cm = confusion_matrix(y_test, y_pred)\n",
    "\n",
    "# Plot the confusion matrix\n",
    "disp = ConfusionMatrixDisplay(confusion_matrix=cm)\n",
    "disp.plot(cmap=plt.cm.Blues)\n",
    "plt.show()"
   ]
  },
  {
   "cell_type": "code",
   "execution_count": 37,
   "id": "22BL13CG00La",
   "metadata": {
    "colab": {
     "base_uri": "https://localhost:8080/"
    },
    "id": "22BL13CG00La",
    "outputId": "ad86588a-8886-4a65-ad34-7dae8725f042"
   },
   "outputs": [
    {
     "name": "stdout",
     "output_type": "stream",
     "text": [
      "Accuracy: 0.8541\n",
      "Precision: 0.6729\n",
      "Recall: 0.7526\n",
      "F1 Score: 0.7105\n"
     ]
    }
   ],
   "source": [
    "# Calculate accuracy\n",
    "accuracy = accuracy_score(y_test, y_pred)\n",
    "print(f'Accuracy: {accuracy:.4f}')\n",
    "\n",
    "# Calculate precision\n",
    "precision = precision_score(y_test, y_pred)\n",
    "print(f'Precision: {precision:.4f}')\n",
    "\n",
    "# Calculate recall\n",
    "recall = recall_score(y_test, y_pred)\n",
    "print(f'Recall: {recall:.4f}')\n",
    "\n",
    "# Calculate F1 score\n",
    "f1 = f1_score(y_test, y_pred)\n",
    "print(f'F1 Score: {f1:.4f}')"
   ]
  }
 ],
 "metadata": {
  "accelerator": "GPU",
  "colab": {
   "gpuType": "T4",
   "provenance": []
  },
  "kernelspec": {
   "display_name": "Python 3 (ipykernel)",
   "language": "python",
   "name": "python3"
  },
  "language_info": {
   "codemirror_mode": {
    "name": "ipython",
    "version": 3
   },
   "file_extension": ".py",
   "mimetype": "text/x-python",
   "name": "python",
   "nbconvert_exporter": "python",
   "pygments_lexer": "ipython3",
   "version": "3.11.0"
  }
 },
 "nbformat": 4,
 "nbformat_minor": 5
}
