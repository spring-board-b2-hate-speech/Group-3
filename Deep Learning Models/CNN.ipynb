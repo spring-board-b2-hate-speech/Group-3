{
  "nbformat": 4,
  "nbformat_minor": 0,
  "metadata": {
    "colab": {
      "provenance": [],
      "collapsed_sections": [
        "r26ZZ3E11ddN",
        "FIfq5aR_m8bt",
        "dGDt1Y_ynHdz",
        "KFj6ytG1nNhE",
        "eqRznVXwnbgu",
        "mhlYv7z4qiT2",
        "GEXOR6TI0IWm",
        "8nuS48Cl0vM_",
        "IfgX6IOGwv1m",
        "TWI5ZfZKs1CH",
        "h60--KF7t3vO",
        "23zef6Kg34wd",
        "COTiOuYq4fXf",
        "_BFQDq-K4nAi"
      ],
      "gpuType": "T4"
    },
    "kernelspec": {
      "name": "python3",
      "display_name": "Python 3"
    },
    "language_info": {
      "name": "python"
    },
    "accelerator": "GPU"
  },
  "cells": [
    {
      "cell_type": "markdown",
      "source": [
        "# Data Loading & Preprocessing"
      ],
      "metadata": {
        "id": "r26ZZ3E11ddN"
      }
    },
    {
      "cell_type": "code",
      "execution_count": 1,
      "metadata": {
        "colab": {
          "base_uri": "https://localhost:8080/"
        },
        "id": "SR8MTGcBLtom",
        "outputId": "07610efe-d71a-4278-bdb0-fd34f6524cb3"
      },
      "outputs": [
        {
          "output_type": "stream",
          "name": "stdout",
          "text": [
            "Requirement already satisfied: imblearn in /usr/local/lib/python3.10/dist-packages (0.0)\n",
            "Requirement already satisfied: imbalanced-learn in /usr/local/lib/python3.10/dist-packages (from imblearn) (0.10.1)\n",
            "Requirement already satisfied: numpy>=1.17.3 in /usr/local/lib/python3.10/dist-packages (from imbalanced-learn->imblearn) (1.25.2)\n",
            "Requirement already satisfied: scipy>=1.3.2 in /usr/local/lib/python3.10/dist-packages (from imbalanced-learn->imblearn) (1.11.4)\n",
            "Requirement already satisfied: scikit-learn>=1.0.2 in /usr/local/lib/python3.10/dist-packages (from imbalanced-learn->imblearn) (1.2.2)\n",
            "Requirement already satisfied: joblib>=1.1.1 in /usr/local/lib/python3.10/dist-packages (from imbalanced-learn->imblearn) (1.4.2)\n",
            "Requirement already satisfied: threadpoolctl>=2.0.0 in /usr/local/lib/python3.10/dist-packages (from imbalanced-learn->imblearn) (3.5.0)\n"
          ]
        }
      ],
      "source": [
        "!pip install imblearn"
      ]
    },
    {
      "cell_type": "code",
      "source": [
        "import pandas as pd\n",
        "import numpy as np\n",
        "\n",
        "from sklearn.model_selection import train_test_split\n",
        "from imblearn.over_sampling import SMOTE\n",
        "\n",
        "from keras.models import Sequential\n",
        "from keras.layers import Conv1D, MaxPooling1D, Dense, Dropout, Flatten, BatchNormalization\n",
        "\n",
        "import matplotlib.pyplot as plt\n",
        "from sklearn.metrics import confusion_matrix, ConfusionMatrixDisplay\n",
        "from sklearn.metrics import accuracy_score, precision_score, recall_score, f1_score\n",
        "\n",
        "from sklearn.metrics import precision_recall_curve\n",
        "from keras.callbacks import EarlyStopping, ReduceLROnPlateau"
      ],
      "metadata": {
        "id": "H2aP04BELyjT"
      },
      "execution_count": 2,
      "outputs": []
    },
    {
      "cell_type": "code",
      "source": [
        "# Mount Google Drive to access files\n",
        "from google.colab import drive\n",
        "drive.mount('/content/drive')"
      ],
      "metadata": {
        "colab": {
          "base_uri": "https://localhost:8080/"
        },
        "id": "n52rtnpgLytp",
        "outputId": "c38bc84f-a842-4f04-f2bb-edda38786258"
      },
      "execution_count": 3,
      "outputs": [
        {
          "output_type": "stream",
          "name": "stdout",
          "text": [
            "Drive already mounted at /content/drive; to attempt to forcibly remount, call drive.mount(\"/content/drive\", force_remount=True).\n"
          ]
        }
      ]
    },
    {
      "cell_type": "code",
      "source": [
        "# Load preprocessed data\n",
        "X_train_processed = pd.read_csv('/content/drive/MyDrive/Train_Encoded.csv')\n",
        "X_test_processed = pd.read_csv('/content/drive/MyDrive/Test_Encoded.csv')"
      ],
      "metadata": {
        "id": "VX_FYjkOLyvS"
      },
      "execution_count": 4,
      "outputs": []
    },
    {
      "cell_type": "code",
      "source": [
        "#Convert string to list format\n",
        "X_train_processed['document_vector'] = X_train_processed['document_vector_flat'].apply(lambda x: np.fromstring(x, sep=','))\n",
        "X_test_processed['document_vector'] = X_test_processed['document_vector_flat'].apply(lambda x: np.fromstring(x, sep=','))"
      ],
      "metadata": {
        "id": "Iojd-HewLyxj"
      },
      "execution_count": 5,
      "outputs": []
    },
    {
      "cell_type": "code",
      "source": [
        "# Separate features and class labels\n",
        "X_train = X_train_processed['document_vector'].tolist()\n",
        "X_test = X_test_processed['document_vector'].tolist()\n",
        "y_train = X_train_processed['hate_speech']\n",
        "y_test = X_test_processed['hate_speech']"
      ],
      "metadata": {
        "id": "9n6RsIvuLy1P"
      },
      "execution_count": 6,
      "outputs": []
    },
    {
      "cell_type": "code",
      "source": [
        "class_distribution = y_train.value_counts()\n",
        "\n",
        "print(\"Class Distribution:\")\n",
        "print(class_distribution)"
      ],
      "metadata": {
        "colab": {
          "base_uri": "https://localhost:8080/"
        },
        "id": "Tr481MD9Mwgp",
        "outputId": "84f9ddb3-86ed-431c-c822-adc38bccda45"
      },
      "execution_count": 7,
      "outputs": [
        {
          "output_type": "stream",
          "name": "stdout",
          "text": [
            "Class Distribution:\n",
            "hate_speech\n",
            "0    13513\n",
            "1     4229\n",
            "Name: count, dtype: int64\n"
          ]
        }
      ]
    },
    {
      "cell_type": "code",
      "source": [
        "plt.figure(figsize=(8, 6))\n",
        "class_distribution.plot(kind='bar', color=['skyblue', 'orange'])\n",
        "plt.title('Class Distribution')\n",
        "plt.xlabel('Class')\n",
        "plt.ylabel('Number of Instances')\n",
        "plt.xticks(rotation=0)\n",
        "plt.show()"
      ],
      "metadata": {
        "colab": {
          "base_uri": "https://localhost:8080/",
          "height": 564
        },
        "id": "4l6SeX0QOjRC",
        "outputId": "82e8d038-60dd-4d42-cf41-8119850b5dbc"
      },
      "execution_count": 8,
      "outputs": [
        {
          "output_type": "display_data",
          "data": {
            "text/plain": [
              "<Figure size 800x600 with 1 Axes>"
            ],
            "image/png": "[encoded data removed]"
          },
          "metadata": {}
        }
      ]
    },
    {
      "cell_type": "code",
      "source": [
        "# Apply SMOTE to balance training data\n",
        "smote = SMOTE(random_state=42)\n",
        "X_train_resampled, y_train_resampled = smote.fit_resample(X_train, y_train)"
      ],
      "metadata": {
        "id": "QwoAcI2bMRjM"
      },
      "execution_count": 9,
      "outputs": []
    },
    {
      "cell_type": "code",
      "source": [
        "X_train_resampled = np.array(X_train_resampled)\n",
        "\n",
        "# Check the shape of the resampled dataset\n",
        "print(X_train_resampled.shape)  # Expected shape: (num_samples, embedding_dim)\n",
        "print(y_train_resampled.shape)  # Expected shape: (num_samples,)"
      ],
      "metadata": {
        "colab": {
          "base_uri": "https://localhost:8080/"
        },
        "id": "NPhdvaq_MRt6",
        "outputId": "19dea270-23fe-4b0f-b6b1-b5b0cb66c066"
      },
      "execution_count": 10,
      "outputs": [
        {
          "output_type": "stream",
          "name": "stdout",
          "text": [
            "(27026, 300)\n",
            "(27026,)\n"
          ]
        }
      ]
    },
    {
      "cell_type": "code",
      "source": [
        "# Reshape train data to match Conv1D input shape: (num_samples, embedding_dim, 1)\n",
        "X_train_resampled = X_train_resampled.reshape(X_train_resampled.shape[0], X_train_resampled.shape[1], 1)\n",
        "print(X_train_resampled.shape) # Should be (num_samples, embedding_dim, 1)"
      ],
      "metadata": {
        "colab": {
          "base_uri": "https://localhost:8080/"
        },
        "id": "4lUEOU2AYhWe",
        "outputId": "2680b2f7-e5eb-4f45-80e6-b4aefaa6f7ce"
      },
      "execution_count": 11,
      "outputs": [
        {
          "output_type": "stream",
          "name": "stdout",
          "text": [
            "(27026, 300, 1)\n"
          ]
        }
      ]
    },
    {
      "cell_type": "code",
      "source": [
        "X_test = np.array(X_test)\n",
        "\n",
        "# Check the shape of the resampled dataset\n",
        "print(X_test.shape)  # Expected shape: (num_samples, embedding_dim)\n",
        "print(y_test.shape)  # Expected shape: (num_samples,)"
      ],
      "metadata": {
        "colab": {
          "base_uri": "https://localhost:8080/"
        },
        "id": "9IsUQ2j8MR7i",
        "outputId": "1a83457f-883b-48c8-e43d-f686c0ab5aad"
      },
      "execution_count": 12,
      "outputs": [
        {
          "output_type": "stream",
          "name": "stdout",
          "text": [
            "(4436, 300)\n",
            "(4436,)\n"
          ]
        }
      ]
    },
    {
      "cell_type": "code",
      "source": [
        "# Reshape test data to match Conv1D input shape: (num_samples, embedding_dim, 1)\n",
        "X_test = X_test.reshape(X_test.shape[0], X_test.shape[1], 1)\n",
        "print(X_test.shape)  # Should be (num_samples, embedding_dim, 1)"
      ],
      "metadata": {
        "colab": {
          "base_uri": "https://localhost:8080/"
        },
        "id": "IEPDQV1qYjId",
        "outputId": "43dd62db-a8ae-4c47-b762-5d9df8941fa0"
      },
      "execution_count": 13,
      "outputs": [
        {
          "output_type": "stream",
          "name": "stdout",
          "text": [
            "(4436, 300, 1)\n"
          ]
        }
      ]
    },
    {
      "cell_type": "markdown",
      "source": [
        "# Convolutional Neural Network"
      ],
      "metadata": {
        "id": "j81HUktqMzQX"
      }
    },
    {
      "cell_type": "markdown",
      "source": [
        "## One Conv1D Layer and Filters=256"
      ],
      "metadata": {
        "id": "FIfq5aR_m8bt"
      }
    },
    {
      "cell_type": "code",
      "source": [
        "# Define the CNN model\n",
        "model1 = Sequential()\n",
        "\n",
        "# Add a Conv1D layer\n",
        "model1.add(Conv1D(filters=256, kernel_size=5, activation='relu', input_shape=(X_train_resampled.shape[1], X_train_resampled.shape[2])))\n",
        "\n",
        "# Add a MaxPooling layer\n",
        "model1.add(MaxPooling1D(pool_size=2))\n",
        "\n",
        "# Add a Flatten layer to convert 3D data to 1D\n",
        "model1.add(Flatten())\n",
        "\n",
        "# Add the output layer with sigmoid activation for binary classification\n",
        "model1.add(Dense(1, activation='sigmoid'))\n",
        "\n",
        "# Compile the model\n",
        "model1.compile(optimizer='adam', loss='binary_crossentropy', metrics=['accuracy'])\n",
        "\n",
        "model1.summary()"
      ],
      "metadata": {
        "colab": {
          "base_uri": "https://localhost:8080/"
        },
        "id": "KgRF4doKdpy1",
        "outputId": "1598864b-9d87-4980-ddf7-3276ad6dd98f"
      },
      "execution_count": 14,
      "outputs": [
        {
          "output_type": "stream",
          "name": "stdout",
          "text": [
            "Model: \"sequential\"\n",
            "_________________________________________________________________\n",
            " Layer (type)                Output Shape              Param #   \n",
            "=================================================================\n",
            " conv1d (Conv1D)             (None, 296, 256)          1536      \n",
            "                                                                 \n",
            " max_pooling1d (MaxPooling1  (None, 148, 256)          0         \n",
            " D)                                                              \n",
            "                                                                 \n",
            " flatten (Flatten)           (None, 37888)             0         \n",
            "                                                                 \n",
            " dense (Dense)               (None, 1)                 37889     \n",
            "                                                                 \n",
            "=================================================================\n",
            "Total params: 39425 (154.00 KB)\n",
            "Trainable params: 39425 (154.00 KB)\n",
            "Non-trainable params: 0 (0.00 Byte)\n",
            "_________________________________________________________________\n"
          ]
        }
      ]
    },
    {
      "cell_type": "code",
      "source": [
        "# Train the model\n",
        "model1.fit(X_train_resampled, y_train_resampled, epochs=20, batch_size=64, validation_split=0.2)"
      ],
      "metadata": {
        "colab": {
          "base_uri": "https://localhost:8080/"
        },
        "id": "fjGRw2pcMSAl",
        "outputId": "66afeb61-fafe-4cf1-e570-2d03370dfa32"
      },
      "execution_count": 15,
      "outputs": [
        {
          "output_type": "stream",
          "name": "stdout",
          "text": [
            "Epoch 1/20\n",
            "338/338 [==============================] - 4s 6ms/step - loss: 0.5098 - accuracy: 0.7498 - val_loss: 0.5103 - val_accuracy: 0.7506\n",
            "Epoch 2/20\n",
            "338/338 [==============================] - 2s 6ms/step - loss: 0.4158 - accuracy: 0.8219 - val_loss: 0.4732 - val_accuracy: 0.7782\n",
            "Epoch 3/20\n",
            "338/338 [==============================] - 2s 7ms/step - loss: 0.3889 - accuracy: 0.8398 - val_loss: 0.3899 - val_accuracy: 0.8487\n",
            "Epoch 4/20\n",
            "338/338 [==============================] - 2s 5ms/step - loss: 0.3826 - accuracy: 0.8413 - val_loss: 0.2486 - val_accuracy: 0.9349\n",
            "Epoch 5/20\n",
            "338/338 [==============================] - 2s 6ms/step - loss: 0.3677 - accuracy: 0.8502 - val_loss: 0.3846 - val_accuracy: 0.8376\n",
            "Epoch 6/20\n",
            "338/338 [==============================] - 2s 5ms/step - loss: 0.3601 - accuracy: 0.8519 - val_loss: 0.3357 - val_accuracy: 0.8774\n",
            "Epoch 7/20\n",
            "338/338 [==============================] - 2s 5ms/step - loss: 0.3587 - accuracy: 0.8511 - val_loss: 0.4273 - val_accuracy: 0.8041\n",
            "Epoch 8/20\n",
            "338/338 [==============================] - 2s 6ms/step - loss: 0.3529 - accuracy: 0.8556 - val_loss: 0.3241 - val_accuracy: 0.8814\n",
            "Epoch 9/20\n",
            "338/338 [==============================] - 2s 6ms/step - loss: 0.3490 - accuracy: 0.8574 - val_loss: 0.4620 - val_accuracy: 0.7795\n",
            "Epoch 10/20\n",
            "338/338 [==============================] - 2s 7ms/step - loss: 0.3429 - accuracy: 0.8611 - val_loss: 0.3421 - val_accuracy: 0.8707\n",
            "Epoch 11/20\n",
            "338/338 [==============================] - 2s 5ms/step - loss: 0.3494 - accuracy: 0.8553 - val_loss: 0.4034 - val_accuracy: 0.8257\n",
            "Epoch 12/20\n",
            "338/338 [==============================] - 2s 5ms/step - loss: 0.3381 - accuracy: 0.8649 - val_loss: 0.4303 - val_accuracy: 0.7974\n",
            "Epoch 13/20\n",
            "338/338 [==============================] - 2s 6ms/step - loss: 0.3378 - accuracy: 0.8616 - val_loss: 0.3455 - val_accuracy: 0.8657\n",
            "Epoch 14/20\n",
            "338/338 [==============================] - 2s 6ms/step - loss: 0.3357 - accuracy: 0.8647 - val_loss: 0.3378 - val_accuracy: 0.8731\n",
            "Epoch 15/20\n",
            "338/338 [==============================] - 2s 6ms/step - loss: 0.3341 - accuracy: 0.8635 - val_loss: 0.3012 - val_accuracy: 0.8957\n",
            "Epoch 16/20\n",
            "338/338 [==============================] - 2s 7ms/step - loss: 0.3324 - accuracy: 0.8667 - val_loss: 0.5342 - val_accuracy: 0.7305\n",
            "Epoch 17/20\n",
            "338/338 [==============================] - 2s 6ms/step - loss: 0.3299 - accuracy: 0.8670 - val_loss: 0.4341 - val_accuracy: 0.7956\n",
            "Epoch 18/20\n",
            "338/338 [==============================] - 2s 5ms/step - loss: 0.3280 - accuracy: 0.8694 - val_loss: 0.3941 - val_accuracy: 0.8250\n",
            "Epoch 19/20\n",
            "338/338 [==============================] - 2s 5ms/step - loss: 0.3265 - accuracy: 0.8680 - val_loss: 0.3419 - val_accuracy: 0.8659\n",
            "Epoch 20/20\n",
            "338/338 [==============================] - 2s 6ms/step - loss: 0.3245 - accuracy: 0.8708 - val_loss: 0.3564 - val_accuracy: 0.8550\n"
          ]
        },
        {
          "output_type": "execute_result",
          "data": {
            "text/plain": [
              "<keras.src.callbacks.History at 0x7e85fdd24e50>"
            ]
          },
          "metadata": {},
          "execution_count": 15
        }
      ]
    },
    {
      "cell_type": "code",
      "source": [
        "y_pred = (model1.predict(X_test) > 0.5).astype(\"int32\")"
      ],
      "metadata": {
        "colab": {
          "base_uri": "https://localhost:8080/"
        },
        "id": "3pdxCYwvM9IH",
        "outputId": "a831ecc5-f410-4f7a-c795-8b28d7327bc7"
      },
      "execution_count": 16,
      "outputs": [
        {
          "output_type": "stream",
          "name": "stdout",
          "text": [
            "139/139 [==============================] - 0s 2ms/step\n"
          ]
        }
      ]
    },
    {
      "cell_type": "code",
      "source": [
        "# Calculate the confusion matrix\n",
        "cm = confusion_matrix(y_test, y_pred)\n",
        "\n",
        "# Plot the confusion matrix\n",
        "disp = ConfusionMatrixDisplay(confusion_matrix=cm)\n",
        "disp.plot(cmap=plt.cm.Blues)\n",
        "plt.show()"
      ],
      "metadata": {
        "colab": {
          "base_uri": "https://localhost:8080/",
          "height": 450
        },
        "id": "jqCHILGeM9Me",
        "outputId": "5d563732-8ac5-47a0-d85c-b953ecb0aa2f"
      },
      "execution_count": 17,
      "outputs": [
        {
          "output_type": "display_data",
          "data": {
            "text/plain": [
              "<Figure size 640x480 with 2 Axes>"
            ],
            "image/png": "[encoded data removed]"
          },
          "metadata": {}
        }
      ]
    },
    {
      "cell_type": "code",
      "source": [
        "# Calculate accuracy\n",
        "accuracy = accuracy_score(y_test, y_pred)\n",
        "print(f'Accuracy: {accuracy:.4f}')\n",
        "\n",
        "# Calculate precision\n",
        "precision = precision_score(y_test, y_pred)\n",
        "print(f'Precision: {precision:.4f}')\n",
        "\n",
        "# Calculate recall\n",
        "recall = recall_score(y_test, y_pred)\n",
        "print(f'Recall: {recall:.4f}')\n",
        "\n",
        "# Calculate F1 score\n",
        "f1 = f1_score(y_test, y_pred)\n",
        "print(f'F1 Score: {f1:.4f}')"
      ],
      "metadata": {
        "colab": {
          "base_uri": "https://localhost:8080/"
        },
        "id": "k1JttDEEM9Qz",
        "outputId": "2732e357-b053-48cb-83c5-2e5c82c54200"
      },
      "execution_count": 18,
      "outputs": [
        {
          "output_type": "stream",
          "name": "stdout",
          "text": [
            "Accuracy: 0.8521\n",
            "Precision: 0.6851\n",
            "Recall: 0.7020\n",
            "F1 Score: 0.6935\n"
          ]
        }
      ]
    },
    {
      "cell_type": "markdown",
      "source": [
        "## One Conv1D Layer and Filters=128"
      ],
      "metadata": {
        "id": "dGDt1Y_ynHdz"
      }
    },
    {
      "cell_type": "code",
      "source": [
        "# Define the CNN model\n",
        "model2 = Sequential()\n",
        "\n",
        "# Add a Conv1D layer\n",
        "model2.add(Conv1D(filters=128, kernel_size=5, activation='relu', input_shape=(X_train_resampled.shape[1], X_train_resampled.shape[2])))\n",
        "\n",
        "# Add a MaxPooling layer\n",
        "model2.add(MaxPooling1D(pool_size=2))\n",
        "\n",
        "# Add a Flatten layer to convert 3D data to 1D\n",
        "model2.add(Flatten())\n",
        "\n",
        "# Add the output layer with sigmoid activation for binary classification\n",
        "model2.add(Dense(1, activation='sigmoid'))\n",
        "\n",
        "# Compile the model\n",
        "model2.compile(optimizer='adam', loss='binary_crossentropy', metrics=['accuracy'])\n",
        "\n",
        "model2.summary()"
      ],
      "metadata": {
        "colab": {
          "base_uri": "https://localhost:8080/"
        },
        "outputId": "8157ca59-8d95-44ac-e78a-3a8a9597861b",
        "id": "JWAMu_sSnFDX"
      },
      "execution_count": 19,
      "outputs": [
        {
          "output_type": "stream",
          "name": "stdout",
          "text": [
            "Model: \"sequential_1\"\n",
            "_________________________________________________________________\n",
            " Layer (type)                Output Shape              Param #   \n",
            "=================================================================\n",
            " conv1d_1 (Conv1D)           (None, 296, 128)          768       \n",
            "                                                                 \n",
            " max_pooling1d_1 (MaxPoolin  (None, 148, 128)          0         \n",
            " g1D)                                                            \n",
            "                                                                 \n",
            " flatten_1 (Flatten)         (None, 18944)             0         \n",
            "                                                                 \n",
            " dense_1 (Dense)             (None, 1)                 18945     \n",
            "                                                                 \n",
            "=================================================================\n",
            "Total params: 19713 (77.00 KB)\n",
            "Trainable params: 19713 (77.00 KB)\n",
            "Non-trainable params: 0 (0.00 Byte)\n",
            "_________________________________________________________________\n"
          ]
        }
      ]
    },
    {
      "cell_type": "code",
      "source": [
        "# Train the model\n",
        "model2.fit(X_train_resampled, y_train_resampled, epochs=20, batch_size=64, validation_split=0.2)"
      ],
      "metadata": {
        "colab": {
          "base_uri": "https://localhost:8080/"
        },
        "outputId": "f3ef7a8b-efbc-4114-eba8-54ed7bfc4aeb",
        "id": "71pJ06x4nFDX"
      },
      "execution_count": 20,
      "outputs": [
        {
          "output_type": "stream",
          "name": "stdout",
          "text": [
            "Epoch 1/20\n",
            "338/338 [==============================] - 6s 13ms/step - loss: 0.5264 - accuracy: 0.7315 - val_loss: 0.7017 - val_accuracy: 0.5424\n",
            "Epoch 2/20\n",
            "338/338 [==============================] - 3s 9ms/step - loss: 0.4257 - accuracy: 0.8135 - val_loss: 0.7084 - val_accuracy: 0.5609\n",
            "Epoch 3/20\n",
            "338/338 [==============================] - 2s 5ms/step - loss: 0.3971 - accuracy: 0.8379 - val_loss: 0.3428 - val_accuracy: 0.8864\n",
            "Epoch 4/20\n",
            "338/338 [==============================] - 1s 4ms/step - loss: 0.3872 - accuracy: 0.8383 - val_loss: 0.6318 - val_accuracy: 0.6419\n",
            "Epoch 5/20\n",
            "338/338 [==============================] - 2s 5ms/step - loss: 0.3730 - accuracy: 0.8466 - val_loss: 0.5608 - val_accuracy: 0.7033\n",
            "Epoch 6/20\n",
            "338/338 [==============================] - 1s 4ms/step - loss: 0.3703 - accuracy: 0.8459 - val_loss: 0.4200 - val_accuracy: 0.8084\n",
            "Epoch 7/20\n",
            "338/338 [==============================] - 2s 5ms/step - loss: 0.3642 - accuracy: 0.8530 - val_loss: 0.3991 - val_accuracy: 0.8337\n",
            "Epoch 8/20\n",
            "338/338 [==============================] - 2s 5ms/step - loss: 0.3589 - accuracy: 0.8542 - val_loss: 0.3450 - val_accuracy: 0.8768\n",
            "Epoch 9/20\n",
            "338/338 [==============================] - 2s 5ms/step - loss: 0.3575 - accuracy: 0.8550 - val_loss: 0.3632 - val_accuracy: 0.8539\n",
            "Epoch 10/20\n",
            "338/338 [==============================] - 2s 5ms/step - loss: 0.3506 - accuracy: 0.8572 - val_loss: 0.3052 - val_accuracy: 0.8983\n",
            "Epoch 11/20\n",
            "338/338 [==============================] - 2s 5ms/step - loss: 0.3489 - accuracy: 0.8577 - val_loss: 0.3509 - val_accuracy: 0.8607\n",
            "Epoch 12/20\n",
            "338/338 [==============================] - 2s 4ms/step - loss: 0.3467 - accuracy: 0.8602 - val_loss: 0.4074 - val_accuracy: 0.8167\n",
            "Epoch 13/20\n",
            "338/338 [==============================] - 1s 4ms/step - loss: 0.3434 - accuracy: 0.8616 - val_loss: 0.3955 - val_accuracy: 0.8241\n",
            "Epoch 14/20\n",
            "338/338 [==============================] - 2s 5ms/step - loss: 0.3418 - accuracy: 0.8606 - val_loss: 0.3571 - val_accuracy: 0.8565\n",
            "Epoch 15/20\n",
            "338/338 [==============================] - 1s 4ms/step - loss: 0.3402 - accuracy: 0.8614 - val_loss: 0.5289 - val_accuracy: 0.7264\n",
            "Epoch 16/20\n",
            "338/338 [==============================] - 2s 6ms/step - loss: 0.3392 - accuracy: 0.8623 - val_loss: 0.4840 - val_accuracy: 0.7638\n",
            "Epoch 17/20\n",
            "338/338 [==============================] - 2s 6ms/step - loss: 0.3387 - accuracy: 0.8639 - val_loss: 0.3257 - val_accuracy: 0.8777\n",
            "Epoch 18/20\n",
            "338/338 [==============================] - 1s 4ms/step - loss: 0.3326 - accuracy: 0.8660 - val_loss: 0.3686 - val_accuracy: 0.8442\n",
            "Epoch 19/20\n",
            "338/338 [==============================] - 1s 4ms/step - loss: 0.3348 - accuracy: 0.8660 - val_loss: 0.3292 - val_accuracy: 0.8816\n",
            "Epoch 20/20\n",
            "338/338 [==============================] - 2s 5ms/step - loss: 0.3306 - accuracy: 0.8669 - val_loss: 0.2930 - val_accuracy: 0.9029\n"
          ]
        },
        {
          "output_type": "execute_result",
          "data": {
            "text/plain": [
              "<keras.src.callbacks.History at 0x7e85f713e020>"
            ]
          },
          "metadata": {},
          "execution_count": 20
        }
      ]
    },
    {
      "cell_type": "code",
      "source": [
        "y_pred = (model2.predict(X_test) > 0.5).astype(\"int32\")"
      ],
      "metadata": {
        "colab": {
          "base_uri": "https://localhost:8080/"
        },
        "outputId": "4562ef41-ecc6-47b2-8e20-d634ae26cf3b",
        "id": "sKcbFWqdnFDX"
      },
      "execution_count": 21,
      "outputs": [
        {
          "output_type": "stream",
          "name": "stdout",
          "text": [
            "139/139 [==============================] - 0s 2ms/step\n"
          ]
        }
      ]
    },
    {
      "cell_type": "code",
      "source": [
        "# Calculate the confusion matrix\n",
        "cm = confusion_matrix(y_test, y_pred)\n",
        "\n",
        "# Plot the confusion matrix\n",
        "disp = ConfusionMatrixDisplay(confusion_matrix=cm)\n",
        "disp.plot(cmap=plt.cm.Blues)\n",
        "plt.show()"
      ],
      "metadata": {
        "colab": {
          "base_uri": "https://localhost:8080/",
          "height": 449
        },
        "outputId": "73e0f353-20be-406b-850b-f6366cbab698",
        "id": "5dRYCUranFDX"
      },
      "execution_count": 22,
      "outputs": [
        {
          "output_type": "display_data",
          "data": {
            "text/plain": [
              "<Figure size 640x480 with 2 Axes>"
            ],
            "image/png": "[encoded data removed]"
          },
          "metadata": {}
        }
      ]
    },
    {
      "cell_type": "code",
      "source": [
        "# Calculate accuracy\n",
        "accuracy = accuracy_score(y_test, y_pred)\n",
        "print(f'Accuracy: {accuracy:.4f}')\n",
        "\n",
        "# Calculate precision\n",
        "precision = precision_score(y_test, y_pred)\n",
        "print(f'Precision: {precision:.4f}')\n",
        "\n",
        "# Calculate recall\n",
        "recall = recall_score(y_test, y_pred)\n",
        "print(f'Recall: {recall:.4f}')\n",
        "\n",
        "# Calculate F1 score\n",
        "f1 = f1_score(y_test, y_pred)\n",
        "print(f'F1 Score: {f1:.4f}')"
      ],
      "metadata": {
        "colab": {
          "base_uri": "https://localhost:8080/"
        },
        "outputId": "783d8908-0ee3-41b3-f11e-9d932cc46421",
        "id": "PT_3iuPNnFDY"
      },
      "execution_count": 23,
      "outputs": [
        {
          "output_type": "stream",
          "name": "stdout",
          "text": [
            "Accuracy: 0.8413\n",
            "Precision: 0.6404\n",
            "Recall: 0.7616\n",
            "F1 Score: 0.6958\n"
          ]
        }
      ]
    },
    {
      "cell_type": "markdown",
      "source": [
        "## One Conv1D Layer and Filters=64"
      ],
      "metadata": {
        "id": "KFj6ytG1nNhE"
      }
    },
    {
      "cell_type": "code",
      "source": [
        "# Define the CNN model\n",
        "model3 = Sequential()\n",
        "\n",
        "# Add a Conv1D layer\n",
        "model3.add(Conv1D(filters=64, kernel_size=5, activation='relu', input_shape=(X_train_resampled.shape[1], X_train_resampled.shape[2])))\n",
        "\n",
        "# Add a MaxPooling layer\n",
        "model3.add(MaxPooling1D(pool_size=2))\n",
        "\n",
        "# Add a Flatten layer to convert 3D data to 1D\n",
        "model3.add(Flatten())\n",
        "\n",
        "# Add the output layer with sigmoid activation for binary classification\n",
        "model3.add(Dense(1, activation='sigmoid'))\n",
        "\n",
        "# Compile the model\n",
        "model3.compile(optimizer='adam', loss='binary_crossentropy', metrics=['accuracy'])\n",
        "\n",
        "model3.summary()"
      ],
      "metadata": {
        "colab": {
          "base_uri": "https://localhost:8080/"
        },
        "outputId": "3e5fc91f-304f-40d7-e6b2-6d5cf7d2ab6a",
        "id": "5FeNI9jonRgs"
      },
      "execution_count": 24,
      "outputs": [
        {
          "output_type": "stream",
          "name": "stdout",
          "text": [
            "Model: \"sequential_2\"\n",
            "_________________________________________________________________\n",
            " Layer (type)                Output Shape              Param #   \n",
            "=================================================================\n",
            " conv1d_2 (Conv1D)           (None, 296, 64)           384       \n",
            "                                                                 \n",
            " max_pooling1d_2 (MaxPoolin  (None, 148, 64)           0         \n",
            " g1D)                                                            \n",
            "                                                                 \n",
            " flatten_2 (Flatten)         (None, 9472)              0         \n",
            "                                                                 \n",
            " dense_2 (Dense)             (None, 1)                 9473      \n",
            "                                                                 \n",
            "=================================================================\n",
            "Total params: 9857 (38.50 KB)\n",
            "Trainable params: 9857 (38.50 KB)\n",
            "Non-trainable params: 0 (0.00 Byte)\n",
            "_________________________________________________________________\n"
          ]
        }
      ]
    },
    {
      "cell_type": "code",
      "source": [
        "# Train the model\n",
        "model3.fit(X_train_resampled, y_train_resampled, epochs=20, batch_size=64, validation_split=0.2)"
      ],
      "metadata": {
        "colab": {
          "base_uri": "https://localhost:8080/"
        },
        "outputId": "f1745e20-e448-4815-f441-f8e519a2d4f9",
        "id": "pU8I6KUFnRgs"
      },
      "execution_count": 25,
      "outputs": [
        {
          "output_type": "stream",
          "name": "stdout",
          "text": [
            "Epoch 1/20\n",
            "338/338 [==============================] - 3s 5ms/step - loss: 0.5530 - accuracy: 0.7086 - val_loss: 0.6219 - val_accuracy: 0.6117\n",
            "Epoch 2/20\n",
            "338/338 [==============================] - 1s 4ms/step - loss: 0.4488 - accuracy: 0.7981 - val_loss: 0.4327 - val_accuracy: 0.8257\n",
            "Epoch 3/20\n",
            "338/338 [==============================] - 1s 4ms/step - loss: 0.4131 - accuracy: 0.8237 - val_loss: 0.5219 - val_accuracy: 0.7248\n",
            "Epoch 4/20\n",
            "338/338 [==============================] - 1s 4ms/step - loss: 0.3961 - accuracy: 0.8340 - val_loss: 0.3411 - val_accuracy: 0.8984\n",
            "Epoch 5/20\n",
            "338/338 [==============================] - 2s 5ms/step - loss: 0.3849 - accuracy: 0.8429 - val_loss: 0.4257 - val_accuracy: 0.8110\n",
            "Epoch 6/20\n",
            "338/338 [==============================] - 2s 5ms/step - loss: 0.3761 - accuracy: 0.8478 - val_loss: 0.4119 - val_accuracy: 0.8293\n",
            "Epoch 7/20\n",
            "338/338 [==============================] - 1s 4ms/step - loss: 0.3716 - accuracy: 0.8490 - val_loss: 0.4964 - val_accuracy: 0.7540\n",
            "Epoch 8/20\n",
            "338/338 [==============================] - 1s 4ms/step - loss: 0.3660 - accuracy: 0.8519 - val_loss: 0.3340 - val_accuracy: 0.8862\n",
            "Epoch 9/20\n",
            "338/338 [==============================] - 1s 4ms/step - loss: 0.3612 - accuracy: 0.8528 - val_loss: 0.5024 - val_accuracy: 0.7473\n",
            "Epoch 10/20\n",
            "338/338 [==============================] - 1s 4ms/step - loss: 0.3571 - accuracy: 0.8542 - val_loss: 0.4210 - val_accuracy: 0.8113\n",
            "Epoch 11/20\n",
            "338/338 [==============================] - 1s 4ms/step - loss: 0.3560 - accuracy: 0.8546 - val_loss: 0.4094 - val_accuracy: 0.8196\n",
            "Epoch 12/20\n",
            "338/338 [==============================] - 1s 4ms/step - loss: 0.3525 - accuracy: 0.8573 - val_loss: 0.4675 - val_accuracy: 0.7703\n",
            "Epoch 13/20\n",
            "338/338 [==============================] - 1s 4ms/step - loss: 0.3501 - accuracy: 0.8588 - val_loss: 0.3707 - val_accuracy: 0.8413\n",
            "Epoch 14/20\n",
            "338/338 [==============================] - 2s 5ms/step - loss: 0.3483 - accuracy: 0.8576 - val_loss: 0.4458 - val_accuracy: 0.7932\n",
            "Epoch 15/20\n",
            "338/338 [==============================] - 2s 6ms/step - loss: 0.3465 - accuracy: 0.8607 - val_loss: 0.4503 - val_accuracy: 0.7889\n",
            "Epoch 16/20\n",
            "338/338 [==============================] - 1s 4ms/step - loss: 0.3452 - accuracy: 0.8616 - val_loss: 0.3850 - val_accuracy: 0.8404\n",
            "Epoch 17/20\n",
            "338/338 [==============================] - 1s 4ms/step - loss: 0.3421 - accuracy: 0.8622 - val_loss: 0.4146 - val_accuracy: 0.8089\n",
            "Epoch 18/20\n",
            "338/338 [==============================] - 1s 4ms/step - loss: 0.3425 - accuracy: 0.8611 - val_loss: 0.3982 - val_accuracy: 0.8252\n",
            "Epoch 19/20\n",
            "338/338 [==============================] - 1s 4ms/step - loss: 0.3405 - accuracy: 0.8619 - val_loss: 0.3587 - val_accuracy: 0.8627\n",
            "Epoch 20/20\n",
            "338/338 [==============================] - 1s 4ms/step - loss: 0.3384 - accuracy: 0.8650 - val_loss: 0.4868 - val_accuracy: 0.7606\n"
          ]
        },
        {
          "output_type": "execute_result",
          "data": {
            "text/plain": [
              "<keras.src.callbacks.History at 0x7e85f27a7c70>"
            ]
          },
          "metadata": {},
          "execution_count": 25
        }
      ]
    },
    {
      "cell_type": "code",
      "source": [
        "y_pred = (model3.predict(X_test) > 0.5).astype(\"int32\")"
      ],
      "metadata": {
        "colab": {
          "base_uri": "https://localhost:8080/"
        },
        "outputId": "db55c037-6289-4c14-baba-38344c4295c6",
        "id": "PTC7KpBbnRgt"
      },
      "execution_count": 26,
      "outputs": [
        {
          "output_type": "stream",
          "name": "stdout",
          "text": [
            "139/139 [==============================] - 0s 2ms/step\n"
          ]
        }
      ]
    },
    {
      "cell_type": "code",
      "source": [
        "# Calculate the confusion matrix\n",
        "cm = confusion_matrix(y_test, y_pred)\n",
        "\n",
        "# Plot the confusion matrix\n",
        "disp = ConfusionMatrixDisplay(confusion_matrix=cm)\n",
        "disp.plot(cmap=plt.cm.Blues)\n",
        "plt.show()"
      ],
      "metadata": {
        "colab": {
          "base_uri": "https://localhost:8080/",
          "height": 449
        },
        "outputId": "33e18fc0-e9b1-46c9-b476-f1949666615c",
        "id": "A1qy2x6InRgt"
      },
      "execution_count": 27,
      "outputs": [
        {
          "output_type": "display_data",
          "data": {
            "text/plain": [
              "<Figure size 640x480 with 2 Axes>"
            ],
            "image/png": "[encoded data removed]"
          },
          "metadata": {}
        }
      ]
    },
    {
      "cell_type": "code",
      "source": [
        "# Calculate accuracy\n",
        "accuracy = accuracy_score(y_test, y_pred)\n",
        "print(f'Accuracy: {accuracy:.4f}')\n",
        "\n",
        "# Calculate precision\n",
        "precision = precision_score(y_test, y_pred)\n",
        "print(f'Precision: {precision:.4f}')\n",
        "\n",
        "# Calculate recall\n",
        "recall = recall_score(y_test, y_pred)\n",
        "print(f'Recall: {recall:.4f}')\n",
        "\n",
        "# Calculate F1 score\n",
        "f1 = f1_score(y_test, y_pred)\n",
        "print(f'F1 Score: {f1:.4f}')"
      ],
      "metadata": {
        "colab": {
          "base_uri": "https://localhost:8080/"
        },
        "outputId": "ac3de326-8252-45f5-f44f-645431ed0a17",
        "id": "evbQdcGmnRgt"
      },
      "execution_count": 28,
      "outputs": [
        {
          "output_type": "stream",
          "name": "stdout",
          "text": [
            "Accuracy: 0.8623\n",
            "Precision: 0.7403\n",
            "Recall: 0.6500\n",
            "F1 Score: 0.6922\n"
          ]
        }
      ]
    },
    {
      "cell_type": "markdown",
      "source": [
        "## One Conv1D Layer and Filters=32"
      ],
      "metadata": {
        "id": "eqRznVXwnbgu"
      }
    },
    {
      "cell_type": "code",
      "source": [
        "# Define the CNN model\n",
        "model4 = Sequential()\n",
        "\n",
        "# Add a Conv1D layer\n",
        "model4.add(Conv1D(filters=32, kernel_size=5, activation='relu', input_shape=(X_train_resampled.shape[1], X_train_resampled.shape[2])))\n",
        "\n",
        "# Add a MaxPooling layer\n",
        "model4.add(MaxPooling1D(pool_size=2))\n",
        "\n",
        "# Add a Flatten layer to convert 3D data to 1D\n",
        "model4.add(Flatten())\n",
        "\n",
        "# Add the output layer with sigmoid activation for binary classification\n",
        "model4.add(Dense(1, activation='sigmoid'))\n",
        "\n",
        "# Compile the model\n",
        "model4.compile(optimizer='adam', loss='binary_crossentropy', metrics=['accuracy'])\n",
        "\n",
        "model4.summary()"
      ],
      "metadata": {
        "colab": {
          "base_uri": "https://localhost:8080/"
        },
        "id": "HWiiY9bFb0s-",
        "outputId": "66d8857f-9d9a-4521-9537-dc6587b89c29"
      },
      "execution_count": 29,
      "outputs": [
        {
          "output_type": "stream",
          "name": "stdout",
          "text": [
            "Model: \"sequential_3\"\n",
            "_________________________________________________________________\n",
            " Layer (type)                Output Shape              Param #   \n",
            "=================================================================\n",
            " conv1d_3 (Conv1D)           (None, 296, 32)           192       \n",
            "                                                                 \n",
            " max_pooling1d_3 (MaxPoolin  (None, 148, 32)           0         \n",
            " g1D)                                                            \n",
            "                                                                 \n",
            " flatten_3 (Flatten)         (None, 4736)              0         \n",
            "                                                                 \n",
            " dense_3 (Dense)             (None, 1)                 4737      \n",
            "                                                                 \n",
            "=================================================================\n",
            "Total params: 4929 (19.25 KB)\n",
            "Trainable params: 4929 (19.25 KB)\n",
            "Non-trainable params: 0 (0.00 Byte)\n",
            "_________________________________________________________________\n"
          ]
        }
      ]
    },
    {
      "cell_type": "code",
      "source": [
        "# Train the model\n",
        "model4.fit(X_train_resampled, y_train_resampled, epochs=20, batch_size=64, validation_split=0.2)"
      ],
      "metadata": {
        "colab": {
          "base_uri": "https://localhost:8080/"
        },
        "outputId": "7e7432a6-660a-4dc0-c0e3-39588f6cdbb0",
        "id": "zQt0ZGLigCh4"
      },
      "execution_count": 30,
      "outputs": [
        {
          "output_type": "stream",
          "name": "stdout",
          "text": [
            "Epoch 1/20\n",
            "338/338 [==============================] - 3s 5ms/step - loss: 0.5774 - accuracy: 0.6879 - val_loss: 0.6819 - val_accuracy: 0.5024\n",
            "Epoch 2/20\n",
            "338/338 [==============================] - 1s 4ms/step - loss: 0.4746 - accuracy: 0.7799 - val_loss: 0.6385 - val_accuracy: 0.6040\n",
            "Epoch 3/20\n",
            "338/338 [==============================] - 1s 4ms/step - loss: 0.4368 - accuracy: 0.8067 - val_loss: 0.5043 - val_accuracy: 0.7475\n",
            "Epoch 4/20\n",
            "338/338 [==============================] - 1s 4ms/step - loss: 0.4114 - accuracy: 0.8271 - val_loss: 0.4665 - val_accuracy: 0.7873\n",
            "Epoch 5/20\n",
            "338/338 [==============================] - 1s 4ms/step - loss: 0.3984 - accuracy: 0.8352 - val_loss: 0.5908 - val_accuracy: 0.6676\n",
            "Epoch 6/20\n",
            "338/338 [==============================] - 1s 4ms/step - loss: 0.3890 - accuracy: 0.8402 - val_loss: 0.4934 - val_accuracy: 0.7543\n",
            "Epoch 7/20\n",
            "338/338 [==============================] - 1s 4ms/step - loss: 0.3832 - accuracy: 0.8419 - val_loss: 0.3973 - val_accuracy: 0.8418\n",
            "Epoch 8/20\n",
            "338/338 [==============================] - 2s 5ms/step - loss: 0.3760 - accuracy: 0.8485 - val_loss: 0.4312 - val_accuracy: 0.8104\n",
            "Epoch 9/20\n",
            "338/338 [==============================] - 2s 5ms/step - loss: 0.3721 - accuracy: 0.8494 - val_loss: 0.4709 - val_accuracy: 0.7752\n",
            "Epoch 10/20\n",
            "338/338 [==============================] - 1s 4ms/step - loss: 0.3684 - accuracy: 0.8501 - val_loss: 0.4038 - val_accuracy: 0.8272\n",
            "Epoch 11/20\n",
            "338/338 [==============================] - 1s 4ms/step - loss: 0.3652 - accuracy: 0.8529 - val_loss: 0.4414 - val_accuracy: 0.7952\n",
            "Epoch 12/20\n",
            "338/338 [==============================] - 1s 4ms/step - loss: 0.3642 - accuracy: 0.8512 - val_loss: 0.5245 - val_accuracy: 0.7321\n",
            "Epoch 13/20\n",
            "338/338 [==============================] - 1s 4ms/step - loss: 0.3607 - accuracy: 0.8531 - val_loss: 0.4408 - val_accuracy: 0.7954\n",
            "Epoch 14/20\n",
            "338/338 [==============================] - 1s 4ms/step - loss: 0.3588 - accuracy: 0.8557 - val_loss: 0.3883 - val_accuracy: 0.8398\n",
            "Epoch 15/20\n",
            "338/338 [==============================] - 1s 4ms/step - loss: 0.3562 - accuracy: 0.8558 - val_loss: 0.3522 - val_accuracy: 0.8646\n",
            "Epoch 16/20\n",
            "338/338 [==============================] - 1s 3ms/step - loss: 0.3546 - accuracy: 0.8556 - val_loss: 0.3651 - val_accuracy: 0.8568\n",
            "Epoch 17/20\n",
            "338/338 [==============================] - 2s 5ms/step - loss: 0.3537 - accuracy: 0.8569 - val_loss: 0.4696 - val_accuracy: 0.7786\n",
            "Epoch 18/20\n",
            "338/338 [==============================] - 2s 5ms/step - loss: 0.3508 - accuracy: 0.8581 - val_loss: 0.3144 - val_accuracy: 0.8931\n",
            "Epoch 19/20\n",
            "338/338 [==============================] - 2s 4ms/step - loss: 0.3491 - accuracy: 0.8588 - val_loss: 0.3941 - val_accuracy: 0.8387\n",
            "Epoch 20/20\n",
            "338/338 [==============================] - 1s 4ms/step - loss: 0.3484 - accuracy: 0.8586 - val_loss: 0.4010 - val_accuracy: 0.8282\n"
          ]
        },
        {
          "output_type": "execute_result",
          "data": {
            "text/plain": [
              "<keras.src.callbacks.History at 0x7e860acb1e40>"
            ]
          },
          "metadata": {},
          "execution_count": 30
        }
      ]
    },
    {
      "cell_type": "code",
      "source": [
        "y_pred = (model4.predict(X_test) > 0.5).astype(\"int32\")"
      ],
      "metadata": {
        "colab": {
          "base_uri": "https://localhost:8080/"
        },
        "outputId": "08e0f8d2-d0ca-43df-a4e5-7c986e5650d4",
        "id": "V-9XnexxgCh5"
      },
      "execution_count": 31,
      "outputs": [
        {
          "output_type": "stream",
          "name": "stdout",
          "text": [
            "139/139 [==============================] - 0s 2ms/step\n"
          ]
        }
      ]
    },
    {
      "cell_type": "code",
      "source": [
        "# Calculate the confusion matrix\n",
        "cm = confusion_matrix(y_test, y_pred)\n",
        "\n",
        "# Plot the confusion matrix\n",
        "disp = ConfusionMatrixDisplay(confusion_matrix=cm)\n",
        "disp.plot(cmap=plt.cm.Blues)\n",
        "plt.show()"
      ],
      "metadata": {
        "colab": {
          "base_uri": "https://localhost:8080/",
          "height": 451
        },
        "outputId": "54b4eeae-4fd6-41d1-b71a-a0a631ab1eb3",
        "id": "EH7Z2aMigCh5"
      },
      "execution_count": 32,
      "outputs": [
        {
          "output_type": "display_data",
          "data": {
            "text/plain": [
              "<Figure size 640x480 with 2 Axes>"
            ],
            "image/png": "[encoded data removed]"
          },
          "metadata": {}
        }
      ]
    },
    {
      "cell_type": "code",
      "source": [
        "# Calculate accuracy\n",
        "accuracy = accuracy_score(y_test, y_pred)\n",
        "print(f'Accuracy: {accuracy:.4f}')\n",
        "\n",
        "# Calculate precision\n",
        "precision = precision_score(y_test, y_pred)\n",
        "print(f'Precision: {precision:.4f}')\n",
        "\n",
        "# Calculate recall\n",
        "recall = recall_score(y_test, y_pred)\n",
        "print(f'Recall: {recall:.4f}')\n",
        "\n",
        "# Calculate F1 score\n",
        "f1 = f1_score(y_test, y_pred)\n",
        "print(f'F1 Score: {f1:.4f}')"
      ],
      "metadata": {
        "colab": {
          "base_uri": "https://localhost:8080/"
        },
        "outputId": "3df932ca-d129-4892-b229-7a402256bca6",
        "id": "suGwS2jVgCh6"
      },
      "execution_count": 33,
      "outputs": [
        {
          "output_type": "stream",
          "name": "stdout",
          "text": [
            "Accuracy: 0.8526\n",
            "Precision: 0.6830\n",
            "Recall: 0.7114\n",
            "F1 Score: 0.6969\n"
          ]
        }
      ]
    },
    {
      "cell_type": "markdown",
      "source": [],
      "metadata": {
        "id": "wLMv_aYf1cLx"
      }
    },
    {
      "cell_type": "markdown",
      "source": [
        "## Two Conv1D Layer, Filters= 64 & 32,  Kernal Size= 5 and Pool Size=3"
      ],
      "metadata": {
        "id": "mhlYv7z4qiT2"
      }
    },
    {
      "cell_type": "code",
      "source": [
        "# Define the CNN model\n",
        "model5 = Sequential()\n",
        "\n",
        "# Add a Conv1D layer\n",
        "model5.add(Conv1D(filters=64, kernel_size=5, activation='relu', input_shape=(X_train_resampled.shape[1], X_train_resampled.shape[2])))\n",
        "\n",
        "# Add a MaxPooling layer\n",
        "model5.add(MaxPooling1D(pool_size=2))\n",
        "\n",
        "# Add a Conv1D layer\n",
        "model5.add(Conv1D(filters=32, kernel_size=5, activation='relu'))\n",
        "\n",
        "# Add a MaxPooling layer\n",
        "model5.add(MaxPooling1D(pool_size=2))\n",
        "\n",
        "# Add a Flatten layer to convert 3D data to 1D\n",
        "model5.add(Flatten())\n",
        "\n",
        "# Add the output layer with sigmoid activation for binary classification\n",
        "model5.add(Dense(1, activation='sigmoid'))\n",
        "\n",
        "# Compile the model\n",
        "model5.compile(optimizer='adam', loss='binary_crossentropy', metrics=['accuracy'])\n",
        "\n",
        "model5.summary()"
      ],
      "metadata": {
        "colab": {
          "base_uri": "https://localhost:8080/"
        },
        "outputId": "42d15b15-a7c8-490d-ba60-c35b327bb562",
        "id": "0zY9BfehjEu-"
      },
      "execution_count": 34,
      "outputs": [
        {
          "output_type": "stream",
          "name": "stdout",
          "text": [
            "Model: \"sequential_4\"\n",
            "_________________________________________________________________\n",
            " Layer (type)                Output Shape              Param #   \n",
            "=================================================================\n",
            " conv1d_4 (Conv1D)           (None, 296, 64)           384       \n",
            "                                                                 \n",
            " max_pooling1d_4 (MaxPoolin  (None, 148, 64)           0         \n",
            " g1D)                                                            \n",
            "                                                                 \n",
            " conv1d_5 (Conv1D)           (None, 144, 32)           10272     \n",
            "                                                                 \n",
            " max_pooling1d_5 (MaxPoolin  (None, 72, 32)            0         \n",
            " g1D)                                                            \n",
            "                                                                 \n",
            " flatten_4 (Flatten)         (None, 2304)              0         \n",
            "                                                                 \n",
            " dense_4 (Dense)             (None, 1)                 2305      \n",
            "                                                                 \n",
            "=================================================================\n",
            "Total params: 12961 (50.63 KB)\n",
            "Trainable params: 12961 (50.63 KB)\n",
            "Non-trainable params: 0 (0.00 Byte)\n",
            "_________________________________________________________________\n"
          ]
        }
      ]
    },
    {
      "cell_type": "code",
      "source": [
        "# Train the model\n",
        "model5.fit(X_train_resampled, y_train_resampled, epochs=20, batch_size=64, validation_split=0.2)"
      ],
      "metadata": {
        "colab": {
          "base_uri": "https://localhost:8080/"
        },
        "outputId": "35ec1557-4f91-47db-f9e8-5977cddc24e8",
        "id": "v0u1RvuZjEu_"
      },
      "execution_count": 35,
      "outputs": [
        {
          "output_type": "stream",
          "name": "stdout",
          "text": [
            "Epoch 1/20\n",
            "338/338 [==============================] - 4s 8ms/step - loss: 0.5627 - accuracy: 0.7066 - val_loss: 0.4922 - val_accuracy: 0.7738\n",
            "Epoch 2/20\n",
            "338/338 [==============================] - 1s 4ms/step - loss: 0.4554 - accuracy: 0.7957 - val_loss: 0.4644 - val_accuracy: 0.8108\n",
            "Epoch 3/20\n",
            "338/338 [==============================] - 2s 4ms/step - loss: 0.4268 - accuracy: 0.8141 - val_loss: 0.6954 - val_accuracy: 0.6030\n",
            "Epoch 4/20\n",
            "338/338 [==============================] - 1s 4ms/step - loss: 0.4075 - accuracy: 0.8263 - val_loss: 0.5319 - val_accuracy: 0.7268\n",
            "Epoch 5/20\n",
            "338/338 [==============================] - 1s 4ms/step - loss: 0.3932 - accuracy: 0.8344 - val_loss: 0.4760 - val_accuracy: 0.7623\n",
            "Epoch 6/20\n",
            "338/338 [==============================] - 2s 5ms/step - loss: 0.3799 - accuracy: 0.8407 - val_loss: 0.3725 - val_accuracy: 0.8489\n",
            "Epoch 7/20\n",
            "338/338 [==============================] - 1s 4ms/step - loss: 0.3703 - accuracy: 0.8452 - val_loss: 0.3842 - val_accuracy: 0.8420\n",
            "Epoch 8/20\n",
            "338/338 [==============================] - 2s 5ms/step - loss: 0.3650 - accuracy: 0.8476 - val_loss: 0.4256 - val_accuracy: 0.7987\n",
            "Epoch 9/20\n",
            "338/338 [==============================] - 2s 6ms/step - loss: 0.3574 - accuracy: 0.8517 - val_loss: 0.2732 - val_accuracy: 0.9110\n",
            "Epoch 10/20\n",
            "338/338 [==============================] - 2s 5ms/step - loss: 0.3493 - accuracy: 0.8566 - val_loss: 0.4537 - val_accuracy: 0.7812\n",
            "Epoch 11/20\n",
            "338/338 [==============================] - 2s 5ms/step - loss: 0.3453 - accuracy: 0.8587 - val_loss: 0.3721 - val_accuracy: 0.8533\n",
            "Epoch 12/20\n",
            "338/338 [==============================] - 2s 5ms/step - loss: 0.3393 - accuracy: 0.8600 - val_loss: 0.3920 - val_accuracy: 0.8224\n",
            "Epoch 13/20\n",
            "338/338 [==============================] - 1s 4ms/step - loss: 0.3366 - accuracy: 0.8639 - val_loss: 0.3221 - val_accuracy: 0.8696\n",
            "Epoch 14/20\n",
            "338/338 [==============================] - 2s 5ms/step - loss: 0.3324 - accuracy: 0.8654 - val_loss: 0.3480 - val_accuracy: 0.8659\n",
            "Epoch 15/20\n",
            "338/338 [==============================] - 2s 5ms/step - loss: 0.3279 - accuracy: 0.8673 - val_loss: 0.4279 - val_accuracy: 0.7960\n",
            "Epoch 16/20\n",
            "338/338 [==============================] - 2s 5ms/step - loss: 0.3242 - accuracy: 0.8692 - val_loss: 0.3374 - val_accuracy: 0.8653\n",
            "Epoch 17/20\n",
            "338/338 [==============================] - 2s 7ms/step - loss: 0.3200 - accuracy: 0.8707 - val_loss: 0.3383 - val_accuracy: 0.8674\n",
            "Epoch 18/20\n",
            "338/338 [==============================] - 2s 6ms/step - loss: 0.3171 - accuracy: 0.8741 - val_loss: 0.2923 - val_accuracy: 0.8929\n",
            "Epoch 19/20\n",
            "338/338 [==============================] - 2s 5ms/step - loss: 0.3148 - accuracy: 0.8747 - val_loss: 0.5097 - val_accuracy: 0.7405\n",
            "Epoch 20/20\n",
            "338/338 [==============================] - 2s 5ms/step - loss: 0.3128 - accuracy: 0.8751 - val_loss: 0.3343 - val_accuracy: 0.8600\n"
          ]
        },
        {
          "output_type": "execute_result",
          "data": {
            "text/plain": [
              "<keras.src.callbacks.History at 0x7e85f72a4790>"
            ]
          },
          "metadata": {},
          "execution_count": 35
        }
      ]
    },
    {
      "cell_type": "code",
      "source": [
        "y_pred = (model5.predict(X_test) > 0.5).astype(\"int32\")"
      ],
      "metadata": {
        "colab": {
          "base_uri": "https://localhost:8080/"
        },
        "outputId": "cba6c37e-36d3-43a2-aace-4ce7b3d3c767",
        "id": "H6-ZM7fYjEvA"
      },
      "execution_count": 36,
      "outputs": [
        {
          "output_type": "stream",
          "name": "stdout",
          "text": [
            "139/139 [==============================] - 1s 2ms/step\n"
          ]
        }
      ]
    },
    {
      "cell_type": "code",
      "source": [
        "# Calculate the confusion matrix\n",
        "cm = confusion_matrix(y_test, y_pred)\n",
        "\n",
        "# Plot the confusion matrix\n",
        "disp = ConfusionMatrixDisplay(confusion_matrix=cm)\n",
        "disp.plot(cmap=plt.cm.Blues)\n",
        "plt.show()"
      ],
      "metadata": {
        "colab": {
          "base_uri": "https://localhost:8080/",
          "height": 449
        },
        "outputId": "a17d8ad1-db02-4847-8ed3-31a4571a4456",
        "id": "z_CzIqlhjEvB"
      },
      "execution_count": 37,
      "outputs": [
        {
          "output_type": "display_data",
          "data": {
            "text/plain": [
              "<Figure size 640x480 with 2 Axes>"
            ],
            "image/png": "[encoded data removed]"
          },
          "metadata": {}
        }
      ]
    },
    {
      "cell_type": "code",
      "source": [
        "# Calculate accuracy\n",
        "accuracy = accuracy_score(y_test, y_pred)\n",
        "print(f'Accuracy: {accuracy:.4f}')\n",
        "\n",
        "# Calculate precision\n",
        "precision = precision_score(y_test, y_pred)\n",
        "print(f'Precision: {precision:.4f}')\n",
        "\n",
        "# Calculate recall\n",
        "recall = recall_score(y_test, y_pred)\n",
        "print(f'Recall: {recall:.4f}')\n",
        "\n",
        "# Calculate F1 score\n",
        "f1 = f1_score(y_test, y_pred)\n",
        "print(f'F1 Score: {f1:.4f}')"
      ],
      "metadata": {
        "colab": {
          "base_uri": "https://localhost:8080/"
        },
        "outputId": "dc649640-f437-4b7a-e03a-ba34f8a6cb71",
        "id": "FsF1Qg43jEvC"
      },
      "execution_count": 38,
      "outputs": [
        {
          "output_type": "stream",
          "name": "stdout",
          "text": [
            "Accuracy: 0.8523\n",
            "Precision: 0.6872\n",
            "Recall: 0.6982\n",
            "F1 Score: 0.6926\n"
          ]
        }
      ]
    },
    {
      "cell_type": "markdown",
      "source": [
        "## Two Conv1D Layer, Filters= 256 & 64,  Kernal Size= 5 and Pool Size=2"
      ],
      "metadata": {
        "id": "GEXOR6TI0IWm"
      }
    },
    {
      "cell_type": "code",
      "source": [
        "# Define the CNN model\n",
        "model6 = Sequential()\n",
        "\n",
        "# Add a Conv1D layer\n",
        "model6.add(Conv1D(filters=256, kernel_size=5, activation='relu', input_shape=(X_train_resampled.shape[1], X_train_resampled.shape[2])))\n",
        "\n",
        "# Add a MaxPooling layer\n",
        "model6.add(MaxPooling1D(pool_size=2))\n",
        "\n",
        "# Add a Conv1D layer\n",
        "model6.add(Conv1D(filters=64, kernel_size=5, activation='relu'))\n",
        "\n",
        "# Add a MaxPooling layer\n",
        "model6.add(MaxPooling1D(pool_size=2))\n",
        "\n",
        "# Add a Flatten layer to convert 3D data to 1D\n",
        "model6.add(Flatten())\n",
        "\n",
        "# Add the output layer with sigmoid activation for binary classification\n",
        "model6.add(Dense(1, activation='sigmoid'))\n",
        "\n",
        "# Compile the model\n",
        "model6.compile(optimizer='adam', loss='binary_crossentropy', metrics=['accuracy'])\n",
        "\n",
        "model6.summary()"
      ],
      "metadata": {
        "colab": {
          "base_uri": "https://localhost:8080/"
        },
        "outputId": "324398a5-1a15-4f15-e747-dd3b35790981",
        "id": "ho_GPnmx0IWn"
      },
      "execution_count": 39,
      "outputs": [
        {
          "output_type": "stream",
          "name": "stdout",
          "text": [
            "Model: \"sequential_5\"\n",
            "_________________________________________________________________\n",
            " Layer (type)                Output Shape              Param #   \n",
            "=================================================================\n",
            " conv1d_6 (Conv1D)           (None, 296, 256)          1536      \n",
            "                                                                 \n",
            " max_pooling1d_6 (MaxPoolin  (None, 148, 256)          0         \n",
            " g1D)                                                            \n",
            "                                                                 \n",
            " conv1d_7 (Conv1D)           (None, 144, 64)           81984     \n",
            "                                                                 \n",
            " max_pooling1d_7 (MaxPoolin  (None, 72, 64)            0         \n",
            " g1D)                                                            \n",
            "                                                                 \n",
            " flatten_5 (Flatten)         (None, 4608)              0         \n",
            "                                                                 \n",
            " dense_5 (Dense)             (None, 1)                 4609      \n",
            "                                                                 \n",
            "=================================================================\n",
            "Total params: 88129 (344.25 KB)\n",
            "Trainable params: 88129 (344.25 KB)\n",
            "Non-trainable params: 0 (0.00 Byte)\n",
            "_________________________________________________________________\n"
          ]
        }
      ]
    },
    {
      "cell_type": "code",
      "source": [
        "# Train the model\n",
        "model6.fit(X_train_resampled, y_train_resampled, epochs=20, batch_size=64, validation_split=0.2)"
      ],
      "metadata": {
        "colab": {
          "base_uri": "https://localhost:8080/"
        },
        "outputId": "3d8fdf3e-aaf6-49f8-816f-a6d3a779d471",
        "id": "i18ztSq10IWn"
      },
      "execution_count": 40,
      "outputs": [
        {
          "output_type": "stream",
          "name": "stdout",
          "text": [
            "Epoch 1/20\n",
            "338/338 [==============================] - 4s 8ms/step - loss: 0.5427 - accuracy: 0.7263 - val_loss: 0.6038 - val_accuracy: 0.6626\n",
            "Epoch 2/20\n",
            "338/338 [==============================] - 3s 9ms/step - loss: 0.4285 - accuracy: 0.8157 - val_loss: 0.2978 - val_accuracy: 0.9171\n",
            "Epoch 3/20\n",
            "338/338 [==============================] - 3s 8ms/step - loss: 0.3955 - accuracy: 0.8342 - val_loss: 0.4644 - val_accuracy: 0.7878\n",
            "Epoch 4/20\n",
            "338/338 [==============================] - 2s 7ms/step - loss: 0.3795 - accuracy: 0.8408 - val_loss: 0.3373 - val_accuracy: 0.8809\n",
            "Epoch 5/20\n",
            "338/338 [==============================] - 2s 7ms/step - loss: 0.3627 - accuracy: 0.8493 - val_loss: 0.4130 - val_accuracy: 0.8065\n",
            "Epoch 6/20\n",
            "338/338 [==============================] - 3s 8ms/step - loss: 0.3524 - accuracy: 0.8546 - val_loss: 0.5096 - val_accuracy: 0.7447\n",
            "Epoch 7/20\n",
            "338/338 [==============================] - 3s 9ms/step - loss: 0.3441 - accuracy: 0.8568 - val_loss: 0.3941 - val_accuracy: 0.8189\n",
            "Epoch 8/20\n",
            "338/338 [==============================] - 3s 8ms/step - loss: 0.3363 - accuracy: 0.8636 - val_loss: 0.4094 - val_accuracy: 0.8056\n",
            "Epoch 9/20\n",
            "338/338 [==============================] - 2s 7ms/step - loss: 0.3279 - accuracy: 0.8660 - val_loss: 0.4179 - val_accuracy: 0.8032\n",
            "Epoch 10/20\n",
            "338/338 [==============================] - 2s 7ms/step - loss: 0.3242 - accuracy: 0.8659 - val_loss: 0.3074 - val_accuracy: 0.8855\n",
            "Epoch 11/20\n",
            "338/338 [==============================] - 2s 7ms/step - loss: 0.3149 - accuracy: 0.8715 - val_loss: 0.3247 - val_accuracy: 0.8655\n",
            "Epoch 12/20\n",
            "338/338 [==============================] - 3s 8ms/step - loss: 0.3175 - accuracy: 0.8709 - val_loss: 0.2657 - val_accuracy: 0.9031\n",
            "Epoch 13/20\n",
            "338/338 [==============================] - 3s 8ms/step - loss: 0.3083 - accuracy: 0.8742 - val_loss: 0.4736 - val_accuracy: 0.7649\n",
            "Epoch 14/20\n",
            "338/338 [==============================] - 2s 7ms/step - loss: 0.2996 - accuracy: 0.8796 - val_loss: 0.3338 - val_accuracy: 0.8561\n",
            "Epoch 15/20\n",
            "338/338 [==============================] - 2s 7ms/step - loss: 0.2957 - accuracy: 0.8798 - val_loss: 0.2935 - val_accuracy: 0.8855\n",
            "Epoch 16/20\n",
            "338/338 [==============================] - 2s 7ms/step - loss: 0.2913 - accuracy: 0.8844 - val_loss: 0.2184 - val_accuracy: 0.9258\n",
            "Epoch 17/20\n",
            "338/338 [==============================] - 3s 8ms/step - loss: 0.2852 - accuracy: 0.8856 - val_loss: 0.4012 - val_accuracy: 0.8185\n",
            "Epoch 18/20\n",
            "338/338 [==============================] - 3s 8ms/step - loss: 0.2801 - accuracy: 0.8859 - val_loss: 0.2391 - val_accuracy: 0.9053\n",
            "Epoch 19/20\n",
            "338/338 [==============================] - 2s 7ms/step - loss: 0.2786 - accuracy: 0.8885 - val_loss: 0.2320 - val_accuracy: 0.9110\n",
            "Epoch 20/20\n",
            "338/338 [==============================] - 2s 7ms/step - loss: 0.2733 - accuracy: 0.8913 - val_loss: 0.5250 - val_accuracy: 0.7442\n"
          ]
        },
        {
          "output_type": "execute_result",
          "data": {
            "text/plain": [
              "<keras.src.callbacks.History at 0x7e85f6615ae0>"
            ]
          },
          "metadata": {},
          "execution_count": 40
        }
      ]
    },
    {
      "cell_type": "code",
      "source": [
        "y_pred = (model6.predict(X_test) > 0.5).astype(\"int32\")"
      ],
      "metadata": {
        "colab": {
          "base_uri": "https://localhost:8080/"
        },
        "outputId": "b7cff0e9-ce98-4cb0-d1cb-076d3eff3ed7",
        "id": "FGJ35Yzb0IWn"
      },
      "execution_count": 41,
      "outputs": [
        {
          "output_type": "stream",
          "name": "stdout",
          "text": [
            "139/139 [==============================] - 0s 2ms/step\n"
          ]
        }
      ]
    },
    {
      "cell_type": "code",
      "source": [
        "# Calculate the confusion matrix\n",
        "cm = confusion_matrix(y_test, y_pred)\n",
        "\n",
        "# Plot the confusion matrix\n",
        "disp = ConfusionMatrixDisplay(confusion_matrix=cm)\n",
        "disp.plot(cmap=plt.cm.Blues)\n",
        "plt.show()"
      ],
      "metadata": {
        "colab": {
          "base_uri": "https://localhost:8080/",
          "height": 449
        },
        "outputId": "2b8821ed-d3fc-459e-c74f-e8f25691cd56",
        "id": "rR-aYMYS0IWn"
      },
      "execution_count": 42,
      "outputs": [
        {
          "output_type": "display_data",
          "data": {
            "text/plain": [
              "<Figure size 640x480 with 2 Axes>"
            ],
            "image/png": "[encoded data removed]"
          },
          "metadata": {}
        }
      ]
    },
    {
      "cell_type": "code",
      "source": [
        "# Calculate accuracy\n",
        "accuracy = accuracy_score(y_test, y_pred)\n",
        "print(f'Accuracy: {accuracy:.4f}')\n",
        "\n",
        "# Calculate precision\n",
        "precision = precision_score(y_test, y_pred)\n",
        "print(f'Precision: {precision:.4f}')\n",
        "\n",
        "# Calculate recall\n",
        "recall = recall_score(y_test, y_pred)\n",
        "print(f'Recall: {recall:.4f}')\n",
        "\n",
        "# Calculate F1 score\n",
        "f1 = f1_score(y_test, y_pred)\n",
        "print(f'F1 Score: {f1:.4f}')"
      ],
      "metadata": {
        "colab": {
          "base_uri": "https://localhost:8080/"
        },
        "outputId": "554e0238-2c53-4ee0-a7a8-cf52dab80056",
        "id": "0Hl7-p9m0IWo"
      },
      "execution_count": 43,
      "outputs": [
        {
          "output_type": "stream",
          "name": "stdout",
          "text": [
            "Accuracy: 0.8562\n",
            "Precision: 0.7797\n",
            "Recall: 0.5525\n",
            "F1 Score: 0.6467\n"
          ]
        }
      ]
    },
    {
      "cell_type": "markdown",
      "source": [
        "## Two Conv1D Layer, Filters= 64,  Kernal Size= 5 and Pool Size=2"
      ],
      "metadata": {
        "id": "8nuS48Cl0vM_"
      }
    },
    {
      "cell_type": "code",
      "source": [
        "# Define the CNN model\n",
        "model7 = Sequential()\n",
        "\n",
        "# Add a Conv1D layer\n",
        "model7.add(Conv1D(filters=64, kernel_size=5, activation='relu', input_shape=(X_train_resampled.shape[1], X_train_resampled.shape[2])))\n",
        "\n",
        "# Add a MaxPooling layer\n",
        "model7.add(MaxPooling1D(pool_size=2))\n",
        "\n",
        "# Add a Conv1D layer\n",
        "model7.add(Conv1D(filters=64, kernel_size=5, activation='relu'))\n",
        "\n",
        "# Add a MaxPooling layer\n",
        "model7.add(MaxPooling1D(pool_size=2))\n",
        "\n",
        "# Add a Flatten layer to convert 3D data to 1D\n",
        "model7.add(Flatten())\n",
        "\n",
        "# Add the output layer with sigmoid activation for binary classification\n",
        "model7.add(Dense(1, activation='sigmoid'))\n",
        "\n",
        "# Compile the model\n",
        "model7.compile(optimizer='adam', loss='binary_crossentropy', metrics=['accuracy'])\n",
        "\n",
        "model7.summary()"
      ],
      "metadata": {
        "colab": {
          "base_uri": "https://localhost:8080/"
        },
        "outputId": "a1e883c5-26e2-4503-ea16-f5de409282de",
        "id": "bDECucvr0vM_"
      },
      "execution_count": 44,
      "outputs": [
        {
          "output_type": "stream",
          "name": "stdout",
          "text": [
            "Model: \"sequential_6\"\n",
            "_________________________________________________________________\n",
            " Layer (type)                Output Shape              Param #   \n",
            "=================================================================\n",
            " conv1d_8 (Conv1D)           (None, 296, 64)           384       \n",
            "                                                                 \n",
            " max_pooling1d_8 (MaxPoolin  (None, 148, 64)           0         \n",
            " g1D)                                                            \n",
            "                                                                 \n",
            " conv1d_9 (Conv1D)           (None, 144, 64)           20544     \n",
            "                                                                 \n",
            " max_pooling1d_9 (MaxPoolin  (None, 72, 64)            0         \n",
            " g1D)                                                            \n",
            "                                                                 \n",
            " flatten_6 (Flatten)         (None, 4608)              0         \n",
            "                                                                 \n",
            " dense_6 (Dense)             (None, 1)                 4609      \n",
            "                                                                 \n",
            "=================================================================\n",
            "Total params: 25537 (99.75 KB)\n",
            "Trainable params: 25537 (99.75 KB)\n",
            "Non-trainable params: 0 (0.00 Byte)\n",
            "_________________________________________________________________\n"
          ]
        }
      ]
    },
    {
      "cell_type": "code",
      "source": [
        "# Train the model\n",
        "model7.fit(X_train_resampled, y_train_resampled, epochs=20, batch_size=64, validation_split=0.2)"
      ],
      "metadata": {
        "colab": {
          "base_uri": "https://localhost:8080/"
        },
        "outputId": "becd33ce-a2cc-4fe1-e307-0c4e29bc2417",
        "id": "k6z15UO70vNA"
      },
      "execution_count": 45,
      "outputs": [
        {
          "output_type": "stream",
          "name": "stdout",
          "text": [
            "Epoch 1/20\n",
            "338/338 [==============================] - 4s 6ms/step - loss: 0.5616 - accuracy: 0.7067 - val_loss: 0.7466 - val_accuracy: 0.5211\n",
            "Epoch 2/20\n",
            "338/338 [==============================] - 2s 5ms/step - loss: 0.4555 - accuracy: 0.7955 - val_loss: 0.5319 - val_accuracy: 0.7362\n",
            "Epoch 3/20\n",
            "338/338 [==============================] - 2s 5ms/step - loss: 0.4223 - accuracy: 0.8172 - val_loss: 0.6031 - val_accuracy: 0.6707\n",
            "Epoch 4/20\n",
            "338/338 [==============================] - 1s 4ms/step - loss: 0.3990 - accuracy: 0.8314 - val_loss: 0.3647 - val_accuracy: 0.8605\n",
            "Epoch 5/20\n",
            "338/338 [==============================] - 2s 5ms/step - loss: 0.3855 - accuracy: 0.8389 - val_loss: 0.4243 - val_accuracy: 0.8178\n",
            "Epoch 6/20\n",
            "338/338 [==============================] - 2s 6ms/step - loss: 0.3671 - accuracy: 0.8500 - val_loss: 0.5961 - val_accuracy: 0.6828\n",
            "Epoch 7/20\n",
            "338/338 [==============================] - 2s 5ms/step - loss: 0.3594 - accuracy: 0.8507 - val_loss: 0.3144 - val_accuracy: 0.8864\n",
            "Epoch 8/20\n",
            "338/338 [==============================] - 2s 5ms/step - loss: 0.3518 - accuracy: 0.8549 - val_loss: 0.4127 - val_accuracy: 0.8091\n",
            "Epoch 9/20\n",
            "338/338 [==============================] - 1s 4ms/step - loss: 0.3435 - accuracy: 0.8584 - val_loss: 0.2792 - val_accuracy: 0.9105\n",
            "Epoch 10/20\n",
            "338/338 [==============================] - 1s 4ms/step - loss: 0.3405 - accuracy: 0.8605 - val_loss: 0.3594 - val_accuracy: 0.8476\n",
            "Epoch 11/20\n",
            "338/338 [==============================] - 2s 5ms/step - loss: 0.3334 - accuracy: 0.8646 - val_loss: 0.3517 - val_accuracy: 0.8602\n",
            "Epoch 12/20\n",
            "338/338 [==============================] - 1s 4ms/step - loss: 0.3264 - accuracy: 0.8692 - val_loss: 0.4448 - val_accuracy: 0.7939\n",
            "Epoch 13/20\n",
            "338/338 [==============================] - 2s 5ms/step - loss: 0.3215 - accuracy: 0.8696 - val_loss: 0.3183 - val_accuracy: 0.8724\n",
            "Epoch 14/20\n",
            "338/338 [==============================] - 2s 6ms/step - loss: 0.3183 - accuracy: 0.8716 - val_loss: 0.2205 - val_accuracy: 0.9336\n",
            "Epoch 15/20\n",
            "338/338 [==============================] - 2s 6ms/step - loss: 0.3146 - accuracy: 0.8722 - val_loss: 0.2522 - val_accuracy: 0.9134\n",
            "Epoch 16/20\n",
            "338/338 [==============================] - 1s 4ms/step - loss: 0.3078 - accuracy: 0.8761 - val_loss: 0.2967 - val_accuracy: 0.8868\n",
            "Epoch 17/20\n",
            "338/338 [==============================] - 2s 5ms/step - loss: 0.3042 - accuracy: 0.8793 - val_loss: 0.2422 - val_accuracy: 0.9145\n",
            "Epoch 18/20\n",
            "338/338 [==============================] - 2s 5ms/step - loss: 0.3033 - accuracy: 0.8762 - val_loss: 0.3171 - val_accuracy: 0.8748\n",
            "Epoch 19/20\n",
            "338/338 [==============================] - 1s 4ms/step - loss: 0.2965 - accuracy: 0.8807 - val_loss: 0.3359 - val_accuracy: 0.8598\n",
            "Epoch 20/20\n",
            "338/338 [==============================] - 2s 5ms/step - loss: 0.2916 - accuracy: 0.8830 - val_loss: 0.3363 - val_accuracy: 0.8559\n"
          ]
        },
        {
          "output_type": "execute_result",
          "data": {
            "text/plain": [
              "<keras.src.callbacks.History at 0x7e85f07809d0>"
            ]
          },
          "metadata": {},
          "execution_count": 45
        }
      ]
    },
    {
      "cell_type": "code",
      "source": [
        "y_pred = (model7.predict(X_test) > 0.5).astype(\"int32\")"
      ],
      "metadata": {
        "colab": {
          "base_uri": "https://localhost:8080/"
        },
        "outputId": "344a1dbf-b635-4ef2-e805-e1e111064aa4",
        "id": "xuP6LXq-0vNA"
      },
      "execution_count": 46,
      "outputs": [
        {
          "output_type": "stream",
          "name": "stdout",
          "text": [
            "139/139 [==============================] - 0s 2ms/step\n"
          ]
        }
      ]
    },
    {
      "cell_type": "code",
      "source": [
        "# Calculate the confusion matrix\n",
        "cm = confusion_matrix(y_test, y_pred)\n",
        "\n",
        "# Plot the confusion matrix\n",
        "disp = ConfusionMatrixDisplay(confusion_matrix=cm)\n",
        "disp.plot(cmap=plt.cm.Blues)\n",
        "plt.show()"
      ],
      "metadata": {
        "colab": {
          "base_uri": "https://localhost:8080/",
          "height": 449
        },
        "outputId": "15a4184d-8cd6-46a6-fdd2-e3db0812ca9e",
        "id": "_pQS1PWi0vNA"
      },
      "execution_count": 47,
      "outputs": [
        {
          "output_type": "display_data",
          "data": {
            "text/plain": [
              "<Figure size 640x480 with 2 Axes>"
            ],
            "image/png": "[encoded data removed]"
          },
          "metadata": {}
        }
      ]
    },
    {
      "cell_type": "code",
      "source": [
        "# Calculate accuracy\n",
        "accuracy = accuracy_score(y_test, y_pred)\n",
        "print(f'Accuracy: {accuracy:.4f}')\n",
        "\n",
        "# Calculate precision\n",
        "precision = precision_score(y_test, y_pred)\n",
        "print(f'Precision: {precision:.4f}')\n",
        "\n",
        "# Calculate recall\n",
        "recall = recall_score(y_test, y_pred)\n",
        "print(f'Recall: {recall:.4f}')\n",
        "\n",
        "# Calculate F1 score\n",
        "f1 = f1_score(y_test, y_pred)\n",
        "print(f'F1 Score: {f1:.4f}')"
      ],
      "metadata": {
        "colab": {
          "base_uri": "https://localhost:8080/"
        },
        "outputId": "f62eaf44-3567-4009-951f-c1290308504f",
        "id": "Y9LnOkMz0vNA"
      },
      "execution_count": 48,
      "outputs": [
        {
          "output_type": "stream",
          "name": "stdout",
          "text": [
            "Accuracy: 0.8557\n",
            "Precision: 0.7054\n",
            "Recall: 0.6774\n",
            "F1 Score: 0.6911\n"
          ]
        }
      ]
    },
    {
      "cell_type": "markdown",
      "source": [
        "One layer is better than two layers"
      ],
      "metadata": {
        "id": "9jblrqoM0qbe"
      }
    },
    {
      "cell_type": "markdown",
      "source": [
        "## Add Additional Dense Layer: Neurons 32"
      ],
      "metadata": {
        "id": "IfgX6IOGwv1m"
      }
    },
    {
      "cell_type": "code",
      "source": [
        "# Define the CNN model\n",
        "model8 = Sequential()\n",
        "\n",
        "# Add a Conv1D layer\n",
        "model8.add(Conv1D(filters=64, kernel_size=5, activation='relu', input_shape=(X_train_resampled.shape[1], X_train_resampled.shape[2])))\n",
        "\n",
        "# Add a MaxPooling layer\n",
        "model8.add(MaxPooling1D(pool_size=2))\n",
        "\n",
        "# Add a Flatten layer to convert 3D data to 1D\n",
        "model8.add(Flatten())\n",
        "\n",
        "# Add a Dense layer\n",
        "model8.add(Dense(32, activation='relu'))\n",
        "\n",
        "# Add the output layer with sigmoid activation for binary classification\n",
        "model8.add(Dense(1, activation='sigmoid'))\n",
        "\n",
        "# Compile the model\n",
        "model8.compile(optimizer='adam', loss='binary_crossentropy', metrics=['accuracy'])\n",
        "\n",
        "model8.summary()"
      ],
      "metadata": {
        "colab": {
          "base_uri": "https://localhost:8080/"
        },
        "outputId": "9612bc45-9a03-430b-d961-1430ccd8ae77",
        "id": "UZiKbbsVjuHi"
      },
      "execution_count": 49,
      "outputs": [
        {
          "output_type": "stream",
          "name": "stdout",
          "text": [
            "Model: \"sequential_7\"\n",
            "_________________________________________________________________\n",
            " Layer (type)                Output Shape              Param #   \n",
            "=================================================================\n",
            " conv1d_10 (Conv1D)          (None, 296, 64)           384       \n",
            "                                                                 \n",
            " max_pooling1d_10 (MaxPooli  (None, 148, 64)           0         \n",
            " ng1D)                                                           \n",
            "                                                                 \n",
            " flatten_7 (Flatten)         (None, 9472)              0         \n",
            "                                                                 \n",
            " dense_7 (Dense)             (None, 32)                303136    \n",
            "                                                                 \n",
            " dense_8 (Dense)             (None, 1)                 33        \n",
            "                                                                 \n",
            "=================================================================\n",
            "Total params: 303553 (1.16 MB)\n",
            "Trainable params: 303553 (1.16 MB)\n",
            "Non-trainable params: 0 (0.00 Byte)\n",
            "_________________________________________________________________\n"
          ]
        }
      ]
    },
    {
      "cell_type": "code",
      "source": [
        "# Train the model\n",
        "model8.fit(X_train_resampled, y_train_resampled, epochs=20, batch_size=64, validation_split=0.2)"
      ],
      "metadata": {
        "colab": {
          "base_uri": "https://localhost:8080/"
        },
        "outputId": "18e00120-624e-4c50-8076-dfe6e4304534",
        "id": "RHQ6Z6dfjuHi"
      },
      "execution_count": 50,
      "outputs": [
        {
          "output_type": "stream",
          "name": "stdout",
          "text": [
            "Epoch 1/20\n",
            "338/338 [==============================] - 3s 5ms/step - loss: 0.5324 - accuracy: 0.7389 - val_loss: 0.6676 - val_accuracy: 0.8394\n",
            "Epoch 2/20\n",
            "338/338 [==============================] - 1s 4ms/step - loss: 0.4571 - accuracy: 0.8105 - val_loss: 0.6868 - val_accuracy: 0.7399\n",
            "Epoch 3/20\n",
            "338/338 [==============================] - 2s 4ms/step - loss: 0.4178 - accuracy: 0.8333 - val_loss: 0.5253 - val_accuracy: 0.8809\n",
            "Epoch 4/20\n",
            "338/338 [==============================] - 1s 4ms/step - loss: 0.3974 - accuracy: 0.8424 - val_loss: 0.6173 - val_accuracy: 0.7542\n",
            "Epoch 5/20\n",
            "338/338 [==============================] - 2s 6ms/step - loss: 0.3777 - accuracy: 0.8530 - val_loss: 0.4379 - val_accuracy: 0.9057\n",
            "Epoch 6/20\n",
            "338/338 [==============================] - 2s 6ms/step - loss: 0.3654 - accuracy: 0.8547 - val_loss: 0.3820 - val_accuracy: 0.9279\n",
            "Epoch 7/20\n",
            "338/338 [==============================] - 1s 4ms/step - loss: 0.3520 - accuracy: 0.8603 - val_loss: 0.5046 - val_accuracy: 0.8128\n",
            "Epoch 8/20\n",
            "338/338 [==============================] - 1s 4ms/step - loss: 0.3479 - accuracy: 0.8607 - val_loss: 0.5987 - val_accuracy: 0.7279\n",
            "Epoch 9/20\n",
            "338/338 [==============================] - 2s 4ms/step - loss: 0.3395 - accuracy: 0.8627 - val_loss: 0.4818 - val_accuracy: 0.8104\n",
            "Epoch 10/20\n",
            "338/338 [==============================] - 1s 4ms/step - loss: 0.3372 - accuracy: 0.8643 - val_loss: 0.5242 - val_accuracy: 0.7782\n",
            "Epoch 11/20\n",
            "338/338 [==============================] - 1s 4ms/step - loss: 0.3283 - accuracy: 0.8668 - val_loss: 0.5124 - val_accuracy: 0.7912\n",
            "Epoch 12/20\n",
            "338/338 [==============================] - 1s 4ms/step - loss: 0.3225 - accuracy: 0.8703 - val_loss: 0.3476 - val_accuracy: 0.8973\n",
            "Epoch 13/20\n",
            "338/338 [==============================] - 1s 4ms/step - loss: 0.3198 - accuracy: 0.8700 - val_loss: 0.5288 - val_accuracy: 0.7754\n",
            "Epoch 14/20\n",
            "338/338 [==============================] - 2s 6ms/step - loss: 0.3117 - accuracy: 0.8746 - val_loss: 0.3769 - val_accuracy: 0.8774\n",
            "Epoch 15/20\n",
            "338/338 [==============================] - 2s 6ms/step - loss: 0.3053 - accuracy: 0.8786 - val_loss: 0.4248 - val_accuracy: 0.8370\n",
            "Epoch 16/20\n",
            "338/338 [==============================] - 1s 4ms/step - loss: 0.3050 - accuracy: 0.8753 - val_loss: 0.3278 - val_accuracy: 0.9105\n",
            "Epoch 17/20\n",
            "338/338 [==============================] - 1s 4ms/step - loss: 0.2996 - accuracy: 0.8795 - val_loss: 0.2509 - val_accuracy: 0.9403\n",
            "Epoch 18/20\n",
            "338/338 [==============================] - 1s 4ms/step - loss: 0.2931 - accuracy: 0.8822 - val_loss: 0.2524 - val_accuracy: 0.9397\n",
            "Epoch 19/20\n",
            "338/338 [==============================] - 1s 4ms/step - loss: 0.2918 - accuracy: 0.8826 - val_loss: 0.5266 - val_accuracy: 0.7629\n",
            "Epoch 20/20\n",
            "338/338 [==============================] - 2s 5ms/step - loss: 0.2840 - accuracy: 0.8867 - val_loss: 0.1949 - val_accuracy: 0.9693\n"
          ]
        },
        {
          "output_type": "execute_result",
          "data": {
            "text/plain": [
              "<keras.src.callbacks.History at 0x7e85f2b5c9a0>"
            ]
          },
          "metadata": {},
          "execution_count": 50
        }
      ]
    },
    {
      "cell_type": "code",
      "source": [
        "y_pred = (model8.predict(X_test) > 0.5).astype(\"int32\")"
      ],
      "metadata": {
        "colab": {
          "base_uri": "https://localhost:8080/"
        },
        "outputId": "3f40ebfc-0586-4d89-e35b-60d02f4a6f60",
        "id": "61G0v4AcjuHj"
      },
      "execution_count": 51,
      "outputs": [
        {
          "output_type": "stream",
          "name": "stdout",
          "text": [
            "139/139 [==============================] - 0s 2ms/step\n"
          ]
        }
      ]
    },
    {
      "cell_type": "code",
      "source": [
        "# Calculate the confusion matrix\n",
        "cm = confusion_matrix(y_test, y_pred)\n",
        "\n",
        "# Plot the confusion matrix\n",
        "disp = ConfusionMatrixDisplay(confusion_matrix=cm)\n",
        "disp.plot(cmap=plt.cm.Blues)\n",
        "plt.show()"
      ],
      "metadata": {
        "colab": {
          "base_uri": "https://localhost:8080/",
          "height": 449
        },
        "outputId": "2908d1e4-2e0a-4488-af2f-41c41836f6d0",
        "id": "3-8cH855juHj"
      },
      "execution_count": 52,
      "outputs": [
        {
          "output_type": "display_data",
          "data": {
            "text/plain": [
              "<Figure size 640x480 with 2 Axes>"
            ],
            "image/png": "[encoded data removed]"
          },
          "metadata": {}
        }
      ]
    },
    {
      "cell_type": "code",
      "source": [
        "# Calculate accuracy\n",
        "accuracy = accuracy_score(y_test, y_pred)\n",
        "print(f'Accuracy: {accuracy:.4f}')\n",
        "\n",
        "# Calculate precision\n",
        "precision = precision_score(y_test, y_pred)\n",
        "print(f'Precision: {precision:.4f}')\n",
        "\n",
        "# Calculate recall\n",
        "recall = recall_score(y_test, y_pred)\n",
        "print(f'Recall: {recall:.4f}')\n",
        "\n",
        "# Calculate F1 score\n",
        "f1 = f1_score(y_test, y_pred)\n",
        "print(f'F1 Score: {f1:.4f}')"
      ],
      "metadata": {
        "colab": {
          "base_uri": "https://localhost:8080/"
        },
        "outputId": "ade85ada-5174-44c9-d76c-9547160e1c2c",
        "id": "1btzpyNsjuHj"
      },
      "execution_count": 53,
      "outputs": [
        {
          "output_type": "stream",
          "name": "stdout",
          "text": [
            "Accuracy: 0.8046\n",
            "Precision: 0.5599\n",
            "Recall: 0.8401\n",
            "F1 Score: 0.6720\n"
          ]
        }
      ]
    },
    {
      "cell_type": "markdown",
      "source": [
        "## Add Additional Dense Layer: Neurons 64"
      ],
      "metadata": {
        "id": "TWI5ZfZKs1CH"
      }
    },
    {
      "cell_type": "code",
      "source": [
        "# Define the CNN model\n",
        "model9 = Sequential()\n",
        "\n",
        "# Add a Conv1D layer\n",
        "model9.add(Conv1D(filters=64, kernel_size=5, activation='relu', input_shape=(X_train_resampled.shape[1], X_train_resampled.shape[2])))\n",
        "\n",
        "# Add a MaxPooling layer\n",
        "model9.add(MaxPooling1D(pool_size=2))\n",
        "\n",
        "# Add a Flatten layer to convert 3D data to 1D\n",
        "model9.add(Flatten())\n",
        "\n",
        "# Add a Dense layer\n",
        "model9.add(Dense(64, activation='relu'))\n",
        "\n",
        "# Add the output layer with sigmoid activation for binary classification\n",
        "model9.add(Dense(1, activation='sigmoid'))\n",
        "\n",
        "# Compile the model\n",
        "model9.compile(optimizer='adam', loss='binary_crossentropy', metrics=['accuracy'])\n",
        "\n",
        "model9.summary()"
      ],
      "metadata": {
        "colab": {
          "base_uri": "https://localhost:8080/"
        },
        "outputId": "99f1c8e9-ff3b-4fa8-d77a-438ad3795778",
        "id": "14QLMQq4kV1s"
      },
      "execution_count": 54,
      "outputs": [
        {
          "output_type": "stream",
          "name": "stdout",
          "text": [
            "Model: \"sequential_8\"\n",
            "_________________________________________________________________\n",
            " Layer (type)                Output Shape              Param #   \n",
            "=================================================================\n",
            " conv1d_11 (Conv1D)          (None, 296, 64)           384       \n",
            "                                                                 \n",
            " max_pooling1d_11 (MaxPooli  (None, 148, 64)           0         \n",
            " ng1D)                                                           \n",
            "                                                                 \n",
            " flatten_8 (Flatten)         (None, 9472)              0         \n",
            "                                                                 \n",
            " dense_9 (Dense)             (None, 64)                606272    \n",
            "                                                                 \n",
            " dense_10 (Dense)            (None, 1)                 65        \n",
            "                                                                 \n",
            "=================================================================\n",
            "Total params: 606721 (2.31 MB)\n",
            "Trainable params: 606721 (2.31 MB)\n",
            "Non-trainable params: 0 (0.00 Byte)\n",
            "_________________________________________________________________\n"
          ]
        }
      ]
    },
    {
      "cell_type": "code",
      "source": [
        "# Train the model\n",
        "model9.fit(X_train_resampled, y_train_resampled, epochs=20, batch_size=64, validation_split=0.2)"
      ],
      "metadata": {
        "colab": {
          "base_uri": "https://localhost:8080/"
        },
        "outputId": "f788bc64-24f5-474c-9707-097170d536ef",
        "id": "E5JCuYXMkV1s"
      },
      "execution_count": 55,
      "outputs": [
        {
          "output_type": "stream",
          "name": "stdout",
          "text": [
            "Epoch 1/20\n",
            "338/338 [==============================] - 3s 5ms/step - loss: 0.4818 - accuracy: 0.7697 - val_loss: 0.4191 - val_accuracy: 0.8485\n",
            "Epoch 2/20\n",
            "338/338 [==============================] - 1s 4ms/step - loss: 0.3938 - accuracy: 0.8308 - val_loss: 0.2669 - val_accuracy: 0.9382\n",
            "Epoch 3/20\n",
            "338/338 [==============================] - 2s 5ms/step - loss: 0.3708 - accuracy: 0.8408 - val_loss: 0.3104 - val_accuracy: 0.9169\n",
            "Epoch 4/20\n",
            "338/338 [==============================] - 3s 8ms/step - loss: 0.3578 - accuracy: 0.8484 - val_loss: 0.3587 - val_accuracy: 0.8470\n",
            "Epoch 5/20\n",
            "338/338 [==============================] - 3s 10ms/step - loss: 0.3432 - accuracy: 0.8586 - val_loss: 0.5088 - val_accuracy: 0.7531\n",
            "Epoch 6/20\n",
            "338/338 [==============================] - 3s 8ms/step - loss: 0.3385 - accuracy: 0.8590 - val_loss: 0.1664 - val_accuracy: 0.9669\n",
            "Epoch 7/20\n",
            "338/338 [==============================] - 2s 5ms/step - loss: 0.3359 - accuracy: 0.8607 - val_loss: 0.3055 - val_accuracy: 0.9020\n",
            "Epoch 8/20\n",
            "338/338 [==============================] - 2s 5ms/step - loss: 0.3251 - accuracy: 0.8642 - val_loss: 0.4034 - val_accuracy: 0.8306\n",
            "Epoch 9/20\n",
            "338/338 [==============================] - 1s 4ms/step - loss: 0.3211 - accuracy: 0.8687 - val_loss: 0.6409 - val_accuracy: 0.6731\n",
            "Epoch 10/20\n",
            "338/338 [==============================] - 1s 4ms/step - loss: 0.3198 - accuracy: 0.8661 - val_loss: 0.3520 - val_accuracy: 0.8548\n",
            "Epoch 11/20\n",
            "338/338 [==============================] - 1s 4ms/step - loss: 0.3203 - accuracy: 0.8669 - val_loss: 0.1776 - val_accuracy: 0.9573\n",
            "Epoch 12/20\n",
            "338/338 [==============================] - 1s 4ms/step - loss: 0.3083 - accuracy: 0.8739 - val_loss: 0.3132 - val_accuracy: 0.8853\n",
            "Epoch 13/20\n",
            "338/338 [==============================] - 3s 8ms/step - loss: 0.3073 - accuracy: 0.8743 - val_loss: 0.2706 - val_accuracy: 0.9123\n",
            "Epoch 14/20\n",
            "338/338 [==============================] - 3s 9ms/step - loss: 0.3002 - accuracy: 0.8772 - val_loss: 0.3494 - val_accuracy: 0.8594\n",
            "Epoch 15/20\n",
            "338/338 [==============================] - 2s 6ms/step - loss: 0.3013 - accuracy: 0.8754 - val_loss: 0.2150 - val_accuracy: 0.9388\n",
            "Epoch 16/20\n",
            "338/338 [==============================] - 1s 4ms/step - loss: 0.2983 - accuracy: 0.8765 - val_loss: 0.3584 - val_accuracy: 0.8603\n",
            "Epoch 17/20\n",
            "338/338 [==============================] - 2s 5ms/step - loss: 0.2970 - accuracy: 0.8776 - val_loss: 0.2834 - val_accuracy: 0.9118\n",
            "Epoch 18/20\n",
            "338/338 [==============================] - 1s 4ms/step - loss: 0.2896 - accuracy: 0.8795 - val_loss: 0.2785 - val_accuracy: 0.8999\n",
            "Epoch 19/20\n",
            "338/338 [==============================] - 2s 5ms/step - loss: 0.2806 - accuracy: 0.8860 - val_loss: 0.3628 - val_accuracy: 0.8509\n",
            "Epoch 20/20\n",
            "338/338 [==============================] - 2s 5ms/step - loss: 0.2766 - accuracy: 0.8877 - val_loss: 0.4194 - val_accuracy: 0.8259\n"
          ]
        },
        {
          "output_type": "execute_result",
          "data": {
            "text/plain": [
              "<keras.src.callbacks.History at 0x7e85f0262200>"
            ]
          },
          "metadata": {},
          "execution_count": 55
        }
      ]
    },
    {
      "cell_type": "code",
      "source": [
        "y_pred = (model9.predict(X_test) > 0.5).astype(\"int32\")"
      ],
      "metadata": {
        "colab": {
          "base_uri": "https://localhost:8080/"
        },
        "outputId": "ce0921a2-14d6-4f14-a368-aa7fd34f2f13",
        "id": "rey-Rr95kV1t"
      },
      "execution_count": 56,
      "outputs": [
        {
          "output_type": "stream",
          "name": "stdout",
          "text": [
            "139/139 [==============================] - 0s 2ms/step\n"
          ]
        }
      ]
    },
    {
      "cell_type": "code",
      "source": [
        "# Calculate the confusion matrix\n",
        "cm = confusion_matrix(y_test, y_pred)\n",
        "\n",
        "# Plot the confusion matrix\n",
        "disp = ConfusionMatrixDisplay(confusion_matrix=cm)\n",
        "disp.plot(cmap=plt.cm.Blues)\n",
        "plt.show()"
      ],
      "metadata": {
        "colab": {
          "base_uri": "https://localhost:8080/",
          "height": 449
        },
        "outputId": "53053abe-92de-4352-ea32-26f5d27c6459",
        "id": "imxdTJnWkV1t"
      },
      "execution_count": 57,
      "outputs": [
        {
          "output_type": "display_data",
          "data": {
            "text/plain": [
              "<Figure size 640x480 with 2 Axes>"
            ],
            "image/png": "[encoded data removed]"
          },
          "metadata": {}
        }
      ]
    },
    {
      "cell_type": "code",
      "source": [
        "# Calculate accuracy\n",
        "accuracy = accuracy_score(y_test, y_pred)\n",
        "print(f'Accuracy: {accuracy:.4f}')\n",
        "\n",
        "# Calculate precision\n",
        "precision = precision_score(y_test, y_pred)\n",
        "print(f'Precision: {precision:.4f}')\n",
        "\n",
        "# Calculate recall\n",
        "recall = recall_score(y_test, y_pred)\n",
        "print(f'Recall: {recall:.4f}')\n",
        "\n",
        "# Calculate F1 score\n",
        "f1 = f1_score(y_test, y_pred)\n",
        "print(f'F1 Score: {f1:.4f}')"
      ],
      "metadata": {
        "colab": {
          "base_uri": "https://localhost:8080/"
        },
        "outputId": "0dd94890-fd2a-4ee8-fbb9-fc72d9b9bd30",
        "id": "FXpLDbnBkV1t"
      },
      "execution_count": 58,
      "outputs": [
        {
          "output_type": "stream",
          "name": "stdout",
          "text": [
            "Accuracy: 0.8620\n",
            "Precision: 0.7345\n",
            "Recall: 0.6594\n",
            "F1 Score: 0.6949\n"
          ]
        }
      ]
    },
    {
      "cell_type": "markdown",
      "source": [
        "## Add Dropout with 20%"
      ],
      "metadata": {
        "id": "h60--KF7t3vO"
      }
    },
    {
      "cell_type": "code",
      "source": [
        "# Define the CNN model\n",
        "model13 = Sequential()\n",
        "\n",
        "# Add a Conv1D layer\n",
        "model13.add(Conv1D(filters=64, kernel_size=5, activation='relu', input_shape=(X_train_resampled.shape[1], X_train_resampled.shape[2])))\n",
        "\n",
        "# Add a MaxPooling layer\n",
        "model13.add(MaxPooling1D(pool_size=2))\n",
        "\n",
        "# Add a Flatten layer to convert 3D data to 1D\n",
        "model13.add(Flatten())\n",
        "\n",
        "# Add a Dense layer\n",
        "model13.add(Dense(64, activation='relu'))\n",
        "\n",
        "model13.add(Dropout(0.2))\n",
        "\n",
        "# Add the output layer with sigmoid activation for binary classification\n",
        "model13.add(Dense(1, activation='sigmoid'))\n",
        "\n",
        "# Compile the model\n",
        "model13.compile(optimizer='adam', loss='binary_crossentropy', metrics=['accuracy'])\n",
        "\n",
        "model13.summary()"
      ],
      "metadata": {
        "colab": {
          "base_uri": "https://localhost:8080/"
        },
        "outputId": "98d1cab8-d859-4b1b-8f77-24ce7f64a6f7",
        "id": "_cHLIcdgt7Fy"
      },
      "execution_count": 65,
      "outputs": [
        {
          "output_type": "stream",
          "name": "stdout",
          "text": [
            "Model: \"sequential_11\"\n",
            "_________________________________________________________________\n",
            " Layer (type)                Output Shape              Param #   \n",
            "=================================================================\n",
            " conv1d_14 (Conv1D)          (None, 296, 64)           384       \n",
            "                                                                 \n",
            " max_pooling1d_14 (MaxPooli  (None, 148, 64)           0         \n",
            " ng1D)                                                           \n",
            "                                                                 \n",
            " flatten_10 (Flatten)        (None, 9472)              0         \n",
            "                                                                 \n",
            " dense_13 (Dense)            (None, 64)                606272    \n",
            "                                                                 \n",
            " dropout (Dropout)           (None, 64)                0         \n",
            "                                                                 \n",
            " dense_14 (Dense)            (None, 1)                 65        \n",
            "                                                                 \n",
            "=================================================================\n",
            "Total params: 606721 (2.31 MB)\n",
            "Trainable params: 606721 (2.31 MB)\n",
            "Non-trainable params: 0 (0.00 Byte)\n",
            "_________________________________________________________________\n"
          ]
        }
      ]
    },
    {
      "cell_type": "code",
      "source": [
        "# Train the model\n",
        "model13.fit(X_train_resampled, y_train_resampled, epochs=20, batch_size=64, validation_split=0.2)"
      ],
      "metadata": {
        "colab": {
          "base_uri": "https://localhost:8080/"
        },
        "outputId": "dfcddd03-d99c-4b4e-b581-ddc9dde81651",
        "id": "guxAhnn_t7F0"
      },
      "execution_count": 66,
      "outputs": [
        {
          "output_type": "stream",
          "name": "stdout",
          "text": [
            "Epoch 1/20\n",
            "338/338 [==============================] - 4s 5ms/step - loss: 0.4870 - accuracy: 0.7636 - val_loss: 0.4143 - val_accuracy: 0.8674\n",
            "Epoch 2/20\n",
            "338/338 [==============================] - 2s 5ms/step - loss: 0.3973 - accuracy: 0.8285 - val_loss: 0.4735 - val_accuracy: 0.7932\n",
            "Epoch 3/20\n",
            "338/338 [==============================] - 2s 6ms/step - loss: 0.3770 - accuracy: 0.8396 - val_loss: 0.4325 - val_accuracy: 0.8420\n",
            "Epoch 4/20\n",
            "338/338 [==============================] - 2s 7ms/step - loss: 0.3633 - accuracy: 0.8486 - val_loss: 0.3279 - val_accuracy: 0.9020\n",
            "Epoch 5/20\n",
            "338/338 [==============================] - 2s 6ms/step - loss: 0.3551 - accuracy: 0.8494 - val_loss: 0.3387 - val_accuracy: 0.8922\n",
            "Epoch 6/20\n",
            "338/338 [==============================] - 2s 5ms/step - loss: 0.3515 - accuracy: 0.8504 - val_loss: 0.3733 - val_accuracy: 0.8533\n",
            "Epoch 7/20\n",
            "338/338 [==============================] - 1s 4ms/step - loss: 0.3403 - accuracy: 0.8567 - val_loss: 0.3084 - val_accuracy: 0.8916\n",
            "Epoch 8/20\n",
            "338/338 [==============================] - 2s 5ms/step - loss: 0.3333 - accuracy: 0.8628 - val_loss: 0.3361 - val_accuracy: 0.8829\n",
            "Epoch 9/20\n",
            "338/338 [==============================] - 1s 4ms/step - loss: 0.3276 - accuracy: 0.8641 - val_loss: 0.3282 - val_accuracy: 0.8868\n",
            "Epoch 10/20\n",
            "338/338 [==============================] - 2s 5ms/step - loss: 0.3194 - accuracy: 0.8703 - val_loss: 0.3611 - val_accuracy: 0.8548\n",
            "Epoch 11/20\n",
            "338/338 [==============================] - 2s 7ms/step - loss: 0.3171 - accuracy: 0.8693 - val_loss: 0.2473 - val_accuracy: 0.9243\n",
            "Epoch 12/20\n",
            "338/338 [==============================] - 2s 7ms/step - loss: 0.3127 - accuracy: 0.8706 - val_loss: 0.3633 - val_accuracy: 0.8487\n",
            "Epoch 13/20\n",
            "338/338 [==============================] - 2s 5ms/step - loss: 0.3090 - accuracy: 0.8717 - val_loss: 0.3562 - val_accuracy: 0.8559\n",
            "Epoch 14/20\n",
            "338/338 [==============================] - 1s 4ms/step - loss: 0.3019 - accuracy: 0.8758 - val_loss: 0.2494 - val_accuracy: 0.9184\n",
            "Epoch 15/20\n",
            "338/338 [==============================] - 2s 5ms/step - loss: 0.3006 - accuracy: 0.8774 - val_loss: 0.3776 - val_accuracy: 0.8280\n",
            "Epoch 16/20\n",
            "338/338 [==============================] - 1s 4ms/step - loss: 0.2954 - accuracy: 0.8797 - val_loss: 0.3524 - val_accuracy: 0.8548\n",
            "Epoch 17/20\n",
            "338/338 [==============================] - 2s 5ms/step - loss: 0.2883 - accuracy: 0.8822 - val_loss: 0.2043 - val_accuracy: 0.9415\n",
            "Epoch 18/20\n",
            "338/338 [==============================] - 1s 4ms/step - loss: 0.2841 - accuracy: 0.8831 - val_loss: 0.2780 - val_accuracy: 0.8979\n",
            "Epoch 19/20\n",
            "338/338 [==============================] - 2s 5ms/step - loss: 0.2794 - accuracy: 0.8869 - val_loss: 0.2015 - val_accuracy: 0.9406\n",
            "Epoch 20/20\n",
            "338/338 [==============================] - 2s 7ms/step - loss: 0.2775 - accuracy: 0.8853 - val_loss: 0.1950 - val_accuracy: 0.9366\n"
          ]
        },
        {
          "output_type": "execute_result",
          "data": {
            "text/plain": [
              "<keras.src.callbacks.History at 0x7e85e03d59f0>"
            ]
          },
          "metadata": {},
          "execution_count": 66
        }
      ]
    },
    {
      "cell_type": "code",
      "source": [
        "y_pred = (model13.predict(X_test) > 0.5).astype(\"int32\")"
      ],
      "metadata": {
        "colab": {
          "base_uri": "https://localhost:8080/"
        },
        "outputId": "7be662ee-4805-4a96-acbd-e88172617a6e",
        "id": "n7Udt-92t7F1"
      },
      "execution_count": 67,
      "outputs": [
        {
          "output_type": "stream",
          "name": "stdout",
          "text": [
            "139/139 [==============================] - 0s 2ms/step\n"
          ]
        }
      ]
    },
    {
      "cell_type": "code",
      "source": [
        "# Calculate the confusion matrix\n",
        "cm = confusion_matrix(y_test, y_pred)\n",
        "\n",
        "# Plot the confusion matrix\n",
        "disp = ConfusionMatrixDisplay(confusion_matrix=cm)\n",
        "disp.plot(cmap=plt.cm.Blues)\n",
        "plt.show()"
      ],
      "metadata": {
        "colab": {
          "base_uri": "https://localhost:8080/",
          "height": 449
        },
        "outputId": "4daf5f6c-3fb7-4739-e0b4-06e7e7d00d47",
        "id": "f9xWpKltt7F2"
      },
      "execution_count": 68,
      "outputs": [
        {
          "output_type": "display_data",
          "data": {
            "text/plain": [
              "<Figure size 640x480 with 2 Axes>"
            ],
            "image/png": "[encoded data removed]"
          },
          "metadata": {}
        }
      ]
    },
    {
      "cell_type": "code",
      "source": [
        "# Calculate accuracy\n",
        "accuracy = accuracy_score(y_test, y_pred)\n",
        "print(f'Accuracy: {accuracy:.4f}')\n",
        "\n",
        "# Calculate precision\n",
        "precision = precision_score(y_test, y_pred)\n",
        "print(f'Precision: {precision:.4f}')\n",
        "\n",
        "# Calculate recall\n",
        "recall = recall_score(y_test, y_pred)\n",
        "print(f'Recall: {recall:.4f}')\n",
        "\n",
        "# Calculate F1 score\n",
        "f1 = f1_score(y_test, y_pred)\n",
        "print(f'F1 Score: {f1:.4f}')"
      ],
      "metadata": {
        "colab": {
          "base_uri": "https://localhost:8080/"
        },
        "outputId": "6042fded-38e8-4f24-8be7-b632a01d7e10",
        "id": "WgcNomn0t7F2"
      },
      "execution_count": 69,
      "outputs": [
        {
          "output_type": "stream",
          "name": "stdout",
          "text": [
            "Accuracy: 0.8445\n",
            "Precision: 0.6415\n",
            "Recall: 0.7871\n",
            "F1 Score: 0.7069\n"
          ]
        }
      ]
    },
    {
      "cell_type": "markdown",
      "source": [
        "## Add Dropout with 50%"
      ],
      "metadata": {
        "id": "23zef6Kg34wd"
      }
    },
    {
      "cell_type": "code",
      "source": [
        "# Define the CNN model\n",
        "model14 = Sequential()\n",
        "\n",
        "# Add a Conv1D layer\n",
        "model14.add(Conv1D(filters=64, kernel_size=5, activation='relu', input_shape=(X_train_resampled.shape[1], X_train_resampled.shape[2])))\n",
        "\n",
        "# Add a MaxPooling layer\n",
        "model14.add(MaxPooling1D(pool_size=2))\n",
        "\n",
        "# Add a Flatten layer to convert 3D data to 1D\n",
        "model14.add(Flatten())\n",
        "\n",
        "# Add a Dense layer\n",
        "model14.add(Dense(64, activation='relu'))\n",
        "\n",
        "model14.add(Dropout(0.5))\n",
        "\n",
        "# Add the output layer with sigmoid activation for binary classification\n",
        "model14.add(Dense(1, activation='sigmoid'))\n",
        "\n",
        "# Compile the model\n",
        "model14.compile(optimizer='adam', loss='binary_crossentropy', metrics=['accuracy'])\n",
        "\n",
        "model14.summary()"
      ],
      "metadata": {
        "colab": {
          "base_uri": "https://localhost:8080/"
        },
        "outputId": "84c78992-fb9b-47b7-f280-e2849934f961",
        "id": "x_dQuO4S34wd"
      },
      "execution_count": 70,
      "outputs": [
        {
          "output_type": "stream",
          "name": "stdout",
          "text": [
            "Model: \"sequential_12\"\n",
            "_________________________________________________________________\n",
            " Layer (type)                Output Shape              Param #   \n",
            "=================================================================\n",
            " conv1d_15 (Conv1D)          (None, 296, 64)           384       \n",
            "                                                                 \n",
            " max_pooling1d_15 (MaxPooli  (None, 148, 64)           0         \n",
            " ng1D)                                                           \n",
            "                                                                 \n",
            " flatten_11 (Flatten)        (None, 9472)              0         \n",
            "                                                                 \n",
            " dense_15 (Dense)            (None, 64)                606272    \n",
            "                                                                 \n",
            " dropout_1 (Dropout)         (None, 64)                0         \n",
            "                                                                 \n",
            " dense_16 (Dense)            (None, 1)                 65        \n",
            "                                                                 \n",
            "=================================================================\n",
            "Total params: 606721 (2.31 MB)\n",
            "Trainable params: 606721 (2.31 MB)\n",
            "Non-trainable params: 0 (0.00 Byte)\n",
            "_________________________________________________________________\n"
          ]
        }
      ]
    },
    {
      "cell_type": "code",
      "source": [
        "# Train the model\n",
        "model14.fit(X_train_resampled, y_train_resampled, epochs=20, batch_size=64, validation_split=0.2)"
      ],
      "metadata": {
        "colab": {
          "base_uri": "https://localhost:8080/"
        },
        "outputId": "6293f236-027a-4764-fdb4-11efc389d36e",
        "id": "NH7Uj_0K34wd"
      },
      "execution_count": 71,
      "outputs": [
        {
          "output_type": "stream",
          "name": "stdout",
          "text": [
            "Epoch 1/20\n",
            "338/338 [==============================] - 3s 6ms/step - loss: 0.5123 - accuracy: 0.7441 - val_loss: 0.5565 - val_accuracy: 0.7540\n",
            "Epoch 2/20\n",
            "338/338 [==============================] - 2s 6ms/step - loss: 0.4328 - accuracy: 0.8056 - val_loss: 0.5025 - val_accuracy: 0.7810\n",
            "Epoch 3/20\n",
            "338/338 [==============================] - 2s 5ms/step - loss: 0.4022 - accuracy: 0.8254 - val_loss: 0.5241 - val_accuracy: 0.7566\n",
            "Epoch 4/20\n",
            "338/338 [==============================] - 2s 5ms/step - loss: 0.3897 - accuracy: 0.8333 - val_loss: 0.3575 - val_accuracy: 0.8709\n",
            "Epoch 5/20\n",
            "338/338 [==============================] - 1s 4ms/step - loss: 0.3792 - accuracy: 0.8396 - val_loss: 0.4815 - val_accuracy: 0.7721\n",
            "Epoch 6/20\n",
            "338/338 [==============================] - 2s 5ms/step - loss: 0.3733 - accuracy: 0.8429 - val_loss: 0.4336 - val_accuracy: 0.8232\n",
            "Epoch 7/20\n",
            "338/338 [==============================] - 1s 4ms/step - loss: 0.3720 - accuracy: 0.8456 - val_loss: 0.3864 - val_accuracy: 0.8444\n",
            "Epoch 8/20\n",
            "338/338 [==============================] - 1s 4ms/step - loss: 0.3638 - accuracy: 0.8475 - val_loss: 0.3674 - val_accuracy: 0.8602\n",
            "Epoch 9/20\n",
            "338/338 [==============================] - 2s 5ms/step - loss: 0.3627 - accuracy: 0.8502 - val_loss: 0.3856 - val_accuracy: 0.8553\n",
            "Epoch 10/20\n",
            "338/338 [==============================] - 2s 6ms/step - loss: 0.3584 - accuracy: 0.8510 - val_loss: 0.3422 - val_accuracy: 0.8779\n",
            "Epoch 11/20\n",
            "338/338 [==============================] - 2s 5ms/step - loss: 0.3476 - accuracy: 0.8578 - val_loss: 0.3463 - val_accuracy: 0.8659\n",
            "Epoch 12/20\n",
            "338/338 [==============================] - 1s 4ms/step - loss: 0.3498 - accuracy: 0.8574 - val_loss: 0.3079 - val_accuracy: 0.8861\n",
            "Epoch 13/20\n",
            "338/338 [==============================] - 2s 5ms/step - loss: 0.3419 - accuracy: 0.8590 - val_loss: 0.4187 - val_accuracy: 0.8213\n",
            "Epoch 14/20\n",
            "338/338 [==============================] - 2s 5ms/step - loss: 0.3382 - accuracy: 0.8610 - val_loss: 0.4155 - val_accuracy: 0.8230\n",
            "Epoch 15/20\n",
            "338/338 [==============================] - 1s 4ms/step - loss: 0.3370 - accuracy: 0.8632 - val_loss: 0.4264 - val_accuracy: 0.8047\n",
            "Epoch 16/20\n",
            "338/338 [==============================] - 1s 4ms/step - loss: 0.3328 - accuracy: 0.8653 - val_loss: 0.3225 - val_accuracy: 0.8836\n",
            "Epoch 17/20\n",
            "338/338 [==============================] - 2s 5ms/step - loss: 0.3315 - accuracy: 0.8641 - val_loss: 0.3171 - val_accuracy: 0.8909\n",
            "Epoch 18/20\n",
            "338/338 [==============================] - 2s 6ms/step - loss: 0.3325 - accuracy: 0.8635 - val_loss: 0.2437 - val_accuracy: 0.9367\n",
            "Epoch 19/20\n",
            "338/338 [==============================] - 2s 6ms/step - loss: 0.3236 - accuracy: 0.8664 - val_loss: 0.2087 - val_accuracy: 0.9443\n",
            "Epoch 20/20\n",
            "338/338 [==============================] - 2s 5ms/step - loss: 0.3226 - accuracy: 0.8665 - val_loss: 0.3788 - val_accuracy: 0.8442\n"
          ]
        },
        {
          "output_type": "execute_result",
          "data": {
            "text/plain": [
              "<keras.src.callbacks.History at 0x7e85e01b68f0>"
            ]
          },
          "metadata": {},
          "execution_count": 71
        }
      ]
    },
    {
      "cell_type": "code",
      "source": [
        "y_pred = (model14.predict(X_test) > 0.5).astype(\"int32\")"
      ],
      "metadata": {
        "colab": {
          "base_uri": "https://localhost:8080/"
        },
        "outputId": "209a5f3b-7e16-480d-c03f-5b2fcc943d51",
        "id": "F6F6oRR534we"
      },
      "execution_count": 72,
      "outputs": [
        {
          "output_type": "stream",
          "name": "stdout",
          "text": [
            "139/139 [==============================] - 0s 2ms/step\n"
          ]
        }
      ]
    },
    {
      "cell_type": "code",
      "source": [
        "# Calculate the confusion matrix\n",
        "cm = confusion_matrix(y_test, y_pred)\n",
        "\n",
        "# Plot the confusion matrix\n",
        "disp = ConfusionMatrixDisplay(confusion_matrix=cm)\n",
        "disp.plot(cmap=plt.cm.Blues)\n",
        "plt.show()"
      ],
      "metadata": {
        "colab": {
          "base_uri": "https://localhost:8080/",
          "height": 449
        },
        "outputId": "914e1654-fa15-4581-bb8f-0982f569ee4b",
        "id": "6ghO8PFW34we"
      },
      "execution_count": 73,
      "outputs": [
        {
          "output_type": "display_data",
          "data": {
            "text/plain": [
              "<Figure size 640x480 with 2 Axes>"
            ],
            "image/png": "[encoded data removed]"
          },
          "metadata": {}
        }
      ]
    },
    {
      "cell_type": "code",
      "source": [
        "# Calculate accuracy\n",
        "accuracy = accuracy_score(y_test, y_pred)\n",
        "print(f'Accuracy: {accuracy:.4f}')\n",
        "\n",
        "# Calculate precision\n",
        "precision = precision_score(y_test, y_pred)\n",
        "print(f'Precision: {precision:.4f}')\n",
        "\n",
        "# Calculate recall\n",
        "recall = recall_score(y_test, y_pred)\n",
        "print(f'Recall: {recall:.4f}')\n",
        "\n",
        "# Calculate F1 score\n",
        "f1 = f1_score(y_test, y_pred)\n",
        "print(f'F1 Score: {f1:.4f}')"
      ],
      "metadata": {
        "colab": {
          "base_uri": "https://localhost:8080/"
        },
        "outputId": "f0e6064c-5fb4-42a4-82c6-f4b9fc595c75",
        "id": "vXS3pEVs34we"
      },
      "execution_count": 74,
      "outputs": [
        {
          "output_type": "stream",
          "name": "stdout",
          "text": [
            "Accuracy: 0.8600\n",
            "Precision: 0.7092\n",
            "Recall: 0.6991\n",
            "F1 Score: 0.7041\n"
          ]
        }
      ]
    },
    {
      "cell_type": "markdown",
      "source": [
        "# Model Tuning"
      ],
      "metadata": {
        "id": "COTiOuYq4fXf"
      }
    },
    {
      "cell_type": "markdown",
      "source": [
        "### Implement early stopping and learning rate reduction techniques, while ensuring that 'y_pred' achieves a balanced precision and recall.\n"
      ],
      "metadata": {
        "id": "_BFQDq-K4nAi"
      }
    },
    {
      "cell_type": "code",
      "source": [
        "# Define the CNN model\n",
        "model = Sequential()\n",
        "\n",
        "# Add a Conv1D layer\n",
        "model.add(Conv1D(filters=64, kernel_size=5, activation='relu', input_shape=(X_train_resampled.shape[1], X_train_resampled.shape[2])))\n",
        "\n",
        "# Add a MaxPooling layer\n",
        "model.add(MaxPooling1D(pool_size=2))\n",
        "\n",
        "# Add a Flatten layer to convert 3D data to 1D\n",
        "model.add(Flatten())\n",
        "\n",
        "# Add a Dense layer\n",
        "model.add(Dense(64, activation='relu'))\n",
        "\n",
        "model.add(Dropout(0.5))\n",
        "\n",
        "# Add the output layer with sigmoid activation for binary classification\n",
        "model.add(Dense(1, activation='sigmoid'))\n",
        "\n",
        "# Compile the model\n",
        "model.compile(optimizer='adam', loss='binary_crossentropy', metrics=['accuracy'])\n",
        "\n",
        "model.summary()"
      ],
      "metadata": {
        "colab": {
          "base_uri": "https://localhost:8080/"
        },
        "outputId": "211670f9-d5c0-4b3b-f3ee-523fbc1afb70",
        "id": "zMr4b6SS4w4o"
      },
      "execution_count": 81,
      "outputs": [
        {
          "output_type": "stream",
          "name": "stdout",
          "text": [
            "Model: \"sequential_14\"\n",
            "_________________________________________________________________\n",
            " Layer (type)                Output Shape              Param #   \n",
            "=================================================================\n",
            " conv1d_17 (Conv1D)          (None, 296, 64)           384       \n",
            "                                                                 \n",
            " max_pooling1d_17 (MaxPooli  (None, 148, 64)           0         \n",
            " ng1D)                                                           \n",
            "                                                                 \n",
            " flatten_13 (Flatten)        (None, 9472)              0         \n",
            "                                                                 \n",
            " dense_19 (Dense)            (None, 64)                606272    \n",
            "                                                                 \n",
            " dropout_3 (Dropout)         (None, 64)                0         \n",
            "                                                                 \n",
            " dense_20 (Dense)            (None, 1)                 65        \n",
            "                                                                 \n",
            "=================================================================\n",
            "Total params: 606721 (2.31 MB)\n",
            "Trainable params: 606721 (2.31 MB)\n",
            "Non-trainable params: 0 (0.00 Byte)\n",
            "_________________________________________________________________\n"
          ]
        }
      ]
    },
    {
      "cell_type": "code",
      "source": [
        "# Define early stopping callback\n",
        "early_stopping = EarlyStopping(monitor='val_loss', patience=5, restore_best_weights=True)\n",
        "\n",
        "# Define learning rate reduction callback\n",
        "reduce_lr = ReduceLROnPlateau(monitor='val_loss', factor=0.1, patience=3, min_lr=0.00001)"
      ],
      "metadata": {
        "id": "1NrOQOoB49vn"
      },
      "execution_count": 82,
      "outputs": []
    },
    {
      "cell_type": "code",
      "source": [
        "history = model.fit(X_train_resampled, y_train_resampled,\n",
        "                    validation_split=0.2,\n",
        "                    epochs=20,\n",
        "                    batch_size=64)"
      ],
      "metadata": {
        "colab": {
          "base_uri": "https://localhost:8080/"
        },
        "outputId": "cf48cc45-94ae-4b2f-a55b-d4962c8c17ef",
        "id": "D4qUG80r4w4o"
      },
      "execution_count": 91,
      "outputs": [
        {
          "output_type": "stream",
          "name": "stdout",
          "text": [
            "Epoch 1/20\n",
            "338/338 [==============================] - 1s 4ms/step - loss: 0.3218 - accuracy: 0.8729 - val_loss: 0.3692 - val_accuracy: 0.8659\n",
            "Epoch 2/20\n",
            "338/338 [==============================] - 1s 4ms/step - loss: 0.3258 - accuracy: 0.8718 - val_loss: 0.3241 - val_accuracy: 0.9010\n",
            "Epoch 3/20\n",
            "338/338 [==============================] - 1s 4ms/step - loss: 0.3219 - accuracy: 0.8719 - val_loss: 0.3412 - val_accuracy: 0.8864\n",
            "Epoch 4/20\n",
            "338/338 [==============================] - 1s 4ms/step - loss: 0.3194 - accuracy: 0.8729 - val_loss: 0.3421 - val_accuracy: 0.8875\n",
            "Epoch 5/20\n",
            "338/338 [==============================] - 1s 4ms/step - loss: 0.3198 - accuracy: 0.8729 - val_loss: 0.3002 - val_accuracy: 0.9149\n",
            "Epoch 6/20\n",
            "338/338 [==============================] - 1s 4ms/step - loss: 0.3170 - accuracy: 0.8760 - val_loss: 0.3330 - val_accuracy: 0.8944\n",
            "Epoch 7/20\n",
            "338/338 [==============================] - 2s 6ms/step - loss: 0.3180 - accuracy: 0.8740 - val_loss: 0.3851 - val_accuracy: 0.8496\n",
            "Epoch 8/20\n",
            "338/338 [==============================] - 2s 6ms/step - loss: 0.3187 - accuracy: 0.8734 - val_loss: 0.3881 - val_accuracy: 0.8509\n",
            "Epoch 9/20\n",
            "338/338 [==============================] - 2s 5ms/step - loss: 0.3165 - accuracy: 0.8750 - val_loss: 0.3322 - val_accuracy: 0.8953\n",
            "Epoch 10/20\n",
            "338/338 [==============================] - 2s 5ms/step - loss: 0.3156 - accuracy: 0.8761 - val_loss: 0.3317 - val_accuracy: 0.8955\n",
            "Epoch 11/20\n",
            "338/338 [==============================] - 2s 5ms/step - loss: 0.3190 - accuracy: 0.8742 - val_loss: 0.3586 - val_accuracy: 0.8714\n",
            "Epoch 12/20\n",
            "338/338 [==============================] - 2s 5ms/step - loss: 0.3144 - accuracy: 0.8761 - val_loss: 0.3595 - val_accuracy: 0.8711\n",
            "Epoch 13/20\n",
            "338/338 [==============================] - 1s 4ms/step - loss: 0.3155 - accuracy: 0.8748 - val_loss: 0.3286 - val_accuracy: 0.8983\n",
            "Epoch 14/20\n",
            "338/338 [==============================] - 1s 4ms/step - loss: 0.3135 - accuracy: 0.8755 - val_loss: 0.3216 - val_accuracy: 0.9029\n",
            "Epoch 15/20\n",
            "338/338 [==============================] - 2s 5ms/step - loss: 0.3128 - accuracy: 0.8772 - val_loss: 0.2842 - val_accuracy: 0.9206\n",
            "Epoch 16/20\n",
            "338/338 [==============================] - 2s 7ms/step - loss: 0.3130 - accuracy: 0.8762 - val_loss: 0.2909 - val_accuracy: 0.9168\n",
            "Epoch 17/20\n",
            "338/338 [==============================] - 2s 5ms/step - loss: 0.3090 - accuracy: 0.8771 - val_loss: 0.3339 - val_accuracy: 0.8951\n",
            "Epoch 18/20\n",
            "338/338 [==============================] - 2s 5ms/step - loss: 0.3118 - accuracy: 0.8774 - val_loss: 0.3454 - val_accuracy: 0.8805\n",
            "Epoch 19/20\n",
            "338/338 [==============================] - 2s 5ms/step - loss: 0.3107 - accuracy: 0.8785 - val_loss: 0.3471 - val_accuracy: 0.8777\n",
            "Epoch 20/20\n",
            "338/338 [==============================] - 2s 5ms/step - loss: 0.3090 - accuracy: 0.8792 - val_loss: 0.3244 - val_accuracy: 0.9012\n"
          ]
        }
      ]
    },
    {
      "cell_type": "code",
      "source": [
        "y_pred = (model.predict(X_test) > 0.5).astype(\"int32\")"
      ],
      "metadata": {
        "colab": {
          "base_uri": "https://localhost:8080/"
        },
        "outputId": "19b17c11-493b-4268-aa69-4abcdc627042",
        "id": "-Gn1Nycy4w4o"
      },
      "execution_count": 92,
      "outputs": [
        {
          "output_type": "stream",
          "name": "stdout",
          "text": [
            "139/139 [==============================] - 0s 2ms/step\n"
          ]
        }
      ]
    },
    {
      "cell_type": "code",
      "source": [
        "# Calculate the confusion matrix\n",
        "cm = confusion_matrix(y_test, y_pred)\n",
        "\n",
        "# Plot the confusion matrix\n",
        "disp = ConfusionMatrixDisplay(confusion_matrix=cm)\n",
        "disp.plot(cmap=plt.cm.Blues)\n",
        "plt.show()"
      ],
      "metadata": {
        "colab": {
          "base_uri": "https://localhost:8080/",
          "height": 449
        },
        "outputId": "d8a7cbd8-27a9-4fb8-b60a-e395662d5224",
        "id": "S6om__qy4w4p"
      },
      "execution_count": 93,
      "outputs": [
        {
          "output_type": "display_data",
          "data": {
            "text/plain": [
              "<Figure size 640x480 with 2 Axes>"
            ],
            "image/png": "[encoded data removed]"
          },
          "metadata": {}
        }
      ]
    },
    {
      "cell_type": "code",
      "source": [
        "# Calculate accuracy\n",
        "accuracy = accuracy_score(y_test, y_pred)\n",
        "print(f'Accuracy: {accuracy:.4f}')\n",
        "\n",
        "# Calculate precision\n",
        "precision = precision_score(y_test, y_pred)\n",
        "print(f'Precision: {precision:.4f}')\n",
        "\n",
        "# Calculate recall\n",
        "recall = recall_score(y_test, y_pred)\n",
        "print(f'Recall: {recall:.4f}')\n",
        "\n",
        "# Calculate F1 score\n",
        "f1 = f1_score(y_test, y_pred)\n",
        "print(f'F1 Score: {f1:.4f}')"
      ],
      "metadata": {
        "colab": {
          "base_uri": "https://localhost:8080/"
        },
        "outputId": "68efb1df-ec27-4667-b8be-9512205ffc10",
        "id": "xizUIKQD4w4p"
      },
      "execution_count": 94,
      "outputs": [
        {
          "output_type": "stream",
          "name": "stdout",
          "text": [
            "Accuracy: 0.8537\n",
            "Precision: 0.6726\n",
            "Recall: 0.7521\n",
            "F1 Score: 0.7101\n"
          ]
        }
      ]
    }
  ]
}