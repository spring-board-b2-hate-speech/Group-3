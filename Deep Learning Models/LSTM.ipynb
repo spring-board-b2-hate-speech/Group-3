{
  "cells": [
    {
      "cell_type": "code",
      "execution_count": 1,
      "id": "618b5037",
      "metadata": {
        "id": "618b5037"
      },
      "outputs": [],
      "source": [
        "import pandas as pd\n",
        "import numpy as np\n",
        "from sklearn.model_selection import train_test_split\n",
        "from imblearn.over_sampling import SMOTE\n",
        "from keras.models import Sequential\n",
        "from keras.layers import LSTM, Dense, Dropout, Bidirectional\n",
        "from keras.callbacks import EarlyStopping, ReduceLROnPlateau\n",
        "from sklearn.metrics import precision_recall_curve\n",
        "import matplotlib.pyplot as plt\n",
        "from sklearn.metrics import confusion_matrix, ConfusionMatrixDisplay\n",
        "from sklearn.metrics import accuracy_score, precision_score, recall_score, f1_score"
      ]
    },
    {
      "cell_type": "code",
      "execution_count": 2,
      "id": "3iYTAtA57h26",
      "metadata": {
        "colab": {
          "base_uri": "https://localhost:8080/"
        },
        "id": "3iYTAtA57h26",
        "outputId": "4fbce92e-8c08-48c4-b413-52b83509b880"
      },
      "outputs": [
        {
          "output_type": "stream",
          "name": "stdout",
          "text": [
            "Mounted at /content/drive\n"
          ]
        }
      ],
      "source": [
        "from google.colab import drive\n",
        "drive.mount('/content/drive')"
      ]
    },
    {
      "cell_type": "code",
      "execution_count": 3,
      "id": "db2a02f8",
      "metadata": {
        "colab": {
          "base_uri": "https://localhost:8080/"
        },
        "id": "db2a02f8",
        "outputId": "b586e38f-506a-4cdc-aece-75b3456491be",
        "scrolled": true
      },
      "outputs": [
        {
          "output_type": "stream",
          "name": "stdout",
          "text": [
            "                                             comment  hate_speech  \\\n",
            "0  subsection retarded hungarians ohh boy brace l...            1   \n",
            "1  hiii just got work foundation grounding mainly...            0   \n",
            "2                    wow guess soyboys every country            0   \n",
            "3  owen benjamins soyboy song goes every country ...            0   \n",
            "4  yall hear sumn means live small town right now...            0   \n",
            "\n",
            "                                  lemmatized_comment  \\\n",
            "0  subsection retard hungarians ohh boy brace liv...   \n",
            "1  hiii just get work foundation ground mainly ty...   \n",
            "2                    wow guess soyboys every country   \n",
            "3  owen benjamins soyboy song go every country th...   \n",
            "4  yall hear sumn mean live small town right now ...   \n",
            "\n",
            "                                document_vector_flat  \n",
            "0  0.014043219,-0.01809359,0.017145459,0.08062436...  \n",
            "1  -0.0031560725,-0.033554427,0.019422462,0.07846...  \n",
            "2  0.017362628,0.005587179,0.0297773,0.109146975,...  \n",
            "3  0.0122448,0.00724816,-5.1360163e-05,0.0789897,...  \n",
            "4  0.015154357,0.010861638,0.018671766,0.07203491...  \n"
          ]
        }
      ],
      "source": [
        "file_path = '/content/drive/My Drive/Reddit_Encoded(No Stop Words).csv'\n",
        "df = pd.read_csv(file_path)\n",
        "print(df.head())"
      ]
    },
    {
      "cell_type": "code",
      "execution_count": 4,
      "id": "50c2ecff",
      "metadata": {
        "colab": {
          "base_uri": "https://localhost:8080/"
        },
        "id": "50c2ecff",
        "outputId": "f57c1e98-8f9e-4d22-94f2-18539931a470"
      },
      "outputs": [
        {
          "output_type": "stream",
          "name": "stdout",
          "text": [
            "0    [0.014043219, -0.01809359, 0.017145459, 0.0806...\n",
            "1    [-0.0031560725, -0.033554427, 0.019422462, 0.0...\n",
            "2    [0.017362628, 0.005587179, 0.0297773, 0.109146...\n",
            "3    [0.0122448, 0.00724816, -5.1360163e-05, 0.0789...\n",
            "4    [0.015154357, 0.010861638, 0.018671766, 0.0720...\n",
            "Name: document_vector, dtype: object\n"
          ]
        }
      ],
      "source": [
        "# Convert the document vectors from their string representation back into numerical form\n",
        "df['document_vector'] = df['document_vector_flat'].apply(lambda x: np.fromstring(x, sep=','))\n",
        "print(df['document_vector'].head())"
      ]
    },
    {
      "cell_type": "code",
      "execution_count": 5,
      "id": "ad80ea94",
      "metadata": {
        "colab": {
          "base_uri": "https://localhost:8080/"
        },
        "id": "ad80ea94",
        "outputId": "4649d89e-6a3a-4c00-cf9e-7c4ac0d2f879"
      },
      "outputs": [
        {
          "output_type": "stream",
          "name": "stdout",
          "text": [
            "(22178, 300)\n",
            "(22178,)\n"
          ]
        }
      ],
      "source": [
        "# Extract features (document vectors) and labels (binary hate speech)\n",
        "X = np.array(df['document_vector'].tolist())\n",
        "y = df['hate_speech']\n",
        "\n",
        "# Check the shape of the dataset\n",
        "print(X.shape)  # Expected shape: (num_samples, embedding_dim)\n",
        "print(y.shape)  # Expected shape: (num_samples,)"
      ]
    },
    {
      "cell_type": "markdown",
      "id": "6e959d76",
      "metadata": {
        "id": "6e959d76"
      },
      "source": [
        "## Split the data into train and test set"
      ]
    },
    {
      "cell_type": "code",
      "execution_count": 6,
      "id": "618b73eb",
      "metadata": {
        "id": "618b73eb"
      },
      "outputs": [],
      "source": [
        "X_train, X_test, y_train, y_test = train_test_split(X, y, test_size=0.2, random_state=42)"
      ]
    },
    {
      "cell_type": "markdown",
      "id": "bdaeb651",
      "metadata": {
        "id": "bdaeb651"
      },
      "source": [
        "## Balance the data"
      ]
    },
    {
      "cell_type": "code",
      "execution_count": 7,
      "id": "dd2e15a8",
      "metadata": {
        "id": "dd2e15a8"
      },
      "outputs": [],
      "source": [
        "from imblearn.over_sampling import SMOTE\n",
        "\n",
        "smote = SMOTE(random_state=42)\n",
        "X_train_resampled, y_train_resampled = smote.fit_resample(X_train, y_train)"
      ]
    },
    {
      "cell_type": "markdown",
      "id": "e1030d08",
      "metadata": {
        "id": "e1030d08"
      },
      "source": [
        "## Shape data to match LSTM Input Shape"
      ]
    },
    {
      "cell_type": "code",
      "execution_count": 8,
      "id": "48312641",
      "metadata": {
        "colab": {
          "base_uri": "https://localhost:8080/"
        },
        "id": "48312641",
        "outputId": "483433e0-e8a1-4abc-c29d-1215d6921d23"
      },
      "outputs": [
        {
          "output_type": "stream",
          "name": "stdout",
          "text": [
            "(27022, 300)\n",
            "(27022,)\n"
          ]
        }
      ],
      "source": [
        "X_train_resampled = np.array(X_train_resampled)\n",
        "\n",
        "# Check the shape of the resampled dataset\n",
        "print(X_train_resampled.shape)  # Expected shape: (num_samples, embedding_dim)\n",
        "print(y_train_resampled.shape)  # Expected shape: (num_samples,)"
      ]
    },
    {
      "cell_type": "code",
      "execution_count": 9,
      "id": "CRnby20cf4EQ",
      "metadata": {
        "colab": {
          "base_uri": "https://localhost:8080/"
        },
        "id": "CRnby20cf4EQ",
        "outputId": "f3df455c-898c-4235-a7b3-aa7885144157"
      },
      "outputs": [
        {
          "output_type": "stream",
          "name": "stdout",
          "text": [
            "(27022, 1, 300)\n"
          ]
        }
      ],
      "source": [
        "# Check dimensions\n",
        "embedding_dim = X_train_resampled.shape[1]  # Number of features per document vector\n",
        "\n",
        "# Reshape train data to match LSTM input (num_samples, sequence_length, embedding_dim)\n",
        "# Here, sequence_length should be 1 since each comment is a single vector\n",
        "X_train_resampled = np.expand_dims(X_train_resampled, axis=1)\n",
        "\n",
        "print(X_train_resampled.shape)  # Should be (num_samples, 1, embedding_dim)"
      ]
    },
    {
      "cell_type": "code",
      "execution_count": 10,
      "id": "1bb36734",
      "metadata": {
        "colab": {
          "base_uri": "https://localhost:8080/"
        },
        "id": "1bb36734",
        "outputId": "8b31bfef-b8d4-47ea-ac18-f007c1e213ac"
      },
      "outputs": [
        {
          "output_type": "stream",
          "name": "stdout",
          "text": [
            "(4436, 1, 300)\n"
          ]
        }
      ],
      "source": [
        "# Reshape test data to match LSTM input (num_samples, sequence_length, embedding_dim)\n",
        "# Here, sequence_length should be 1 since each comment is a single vector\n",
        "X_test = np.expand_dims(X_test, axis=1)  # New shape: (num_samples, 1, embedding_dim)\n",
        "\n",
        "print(X_test.shape)  # Should be (num_samples, 1, embedding_dim)"
      ]
    },
    {
      "cell_type": "markdown",
      "id": "6f862008",
      "metadata": {
        "id": "6f862008"
      },
      "source": [
        "## Single LSTM Layer"
      ]
    },
    {
      "cell_type": "code",
      "execution_count": 11,
      "id": "86c3bb49",
      "metadata": {
        "colab": {
          "base_uri": "https://localhost:8080/"
        },
        "id": "86c3bb49",
        "outputId": "b1284eff-6dda-4f07-8e3b-624e3d48c37f"
      },
      "outputs": [
        {
          "output_type": "stream",
          "name": "stdout",
          "text": [
            "Model: \"sequential\"\n",
            "_________________________________________________________________\n",
            " Layer (type)                Output Shape              Param #   \n",
            "=================================================================\n",
            " lstm (LSTM)                 (None, 1, 128)            219648    \n",
            "                                                                 \n",
            " dropout (Dropout)           (None, 1, 128)            0         \n",
            "                                                                 \n",
            " lstm_1 (LSTM)               (None, 64)                49408     \n",
            "                                                                 \n",
            " dropout_1 (Dropout)         (None, 64)                0         \n",
            "                                                                 \n",
            " dense (Dense)               (None, 1)                 65        \n",
            "                                                                 \n",
            "=================================================================\n",
            "Total params: 269121 (1.03 MB)\n",
            "Trainable params: 269121 (1.03 MB)\n",
            "Non-trainable params: 0 (0.00 Byte)\n",
            "_________________________________________________________________\n"
          ]
        }
      ],
      "source": [
        "# Define the LSTM model\n",
        "model1 = Sequential()\n",
        "\n",
        "#Define LSTM layer\n",
        "model1.add(LSTM(128, input_shape=(1, embedding_dim), return_sequences=True))\n",
        "\n",
        "#Add Dropout Layer to prevent overfitting\n",
        "model1.add(Dropout(0.2))\n",
        "\n",
        "#Add another LSTM Layer\n",
        "model1.add(LSTM(64))\n",
        "\n",
        "#Add another Dropout Layer\n",
        "model1.add(Dropout(0.2))\n",
        "\n",
        "# Add the output layer with sigmoid activation for binary classification\n",
        "model1.add(Dense(1, activation='sigmoid'))\n",
        "\n",
        "# Compile the model\n",
        "model1.compile(loss='binary_crossentropy', optimizer='adam', metrics=['accuracy'])\n",
        "\n",
        "model1.summary()"
      ]
    },
    {
      "cell_type": "code",
      "execution_count": 12,
      "id": "4bb4512e",
      "metadata": {
        "colab": {
          "base_uri": "https://localhost:8080/"
        },
        "id": "4bb4512e",
        "outputId": "647b416d-abcb-45bc-c700-f368b9259768"
      },
      "outputs": [
        {
          "output_type": "stream",
          "name": "stdout",
          "text": [
            "Epoch 1/50\n",
            "338/338 [==============================] - 10s 8ms/step - loss: 0.5406 - accuracy: 0.7210 - val_loss: 0.6414 - val_accuracy: 0.5932\n",
            "Epoch 2/50\n",
            "338/338 [==============================] - 2s 6ms/step - loss: 0.4661 - accuracy: 0.7759 - val_loss: 0.6742 - val_accuracy: 0.5907\n",
            "Epoch 3/50\n",
            "338/338 [==============================] - 2s 6ms/step - loss: 0.4479 - accuracy: 0.7852 - val_loss: 0.6643 - val_accuracy: 0.6218\n",
            "Epoch 4/50\n",
            "338/338 [==============================] - 3s 8ms/step - loss: 0.4375 - accuracy: 0.7895 - val_loss: 0.5949 - val_accuracy: 0.6638\n",
            "Epoch 5/50\n",
            "338/338 [==============================] - 3s 8ms/step - loss: 0.4263 - accuracy: 0.7982 - val_loss: 0.6801 - val_accuracy: 0.6070\n",
            "Epoch 6/50\n",
            "338/338 [==============================] - 3s 8ms/step - loss: 0.4164 - accuracy: 0.8021 - val_loss: 0.5322 - val_accuracy: 0.7101\n",
            "Epoch 7/50\n",
            "338/338 [==============================] - 2s 6ms/step - loss: 0.4080 - accuracy: 0.8095 - val_loss: 0.5455 - val_accuracy: 0.6992\n",
            "Epoch 8/50\n",
            "338/338 [==============================] - 2s 6ms/step - loss: 0.4012 - accuracy: 0.8132 - val_loss: 0.6290 - val_accuracy: 0.6435\n",
            "Epoch 9/50\n",
            "338/338 [==============================] - 2s 6ms/step - loss: 0.3912 - accuracy: 0.8213 - val_loss: 0.5733 - val_accuracy: 0.6895\n",
            "Epoch 10/50\n",
            "338/338 [==============================] - 3s 9ms/step - loss: 0.3852 - accuracy: 0.8219 - val_loss: 0.4993 - val_accuracy: 0.7343\n",
            "Epoch 11/50\n",
            "338/338 [==============================] - 2s 7ms/step - loss: 0.3798 - accuracy: 0.8257 - val_loss: 0.4025 - val_accuracy: 0.8233\n",
            "Epoch 12/50\n",
            "338/338 [==============================] - 2s 6ms/step - loss: 0.3727 - accuracy: 0.8307 - val_loss: 0.5982 - val_accuracy: 0.6735\n",
            "Epoch 13/50\n",
            "338/338 [==============================] - 2s 6ms/step - loss: 0.3658 - accuracy: 0.8359 - val_loss: 0.5724 - val_accuracy: 0.6860\n",
            "Epoch 14/50\n",
            "338/338 [==============================] - 2s 6ms/step - loss: 0.3637 - accuracy: 0.8375 - val_loss: 0.3771 - val_accuracy: 0.8416\n",
            "Epoch 15/50\n",
            "338/338 [==============================] - 3s 7ms/step - loss: 0.3574 - accuracy: 0.8413 - val_loss: 0.3529 - val_accuracy: 0.8622\n",
            "Epoch 16/50\n",
            "338/338 [==============================] - 3s 10ms/step - loss: 0.3487 - accuracy: 0.8469 - val_loss: 0.5491 - val_accuracy: 0.7055\n",
            "Epoch 17/50\n",
            "338/338 [==============================] - 2s 6ms/step - loss: 0.3483 - accuracy: 0.8462 - val_loss: 0.4450 - val_accuracy: 0.7824\n",
            "Epoch 18/50\n",
            "338/338 [==============================] - 2s 6ms/step - loss: 0.3440 - accuracy: 0.8493 - val_loss: 0.3823 - val_accuracy: 0.8427\n",
            "Epoch 19/50\n",
            "338/338 [==============================] - 2s 6ms/step - loss: 0.3379 - accuracy: 0.8520 - val_loss: 0.4265 - val_accuracy: 0.7900\n",
            "Epoch 20/50\n",
            "338/338 [==============================] - 2s 7ms/step - loss: 0.3346 - accuracy: 0.8544 - val_loss: 0.2995 - val_accuracy: 0.8858\n",
            "Epoch 21/50\n",
            "338/338 [==============================] - 3s 9ms/step - loss: 0.3293 - accuracy: 0.8558 - val_loss: 0.3507 - val_accuracy: 0.8522\n",
            "Epoch 22/50\n",
            "338/338 [==============================] - 3s 8ms/step - loss: 0.3249 - accuracy: 0.8572 - val_loss: 0.4553 - val_accuracy: 0.7758\n",
            "Epoch 23/50\n",
            "338/338 [==============================] - 2s 6ms/step - loss: 0.3213 - accuracy: 0.8610 - val_loss: 0.3182 - val_accuracy: 0.8712\n",
            "Epoch 24/50\n",
            "338/338 [==============================] - 2s 6ms/step - loss: 0.3196 - accuracy: 0.8638 - val_loss: 0.3631 - val_accuracy: 0.8361\n",
            "Epoch 25/50\n",
            "338/338 [==============================] - 2s 6ms/step - loss: 0.3144 - accuracy: 0.8641 - val_loss: 0.2993 - val_accuracy: 0.8833\n",
            "Epoch 26/50\n",
            "338/338 [==============================] - 2s 6ms/step - loss: 0.3098 - accuracy: 0.8663 - val_loss: 0.4887 - val_accuracy: 0.7438\n",
            "Epoch 27/50\n",
            "338/338 [==============================] - 3s 8ms/step - loss: 0.3061 - accuracy: 0.8691 - val_loss: 0.3964 - val_accuracy: 0.8170\n",
            "Epoch 28/50\n",
            "338/338 [==============================] - 3s 8ms/step - loss: 0.3019 - accuracy: 0.8710 - val_loss: 0.4265 - val_accuracy: 0.7935\n",
            "Epoch 29/50\n",
            "338/338 [==============================] - 2s 6ms/step - loss: 0.2987 - accuracy: 0.8710 - val_loss: 0.3557 - val_accuracy: 0.8518\n",
            "Epoch 30/50\n",
            "338/338 [==============================] - 2s 6ms/step - loss: 0.2947 - accuracy: 0.8744 - val_loss: 0.3423 - val_accuracy: 0.8581\n",
            "Epoch 31/50\n",
            "338/338 [==============================] - 2s 6ms/step - loss: 0.2929 - accuracy: 0.8725 - val_loss: 0.4309 - val_accuracy: 0.7937\n",
            "Epoch 32/50\n",
            "338/338 [==============================] - 2s 6ms/step - loss: 0.2875 - accuracy: 0.8776 - val_loss: 0.2622 - val_accuracy: 0.9045\n",
            "Epoch 33/50\n",
            "338/338 [==============================] - 3s 8ms/step - loss: 0.2836 - accuracy: 0.8783 - val_loss: 0.4440 - val_accuracy: 0.7833\n",
            "Epoch 34/50\n",
            "338/338 [==============================] - 3s 8ms/step - loss: 0.2817 - accuracy: 0.8807 - val_loss: 0.4045 - val_accuracy: 0.8070\n",
            "Epoch 35/50\n",
            "338/338 [==============================] - 2s 6ms/step - loss: 0.2794 - accuracy: 0.8795 - val_loss: 0.3819 - val_accuracy: 0.8229\n",
            "Epoch 36/50\n",
            "338/338 [==============================] - 2s 6ms/step - loss: 0.2772 - accuracy: 0.8824 - val_loss: 0.2656 - val_accuracy: 0.8975\n",
            "Epoch 37/50\n",
            "338/338 [==============================] - 2s 7ms/step - loss: 0.2720 - accuracy: 0.8843 - val_loss: 0.2658 - val_accuracy: 0.8964\n",
            "Epoch 38/50\n",
            "338/338 [==============================] - 2s 6ms/step - loss: 0.2683 - accuracy: 0.8867 - val_loss: 0.2604 - val_accuracy: 0.9095\n",
            "Epoch 39/50\n",
            "338/338 [==============================] - 2s 7ms/step - loss: 0.2650 - accuracy: 0.8880 - val_loss: 0.2351 - val_accuracy: 0.9280\n",
            "Epoch 40/50\n",
            "338/338 [==============================] - 3s 8ms/step - loss: 0.2637 - accuracy: 0.8893 - val_loss: 0.3105 - val_accuracy: 0.8701\n",
            "Epoch 41/50\n",
            "338/338 [==============================] - 2s 6ms/step - loss: 0.2634 - accuracy: 0.8860 - val_loss: 0.2315 - val_accuracy: 0.9240\n",
            "Epoch 42/50\n",
            "338/338 [==============================] - 2s 6ms/step - loss: 0.2568 - accuracy: 0.8920 - val_loss: 0.3079 - val_accuracy: 0.8668\n",
            "Epoch 43/50\n",
            "338/338 [==============================] - 2s 6ms/step - loss: 0.2539 - accuracy: 0.8918 - val_loss: 0.2980 - val_accuracy: 0.8764\n",
            "Epoch 44/50\n",
            "338/338 [==============================] - 2s 6ms/step - loss: 0.2496 - accuracy: 0.8942 - val_loss: 0.1833 - val_accuracy: 0.9458\n",
            "Epoch 45/50\n",
            "338/338 [==============================] - 2s 7ms/step - loss: 0.2507 - accuracy: 0.8917 - val_loss: 0.2694 - val_accuracy: 0.8949\n",
            "Epoch 46/50\n",
            "338/338 [==============================] - 3s 8ms/step - loss: 0.2433 - accuracy: 0.8970 - val_loss: 0.4005 - val_accuracy: 0.8100\n",
            "Epoch 47/50\n",
            "338/338 [==============================] - 2s 6ms/step - loss: 0.2470 - accuracy: 0.8938 - val_loss: 0.2583 - val_accuracy: 0.8953\n",
            "Epoch 48/50\n",
            "338/338 [==============================] - 2s 6ms/step - loss: 0.2380 - accuracy: 0.8995 - val_loss: 0.3770 - val_accuracy: 0.8298\n",
            "Epoch 49/50\n",
            "338/338 [==============================] - 2s 6ms/step - loss: 0.2385 - accuracy: 0.9000 - val_loss: 0.3148 - val_accuracy: 0.8620\n",
            "Epoch 50/50\n",
            "338/338 [==============================] - 2s 6ms/step - loss: 0.2327 - accuracy: 0.8998 - val_loss: 0.3520 - val_accuracy: 0.8390\n"
          ]
        },
        {
          "output_type": "execute_result",
          "data": {
            "text/plain": [
              "<keras.src.callbacks.History at 0x7c7ff04f6620>"
            ]
          },
          "metadata": {},
          "execution_count": 12
        }
      ],
      "source": [
        "# Fit the model using the resampled data\n",
        "model1.fit(X_train_resampled, y_train_resampled,\n",
        "          epochs=50,\n",
        "          batch_size=64,\n",
        "          validation_split=0.2)"
      ]
    },
    {
      "cell_type": "code",
      "execution_count": 13,
      "id": "6e662f23",
      "metadata": {
        "colab": {
          "base_uri": "https://localhost:8080/"
        },
        "id": "6e662f23",
        "outputId": "35c7f058-f107-4cf0-d142-65ea859f57d0",
        "scrolled": false
      },
      "outputs": [
        {
          "output_type": "stream",
          "name": "stdout",
          "text": [
            "139/139 [==============================] - 1s 2ms/step\n"
          ]
        }
      ],
      "source": [
        "# Predict on the test set\n",
        "y_pred = (model1.predict(X_test) > 0.5).astype(\"int32\")"
      ]
    },
    {
      "cell_type": "code",
      "execution_count": 14,
      "id": "c88b336f",
      "metadata": {
        "colab": {
          "base_uri": "https://localhost:8080/",
          "height": 449
        },
        "id": "c88b336f",
        "outputId": "11b9bd2b-0ed0-49c5-9eb7-8fcc641de76f"
      },
      "outputs": [
        {
          "output_type": "display_data",
          "data": {
            "text/plain": [
              "<Figure size 640x480 with 2 Axes>"
            ],
            "image/png": "[encoded data removed]"
          },
          "metadata": {}
        }
      ],
      "source": [
        "# Calculate the confusion matrix\n",
        "cm = confusion_matrix(y_test, y_pred)\n",
        "\n",
        "# Plot the confusion matrix\n",
        "disp = ConfusionMatrixDisplay(confusion_matrix=cm)\n",
        "disp.plot(cmap=plt.cm.Blues)\n",
        "plt.show()"
      ]
    },
    {
      "cell_type": "code",
      "execution_count": 15,
      "id": "ead42d3b",
      "metadata": {
        "colab": {
          "base_uri": "https://localhost:8080/"
        },
        "id": "ead42d3b",
        "outputId": "06afe0a9-130d-46cc-e404-ebd94adffe7a",
        "scrolled": true
      },
      "outputs": [
        {
          "output_type": "stream",
          "name": "stdout",
          "text": [
            "Accuracy: 0.8647\n",
            "Precision: 0.7353\n",
            "Recall: 0.6739\n",
            "F1 Score: 0.7033\n"
          ]
        }
      ],
      "source": [
        "# Calculate accuracy\n",
        "accuracy = accuracy_score(y_test, y_pred)\n",
        "print(f'Accuracy: {accuracy:.4f}')\n",
        "\n",
        "# Calculate precision\n",
        "precision = precision_score(y_test, y_pred)\n",
        "print(f'Precision: {precision:.4f}')\n",
        "\n",
        "# Calculate recall\n",
        "recall = recall_score(y_test, y_pred)\n",
        "print(f'Recall: {recall:.4f}')\n",
        "\n",
        "# Calculate F1 score\n",
        "f1 = f1_score(y_test, y_pred)\n",
        "print(f'F1 Score: {f1:.4f}')"
      ]
    },
    {
      "cell_type": "markdown",
      "id": "2cc67245",
      "metadata": {
        "id": "2cc67245"
      },
      "source": [
        "## Two Bidirectinal LSTM Layers"
      ]
    },
    {
      "cell_type": "code",
      "execution_count": 28,
      "id": "V584BmGvkxbu",
      "metadata": {
        "colab": {
          "base_uri": "https://localhost:8080/"
        },
        "id": "V584BmGvkxbu",
        "outputId": "d8298c03-849f-41f9-d6e5-2e560eeff5ff"
      },
      "outputs": [
        {
          "output_type": "stream",
          "name": "stdout",
          "text": [
            "Model: \"sequential_2\"\n",
            "_________________________________________________________________\n",
            " Layer (type)                Output Shape              Param #   \n",
            "=================================================================\n",
            " bidirectional_1 (Bidirecti  (None, 1, 256)            439296    \n",
            " onal)                                                           \n",
            "                                                                 \n",
            " dropout_3 (Dropout)         (None, 1, 256)            0         \n",
            "                                                                 \n",
            " bidirectional_2 (Bidirecti  (None, 128)               164352    \n",
            " onal)                                                           \n",
            "                                                                 \n",
            " dropout_4 (Dropout)         (None, 128)               0         \n",
            "                                                                 \n",
            " dense_2 (Dense)             (None, 1)                 129       \n",
            "                                                                 \n",
            "=================================================================\n",
            "Total params: 603777 (2.30 MB)\n",
            "Trainable params: 603777 (2.30 MB)\n",
            "Non-trainable params: 0 (0.00 Byte)\n",
            "_________________________________________________________________\n"
          ]
        }
      ],
      "source": [
        "# Define the model\n",
        "model3 = Sequential()\n",
        "\n",
        "# Add Bidirectional LSTM layer\n",
        "model3.add(Bidirectional(LSTM(128, return_sequences=True), input_shape=(1, embedding_dim)))\n",
        "\n",
        "# Add Dropout Layer\n",
        "model3.add(Dropout(0.2))\n",
        "\n",
        "# Add another Bidirectional LSTM Layer\n",
        "model3.add(Bidirectional(LSTM(64)))\n",
        "\n",
        "# Add another Dropout Layer\n",
        "model3.add(Dropout(0.2))\n",
        "\n",
        "# Add the output layer with sigmoid activation for binary classification\n",
        "model3.add(Dense(1, activation='sigmoid'))\n",
        "\n",
        "# Compile the model\n",
        "model3.compile(loss='binary_crossentropy', optimizer='adam', metrics=['accuracy'])\n",
        "\n",
        "# Print the model summary\n",
        "model3.summary()"
      ]
    },
    {
      "cell_type": "code",
      "execution_count": 29,
      "id": "qXNoPCXMkxb1",
      "metadata": {
        "colab": {
          "base_uri": "https://localhost:8080/"
        },
        "id": "qXNoPCXMkxb1",
        "outputId": "6d05c250-b953-4ae9-c41b-4fb1001f97f2"
      },
      "outputs": [
        {
          "output_type": "stream",
          "name": "stdout",
          "text": [
            "Epoch 1/50\n",
            "338/338 [==============================] - 11s 14ms/step - loss: 0.5262 - accuracy: 0.7322 - val_loss: 0.7084 - val_accuracy: 0.5613\n",
            "Epoch 2/50\n",
            "338/338 [==============================] - 4s 11ms/step - loss: 0.4593 - accuracy: 0.7780 - val_loss: 0.5362 - val_accuracy: 0.7018\n",
            "Epoch 3/50\n",
            "338/338 [==============================] - 3s 8ms/step - loss: 0.4396 - accuracy: 0.7889 - val_loss: 0.5792 - val_accuracy: 0.6779\n",
            "Epoch 4/50\n",
            "338/338 [==============================] - 3s 8ms/step - loss: 0.4284 - accuracy: 0.7981 - val_loss: 0.5294 - val_accuracy: 0.7132\n",
            "Epoch 5/50\n",
            "338/338 [==============================] - 3s 10ms/step - loss: 0.4160 - accuracy: 0.8048 - val_loss: 0.4407 - val_accuracy: 0.7861\n",
            "Epoch 6/50\n",
            "338/338 [==============================] - 4s 11ms/step - loss: 0.4067 - accuracy: 0.8097 - val_loss: 0.5775 - val_accuracy: 0.6912\n",
            "Epoch 7/50\n",
            "338/338 [==============================] - 3s 9ms/step - loss: 0.3953 - accuracy: 0.8191 - val_loss: 0.4747 - val_accuracy: 0.7624\n",
            "Epoch 8/50\n",
            "338/338 [==============================] - 3s 8ms/step - loss: 0.3889 - accuracy: 0.8254 - val_loss: 0.4945 - val_accuracy: 0.7399\n",
            "Epoch 9/50\n",
            "338/338 [==============================] - 3s 8ms/step - loss: 0.3796 - accuracy: 0.8304 - val_loss: 0.4514 - val_accuracy: 0.7809\n",
            "Epoch 10/50\n",
            "338/338 [==============================] - 4s 12ms/step - loss: 0.3737 - accuracy: 0.8329 - val_loss: 0.5805 - val_accuracy: 0.6673\n",
            "Epoch 11/50\n",
            "338/338 [==============================] - 3s 8ms/step - loss: 0.3688 - accuracy: 0.8341 - val_loss: 0.5295 - val_accuracy: 0.7162\n",
            "Epoch 12/50\n",
            "338/338 [==============================] - 3s 8ms/step - loss: 0.3626 - accuracy: 0.8390 - val_loss: 0.4282 - val_accuracy: 0.7939\n",
            "Epoch 13/50\n",
            "338/338 [==============================] - 3s 8ms/step - loss: 0.3544 - accuracy: 0.8458 - val_loss: 0.4852 - val_accuracy: 0.7443\n",
            "Epoch 14/50\n",
            "338/338 [==============================] - 4s 11ms/step - loss: 0.3506 - accuracy: 0.8455 - val_loss: 0.4618 - val_accuracy: 0.7800\n",
            "Epoch 15/50\n",
            "338/338 [==============================] - 3s 9ms/step - loss: 0.3428 - accuracy: 0.8508 - val_loss: 0.4280 - val_accuracy: 0.7963\n",
            "Epoch 16/50\n",
            "338/338 [==============================] - 3s 8ms/step - loss: 0.3398 - accuracy: 0.8527 - val_loss: 0.4546 - val_accuracy: 0.7743\n",
            "Epoch 17/50\n",
            "338/338 [==============================] - 3s 8ms/step - loss: 0.3361 - accuracy: 0.8532 - val_loss: 0.3697 - val_accuracy: 0.8455\n",
            "Epoch 18/50\n",
            "338/338 [==============================] - 3s 10ms/step - loss: 0.3343 - accuracy: 0.8553 - val_loss: 0.3921 - val_accuracy: 0.8379\n",
            "Epoch 19/50\n",
            "338/338 [==============================] - 4s 13ms/step - loss: 0.3265 - accuracy: 0.8584 - val_loss: 0.3742 - val_accuracy: 0.8333\n",
            "Epoch 20/50\n",
            "338/338 [==============================] - 3s 8ms/step - loss: 0.3196 - accuracy: 0.8609 - val_loss: 0.3744 - val_accuracy: 0.8379\n",
            "Epoch 21/50\n",
            "338/338 [==============================] - 3s 8ms/step - loss: 0.3178 - accuracy: 0.8639 - val_loss: 0.3704 - val_accuracy: 0.8292\n",
            "Epoch 22/50\n",
            "338/338 [==============================] - 3s 8ms/step - loss: 0.3119 - accuracy: 0.8641 - val_loss: 0.3096 - val_accuracy: 0.8796\n",
            "Epoch 23/50\n",
            "338/338 [==============================] - 4s 12ms/step - loss: 0.3122 - accuracy: 0.8639 - val_loss: 0.4881 - val_accuracy: 0.7460\n",
            "Epoch 24/50\n",
            "338/338 [==============================] - 3s 8ms/step - loss: 0.3043 - accuracy: 0.8703 - val_loss: 0.3733 - val_accuracy: 0.8353\n",
            "Epoch 25/50\n",
            "338/338 [==============================] - 3s 8ms/step - loss: 0.3009 - accuracy: 0.8698 - val_loss: 0.3857 - val_accuracy: 0.8307\n",
            "Epoch 26/50\n",
            "338/338 [==============================] - 3s 9ms/step - loss: 0.2994 - accuracy: 0.8707 - val_loss: 0.3825 - val_accuracy: 0.8242\n",
            "Epoch 27/50\n",
            "338/338 [==============================] - 4s 11ms/step - loss: 0.2934 - accuracy: 0.8745 - val_loss: 0.4438 - val_accuracy: 0.7784\n",
            "Epoch 28/50\n",
            "338/338 [==============================] - 3s 10ms/step - loss: 0.2894 - accuracy: 0.8766 - val_loss: 0.4110 - val_accuracy: 0.8041\n",
            "Epoch 29/50\n",
            "338/338 [==============================] - 3s 8ms/step - loss: 0.2863 - accuracy: 0.8776 - val_loss: 0.2969 - val_accuracy: 0.8923\n",
            "Epoch 30/50\n",
            "338/338 [==============================] - 3s 8ms/step - loss: 0.2843 - accuracy: 0.8776 - val_loss: 0.2806 - val_accuracy: 0.8868\n",
            "Epoch 31/50\n",
            "338/338 [==============================] - 3s 9ms/step - loss: 0.2787 - accuracy: 0.8787 - val_loss: 0.3322 - val_accuracy: 0.8622\n",
            "Epoch 32/50\n",
            "338/338 [==============================] - 4s 12ms/step - loss: 0.2782 - accuracy: 0.8808 - val_loss: 0.2062 - val_accuracy: 0.9293\n",
            "Epoch 33/50\n",
            "338/338 [==============================] - 3s 8ms/step - loss: 0.2757 - accuracy: 0.8826 - val_loss: 0.3326 - val_accuracy: 0.8559\n",
            "Epoch 34/50\n",
            "338/338 [==============================] - 3s 8ms/step - loss: 0.2688 - accuracy: 0.8855 - val_loss: 0.3102 - val_accuracy: 0.8809\n",
            "Epoch 35/50\n",
            "338/338 [==============================] - 3s 8ms/step - loss: 0.2675 - accuracy: 0.8849 - val_loss: 0.1622 - val_accuracy: 0.9543\n",
            "Epoch 36/50\n",
            "338/338 [==============================] - 4s 12ms/step - loss: 0.2628 - accuracy: 0.8888 - val_loss: 0.2343 - val_accuracy: 0.9156\n",
            "Epoch 37/50\n",
            "338/338 [==============================] - 3s 9ms/step - loss: 0.2616 - accuracy: 0.8893 - val_loss: 0.3564 - val_accuracy: 0.8459\n",
            "Epoch 38/50\n",
            "338/338 [==============================] - 3s 8ms/step - loss: 0.2588 - accuracy: 0.8896 - val_loss: 0.4022 - val_accuracy: 0.8093\n",
            "Epoch 39/50\n",
            "338/338 [==============================] - 3s 8ms/step - loss: 0.2539 - accuracy: 0.8927 - val_loss: 0.2967 - val_accuracy: 0.8879\n",
            "Epoch 40/50\n",
            "338/338 [==============================] - 3s 9ms/step - loss: 0.2498 - accuracy: 0.8936 - val_loss: 0.1926 - val_accuracy: 0.9354\n",
            "Epoch 41/50\n",
            "338/338 [==============================] - 4s 12ms/step - loss: 0.2483 - accuracy: 0.8950 - val_loss: 0.2665 - val_accuracy: 0.9010\n",
            "Epoch 42/50\n",
            "338/338 [==============================] - 3s 8ms/step - loss: 0.2459 - accuracy: 0.8948 - val_loss: 0.2236 - val_accuracy: 0.9284\n",
            "Epoch 43/50\n",
            "338/338 [==============================] - 3s 8ms/step - loss: 0.2407 - accuracy: 0.8977 - val_loss: 0.1986 - val_accuracy: 0.9319\n",
            "Epoch 44/50\n",
            "338/338 [==============================] - 3s 8ms/step - loss: 0.2383 - accuracy: 0.8994 - val_loss: 0.3250 - val_accuracy: 0.8627\n",
            "Epoch 45/50\n",
            "338/338 [==============================] - 4s 11ms/step - loss: 0.2375 - accuracy: 0.8991 - val_loss: 0.3542 - val_accuracy: 0.8326\n",
            "Epoch 46/50\n",
            "338/338 [==============================] - 3s 10ms/step - loss: 0.2328 - accuracy: 0.9023 - val_loss: 0.4212 - val_accuracy: 0.7909\n",
            "Epoch 47/50\n",
            "338/338 [==============================] - 3s 8ms/step - loss: 0.2281 - accuracy: 0.9012 - val_loss: 0.1671 - val_accuracy: 0.9504\n",
            "Epoch 48/50\n",
            "338/338 [==============================] - 3s 8ms/step - loss: 0.2262 - accuracy: 0.9047 - val_loss: 0.2989 - val_accuracy: 0.8760\n",
            "Epoch 49/50\n",
            "338/338 [==============================] - 3s 8ms/step - loss: 0.2249 - accuracy: 0.9047 - val_loss: 0.1873 - val_accuracy: 0.9465\n",
            "Epoch 50/50\n",
            "338/338 [==============================] - 4s 13ms/step - loss: 0.2201 - accuracy: 0.9067 - val_loss: 0.2768 - val_accuracy: 0.8812\n"
          ]
        },
        {
          "output_type": "execute_result",
          "data": {
            "text/plain": [
              "<keras.src.callbacks.History at 0x7c7f65f19420>"
            ]
          },
          "metadata": {},
          "execution_count": 29
        }
      ],
      "source": [
        "# Fit the model using the resampled data\n",
        "model3.fit(X_train_resampled, y_train_resampled,\n",
        "          epochs=50,\n",
        "          batch_size=64,\n",
        "          validation_split=0.2)"
      ]
    },
    {
      "cell_type": "code",
      "execution_count": 30,
      "id": "RFqiY1_wkxb1",
      "metadata": {
        "colab": {
          "base_uri": "https://localhost:8080/"
        },
        "id": "RFqiY1_wkxb1",
        "outputId": "aa3f6cbf-dbca-4df8-a3f8-8fb301163550",
        "scrolled": false
      },
      "outputs": [
        {
          "output_type": "stream",
          "name": "stdout",
          "text": [
            "139/139 [==============================] - 2s 3ms/step\n"
          ]
        }
      ],
      "source": [
        "# Predict on the test set\n",
        "y_pred = (model3.predict(X_test) > 0.5).astype(\"int32\")"
      ]
    },
    {
      "cell_type": "code",
      "execution_count": 31,
      "id": "joxCWjmEkxb1",
      "metadata": {
        "colab": {
          "base_uri": "https://localhost:8080/",
          "height": 449
        },
        "id": "joxCWjmEkxb1",
        "outputId": "590f6145-3412-4746-9984-97ff80c4b812"
      },
      "outputs": [
        {
          "output_type": "display_data",
          "data": {
            "text/plain": [
              "<Figure size 640x480 with 2 Axes>"
            ],
            "image/png": "[encoded data removed]"
          },
          "metadata": {}
        }
      ],
      "source": [
        "# Calculate the confusion matrix\n",
        "cm = confusion_matrix(y_test, y_pred)\n",
        "\n",
        "# Plot the confusion matrix\n",
        "disp = ConfusionMatrixDisplay(confusion_matrix=cm)\n",
        "disp.plot(cmap=plt.cm.Blues)\n",
        "plt.show()"
      ]
    },
    {
      "cell_type": "code",
      "execution_count": 32,
      "id": "aIyu9wARkxb1",
      "metadata": {
        "colab": {
          "base_uri": "https://localhost:8080/"
        },
        "id": "aIyu9wARkxb1",
        "outputId": "628676ec-2921-4ea0-ed6b-44491371c338",
        "scrolled": true
      },
      "outputs": [
        {
          "output_type": "stream",
          "name": "stdout",
          "text": [
            "Accuracy: 0.8555\n",
            "Precision: 0.6998\n",
            "Recall: 0.6872\n",
            "F1 Score: 0.6934\n"
          ]
        }
      ],
      "source": [
        "# Calculate accuracy\n",
        "accuracy = accuracy_score(y_test, y_pred)\n",
        "print(f'Accuracy: {accuracy:.4f}')\n",
        "\n",
        "# Calculate precision\n",
        "precision = precision_score(y_test, y_pred)\n",
        "print(f'Precision: {precision:.4f}')\n",
        "\n",
        "# Calculate recall\n",
        "recall = recall_score(y_test, y_pred)\n",
        "print(f'Recall: {recall:.4f}')\n",
        "\n",
        "# Calculate F1 score\n",
        "f1 = f1_score(y_test, y_pred)\n",
        "print(f'F1 Score: {f1:.4f}')"
      ]
    },
    {
      "cell_type": "markdown",
      "id": "c0bb697c",
      "metadata": {
        "id": "c0bb697c"
      },
      "source": [
        "## Two Bidirectinal LSTM Layers and One Dense Layer"
      ]
    },
    {
      "cell_type": "code",
      "execution_count": 33,
      "id": "25355c92",
      "metadata": {
        "colab": {
          "base_uri": "https://localhost:8080/"
        },
        "id": "25355c92",
        "outputId": "78da42c2-1471-4efb-8ff5-094e707b54c2"
      },
      "outputs": [
        {
          "output_type": "stream",
          "name": "stdout",
          "text": [
            "Model: \"sequential_3\"\n",
            "_________________________________________________________________\n",
            " Layer (type)                Output Shape              Param #   \n",
            "=================================================================\n",
            " bidirectional_3 (Bidirecti  (None, 1, 256)            439296    \n",
            " onal)                                                           \n",
            "                                                                 \n",
            " dropout_5 (Dropout)         (None, 1, 256)            0         \n",
            "                                                                 \n",
            " bidirectional_4 (Bidirecti  (None, 128)               164352    \n",
            " onal)                                                           \n",
            "                                                                 \n",
            " dropout_6 (Dropout)         (None, 128)               0         \n",
            "                                                                 \n",
            " dense_3 (Dense)             (None, 128)               16512     \n",
            "                                                                 \n",
            " dropout_7 (Dropout)         (None, 128)               0         \n",
            "                                                                 \n",
            " dense_4 (Dense)             (None, 1)                 129       \n",
            "                                                                 \n",
            "=================================================================\n",
            "Total params: 620289 (2.37 MB)\n",
            "Trainable params: 620289 (2.37 MB)\n",
            "Non-trainable params: 0 (0.00 Byte)\n",
            "_________________________________________________________________\n"
          ]
        }
      ],
      "source": [
        "# Define the model\n",
        "model4 = Sequential()\n",
        "\n",
        "# Add Bidirectional LSTM layer\n",
        "model4.add(Bidirectional(LSTM(128, return_sequences=True), input_shape=(1, embedding_dim)))\n",
        "\n",
        "# Add Dropout Layer\n",
        "model4.add(Dropout(0.2))\n",
        "\n",
        "# Add another Bidirectional LSTM Layer\n",
        "model4.add(Bidirectional(LSTM(64)))\n",
        "\n",
        "# Add another Dropout Layer\n",
        "model4.add(Dropout(0.2))\n",
        "\n",
        "# Add a Dense layer with ReLU activation\n",
        "model4.add(Dense(128, activation='relu'))\n",
        "\n",
        "# Add another Dropout Layer\n",
        "model4.add(Dropout(0.2))\n",
        "\n",
        "# Add the output layer with sigmoid activation for binary classification\n",
        "model4.add(Dense(1, activation='sigmoid'))\n",
        "\n",
        "# Compile the model\n",
        "model4.compile(loss='binary_crossentropy', optimizer='adam', metrics=['accuracy'])\n",
        "\n",
        "# Print the model summary\n",
        "model4.summary()"
      ]
    },
    {
      "cell_type": "code",
      "execution_count": 34,
      "id": "20557d0f",
      "metadata": {
        "colab": {
          "base_uri": "https://localhost:8080/"
        },
        "id": "20557d0f",
        "outputId": "9e5474de-7747-4aaf-ccb5-37c3238d7745"
      },
      "outputs": [
        {
          "output_type": "stream",
          "name": "stdout",
          "text": [
            "Epoch 1/50\n",
            "338/338 [==============================] - 12s 14ms/step - loss: 0.5156 - accuracy: 0.7400 - val_loss: 0.6278 - val_accuracy: 0.6944\n",
            "Epoch 2/50\n",
            "338/338 [==============================] - 3s 9ms/step - loss: 0.4568 - accuracy: 0.7792 - val_loss: 0.7233 - val_accuracy: 0.6357\n",
            "Epoch 3/50\n",
            "338/338 [==============================] - 4s 11ms/step - loss: 0.4429 - accuracy: 0.7903 - val_loss: 0.8729 - val_accuracy: 0.4918\n",
            "Epoch 4/50\n",
            "338/338 [==============================] - 4s 11ms/step - loss: 0.4239 - accuracy: 0.8009 - val_loss: 0.6451 - val_accuracy: 0.6653\n",
            "Epoch 5/50\n",
            "338/338 [==============================] - 3s 9ms/step - loss: 0.4083 - accuracy: 0.8118 - val_loss: 0.6638 - val_accuracy: 0.6026\n",
            "Epoch 6/50\n",
            "338/338 [==============================] - 3s 9ms/step - loss: 0.3982 - accuracy: 0.8215 - val_loss: 0.3784 - val_accuracy: 0.8649\n",
            "Epoch 7/50\n",
            "338/338 [==============================] - 3s 9ms/step - loss: 0.3867 - accuracy: 0.8292 - val_loss: 0.3646 - val_accuracy: 0.8618\n",
            "Epoch 8/50\n",
            "338/338 [==============================] - 4s 12ms/step - loss: 0.3802 - accuracy: 0.8305 - val_loss: 0.4390 - val_accuracy: 0.7883\n",
            "Epoch 9/50\n",
            "338/338 [==============================] - 3s 9ms/step - loss: 0.3721 - accuracy: 0.8359 - val_loss: 0.5281 - val_accuracy: 0.7341\n",
            "Epoch 10/50\n",
            "338/338 [==============================] - 3s 9ms/step - loss: 0.3639 - accuracy: 0.8397 - val_loss: 0.6376 - val_accuracy: 0.6764\n",
            "Epoch 11/50\n",
            "338/338 [==============================] - 3s 9ms/step - loss: 0.3566 - accuracy: 0.8461 - val_loss: 0.6165 - val_accuracy: 0.6812\n",
            "Epoch 12/50\n",
            "338/338 [==============================] - 4s 12ms/step - loss: 0.3515 - accuracy: 0.8484 - val_loss: 0.3645 - val_accuracy: 0.8548\n",
            "Epoch 13/50\n",
            "338/338 [==============================] - 3s 10ms/step - loss: 0.3467 - accuracy: 0.8514 - val_loss: 0.3193 - val_accuracy: 0.8942\n",
            "Epoch 14/50\n",
            "338/338 [==============================] - 3s 9ms/step - loss: 0.3406 - accuracy: 0.8518 - val_loss: 0.4292 - val_accuracy: 0.8091\n",
            "Epoch 15/50\n",
            "338/338 [==============================] - 3s 9ms/step - loss: 0.3348 - accuracy: 0.8555 - val_loss: 0.5424 - val_accuracy: 0.7245\n",
            "Epoch 16/50\n",
            "338/338 [==============================] - 4s 11ms/step - loss: 0.3300 - accuracy: 0.8587 - val_loss: 0.5171 - val_accuracy: 0.7312\n",
            "Epoch 17/50\n",
            "338/338 [==============================] - 4s 11ms/step - loss: 0.3263 - accuracy: 0.8614 - val_loss: 0.3275 - val_accuracy: 0.8820\n",
            "Epoch 18/50\n",
            "338/338 [==============================] - 3s 9ms/step - loss: 0.3197 - accuracy: 0.8636 - val_loss: 0.5294 - val_accuracy: 0.7301\n",
            "Epoch 19/50\n",
            "338/338 [==============================] - 3s 9ms/step - loss: 0.3142 - accuracy: 0.8688 - val_loss: 0.3313 - val_accuracy: 0.8736\n",
            "Epoch 20/50\n",
            "338/338 [==============================] - 3s 9ms/step - loss: 0.3111 - accuracy: 0.8671 - val_loss: 0.3319 - val_accuracy: 0.8784\n",
            "Epoch 21/50\n",
            "338/338 [==============================] - 4s 12ms/step - loss: 0.3060 - accuracy: 0.8722 - val_loss: 0.3089 - val_accuracy: 0.8847\n",
            "Epoch 22/50\n",
            "338/338 [==============================] - 3s 9ms/step - loss: 0.2994 - accuracy: 0.8734 - val_loss: 0.3563 - val_accuracy: 0.8542\n",
            "Epoch 23/50\n",
            "338/338 [==============================] - 3s 9ms/step - loss: 0.2986 - accuracy: 0.8749 - val_loss: 0.2777 - val_accuracy: 0.9080\n",
            "Epoch 24/50\n",
            "338/338 [==============================] - 3s 9ms/step - loss: 0.2964 - accuracy: 0.8723 - val_loss: 0.2888 - val_accuracy: 0.8886\n",
            "Epoch 25/50\n",
            "338/338 [==============================] - 4s 13ms/step - loss: 0.2921 - accuracy: 0.8793 - val_loss: 0.2204 - val_accuracy: 0.9251\n",
            "Epoch 26/50\n",
            "338/338 [==============================] - 3s 9ms/step - loss: 0.2852 - accuracy: 0.8804 - val_loss: 0.2924 - val_accuracy: 0.8836\n",
            "Epoch 27/50\n",
            "338/338 [==============================] - 3s 9ms/step - loss: 0.2826 - accuracy: 0.8827 - val_loss: 0.3490 - val_accuracy: 0.8553\n",
            "Epoch 28/50\n",
            "338/338 [==============================] - 3s 9ms/step - loss: 0.2777 - accuracy: 0.8828 - val_loss: 0.2932 - val_accuracy: 0.8829\n",
            "Epoch 29/50\n",
            "338/338 [==============================] - 4s 12ms/step - loss: 0.2735 - accuracy: 0.8862 - val_loss: 0.2367 - val_accuracy: 0.9210\n",
            "Epoch 30/50\n",
            "338/338 [==============================] - 3s 9ms/step - loss: 0.2705 - accuracy: 0.8884 - val_loss: 0.3812 - val_accuracy: 0.8335\n",
            "Epoch 31/50\n",
            "338/338 [==============================] - 3s 9ms/step - loss: 0.2679 - accuracy: 0.8858 - val_loss: 0.3632 - val_accuracy: 0.8409\n",
            "Epoch 32/50\n",
            "338/338 [==============================] - 3s 9ms/step - loss: 0.2633 - accuracy: 0.8891 - val_loss: 0.2547 - val_accuracy: 0.9025\n",
            "Epoch 33/50\n",
            "338/338 [==============================] - 4s 11ms/step - loss: 0.2603 - accuracy: 0.8904 - val_loss: 0.2384 - val_accuracy: 0.9145\n",
            "Epoch 34/50\n",
            "338/338 [==============================] - 3s 10ms/step - loss: 0.2564 - accuracy: 0.8919 - val_loss: 0.1950 - val_accuracy: 0.9388\n",
            "Epoch 35/50\n",
            "338/338 [==============================] - 3s 9ms/step - loss: 0.2567 - accuracy: 0.8918 - val_loss: 0.1950 - val_accuracy: 0.9358\n",
            "Epoch 36/50\n",
            "338/338 [==============================] - 3s 9ms/step - loss: 0.2482 - accuracy: 0.8960 - val_loss: 0.2653 - val_accuracy: 0.8916\n",
            "Epoch 37/50\n",
            "338/338 [==============================] - 4s 11ms/step - loss: 0.2448 - accuracy: 0.8981 - val_loss: 0.3265 - val_accuracy: 0.8701\n",
            "Epoch 38/50\n",
            "338/338 [==============================] - 4s 11ms/step - loss: 0.2429 - accuracy: 0.8980 - val_loss: 0.1717 - val_accuracy: 0.9476\n",
            "Epoch 39/50\n",
            "338/338 [==============================] - 3s 9ms/step - loss: 0.2395 - accuracy: 0.9005 - val_loss: 0.2740 - val_accuracy: 0.8938\n",
            "Epoch 40/50\n",
            "338/338 [==============================] - 3s 9ms/step - loss: 0.2329 - accuracy: 0.9019 - val_loss: 0.2418 - val_accuracy: 0.9103\n",
            "Epoch 41/50\n",
            "338/338 [==============================] - 3s 9ms/step - loss: 0.2297 - accuracy: 0.9047 - val_loss: 0.2009 - val_accuracy: 0.9364\n",
            "Epoch 42/50\n",
            "338/338 [==============================] - 4s 12ms/step - loss: 0.2283 - accuracy: 0.9055 - val_loss: 0.2432 - val_accuracy: 0.9099\n",
            "Epoch 43/50\n",
            "338/338 [==============================] - 3s 9ms/step - loss: 0.2239 - accuracy: 0.9072 - val_loss: 0.2180 - val_accuracy: 0.9204\n",
            "Epoch 44/50\n",
            "338/338 [==============================] - 3s 9ms/step - loss: 0.2263 - accuracy: 0.9064 - val_loss: 0.2028 - val_accuracy: 0.9356\n",
            "Epoch 45/50\n",
            "338/338 [==============================] - 3s 9ms/step - loss: 0.2170 - accuracy: 0.9108 - val_loss: 0.2218 - val_accuracy: 0.9180\n",
            "Epoch 46/50\n",
            "338/338 [==============================] - 4s 11ms/step - loss: 0.2147 - accuracy: 0.9087 - val_loss: 0.2141 - val_accuracy: 0.9245\n",
            "Epoch 47/50\n",
            "338/338 [==============================] - 3s 9ms/step - loss: 0.2110 - accuracy: 0.9146 - val_loss: 0.1231 - val_accuracy: 0.9697\n",
            "Epoch 48/50\n",
            "338/338 [==============================] - 3s 9ms/step - loss: 0.2100 - accuracy: 0.9126 - val_loss: 0.1396 - val_accuracy: 0.9593\n",
            "Epoch 49/50\n",
            "338/338 [==============================] - 3s 9ms/step - loss: 0.2080 - accuracy: 0.9134 - val_loss: 0.1832 - val_accuracy: 0.9486\n",
            "Epoch 50/50\n",
            "338/338 [==============================] - 3s 10ms/step - loss: 0.2063 - accuracy: 0.9139 - val_loss: 0.1543 - val_accuracy: 0.9562\n"
          ]
        },
        {
          "output_type": "execute_result",
          "data": {
            "text/plain": [
              "<keras.src.callbacks.History at 0x7c7f6b604dc0>"
            ]
          },
          "metadata": {},
          "execution_count": 34
        }
      ],
      "source": [
        "# Fit the model using the resampled data\n",
        "model4.fit(X_train_resampled, y_train_resampled,\n",
        "          epochs=50,\n",
        "          batch_size=64,\n",
        "          validation_split=0.2)"
      ]
    },
    {
      "cell_type": "code",
      "execution_count": 35,
      "id": "57eaf571",
      "metadata": {
        "colab": {
          "base_uri": "https://localhost:8080/"
        },
        "id": "57eaf571",
        "outputId": "cc7e21ad-e855-45a4-e0eb-87ba1755aceb",
        "scrolled": false
      },
      "outputs": [
        {
          "output_type": "stream",
          "name": "stdout",
          "text": [
            "139/139 [==============================] - 2s 4ms/step\n"
          ]
        }
      ],
      "source": [
        "# Predict on the test set\n",
        "y_pred = (model4.predict(X_test) > 0.5).astype(\"int32\")"
      ]
    },
    {
      "cell_type": "code",
      "execution_count": 36,
      "id": "dd7dc055",
      "metadata": {
        "colab": {
          "base_uri": "https://localhost:8080/",
          "height": 449
        },
        "id": "dd7dc055",
        "outputId": "f3177e7d-0c8c-4d75-e5cb-a2ed02336a29"
      },
      "outputs": [
        {
          "output_type": "display_data",
          "data": {
            "text/plain": [
              "<Figure size 640x480 with 2 Axes>"
            ],
            "image/png": "[encoded data removed]"
          },
          "metadata": {}
        }
      ],
      "source": [
        "# Calculate the confusion matrix\n",
        "cm = confusion_matrix(y_test, y_pred)\n",
        "\n",
        "# Plot the confusion matrix\n",
        "disp = ConfusionMatrixDisplay(confusion_matrix=cm)\n",
        "disp.plot(cmap=plt.cm.Blues)\n",
        "plt.show()"
      ]
    },
    {
      "cell_type": "code",
      "execution_count": 37,
      "id": "ca2bf710",
      "metadata": {
        "colab": {
          "base_uri": "https://localhost:8080/"
        },
        "id": "ca2bf710",
        "outputId": "b87dcfa7-1a69-4a04-e8c8-e68f8ea22328",
        "scrolled": true
      },
      "outputs": [
        {
          "output_type": "stream",
          "name": "stdout",
          "text": [
            "Accuracy: 0.8384\n",
            "Precision: 0.6365\n",
            "Recall: 0.7469\n",
            "F1 Score: 0.6873\n"
          ]
        }
      ],
      "source": [
        "# Calculate accuracy\n",
        "accuracy = accuracy_score(y_test, y_pred)\n",
        "print(f'Accuracy: {accuracy:.4f}')\n",
        "\n",
        "# Calculate precision\n",
        "precision = precision_score(y_test, y_pred)\n",
        "print(f'Precision: {precision:.4f}')\n",
        "\n",
        "# Calculate recall\n",
        "recall = recall_score(y_test, y_pred)\n",
        "print(f'Recall: {recall:.4f}')\n",
        "\n",
        "# Calculate F1 score\n",
        "f1 = f1_score(y_test, y_pred)\n",
        "print(f'F1 Score: {f1:.4f}')"
      ]
    },
    {
      "cell_type": "markdown",
      "source": [
        "### Adding dense layer is decreasing the performance of the model. So it's better to not add dense layer to the model. And normal LSTM is giving better results than Bidirectional LSTM"
      ],
      "metadata": {
        "id": "WDKRSJZH9yBi"
      },
      "id": "WDKRSJZH9yBi"
    },
    {
      "cell_type": "markdown",
      "id": "2add4a22",
      "metadata": {
        "id": "2add4a22"
      },
      "source": [
        "# Model Tuning"
      ]
    },
    {
      "cell_type": "markdown",
      "id": "BG0uDWuswhj4",
      "metadata": {
        "id": "BG0uDWuswhj4"
      },
      "source": [
        "## Implement early stopping and learning rate reduction techniques, while ensuring that 'y_pred' achieves a balanced precision and recall."
      ]
    },
    {
      "cell_type": "code",
      "execution_count": 44,
      "id": "9lCo3dHHr1sE",
      "metadata": {
        "colab": {
          "base_uri": "https://localhost:8080/"
        },
        "id": "9lCo3dHHr1sE",
        "outputId": "5e5eca9c-e3cc-4247-eb3e-da817628c351"
      },
      "outputs": [
        {
          "output_type": "stream",
          "name": "stdout",
          "text": [
            "Model: \"sequential_5\"\n",
            "_________________________________________________________________\n",
            " Layer (type)                Output Shape              Param #   \n",
            "=================================================================\n",
            " lstm_9 (LSTM)               (None, 1, 128)            219648    \n",
            "                                                                 \n",
            " dropout_10 (Dropout)        (None, 1, 128)            0         \n",
            "                                                                 \n",
            " lstm_10 (LSTM)              (None, 64)                49408     \n",
            "                                                                 \n",
            " dropout_11 (Dropout)        (None, 64)                0         \n",
            "                                                                 \n",
            " dense_6 (Dense)             (None, 1)                 65        \n",
            "                                                                 \n",
            "=================================================================\n",
            "Total params: 269121 (1.03 MB)\n",
            "Trainable params: 269121 (1.03 MB)\n",
            "Non-trainable params: 0 (0.00 Byte)\n",
            "_________________________________________________________________\n"
          ]
        }
      ],
      "source": [
        "# Define the LSTM model\n",
        "model = Sequential()\n",
        "\n",
        "#Define LSTM layer\n",
        "model.add(LSTM(128, input_shape=(1, embedding_dim), return_sequences=True))\n",
        "\n",
        "#Add Dropout Layer to prevent overfitting\n",
        "model.add(Dropout(0.2))\n",
        "\n",
        "#Add another LSTM Layer\n",
        "model.add(LSTM(64))\n",
        "\n",
        "#Add another Dropout Layer\n",
        "model.add(Dropout(0.2))\n",
        "\n",
        "# Add the output layer with sigmoid activation for binary classification\n",
        "model.add(Dense(1, activation='sigmoid'))\n",
        "\n",
        "# Compile the model\n",
        "model.compile(loss='binary_crossentropy', optimizer='adam', metrics=['accuracy'])\n",
        "\n",
        "model.summary()"
      ]
    },
    {
      "cell_type": "markdown",
      "id": "923ddf09",
      "metadata": {
        "id": "923ddf09"
      },
      "source": [
        "### Early stopping is a technique used to prevent overfitting of a model to the training data. It works by monitoring the performance of the model on a separate validation dataset during training. If the performance (e.g., validation loss or accuracy) stops improving or starts deteriorating for a certain number of epochs, training is halted early. This prevents the model from continuing to learn patterns specific to the training data that do not generalize well to unseen data."
      ]
    },
    {
      "cell_type": "markdown",
      "id": "17e4c4c4",
      "metadata": {
        "id": "17e4c4c4"
      },
      "source": [
        "### Learning rate reduction is a technique to improve the convergence of the model during training. It involves reducing the learning rate when the validation performance plateaus. This helps the model to fine-tune more precisely towards the optimal parameters."
      ]
    },
    {
      "cell_type": "code",
      "execution_count": 45,
      "id": "eBaOmND0vYHV",
      "metadata": {
        "id": "eBaOmND0vYHV"
      },
      "outputs": [],
      "source": [
        "# Define early stopping callback\n",
        "early_stopping = EarlyStopping(monitor='val_loss', patience=5, restore_best_weights=True)\n",
        "\n",
        "# Define learning rate reduction callback\n",
        "reduce_lr = ReduceLROnPlateau(monitor='val_loss', factor=0.1, patience=3, min_lr=0.00001)"
      ]
    },
    {
      "cell_type": "code",
      "execution_count": 50,
      "id": "7ShkF_DLr1sE",
      "metadata": {
        "colab": {
          "base_uri": "https://localhost:8080/"
        },
        "id": "7ShkF_DLr1sE",
        "outputId": "9efeb945-35b3-4074-de9a-12128817b339"
      },
      "outputs": [
        {
          "output_type": "stream",
          "name": "stdout",
          "text": [
            "Epoch 1/50\n",
            "338/338 [==============================] - 3s 8ms/step - loss: 0.3494 - accuracy: 0.8440 - val_loss: 0.4260 - val_accuracy: 0.7950 - lr: 1.0000e-04\n",
            "Epoch 2/50\n",
            "338/338 [==============================] - 3s 8ms/step - loss: 0.3479 - accuracy: 0.8450 - val_loss: 0.4530 - val_accuracy: 0.7769 - lr: 1.0000e-04\n",
            "Epoch 3/50\n",
            "338/338 [==============================] - 2s 6ms/step - loss: 0.3472 - accuracy: 0.8458 - val_loss: 0.4398 - val_accuracy: 0.7876 - lr: 1.0000e-04\n",
            "Epoch 4/50\n",
            "338/338 [==============================] - 2s 6ms/step - loss: 0.3457 - accuracy: 0.8467 - val_loss: 0.4444 - val_accuracy: 0.7852 - lr: 1.0000e-04\n",
            "Epoch 5/50\n",
            "338/338 [==============================] - 2s 6ms/step - loss: 0.3447 - accuracy: 0.8479 - val_loss: 0.4406 - val_accuracy: 0.7883 - lr: 1.0000e-05\n",
            "Epoch 6/50\n",
            "338/338 [==============================] - 2s 6ms/step - loss: 0.3456 - accuracy: 0.8463 - val_loss: 0.4481 - val_accuracy: 0.7809 - lr: 1.0000e-05\n"
          ]
        }
      ],
      "source": [
        "# Fit the model with early stopping and learning rate reduction\n",
        "history = model.fit(X_train_resampled, y_train_resampled,\n",
        "                    validation_split=0.2,\n",
        "                    epochs=50,\n",
        "                    batch_size=64,\n",
        "                    callbacks=[early_stopping, reduce_lr])"
      ]
    },
    {
      "cell_type": "markdown",
      "id": "6a162f9c",
      "metadata": {
        "id": "6a162f9c"
      },
      "source": [
        "## Choose a threshold that balances precision and recall."
      ]
    },
    {
      "cell_type": "code",
      "execution_count": 51,
      "id": "ZLmQdsdnr1sE",
      "metadata": {
        "colab": {
          "base_uri": "https://localhost:8080/"
        },
        "id": "ZLmQdsdnr1sE",
        "outputId": "07be0d99-00b2-4d9f-8c7e-f7c2177c1222",
        "scrolled": false
      },
      "outputs": [
        {
          "output_type": "stream",
          "name": "stdout",
          "text": [
            "139/139 [==============================] - 0s 2ms/step\n",
            "Best Threshold: 0.556429\n"
          ]
        }
      ],
      "source": [
        "y_pred_prob = model.predict(X_test)\n",
        "precision, recall, thresholds = precision_recall_curve(y_test, y_pred_prob)\n",
        "\n",
        "# Threshold\n",
        "best_threshold = thresholds[np.argmax(precision * recall)]\n",
        "y_pred = (y_pred_prob >= best_threshold).astype(int)\n",
        "\n",
        "print(\"Best Threshold:\", best_threshold)"
      ]
    },
    {
      "cell_type": "code",
      "execution_count": 52,
      "id": "7jRafmi1r1sE",
      "metadata": {
        "colab": {
          "base_uri": "https://localhost:8080/",
          "height": 449
        },
        "id": "7jRafmi1r1sE",
        "outputId": "59c95046-a1f9-48ad-ab37-d844924d0f2c"
      },
      "outputs": [
        {
          "output_type": "display_data",
          "data": {
            "text/plain": [
              "<Figure size 640x480 with 2 Axes>"
            ],
            "image/png": "[encoded data removed]"
          },
          "metadata": {}
        }
      ],
      "source": [
        "# Calculate the confusion matrix\n",
        "cm = confusion_matrix(y_test, y_pred)\n",
        "\n",
        "# Plot the confusion matrix\n",
        "disp = ConfusionMatrixDisplay(confusion_matrix=cm)\n",
        "disp.plot(cmap=plt.cm.Blues)\n",
        "plt.show()"
      ]
    },
    {
      "cell_type": "code",
      "execution_count": 53,
      "id": "FCajN8OWr1sE",
      "metadata": {
        "colab": {
          "base_uri": "https://localhost:8080/"
        },
        "id": "FCajN8OWr1sE",
        "outputId": "cc0a60a4-ac0b-4e3b-a0a3-43ef5ffb5ae7",
        "scrolled": true
      },
      "outputs": [
        {
          "output_type": "stream",
          "name": "stdout",
          "text": [
            "Accuracy: 0.8584\n",
            "Precision: 0.6953\n",
            "Recall: 0.7204\n",
            "F1 Score: 0.7076\n"
          ]
        }
      ],
      "source": [
        "# Calculate accuracy\n",
        "accuracy = accuracy_score(y_test, y_pred)\n",
        "print(f'Accuracy: {accuracy:.4f}')\n",
        "\n",
        "# Calculate precision\n",
        "precision = precision_score(y_test, y_pred)\n",
        "print(f'Precision: {precision:.4f}')\n",
        "\n",
        "# Calculate recall\n",
        "recall = recall_score(y_test, y_pred)\n",
        "print(f'Recall: {recall:.4f}')\n",
        "\n",
        "# Calculate F1 score\n",
        "f1 = f1_score(y_test, y_pred)\n",
        "print(f'F1 Score: {f1:.4f}')"
      ]
    }
  ],
  "metadata": {
    "accelerator": "GPU",
    "colab": {
      "gpuType": "T4",
      "provenance": []
    },
    "kernelspec": {
      "display_name": "Python 3 (ipykernel)",
      "language": "python",
      "name": "python3"
    },
    "language_info": {
      "codemirror_mode": {
        "name": "ipython",
        "version": 3
      },
      "file_extension": ".py",
      "mimetype": "text/x-python",
      "name": "python",
      "nbconvert_exporter": "python",
      "pygments_lexer": "ipython3",
      "version": "3.11.0"
    }
  },
  "nbformat": 4,
  "nbformat_minor": 5
}