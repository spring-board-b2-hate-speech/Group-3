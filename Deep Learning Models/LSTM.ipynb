{
  "nbformat": 4,
  "nbformat_minor": 0,
  "metadata": {
    "colab": {
      "provenance": [],
      "gpuType": "T4"
    },
    "kernelspec": {
      "name": "python3",
      "display_name": "Python 3"
    },
    "language_info": {
      "name": "python"
    },
    "accelerator": "GPU"
  },
  "cells": [
    {
      "cell_type": "markdown",
      "source": [
        "# Data Loading & Preprocessing"
      ],
      "metadata": {
        "id": "tYnpclS8pSoS"
      }
    },
    {
      "cell_type": "code",
      "execution_count": 1,
      "metadata": {
        "colab": {
          "base_uri": "https://localhost:8080/"
        },
        "id": "SR8MTGcBLtom",
        "outputId": "29bc6bfe-a9d6-4c05-ac7b-f5bcd66f97c0"
      },
      "outputs": [
        {
          "output_type": "stream",
          "name": "stdout",
          "text": [
            "Requirement already satisfied: imblearn in /usr/local/lib/python3.10/dist-packages (0.0)\n",
            "Requirement already satisfied: imbalanced-learn in /usr/local/lib/python3.10/dist-packages (from imblearn) (0.10.1)\n",
            "Requirement already satisfied: numpy>=1.17.3 in /usr/local/lib/python3.10/dist-packages (from imbalanced-learn->imblearn) (1.25.2)\n",
            "Requirement already satisfied: scipy>=1.3.2 in /usr/local/lib/python3.10/dist-packages (from imbalanced-learn->imblearn) (1.11.4)\n",
            "Requirement already satisfied: scikit-learn>=1.0.2 in /usr/local/lib/python3.10/dist-packages (from imbalanced-learn->imblearn) (1.2.2)\n",
            "Requirement already satisfied: joblib>=1.1.1 in /usr/local/lib/python3.10/dist-packages (from imbalanced-learn->imblearn) (1.4.2)\n",
            "Requirement already satisfied: threadpoolctl>=2.0.0 in /usr/local/lib/python3.10/dist-packages (from imbalanced-learn->imblearn) (3.5.0)\n"
          ]
        }
      ],
      "source": [
        "!pip install imblearn"
      ]
    },
    {
      "cell_type": "code",
      "source": [
        "import pandas as pd\n",
        "import numpy as np\n",
        "\n",
        "from sklearn.model_selection import train_test_split\n",
        "from imblearn.over_sampling import SMOTE\n",
        "\n",
        "from keras.models import Sequential\n",
        "from keras.layers import LSTM, Dense, Dropout, Bidirectional\n",
        "\n",
        "import matplotlib.pyplot as plt\n",
        "from sklearn.metrics import confusion_matrix, ConfusionMatrixDisplay\n",
        "from sklearn.metrics import accuracy_score, precision_score, recall_score, f1_score\n",
        "\n",
        "from sklearn.metrics import precision_recall_curve\n",
        "from keras.callbacks import EarlyStopping, ReduceLROnPlateau"
      ],
      "metadata": {
        "id": "H2aP04BELyjT"
      },
      "execution_count": 2,
      "outputs": []
    },
    {
      "cell_type": "code",
      "source": [
        "# Mount Google Drive to access files\n",
        "from google.colab import drive\n",
        "drive.mount('/content/drive')"
      ],
      "metadata": {
        "colab": {
          "base_uri": "https://localhost:8080/"
        },
        "id": "n52rtnpgLytp",
        "outputId": "75c7eda7-eb8f-4cc6-ba8b-c063da86719f"
      },
      "execution_count": 3,
      "outputs": [
        {
          "output_type": "stream",
          "name": "stdout",
          "text": [
            "Drive already mounted at /content/drive; to attempt to forcibly remount, call drive.mount(\"/content/drive\", force_remount=True).\n"
          ]
        }
      ]
    },
    {
      "cell_type": "code",
      "source": [
        "# Load preprocessed data\n",
        "X_train_processed = pd.read_csv('/content/drive/MyDrive/Train_Encoded.csv')\n",
        "X_test_processed = pd.read_csv('/content/drive/MyDrive/Test_Encoded.csv')"
      ],
      "metadata": {
        "id": "VX_FYjkOLyvS"
      },
      "execution_count": 4,
      "outputs": []
    },
    {
      "cell_type": "code",
      "source": [
        "#Convert string to list format\n",
        "X_train_processed['document_vector'] = X_train_processed['document_vector_flat'].apply(lambda x: np.fromstring(x, sep=','))\n",
        "X_test_processed['document_vector'] = X_test_processed['document_vector_flat'].apply(lambda x: np.fromstring(x, sep=','))"
      ],
      "metadata": {
        "id": "Iojd-HewLyxj"
      },
      "execution_count": 5,
      "outputs": []
    },
    {
      "cell_type": "code",
      "source": [
        "# Separate features and class labels\n",
        "X_train = X_train_processed['document_vector'].tolist()\n",
        "X_test = X_test_processed['document_vector'].tolist()\n",
        "y_train = X_train_processed['hate_speech']\n",
        "y_test = X_test_processed['hate_speech']"
      ],
      "metadata": {
        "id": "9n6RsIvuLy1P"
      },
      "execution_count": 6,
      "outputs": []
    },
    {
      "cell_type": "code",
      "source": [
        "class_distribution = y_train.value_counts()\n",
        "\n",
        "print(\"Class Distribution:\")\n",
        "print(class_distribution)"
      ],
      "metadata": {
        "colab": {
          "base_uri": "https://localhost:8080/"
        },
        "id": "Tr481MD9Mwgp",
        "outputId": "ec5c3b51-ef90-48a3-aa86-3e5df077c1e6"
      },
      "execution_count": 7,
      "outputs": [
        {
          "output_type": "stream",
          "name": "stdout",
          "text": [
            "Class Distribution:\n",
            "hate_speech\n",
            "0    13513\n",
            "1     4229\n",
            "Name: count, dtype: int64\n"
          ]
        }
      ]
    },
    {
      "cell_type": "code",
      "source": [
        "plt.figure(figsize=(8, 6))\n",
        "class_distribution.plot(kind='bar', color=['skyblue', 'orange'])\n",
        "plt.title('Class Distribution')\n",
        "plt.xlabel('Class')\n",
        "plt.ylabel('Number of Instances')\n",
        "plt.xticks(rotation=0)\n",
        "plt.show()"
      ],
      "metadata": {
        "colab": {
          "base_uri": "https://localhost:8080/",
          "height": 564
        },
        "id": "4l6SeX0QOjRC",
        "outputId": "9e6edba7-b8ae-4253-8134-b6cc0cff9654"
      },
      "execution_count": 8,
      "outputs": [
        {
          "output_type": "display_data",
          "data": {
            "text/plain": [
              "<Figure size 800x600 with 1 Axes>"
            ],
            "image/png": "[encoded data removed]"
          },
          "metadata": {}
        }
      ]
    },
    {
      "cell_type": "code",
      "source": [
        "# Apply SMOTE to balance training data\n",
        "smote = SMOTE(random_state=42)\n",
        "X_train_resampled, y_train_resampled = smote.fit_resample(X_train, y_train)"
      ],
      "metadata": {
        "id": "QwoAcI2bMRjM"
      },
      "execution_count": 9,
      "outputs": []
    },
    {
      "cell_type": "code",
      "source": [
        "class_distribution = y_train_resampled.value_counts()\n",
        "\n",
        "print(\"Class Distribution:\")\n",
        "print(class_distribution)"
      ],
      "metadata": {
        "colab": {
          "base_uri": "https://localhost:8080/"
        },
        "id": "K3_tUgqJpiJp",
        "outputId": "35380e66-1b78-4713-c00f-858476cee2b8"
      },
      "execution_count": 10,
      "outputs": [
        {
          "output_type": "stream",
          "name": "stdout",
          "text": [
            "Class Distribution:\n",
            "hate_speech\n",
            "0    13513\n",
            "1    13513\n",
            "Name: count, dtype: int64\n"
          ]
        }
      ]
    },
    {
      "cell_type": "code",
      "source": [
        "plt.figure(figsize=(8, 6))\n",
        "class_distribution.plot(kind='bar', color=['skyblue', 'orange'])\n",
        "plt.title('Class Distribution')\n",
        "plt.xlabel('Class')\n",
        "plt.ylabel('Number of Instances')\n",
        "plt.xticks(rotation=0)\n",
        "plt.show()"
      ],
      "metadata": {
        "colab": {
          "base_uri": "https://localhost:8080/",
          "height": 564
        },
        "id": "gBH2FgzmpiUi",
        "outputId": "45396bf8-911f-4588-9a24-e5fc19ea27e7"
      },
      "execution_count": 11,
      "outputs": [
        {
          "output_type": "display_data",
          "data": {
            "text/plain": [
              "<Figure size 800x600 with 1 Axes>"
            ],
            "image/png": "[encoded data removed]"
          },
          "metadata": {}
        }
      ]
    },
    {
      "cell_type": "code",
      "source": [
        "X_train_resampled = np.array(X_train_resampled)\n",
        "\n",
        "# Check the shape of the resampled dataset\n",
        "print(X_train_resampled.shape)  # Expected shape: (num_samples, embedding_dim)\n",
        "print(y_train_resampled.shape)  # Expected shape: (num_samples,)"
      ],
      "metadata": {
        "colab": {
          "base_uri": "https://localhost:8080/"
        },
        "id": "NPhdvaq_MRt6",
        "outputId": "11d79739-8c97-4b94-88b8-f2bdea91aad4"
      },
      "execution_count": 12,
      "outputs": [
        {
          "output_type": "stream",
          "name": "stdout",
          "text": [
            "(27026, 300)\n",
            "(27026,)\n"
          ]
        }
      ]
    },
    {
      "cell_type": "code",
      "source": [
        "# Reshape train data to match LSTM input shape: (num_samples, 1, embedding_dim)\n",
        "embedding_dim = X_train_resampled.shape[1]  # Number of features per document vector\n",
        "\n",
        "X_train_resampled = np.expand_dims(X_train_resampled, axis=1)\n",
        "print(X_train_resampled.shape) # Should be (num_samples, 1, embedding_dim)"
      ],
      "metadata": {
        "colab": {
          "base_uri": "https://localhost:8080/"
        },
        "id": "4lUEOU2AYhWe",
        "outputId": "736dd594-956e-4cd0-b63c-d0995a7c7071"
      },
      "execution_count": 13,
      "outputs": [
        {
          "output_type": "stream",
          "name": "stdout",
          "text": [
            "(27026, 1, 300)\n"
          ]
        }
      ]
    },
    {
      "cell_type": "code",
      "source": [
        "X_test = np.array(X_test)\n",
        "\n",
        "# Check the shape of the resampled dataset\n",
        "print(X_test.shape)  # Expected shape: (num_samples, embedding_dim)\n",
        "print(y_test.shape)  # Expected shape: (num_samples,)"
      ],
      "metadata": {
        "colab": {
          "base_uri": "https://localhost:8080/"
        },
        "id": "9IsUQ2j8MR7i",
        "outputId": "00e4b8ec-6fbd-4b29-ee2e-2b2aaf16cddd"
      },
      "execution_count": 14,
      "outputs": [
        {
          "output_type": "stream",
          "name": "stdout",
          "text": [
            "(4436, 300)\n",
            "(4436,)\n"
          ]
        }
      ]
    },
    {
      "cell_type": "code",
      "source": [
        "# Reshape test data to match LSTM input shape: (num_samples, 1, embedding_dim)\n",
        "X_test = np.expand_dims(X_test, axis=1)\n",
        "print(X_test.shape)  # Should be (num_samples, 1, embedding_dim)"
      ],
      "metadata": {
        "colab": {
          "base_uri": "https://localhost:8080/"
        },
        "id": "IEPDQV1qYjId",
        "outputId": "2ae6a901-dfd0-48ea-d98f-074f62c9e3f2"
      },
      "execution_count": 15,
      "outputs": [
        {
          "output_type": "stream",
          "name": "stdout",
          "text": [
            "(4436, 1, 300)\n"
          ]
        }
      ]
    },
    {
      "cell_type": "markdown",
      "source": [
        "# Model Training"
      ],
      "metadata": {
        "id": "UATdG20_p7Jp"
      }
    },
    {
      "cell_type": "markdown",
      "metadata": {
        "id": "6f862008"
      },
      "source": [
        "## Single LSTM Layer: 256 Neurons"
      ]
    },
    {
      "cell_type": "code",
      "execution_count": 16,
      "metadata": {
        "colab": {
          "base_uri": "https://localhost:8080/"
        },
        "id": "86c3bb49",
        "outputId": "9c90b74d-737f-4fd0-99eb-25db48ec0c79"
      },
      "outputs": [
        {
          "output_type": "stream",
          "name": "stdout",
          "text": [
            "Model: \"sequential\"\n",
            "_________________________________________________________________\n",
            " Layer (type)                Output Shape              Param #   \n",
            "=================================================================\n",
            " lstm (LSTM)                 (None, 256)               570368    \n",
            "                                                                 \n",
            " dense (Dense)               (None, 1)                 257       \n",
            "                                                                 \n",
            "=================================================================\n",
            "Total params: 570625 (2.18 MB)\n",
            "Trainable params: 570625 (2.18 MB)\n",
            "Non-trainable params: 0 (0.00 Byte)\n",
            "_________________________________________________________________\n"
          ]
        }
      ],
      "source": [
        "# Define the LSTM model\n",
        "model1 = Sequential()\n",
        "\n",
        "#Define LSTM layer\n",
        "model1.add(LSTM(256, input_shape=(1, embedding_dim)))\n",
        "\n",
        "# Add the output layer with sigmoid activation for binary classification\n",
        "model1.add(Dense(1, activation='sigmoid'))\n",
        "\n",
        "# Compile the model\n",
        "model1.compile(loss='binary_crossentropy', optimizer='adam', metrics=['accuracy'])\n",
        "\n",
        "model1.summary()"
      ]
    },
    {
      "cell_type": "code",
      "execution_count": 17,
      "metadata": {
        "colab": {
          "base_uri": "https://localhost:8080/"
        },
        "id": "4bb4512e",
        "outputId": "de55f95e-78ae-4a37-b9a5-adf18d775619"
      },
      "outputs": [
        {
          "output_type": "stream",
          "name": "stdout",
          "text": [
            "Epoch 1/20\n",
            "338/338 [==============================] - 9s 7ms/step - loss: 0.5532 - accuracy: 0.7163 - val_loss: 0.7691 - val_accuracy: 0.4410\n",
            "Epoch 2/20\n",
            "338/338 [==============================] - 2s 5ms/step - loss: 0.4813 - accuracy: 0.7672 - val_loss: 0.8102 - val_accuracy: 0.4571\n",
            "Epoch 3/20\n",
            "338/338 [==============================] - 2s 5ms/step - loss: 0.4586 - accuracy: 0.7794 - val_loss: 0.7043 - val_accuracy: 0.5340\n",
            "Epoch 4/20\n",
            "338/338 [==============================] - 2s 5ms/step - loss: 0.4435 - accuracy: 0.7892 - val_loss: 0.6362 - val_accuracy: 0.5967\n",
            "Epoch 5/20\n",
            "338/338 [==============================] - 2s 5ms/step - loss: 0.4339 - accuracy: 0.7948 - val_loss: 0.6222 - val_accuracy: 0.6114\n",
            "Epoch 6/20\n",
            "338/338 [==============================] - 2s 7ms/step - loss: 0.4258 - accuracy: 0.7997 - val_loss: 0.7078 - val_accuracy: 0.5636\n",
            "Epoch 7/20\n",
            "338/338 [==============================] - 2s 6ms/step - loss: 0.4182 - accuracy: 0.8053 - val_loss: 0.7348 - val_accuracy: 0.5450\n",
            "Epoch 8/20\n",
            "338/338 [==============================] - 2s 5ms/step - loss: 0.4100 - accuracy: 0.8113 - val_loss: 0.5846 - val_accuracy: 0.6574\n",
            "Epoch 9/20\n",
            "338/338 [==============================] - 2s 5ms/step - loss: 0.4015 - accuracy: 0.8142 - val_loss: 0.5454 - val_accuracy: 0.6900\n",
            "Epoch 10/20\n",
            "338/338 [==============================] - 2s 5ms/step - loss: 0.3956 - accuracy: 0.8169 - val_loss: 0.6122 - val_accuracy: 0.6417\n",
            "Epoch 11/20\n",
            "338/338 [==============================] - 2s 5ms/step - loss: 0.3901 - accuracy: 0.8206 - val_loss: 0.5323 - val_accuracy: 0.7037\n",
            "Epoch 12/20\n",
            "338/338 [==============================] - 2s 5ms/step - loss: 0.3852 - accuracy: 0.8250 - val_loss: 0.4955 - val_accuracy: 0.7309\n",
            "Epoch 13/20\n",
            "338/338 [==============================] - 2s 6ms/step - loss: 0.3803 - accuracy: 0.8274 - val_loss: 0.4468 - val_accuracy: 0.7719\n",
            "Epoch 14/20\n",
            "338/338 [==============================] - 2s 7ms/step - loss: 0.3748 - accuracy: 0.8315 - val_loss: 0.5161 - val_accuracy: 0.7196\n",
            "Epoch 15/20\n",
            "338/338 [==============================] - 2s 5ms/step - loss: 0.3689 - accuracy: 0.8331 - val_loss: 0.4836 - val_accuracy: 0.7477\n",
            "Epoch 16/20\n",
            "338/338 [==============================] - 2s 5ms/step - loss: 0.3651 - accuracy: 0.8356 - val_loss: 0.5799 - val_accuracy: 0.6780\n",
            "Epoch 17/20\n",
            "338/338 [==============================] - 2s 5ms/step - loss: 0.3630 - accuracy: 0.8391 - val_loss: 0.3820 - val_accuracy: 0.8289\n",
            "Epoch 18/20\n",
            "338/338 [==============================] - 2s 5ms/step - loss: 0.3582 - accuracy: 0.8413 - val_loss: 0.4407 - val_accuracy: 0.7830\n",
            "Epoch 19/20\n",
            "338/338 [==============================] - 2s 5ms/step - loss: 0.3533 - accuracy: 0.8426 - val_loss: 0.3899 - val_accuracy: 0.8267\n",
            "Epoch 20/20\n",
            "338/338 [==============================] - 2s 5ms/step - loss: 0.3498 - accuracy: 0.8463 - val_loss: 0.5327 - val_accuracy: 0.7138\n"
          ]
        },
        {
          "output_type": "execute_result",
          "data": {
            "text/plain": [
              "<keras.src.callbacks.History at 0x7d1dd25c5060>"
            ]
          },
          "metadata": {},
          "execution_count": 17
        }
      ],
      "source": [
        "# Fit the model using the resampled data\n",
        "model1.fit(X_train_resampled, y_train_resampled,\n",
        "          epochs=20,\n",
        "          batch_size=64,\n",
        "          validation_split=0.2)"
      ]
    },
    {
      "cell_type": "code",
      "execution_count": 18,
      "metadata": {
        "colab": {
          "base_uri": "https://localhost:8080/"
        },
        "id": "6e662f23",
        "outputId": "4b8e0ea7-c0d1-4d77-b4f5-213a99042787",
        "scrolled": false
      },
      "outputs": [
        {
          "output_type": "stream",
          "name": "stdout",
          "text": [
            "139/139 [==============================] - 1s 3ms/step\n"
          ]
        }
      ],
      "source": [
        "# Predict on the test set\n",
        "y_pred = (model1.predict(X_test) > 0.5).astype(\"int32\")"
      ]
    },
    {
      "cell_type": "code",
      "execution_count": 19,
      "metadata": {
        "colab": {
          "base_uri": "https://localhost:8080/",
          "height": 450
        },
        "id": "c88b336f",
        "outputId": "27cf66b3-0b2d-43e9-f751-5b5d03c9edfa"
      },
      "outputs": [
        {
          "output_type": "display_data",
          "data": {
            "text/plain": [
              "<Figure size 640x480 with 2 Axes>"
            ],
            "image/png": "[encoded data removed]"
          },
          "metadata": {}
        }
      ],
      "source": [
        "# Calculate the confusion matrix\n",
        "cm = confusion_matrix(y_test, y_pred)\n",
        "\n",
        "# Plot the confusion matrix\n",
        "disp = ConfusionMatrixDisplay(confusion_matrix=cm)\n",
        "disp.plot(cmap=plt.cm.Blues)\n",
        "plt.show()"
      ]
    },
    {
      "cell_type": "code",
      "execution_count": 20,
      "metadata": {
        "colab": {
          "base_uri": "https://localhost:8080/"
        },
        "id": "ead42d3b",
        "outputId": "d2b72499-89fb-4b73-99fc-ab1962347ed4",
        "scrolled": true
      },
      "outputs": [
        {
          "output_type": "stream",
          "name": "stdout",
          "text": [
            "Accuracy: 0.8526\n",
            "Precision: 0.6861\n",
            "Recall: 0.7029\n",
            "F1 Score: 0.6944\n"
          ]
        }
      ],
      "source": [
        "# Calculate accuracy\n",
        "accuracy = accuracy_score(y_test, y_pred)\n",
        "print(f'Accuracy: {accuracy:.4f}')\n",
        "\n",
        "# Calculate precision\n",
        "precision = precision_score(y_test, y_pred)\n",
        "print(f'Precision: {precision:.4f}')\n",
        "\n",
        "# Calculate recall\n",
        "recall = recall_score(y_test, y_pred)\n",
        "print(f'Recall: {recall:.4f}')\n",
        "\n",
        "# Calculate F1 score\n",
        "f1 = f1_score(y_test, y_pred)\n",
        "print(f'F1 Score: {f1:.4f}')"
      ]
    },
    {
      "cell_type": "markdown",
      "source": [
        "## Single LSTM Layer: 128 Neurons"
      ],
      "metadata": {
        "id": "0ejNOZ_3pyP-"
      }
    },
    {
      "cell_type": "code",
      "execution_count": 21,
      "metadata": {
        "colab": {
          "base_uri": "https://localhost:8080/"
        },
        "outputId": "aae3996c-66be-4100-9fc1-f9cf9d8182c5",
        "id": "NNNPZvHuqAK8"
      },
      "outputs": [
        {
          "output_type": "stream",
          "name": "stdout",
          "text": [
            "Model: \"sequential_1\"\n",
            "_________________________________________________________________\n",
            " Layer (type)                Output Shape              Param #   \n",
            "=================================================================\n",
            " lstm_1 (LSTM)               (None, 128)               219648    \n",
            "                                                                 \n",
            " dense_1 (Dense)             (None, 1)                 129       \n",
            "                                                                 \n",
            "=================================================================\n",
            "Total params: 219777 (858.50 KB)\n",
            "Trainable params: 219777 (858.50 KB)\n",
            "Non-trainable params: 0 (0.00 Byte)\n",
            "_________________________________________________________________\n"
          ]
        }
      ],
      "source": [
        "# Define the LSTM model\n",
        "model2 = Sequential()\n",
        "\n",
        "#Define LSTM layer\n",
        "model2.add(LSTM(128, input_shape=(1, embedding_dim)))\n",
        "\n",
        "# Add the output layer with sigmoid activation for binary classification\n",
        "model2.add(Dense(1, activation='sigmoid'))\n",
        "\n",
        "# Compile the model\n",
        "model2.compile(loss='binary_crossentropy', optimizer='adam', metrics=['accuracy'])\n",
        "\n",
        "model2.summary()"
      ]
    },
    {
      "cell_type": "code",
      "execution_count": 22,
      "metadata": {
        "colab": {
          "base_uri": "https://localhost:8080/"
        },
        "outputId": "5327d565-96b6-4938-d317-8947a370dd11",
        "id": "Mn9-8yFuqAK9"
      },
      "outputs": [
        {
          "output_type": "stream",
          "name": "stdout",
          "text": [
            "Epoch 1/20\n",
            "338/338 [==============================] - 5s 6ms/step - loss: 0.5623 - accuracy: 0.7056 - val_loss: 0.7712 - val_accuracy: 0.4306\n",
            "Epoch 2/20\n",
            "338/338 [==============================] - 2s 5ms/step - loss: 0.4873 - accuracy: 0.7640 - val_loss: 0.6957 - val_accuracy: 0.5126\n",
            "Epoch 3/20\n",
            "338/338 [==============================] - 2s 5ms/step - loss: 0.4628 - accuracy: 0.7779 - val_loss: 0.7157 - val_accuracy: 0.5266\n",
            "Epoch 4/20\n",
            "338/338 [==============================] - 2s 5ms/step - loss: 0.4479 - accuracy: 0.7852 - val_loss: 0.6249 - val_accuracy: 0.5954\n",
            "Epoch 5/20\n",
            "338/338 [==============================] - 2s 5ms/step - loss: 0.4388 - accuracy: 0.7920 - val_loss: 0.6350 - val_accuracy: 0.6028\n",
            "Epoch 6/20\n",
            "338/338 [==============================] - 2s 6ms/step - loss: 0.4311 - accuracy: 0.7976 - val_loss: 0.6667 - val_accuracy: 0.5816\n",
            "Epoch 7/20\n",
            "338/338 [==============================] - 2s 7ms/step - loss: 0.4247 - accuracy: 0.8004 - val_loss: 0.7172 - val_accuracy: 0.5564\n",
            "Epoch 8/20\n",
            "338/338 [==============================] - 2s 6ms/step - loss: 0.4178 - accuracy: 0.8041 - val_loss: 0.5520 - val_accuracy: 0.6757\n",
            "Epoch 9/20\n",
            "338/338 [==============================] - 2s 5ms/step - loss: 0.4101 - accuracy: 0.8090 - val_loss: 0.7251 - val_accuracy: 0.5625\n",
            "Epoch 10/20\n",
            "338/338 [==============================] - 2s 5ms/step - loss: 0.4039 - accuracy: 0.8140 - val_loss: 0.5464 - val_accuracy: 0.6861\n",
            "Epoch 11/20\n",
            "338/338 [==============================] - 2s 5ms/step - loss: 0.3969 - accuracy: 0.8180 - val_loss: 0.5698 - val_accuracy: 0.6681\n",
            "Epoch 12/20\n",
            "338/338 [==============================] - 2s 5ms/step - loss: 0.3905 - accuracy: 0.8200 - val_loss: 0.5108 - val_accuracy: 0.7211\n",
            "Epoch 13/20\n",
            "338/338 [==============================] - 2s 5ms/step - loss: 0.3857 - accuracy: 0.8225 - val_loss: 0.4961 - val_accuracy: 0.7288\n",
            "Epoch 14/20\n",
            "338/338 [==============================] - 2s 6ms/step - loss: 0.3803 - accuracy: 0.8260 - val_loss: 0.5007 - val_accuracy: 0.7290\n",
            "Epoch 15/20\n",
            "338/338 [==============================] - 2s 7ms/step - loss: 0.3769 - accuracy: 0.8293 - val_loss: 0.5303 - val_accuracy: 0.7094\n",
            "Epoch 16/20\n",
            "338/338 [==============================] - 2s 5ms/step - loss: 0.3728 - accuracy: 0.8311 - val_loss: 0.6085 - val_accuracy: 0.6550\n",
            "Epoch 17/20\n",
            "338/338 [==============================] - 2s 5ms/step - loss: 0.3677 - accuracy: 0.8343 - val_loss: 0.5309 - val_accuracy: 0.7092\n",
            "Epoch 18/20\n",
            "338/338 [==============================] - 2s 5ms/step - loss: 0.3639 - accuracy: 0.8384 - val_loss: 0.4966 - val_accuracy: 0.7407\n",
            "Epoch 19/20\n",
            "338/338 [==============================] - 2s 5ms/step - loss: 0.3600 - accuracy: 0.8395 - val_loss: 0.4517 - val_accuracy: 0.7782\n",
            "Epoch 20/20\n",
            "338/338 [==============================] - 2s 5ms/step - loss: 0.3568 - accuracy: 0.8419 - val_loss: 0.4966 - val_accuracy: 0.7377\n"
          ]
        },
        {
          "output_type": "execute_result",
          "data": {
            "text/plain": [
              "<keras.src.callbacks.History at 0x7d1ddc831f00>"
            ]
          },
          "metadata": {},
          "execution_count": 22
        }
      ],
      "source": [
        "# Fit the model using the resampled data\n",
        "model2.fit(X_train_resampled, y_train_resampled,\n",
        "          epochs=20,\n",
        "          batch_size=64,\n",
        "          validation_split=0.2)"
      ]
    },
    {
      "cell_type": "code",
      "execution_count": 23,
      "metadata": {
        "colab": {
          "base_uri": "https://localhost:8080/"
        },
        "outputId": "7c31853c-513a-4ced-9e5a-89e4ce739fcb",
        "scrolled": false,
        "id": "ivN8GnNvqAK9"
      },
      "outputs": [
        {
          "output_type": "stream",
          "name": "stdout",
          "text": [
            "139/139 [==============================] - 1s 2ms/step\n"
          ]
        }
      ],
      "source": [
        "# Predict on the test set\n",
        "y_pred = (model2.predict(X_test) > 0.5).astype(\"int32\")"
      ]
    },
    {
      "cell_type": "code",
      "execution_count": 24,
      "metadata": {
        "colab": {
          "base_uri": "https://localhost:8080/",
          "height": 453
        },
        "outputId": "38c4c203-b09c-43d9-8cc7-c0fb0d1cac3b",
        "id": "biJrfIVmqAK9"
      },
      "outputs": [
        {
          "output_type": "display_data",
          "data": {
            "text/plain": [
              "<Figure size 640x480 with 2 Axes>"
            ],
            "image/png": "[encoded data removed]"
          },
          "metadata": {}
        }
      ],
      "source": [
        "# Calculate the confusion matrix\n",
        "cm = confusion_matrix(y_test, y_pred)\n",
        "\n",
        "# Plot the confusion matrix\n",
        "disp = ConfusionMatrixDisplay(confusion_matrix=cm)\n",
        "disp.plot(cmap=plt.cm.Blues)\n",
        "plt.show()"
      ]
    },
    {
      "cell_type": "code",
      "execution_count": 25,
      "metadata": {
        "colab": {
          "base_uri": "https://localhost:8080/"
        },
        "outputId": "213320e0-8946-440b-f238-f1dd83eb28ea",
        "scrolled": true,
        "id": "4DcfuFuIqAK-"
      },
      "outputs": [
        {
          "output_type": "stream",
          "name": "stdout",
          "text": [
            "Accuracy: 0.8508\n",
            "Precision: 0.6752\n",
            "Recall: 0.7200\n",
            "F1 Score: 0.6969\n"
          ]
        }
      ],
      "source": [
        "# Calculate accuracy\n",
        "accuracy = accuracy_score(y_test, y_pred)\n",
        "print(f'Accuracy: {accuracy:.4f}')\n",
        "\n",
        "# Calculate precision\n",
        "precision = precision_score(y_test, y_pred)\n",
        "print(f'Precision: {precision:.4f}')\n",
        "\n",
        "# Calculate recall\n",
        "recall = recall_score(y_test, y_pred)\n",
        "print(f'Recall: {recall:.4f}')\n",
        "\n",
        "# Calculate F1 score\n",
        "f1 = f1_score(y_test, y_pred)\n",
        "print(f'F1 Score: {f1:.4f}')"
      ]
    },
    {
      "cell_type": "markdown",
      "source": [
        "## Single LSTM Layer: 64 Neurons"
      ],
      "metadata": {
        "id": "ZH0T98rRsXYn"
      }
    },
    {
      "cell_type": "code",
      "execution_count": 26,
      "metadata": {
        "colab": {
          "base_uri": "https://localhost:8080/"
        },
        "outputId": "1a82b293-f6f7-4244-ba53-cdb1eda1f5eb",
        "id": "sd4qlhXPsXYo"
      },
      "outputs": [
        {
          "output_type": "stream",
          "name": "stdout",
          "text": [
            "Model: \"sequential_2\"\n",
            "_________________________________________________________________\n",
            " Layer (type)                Output Shape              Param #   \n",
            "=================================================================\n",
            " lstm_2 (LSTM)               (None, 64)                93440     \n",
            "                                                                 \n",
            " dense_2 (Dense)             (None, 1)                 65        \n",
            "                                                                 \n",
            "=================================================================\n",
            "Total params: 93505 (365.25 KB)\n",
            "Trainable params: 93505 (365.25 KB)\n",
            "Non-trainable params: 0 (0.00 Byte)\n",
            "_________________________________________________________________\n"
          ]
        }
      ],
      "source": [
        "# Define the LSTM model\n",
        "model3 = Sequential()\n",
        "\n",
        "#Define LSTM layer\n",
        "model3.add(LSTM(64, input_shape=(1, embedding_dim)))\n",
        "\n",
        "# Add the output layer with sigmoid activation for binary classification\n",
        "model3.add(Dense(1, activation='sigmoid'))\n",
        "\n",
        "# Compile the model\n",
        "model3.compile(loss='binary_crossentropy', optimizer='adam', metrics=['accuracy'])\n",
        "\n",
        "model3.summary()"
      ]
    },
    {
      "cell_type": "code",
      "execution_count": 27,
      "metadata": {
        "colab": {
          "base_uri": "https://localhost:8080/"
        },
        "outputId": "e9153c3b-bfc6-4478-ef73-2beae221ed37",
        "id": "9OWDQC_CsXYo"
      },
      "outputs": [
        {
          "output_type": "stream",
          "name": "stdout",
          "text": [
            "Epoch 1/20\n",
            "338/338 [==============================] - 4s 6ms/step - loss: 0.5778 - accuracy: 0.6932 - val_loss: 0.6992 - val_accuracy: 0.4615\n",
            "Epoch 2/20\n",
            "338/338 [==============================] - 2s 5ms/step - loss: 0.4966 - accuracy: 0.7563 - val_loss: 0.6943 - val_accuracy: 0.5009\n",
            "Epoch 3/20\n",
            "338/338 [==============================] - 2s 5ms/step - loss: 0.4704 - accuracy: 0.7717 - val_loss: 0.6989 - val_accuracy: 0.5229\n",
            "Epoch 4/20\n",
            "338/338 [==============================] - 2s 6ms/step - loss: 0.4552 - accuracy: 0.7804 - val_loss: 0.6773 - val_accuracy: 0.5540\n",
            "Epoch 5/20\n",
            "338/338 [==============================] - 2s 7ms/step - loss: 0.4441 - accuracy: 0.7893 - val_loss: 0.6561 - val_accuracy: 0.5764\n",
            "Epoch 6/20\n",
            "338/338 [==============================] - 2s 6ms/step - loss: 0.4358 - accuracy: 0.7942 - val_loss: 0.6409 - val_accuracy: 0.5966\n",
            "Epoch 7/20\n",
            "338/338 [==============================] - 2s 5ms/step - loss: 0.4303 - accuracy: 0.7989 - val_loss: 0.7064 - val_accuracy: 0.5616\n",
            "Epoch 8/20\n",
            "338/338 [==============================] - 2s 5ms/step - loss: 0.4241 - accuracy: 0.8025 - val_loss: 0.5194 - val_accuracy: 0.6976\n",
            "Epoch 9/20\n",
            "338/338 [==============================] - 2s 5ms/step - loss: 0.4193 - accuracy: 0.8049 - val_loss: 0.5940 - val_accuracy: 0.6447\n",
            "Epoch 10/20\n",
            "338/338 [==============================] - 2s 5ms/step - loss: 0.4141 - accuracy: 0.8077 - val_loss: 0.5679 - val_accuracy: 0.6663\n",
            "Epoch 11/20\n",
            "338/338 [==============================] - 2s 5ms/step - loss: 0.4079 - accuracy: 0.8112 - val_loss: 0.5379 - val_accuracy: 0.6900\n",
            "Epoch 12/20\n",
            "338/338 [==============================] - 2s 7ms/step - loss: 0.4028 - accuracy: 0.8146 - val_loss: 0.5551 - val_accuracy: 0.6785\n",
            "Epoch 13/20\n",
            "338/338 [==============================] - 2s 6ms/step - loss: 0.3986 - accuracy: 0.8162 - val_loss: 0.6038 - val_accuracy: 0.6482\n",
            "Epoch 14/20\n",
            "338/338 [==============================] - 2s 5ms/step - loss: 0.3929 - accuracy: 0.8210 - val_loss: 0.5468 - val_accuracy: 0.6890\n",
            "Epoch 15/20\n",
            "338/338 [==============================] - 2s 5ms/step - loss: 0.3887 - accuracy: 0.8227 - val_loss: 0.5200 - val_accuracy: 0.7137\n",
            "Epoch 16/20\n",
            "338/338 [==============================] - 2s 5ms/step - loss: 0.3857 - accuracy: 0.8224 - val_loss: 0.5010 - val_accuracy: 0.7277\n",
            "Epoch 17/20\n",
            "338/338 [==============================] - 2s 5ms/step - loss: 0.3807 - accuracy: 0.8284 - val_loss: 0.5456 - val_accuracy: 0.6966\n",
            "Epoch 18/20\n",
            "338/338 [==============================] - 2s 5ms/step - loss: 0.3776 - accuracy: 0.8280 - val_loss: 0.5322 - val_accuracy: 0.7068\n",
            "Epoch 19/20\n",
            "338/338 [==============================] - 2s 6ms/step - loss: 0.3734 - accuracy: 0.8321 - val_loss: 0.4995 - val_accuracy: 0.7357\n",
            "Epoch 20/20\n",
            "338/338 [==============================] - 2s 7ms/step - loss: 0.3694 - accuracy: 0.8344 - val_loss: 0.4629 - val_accuracy: 0.7634\n"
          ]
        },
        {
          "output_type": "execute_result",
          "data": {
            "text/plain": [
              "<keras.src.callbacks.History at 0x7d1ddc0b86d0>"
            ]
          },
          "metadata": {},
          "execution_count": 27
        }
      ],
      "source": [
        "# Fit the model using the resampled data\n",
        "model3.fit(X_train_resampled, y_train_resampled,\n",
        "          epochs=20,\n",
        "          batch_size=64,\n",
        "          validation_split=0.2)"
      ]
    },
    {
      "cell_type": "code",
      "execution_count": 28,
      "metadata": {
        "colab": {
          "base_uri": "https://localhost:8080/"
        },
        "outputId": "d64e4247-a2b9-4910-ef0a-15e0df3a9340",
        "scrolled": false,
        "id": "Ws_SxbmqsXYo"
      },
      "outputs": [
        {
          "output_type": "stream",
          "name": "stdout",
          "text": [
            "139/139 [==============================] - 1s 2ms/step\n"
          ]
        }
      ],
      "source": [
        "# Predict on the test set\n",
        "y_pred = (model3.predict(X_test) > 0.5).astype(\"int32\")"
      ]
    },
    {
      "cell_type": "code",
      "execution_count": 29,
      "metadata": {
        "colab": {
          "base_uri": "https://localhost:8080/",
          "height": 449
        },
        "outputId": "b5fc5b3d-e1b7-4f91-c8fd-14c262d2f733",
        "id": "3PW1Ud2psXYp"
      },
      "outputs": [
        {
          "output_type": "display_data",
          "data": {
            "text/plain": [
              "<Figure size 640x480 with 2 Axes>"
            ],
            "image/png": "[encoded data removed]"
          },
          "metadata": {}
        }
      ],
      "source": [
        "# Calculate the confusion matrix\n",
        "cm = confusion_matrix(y_test, y_pred)\n",
        "\n",
        "# Plot the confusion matrix\n",
        "disp = ConfusionMatrixDisplay(confusion_matrix=cm)\n",
        "disp.plot(cmap=plt.cm.Blues)\n",
        "plt.show()"
      ]
    },
    {
      "cell_type": "code",
      "execution_count": 30,
      "metadata": {
        "colab": {
          "base_uri": "https://localhost:8080/"
        },
        "outputId": "cd2186a7-4b06-4d86-9471-cfe961ccc3bb",
        "scrolled": true,
        "id": "_uEHlBhRsXYp"
      },
      "outputs": [
        {
          "output_type": "stream",
          "name": "stdout",
          "text": [
            "Accuracy: 0.8294\n",
            "Precision: 0.6150\n",
            "Recall: 0.7588\n",
            "F1 Score: 0.6794\n"
          ]
        }
      ],
      "source": [
        "# Calculate accuracy\n",
        "accuracy = accuracy_score(y_test, y_pred)\n",
        "print(f'Accuracy: {accuracy:.4f}')\n",
        "\n",
        "# Calculate precision\n",
        "precision = precision_score(y_test, y_pred)\n",
        "print(f'Precision: {precision:.4f}')\n",
        "\n",
        "# Calculate recall\n",
        "recall = recall_score(y_test, y_pred)\n",
        "print(f'Recall: {recall:.4f}')\n",
        "\n",
        "# Calculate F1 score\n",
        "f1 = f1_score(y_test, y_pred)\n",
        "print(f'F1 Score: {f1:.4f}')"
      ]
    },
    {
      "cell_type": "markdown",
      "source": [
        "## Two LSTM Layers: 256 and 128 Neurons"
      ],
      "metadata": {
        "id": "a_sE2QkttOkG"
      }
    },
    {
      "cell_type": "code",
      "execution_count": 31,
      "metadata": {
        "colab": {
          "base_uri": "https://localhost:8080/"
        },
        "outputId": "ef7328c4-1339-43fd-aa0e-bee288811cd3",
        "id": "khoYPhxDtVhH"
      },
      "outputs": [
        {
          "output_type": "stream",
          "name": "stdout",
          "text": [
            "Model: \"sequential_3\"\n",
            "_________________________________________________________________\n",
            " Layer (type)                Output Shape              Param #   \n",
            "=================================================================\n",
            " lstm_3 (LSTM)               (None, 1, 256)            570368    \n",
            "                                                                 \n",
            " lstm_4 (LSTM)               (None, 128)               197120    \n",
            "                                                                 \n",
            " dense_3 (Dense)             (None, 1)                 129       \n",
            "                                                                 \n",
            "=================================================================\n",
            "Total params: 767617 (2.93 MB)\n",
            "Trainable params: 767617 (2.93 MB)\n",
            "Non-trainable params: 0 (0.00 Byte)\n",
            "_________________________________________________________________\n"
          ]
        }
      ],
      "source": [
        "# Define the LSTM model\n",
        "model4 = Sequential()\n",
        "\n",
        "#Define LSTM layer\n",
        "model4.add(LSTM(256, input_shape=(1, embedding_dim), return_sequences=True))\n",
        "\n",
        "model4.add(LSTM(128, input_shape=(1, embedding_dim)))\n",
        "\n",
        "# Add the output layer with sigmoid activation for binary classification\n",
        "model4.add(Dense(1, activation='sigmoid'))\n",
        "\n",
        "# Compile the model\n",
        "model4.compile(loss='binary_crossentropy', optimizer='adam', metrics=['accuracy'])\n",
        "\n",
        "model4.summary()"
      ]
    },
    {
      "cell_type": "code",
      "execution_count": 32,
      "metadata": {
        "colab": {
          "base_uri": "https://localhost:8080/"
        },
        "outputId": "19e96df7-da07-4823-8816-3a3f3b1ceaa7",
        "id": "gnYUvA8ztVhH"
      },
      "outputs": [
        {
          "output_type": "stream",
          "name": "stdout",
          "text": [
            "Epoch 1/20\n",
            "338/338 [==============================] - 6s 8ms/step - loss: 0.5244 - accuracy: 0.7347 - val_loss: 0.7628 - val_accuracy: 0.5259\n",
            "Epoch 2/20\n",
            "338/338 [==============================] - 3s 8ms/step - loss: 0.4527 - accuracy: 0.7809 - val_loss: 0.6500 - val_accuracy: 0.6260\n",
            "Epoch 3/20\n",
            "338/338 [==============================] - 3s 9ms/step - loss: 0.4333 - accuracy: 0.7921 - val_loss: 0.5940 - val_accuracy: 0.6680\n",
            "Epoch 4/20\n",
            "338/338 [==============================] - 2s 6ms/step - loss: 0.4175 - accuracy: 0.8032 - val_loss: 0.6617 - val_accuracy: 0.6337\n",
            "Epoch 5/20\n",
            "338/338 [==============================] - 2s 6ms/step - loss: 0.4050 - accuracy: 0.8109 - val_loss: 0.4440 - val_accuracy: 0.8032\n",
            "Epoch 6/20\n",
            "338/338 [==============================] - 2s 6ms/step - loss: 0.3898 - accuracy: 0.8208 - val_loss: 0.4526 - val_accuracy: 0.7919\n",
            "Epoch 7/20\n",
            "338/338 [==============================] - 2s 6ms/step - loss: 0.3783 - accuracy: 0.8285 - val_loss: 0.5674 - val_accuracy: 0.7100\n",
            "Epoch 8/20\n",
            "338/338 [==============================] - 2s 7ms/step - loss: 0.3694 - accuracy: 0.8329 - val_loss: 0.4078 - val_accuracy: 0.8182\n",
            "Epoch 9/20\n",
            "338/338 [==============================] - 3s 9ms/step - loss: 0.3611 - accuracy: 0.8371 - val_loss: 0.4171 - val_accuracy: 0.8226\n",
            "Epoch 10/20\n",
            "338/338 [==============================] - 2s 7ms/step - loss: 0.3528 - accuracy: 0.8420 - val_loss: 0.6100 - val_accuracy: 0.6746\n",
            "Epoch 11/20\n",
            "338/338 [==============================] - 2s 6ms/step - loss: 0.3470 - accuracy: 0.8469 - val_loss: 0.4944 - val_accuracy: 0.7543\n",
            "Epoch 12/20\n",
            "338/338 [==============================] - 2s 6ms/step - loss: 0.3389 - accuracy: 0.8498 - val_loss: 0.2930 - val_accuracy: 0.8979\n",
            "Epoch 13/20\n",
            "338/338 [==============================] - 2s 7ms/step - loss: 0.3323 - accuracy: 0.8534 - val_loss: 0.3259 - val_accuracy: 0.8735\n",
            "Epoch 14/20\n",
            "338/338 [==============================] - 2s 6ms/step - loss: 0.3292 - accuracy: 0.8561 - val_loss: 0.2919 - val_accuracy: 0.8929\n",
            "Epoch 15/20\n",
            "338/338 [==============================] - 3s 9ms/step - loss: 0.3211 - accuracy: 0.8613 - val_loss: 0.3649 - val_accuracy: 0.8442\n",
            "Epoch 16/20\n",
            "338/338 [==============================] - 2s 7ms/step - loss: 0.3143 - accuracy: 0.8648 - val_loss: 0.3631 - val_accuracy: 0.8372\n",
            "Epoch 17/20\n",
            "338/338 [==============================] - 2s 6ms/step - loss: 0.3093 - accuracy: 0.8670 - val_loss: 0.3380 - val_accuracy: 0.8640\n",
            "Epoch 18/20\n",
            "338/338 [==============================] - 2s 6ms/step - loss: 0.3062 - accuracy: 0.8686 - val_loss: 0.3828 - val_accuracy: 0.8270\n",
            "Epoch 19/20\n",
            "338/338 [==============================] - 2s 6ms/step - loss: 0.2982 - accuracy: 0.8727 - val_loss: 0.4373 - val_accuracy: 0.7917\n",
            "Epoch 20/20\n",
            "338/338 [==============================] - 3s 8ms/step - loss: 0.2929 - accuracy: 0.8759 - val_loss: 0.2827 - val_accuracy: 0.9014\n"
          ]
        },
        {
          "output_type": "execute_result",
          "data": {
            "text/plain": [
              "<keras.src.callbacks.History at 0x7d1dd2aa2800>"
            ]
          },
          "metadata": {},
          "execution_count": 32
        }
      ],
      "source": [
        "# Fit the model using the resampled data\n",
        "model4.fit(X_train_resampled, y_train_resampled,\n",
        "          epochs=20,\n",
        "          batch_size=64,\n",
        "          validation_split=0.2)"
      ]
    },
    {
      "cell_type": "code",
      "execution_count": 33,
      "metadata": {
        "colab": {
          "base_uri": "https://localhost:8080/"
        },
        "outputId": "0258a1ca-0a96-43db-976b-606bd7e30c69",
        "scrolled": false,
        "id": "RtaSCsxctVhH"
      },
      "outputs": [
        {
          "output_type": "stream",
          "name": "stdout",
          "text": [
            "139/139 [==============================] - 2s 3ms/step\n"
          ]
        }
      ],
      "source": [
        "# Predict on the test set\n",
        "y_pred = (model4.predict(X_test) > 0.5).astype(\"int32\")"
      ]
    },
    {
      "cell_type": "code",
      "execution_count": 34,
      "metadata": {
        "colab": {
          "base_uri": "https://localhost:8080/",
          "height": 449
        },
        "outputId": "829a75ae-cac1-488e-8446-07a684a9d7d5",
        "id": "rzga11bJtVhH"
      },
      "outputs": [
        {
          "output_type": "display_data",
          "data": {
            "text/plain": [
              "<Figure size 640x480 with 2 Axes>"
            ],
            "image/png": "[encoded data removed]"
          },
          "metadata": {}
        }
      ],
      "source": [
        "# Calculate the confusion matrix\n",
        "cm = confusion_matrix(y_test, y_pred)\n",
        "\n",
        "# Plot the confusion matrix\n",
        "disp = ConfusionMatrixDisplay(confusion_matrix=cm)\n",
        "disp.plot(cmap=plt.cm.Blues)\n",
        "plt.show()"
      ]
    },
    {
      "cell_type": "code",
      "execution_count": 35,
      "metadata": {
        "colab": {
          "base_uri": "https://localhost:8080/"
        },
        "outputId": "21046ed7-f416-44a0-f5b9-b19aea7614cf",
        "scrolled": true,
        "id": "gO35wJNwtVhI"
      },
      "outputs": [
        {
          "output_type": "stream",
          "name": "stdout",
          "text": [
            "Accuracy: 0.8325\n",
            "Precision: 0.6168\n",
            "Recall: 0.7843\n",
            "F1 Score: 0.6905\n"
          ]
        }
      ],
      "source": [
        "# Calculate accuracy\n",
        "accuracy = accuracy_score(y_test, y_pred)\n",
        "print(f'Accuracy: {accuracy:.4f}')\n",
        "\n",
        "# Calculate precision\n",
        "precision = precision_score(y_test, y_pred)\n",
        "print(f'Precision: {precision:.4f}')\n",
        "\n",
        "# Calculate recall\n",
        "recall = recall_score(y_test, y_pred)\n",
        "print(f'Recall: {recall:.4f}')\n",
        "\n",
        "# Calculate F1 score\n",
        "f1 = f1_score(y_test, y_pred)\n",
        "print(f'F1 Score: {f1:.4f}')"
      ]
    },
    {
      "cell_type": "markdown",
      "source": [
        "## Add Dense Layer: 256 Neurons"
      ],
      "metadata": {
        "id": "zF5gN26suREo"
      }
    },
    {
      "cell_type": "code",
      "execution_count": 36,
      "metadata": {
        "colab": {
          "base_uri": "https://localhost:8080/"
        },
        "outputId": "aba74f1d-9a4e-4dbd-e4a7-391d31750fbf",
        "id": "CeMzylHIuaLf"
      },
      "outputs": [
        {
          "output_type": "stream",
          "name": "stdout",
          "text": [
            "Model: \"sequential_4\"\n",
            "_________________________________________________________________\n",
            " Layer (type)                Output Shape              Param #   \n",
            "=================================================================\n",
            " lstm_5 (LSTM)               (None, 1, 256)            570368    \n",
            "                                                                 \n",
            " lstm_6 (LSTM)               (None, 128)               197120    \n",
            "                                                                 \n",
            " dense_4 (Dense)             (None, 256)               33024     \n",
            "                                                                 \n",
            " dense_5 (Dense)             (None, 1)                 257       \n",
            "                                                                 \n",
            "=================================================================\n",
            "Total params: 800769 (3.05 MB)\n",
            "Trainable params: 800769 (3.05 MB)\n",
            "Non-trainable params: 0 (0.00 Byte)\n",
            "_________________________________________________________________\n"
          ]
        }
      ],
      "source": [
        "# Define the LSTM model\n",
        "model7 = Sequential()\n",
        "\n",
        "#Define LSTM layer\n",
        "model7.add(LSTM(256, input_shape=(1, embedding_dim), return_sequences=True))\n",
        "\n",
        "model7.add(LSTM(128, input_shape=(1, embedding_dim)))\n",
        "\n",
        "model7.add(Dense(256, activation='relu'))\n",
        "\n",
        "# Add the output layer with sigmoid activation for binary classification\n",
        "model7.add(Dense(1, activation='sigmoid'))\n",
        "\n",
        "# Compile the model\n",
        "model7.compile(loss='binary_crossentropy', optimizer='adam', metrics=['accuracy'])\n",
        "\n",
        "model7.summary()"
      ]
    },
    {
      "cell_type": "code",
      "execution_count": 37,
      "metadata": {
        "colab": {
          "base_uri": "https://localhost:8080/"
        },
        "outputId": "fb0fe93d-7ccc-4266-ea08-1f3808381dad",
        "id": "lkXEiqAmuaLh"
      },
      "outputs": [
        {
          "output_type": "stream",
          "name": "stdout",
          "text": [
            "Epoch 1/20\n",
            "338/338 [==============================] - 6s 9ms/step - loss: 0.5092 - accuracy: 0.7434 - val_loss: 0.6117 - val_accuracy: 0.6957\n",
            "Epoch 2/20\n",
            "338/338 [==============================] - 2s 7ms/step - loss: 0.4503 - accuracy: 0.7801 - val_loss: 0.7105 - val_accuracy: 0.6345\n",
            "Epoch 3/20\n",
            "338/338 [==============================] - 3s 9ms/step - loss: 0.4250 - accuracy: 0.7980 - val_loss: 0.5774 - val_accuracy: 0.7022\n",
            "Epoch 4/20\n",
            "338/338 [==============================] - 3s 7ms/step - loss: 0.4056 - accuracy: 0.8120 - val_loss: 0.6275 - val_accuracy: 0.6487\n",
            "Epoch 5/20\n",
            "338/338 [==============================] - 2s 6ms/step - loss: 0.3909 - accuracy: 0.8227 - val_loss: 0.4403 - val_accuracy: 0.8111\n",
            "Epoch 6/20\n",
            "338/338 [==============================] - 2s 7ms/step - loss: 0.3762 - accuracy: 0.8319 - val_loss: 0.6310 - val_accuracy: 0.6755\n",
            "Epoch 7/20\n",
            "338/338 [==============================] - 2s 6ms/step - loss: 0.3668 - accuracy: 0.8375 - val_loss: 0.4759 - val_accuracy: 0.7880\n",
            "Epoch 8/20\n",
            "338/338 [==============================] - 3s 8ms/step - loss: 0.3560 - accuracy: 0.8425 - val_loss: 0.4502 - val_accuracy: 0.8023\n",
            "Epoch 9/20\n",
            "338/338 [==============================] - 4s 12ms/step - loss: 0.3492 - accuracy: 0.8487 - val_loss: 0.6502 - val_accuracy: 0.6700\n",
            "Epoch 10/20\n",
            "338/338 [==============================] - 2s 7ms/step - loss: 0.3433 - accuracy: 0.8502 - val_loss: 0.3350 - val_accuracy: 0.8670\n",
            "Epoch 11/20\n",
            "338/338 [==============================] - 2s 6ms/step - loss: 0.3316 - accuracy: 0.8567 - val_loss: 0.3546 - val_accuracy: 0.8685\n",
            "Epoch 12/20\n",
            "338/338 [==============================] - 2s 7ms/step - loss: 0.3241 - accuracy: 0.8610 - val_loss: 0.4287 - val_accuracy: 0.8110\n",
            "Epoch 13/20\n",
            "338/338 [==============================] - 2s 6ms/step - loss: 0.3221 - accuracy: 0.8609 - val_loss: 0.2969 - val_accuracy: 0.8807\n",
            "Epoch 14/20\n",
            "338/338 [==============================] - 3s 9ms/step - loss: 0.3128 - accuracy: 0.8651 - val_loss: 0.3911 - val_accuracy: 0.8270\n",
            "Epoch 15/20\n",
            "338/338 [==============================] - 3s 8ms/step - loss: 0.3045 - accuracy: 0.8720 - val_loss: 0.2356 - val_accuracy: 0.9245\n",
            "Epoch 16/20\n",
            "338/338 [==============================] - 2s 7ms/step - loss: 0.2981 - accuracy: 0.8730 - val_loss: 0.2841 - val_accuracy: 0.8931\n",
            "Epoch 17/20\n",
            "338/338 [==============================] - 2s 7ms/step - loss: 0.2916 - accuracy: 0.8772 - val_loss: 0.3339 - val_accuracy: 0.8574\n",
            "Epoch 18/20\n",
            "338/338 [==============================] - 2s 7ms/step - loss: 0.2896 - accuracy: 0.8768 - val_loss: 0.3626 - val_accuracy: 0.8450\n",
            "Epoch 19/20\n",
            "338/338 [==============================] - 2s 7ms/step - loss: 0.2824 - accuracy: 0.8821 - val_loss: 0.3172 - val_accuracy: 0.8788\n",
            "Epoch 20/20\n",
            "338/338 [==============================] - 3s 9ms/step - loss: 0.2746 - accuracy: 0.8846 - val_loss: 0.3482 - val_accuracy: 0.8515\n"
          ]
        },
        {
          "output_type": "execute_result",
          "data": {
            "text/plain": [
              "<keras.src.callbacks.History at 0x7d1dc6101a20>"
            ]
          },
          "metadata": {},
          "execution_count": 37
        }
      ],
      "source": [
        "# Fit the model using the resampled data\n",
        "model7.fit(X_train_resampled, y_train_resampled,\n",
        "          epochs=20,\n",
        "          batch_size=64,\n",
        "          validation_split=0.2)"
      ]
    },
    {
      "cell_type": "code",
      "execution_count": 38,
      "metadata": {
        "colab": {
          "base_uri": "https://localhost:8080/"
        },
        "outputId": "b28a24c5-ff74-4cbf-fc71-6c65a1a55367",
        "scrolled": false,
        "id": "DnZ764J_uaLi"
      },
      "outputs": [
        {
          "output_type": "stream",
          "name": "stdout",
          "text": [
            "139/139 [==============================] - 1s 2ms/step\n"
          ]
        }
      ],
      "source": [
        "# Predict on the test set\n",
        "y_pred = (model7.predict(X_test) > 0.5).astype(\"int32\")"
      ]
    },
    {
      "cell_type": "code",
      "execution_count": 39,
      "metadata": {
        "colab": {
          "base_uri": "https://localhost:8080/",
          "height": 452
        },
        "outputId": "8404246e-814e-47cb-ca17-fada5fb9cc24",
        "id": "6jhYyzOsuaLj"
      },
      "outputs": [
        {
          "output_type": "display_data",
          "data": {
            "text/plain": [
              "<Figure size 640x480 with 2 Axes>"
            ],
            "image/png": "[encoded data removed]"
          },
          "metadata": {}
        }
      ],
      "source": [
        "# Calculate the confusion matrix\n",
        "cm = confusion_matrix(y_test, y_pred)\n",
        "\n",
        "# Plot the confusion matrix\n",
        "disp = ConfusionMatrixDisplay(confusion_matrix=cm)\n",
        "disp.plot(cmap=plt.cm.Blues)\n",
        "plt.show()"
      ]
    },
    {
      "cell_type": "code",
      "execution_count": 40,
      "metadata": {
        "colab": {
          "base_uri": "https://localhost:8080/"
        },
        "outputId": "725b5b35-cd8e-4c8c-bb82-4ab616347805",
        "scrolled": true,
        "id": "BJw1fp_cuaLk"
      },
      "outputs": [
        {
          "output_type": "stream",
          "name": "stdout",
          "text": [
            "Accuracy: 0.8508\n",
            "Precision: 0.6768\n",
            "Recall: 0.7152\n",
            "F1 Score: 0.6955\n"
          ]
        }
      ],
      "source": [
        "# Calculate accuracy\n",
        "accuracy = accuracy_score(y_test, y_pred)\n",
        "print(f'Accuracy: {accuracy:.4f}')\n",
        "\n",
        "# Calculate precision\n",
        "precision = precision_score(y_test, y_pred)\n",
        "print(f'Precision: {precision:.4f}')\n",
        "\n",
        "# Calculate recall\n",
        "recall = recall_score(y_test, y_pred)\n",
        "print(f'Recall: {recall:.4f}')\n",
        "\n",
        "# Calculate F1 score\n",
        "f1 = f1_score(y_test, y_pred)\n",
        "print(f'F1 Score: {f1:.4f}')"
      ]
    },
    {
      "cell_type": "markdown",
      "source": [
        "## Dense Layer: 128"
      ],
      "metadata": {
        "id": "NuxdUS4ewBs_"
      }
    },
    {
      "cell_type": "code",
      "execution_count": 41,
      "metadata": {
        "colab": {
          "base_uri": "https://localhost:8080/"
        },
        "outputId": "364d790c-01a6-4aa0-aee9-3d75a0cc5934",
        "id": "7D8o7eRAwE9e"
      },
      "outputs": [
        {
          "output_type": "stream",
          "name": "stdout",
          "text": [
            "Model: \"sequential_5\"\n",
            "_________________________________________________________________\n",
            " Layer (type)                Output Shape              Param #   \n",
            "=================================================================\n",
            " lstm_7 (LSTM)               (None, 1, 256)            570368    \n",
            "                                                                 \n",
            " lstm_8 (LSTM)               (None, 128)               197120    \n",
            "                                                                 \n",
            " dense_6 (Dense)             (None, 128)               16512     \n",
            "                                                                 \n",
            " dense_7 (Dense)             (None, 1)                 129       \n",
            "                                                                 \n",
            "=================================================================\n",
            "Total params: 784129 (2.99 MB)\n",
            "Trainable params: 784129 (2.99 MB)\n",
            "Non-trainable params: 0 (0.00 Byte)\n",
            "_________________________________________________________________\n"
          ]
        }
      ],
      "source": [
        "# Define the LSTM model\n",
        "model8 = Sequential()\n",
        "\n",
        "#Define LSTM layer\n",
        "model8.add(LSTM(256, input_shape=(1, embedding_dim), return_sequences=True))\n",
        "\n",
        "model8.add(LSTM(128, input_shape=(1, embedding_dim)))\n",
        "\n",
        "model8.add(Dense(128, activation='relu'))\n",
        "\n",
        "# Add the output layer with sigmoid activation for binary classification\n",
        "model8.add(Dense(1, activation='sigmoid'))\n",
        "\n",
        "# Compile the model\n",
        "model8.compile(loss='binary_crossentropy', optimizer='adam', metrics=['accuracy'])\n",
        "\n",
        "model8.summary()"
      ]
    },
    {
      "cell_type": "code",
      "execution_count": 42,
      "metadata": {
        "colab": {
          "base_uri": "https://localhost:8080/"
        },
        "outputId": "1752c8e5-37b6-431e-ded1-1a3b206baa6c",
        "id": "wJusT4xBwE9e"
      },
      "outputs": [
        {
          "output_type": "stream",
          "name": "stdout",
          "text": [
            "Epoch 1/20\n",
            "338/338 [==============================] - 8s 11ms/step - loss: 0.5108 - accuracy: 0.7422 - val_loss: 0.6448 - val_accuracy: 0.6694\n",
            "Epoch 2/20\n",
            "338/338 [==============================] - 2s 7ms/step - loss: 0.4461 - accuracy: 0.7848 - val_loss: 0.6142 - val_accuracy: 0.6987\n",
            "Epoch 3/20\n",
            "338/338 [==============================] - 2s 7ms/step - loss: 0.4229 - accuracy: 0.8036 - val_loss: 0.6688 - val_accuracy: 0.6524\n",
            "Epoch 4/20\n",
            "338/338 [==============================] - 2s 7ms/step - loss: 0.4034 - accuracy: 0.8148 - val_loss: 0.4995 - val_accuracy: 0.7682\n",
            "Epoch 5/20\n",
            "338/338 [==============================] - 3s 7ms/step - loss: 0.3907 - accuracy: 0.8215 - val_loss: 0.5003 - val_accuracy: 0.7701\n",
            "Epoch 6/20\n",
            "338/338 [==============================] - 3s 9ms/step - loss: 0.3776 - accuracy: 0.8308 - val_loss: 0.5319 - val_accuracy: 0.7423\n",
            "Epoch 7/20\n",
            "338/338 [==============================] - 2s 7ms/step - loss: 0.3675 - accuracy: 0.8364 - val_loss: 0.4783 - val_accuracy: 0.7638\n",
            "Epoch 8/20\n",
            "338/338 [==============================] - 2s 6ms/step - loss: 0.3594 - accuracy: 0.8435 - val_loss: 0.3725 - val_accuracy: 0.8594\n",
            "Epoch 9/20\n",
            "338/338 [==============================] - 3s 9ms/step - loss: 0.3508 - accuracy: 0.8490 - val_loss: 0.3942 - val_accuracy: 0.8437\n",
            "Epoch 10/20\n",
            "338/338 [==============================] - 4s 13ms/step - loss: 0.3438 - accuracy: 0.8497 - val_loss: 0.2979 - val_accuracy: 0.8999\n",
            "Epoch 11/20\n",
            "338/338 [==============================] - 4s 13ms/step - loss: 0.3364 - accuracy: 0.8560 - val_loss: 0.3236 - val_accuracy: 0.8909\n",
            "Epoch 12/20\n",
            "338/338 [==============================] - 4s 11ms/step - loss: 0.3301 - accuracy: 0.8580 - val_loss: 0.5028 - val_accuracy: 0.7799\n",
            "Epoch 13/20\n",
            "338/338 [==============================] - 2s 7ms/step - loss: 0.3258 - accuracy: 0.8600 - val_loss: 0.2868 - val_accuracy: 0.9023\n",
            "Epoch 14/20\n",
            "338/338 [==============================] - 2s 6ms/step - loss: 0.3184 - accuracy: 0.8631 - val_loss: 0.2844 - val_accuracy: 0.8936\n",
            "Epoch 15/20\n",
            "338/338 [==============================] - 3s 10ms/step - loss: 0.3111 - accuracy: 0.8691 - val_loss: 0.4599 - val_accuracy: 0.7743\n",
            "Epoch 16/20\n",
            "338/338 [==============================] - 2s 6ms/step - loss: 0.3060 - accuracy: 0.8715 - val_loss: 0.4008 - val_accuracy: 0.8189\n",
            "Epoch 17/20\n",
            "338/338 [==============================] - 2s 7ms/step - loss: 0.2985 - accuracy: 0.8736 - val_loss: 0.3106 - val_accuracy: 0.8862\n",
            "Epoch 18/20\n",
            "338/338 [==============================] - 2s 6ms/step - loss: 0.2905 - accuracy: 0.8769 - val_loss: 0.2797 - val_accuracy: 0.8942\n",
            "Epoch 19/20\n",
            "338/338 [==============================] - 2s 6ms/step - loss: 0.2877 - accuracy: 0.8789 - val_loss: 0.3135 - val_accuracy: 0.8725\n",
            "Epoch 20/20\n",
            "338/338 [==============================] - 3s 7ms/step - loss: 0.2813 - accuracy: 0.8820 - val_loss: 0.2478 - val_accuracy: 0.9251\n"
          ]
        },
        {
          "output_type": "execute_result",
          "data": {
            "text/plain": [
              "<keras.src.callbacks.History at 0x7d1dd003e9e0>"
            ]
          },
          "metadata": {},
          "execution_count": 42
        }
      ],
      "source": [
        "# Fit the model using the resampled data\n",
        "model8.fit(X_train_resampled, y_train_resampled,\n",
        "          epochs=20,\n",
        "          batch_size=64,\n",
        "          validation_split=0.2)"
      ]
    },
    {
      "cell_type": "code",
      "execution_count": 43,
      "metadata": {
        "colab": {
          "base_uri": "https://localhost:8080/"
        },
        "outputId": "cb0c4776-413c-40b4-fe69-46b9494ee296",
        "scrolled": false,
        "id": "wT0NzRc-wE9f"
      },
      "outputs": [
        {
          "output_type": "stream",
          "name": "stdout",
          "text": [
            "139/139 [==============================] - 1s 2ms/step\n"
          ]
        }
      ],
      "source": [
        "# Predict on the test set\n",
        "y_pred = (model8.predict(X_test) > 0.5).astype(\"int32\")"
      ]
    },
    {
      "cell_type": "code",
      "execution_count": 44,
      "metadata": {
        "colab": {
          "base_uri": "https://localhost:8080/",
          "height": 449
        },
        "outputId": "d0af4825-5a19-4601-a890-f6adc3e618db",
        "id": "fhVWN4NZwE9f"
      },
      "outputs": [
        {
          "output_type": "display_data",
          "data": {
            "text/plain": [
              "<Figure size 640x480 with 2 Axes>"
            ],
            "image/png": "[encoded data removed]"
          },
          "metadata": {}
        }
      ],
      "source": [
        "# Calculate the confusion matrix\n",
        "cm = confusion_matrix(y_test, y_pred)\n",
        "\n",
        "# Plot the confusion matrix\n",
        "disp = ConfusionMatrixDisplay(confusion_matrix=cm)\n",
        "disp.plot(cmap=plt.cm.Blues)\n",
        "plt.show()"
      ]
    },
    {
      "cell_type": "code",
      "execution_count": 45,
      "metadata": {
        "colab": {
          "base_uri": "https://localhost:8080/"
        },
        "outputId": "cccbb03c-ef9a-46ad-8384-a2238eb96fb5",
        "scrolled": true,
        "id": "BMDG9SegwE9f"
      },
      "outputs": [
        {
          "output_type": "stream",
          "name": "stdout",
          "text": [
            "Accuracy: 0.8278\n",
            "Precision: 0.6080\n",
            "Recall: 0.7805\n",
            "F1 Score: 0.6835\n"
          ]
        }
      ],
      "source": [
        "# Calculate accuracy\n",
        "accuracy = accuracy_score(y_test, y_pred)\n",
        "print(f'Accuracy: {accuracy:.4f}')\n",
        "\n",
        "# Calculate precision\n",
        "precision = precision_score(y_test, y_pred)\n",
        "print(f'Precision: {precision:.4f}')\n",
        "\n",
        "# Calculate recall\n",
        "recall = recall_score(y_test, y_pred)\n",
        "print(f'Recall: {recall:.4f}')\n",
        "\n",
        "# Calculate F1 score\n",
        "f1 = f1_score(y_test, y_pred)\n",
        "print(f'F1 Score: {f1:.4f}')"
      ]
    },
    {
      "cell_type": "markdown",
      "source": [
        "## Dropout Layer: 0.2"
      ],
      "metadata": {
        "id": "Qi7xjU6ywrik"
      }
    },
    {
      "cell_type": "code",
      "execution_count": 66,
      "metadata": {
        "colab": {
          "base_uri": "https://localhost:8080/"
        },
        "outputId": "8a244b1f-55d2-4047-ffef-42f352fc997c",
        "id": "5i5mpltewril"
      },
      "outputs": [
        {
          "output_type": "stream",
          "name": "stdout",
          "text": [
            "Model: \"sequential_9\"\n",
            "_________________________________________________________________\n",
            " Layer (type)                Output Shape              Param #   \n",
            "=================================================================\n",
            " lstm_15 (LSTM)              (None, 1, 256)            570368    \n",
            "                                                                 \n",
            " lstm_16 (LSTM)              (None, 128)               197120    \n",
            "                                                                 \n",
            " dense_14 (Dense)            (None, 256)               33024     \n",
            "                                                                 \n",
            " dropout_3 (Dropout)         (None, 256)               0         \n",
            "                                                                 \n",
            " dense_15 (Dense)            (None, 1)                 257       \n",
            "                                                                 \n",
            "=================================================================\n",
            "Total params: 800769 (3.05 MB)\n",
            "Trainable params: 800769 (3.05 MB)\n",
            "Non-trainable params: 0 (0.00 Byte)\n",
            "_________________________________________________________________\n"
          ]
        }
      ],
      "source": [
        "# Define the LSTM model\n",
        "model9 = Sequential()\n",
        "\n",
        "#Define LSTM layer\n",
        "model9.add(LSTM(256, input_shape=(1, embedding_dim), return_sequences=True))\n",
        "\n",
        "model9.add(LSTM(128, input_shape=(1, embedding_dim)))\n",
        "\n",
        "model9.add(Dense(128, activation='relu'))\n",
        "\n",
        "model9.add(Dropout(0.2))\n",
        "\n",
        "# Add the output layer with sigmoid activation for binary classification\n",
        "model9.add(Dense(1, activation='sigmoid'))\n",
        "\n",
        "# Compile the model\n",
        "model9.compile(loss='binary_crossentropy', optimizer='adam', metrics=['accuracy'])\n",
        "\n",
        "model9.summary()"
      ]
    },
    {
      "cell_type": "code",
      "execution_count": 47,
      "metadata": {
        "colab": {
          "base_uri": "https://localhost:8080/"
        },
        "outputId": "72ae9d71-e5a9-4c88-a327-17638ccb5639",
        "id": "ssvCpsQMwrim"
      },
      "outputs": [
        {
          "output_type": "stream",
          "name": "stdout",
          "text": [
            "Epoch 1/20\n",
            "338/338 [==============================] - 8s 9ms/step - loss: 0.5099 - accuracy: 0.7411 - val_loss: 0.5872 - val_accuracy: 0.7501\n",
            "Epoch 2/20\n",
            "338/338 [==============================] - 3s 9ms/step - loss: 0.4507 - accuracy: 0.7815 - val_loss: 0.6142 - val_accuracy: 0.6852\n",
            "Epoch 3/20\n",
            "338/338 [==============================] - 3s 8ms/step - loss: 0.4277 - accuracy: 0.7977 - val_loss: 0.5118 - val_accuracy: 0.7756\n",
            "Epoch 4/20\n",
            "338/338 [==============================] - 2s 7ms/step - loss: 0.4064 - accuracy: 0.8132 - val_loss: 0.4003 - val_accuracy: 0.8433\n",
            "Epoch 5/20\n",
            "338/338 [==============================] - 2s 7ms/step - loss: 0.3908 - accuracy: 0.8236 - val_loss: 0.4238 - val_accuracy: 0.8280\n",
            "Epoch 6/20\n",
            "338/338 [==============================] - 2s 7ms/step - loss: 0.3780 - accuracy: 0.8293 - val_loss: 0.4362 - val_accuracy: 0.8248\n",
            "Epoch 7/20\n",
            "338/338 [==============================] - 2s 7ms/step - loss: 0.3687 - accuracy: 0.8361 - val_loss: 0.4932 - val_accuracy: 0.7919\n",
            "Epoch 8/20\n",
            "338/338 [==============================] - 3s 9ms/step - loss: 0.3609 - accuracy: 0.8392 - val_loss: 0.3477 - val_accuracy: 0.8872\n",
            "Epoch 9/20\n",
            "338/338 [==============================] - 2s 6ms/step - loss: 0.3508 - accuracy: 0.8467 - val_loss: 0.5518 - val_accuracy: 0.7290\n",
            "Epoch 10/20\n",
            "338/338 [==============================] - 2s 7ms/step - loss: 0.3412 - accuracy: 0.8521 - val_loss: 0.4538 - val_accuracy: 0.7939\n",
            "Epoch 11/20\n",
            "338/338 [==============================] - 2s 7ms/step - loss: 0.3354 - accuracy: 0.8574 - val_loss: 0.4000 - val_accuracy: 0.8267\n",
            "Epoch 12/20\n",
            "338/338 [==============================] - 2s 7ms/step - loss: 0.3266 - accuracy: 0.8603 - val_loss: 0.6157 - val_accuracy: 0.6781\n",
            "Epoch 13/20\n",
            "338/338 [==============================] - 3s 9ms/step - loss: 0.3206 - accuracy: 0.8637 - val_loss: 0.3144 - val_accuracy: 0.8840\n",
            "Epoch 14/20\n",
            "338/338 [==============================] - 3s 9ms/step - loss: 0.3144 - accuracy: 0.8649 - val_loss: 0.3584 - val_accuracy: 0.8539\n",
            "Epoch 15/20\n",
            "338/338 [==============================] - 2s 7ms/step - loss: 0.3074 - accuracy: 0.8706 - val_loss: 0.3476 - val_accuracy: 0.8524\n",
            "Epoch 16/20\n",
            "338/338 [==============================] - 2s 6ms/step - loss: 0.3031 - accuracy: 0.8707 - val_loss: 0.2884 - val_accuracy: 0.8838\n",
            "Epoch 17/20\n",
            "338/338 [==============================] - 2s 7ms/step - loss: 0.2968 - accuracy: 0.8728 - val_loss: 0.4461 - val_accuracy: 0.7810\n",
            "Epoch 18/20\n",
            "338/338 [==============================] - 2s 7ms/step - loss: 0.2901 - accuracy: 0.8763 - val_loss: 0.2573 - val_accuracy: 0.9195\n",
            "Epoch 19/20\n",
            "338/338 [==============================] - 3s 9ms/step - loss: 0.2850 - accuracy: 0.8796 - val_loss: 0.3378 - val_accuracy: 0.8598\n",
            "Epoch 20/20\n",
            "338/338 [==============================] - 3s 8ms/step - loss: 0.2780 - accuracy: 0.8821 - val_loss: 0.3428 - val_accuracy: 0.8468\n"
          ]
        },
        {
          "output_type": "execute_result",
          "data": {
            "text/plain": [
              "<keras.src.callbacks.History at 0x7d1dcea89ba0>"
            ]
          },
          "metadata": {},
          "execution_count": 47
        }
      ],
      "source": [
        "# Fit the model using the resampled data\n",
        "model9.fit(X_train_resampled, y_train_resampled,\n",
        "          epochs=20,\n",
        "          batch_size=64,\n",
        "          validation_split=0.2)"
      ]
    },
    {
      "cell_type": "code",
      "execution_count": 48,
      "metadata": {
        "colab": {
          "base_uri": "https://localhost:8080/"
        },
        "outputId": "84e4630d-4207-43e0-be7d-e1ecac2feabd",
        "scrolled": false,
        "id": "wcBRR74gwrin"
      },
      "outputs": [
        {
          "output_type": "stream",
          "name": "stdout",
          "text": [
            "139/139 [==============================] - 1s 3ms/step\n"
          ]
        }
      ],
      "source": [
        "# Predict on the test set\n",
        "y_pred = (model9.predict(X_test) > 0.5).astype(\"int32\")"
      ]
    },
    {
      "cell_type": "code",
      "execution_count": 49,
      "metadata": {
        "colab": {
          "base_uri": "https://localhost:8080/",
          "height": 449
        },
        "outputId": "00dd86d5-8ba4-4bbd-b5c1-0ad6115a4c93",
        "id": "Ogl6-EEQwrio"
      },
      "outputs": [
        {
          "output_type": "display_data",
          "data": {
            "text/plain": [
              "<Figure size 640x480 with 2 Axes>"
            ],
            "image/png": "[encoded data removed]"
          },
          "metadata": {}
        }
      ],
      "source": [
        "# Calculate the confusion matrix\n",
        "cm = confusion_matrix(y_test, y_pred)\n",
        "\n",
        "# Plot the confusion matrix\n",
        "disp = ConfusionMatrixDisplay(confusion_matrix=cm)\n",
        "disp.plot(cmap=plt.cm.Blues)\n",
        "plt.show()"
      ]
    },
    {
      "cell_type": "code",
      "execution_count": 50,
      "metadata": {
        "colab": {
          "base_uri": "https://localhost:8080/"
        },
        "outputId": "97480f0c-c131-488f-9d1e-cb71fe7f60d9",
        "scrolled": true,
        "id": "K_-VUtWnwrip"
      },
      "outputs": [
        {
          "output_type": "stream",
          "name": "stdout",
          "text": [
            "Accuracy: 0.8492\n",
            "Precision: 0.6652\n",
            "Recall: 0.7389\n",
            "F1 Score: 0.7001\n"
          ]
        }
      ],
      "source": [
        "# Calculate accuracy\n",
        "accuracy = accuracy_score(y_test, y_pred)\n",
        "print(f'Accuracy: {accuracy:.4f}')\n",
        "\n",
        "# Calculate precision\n",
        "precision = precision_score(y_test, y_pred)\n",
        "print(f'Precision: {precision:.4f}')\n",
        "\n",
        "# Calculate recall\n",
        "recall = recall_score(y_test, y_pred)\n",
        "print(f'Recall: {recall:.4f}')\n",
        "\n",
        "# Calculate F1 score\n",
        "f1 = f1_score(y_test, y_pred)\n",
        "print(f'F1 Score: {f1:.4f}')"
      ]
    },
    {
      "cell_type": "markdown",
      "source": [
        "## Dropout Layer: 0.5"
      ],
      "metadata": {
        "id": "A5wJkOmMxS0N"
      }
    },
    {
      "cell_type": "code",
      "execution_count": 51,
      "metadata": {
        "colab": {
          "base_uri": "https://localhost:8080/"
        },
        "outputId": "8834fdb2-eef2-440d-d83f-ce6484d0cb38",
        "id": "GaKfPtRbxS0O"
      },
      "outputs": [
        {
          "output_type": "stream",
          "name": "stdout",
          "text": [
            "Model: \"sequential_7\"\n",
            "_________________________________________________________________\n",
            " Layer (type)                Output Shape              Param #   \n",
            "=================================================================\n",
            " lstm_11 (LSTM)              (None, 1, 256)            570368    \n",
            "                                                                 \n",
            " lstm_12 (LSTM)              (None, 128)               197120    \n",
            "                                                                 \n",
            " dense_10 (Dense)            (None, 128)               16512     \n",
            "                                                                 \n",
            " dropout_1 (Dropout)         (None, 128)               0         \n",
            "                                                                 \n",
            " dense_11 (Dense)            (None, 1)                 129       \n",
            "                                                                 \n",
            "=================================================================\n",
            "Total params: 784129 (2.99 MB)\n",
            "Trainable params: 784129 (2.99 MB)\n",
            "Non-trainable params: 0 (0.00 Byte)\n",
            "_________________________________________________________________\n"
          ]
        }
      ],
      "source": [
        "# Define the LSTM model\n",
        "model10 = Sequential()\n",
        "\n",
        "#Define LSTM layer\n",
        "model10.add(LSTM(256, input_shape=(1, embedding_dim), return_sequences=True))\n",
        "\n",
        "model10.add(LSTM(128, input_shape=(1, embedding_dim)))\n",
        "\n",
        "model10.add(Dense(128, activation='relu'))\n",
        "\n",
        "model10.add(Dropout(0.5))\n",
        "\n",
        "# Add the output layer with sigmoid activation for binary classification\n",
        "model10.add(Dense(1, activation='sigmoid'))\n",
        "\n",
        "# Compile the model\n",
        "model10.compile(loss='binary_crossentropy', optimizer='adam', metrics=['accuracy'])\n",
        "\n",
        "model10.summary()"
      ]
    },
    {
      "cell_type": "code",
      "execution_count": 52,
      "metadata": {
        "colab": {
          "base_uri": "https://localhost:8080/"
        },
        "outputId": "9d959e17-ac05-4e47-95c1-2a7c29127b9a",
        "id": "41yPg08AxS0P"
      },
      "outputs": [
        {
          "output_type": "stream",
          "name": "stdout",
          "text": [
            "Epoch 1/20\n",
            "338/338 [==============================] - 8s 9ms/step - loss: 0.5183 - accuracy: 0.7425 - val_loss: 0.6333 - val_accuracy: 0.6704\n",
            "Epoch 2/20\n",
            "338/338 [==============================] - 2s 7ms/step - loss: 0.4525 - accuracy: 0.7817 - val_loss: 0.5243 - val_accuracy: 0.7606\n",
            "Epoch 3/20\n",
            "338/338 [==============================] - 2s 7ms/step - loss: 0.4300 - accuracy: 0.7991 - val_loss: 0.5314 - val_accuracy: 0.7510\n",
            "Epoch 4/20\n",
            "338/338 [==============================] - 2s 7ms/step - loss: 0.4103 - accuracy: 0.8116 - val_loss: 0.4411 - val_accuracy: 0.8143\n",
            "Epoch 5/20\n",
            "338/338 [==============================] - 3s 9ms/step - loss: 0.3966 - accuracy: 0.8212 - val_loss: 0.3656 - val_accuracy: 0.8751\n",
            "Epoch 6/20\n",
            "338/338 [==============================] - 3s 7ms/step - loss: 0.3864 - accuracy: 0.8266 - val_loss: 0.5144 - val_accuracy: 0.7468\n",
            "Epoch 7/20\n",
            "338/338 [==============================] - 2s 7ms/step - loss: 0.3800 - accuracy: 0.8305 - val_loss: 0.4919 - val_accuracy: 0.7699\n",
            "Epoch 8/20\n",
            "338/338 [==============================] - 2s 7ms/step - loss: 0.3679 - accuracy: 0.8381 - val_loss: 0.4351 - val_accuracy: 0.8187\n",
            "Epoch 9/20\n",
            "338/338 [==============================] - 2s 7ms/step - loss: 0.3591 - accuracy: 0.8447 - val_loss: 0.3599 - val_accuracy: 0.8587\n",
            "Epoch 10/20\n",
            "338/338 [==============================] - 3s 8ms/step - loss: 0.3518 - accuracy: 0.8474 - val_loss: 0.3702 - val_accuracy: 0.8539\n",
            "Epoch 11/20\n",
            "338/338 [==============================] - 3s 9ms/step - loss: 0.3447 - accuracy: 0.8495 - val_loss: 0.3974 - val_accuracy: 0.8296\n",
            "Epoch 12/20\n",
            "338/338 [==============================] - 3s 9ms/step - loss: 0.3376 - accuracy: 0.8527 - val_loss: 0.4567 - val_accuracy: 0.7851\n",
            "Epoch 13/20\n",
            "338/338 [==============================] - 4s 12ms/step - loss: 0.3282 - accuracy: 0.8584 - val_loss: 0.3739 - val_accuracy: 0.8500\n",
            "Epoch 14/20\n",
            "338/338 [==============================] - 4s 12ms/step - loss: 0.3237 - accuracy: 0.8620 - val_loss: 0.2895 - val_accuracy: 0.8898\n",
            "Epoch 15/20\n",
            "338/338 [==============================] - 5s 14ms/step - loss: 0.3173 - accuracy: 0.8668 - val_loss: 0.5297 - val_accuracy: 0.7403\n",
            "Epoch 16/20\n",
            "338/338 [==============================] - 4s 12ms/step - loss: 0.3107 - accuracy: 0.8682 - val_loss: 0.3803 - val_accuracy: 0.8459\n",
            "Epoch 17/20\n",
            "338/338 [==============================] - 4s 12ms/step - loss: 0.3047 - accuracy: 0.8711 - val_loss: 0.3801 - val_accuracy: 0.8294\n",
            "Epoch 18/20\n",
            "338/338 [==============================] - 5s 15ms/step - loss: 0.3000 - accuracy: 0.8726 - val_loss: 0.4497 - val_accuracy: 0.7810\n",
            "Epoch 19/20\n",
            "338/338 [==============================] - 2s 7ms/step - loss: 0.2947 - accuracy: 0.8763 - val_loss: 0.1974 - val_accuracy: 0.9436\n",
            "Epoch 20/20\n",
            "338/338 [==============================] - 2s 7ms/step - loss: 0.2890 - accuracy: 0.8783 - val_loss: 0.2204 - val_accuracy: 0.9364\n"
          ]
        },
        {
          "output_type": "execute_result",
          "data": {
            "text/plain": [
              "<keras.src.callbacks.History at 0x7d1dca5cc550>"
            ]
          },
          "metadata": {},
          "execution_count": 52
        }
      ],
      "source": [
        "# Fit the model using the resampled data\n",
        "model10.fit(X_train_resampled, y_train_resampled,\n",
        "          epochs=20,\n",
        "          batch_size=64,\n",
        "          validation_split=0.2)"
      ]
    },
    {
      "cell_type": "code",
      "execution_count": 53,
      "metadata": {
        "colab": {
          "base_uri": "https://localhost:8080/"
        },
        "outputId": "17be62a1-963e-4118-d86a-0f52c1331e83",
        "scrolled": false,
        "id": "fNqGjC4KxS0R"
      },
      "outputs": [
        {
          "output_type": "stream",
          "name": "stdout",
          "text": [
            "139/139 [==============================] - 1s 3ms/step\n"
          ]
        }
      ],
      "source": [
        "# Predict on the test set\n",
        "y_pred = (model10.predict(X_test) > 0.5).astype(\"int32\")"
      ]
    },
    {
      "cell_type": "code",
      "execution_count": 54,
      "metadata": {
        "colab": {
          "base_uri": "https://localhost:8080/",
          "height": 449
        },
        "outputId": "d7aa7d29-d9b2-4708-ab14-4ef0627ab302",
        "id": "LZ26dM-mxS0S"
      },
      "outputs": [
        {
          "output_type": "display_data",
          "data": {
            "text/plain": [
              "<Figure size 640x480 with 2 Axes>"
            ],
            "image/png": "[encoded data removed]"
          },
          "metadata": {}
        }
      ],
      "source": [
        "# Calculate the confusion matrix\n",
        "cm = confusion_matrix(y_test, y_pred)\n",
        "\n",
        "# Plot the confusion matrix\n",
        "disp = ConfusionMatrixDisplay(confusion_matrix=cm)\n",
        "disp.plot(cmap=plt.cm.Blues)\n",
        "plt.show()"
      ]
    },
    {
      "cell_type": "code",
      "execution_count": 55,
      "metadata": {
        "colab": {
          "base_uri": "https://localhost:8080/"
        },
        "outputId": "1b3ba334-fb66-4314-c632-25a3f5df74db",
        "scrolled": true,
        "id": "wOrZJOajxS0T"
      },
      "outputs": [
        {
          "output_type": "stream",
          "name": "stdout",
          "text": [
            "Accuracy: 0.8023\n",
            "Precision: 0.5590\n",
            "Recall: 0.8070\n",
            "F1 Score: 0.6605\n"
          ]
        }
      ],
      "source": [
        "# Calculate accuracy\n",
        "accuracy = accuracy_score(y_test, y_pred)\n",
        "print(f'Accuracy: {accuracy:.4f}')\n",
        "\n",
        "# Calculate precision\n",
        "precision = precision_score(y_test, y_pred)\n",
        "print(f'Precision: {precision:.4f}')\n",
        "\n",
        "# Calculate recall\n",
        "recall = recall_score(y_test, y_pred)\n",
        "print(f'Recall: {recall:.4f}')\n",
        "\n",
        "# Calculate F1 score\n",
        "f1 = f1_score(y_test, y_pred)\n",
        "print(f'F1 Score: {f1:.4f}')"
      ]
    },
    {
      "cell_type": "markdown",
      "source": [
        "# Model Tuning\n"
      ],
      "metadata": {
        "id": "BujEwJ-VyIeu"
      }
    },
    {
      "cell_type": "markdown",
      "source": [
        "### Implement early stopping and learning rate reduction techniques, while ensuring that 'y_pred' achieves a balanced precision and recall.\n"
      ],
      "metadata": {
        "id": "wbkbXq00z1Gj"
      }
    },
    {
      "cell_type": "code",
      "source": [
        "# Define the LSTM model\n",
        "model= Sequential()\n",
        "\n",
        "#Define LSTM layer\n",
        "model.add(LSTM(256, input_shape=(1, embedding_dim), return_sequences=True))\n",
        "\n",
        "model.add(LSTM(128, input_shape=(1, embedding_dim)))\n",
        "\n",
        "model.add(Dense(128, activation='relu'))\n",
        "\n",
        "model.add(Dropout(0.5))\n",
        "\n",
        "# Add the output layer with sigmoid activation for binary classification\n",
        "model.add(Dense(1, activation='sigmoid'))\n",
        "\n",
        "# Compile the model\n",
        "model.compile(loss='binary_crossentropy', optimizer='adam', metrics=['accuracy'])\n",
        "\n",
        "model.summary()"
      ],
      "metadata": {
        "colab": {
          "base_uri": "https://localhost:8080/"
        },
        "id": "nlQZLp0Cz9xn",
        "outputId": "3974b170-fcfc-4190-f652-274373356ce8"
      },
      "execution_count": 76,
      "outputs": [
        {
          "output_type": "stream",
          "name": "stdout",
          "text": [
            "Model: \"sequential_11\"\n",
            "_________________________________________________________________\n",
            " Layer (type)                Output Shape              Param #   \n",
            "=================================================================\n",
            " lstm_19 (LSTM)              (None, 1, 256)            570368    \n",
            "                                                                 \n",
            " lstm_20 (LSTM)              (None, 128)               197120    \n",
            "                                                                 \n",
            " dense_18 (Dense)            (None, 128)               16512     \n",
            "                                                                 \n",
            " dropout_5 (Dropout)         (None, 128)               0         \n",
            "                                                                 \n",
            " dense_19 (Dense)            (None, 1)                 129       \n",
            "                                                                 \n",
            "=================================================================\n",
            "Total params: 784129 (2.99 MB)\n",
            "Trainable params: 784129 (2.99 MB)\n",
            "Non-trainable params: 0 (0.00 Byte)\n",
            "_________________________________________________________________\n"
          ]
        }
      ]
    },
    {
      "cell_type": "code",
      "execution_count": 77,
      "metadata": {
        "colab": {
          "base_uri": "https://localhost:8080/"
        },
        "outputId": "69293fe6-d373-45a7-c058-66c3accbd30d",
        "id": "ZfSgRLJA0FsD"
      },
      "outputs": [
        {
          "output_type": "stream",
          "name": "stdout",
          "text": [
            "Epoch 1/20\n",
            "338/338 [==============================] - 8s 13ms/step - loss: 0.5184 - accuracy: 0.7360 - val_loss: 0.6579 - val_accuracy: 0.6894\n",
            "Epoch 2/20\n",
            "338/338 [==============================] - 4s 11ms/step - loss: 0.4540 - accuracy: 0.7763 - val_loss: 0.6714 - val_accuracy: 0.6672\n",
            "Epoch 3/20\n",
            "338/338 [==============================] - 2s 7ms/step - loss: 0.4327 - accuracy: 0.7974 - val_loss: 0.4604 - val_accuracy: 0.8187\n",
            "Epoch 4/20\n",
            "338/338 [==============================] - 3s 8ms/step - loss: 0.4160 - accuracy: 0.8073 - val_loss: 0.6026 - val_accuracy: 0.6796\n",
            "Epoch 5/20\n",
            "338/338 [==============================] - 3s 8ms/step - loss: 0.3976 - accuracy: 0.8193 - val_loss: 0.4348 - val_accuracy: 0.8208\n",
            "Epoch 6/20\n",
            "338/338 [==============================] - 2s 7ms/step - loss: 0.3874 - accuracy: 0.8271 - val_loss: 0.3954 - val_accuracy: 0.8670\n",
            "Epoch 7/20\n",
            "338/338 [==============================] - 2s 7ms/step - loss: 0.3744 - accuracy: 0.8346 - val_loss: 0.5887 - val_accuracy: 0.7042\n",
            "Epoch 8/20\n",
            "338/338 [==============================] - 2s 7ms/step - loss: 0.3677 - accuracy: 0.8377 - val_loss: 0.4707 - val_accuracy: 0.7978\n",
            "Epoch 9/20\n",
            "338/338 [==============================] - 2s 7ms/step - loss: 0.3598 - accuracy: 0.8420 - val_loss: 0.4159 - val_accuracy: 0.8200\n",
            "Epoch 10/20\n",
            "338/338 [==============================] - 3s 10ms/step - loss: 0.3512 - accuracy: 0.8477 - val_loss: 0.3604 - val_accuracy: 0.8670\n",
            "Epoch 11/20\n",
            "338/338 [==============================] - 2s 7ms/step - loss: 0.3435 - accuracy: 0.8516 - val_loss: 0.4909 - val_accuracy: 0.7730\n",
            "Epoch 12/20\n",
            "338/338 [==============================] - 2s 7ms/step - loss: 0.3378 - accuracy: 0.8562 - val_loss: 0.4337 - val_accuracy: 0.8098\n",
            "Epoch 13/20\n",
            "338/338 [==============================] - 2s 7ms/step - loss: 0.3291 - accuracy: 0.8601 - val_loss: 0.3202 - val_accuracy: 0.8718\n",
            "Epoch 14/20\n",
            "338/338 [==============================] - 2s 6ms/step - loss: 0.3205 - accuracy: 0.8632 - val_loss: 0.3407 - val_accuracy: 0.8607\n",
            "Epoch 15/20\n",
            "338/338 [==============================] - 3s 9ms/step - loss: 0.3191 - accuracy: 0.8635 - val_loss: 0.2903 - val_accuracy: 0.9027\n",
            "Epoch 16/20\n",
            "338/338 [==============================] - 3s 8ms/step - loss: 0.3099 - accuracy: 0.8680 - val_loss: 0.3630 - val_accuracy: 0.8714\n",
            "Epoch 17/20\n",
            "338/338 [==============================] - 2s 7ms/step - loss: 0.3007 - accuracy: 0.8725 - val_loss: 0.3981 - val_accuracy: 0.8111\n",
            "Epoch 18/20\n",
            "338/338 [==============================] - 2s 7ms/step - loss: 0.2995 - accuracy: 0.8728 - val_loss: 0.3291 - val_accuracy: 0.8690\n",
            "Epoch 19/20\n",
            "338/338 [==============================] - 2s 7ms/step - loss: 0.2924 - accuracy: 0.8776 - val_loss: 0.2789 - val_accuracy: 0.9094\n",
            "Epoch 20/20\n",
            "338/338 [==============================] - 2s 6ms/step - loss: 0.2857 - accuracy: 0.8809 - val_loss: 0.3266 - val_accuracy: 0.8648\n"
          ]
        },
        {
          "output_type": "execute_result",
          "data": {
            "text/plain": [
              "<keras.src.callbacks.History at 0x7d1d7c156380>"
            ]
          },
          "metadata": {},
          "execution_count": 77
        }
      ],
      "source": [
        "# Fit the model using the resampled data\n",
        "model.fit(X_train_resampled, y_train_resampled,\n",
        "          epochs=20,\n",
        "          batch_size=64,\n",
        "          validation_split=0.2)"
      ]
    },
    {
      "cell_type": "code",
      "execution_count": 78,
      "metadata": {
        "colab": {
          "base_uri": "https://localhost:8080/"
        },
        "outputId": "91586041-e183-466a-c5ac-eb064c9b2a79",
        "scrolled": false,
        "id": "kBwOP8ix0FsE"
      },
      "outputs": [
        {
          "output_type": "stream",
          "name": "stdout",
          "text": [
            "139/139 [==============================] - 1s 3ms/step\n"
          ]
        }
      ],
      "source": [
        "# Predict on the test set\n",
        "y_pred = (model.predict(X_test) > 0.5).astype(\"int32\")"
      ]
    },
    {
      "cell_type": "code",
      "execution_count": 79,
      "metadata": {
        "colab": {
          "base_uri": "https://localhost:8080/",
          "height": 449
        },
        "outputId": "3a74cacb-0608-4d57-e0a7-b7f855bc1584",
        "id": "Ijhd4skg0FsE"
      },
      "outputs": [
        {
          "output_type": "display_data",
          "data": {
            "text/plain": [
              "<Figure size 640x480 with 2 Axes>"
            ],
            "image/png": "[encoded data removed]"
          },
          "metadata": {}
        }
      ],
      "source": [
        "# Calculate the confusion matrix\n",
        "cm = confusion_matrix(y_test, y_pred)\n",
        "\n",
        "# Plot the confusion matrix\n",
        "disp = ConfusionMatrixDisplay(confusion_matrix=cm)\n",
        "disp.plot(cmap=plt.cm.Blues)\n",
        "plt.show()"
      ]
    },
    {
      "cell_type": "code",
      "execution_count": 80,
      "metadata": {
        "colab": {
          "base_uri": "https://localhost:8080/"
        },
        "outputId": "f0d7d6df-113c-41c8-c89d-c63e4e362748",
        "scrolled": true,
        "id": "4F99ZjrD0FsF"
      },
      "outputs": [
        {
          "output_type": "stream",
          "name": "stdout",
          "text": [
            "Accuracy: 0.8481\n",
            "Precision: 0.6616\n",
            "Recall: 0.7417\n",
            "F1 Score: 0.6994\n"
          ]
        }
      ],
      "source": [
        "# Calculate accuracy\n",
        "accuracy = accuracy_score(y_test, y_pred)\n",
        "print(f'Accuracy: {accuracy:.4f}')\n",
        "\n",
        "# Calculate precision\n",
        "precision = precision_score(y_test, y_pred)\n",
        "print(f'Precision: {precision:.4f}')\n",
        "\n",
        "# Calculate recall\n",
        "recall = recall_score(y_test, y_pred)\n",
        "print(f'Recall: {recall:.4f}')\n",
        "\n",
        "# Calculate F1 score\n",
        "f1 = f1_score(y_test, y_pred)\n",
        "print(f'F1 Score: {f1:.4f}')"
      ]
    },
    {
      "cell_type": "code",
      "source": [
        "# Define early stopping callback\n",
        "early_stopping = EarlyStopping(monitor='val_loss', patience=5, restore_best_weights=True)\n",
        "\n",
        "# Define learning rate reduction callback\n",
        "reduce_lr = ReduceLROnPlateau(monitor='val_loss', factor=0.1, patience=3, min_lr=0.00001)"
      ],
      "metadata": {
        "id": "UIGQAMNo0m8y"
      },
      "execution_count": 81,
      "outputs": []
    },
    {
      "cell_type": "code",
      "source": [
        "# Fit the model with early stopping and learning rate reduction\n",
        "history = model.fit(X_train_resampled, y_train_resampled,\n",
        "                    validation_split=0.2,\n",
        "                    epochs=50,\n",
        "                    batch_size=64,\n",
        "                    callbacks=[early_stopping, reduce_lr])"
      ],
      "metadata": {
        "colab": {
          "base_uri": "https://localhost:8080/"
        },
        "id": "PRGrq2JC0nHy",
        "outputId": "30af47fe-5ff5-4200-b835-e52d91baca9a"
      },
      "execution_count": 82,
      "outputs": [
        {
          "output_type": "stream",
          "name": "stdout",
          "text": [
            "Epoch 1/50\n",
            "338/338 [==============================] - 2s 7ms/step - loss: 0.2802 - accuracy: 0.8823 - val_loss: 0.2526 - val_accuracy: 0.9327 - lr: 0.0010\n",
            "Epoch 2/50\n",
            "338/338 [==============================] - 2s 7ms/step - loss: 0.2760 - accuracy: 0.8856 - val_loss: 0.2744 - val_accuracy: 0.8953 - lr: 0.0010\n",
            "Epoch 3/50\n",
            "338/338 [==============================] - 2s 7ms/step - loss: 0.2698 - accuracy: 0.8883 - val_loss: 0.2570 - val_accuracy: 0.9005 - lr: 0.0010\n",
            "Epoch 4/50\n",
            "338/338 [==============================] - 3s 8ms/step - loss: 0.2644 - accuracy: 0.8902 - val_loss: 0.2223 - val_accuracy: 0.9267 - lr: 0.0010\n",
            "Epoch 5/50\n",
            "338/338 [==============================] - 3s 9ms/step - loss: 0.2587 - accuracy: 0.8923 - val_loss: 0.2750 - val_accuracy: 0.9033 - lr: 0.0010\n",
            "Epoch 6/50\n",
            "338/338 [==============================] - 3s 8ms/step - loss: 0.2550 - accuracy: 0.8949 - val_loss: 0.2257 - val_accuracy: 0.9279 - lr: 0.0010\n",
            "Epoch 7/50\n",
            "338/338 [==============================] - 2s 6ms/step - loss: 0.2505 - accuracy: 0.8966 - val_loss: 0.3949 - val_accuracy: 0.8111 - lr: 0.0010\n",
            "Epoch 8/50\n",
            "338/338 [==============================] - 2s 7ms/step - loss: 0.2275 - accuracy: 0.9083 - val_loss: 0.2479 - val_accuracy: 0.9081 - lr: 1.0000e-04\n",
            "Epoch 9/50\n",
            "338/338 [==============================] - 2s 7ms/step - loss: 0.2229 - accuracy: 0.9099 - val_loss: 0.2468 - val_accuracy: 0.9057 - lr: 1.0000e-04\n"
          ]
        }
      ]
    },
    {
      "cell_type": "code",
      "source": [
        "y_pred_prob = model.predict(X_test)\n",
        "precision, recall, thresholds = precision_recall_curve(y_test, y_pred_prob)\n",
        "\n",
        "# Threshold\n",
        "best_threshold = thresholds[np.argmax(precision * recall)]\n",
        "y_pred = (y_pred_prob >= best_threshold).astype(int)"
      ],
      "metadata": {
        "colab": {
          "base_uri": "https://localhost:8080/"
        },
        "id": "wqroLRuX0nKx",
        "outputId": "5bf4e83e-ad8a-4c53-9d4c-a131e7af39ea"
      },
      "execution_count": 83,
      "outputs": [
        {
          "output_type": "stream",
          "name": "stdout",
          "text": [
            "139/139 [==============================] - 0s 3ms/step\n"
          ]
        }
      ]
    },
    {
      "cell_type": "code",
      "source": [
        "# Calculate the confusion matrix\n",
        "cm = confusion_matrix(y_test, y_pred)\n",
        "\n",
        "# Plot the confusion matrix\n",
        "disp = ConfusionMatrixDisplay(confusion_matrix=cm)\n",
        "disp.plot(cmap=plt.cm.Blues)\n",
        "plt.show()"
      ],
      "metadata": {
        "colab": {
          "base_uri": "https://localhost:8080/",
          "height": 452
        },
        "id": "wXX3bVwY0uef",
        "outputId": "308305d0-c254-43d7-beca-aeb5ddfcd5b3"
      },
      "execution_count": 84,
      "outputs": [
        {
          "output_type": "display_data",
          "data": {
            "text/plain": [
              "<Figure size 640x480 with 2 Axes>"
            ],
            "image/png": "[encoded data removed]"
          },
          "metadata": {}
        }
      ]
    },
    {
      "cell_type": "code",
      "source": [
        "# Calculate accuracy\n",
        "accuracy = accuracy_score(y_test, y_pred)\n",
        "print(f'Accuracy: {accuracy:.4f}')\n",
        "\n",
        "# Calculate precision\n",
        "precision = precision_score(y_test, y_pred)\n",
        "print(f'Precision: {precision:.4f}')\n",
        "\n",
        "# Calculate recall\n",
        "recall = recall_score(y_test, y_pred)\n",
        "print(f'Recall: {recall:.4f}')\n",
        "\n",
        "# Calculate F1 score\n",
        "f1 = f1_score(y_test, y_pred)\n",
        "print(f'F1 Score: {f1:.4f}')"
      ],
      "metadata": {
        "colab": {
          "base_uri": "https://localhost:8080/"
        },
        "id": "nrY2ihqq0xEa",
        "outputId": "7c5be66f-f175-4b35-bdc6-85ec19dd9d8e"
      },
      "execution_count": 85,
      "outputs": [
        {
          "output_type": "stream",
          "name": "stdout",
          "text": [
            "Accuracy: 0.8535\n",
            "Precision: 0.6815\n",
            "Recall: 0.7228\n",
            "F1 Score: 0.7016\n"
          ]
        }
      ]
    }
  ]
}