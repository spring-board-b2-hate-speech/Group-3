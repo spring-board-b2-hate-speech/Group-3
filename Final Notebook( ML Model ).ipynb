{
 "cells": [
  {
   "cell_type": "markdown",
   "id": "b557e9a5",
   "metadata": {},
   "source": [
    "# Data Preprocessing"
   ]
  },
  {
   "cell_type": "markdown",
   "id": "51a7206b",
   "metadata": {},
   "source": [
    "## Importing Libraries"
   ]
  },
  {
   "cell_type": "code",
   "execution_count": 3,
   "id": "9fd1f3bd",
   "metadata": {},
   "outputs": [
    {
     "name": "stderr",
     "output_type": "stream",
     "text": [
      "[nltk_data] Downloading package punkt to C:\\Users\\Aman Shekhar\n",
      "[nltk_data]     Sachan\\AppData\\Roaming\\nltk_data...\n",
      "[nltk_data]   Package punkt is already up-to-date!\n",
      "[nltk_data] Downloading package wordnet to C:\\Users\\Aman Shekhar\n",
      "[nltk_data]     Sachan\\AppData\\Roaming\\nltk_data...\n",
      "[nltk_data]   Package wordnet is already up-to-date!\n"
     ]
    }
   ],
   "source": [
    "from concurrent.futures import ThreadPoolExecutor\n",
    "from tqdm.notebook import tqdm\n",
    "tqdm.pandas()\n",
    "import numpy as np\n",
    "import pandas as pd\n",
    "import re\n",
    "import matplotlib.pyplot as plt\n",
    "import seaborn as sns\n",
    "import string\n",
    "from stop_words import get_stop_words\n",
    "from nltk.tokenize import word_tokenize\n",
    "import nltk\n",
    "nltk.download('punkt')\n",
    "from nltk.stem import SnowballStemmer\n",
    "stemmer = SnowballStemmer(language='english')\n",
    "nltk.download('wordnet')\n",
    "from nltk.stem import WordNetLemmatizer\n",
    "from autocorrect import Speller"
   ]
  },
  {
   "cell_type": "markdown",
   "id": "dcb4b83d",
   "metadata": {},
   "source": [
    "## Analyze the Dataset"
   ]
  },
  {
   "cell_type": "code",
   "execution_count": 2,
   "id": "cf5d52ea",
   "metadata": {
    "scrolled": true
   },
   "outputs": [],
   "source": [
    "df = pd.read_csv('Original_Reddit.csv')"
   ]
  },
  {
   "cell_type": "code",
   "execution_count": 3,
   "id": "9f185787",
   "metadata": {},
   "outputs": [
    {
     "data": {
      "text/html": [
       "<div>\n",
       "<style scoped>\n",
       "    .dataframe tbody tr th:only-of-type {\n",
       "        vertical-align: middle;\n",
       "    }\n",
       "\n",
       "    .dataframe tbody tr th {\n",
       "        vertical-align: top;\n",
       "    }\n",
       "\n",
       "    .dataframe thead th {\n",
       "        text-align: right;\n",
       "    }\n",
       "</style>\n",
       "<table border=\"1\" class=\"dataframe\">\n",
       "  <thead>\n",
       "    <tr style=\"text-align: right;\">\n",
       "      <th></th>\n",
       "      <th>id</th>\n",
       "      <th>text</th>\n",
       "      <th>hate_speech_idx</th>\n",
       "      <th>response</th>\n",
       "    </tr>\n",
       "  </thead>\n",
       "  <tbody>\n",
       "    <tr>\n",
       "      <th>0</th>\n",
       "      <td>1. e8q18lf\\n2. \\te8q9w5s\\n3. \\t\\te8qbobk\\n4. \\...</td>\n",
       "      <td>1. A subsection of retarded Hungarians? Ohh bo...</td>\n",
       "      <td>[1]</td>\n",
       "      <td>[\"I don't see a reason why it's okay to insult...</td>\n",
       "    </tr>\n",
       "    <tr>\n",
       "      <th>1</th>\n",
       "      <td>1. e9c6naz\\n2. \\te9d03a5\\n3. \\t\\te9d8e4d\\n</td>\n",
       "      <td>1. &gt; \"y'all hear sumn?\"  by all means I live i...</td>\n",
       "      <td>[3]</td>\n",
       "      <td>['Persons with disabilities is the accepted te...</td>\n",
       "    </tr>\n",
       "    <tr>\n",
       "      <th>2</th>\n",
       "      <td>1. e84rl2i\\n2. \\te84w60l\\n3. \\t\\te8544rn\\n4. \\...</td>\n",
       "      <td>1. wouldn't the defenders or whatever they are...</td>\n",
       "      <td>NaN</td>\n",
       "      <td>NaN</td>\n",
       "    </tr>\n",
       "    <tr>\n",
       "      <th>3</th>\n",
       "      <td>1. e7kq72n\\n2. \\te7m24ar\\n</td>\n",
       "      <td>1. Because the Japanese aren't retarded and kn...</td>\n",
       "      <td>[1]</td>\n",
       "      <td>[\"It's not right for anyone of any gender to b...</td>\n",
       "    </tr>\n",
       "    <tr>\n",
       "      <th>4</th>\n",
       "      <td>1. e7hdgoh\\n2. \\te7iyj6a\\n3. \\t\\te7j6iho\\n4. \\...</td>\n",
       "      <td>1. That might be true if we didn't have an exa...</td>\n",
       "      <td>[2, 3]</td>\n",
       "      <td>[\"You shouldn't be bringing up sensitive topic...</td>\n",
       "    </tr>\n",
       "  </tbody>\n",
       "</table>\n",
       "</div>"
      ],
      "text/plain": [
       "                                                  id  \\\n",
       "0  1. e8q18lf\\n2. \\te8q9w5s\\n3. \\t\\te8qbobk\\n4. \\...   \n",
       "1         1. e9c6naz\\n2. \\te9d03a5\\n3. \\t\\te9d8e4d\\n   \n",
       "2  1. e84rl2i\\n2. \\te84w60l\\n3. \\t\\te8544rn\\n4. \\...   \n",
       "3                         1. e7kq72n\\n2. \\te7m24ar\\n   \n",
       "4  1. e7hdgoh\\n2. \\te7iyj6a\\n3. \\t\\te7j6iho\\n4. \\...   \n",
       "\n",
       "                                                text hate_speech_idx  \\\n",
       "0  1. A subsection of retarded Hungarians? Ohh bo...             [1]   \n",
       "1  1. > \"y'all hear sumn?\"  by all means I live i...             [3]   \n",
       "2  1. wouldn't the defenders or whatever they are...             NaN   \n",
       "3  1. Because the Japanese aren't retarded and kn...             [1]   \n",
       "4  1. That might be true if we didn't have an exa...          [2, 3]   \n",
       "\n",
       "                                            response  \n",
       "0  [\"I don't see a reason why it's okay to insult...  \n",
       "1  ['Persons with disabilities is the accepted te...  \n",
       "2                                                NaN  \n",
       "3  [\"It's not right for anyone of any gender to b...  \n",
       "4  [\"You shouldn't be bringing up sensitive topic...  "
      ]
     },
     "execution_count": 3,
     "metadata": {},
     "output_type": "execute_result"
    }
   ],
   "source": [
    "df.head()"
   ]
  },
  {
   "cell_type": "code",
   "execution_count": 4,
   "id": "83fb19ea",
   "metadata": {},
   "outputs": [
    {
     "name": "stdout",
     "output_type": "stream",
     "text": [
      "<class 'pandas.core.frame.DataFrame'>\n",
      "RangeIndex: 5020 entries, 0 to 5019\n",
      "Data columns (total 4 columns):\n",
      " #   Column           Non-Null Count  Dtype \n",
      "---  ------           --------------  ----- \n",
      " 0   id               5020 non-null   object\n",
      " 1   text             5020 non-null   object\n",
      " 2   hate_speech_idx  3847 non-null   object\n",
      " 3   response         3847 non-null   object\n",
      "dtypes: object(4)\n",
      "memory usage: 157.0+ KB\n"
     ]
    }
   ],
   "source": [
    "df.info()"
   ]
  },
  {
   "cell_type": "markdown",
   "id": "5e866bcd",
   "metadata": {},
   "source": [
    "## Restructuring the Dataset"
   ]
  },
  {
   "cell_type": "markdown",
   "id": "5999637e",
   "metadata": {},
   "source": [
    "### Restructuring the dataset to have individual rows for each comment from a post, tagging them with a 1 if they contain hate speech and 0 if not."
   ]
  },
  {
   "cell_type": "code",
   "execution_count": 5,
   "id": "53d344a0",
   "metadata": {},
   "outputs": [],
   "source": [
    "# Convert 'NaN' string to actual NaN values\n",
    "df['hate_speech_idx'] = df['hate_speech_idx'].replace('NaN', pd.NA)\n",
    "df['response'] = df['response'].replace('NaN', pd.NA)\n",
    "\n",
    "# Function to split comments and mark hate speech\n",
    "def process_comments(row):\n",
    "    # Using regex to find the pattern \"index. comment\"\n",
    "    pattern = re.compile(r'(\\d+)\\.\\s(.*?)(?=\\d+\\.\\s|$)', re.DOTALL)\n",
    "    matches = pattern.findall(row['text'])\n",
    "    \n",
    "    # Clean and split the hate_speech_idx column\n",
    "    if pd.notna(row['hate_speech_idx']):\n",
    "        hate_indices = list(map(int, re.findall(r'\\d+', row['hate_speech_idx'])))\n",
    "    else:\n",
    "        hate_indices = []\n",
    "    \n",
    "    processed_data = []\n",
    "    \n",
    "    for index, comment in matches:\n",
    "        index = int(index)\n",
    "        comment = comment.strip()\n",
    "        is_hate_speech = 1 if index in hate_indices else 0\n",
    "        processed_data.append([index, comment, is_hate_speech])\n",
    "    \n",
    "    return processed_data\n",
    "\n",
    "# Apply the function and flatten the list of lists\n",
    "processed_comments = df.apply(process_comments, axis=1)\n",
    "processed_comments_flat = [item for sublist in processed_comments for item in sublist]\n",
    "\n",
    "# Create a temporary DataFrame from the flattened list\n",
    "df_flat = pd.DataFrame(processed_comments_flat, columns=['index', 'comment', 'hate_speech'])\n",
    "\n",
    "# Concatenate the new data with the original DataFrame\n",
    "# The original DataFrame's id column will be dropped in favor of the new columns\n",
    "df = pd.concat([df.drop(columns=['text', 'hate_speech_idx', 'response','id']), df_flat], axis=1)"
   ]
  },
  {
   "cell_type": "markdown",
   "id": "6ffae5dd",
   "metadata": {},
   "source": [
    "## Processed Dataset"
   ]
  },
  {
   "cell_type": "code",
   "execution_count": 6,
   "id": "28977ade-e5ba-4e1d-ab34-75e164a03040",
   "metadata": {},
   "outputs": [
    {
     "data": {
      "text/html": [
       "<div>\n",
       "<style scoped>\n",
       "    .dataframe tbody tr th:only-of-type {\n",
       "        vertical-align: middle;\n",
       "    }\n",
       "\n",
       "    .dataframe tbody tr th {\n",
       "        vertical-align: top;\n",
       "    }\n",
       "\n",
       "    .dataframe thead th {\n",
       "        text-align: right;\n",
       "    }\n",
       "</style>\n",
       "<table border=\"1\" class=\"dataframe\">\n",
       "  <thead>\n",
       "    <tr style=\"text-align: right;\">\n",
       "      <th></th>\n",
       "      <th>index</th>\n",
       "      <th>comment</th>\n",
       "      <th>hate_speech</th>\n",
       "    </tr>\n",
       "  </thead>\n",
       "  <tbody>\n",
       "    <tr>\n",
       "      <th>0</th>\n",
       "      <td>1</td>\n",
       "      <td>A subsection of retarded Hungarians? Ohh boy. ...</td>\n",
       "      <td>1</td>\n",
       "    </tr>\n",
       "    <tr>\n",
       "      <th>1</th>\n",
       "      <td>2</td>\n",
       "      <td>Hiii. Just got off work. 444 is mainly the typ...</td>\n",
       "      <td>0</td>\n",
       "    </tr>\n",
       "    <tr>\n",
       "      <th>2</th>\n",
       "      <td>3</td>\n",
       "      <td>wow i guess soyboys are the same in every country</td>\n",
       "      <td>0</td>\n",
       "    </tr>\n",
       "    <tr>\n",
       "      <th>3</th>\n",
       "      <td>4</td>\n",
       "      <td>Owen Benjamin's soyboy song goes for every cou...</td>\n",
       "      <td>0</td>\n",
       "    </tr>\n",
       "    <tr>\n",
       "      <th>4</th>\n",
       "      <td>1</td>\n",
       "      <td>&gt; \"y'all hear sumn?\"  by all means I live in a...</td>\n",
       "      <td>0</td>\n",
       "    </tr>\n",
       "  </tbody>\n",
       "</table>\n",
       "</div>"
      ],
      "text/plain": [
       "   index                                            comment  hate_speech\n",
       "0      1  A subsection of retarded Hungarians? Ohh boy. ...            1\n",
       "1      2  Hiii. Just got off work. 444 is mainly the typ...            0\n",
       "2      3  wow i guess soyboys are the same in every country            0\n",
       "3      4  Owen Benjamin's soyboy song goes for every cou...            0\n",
       "4      1  > \"y'all hear sumn?\"  by all means I live in a...            0"
      ]
     },
     "execution_count": 6,
     "metadata": {},
     "output_type": "execute_result"
    }
   ],
   "source": [
    "df.head()"
   ]
  },
  {
   "cell_type": "code",
   "execution_count": 7,
   "id": "205144d1",
   "metadata": {},
   "outputs": [],
   "source": [
    "df = df.drop(columns=['index'])"
   ]
  },
  {
   "cell_type": "code",
   "execution_count": 8,
   "id": "78ecfcbd",
   "metadata": {},
   "outputs": [
    {
     "data": {
      "text/html": [
       "<div>\n",
       "<style scoped>\n",
       "    .dataframe tbody tr th:only-of-type {\n",
       "        vertical-align: middle;\n",
       "    }\n",
       "\n",
       "    .dataframe tbody tr th {\n",
       "        vertical-align: top;\n",
       "    }\n",
       "\n",
       "    .dataframe thead th {\n",
       "        text-align: right;\n",
       "    }\n",
       "</style>\n",
       "<table border=\"1\" class=\"dataframe\">\n",
       "  <thead>\n",
       "    <tr style=\"text-align: right;\">\n",
       "      <th></th>\n",
       "      <th>hate_speech</th>\n",
       "    </tr>\n",
       "  </thead>\n",
       "  <tbody>\n",
       "    <tr>\n",
       "      <th>count</th>\n",
       "      <td>22841.000000</td>\n",
       "    </tr>\n",
       "    <tr>\n",
       "      <th>mean</th>\n",
       "      <td>0.231864</td>\n",
       "    </tr>\n",
       "    <tr>\n",
       "      <th>std</th>\n",
       "      <td>0.422032</td>\n",
       "    </tr>\n",
       "    <tr>\n",
       "      <th>min</th>\n",
       "      <td>0.000000</td>\n",
       "    </tr>\n",
       "    <tr>\n",
       "      <th>25%</th>\n",
       "      <td>0.000000</td>\n",
       "    </tr>\n",
       "    <tr>\n",
       "      <th>50%</th>\n",
       "      <td>0.000000</td>\n",
       "    </tr>\n",
       "    <tr>\n",
       "      <th>75%</th>\n",
       "      <td>0.000000</td>\n",
       "    </tr>\n",
       "    <tr>\n",
       "      <th>max</th>\n",
       "      <td>1.000000</td>\n",
       "    </tr>\n",
       "  </tbody>\n",
       "</table>\n",
       "</div>"
      ],
      "text/plain": [
       "        hate_speech\n",
       "count  22841.000000\n",
       "mean       0.231864\n",
       "std        0.422032\n",
       "min        0.000000\n",
       "25%        0.000000\n",
       "50%        0.000000\n",
       "75%        0.000000\n",
       "max        1.000000"
      ]
     },
     "execution_count": 8,
     "metadata": {},
     "output_type": "execute_result"
    }
   ],
   "source": [
    "df.describe()"
   ]
  },
  {
   "cell_type": "code",
   "execution_count": 9,
   "id": "550c485a",
   "metadata": {
    "scrolled": true
   },
   "outputs": [
    {
     "data": {
      "image/png": "[encoded data removed]",
      "text/plain": [
       "<Figure size 500x500 with 1 Axes>"
      ]
     },
     "metadata": {},
     "output_type": "display_data"
    }
   ],
   "source": [
    "plt.figure(figsize=(5,5))\n",
    "ax=sns.countplot(x=df['hate_speech'],data=df,order=df['hate_speech'].value_counts().index)\n",
    "for p,label in zip(ax.patches,df['hate_speech'].value_counts()):\n",
    "    ax.annotate(label,(p.get_x()+0.25,p.get_height()+0.5))"
   ]
  },
  {
   "cell_type": "markdown",
   "id": "704129cf",
   "metadata": {},
   "source": [
    "## Data Cleaning"
   ]
  },
  {
   "cell_type": "markdown",
   "id": "a9201f1d",
   "metadata": {},
   "source": [
    "#### Remove NaN values and drop comments which are deleted or removed"
   ]
  },
  {
   "cell_type": "code",
   "execution_count": 10,
   "id": "c83555f0",
   "metadata": {},
   "outputs": [
    {
     "name": "stdout",
     "output_type": "stream",
     "text": [
      "Comment Length:  22841\n",
      "Comment Count:  22841\n",
      "Hate Speech Length:  22841\n",
      "Hate Speech Count:  22841\n"
     ]
    }
   ],
   "source": [
    "size_col0 = len(df['comment'])\n",
    "size_col1 = df['comment'].count()\n",
    "size_col2 = len(df['hate_speech'])\n",
    "size_col3 = df['hate_speech'].count()\n",
    "print(\"Comment Length: \", size_col0)\n",
    "print(\"Comment Count: \", size_col1)\n",
    "print(\"Hate Speech Length: \", size_col2)\n",
    "print(\"Hate Speech Count: \",size_col3)"
   ]
  },
  {
   "cell_type": "code",
   "execution_count": 11,
   "id": "2b85b670",
   "metadata": {},
   "outputs": [],
   "source": [
    "df = df.dropna().loc[(df['comment'] != '[deleted]') & (df['comment'] != '[removed]')]"
   ]
  },
  {
   "cell_type": "code",
   "execution_count": 12,
   "id": "c3293986",
   "metadata": {},
   "outputs": [
    {
     "name": "stdout",
     "output_type": "stream",
     "text": [
      "Comment Length:  22330\n",
      "Comment Count:  22330\n",
      "Hate Speech Length:  22330\n",
      "Hate Speech Count:  22330\n"
     ]
    }
   ],
   "source": [
    "size_col0 = len(df['comment'])\n",
    "size_col1 = df['comment'].count()\n",
    "size_col2 = len(df['hate_speech'])\n",
    "size_col3 = df['hate_speech'].count()\n",
    "print(\"Comment Length: \", size_col0)\n",
    "print(\"Comment Count: \", size_col1)\n",
    "print(\"Hate Speech Length: \", size_col2)\n",
    "print(\"Hate Speech Count: \",size_col3)"
   ]
  },
  {
   "cell_type": "markdown",
   "id": "05a22cb1",
   "metadata": {},
   "source": [
    "## Removing HTML Tags \n",
    "\n",
    "#### Removing unwanted data from the text, let’s take the case of scraping data from web, where we get html tags which are unnecessary for the data,those should be removed."
   ]
  },
  {
   "cell_type": "code",
   "execution_count": 13,
   "id": "65cee46d",
   "metadata": {},
   "outputs": [],
   "source": [
    "df['comment']=df['comment'].str.lower()\n",
    "\n",
    "def remove_html_tags(text):\n",
    "    if isinstance(text, float) or text is None:  # Check for float or None and convert to empty string\n",
    "        text = ''\n",
    "    pattern = re.compile(r'<.*?>')\n",
    "    return pattern.sub('', text)\n",
    "\n",
    "df['comment'] = df['comment'].astype(str)\n",
    "df['comment'] = df['comment'].apply(remove_html_tags)\n"
   ]
  },
  {
   "cell_type": "markdown",
   "id": "938e6737",
   "metadata": {},
   "source": [
    "## Removing URL"
   ]
  },
  {
   "cell_type": "code",
   "execution_count": 14,
   "id": "801ce1c4",
   "metadata": {},
   "outputs": [],
   "source": [
    "def remove_url(text):\n",
    "    pattern=re.compile(r'https?://\\s+|www.\\.\\S+')\n",
    "    return pattern.sub(r'',text)\n",
    "\n",
    "df['comment']=df['comment'].apply(remove_url)\n"
   ]
  },
  {
   "cell_type": "markdown",
   "id": "a1f1d0fa",
   "metadata": {},
   "source": [
    "## Stop words Removal \n",
    "\n",
    "#### Words which help in sentence formation, but does not aid any meaning to the sentence like ‘a’, ‘an’, ‘the’, ‘is’ and so on."
   ]
  },
  {
   "cell_type": "code",
   "execution_count": 15,
   "id": "a0581abd",
   "metadata": {},
   "outputs": [
    {
     "data": {
      "text/plain": [
       "'hiii. just got off work. 444 is mainly the typa guys you imagine writing for us stupid sites, but basically they just try to fit in with the western european and us big city hipsters.   rich kids from budapest who feel they are brave journalistic heroes.'"
      ]
     },
     "execution_count": 15,
     "metadata": {},
     "output_type": "execute_result"
    }
   ],
   "source": [
    "df['comment'][1]"
   ]
  },
  {
   "cell_type": "code",
   "execution_count": 16,
   "id": "2e7e163e",
   "metadata": {},
   "outputs": [],
   "source": [
    "stop_words = get_stop_words('en')\n",
    "def stop_words_removal(text):\n",
    "    new_text=[]\n",
    "    for word in text.split():\n",
    "        if word in get_stop_words('en'):\n",
    "            new_text.append('')\n",
    "        else:\n",
    "            new_text.append(word)\n",
    "    return ' '.join(new_text)\n",
    "\n",
    "df['comment']=df['comment'].apply(stop_words_removal)"
   ]
  },
  {
   "cell_type": "code",
   "execution_count": 17,
   "id": "408eff26",
   "metadata": {},
   "outputs": [
    {
     "data": {
      "text/plain": [
       "'hiii. just got  work. 444  mainly  typa guys  imagine writing  us stupid sites,  basically  just try  fit    western european  us big city hipsters. rich kids  budapest  feel   brave journalistic heroes.'"
      ]
     },
     "execution_count": 17,
     "metadata": {},
     "output_type": "execute_result"
    }
   ],
   "source": [
    "df['comment'][1]"
   ]
  },
  {
   "cell_type": "markdown",
   "id": "9aa06d54",
   "metadata": {},
   "source": [
    "## Removing Punctuations \n",
    "\n",
    "#### When we are tokenizing the sentences, punctuations become different words. For example, \"Hello! how are you?\" is tokenized as [Hello , !, how ,are, you,?]. Here punctuation marks are taken as different words. It adds complexity to the model by performing more operations to the code and punctuations does not attribute any meaning to the sentence."
   ]
  },
  {
   "cell_type": "code",
   "execution_count": 18,
   "id": "1559f232",
   "metadata": {},
   "outputs": [
    {
     "data": {
      "text/plain": [
       "'hiii. just got  work. 444  mainly  typa guys  imagine writing  us stupid sites,  basically  just try  fit    western european  us big city hipsters. rich kids  budapest  feel   brave journalistic heroes.'"
      ]
     },
     "execution_count": 18,
     "metadata": {},
     "output_type": "execute_result"
    }
   ],
   "source": [
    "df['comment'][1]"
   ]
  },
  {
   "cell_type": "code",
   "execution_count": 19,
   "id": "32d7ded2",
   "metadata": {},
   "outputs": [
    {
     "name": "stdout",
     "output_type": "stream",
     "text": [
      "!\"#$%&'()*+,-./:;<=>?@[\\]^_`{|}~\n"
     ]
    }
   ],
   "source": [
    "print(string.punctuation)\n",
    "exclude=string.punctuation\n",
    "\n",
    "def remove_punctuation(text):\n",
    "    for char in exclude:\n",
    "        text=text.replace(char,'')\n",
    "    return text\n",
    "\n",
    "df['comment']=df['comment'].apply(remove_punctuation)"
   ]
  },
  {
   "cell_type": "code",
   "execution_count": 20,
   "id": "1c83247b",
   "metadata": {},
   "outputs": [
    {
     "data": {
      "text/plain": [
       "'hiii just got  work 444  mainly  typa guys  imagine writing  us stupid sites  basically  just try  fit    western european  us big city hipsters rich kids  budapest  feel   brave journalistic heroes'"
      ]
     },
     "execution_count": 20,
     "metadata": {},
     "output_type": "execute_result"
    }
   ],
   "source": [
    "df['comment'][1]"
   ]
  },
  {
   "cell_type": "markdown",
   "id": "95a26915",
   "metadata": {},
   "source": [
    "## Chat Word Treatment \n",
    "\n",
    "#### Words like ROFL,LMAO,FYI,GD,ASAP, are found in chat messages of many social media platforms like WhatsApp, Instagram, Twitter. While summarizing the text, to understand the meaning of the word, these short words should be replaced with long forms. "
   ]
  },
  {
   "cell_type": "code",
   "execution_count": 21,
   "id": "50a4f48f",
   "metadata": {},
   "outputs": [],
   "source": [
    "chat_words={'AFAIK': 'As Far As I Know',\n",
    "'AFK':'Away From Keyboard',\n",
    "'ASAP':'As Soon As Possible',\n",
    "'ATK':'At The Keyboard',\n",
    "'ATM':'At The Moment',\n",
    "'A3':'Anytime, Anywhere, Anyplace',\n",
    "'BAK':'Back At Keyboard',\n",
    "'BBL': 'Be Back Later',\n",
    "'BBS': 'Be Back Soon',\n",
    "'BFN': 'Bye For Now',\n",
    "'B4N': 'Bye For Now',\n",
    "'BRB': 'Be Right Back',\n",
    "'BRT': 'Be Right There',\n",
    "'BTW': 'By The Way',\n",
    "'B4': 'Before',\n",
    "'B4N': 'Bye For Now',\n",
    "'CU':'See You',\n",
    "'CUL8R':'See You Later',\n",
    "'CYA': 'See You',\n",
    "'FAQ': 'Frequently Asked Questions',\n",
    "'FC': 'Fingers Crossed',\n",
    "'FWIW': 'For What Its Worth',\n",
    "'FYI': 'For Your Information',\n",
    "'GAL': 'Get A Life',\n",
    "'GG': 'Good Game',\n",
    "'GN' : 'Good Night',\n",
    "'GMTA': 'Great Minds Think Alike',\n",
    "'GR8': 'Great!',\n",
    "'G9': 'Genius',\n",
    "'IC': 'I See',\n",
    "'ICQ': 'I Seek you (also a chat program)',\n",
    "'ILU': 'I Love You',\n",
    "'IMHO': 'In My Honest/Humble Opinion',\n",
    "'IMO':'In My Opinion',\n",
    "'IOW':'In Other Words',\n",
    "'IRL': 'In Real Life',\n",
    "'KISS':'Keep It Simple, Stupid',\n",
    "'LDR':'Long Distance Relationship',\n",
    "'LMAO':'Laugh My A.. Off',\n",
    "'LOL':'Laughing Out Loud',\n",
    "'LTNS': 'Long Time No See',\n",
    "'L8R': 'Later',\n",
    "'MTE': 'My Thoughts Exactly',\n",
    "'M8': 'Mate',\n",
    "'NRN': 'No Reply Necessary',\n",
    "'OIC':'Oh I See',\n",
    "'PITA':'Pain In The A..',\n",
    "'PRT': 'Party',\n",
    "'PRW':'Parents Are Watching',\n",
    "'QPSA':\t'Que Pasa?',\n",
    "'ROFL':'Rolling On The Floor Laughing',\n",
    "'ROFLOL': 'Rolling On The Floor Laughing Out Loud',\n",
    "'ROTFLMAO':'Rolling On The Floor Laughing My A.. Off',\n",
    "'SK8':'Skate',\n",
    "'STATS':'Your sex and age',\n",
    "'ASL':'Age, Sex, Location',\n",
    "'THX':'Thank You',\n",
    "'TTFN':'Ta-Ta For Now!',\n",
    "'TTYL':'Talk To You Later',\n",
    "'U':'You',\n",
    "'U2':'You Too',\n",
    "'U4E':'Yours For Ever',\n",
    "'WB':'Welcome Back',\n",
    "'WTF':'What The F...',\n",
    "'WTG':'Way To Go!',\n",
    "'WUF':'Where Are You From?',\n",
    "'W8':'Wait...',\n",
    "'7K':'Sick'}"
   ]
  },
  {
   "cell_type": "code",
   "execution_count": 22,
   "id": "a1bc79e7",
   "metadata": {},
   "outputs": [
    {
     "data": {
      "text/plain": [
       "' apparently  don’t study    either    had you’d know   muchanticipated modern reformation  islam will never actually happen  i’m wasting  time   think marxism   positive influence   christian west   retarded last  checked atheists still need food lol'"
      ]
     },
     "execution_count": 22,
     "metadata": {},
     "output_type": "execute_result"
    }
   ],
   "source": [
    "df['comment'][16]"
   ]
  },
  {
   "cell_type": "code",
   "execution_count": 23,
   "id": "dbe898a6",
   "metadata": {},
   "outputs": [],
   "source": [
    "def chat_word(text):\n",
    "    new_text=[]\n",
    "    for word in text.split():\n",
    "        if word.upper() in chat_words:\n",
    "            new_text.append(chat_words[word.upper()])\n",
    "        else:\n",
    "            new_text.append(word)\n",
    "            \n",
    "    return \" \".join(new_text)\n",
    "\n",
    "df['comment']=df['comment'].apply(chat_word)"
   ]
  },
  {
   "cell_type": "code",
   "execution_count": 24,
   "id": "5dd103c1",
   "metadata": {},
   "outputs": [
    {
     "data": {
      "text/plain": [
       "'apparently don’t study either had you’d know muchanticipated modern reformation islam will never actually happen i’m wasting time think marxism positive influence christian west retarded last checked atheists still need food Laughing Out Loud'"
      ]
     },
     "execution_count": 24,
     "metadata": {},
     "output_type": "execute_result"
    }
   ],
   "source": [
    "df['comment'][16]"
   ]
  },
  {
   "cell_type": "markdown",
   "id": "fea68239",
   "metadata": {},
   "source": [
    "## Handling Emoji’s \n",
    "\n",
    "#### While analyzing chatting messages, for text classification or sentiment analysis, emoji’s particularly have a meaning, we can replace emoji expression with their corresponding meaning. If our problem statement does not have anything to do with sentiments or feelings,we can remove them. "
   ]
  },
  {
   "cell_type": "code",
   "execution_count": 25,
   "id": "d9b52a2c",
   "metadata": {},
   "outputs": [],
   "source": [
    "def emoji_removal(text):\n",
    "    emoji_pattern = re.compile(\"[\"\n",
    "                           u\"\\U0001F600-\\U0001F64F\"  # emoticons\n",
    "                           u\"\\U0001F300-\\U0001F5FF\"  # symbols & pictographs\n",
    "                           u\"\\U0001F680-\\U0001F6FF\"  # transport & map symbols\n",
    "                           u\"\\U0001F1E0-\\U0001F1FF\"  # flags (iOS)\n",
    "                           u\"\\U00002702-\\U000027B0\"\n",
    "                           u\"\\U000024C2-\\U0001F251\"\n",
    "                           \"]+\", flags=re.UNICODE)\n",
    "    return emoji_pattern.sub(r'', text)\n",
    "\n",
    "df['comment']=df['comment'].apply(emoji_removal)"
   ]
  },
  {
   "cell_type": "markdown",
   "id": "5f7f2bc4-b259-40a1-8a06-5774afe3d94a",
   "metadata": {},
   "source": [
    "## Remove extra spaces"
   ]
  },
  {
   "cell_type": "code",
   "execution_count": 26,
   "id": "349e6d17-333f-45ec-b554-7e2a46979cab",
   "metadata": {},
   "outputs": [
    {
     "name": "stderr",
     "output_type": "stream",
     "text": [
      "C:\\Users\\Aman Shekhar Sachan\\AppData\\Local\\Temp\\ipykernel_15516\\1291788884.py:11: FutureWarning: DataFrame.applymap has been deprecated. Use DataFrame.map instead.\n",
      "  df = df.applymap(clean_spaces)\n"
     ]
    }
   ],
   "source": [
    "# Function to clean up extra spaces in a string\n",
    "def clean_spaces(text):\n",
    "    if isinstance(text, str):\n",
    "        # Remove multiple consecutive spaces\n",
    "        text = re.sub(r'\\s{2,}', ' ', text)\n",
    "        # Trim leading and trailing spaces\n",
    "        text = text.strip()\n",
    "    return text\n",
    "\n",
    "# Apply the cleaning function to each cell in the DataFrame\n",
    "df = df.applymap(clean_spaces)"
   ]
  },
  {
   "cell_type": "code",
   "execution_count": 27,
   "id": "668352ba-152e-47c1-9f87-251a9d56a269",
   "metadata": {},
   "outputs": [
    {
     "data": {
      "text/html": [
       "<div>\n",
       "<style scoped>\n",
       "    .dataframe tbody tr th:only-of-type {\n",
       "        vertical-align: middle;\n",
       "    }\n",
       "\n",
       "    .dataframe tbody tr th {\n",
       "        vertical-align: top;\n",
       "    }\n",
       "\n",
       "    .dataframe thead th {\n",
       "        text-align: right;\n",
       "    }\n",
       "</style>\n",
       "<table border=\"1\" class=\"dataframe\">\n",
       "  <thead>\n",
       "    <tr style=\"text-align: right;\">\n",
       "      <th></th>\n",
       "      <th>comment</th>\n",
       "      <th>hate_speech</th>\n",
       "    </tr>\n",
       "  </thead>\n",
       "  <tbody>\n",
       "    <tr>\n",
       "      <th>0</th>\n",
       "      <td>subsection retarded hungarians ohh boy brace l...</td>\n",
       "      <td>1</td>\n",
       "    </tr>\n",
       "    <tr>\n",
       "      <th>1</th>\n",
       "      <td>hiii just got work 444 mainly typa guys imagin...</td>\n",
       "      <td>0</td>\n",
       "    </tr>\n",
       "    <tr>\n",
       "      <th>2</th>\n",
       "      <td>wow guess soyboys every country</td>\n",
       "      <td>0</td>\n",
       "    </tr>\n",
       "    <tr>\n",
       "      <th>3</th>\n",
       "      <td>owen benjamins soyboy song goes every country ...</td>\n",
       "      <td>0</td>\n",
       "    </tr>\n",
       "    <tr>\n",
       "      <th>4</th>\n",
       "      <td>yall hear sumn means live small town rn for wo...</td>\n",
       "      <td>0</td>\n",
       "    </tr>\n",
       "  </tbody>\n",
       "</table>\n",
       "</div>"
      ],
      "text/plain": [
       "                                             comment  hate_speech\n",
       "0  subsection retarded hungarians ohh boy brace l...            1\n",
       "1  hiii just got work 444 mainly typa guys imagin...            0\n",
       "2                    wow guess soyboys every country            0\n",
       "3  owen benjamins soyboy song goes every country ...            0\n",
       "4  yall hear sumn means live small town rn for wo...            0"
      ]
     },
     "execution_count": 27,
     "metadata": {},
     "output_type": "execute_result"
    }
   ],
   "source": [
    "df.head()"
   ]
  },
  {
   "cell_type": "markdown",
   "id": "19cb556d",
   "metadata": {},
   "source": [
    "## Remove Numbers\n"
   ]
  },
  {
   "cell_type": "code",
   "execution_count": 28,
   "id": "37640f1e-cc65-45ad-82be-99defe414c6f",
   "metadata": {},
   "outputs": [],
   "source": [
    "import pandas as pd\n",
    "import re\n",
    "\n",
    "# Define the file paths\n",
    "input_file_path = 'Cleaned_spaces_Reddit.csv'\n",
    "output_file_path = 'processed_Reddit.csv'\n",
    "\n",
    "# Dictionary of number meanings\n",
    "number_meanings = {\n",
    "    '111': 'Alignment and manifestation',\n",
    "    '1111': 'New beginnings and unity',\n",
    "    '222': 'Balance and harmony',\n",
    "    '333': 'Protection and encouragement',\n",
    "    '444': 'Foundation and grounding',\n",
    "    '555': 'Change and transformation',\n",
    "    '666': 'Reflection and personal development',\n",
    "    '777': 'Spiritual growth and good fortune',\n",
    "    '888': 'Abundance and success',\n",
    "    '999': 'Completion and closure',\n",
    "    '1010': 'Personal development and growth',\n",
    "    '1212': 'Spiritual awakening and higher consciousness',\n",
    "    '1234': 'Progress and moving forward',\n",
    "    '2222': 'Peace and balance in life',\n",
    "    '3333': 'Divine protection and guidance',\n",
    "    '4444': 'Strong foundation and support',\n",
    "    '5555': 'Major life changes',\n",
    "    '6666': 'Reflecting on past choices',\n",
    "    '7777': 'Luck and spiritual awareness',\n",
    "    '8888': 'Financial abundance and prosperity',\n",
    "    '9999': 'Endings leading to new beginnings',\n",
    "    '1001': 'Self-improvement and new perspectives',\n",
    "    '1101': 'Opening new doors and opportunities',\n",
    "    '1211': 'Embracing new phases in life',\n",
    "    '1233': 'Balanced progress and harmony',\n",
    "    '1441': 'Foundation and new opportunities',\n",
    "    '1515': 'Personal growth and freedom',\n",
    "    '1616': 'Stability and inner strength',\n",
    "    '1717': 'Awakening and self-awareness',\n",
    "    '1818': 'Financial success and independence',\n",
    "    '1919': 'Completion of cycles and new beginnings',\n",
    "    '2020': 'Vision and clarity',\n",
    "    '2121': 'Positive change and new opportunities',\n",
    "    '2323': 'Creativity and self-expression',\n",
    "    '2424': 'Building strong foundations',\n",
    "    '2525': 'Adaptability and positive change',\n",
    "    '2626': 'Nurturing and care for loved ones',\n",
    "    '2727': 'Spiritual awareness and inner wisdom',\n",
    "    '2828': 'Abundance and prosperity',\n",
    "    '2929': 'Transformation and new phases',\n",
    "    '3030': 'Creativity and communication',\n",
    "    '3131': 'Optimism and positive energy',\n",
    "    '3232': 'Faith and trust in the universe',\n",
    "    '3434': 'Stability and determination',\n",
    "    '3535': 'Personal freedom and individuality',\n",
    "    '3636': 'Nurturing and compassion',\n",
    "    '3737': 'Spiritual growth and awareness',\n",
    "    '3838': 'Ab'}\n"
   ]
  },
  {
   "cell_type": "code",
   "execution_count": 29,
   "id": "fc96d676",
   "metadata": {
    "scrolled": true
   },
   "outputs": [
    {
     "name": "stderr",
     "output_type": "stream",
     "text": [
      "C:\\Users\\Aman Shekhar Sachan\\AppData\\Local\\Temp\\ipykernel_15516\\947521680.py:18: FutureWarning: DataFrame.applymap has been deprecated. Use DataFrame.map instead.\n",
      "  df = df.applymap(lambda x: replace_numbers(x, number_meanings))\n"
     ]
    }
   ],
   "source": [
    "\n",
    "# Function to replace or remove numbers in a string\n",
    "def replace_numbers(text, number_meanings):\n",
    "    if isinstance(text, str):\n",
    "        # Find all numbers in the text\n",
    "        numbers = re.findall(r'\\b\\d+\\b', text)\n",
    "        for number in numbers:\n",
    "            if number in number_meanings:\n",
    "                # Replace number with its meaning\n",
    "                text = re.sub(r'\\b' + re.escape(number) + r'\\b', number_meanings[number], text)\n",
    "            else:\n",
    "                # Remove number if no meaning exists\n",
    "                text = re.sub(r'\\b' + re.escape(number) + r'\\b', '', text)\n",
    "        # Remove any extra spaces after replacement/removal\n",
    "        text = re.sub(r'\\s{2,}', ' ', text).strip()\n",
    "    return text\n",
    "\n",
    "# Apply the number replacement function to each cell in the DataFrame\n",
    "df = df.applymap(lambda x: replace_numbers(x, number_meanings))"
   ]
  },
  {
   "cell_type": "code",
   "execution_count": 30,
   "id": "5eb83768-ccb8-4676-8099-949cdc40d28e",
   "metadata": {},
   "outputs": [
    {
     "data": {
      "text/html": [
       "<div>\n",
       "<style scoped>\n",
       "    .dataframe tbody tr th:only-of-type {\n",
       "        vertical-align: middle;\n",
       "    }\n",
       "\n",
       "    .dataframe tbody tr th {\n",
       "        vertical-align: top;\n",
       "    }\n",
       "\n",
       "    .dataframe thead th {\n",
       "        text-align: right;\n",
       "    }\n",
       "</style>\n",
       "<table border=\"1\" class=\"dataframe\">\n",
       "  <thead>\n",
       "    <tr style=\"text-align: right;\">\n",
       "      <th></th>\n",
       "      <th>comment</th>\n",
       "      <th>hate_speech</th>\n",
       "    </tr>\n",
       "  </thead>\n",
       "  <tbody>\n",
       "    <tr>\n",
       "      <th>0</th>\n",
       "      <td>subsection retarded hungarians ohh boy brace l...</td>\n",
       "      <td>1</td>\n",
       "    </tr>\n",
       "    <tr>\n",
       "      <th>1</th>\n",
       "      <td>hiii just got work Foundation and grounding ma...</td>\n",
       "      <td>0</td>\n",
       "    </tr>\n",
       "    <tr>\n",
       "      <th>2</th>\n",
       "      <td>wow guess soyboys every country</td>\n",
       "      <td>0</td>\n",
       "    </tr>\n",
       "    <tr>\n",
       "      <th>3</th>\n",
       "      <td>owen benjamins soyboy song goes every country ...</td>\n",
       "      <td>0</td>\n",
       "    </tr>\n",
       "    <tr>\n",
       "      <th>4</th>\n",
       "      <td>yall hear sumn means live small town rn for wo...</td>\n",
       "      <td>0</td>\n",
       "    </tr>\n",
       "  </tbody>\n",
       "</table>\n",
       "</div>"
      ],
      "text/plain": [
       "                                             comment  hate_speech\n",
       "0  subsection retarded hungarians ohh boy brace l...            1\n",
       "1  hiii just got work Foundation and grounding ma...            0\n",
       "2                    wow guess soyboys every country            0\n",
       "3  owen benjamins soyboy song goes every country ...            0\n",
       "4  yall hear sumn means live small town rn for wo...            0"
      ]
     },
     "execution_count": 30,
     "metadata": {},
     "output_type": "execute_result"
    }
   ],
   "source": [
    "df.head()"
   ]
  },
  {
   "cell_type": "markdown",
   "id": "e89871ed",
   "metadata": {},
   "source": [
    "## Apply Autocorrect"
   ]
  },
  {
   "cell_type": "code",
   "execution_count": 31,
   "id": "24e3594d-eb12-4aa3-98a5-9eb71abfa3f1",
   "metadata": {},
   "outputs": [
    {
     "name": "stderr",
     "output_type": "stream",
     "text": [
      "100%|██████████████████████████████████████████████████████████████████████████| 22330/22330 [5:33:10<00:00,  1.12it/s]\n"
     ]
    }
   ],
   "source": [
    "from autocorrect import Speller\n",
    "from concurrent.futures import ThreadPoolExecutor\n",
    "from tqdm import tqdm\n",
    "\n",
    "# Initialize the spell checker\n",
    "spell = Speller()\n",
    "\n",
    "# Define the autocorrect function\n",
    "def autocorrect_text(text):\n",
    "    if isinstance(text, str):\n",
    "        return spell(text)\n",
    "    return text\n",
    "\n",
    "# Function to apply autocorrect in parallel\n",
    "def parallel_apply(data, func, workers=4):\n",
    "    with ThreadPoolExecutor(max_workers=workers) as executor:\n",
    "        results = list(tqdm(executor.map(func, data), total=len(data)))\n",
    "    return results\n",
    "\n",
    "# Choose the columns to apply autocorrect\n",
    "target_columns = ['comment']\n",
    "\n",
    "# Apply autocorrect to each target column in parallel\n",
    "for column in target_columns:\n",
    "    df[column] = parallel_apply(df[column], autocorrect_text)\n"
   ]
  },
  {
   "cell_type": "markdown",
   "id": "15cd19e7",
   "metadata": {},
   "source": [
    "#### Preprocessed Dataset"
   ]
  },
  {
   "cell_type": "code",
   "execution_count": 32,
   "id": "5182879d-568b-4c84-bd83-2fea9c3550ac",
   "metadata": {},
   "outputs": [
    {
     "data": {
      "text/html": [
       "<div>\n",
       "<style scoped>\n",
       "    .dataframe tbody tr th:only-of-type {\n",
       "        vertical-align: middle;\n",
       "    }\n",
       "\n",
       "    .dataframe tbody tr th {\n",
       "        vertical-align: top;\n",
       "    }\n",
       "\n",
       "    .dataframe thead th {\n",
       "        text-align: right;\n",
       "    }\n",
       "</style>\n",
       "<table border=\"1\" class=\"dataframe\">\n",
       "  <thead>\n",
       "    <tr style=\"text-align: right;\">\n",
       "      <th></th>\n",
       "      <th>comment</th>\n",
       "      <th>hate_speech</th>\n",
       "    </tr>\n",
       "  </thead>\n",
       "  <tbody>\n",
       "    <tr>\n",
       "      <th>0</th>\n",
       "      <td>subsection retarded hungarian oh boy brace liv...</td>\n",
       "      <td>1</td>\n",
       "    </tr>\n",
       "    <tr>\n",
       "      <th>1</th>\n",
       "      <td>iii just got work Foundation and grounding mai...</td>\n",
       "      <td>0</td>\n",
       "    </tr>\n",
       "    <tr>\n",
       "      <th>2</th>\n",
       "      <td>wow guess cowboys every country</td>\n",
       "      <td>0</td>\n",
       "    </tr>\n",
       "    <tr>\n",
       "      <th>3</th>\n",
       "      <td>owen benjamin cowboy song goes every country a...</td>\n",
       "      <td>0</td>\n",
       "    </tr>\n",
       "    <tr>\n",
       "      <th>4</th>\n",
       "      <td>all hear sun means live small town rn for work...</td>\n",
       "      <td>0</td>\n",
       "    </tr>\n",
       "  </tbody>\n",
       "</table>\n",
       "</div>"
      ],
      "text/plain": [
       "                                             comment  hate_speech\n",
       "0  subsection retarded hungarian oh boy brace liv...            1\n",
       "1  iii just got work Foundation and grounding mai...            0\n",
       "2                    wow guess cowboys every country            0\n",
       "3  owen benjamin cowboy song goes every country a...            0\n",
       "4  all hear sun means live small town rn for work...            0"
      ]
     },
     "execution_count": 32,
     "metadata": {},
     "output_type": "execute_result"
    }
   ],
   "source": [
    "df.head()"
   ]
  },
  {
   "cell_type": "code",
   "execution_count": 33,
   "id": "e2a6819b-9e59-4786-b1a9-e3837032dbc3",
   "metadata": {},
   "outputs": [
    {
     "name": "stdout",
     "output_type": "stream",
     "text": [
      "File saved\n"
     ]
    }
   ],
   "source": [
    "df.to_csv('Reddit_AK_Final.csv', index=False)\n",
    "print(\"File saved\")"
   ]
  },
  {
   "cell_type": "markdown",
   "id": "565ab3f4-cc5f-40b4-8c4f-ff5c7834ff8d",
   "metadata": {},
   "source": [
    "## Tokenization and Encoding"
   ]
  },
  {
   "cell_type": "code",
   "execution_count": 4,
   "id": "6c77d655-6f66-4f21-8ce4-4514fe2e180b",
   "metadata": {},
   "outputs": [],
   "source": [
    "df= pd.read_csv('Reddit_AK_Final.csv')"
   ]
  },
  {
   "cell_type": "code",
   "execution_count": 37,
   "id": "81a0a183-af42-4c03-a931-2a36fbb409d0",
   "metadata": {},
   "outputs": [
    {
     "name": "stdout",
     "output_type": "stream",
     "text": [
      "comment        130\n",
      "hate_speech      0\n",
      "dtype: int64\n"
     ]
    }
   ],
   "source": [
    "print(df.isnull().sum())"
   ]
  },
  {
   "cell_type": "code",
   "execution_count": 38,
   "id": "09aa05ca-dcc8-4ae2-ac50-0c790d6962cf",
   "metadata": {},
   "outputs": [],
   "source": [
    "df.dropna(inplace=True)"
   ]
  },
  {
   "cell_type": "code",
   "execution_count": 39,
   "id": "e18ad22d-201f-417b-a088-033be00c6b27",
   "metadata": {},
   "outputs": [
    {
     "name": "stdout",
     "output_type": "stream",
     "text": [
      "comment        0\n",
      "hate_speech    0\n",
      "dtype: int64\n"
     ]
    }
   ],
   "source": [
    "print(df.isnull().sum())"
   ]
  },
  {
   "cell_type": "code",
   "execution_count": 40,
   "id": "ffdae077-31fa-49d9-bd58-4e97f3c8c55d",
   "metadata": {},
   "outputs": [
    {
     "data": {
      "text/html": [
       "<div>\n",
       "<style scoped>\n",
       "    .dataframe tbody tr th:only-of-type {\n",
       "        vertical-align: middle;\n",
       "    }\n",
       "\n",
       "    .dataframe tbody tr th {\n",
       "        vertical-align: top;\n",
       "    }\n",
       "\n",
       "    .dataframe thead th {\n",
       "        text-align: right;\n",
       "    }\n",
       "</style>\n",
       "<table border=\"1\" class=\"dataframe\">\n",
       "  <thead>\n",
       "    <tr style=\"text-align: right;\">\n",
       "      <th></th>\n",
       "      <th>comment</th>\n",
       "      <th>hate_speech</th>\n",
       "      <th>words</th>\n",
       "    </tr>\n",
       "  </thead>\n",
       "  <tbody>\n",
       "    <tr>\n",
       "      <th>0</th>\n",
       "      <td>subsection retarded hungarian oh boy brace liv...</td>\n",
       "      <td>1</td>\n",
       "      <td>[subsection, retarded, hungarian, oh, boy, bra...</td>\n",
       "    </tr>\n",
       "    <tr>\n",
       "      <th>1</th>\n",
       "      <td>iii just got work Foundation and grounding mai...</td>\n",
       "      <td>0</td>\n",
       "      <td>[iii, just, got, work, Foundation, and, ground...</td>\n",
       "    </tr>\n",
       "    <tr>\n",
       "      <th>2</th>\n",
       "      <td>wow guess cowboys every country</td>\n",
       "      <td>0</td>\n",
       "      <td>[wow, guess, cowboys, every, country]</td>\n",
       "    </tr>\n",
       "    <tr>\n",
       "      <th>3</th>\n",
       "      <td>owen benjamin cowboy song goes every country a...</td>\n",
       "      <td>0</td>\n",
       "      <td>[owen, benjamin, cowboy, song, goes, every, co...</td>\n",
       "    </tr>\n",
       "    <tr>\n",
       "      <th>4</th>\n",
       "      <td>all hear sun means live small town rn for work...</td>\n",
       "      <td>0</td>\n",
       "      <td>[all, hear, sun, means, live, small, town, rn,...</td>\n",
       "    </tr>\n",
       "  </tbody>\n",
       "</table>\n",
       "</div>"
      ],
      "text/plain": [
       "                                             comment  hate_speech  \\\n",
       "0  subsection retarded hungarian oh boy brace liv...            1   \n",
       "1  iii just got work Foundation and grounding mai...            0   \n",
       "2                    wow guess cowboys every country            0   \n",
       "3  owen benjamin cowboy song goes every country a...            0   \n",
       "4  all hear sun means live small town rn for work...            0   \n",
       "\n",
       "                                               words  \n",
       "0  [subsection, retarded, hungarian, oh, boy, bra...  \n",
       "1  [iii, just, got, work, Foundation, and, ground...  \n",
       "2              [wow, guess, cowboys, every, country]  \n",
       "3  [owen, benjamin, cowboy, song, goes, every, co...  \n",
       "4  [all, hear, sun, means, live, small, town, rn,...  "
      ]
     },
     "execution_count": 40,
     "metadata": {},
     "output_type": "execute_result"
    }
   ],
   "source": [
    "df['words'] = df['comment'].apply(lambda x: word_tokenize(x))\n",
    "df.head()"
   ]
  },
  {
   "cell_type": "code",
   "execution_count": 41,
   "id": "b5c0165c-049c-4010-b983-bb1a4308e771",
   "metadata": {},
   "outputs": [],
   "source": [
    "lemmatizer = WordNetLemmatizer()\n",
    "df['lemmatized_comment'] = df['words'].apply(lambda x: ' '.join([lemmatizer.lemmatize(word, pos='v') for word in x]))\n",
    "\n",
    "df['tokens'] = df['lemmatized_comment'].apply(lambda x: x.split())"
   ]
  },
  {
   "cell_type": "code",
   "execution_count": 1,
   "id": "6ca52d59-d5cb-4276-b162-d02deb419dd3",
   "metadata": {},
   "outputs": [],
   "source": [
    "import fasttext\n",
    "# Load the FastText model\n",
    "ft_model = fasttext.load_model('cc.en.300.bin')"
   ]
  },
  {
   "cell_type": "code",
   "execution_count": 44,
   "id": "31b5a27d-9caa-498c-821e-2af1655e22a4",
   "metadata": {},
   "outputs": [
    {
     "name": "stdout",
     "output_type": "stream",
     "text": [
      "                                             comment  \\\n",
      "0  subsection retarded hungarian oh boy brace liv...   \n",
      "1  iii just got work Foundation and grounding mai...   \n",
      "2                    wow guess cowboys every country   \n",
      "3  owen benjamin cowboy song goes every country a...   \n",
      "4  all hear sun means live small town rn for work...   \n",
      "\n",
      "                                document_vector_flat  \n",
      "0  0.019159256,-0.04540207,-0.013310673,0.0693318...  \n",
      "1  -0.009258354,-0.03500584,0.024274409,0.0689532...  \n",
      "2  0.031344395,-0.006678687,0.02832899,0.08750783...  \n",
      "3  0.027822988,-0.0011368291,-0.0047952645,0.0754...  \n",
      "4  0.020198364,0.010235707,0.00050375995,0.065230...  \n",
      "File saved as Processed_Reddit_Encoded_AK.csv\n"
     ]
    }
   ],
   "source": [
    "# Get word vectors for each token\n",
    "df['word_vectors'] = df['tokens'].apply(lambda tokens: [ft_model.get_word_vector(token) for token in tokens])\n",
    "# Function to average word vectors\n",
    "def average_word_vectors(word_vectors):\n",
    "    return np.mean(word_vectors, axis=0) if word_vectors else np.zeros(ft_model.get_dimension())\n",
    "\n",
    "# Aggregate word vectors for each document\n",
    "df['document_vector'] = df['word_vectors'].apply(average_word_vectors)\n",
    "\n",
    "df['document_vector_flat'] = df['document_vector'].apply(lambda vec: ','.join(map(str, vec)))\n",
    "print(df[['comment', 'document_vector_flat']].head())\n",
    "\n",
    "\n",
    "# Save the result to a CSV file\n",
    "output_file = 'Processed_Reddit_Encoded_AK.csv'\n",
    "df.to_csv(output_file, index=False,  columns=['comment', 'hate_speech', 'lemmatized_comment', 'document_vector_flat'])\n",
    "\n",
    "print(\"File saved as\", output_file)"
   ]
  },
  {
   "cell_type": "markdown",
   "id": "5fe8392a-3f9e-44eb-82b9-7a8830bd927a",
   "metadata": {},
   "source": [
    "### Train and Test Splitting (by 80% and 20%)"
   ]
  },
  {
   "cell_type": "code",
   "execution_count": 1,
   "id": "55605cd3-1448-4671-a712-53c6b1e6d6d0",
   "metadata": {},
   "outputs": [],
   "source": [
    "import pandas as pd\n",
    "import numpy as np\n",
    "from sklearn.feature_extraction.text import TfidfVectorizer\n",
    "from sklearn.ensemble import RandomForestClassifier\n",
    "from sklearn.metrics import classification_report, accuracy_score\n",
    "from sklearn.model_selection import GridSearchCV\n",
    "from imblearn.over_sampling import SMOTE\n",
    "from scipy.sparse import csr_matrix\n",
    "from sklearn.model_selection import train_test_split\n"
   ]
  },
  {
   "cell_type": "code",
   "execution_count": 5,
   "id": "02d61ea7-7ccf-446a-80d1-d487f2f451ca",
   "metadata": {},
   "outputs": [
    {
     "data": {
      "text/html": [
       "<div>\n",
       "<style scoped>\n",
       "    .dataframe tbody tr th:only-of-type {\n",
       "        vertical-align: middle;\n",
       "    }\n",
       "\n",
       "    .dataframe tbody tr th {\n",
       "        vertical-align: top;\n",
       "    }\n",
       "\n",
       "    .dataframe thead th {\n",
       "        text-align: right;\n",
       "    }\n",
       "</style>\n",
       "<table border=\"1\" class=\"dataframe\">\n",
       "  <thead>\n",
       "    <tr style=\"text-align: right;\">\n",
       "      <th></th>\n",
       "      <th>comment</th>\n",
       "      <th>hate_speech</th>\n",
       "      <th>lemmatized_comment</th>\n",
       "      <th>document_vector_flat</th>\n",
       "    </tr>\n",
       "  </thead>\n",
       "  <tbody>\n",
       "    <tr>\n",
       "      <th>0</th>\n",
       "      <td>subsection retarded hungarian oh boy brace liv...</td>\n",
       "      <td>1</td>\n",
       "      <td>subsection retard hungarian oh boy brace live ...</td>\n",
       "      <td>0.019159256,-0.04540207,-0.013310673,0.0693318...</td>\n",
       "    </tr>\n",
       "    <tr>\n",
       "      <th>1</th>\n",
       "      <td>iii just got work Foundation and grounding mai...</td>\n",
       "      <td>0</td>\n",
       "      <td>iii just get work Foundation and ground mainly...</td>\n",
       "      <td>-0.009258354,-0.03500584,0.024274409,0.0689532...</td>\n",
       "    </tr>\n",
       "    <tr>\n",
       "      <th>2</th>\n",
       "      <td>wow guess cowboys every country</td>\n",
       "      <td>0</td>\n",
       "      <td>wow guess cowboys every country</td>\n",
       "      <td>0.031344395,-0.006678687,0.02832899,0.08750783...</td>\n",
       "    </tr>\n",
       "    <tr>\n",
       "      <th>3</th>\n",
       "      <td>owen benjamin cowboy song goes every country a...</td>\n",
       "      <td>0</td>\n",
       "      <td>owen benjamin cowboy song go every country amaze</td>\n",
       "      <td>0.027822988,-0.0011368291,-0.0047952645,0.0754...</td>\n",
       "    </tr>\n",
       "    <tr>\n",
       "      <th>4</th>\n",
       "      <td>all hear sun means live small town rn for work...</td>\n",
       "      <td>0</td>\n",
       "      <td>all hear sun mean live small town rn for work ...</td>\n",
       "      <td>0.020198364,0.010235707,0.00050375995,0.065230...</td>\n",
       "    </tr>\n",
       "  </tbody>\n",
       "</table>\n",
       "</div>"
      ],
      "text/plain": [
       "                                             comment  hate_speech  \\\n",
       "0  subsection retarded hungarian oh boy brace liv...            1   \n",
       "1  iii just got work Foundation and grounding mai...            0   \n",
       "2                    wow guess cowboys every country            0   \n",
       "3  owen benjamin cowboy song goes every country a...            0   \n",
       "4  all hear sun means live small town rn for work...            0   \n",
       "\n",
       "                                  lemmatized_comment  \\\n",
       "0  subsection retard hungarian oh boy brace live ...   \n",
       "1  iii just get work Foundation and ground mainly...   \n",
       "2                    wow guess cowboys every country   \n",
       "3   owen benjamin cowboy song go every country amaze   \n",
       "4  all hear sun mean live small town rn for work ...   \n",
       "\n",
       "                                document_vector_flat  \n",
       "0  0.019159256,-0.04540207,-0.013310673,0.0693318...  \n",
       "1  -0.009258354,-0.03500584,0.024274409,0.0689532...  \n",
       "2  0.031344395,-0.006678687,0.02832899,0.08750783...  \n",
       "3  0.027822988,-0.0011368291,-0.0047952645,0.0754...  \n",
       "4  0.020198364,0.010235707,0.00050375995,0.065230...  "
      ]
     },
     "execution_count": 5,
     "metadata": {},
     "output_type": "execute_result"
    }
   ],
   "source": [
    "df = pd.read_csv('Processed_Reddit_Encoded_AK.csv')\n",
    "df.head()"
   ]
  },
  {
   "cell_type": "code",
   "execution_count": 6,
   "id": "56cf8def-2ba1-456d-8484-f6542a3a05bc",
   "metadata": {},
   "outputs": [
    {
     "name": "stdout",
     "output_type": "stream",
     "text": [
      "0    [0.019159256, -0.04540207, -0.013310673, 0.069...\n",
      "1    [-0.009258354, -0.03500584, 0.024274409, 0.068...\n",
      "2    [0.031344395, -0.006678687, 0.02832899, 0.0875...\n",
      "3    [0.027822988, -0.0011368291, -0.0047952645, 0....\n",
      "4    [0.020198364, 0.010235707, 0.00050375995, 0.06...\n",
      "Name: document_vector, dtype: object\n"
     ]
    }
   ],
   "source": [
    "# Convert the document vectors from their string representation back into numerical form\n",
    "df['document_vector'] = df['document_vector_flat'].apply(lambda x: np.fromstring(x, sep=','))\n",
    "\n",
    "# Ensure the conversion was successful\n",
    "print(df['document_vector'].head())"
   ]
  },
  {
   "cell_type": "code",
   "execution_count": 7,
   "id": "74eb7306-767f-4698-bb7a-0a9828f81618",
   "metadata": {},
   "outputs": [
    {
     "name": "stdout",
     "output_type": "stream",
     "text": [
      "Training data shape: (17760, 300)\n",
      "Testing data shape: (4440, 300)\n"
     ]
    }
   ],
   "source": [
    "from sklearn.model_selection import train_test_split\n",
    "# Extract features (document vectors) and labels (hate speech)\n",
    "X = np.array(df['document_vector'].tolist())\n",
    "y = df['hate_speech']\n",
    "\n",
    "# Split the data into training and testing sets\n",
    "X_train, X_test, y_train, y_test = train_test_split(X, y, test_size=0.2, random_state=42)\n",
    "\n",
    "# Display the shapes of the datasets\n",
    "print(f\"Training data shape: {X_train.shape}\")\n",
    "print(f\"Testing data shape: {X_test.shape}\")"
   ]
  },
  {
   "cell_type": "markdown",
   "id": "cafb18f5-b514-4d3f-b479-cd6425b7d2ed",
   "metadata": {},
   "source": [
    "## Imbalanced data handling"
   ]
  },
  {
   "cell_type": "code",
   "execution_count": 2,
   "id": "8a455b04-7ffd-44e7-b22e-505d0a08a03e",
   "metadata": {},
   "outputs": [
    {
     "data": {
      "text/html": [
       "<div>\n",
       "<style scoped>\n",
       "    .dataframe tbody tr th:only-of-type {\n",
       "        vertical-align: middle;\n",
       "    }\n",
       "\n",
       "    .dataframe tbody tr th {\n",
       "        vertical-align: top;\n",
       "    }\n",
       "\n",
       "    .dataframe thead th {\n",
       "        text-align: right;\n",
       "    }\n",
       "</style>\n",
       "<table border=\"1\" class=\"dataframe\">\n",
       "  <thead>\n",
       "    <tr style=\"text-align: right;\">\n",
       "      <th></th>\n",
       "      <th>comment</th>\n",
       "      <th>hate_speech</th>\n",
       "      <th>lemmatized_comment</th>\n",
       "      <th>document_vector_flat</th>\n",
       "    </tr>\n",
       "  </thead>\n",
       "  <tbody>\n",
       "    <tr>\n",
       "      <th>0</th>\n",
       "      <td>subsection retarded hungarian oh boy brace liv...</td>\n",
       "      <td>1</td>\n",
       "      <td>subsection retard hungarian oh boy brace live ...</td>\n",
       "      <td>0.019159256,-0.04540207,-0.013310673,0.0693318...</td>\n",
       "    </tr>\n",
       "    <tr>\n",
       "      <th>1</th>\n",
       "      <td>iii just got work Foundation and grounding mai...</td>\n",
       "      <td>0</td>\n",
       "      <td>iii just get work Foundation and ground mainly...</td>\n",
       "      <td>-0.009258354,-0.03500584,0.024274409,0.0689532...</td>\n",
       "    </tr>\n",
       "    <tr>\n",
       "      <th>2</th>\n",
       "      <td>wow guess cowboys every country</td>\n",
       "      <td>0</td>\n",
       "      <td>wow guess cowboys every country</td>\n",
       "      <td>0.031344395,-0.006678687,0.02832899,0.08750783...</td>\n",
       "    </tr>\n",
       "    <tr>\n",
       "      <th>3</th>\n",
       "      <td>owen benjamin cowboy song goes every country a...</td>\n",
       "      <td>0</td>\n",
       "      <td>owen benjamin cowboy song go every country amaze</td>\n",
       "      <td>0.027822988,-0.0011368291,-0.0047952645,0.0754...</td>\n",
       "    </tr>\n",
       "    <tr>\n",
       "      <th>4</th>\n",
       "      <td>all hear sun means live small town rn for work...</td>\n",
       "      <td>0</td>\n",
       "      <td>all hear sun mean live small town rn for work ...</td>\n",
       "      <td>0.020198364,0.010235707,0.00050375995,0.065230...</td>\n",
       "    </tr>\n",
       "  </tbody>\n",
       "</table>\n",
       "</div>"
      ],
      "text/plain": [
       "                                             comment  hate_speech  \\\n",
       "0  subsection retarded hungarian oh boy brace liv...            1   \n",
       "1  iii just got work Foundation and grounding mai...            0   \n",
       "2                    wow guess cowboys every country            0   \n",
       "3  owen benjamin cowboy song goes every country a...            0   \n",
       "4  all hear sun means live small town rn for work...            0   \n",
       "\n",
       "                                  lemmatized_comment  \\\n",
       "0  subsection retard hungarian oh boy brace live ...   \n",
       "1  iii just get work Foundation and ground mainly...   \n",
       "2                    wow guess cowboys every country   \n",
       "3   owen benjamin cowboy song go every country amaze   \n",
       "4  all hear sun mean live small town rn for work ...   \n",
       "\n",
       "                                document_vector_flat  \n",
       "0  0.019159256,-0.04540207,-0.013310673,0.0693318...  \n",
       "1  -0.009258354,-0.03500584,0.024274409,0.0689532...  \n",
       "2  0.031344395,-0.006678687,0.02832899,0.08750783...  \n",
       "3  0.027822988,-0.0011368291,-0.0047952645,0.0754...  \n",
       "4  0.020198364,0.010235707,0.00050375995,0.065230...  "
      ]
     },
     "execution_count": 2,
     "metadata": {},
     "output_type": "execute_result"
    }
   ],
   "source": [
    "import pandas as pd\n",
    "import numpy as np\n",
    "from sklearn.feature_extraction.text import TfidfVectorizer\n",
    "from sklearn.model_selection import train_test_split\n",
    "\n",
    "df = pd.read_csv('Processed_Reddit_Encoded_AK.csv')\n",
    "df.head()"
   ]
  },
  {
   "cell_type": "code",
   "execution_count": 3,
   "id": "136b0227-a8f3-4752-a8e6-cba5fdf565e5",
   "metadata": {},
   "outputs": [
    {
     "name": "stdout",
     "output_type": "stream",
     "text": [
      "X_train shape: (17760, 2)\n",
      "X_test shape: (4440, 2)\n",
      "y_train shape: (17760,)\n",
      "y_test shape: (4440,)\n",
      "X_train_vectors shape: (17760, 300)\n",
      "X_test_vectors shape: (4440, 300)\n"
     ]
    },
    {
     "name": "stderr",
     "output_type": "stream",
     "text": [
      "C:\\Users\\Aman Shekhar Sachan\\AppData\\Local\\Temp\\ipykernel_14580\\1435646104.py:6: SettingWithCopyWarning: \n",
      "A value is trying to be set on a copy of a slice from a DataFrame.\n",
      "Try using .loc[row_indexer,col_indexer] = value instead\n",
      "\n",
      "See the caveats in the documentation: https://pandas.pydata.org/pandas-docs/stable/user_guide/indexing.html#returning-a-view-versus-a-copy\n",
      "  X['document_vector_flat'] = X['document_vector_flat'].apply(lambda x: np.array([float(i) for i in x.split(',')]))\n"
     ]
    }
   ],
   "source": [
    "# Extract features and labels\n",
    "X = df[['lemmatized_comment', 'document_vector_flat']]\n",
    "y = df['hate_speech']\n",
    "\n",
    "# Convert document vectors to numerical form\n",
    "X['document_vector_flat'] = X['document_vector_flat'].apply(lambda x: np.array([float(i) for i in x.split(',')]))\n",
    "\n",
    "# Split the data\n",
    "X_train, X_test, y_train, y_test = train_test_split(X, y, test_size=0.2, random_state=42, stratify=y)\n",
    "\n",
    "# Handle document vectors separately\n",
    "X_train_vectors = np.stack(X_train['document_vector_flat'].values)\n",
    "X_test_vectors = np.stack(X_test['document_vector_flat'].values)\n",
    "\n",
    "# Optional: Combine features if needed\n",
    "combined_train_features = [X_train['lemmatized_comment'].values, X_train_vectors]\n",
    "combined_test_features = [X_test['lemmatized_comment'].values, X_test_vectors]\n",
    "\n",
    "# Print shapes to confirm\n",
    "print(\"X_train shape:\", X_train.shape)\n",
    "print(\"X_test shape:\", X_test.shape)\n",
    "print(\"y_train shape:\", y_train.shape)\n",
    "print(\"y_test shape:\", y_test.shape)\n",
    "print(\"X_train_vectors shape:\", X_train_vectors.shape)\n",
    "print(\"X_test_vectors shape:\", X_test_vectors.shape)\n"
   ]
  },
  {
   "cell_type": "code",
   "execution_count": 4,
   "id": "157ca65f-68de-4dfd-bcfd-9ba5f8f4ed3f",
   "metadata": {},
   "outputs": [
    {
     "name": "stdout",
     "output_type": "stream",
     "text": [
      "Class distribution after applying SMOTE:\n",
      "Counter({0: 13531, 1: 13531})\n"
     ]
    },
    {
     "data": {
      "image/png": "[encoded data removed]",
      "text/plain": [
       "<Figure size 800x600 with 1 Axes>"
      ]
     },
     "metadata": {},
     "output_type": "display_data"
    },
    {
     "name": "stdout",
     "output_type": "stream",
     "text": [
      "X_train_resampled_vectors shape: (27062, 300)\n",
      "y_train_resampled shape: (27062,)\n"
     ]
    }
   ],
   "source": [
    "import matplotlib.pyplot as plt\n",
    "from imblearn.over_sampling import SMOTE\n",
    "from collections import Counter\n",
    "\n",
    "# Initialize SMOTE\n",
    "smote = SMOTE(random_state=42)\n",
    "\n",
    "# Apply SMOTE to the training data\n",
    "X_train_resampled_vectors, y_train_resampled = smote.fit_resample(X_train_vectors, y_train)\n",
    "\n",
    "# Display the new class distribution after applying SMOTE\n",
    "print(\"Class distribution after applying SMOTE:\")\n",
    "print(Counter(y_train_resampled))\n",
    "\n",
    "# Optional: Plot the new distribution\n",
    "plt.figure(figsize=(8, 6))\n",
    "pd.Series(y_train_resampled).value_counts().plot(kind='bar')\n",
    "plt.title('Class Distribution after SMOTE')\n",
    "plt.xlabel('Class')\n",
    "plt.ylabel('Count')\n",
    "plt.xticks([0, 1], ['Non-Hate Speech (0)', 'Hate Speech (1)'], rotation=0)\n",
    "plt.show()\n",
    "\n",
    "# Print shapes to confirm\n",
    "print(\"X_train_resampled_vectors shape:\", X_train_resampled_vectors.shape)\n",
    "print(\"y_train_resampled shape:\", y_train_resampled.shape)\n"
   ]
  },
  {
   "cell_type": "markdown",
   "id": "85e583b8-9b27-4137-82b9-bf3405001aa8",
   "metadata": {},
   "source": [
    "### now save balanced train file and the test file in csv format"
   ]
  },
  {
   "cell_type": "code",
   "execution_count": 5,
   "id": "aabbb34a-1e2a-4ab6-8d8f-4df61d348fae",
   "metadata": {},
   "outputs": [
    {
     "name": "stdout",
     "output_type": "stream",
     "text": [
      "Train and test data saved successfully.\n"
     ]
    }
   ],
   "source": [
    "import pandas as pd\n",
    "import numpy as np\n",
    "\n",
    "# Assuming you have already applied SMOTE and have X_train_resampled_vectors, y_train_resampled, X_test_vectors, y_test\n",
    "\n",
    "# Convert X_train_resampled_vectors and X_test_vectors back to DataFrame format if needed\n",
    "X_train_resampled_df = pd.DataFrame(X_train_resampled_vectors, columns=[f'vector_{i+1}' for i in range(X_train_resampled_vectors.shape[1])])\n",
    "X_test_df = pd.DataFrame(X_test_vectors, columns=[f'vector_{i+1}' for i in range(X_test_vectors.shape[1])])\n",
    "\n",
    "# Concatenate X_train_resampled_df with lemmatized_comment and save as train_data.csv\n",
    "X_train_resampled_df = pd.concat([X_train_resampled_df, X_train['lemmatized_comment'].reset_index(drop=True)], axis=1)\n",
    "train_data = pd.concat([X_train_resampled_df, y_train_resampled.reset_index(drop=True)], axis=1)\n",
    "train_data.to_csv('train.csv', index=False)\n",
    "\n",
    "# Concatenate X_test_df with lemmatized_comment and save as test_data.csv\n",
    "X_test_df = pd.concat([X_test_df, X_test['lemmatized_comment'].reset_index(drop=True)], axis=1)\n",
    "test_data = pd.concat([X_test_df, y_test.reset_index(drop=True)], axis=1)\n",
    "test_data.to_csv('test.csv', index=False)\n",
    "\n",
    "print(\"Train and test data saved successfully.\")\n"
   ]
  },
  {
   "cell_type": "markdown",
   "id": "f7b217a2-7df8-4bd4-82f1-6e36e254f875",
   "metadata": {},
   "source": [
    "## SVM (ML Model)"
   ]
  },
  {
   "cell_type": "code",
   "execution_count": 1,
   "id": "05d885ef-f5ee-4d00-a4ba-0e4123f462bf",
   "metadata": {},
   "outputs": [
    {
     "name": "stderr",
     "output_type": "stream",
     "text": [
      "C:\\Users\\Aman Shekhar Sachan\\AppData\\Local\\Temp\\ipykernel_12696\\735358779.py:7: DtypeWarning: Columns (300) have mixed types. Specify dtype option on import or set low_memory=False.\n",
      "  train_df = pd.read_csv('train.csv')\n"
     ]
    }
   ],
   "source": [
    "import pandas as pd\n",
    "from sklearn.preprocessing import StandardScaler\n",
    "from sklearn.svm import SVC\n",
    "from sklearn.metrics import classification_report, accuracy_score\n",
    "\n",
    "# Load the train and test CSV files\n",
    "train_df = pd.read_csv('train.csv')\n",
    "test_df = pd.read_csv('test.csv')\n",
    "\n",
    "# Split the train data into features (X_train) and labels (y_train)\n",
    "X_train = train_df.iloc[:, :-2]  # All columns except the last two (features)\n",
    "y_train = train_df['hate_speech']  # The 'hate_speech' column (labels)\n",
    "\n",
    "# Split the test data into features (X_test) and labels (y_test)\n",
    "X_test = test_df.iloc[:, :-2]  # All columns except the last two (features)\n",
    "y_test = test_df['hate_speech']  # The 'hate_speech' column (labels)\n"
   ]
  },
  {
   "cell_type": "code",
   "execution_count": 2,
   "id": "cbf1646e-d2ea-4c8c-9ef2-8b0288051538",
   "metadata": {},
   "outputs": [
    {
     "name": "stdout",
     "output_type": "stream",
     "text": [
      "hate_speech\n",
      "0    13539\n",
      "1    13539\n",
      "Name: count, dtype: int64 hate_speech\n",
      "0    3386\n",
      "1    1057\n",
      "Name: count, dtype: int64\n"
     ]
    }
   ],
   "source": [
    "# Check the class distribution of the 'hate_speech' column\n",
    "class_distribution1 = train_df['hate_speech'].value_counts()\n",
    "class_distribution2 = test_df['hate_speech'].value_counts()\n",
    "\n",
    "# Print the class distribution\n",
    "print(class_distribution1 ,class_distribution2 )"
   ]
  },
  {
   "cell_type": "code",
   "execution_count": 3,
   "id": "09e23493-3682-413f-bcc9-ee31fdf82669",
   "metadata": {},
   "outputs": [],
   "source": [
    "# Standardize the feature data\n",
    "scaler = StandardScaler()\n",
    "X_train = scaler.fit_transform(X_train)\n",
    "X_test = scaler.transform(X_test)\n"
   ]
  },
  {
   "cell_type": "code",
   "execution_count": 4,
   "id": "6ea18bf9-24b8-4d9f-9eb1-1677669ebf14",
   "metadata": {},
   "outputs": [
    {
     "data": {
      "text/html": [
       "<style>#sk-container-id-1 {\n",
       "  /* Definition of color scheme common for light and dark mode */\n",
       "  --sklearn-color-text: black;\n",
       "  --sklearn-color-line: gray;\n",
       "  /* Definition of color scheme for unfitted estimators */\n",
       "  --sklearn-color-unfitted-level-0: #fff5e6;\n",
       "  --sklearn-color-unfitted-level-1: #f6e4d2;\n",
       "  --sklearn-color-unfitted-level-2: #ffe0b3;\n",
       "  --sklearn-color-unfitted-level-3: chocolate;\n",
       "  /* Definition of color scheme for fitted estimators */\n",
       "  --sklearn-color-fitted-level-0: #f0f8ff;\n",
       "  --sklearn-color-fitted-level-1: #d4ebff;\n",
       "  --sklearn-color-fitted-level-2: #b3dbfd;\n",
       "  --sklearn-color-fitted-level-3: cornflowerblue;\n",
       "\n",
       "  /* Specific color for light theme */\n",
       "  --sklearn-color-text-on-default-background: var(--sg-text-color, var(--theme-code-foreground, var(--jp-content-font-color1, black)));\n",
       "  --sklearn-color-background: var(--sg-background-color, var(--theme-background, var(--jp-layout-color0, white)));\n",
       "  --sklearn-color-border-box: var(--sg-text-color, var(--theme-code-foreground, var(--jp-content-font-color1, black)));\n",
       "  --sklearn-color-icon: #696969;\n",
       "\n",
       "  @media (prefers-color-scheme: dark) {\n",
       "    /* Redefinition of color scheme for dark theme */\n",
       "    --sklearn-color-text-on-default-background: var(--sg-text-color, var(--theme-code-foreground, var(--jp-content-font-color1, white)));\n",
       "    --sklearn-color-background: var(--sg-background-color, var(--theme-background, var(--jp-layout-color0, #111)));\n",
       "    --sklearn-color-border-box: var(--sg-text-color, var(--theme-code-foreground, var(--jp-content-font-color1, white)));\n",
       "    --sklearn-color-icon: #878787;\n",
       "  }\n",
       "}\n",
       "\n",
       "#sk-container-id-1 {\n",
       "  color: var(--sklearn-color-text);\n",
       "}\n",
       "\n",
       "#sk-container-id-1 pre {\n",
       "  padding: 0;\n",
       "}\n",
       "\n",
       "#sk-container-id-1 input.sk-hidden--visually {\n",
       "  border: 0;\n",
       "  clip: rect(1px 1px 1px 1px);\n",
       "  clip: rect(1px, 1px, 1px, 1px);\n",
       "  height: 1px;\n",
       "  margin: -1px;\n",
       "  overflow: hidden;\n",
       "  padding: 0;\n",
       "  position: absolute;\n",
       "  width: 1px;\n",
       "}\n",
       "\n",
       "#sk-container-id-1 div.sk-dashed-wrapped {\n",
       "  border: 1px dashed var(--sklearn-color-line);\n",
       "  margin: 0 0.4em 0.5em 0.4em;\n",
       "  box-sizing: border-box;\n",
       "  padding-bottom: 0.4em;\n",
       "  background-color: var(--sklearn-color-background);\n",
       "}\n",
       "\n",
       "#sk-container-id-1 div.sk-container {\n",
       "  /* jupyter's `normalize.less` sets `[hidden] { display: none; }`\n",
       "     but bootstrap.min.css set `[hidden] { display: none !important; }`\n",
       "     so we also need the `!important` here to be able to override the\n",
       "     default hidden behavior on the sphinx rendered scikit-learn.org.\n",
       "     See: https://github.com/scikit-learn/scikit-learn/issues/21755 */\n",
       "  display: inline-block !important;\n",
       "  position: relative;\n",
       "}\n",
       "\n",
       "#sk-container-id-1 div.sk-text-repr-fallback {\n",
       "  display: none;\n",
       "}\n",
       "\n",
       "div.sk-parallel-item,\n",
       "div.sk-serial,\n",
       "div.sk-item {\n",
       "  /* draw centered vertical line to link estimators */\n",
       "  background-image: linear-gradient(var(--sklearn-color-text-on-default-background), var(--sklearn-color-text-on-default-background));\n",
       "  background-size: 2px 100%;\n",
       "  background-repeat: no-repeat;\n",
       "  background-position: center center;\n",
       "}\n",
       "\n",
       "/* Parallel-specific style estimator block */\n",
       "\n",
       "#sk-container-id-1 div.sk-parallel-item::after {\n",
       "  content: \"\";\n",
       "  width: 100%;\n",
       "  border-bottom: 2px solid var(--sklearn-color-text-on-default-background);\n",
       "  flex-grow: 1;\n",
       "}\n",
       "\n",
       "#sk-container-id-1 div.sk-parallel {\n",
       "  display: flex;\n",
       "  align-items: stretch;\n",
       "  justify-content: center;\n",
       "  background-color: var(--sklearn-color-background);\n",
       "  position: relative;\n",
       "}\n",
       "\n",
       "#sk-container-id-1 div.sk-parallel-item {\n",
       "  display: flex;\n",
       "  flex-direction: column;\n",
       "}\n",
       "\n",
       "#sk-container-id-1 div.sk-parallel-item:first-child::after {\n",
       "  align-self: flex-end;\n",
       "  width: 50%;\n",
       "}\n",
       "\n",
       "#sk-container-id-1 div.sk-parallel-item:last-child::after {\n",
       "  align-self: flex-start;\n",
       "  width: 50%;\n",
       "}\n",
       "\n",
       "#sk-container-id-1 div.sk-parallel-item:only-child::after {\n",
       "  width: 0;\n",
       "}\n",
       "\n",
       "/* Serial-specific style estimator block */\n",
       "\n",
       "#sk-container-id-1 div.sk-serial {\n",
       "  display: flex;\n",
       "  flex-direction: column;\n",
       "  align-items: center;\n",
       "  background-color: var(--sklearn-color-background);\n",
       "  padding-right: 1em;\n",
       "  padding-left: 1em;\n",
       "}\n",
       "\n",
       "\n",
       "/* Toggleable style: style used for estimator/Pipeline/ColumnTransformer box that is\n",
       "clickable and can be expanded/collapsed.\n",
       "- Pipeline and ColumnTransformer use this feature and define the default style\n",
       "- Estimators will overwrite some part of the style using the `sk-estimator` class\n",
       "*/\n",
       "\n",
       "/* Pipeline and ColumnTransformer style (default) */\n",
       "\n",
       "#sk-container-id-1 div.sk-toggleable {\n",
       "  /* Default theme specific background. It is overwritten whether we have a\n",
       "  specific estimator or a Pipeline/ColumnTransformer */\n",
       "  background-color: var(--sklearn-color-background);\n",
       "}\n",
       "\n",
       "/* Toggleable label */\n",
       "#sk-container-id-1 label.sk-toggleable__label {\n",
       "  cursor: pointer;\n",
       "  display: block;\n",
       "  width: 100%;\n",
       "  margin-bottom: 0;\n",
       "  padding: 0.5em;\n",
       "  box-sizing: border-box;\n",
       "  text-align: center;\n",
       "}\n",
       "\n",
       "#sk-container-id-1 label.sk-toggleable__label-arrow:before {\n",
       "  /* Arrow on the left of the label */\n",
       "  content: \"▸\";\n",
       "  float: left;\n",
       "  margin-right: 0.25em;\n",
       "  color: var(--sklearn-color-icon);\n",
       "}\n",
       "\n",
       "#sk-container-id-1 label.sk-toggleable__label-arrow:hover:before {\n",
       "  color: var(--sklearn-color-text);\n",
       "}\n",
       "\n",
       "/* Toggleable content - dropdown */\n",
       "\n",
       "#sk-container-id-1 div.sk-toggleable__content {\n",
       "  max-height: 0;\n",
       "  max-width: 0;\n",
       "  overflow: hidden;\n",
       "  text-align: left;\n",
       "  /* unfitted */\n",
       "  background-color: var(--sklearn-color-unfitted-level-0);\n",
       "}\n",
       "\n",
       "#sk-container-id-1 div.sk-toggleable__content.fitted {\n",
       "  /* fitted */\n",
       "  background-color: var(--sklearn-color-fitted-level-0);\n",
       "}\n",
       "\n",
       "#sk-container-id-1 div.sk-toggleable__content pre {\n",
       "  margin: 0.2em;\n",
       "  border-radius: 0.25em;\n",
       "  color: var(--sklearn-color-text);\n",
       "  /* unfitted */\n",
       "  background-color: var(--sklearn-color-unfitted-level-0);\n",
       "}\n",
       "\n",
       "#sk-container-id-1 div.sk-toggleable__content.fitted pre {\n",
       "  /* unfitted */\n",
       "  background-color: var(--sklearn-color-fitted-level-0);\n",
       "}\n",
       "\n",
       "#sk-container-id-1 input.sk-toggleable__control:checked~div.sk-toggleable__content {\n",
       "  /* Expand drop-down */\n",
       "  max-height: 200px;\n",
       "  max-width: 100%;\n",
       "  overflow: auto;\n",
       "}\n",
       "\n",
       "#sk-container-id-1 input.sk-toggleable__control:checked~label.sk-toggleable__label-arrow:before {\n",
       "  content: \"▾\";\n",
       "}\n",
       "\n",
       "/* Pipeline/ColumnTransformer-specific style */\n",
       "\n",
       "#sk-container-id-1 div.sk-label input.sk-toggleable__control:checked~label.sk-toggleable__label {\n",
       "  color: var(--sklearn-color-text);\n",
       "  background-color: var(--sklearn-color-unfitted-level-2);\n",
       "}\n",
       "\n",
       "#sk-container-id-1 div.sk-label.fitted input.sk-toggleable__control:checked~label.sk-toggleable__label {\n",
       "  background-color: var(--sklearn-color-fitted-level-2);\n",
       "}\n",
       "\n",
       "/* Estimator-specific style */\n",
       "\n",
       "/* Colorize estimator box */\n",
       "#sk-container-id-1 div.sk-estimator input.sk-toggleable__control:checked~label.sk-toggleable__label {\n",
       "  /* unfitted */\n",
       "  background-color: var(--sklearn-color-unfitted-level-2);\n",
       "}\n",
       "\n",
       "#sk-container-id-1 div.sk-estimator.fitted input.sk-toggleable__control:checked~label.sk-toggleable__label {\n",
       "  /* fitted */\n",
       "  background-color: var(--sklearn-color-fitted-level-2);\n",
       "}\n",
       "\n",
       "#sk-container-id-1 div.sk-label label.sk-toggleable__label,\n",
       "#sk-container-id-1 div.sk-label label {\n",
       "  /* The background is the default theme color */\n",
       "  color: var(--sklearn-color-text-on-default-background);\n",
       "}\n",
       "\n",
       "/* On hover, darken the color of the background */\n",
       "#sk-container-id-1 div.sk-label:hover label.sk-toggleable__label {\n",
       "  color: var(--sklearn-color-text);\n",
       "  background-color: var(--sklearn-color-unfitted-level-2);\n",
       "}\n",
       "\n",
       "/* Label box, darken color on hover, fitted */\n",
       "#sk-container-id-1 div.sk-label.fitted:hover label.sk-toggleable__label.fitted {\n",
       "  color: var(--sklearn-color-text);\n",
       "  background-color: var(--sklearn-color-fitted-level-2);\n",
       "}\n",
       "\n",
       "/* Estimator label */\n",
       "\n",
       "#sk-container-id-1 div.sk-label label {\n",
       "  font-family: monospace;\n",
       "  font-weight: bold;\n",
       "  display: inline-block;\n",
       "  line-height: 1.2em;\n",
       "}\n",
       "\n",
       "#sk-container-id-1 div.sk-label-container {\n",
       "  text-align: center;\n",
       "}\n",
       "\n",
       "/* Estimator-specific */\n",
       "#sk-container-id-1 div.sk-estimator {\n",
       "  font-family: monospace;\n",
       "  border: 1px dotted var(--sklearn-color-border-box);\n",
       "  border-radius: 0.25em;\n",
       "  box-sizing: border-box;\n",
       "  margin-bottom: 0.5em;\n",
       "  /* unfitted */\n",
       "  background-color: var(--sklearn-color-unfitted-level-0);\n",
       "}\n",
       "\n",
       "#sk-container-id-1 div.sk-estimator.fitted {\n",
       "  /* fitted */\n",
       "  background-color: var(--sklearn-color-fitted-level-0);\n",
       "}\n",
       "\n",
       "/* on hover */\n",
       "#sk-container-id-1 div.sk-estimator:hover {\n",
       "  /* unfitted */\n",
       "  background-color: var(--sklearn-color-unfitted-level-2);\n",
       "}\n",
       "\n",
       "#sk-container-id-1 div.sk-estimator.fitted:hover {\n",
       "  /* fitted */\n",
       "  background-color: var(--sklearn-color-fitted-level-2);\n",
       "}\n",
       "\n",
       "/* Specification for estimator info (e.g. \"i\" and \"?\") */\n",
       "\n",
       "/* Common style for \"i\" and \"?\" */\n",
       "\n",
       ".sk-estimator-doc-link,\n",
       "a:link.sk-estimator-doc-link,\n",
       "a:visited.sk-estimator-doc-link {\n",
       "  float: right;\n",
       "  font-size: smaller;\n",
       "  line-height: 1em;\n",
       "  font-family: monospace;\n",
       "  background-color: var(--sklearn-color-background);\n",
       "  border-radius: 1em;\n",
       "  height: 1em;\n",
       "  width: 1em;\n",
       "  text-decoration: none !important;\n",
       "  margin-left: 1ex;\n",
       "  /* unfitted */\n",
       "  border: var(--sklearn-color-unfitted-level-1) 1pt solid;\n",
       "  color: var(--sklearn-color-unfitted-level-1);\n",
       "}\n",
       "\n",
       ".sk-estimator-doc-link.fitted,\n",
       "a:link.sk-estimator-doc-link.fitted,\n",
       "a:visited.sk-estimator-doc-link.fitted {\n",
       "  /* fitted */\n",
       "  border: var(--sklearn-color-fitted-level-1) 1pt solid;\n",
       "  color: var(--sklearn-color-fitted-level-1);\n",
       "}\n",
       "\n",
       "/* On hover */\n",
       "div.sk-estimator:hover .sk-estimator-doc-link:hover,\n",
       ".sk-estimator-doc-link:hover,\n",
       "div.sk-label-container:hover .sk-estimator-doc-link:hover,\n",
       ".sk-estimator-doc-link:hover {\n",
       "  /* unfitted */\n",
       "  background-color: var(--sklearn-color-unfitted-level-3);\n",
       "  color: var(--sklearn-color-background);\n",
       "  text-decoration: none;\n",
       "}\n",
       "\n",
       "div.sk-estimator.fitted:hover .sk-estimator-doc-link.fitted:hover,\n",
       ".sk-estimator-doc-link.fitted:hover,\n",
       "div.sk-label-container:hover .sk-estimator-doc-link.fitted:hover,\n",
       ".sk-estimator-doc-link.fitted:hover {\n",
       "  /* fitted */\n",
       "  background-color: var(--sklearn-color-fitted-level-3);\n",
       "  color: var(--sklearn-color-background);\n",
       "  text-decoration: none;\n",
       "}\n",
       "\n",
       "/* Span, style for the box shown on hovering the info icon */\n",
       ".sk-estimator-doc-link span {\n",
       "  display: none;\n",
       "  z-index: 9999;\n",
       "  position: relative;\n",
       "  font-weight: normal;\n",
       "  right: .2ex;\n",
       "  padding: .5ex;\n",
       "  margin: .5ex;\n",
       "  width: min-content;\n",
       "  min-width: 20ex;\n",
       "  max-width: 50ex;\n",
       "  color: var(--sklearn-color-text);\n",
       "  box-shadow: 2pt 2pt 4pt #999;\n",
       "  /* unfitted */\n",
       "  background: var(--sklearn-color-unfitted-level-0);\n",
       "  border: .5pt solid var(--sklearn-color-unfitted-level-3);\n",
       "}\n",
       "\n",
       ".sk-estimator-doc-link.fitted span {\n",
       "  /* fitted */\n",
       "  background: var(--sklearn-color-fitted-level-0);\n",
       "  border: var(--sklearn-color-fitted-level-3);\n",
       "}\n",
       "\n",
       ".sk-estimator-doc-link:hover span {\n",
       "  display: block;\n",
       "}\n",
       "\n",
       "/* \"?\"-specific style due to the `<a>` HTML tag */\n",
       "\n",
       "#sk-container-id-1 a.estimator_doc_link {\n",
       "  float: right;\n",
       "  font-size: 1rem;\n",
       "  line-height: 1em;\n",
       "  font-family: monospace;\n",
       "  background-color: var(--sklearn-color-background);\n",
       "  border-radius: 1rem;\n",
       "  height: 1rem;\n",
       "  width: 1rem;\n",
       "  text-decoration: none;\n",
       "  /* unfitted */\n",
       "  color: var(--sklearn-color-unfitted-level-1);\n",
       "  border: var(--sklearn-color-unfitted-level-1) 1pt solid;\n",
       "}\n",
       "\n",
       "#sk-container-id-1 a.estimator_doc_link.fitted {\n",
       "  /* fitted */\n",
       "  border: var(--sklearn-color-fitted-level-1) 1pt solid;\n",
       "  color: var(--sklearn-color-fitted-level-1);\n",
       "}\n",
       "\n",
       "/* On hover */\n",
       "#sk-container-id-1 a.estimator_doc_link:hover {\n",
       "  /* unfitted */\n",
       "  background-color: var(--sklearn-color-unfitted-level-3);\n",
       "  color: var(--sklearn-color-background);\n",
       "  text-decoration: none;\n",
       "}\n",
       "\n",
       "#sk-container-id-1 a.estimator_doc_link.fitted:hover {\n",
       "  /* fitted */\n",
       "  background-color: var(--sklearn-color-fitted-level-3);\n",
       "}\n",
       "</style><div id=\"sk-container-id-1\" class=\"sk-top-container\"><div class=\"sk-text-repr-fallback\"><pre>SVC(C=100, random_state=42)</pre><b>In a Jupyter environment, please rerun this cell to show the HTML representation or trust the notebook. <br />On GitHub, the HTML representation is unable to render, please try loading this page with nbviewer.org.</b></div><div class=\"sk-container\" hidden><div class=\"sk-item\"><div class=\"sk-estimator fitted sk-toggleable\"><input class=\"sk-toggleable__control sk-hidden--visually\" id=\"sk-estimator-id-1\" type=\"checkbox\" checked><label for=\"sk-estimator-id-1\" class=\"sk-toggleable__label fitted sk-toggleable__label-arrow fitted\">&nbsp;&nbsp;SVC<a class=\"sk-estimator-doc-link fitted\" rel=\"noreferrer\" target=\"_blank\" href=\"https://scikit-learn.org/1.5/modules/generated/sklearn.svm.SVC.html\">?<span>Documentation for SVC</span></a><span class=\"sk-estimator-doc-link fitted\">i<span>Fitted</span></span></label><div class=\"sk-toggleable__content fitted\"><pre>SVC(C=100, random_state=42)</pre></div> </div></div></div></div>"
      ],
      "text/plain": [
       "SVC(C=100, random_state=42)"
      ]
     },
     "execution_count": 4,
     "metadata": {},
     "output_type": "execute_result"
    }
   ],
   "source": [
    "# Initialize the SVM model with the best parameters\n",
    "svm_model = SVC(C=100, gamma='scale', kernel='rbf', random_state=42)\n",
    "\n",
    "# Train the SVM model\n",
    "svm_model.fit(X_train, y_train)\n"
   ]
  },
  {
   "cell_type": "code",
   "execution_count": 5,
   "id": "e0fc68e5-8c39-4911-8e35-4f7737d0a8f8",
   "metadata": {},
   "outputs": [
    {
     "name": "stdout",
     "output_type": "stream",
     "text": [
      "Classification Report:\n",
      "              precision    recall  f1-score   support\n",
      "\n",
      "           0       0.88      0.90      0.89      3386\n",
      "           1       0.66      0.60      0.62      1057\n",
      "\n",
      "    accuracy                           0.83      4443\n",
      "   macro avg       0.77      0.75      0.76      4443\n",
      "weighted avg       0.82      0.83      0.83      4443\n",
      "\n",
      "Accuracy: 0.8296\n"
     ]
    }
   ],
   "source": [
    "# Predict on the test set\n",
    "y_pred = svm_model.predict(X_test)\n",
    "\n",
    "# Display the classification report\n",
    "print(\"Classification Report:\")\n",
    "print(classification_report(y_test, y_pred))\n",
    "\n",
    "# Display the accuracy score\n",
    "accuracy = accuracy_score(y_test, y_pred)\n",
    "print(f\"Accuracy: {accuracy:.4f}\")\n"
   ]
  },
  {
   "cell_type": "code",
   "execution_count": 7,
   "id": "e6094551-4ab6-4c54-af3c-b5bb446a9a75",
   "metadata": {},
   "outputs": [
    {
     "name": "stdout",
     "output_type": "stream",
     "text": [
      "Accuracy: 0.8296\n",
      "Precision: 0.6566\n",
      "Recall: 0.5951\n",
      "F1 Score: 0.6243\n"
     ]
    }
   ],
   "source": [
    "from sklearn.metrics import classification_report, accuracy_score, precision_score, recall_score, f1_score\n",
    "\n",
    "# Calculate and display individual metrics\n",
    "accuracy = accuracy_score(y_test, y_pred)\n",
    "precision = precision_score(y_test, y_pred)\n",
    "recall = recall_score(y_test, y_pred)\n",
    "f1 = f1_score(y_test, y_pred)\n",
    "\n",
    "print(f\"Accuracy: {accuracy:.4f}\")\n",
    "print(f\"Precision: {precision:.4f}\")\n",
    "print(f\"Recall: {recall:.4f}\")\n",
    "print(f\"F1 Score: {f1:.4f}\")"
   ]
  },
  {
   "cell_type": "code",
   "execution_count": null,
   "id": "ef5b20c4-a46f-400c-b052-67468122233d",
   "metadata": {},
   "outputs": [],
   "source": []
  }
 ],
 "metadata": {
  "kernelspec": {
   "display_name": "Python 3 (ipykernel)",
   "language": "python",
   "name": "python3"
  },
  "language_info": {
   "codemirror_mode": {
    "name": "ipython",
    "version": 3
   },
   "file_extension": ".py",
   "mimetype": "text/x-python",
   "name": "python",
   "nbconvert_exporter": "python",
   "pygments_lexer": "ipython3",
   "version": "3.11.7"
  }
 },
 "nbformat": 4,
 "nbformat_minor": 5
}
