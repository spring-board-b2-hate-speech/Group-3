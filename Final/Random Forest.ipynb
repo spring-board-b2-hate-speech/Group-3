{
 "cells": [
  {
   "cell_type": "code",
   "execution_count": 1,
   "id": "68556a6c-58b3-4234-a7db-b29cda26dfa0",
   "metadata": {},
   "outputs": [],
   "source": [
    "import pandas as pd\n",
    "from sklearn.feature_extraction.text import TfidfVectorizer\n",
    "from sklearn.ensemble import RandomForestClassifier\n",
    "from sklearn.metrics import classification_report, accuracy_score\n",
    "from sklearn.model_selection import GridSearchCV\n",
    "from imblearn.over_sampling import SMOTE\n",
    "from scipy.sparse import csr_matrix\n"
   ]
  },
  {
   "cell_type": "code",
   "execution_count": 2,
   "id": "9aa3426c-c1a6-4a2b-9482-270281ca4ec5",
   "metadata": {},
   "outputs": [],
   "source": [
    "# Load the data\n",
    "train_data = pd.read_csv('train.csv')\n",
    "test_data = pd.read_csv('test.csv')\n",
    "\n",
    "# Map original labels to binary values\n",
    "label_mapping = {'__label__0': 0, '__label__1': 1}\n",
    "train_data['label'] = train_data['label'].map(label_mapping)\n",
    "test_data['label'] = test_data['label'].map(label_mapping)\n",
    "\n",
    "# Ensure text column is string type and handle missing values\n",
    "train_data['text'] = train_data['text'].fillna('').astype(str)\n",
    "test_data['text'] = test_data['text'].fillna('').astype(str)\n"
   ]
  },
  {
   "cell_type": "code",
   "execution_count": 3,
   "id": "8e58dfc4-daf5-41ac-af56-0416674186d1",
   "metadata": {},
   "outputs": [],
   "source": [
    "# Define a simple text preprocessing function\n",
    "def preprocess_text(text):\n",
    "    return text.lower()\n",
    "\n",
    "# Apply preprocessing\n",
    "train_data['text'] = train_data['text'].apply(preprocess_text)\n",
    "test_data['text'] = test_data['text'].apply(preprocess_text)\n"
   ]
  },
  {
   "cell_type": "code",
   "execution_count": 4,
   "id": "cd4e07f6-6dd4-404a-9866-9ff616c24a67",
   "metadata": {},
   "outputs": [],
   "source": [
    "# Initialize the TfidfVectorizer\n",
    "vectorizer = TfidfVectorizer(max_features=2000)\n",
    "\n",
    "# Vectorize the training data\n",
    "X_train_vec = vectorizer.fit_transform(train_data['text'])\n",
    "X_test_vec = vectorizer.transform(test_data['text'])\n",
    "\n",
    "# Extract labels\n",
    "y_train = train_data['label']\n",
    "y_test = test_data['label']\n"
   ]
  },
  {
   "cell_type": "code",
   "execution_count": 5,
   "id": "96a20d6b-4c7a-4e52-a1d2-69c855b1476a",
   "metadata": {},
   "outputs": [],
   "source": [
    "# Apply SMOTE to balance the training data\n",
    "smote = SMOTE(random_state=42)\n",
    "X_train_vec_smote, y_train_smote = smote.fit_resample(X_train_vec, y_train)\n",
    "\n",
    "# Convert to CSR matrix\n",
    "X_train_vec_smote = csr_matrix(X_train_vec_smote)\n"
   ]
  },
  {
   "cell_type": "code",
   "execution_count": 6,
   "id": "785d479a-2df6-4eee-bfa3-3b37328612e5",
   "metadata": {},
   "outputs": [],
   "source": [
    "# Define the function to evaluate the model\n",
    "def evaluate_model(model, X_train, y_train, X_test, y_test):\n",
    "    model.fit(X_train, y_train)\n",
    "    y_pred = model.predict(X_test)\n",
    "    accuracy = accuracy_score(y_test, y_pred)\n",
    "    print(f\"Accuracy: {accuracy:.4f}\")\n",
    "    print(\"Classification Report:\")\n",
    "    print(classification_report(y_test, y_pred))\n",
    "    return accuracy"
   ]
  },
  {
   "cell_type": "code",
   "execution_count": 7,
   "id": "0d952262-0caa-426f-9764-69dd1635f42b",
   "metadata": {},
   "outputs": [
    {
     "name": "stdout",
     "output_type": "stream",
     "text": [
      "Best Random Forest parameters: {'max_depth': None, 'min_samples_split': 2, 'n_estimators': 200}\n"
     ]
    }
   ],
   "source": [
    "# Set up Random Forest hyperparameter tuning\n",
    "rf_param_grid = {\n",
    "    'n_estimators': [50, 100, 200],\n",
    "    'max_depth': [None, 10, 20, 30],\n",
    "    'min_samples_split': [2, 5, 10]\n",
    "}\n",
    "\n",
    "# Perform Grid Search with Random Forest\n",
    "rf_grid_search = GridSearchCV(RandomForestClassifier(random_state=42), rf_param_grid, cv=3, n_jobs=-1)\n",
    "rf_grid_search.fit(X_train_vec_smote, y_train_smote)\n",
    "\n",
    "# Get the best Random Forest model\n",
    "best_rf = rf_grid_search.best_estimator_\n",
    "print(f\"Best Random Forest parameters: {rf_grid_search.best_params_}\")"
   ]
  },
  {
   "cell_type": "code",
   "execution_count": 8,
   "id": "29e11899-6966-44db-81b8-80a9103c1eee",
   "metadata": {},
   "outputs": [
    {
     "name": "stdout",
     "output_type": "stream",
     "text": [
      "Accuracy: 0.8809\n",
      "Classification Report:\n",
      "              precision    recall  f1-score   support\n",
      "\n",
      "           0       0.89      0.96      0.92      3298\n",
      "           1       0.84      0.65      0.73      1103\n",
      "\n",
      "    accuracy                           0.88      4401\n",
      "   macro avg       0.87      0.80      0.83      4401\n",
      "weighted avg       0.88      0.88      0.88      4401\n",
      "\n",
      "Benchmark score (Random Forest): 0.8809\n"
     ]
    }
   ],
   "source": [
    "# Evaluate the best Random Forest model\n",
    "benchmark_score = evaluate_model(best_rf, X_train_vec_smote, y_train_smote, X_test_vec, y_test)\n",
    "\n",
    "print(f\"Benchmark score (Random Forest): {benchmark_score:.4f}\")\n"
   ]
  }
 ],
 "metadata": {
  "kernelspec": {
   "display_name": "Python 3 (ipykernel)",
   "language": "python",
   "name": "python3"
  },
  "language_info": {
   "codemirror_mode": {
    "name": "ipython",
    "version": 3
   },
   "file_extension": ".py",
   "mimetype": "text/x-python",
   "name": "python",
   "nbconvert_exporter": "python",
   "pygments_lexer": "ipython3",
   "version": "3.11.7"
  }
 },
 "nbformat": 4,
 "nbformat_minor": 5
}
