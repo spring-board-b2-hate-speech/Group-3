{
 "cells": [
  {
   "cell_type": "markdown",
   "id": "59fb1273-a2eb-496c-81c6-c3a19a69e668",
   "metadata": {},
   "source": [
    "# **Hate Speech Detection on Reddit**"
   ]
  },
  {
   "cell_type": "markdown",
   "id": "a2eca4f4-6267-4c6c-a8f4-2c1fa5ddf28e",
   "metadata": {},
   "source": [
    "#### To develop a hate speech detection system capable of accurately identifying and classifying hate speech in real-time, ensuring a safer and more welcoming environment for Reddit users."
   ]
  },
  {
   "cell_type": "markdown",
   "id": "3d1030b5-9b96-4a47-b695-a9a06abffd87",
   "metadata": {},
   "source": [
    "### **Solution Description**\n",
    "##### To tackle hate speech on Reddit, a comprehensive detection system was developed using machine learning (ML) and deep learning (DL) techniques:\n",
    "\n",
    "##### **Data Preparation:** Collected and preprocessed Reddit comments, addressed class imbalances using SMOTE.\n",
    "##### **Model Development:** Implemented and optimized ML models (SVM, SGD Classifier,Random Forest etc.) and DL models (CNN, LSTM).\n",
    "##### **Performance:** LSTM model achieved the best accuracy of 0.84.\n",
    "##### **Prediction:** Using LSTM Model for real-time detection."
   ]
  },
  {
   "cell_type": "markdown",
   "id": "51a7206b",
   "metadata": {},
   "source": [
    "## Importing Libraries"
   ]
  },
  {
   "cell_type": "code",
   "execution_count": 1,
   "id": "9fd1f3bd",
   "metadata": {},
   "outputs": [
    {
     "name": "stderr",
     "output_type": "stream",
     "text": [
      "[nltk_data] Downloading package punkt to C:\\Users\\Aman Shekhar\n",
      "[nltk_data]     Sachan\\AppData\\Roaming\\nltk_data...\n",
      "[nltk_data]   Package punkt is already up-to-date!\n",
      "[nltk_data] Downloading package wordnet to C:\\Users\\Aman Shekhar\n",
      "[nltk_data]     Sachan\\AppData\\Roaming\\nltk_data...\n",
      "[nltk_data]   Package wordnet is already up-to-date!\n"
     ]
    }
   ],
   "source": [
    "from concurrent.futures import ThreadPoolExecutor\n",
    "from tqdm.notebook import tqdm\n",
    "tqdm.pandas()\n",
    "import numpy as np\n",
    "import pandas as pd\n",
    "import re\n",
    "import matplotlib.pyplot as plt\n",
    "import seaborn as sns\n",
    "import string\n",
    "from stop_words import get_stop_words\n",
    "from nltk.tokenize import word_tokenize\n",
    "import nltk\n",
    "nltk.download('punkt')\n",
    "from nltk.stem import SnowballStemmer\n",
    "stemmer = SnowballStemmer(language='english')\n",
    "nltk.download('wordnet')\n",
    "from nltk.stem import WordNetLemmatizer\n",
    "from autocorrect import Speller"
   ]
  },
  {
   "cell_type": "markdown",
   "id": "d208c79c-bdc6-475d-8590-75e0ff9e8645",
   "metadata": {},
   "source": [
    "### Dataset Description\n",
    "#### The dataset used for hate speech detection is a **Benchmark dataset** consisting of 5020 entries with the following structure:"
   ]
  },
  {
   "cell_type": "code",
   "execution_count": 2,
   "id": "cf5d52ea",
   "metadata": {
    "scrolled": true
   },
   "outputs": [],
   "source": [
    "df = pd.read_csv('Original_Reddit.csv')"
   ]
  },
  {
   "cell_type": "code",
   "execution_count": 3,
   "id": "9f185787",
   "metadata": {},
   "outputs": [
    {
     "data": {
      "text/html": [
       "<div>\n",
       "<style scoped>\n",
       "    .dataframe tbody tr th:only-of-type {\n",
       "        vertical-align: middle;\n",
       "    }\n",
       "\n",
       "    .dataframe tbody tr th {\n",
       "        vertical-align: top;\n",
       "    }\n",
       "\n",
       "    .dataframe thead th {\n",
       "        text-align: right;\n",
       "    }\n",
       "</style>\n",
       "<table border=\"1\" class=\"dataframe\">\n",
       "  <thead>\n",
       "    <tr style=\"text-align: right;\">\n",
       "      <th></th>\n",
       "      <th>id</th>\n",
       "      <th>text</th>\n",
       "      <th>hate_speech_idx</th>\n",
       "      <th>response</th>\n",
       "    </tr>\n",
       "  </thead>\n",
       "  <tbody>\n",
       "    <tr>\n",
       "      <th>0</th>\n",
       "      <td>1. e8q18lf\\n2. \\te8q9w5s\\n3. \\t\\te8qbobk\\n4. \\...</td>\n",
       "      <td>1. A subsection of retarded Hungarians? Ohh bo...</td>\n",
       "      <td>[1]</td>\n",
       "      <td>[\"I don't see a reason why it's okay to insult...</td>\n",
       "    </tr>\n",
       "    <tr>\n",
       "      <th>1</th>\n",
       "      <td>1. e9c6naz\\n2. \\te9d03a5\\n3. \\t\\te9d8e4d\\n</td>\n",
       "      <td>1. &gt; \"y'all hear sumn?\"  by all means I live i...</td>\n",
       "      <td>[3]</td>\n",
       "      <td>['Persons with disabilities is the accepted te...</td>\n",
       "    </tr>\n",
       "    <tr>\n",
       "      <th>2</th>\n",
       "      <td>1. e84rl2i\\n2. \\te84w60l\\n3. \\t\\te8544rn\\n4. \\...</td>\n",
       "      <td>1. wouldn't the defenders or whatever they are...</td>\n",
       "      <td>NaN</td>\n",
       "      <td>NaN</td>\n",
       "    </tr>\n",
       "    <tr>\n",
       "      <th>3</th>\n",
       "      <td>1. e7kq72n\\n2. \\te7m24ar\\n</td>\n",
       "      <td>1. Because the Japanese aren't retarded and kn...</td>\n",
       "      <td>[1]</td>\n",
       "      <td>[\"It's not right for anyone of any gender to b...</td>\n",
       "    </tr>\n",
       "    <tr>\n",
       "      <th>4</th>\n",
       "      <td>1. e7hdgoh\\n2. \\te7iyj6a\\n3. \\t\\te7j6iho\\n4. \\...</td>\n",
       "      <td>1. That might be true if we didn't have an exa...</td>\n",
       "      <td>[2, 3]</td>\n",
       "      <td>[\"You shouldn't be bringing up sensitive topic...</td>\n",
       "    </tr>\n",
       "  </tbody>\n",
       "</table>\n",
       "</div>"
      ],
      "text/plain": [
       "                                                  id  \\\n",
       "0  1. e8q18lf\\n2. \\te8q9w5s\\n3. \\t\\te8qbobk\\n4. \\...   \n",
       "1         1. e9c6naz\\n2. \\te9d03a5\\n3. \\t\\te9d8e4d\\n   \n",
       "2  1. e84rl2i\\n2. \\te84w60l\\n3. \\t\\te8544rn\\n4. \\...   \n",
       "3                         1. e7kq72n\\n2. \\te7m24ar\\n   \n",
       "4  1. e7hdgoh\\n2. \\te7iyj6a\\n3. \\t\\te7j6iho\\n4. \\...   \n",
       "\n",
       "                                                text hate_speech_idx  \\\n",
       "0  1. A subsection of retarded Hungarians? Ohh bo...             [1]   \n",
       "1  1. > \"y'all hear sumn?\"  by all means I live i...             [3]   \n",
       "2  1. wouldn't the defenders or whatever they are...             NaN   \n",
       "3  1. Because the Japanese aren't retarded and kn...             [1]   \n",
       "4  1. That might be true if we didn't have an exa...          [2, 3]   \n",
       "\n",
       "                                            response  \n",
       "0  [\"I don't see a reason why it's okay to insult...  \n",
       "1  ['Persons with disabilities is the accepted te...  \n",
       "2                                                NaN  \n",
       "3  [\"It's not right for anyone of any gender to b...  \n",
       "4  [\"You shouldn't be bringing up sensitive topic...  "
      ]
     },
     "execution_count": 3,
     "metadata": {},
     "output_type": "execute_result"
    }
   ],
   "source": [
    "df.head()"
   ]
  },
  {
   "cell_type": "code",
   "execution_count": 4,
   "id": "83fb19ea",
   "metadata": {},
   "outputs": [
    {
     "name": "stdout",
     "output_type": "stream",
     "text": [
      "<class 'pandas.core.frame.DataFrame'>\n",
      "RangeIndex: 5020 entries, 0 to 5019\n",
      "Data columns (total 4 columns):\n",
      " #   Column           Non-Null Count  Dtype \n",
      "---  ------           --------------  ----- \n",
      " 0   id               5020 non-null   object\n",
      " 1   text             5020 non-null   object\n",
      " 2   hate_speech_idx  3847 non-null   object\n",
      " 3   response         3847 non-null   object\n",
      "dtypes: object(4)\n",
      "memory usage: 157.0+ KB\n"
     ]
    }
   ],
   "source": [
    "df.info()"
   ]
  },
  {
   "cell_type": "markdown",
   "id": "5e866bcd",
   "metadata": {},
   "source": [
    "## Restructuring the Dataset"
   ]
  },
  {
   "cell_type": "markdown",
   "id": "5999637e",
   "metadata": {},
   "source": [
    "### Restructuring the dataset to have individual rows for each comment from a post, tagging them with a 1 if they contain hate speech and 0 if not."
   ]
  },
  {
   "cell_type": "code",
   "execution_count": 5,
   "id": "53d344a0",
   "metadata": {},
   "outputs": [],
   "source": [
    "# Convert 'NaN' string to actual NaN values\n",
    "df['hate_speech_idx'] = df['hate_speech_idx'].replace('NaN', pd.NA)\n",
    "df['response'] = df['response'].replace('NaN', pd.NA)\n",
    "\n",
    "# Function to split comments and mark hate speech\n",
    "def process_comments(row):\n",
    "    # Using regex to find the pattern \"index. comment\"\n",
    "    pattern = re.compile(r'(\\d+)\\.\\s(.*?)(?=\\d+\\.\\s|$)', re.DOTALL)\n",
    "    matches = pattern.findall(row['text'])\n",
    "    \n",
    "    # Clean and split the hate_speech_idx column\n",
    "    if pd.notna(row['hate_speech_idx']):\n",
    "        hate_indices = list(map(int, re.findall(r'\\d+', row['hate_speech_idx'])))\n",
    "    else:\n",
    "        hate_indices = []\n",
    "    \n",
    "    processed_data = []\n",
    "    \n",
    "    for index, comment in matches:\n",
    "        index = int(index)\n",
    "        comment = comment.strip()\n",
    "        is_hate_speech = 1 if index in hate_indices else 0\n",
    "        processed_data.append([index, comment, is_hate_speech])\n",
    "    \n",
    "    return processed_data\n",
    "\n",
    "# Apply the function and flatten the list of lists\n",
    "processed_comments = df.apply(process_comments, axis=1)\n",
    "processed_comments_flat = [item for sublist in processed_comments for item in sublist]\n",
    "\n",
    "# Create a temporary DataFrame from the flattened list\n",
    "df_flat = pd.DataFrame(processed_comments_flat, columns=['index', 'comment', 'hate_speech'])\n",
    "\n",
    "# Concatenate the new data with the original DataFrame\n",
    "# The original DataFrame's id column will be dropped in favor of the new columns\n",
    "df = pd.concat([df.drop(columns=['text', 'hate_speech_idx', 'response','id']), df_flat], axis=1)"
   ]
  },
  {
   "cell_type": "markdown",
   "id": "6ffae5dd",
   "metadata": {},
   "source": [
    "## Processed Dataset"
   ]
  },
  {
   "cell_type": "code",
   "execution_count": 6,
   "id": "28977ade-e5ba-4e1d-ab34-75e164a03040",
   "metadata": {},
   "outputs": [
    {
     "data": {
      "text/html": [
       "<div>\n",
       "<style scoped>\n",
       "    .dataframe tbody tr th:only-of-type {\n",
       "        vertical-align: middle;\n",
       "    }\n",
       "\n",
       "    .dataframe tbody tr th {\n",
       "        vertical-align: top;\n",
       "    }\n",
       "\n",
       "    .dataframe thead th {\n",
       "        text-align: right;\n",
       "    }\n",
       "</style>\n",
       "<table border=\"1\" class=\"dataframe\">\n",
       "  <thead>\n",
       "    <tr style=\"text-align: right;\">\n",
       "      <th></th>\n",
       "      <th>index</th>\n",
       "      <th>comment</th>\n",
       "      <th>hate_speech</th>\n",
       "    </tr>\n",
       "  </thead>\n",
       "  <tbody>\n",
       "    <tr>\n",
       "      <th>0</th>\n",
       "      <td>1</td>\n",
       "      <td>A subsection of retarded Hungarians? Ohh boy. ...</td>\n",
       "      <td>1</td>\n",
       "    </tr>\n",
       "    <tr>\n",
       "      <th>1</th>\n",
       "      <td>2</td>\n",
       "      <td>Hiii. Just got off work. 444 is mainly the typ...</td>\n",
       "      <td>0</td>\n",
       "    </tr>\n",
       "    <tr>\n",
       "      <th>2</th>\n",
       "      <td>3</td>\n",
       "      <td>wow i guess soyboys are the same in every country</td>\n",
       "      <td>0</td>\n",
       "    </tr>\n",
       "    <tr>\n",
       "      <th>3</th>\n",
       "      <td>4</td>\n",
       "      <td>Owen Benjamin's soyboy song goes for every cou...</td>\n",
       "      <td>0</td>\n",
       "    </tr>\n",
       "    <tr>\n",
       "      <th>4</th>\n",
       "      <td>1</td>\n",
       "      <td>&gt; \"y'all hear sumn?\"  by all means I live in a...</td>\n",
       "      <td>0</td>\n",
       "    </tr>\n",
       "  </tbody>\n",
       "</table>\n",
       "</div>"
      ],
      "text/plain": [
       "   index                                            comment  hate_speech\n",
       "0      1  A subsection of retarded Hungarians? Ohh boy. ...            1\n",
       "1      2  Hiii. Just got off work. 444 is mainly the typ...            0\n",
       "2      3  wow i guess soyboys are the same in every country            0\n",
       "3      4  Owen Benjamin's soyboy song goes for every cou...            0\n",
       "4      1  > \"y'all hear sumn?\"  by all means I live in a...            0"
      ]
     },
     "execution_count": 6,
     "metadata": {},
     "output_type": "execute_result"
    }
   ],
   "source": [
    "df.head()"
   ]
  },
  {
   "cell_type": "code",
   "execution_count": 7,
   "id": "205144d1",
   "metadata": {},
   "outputs": [],
   "source": [
    "df = df.drop(columns=['index'])"
   ]
  },
  {
   "cell_type": "code",
   "execution_count": 8,
   "id": "78ecfcbd",
   "metadata": {},
   "outputs": [
    {
     "data": {
      "text/html": [
       "<div>\n",
       "<style scoped>\n",
       "    .dataframe tbody tr th:only-of-type {\n",
       "        vertical-align: middle;\n",
       "    }\n",
       "\n",
       "    .dataframe tbody tr th {\n",
       "        vertical-align: top;\n",
       "    }\n",
       "\n",
       "    .dataframe thead th {\n",
       "        text-align: right;\n",
       "    }\n",
       "</style>\n",
       "<table border=\"1\" class=\"dataframe\">\n",
       "  <thead>\n",
       "    <tr style=\"text-align: right;\">\n",
       "      <th></th>\n",
       "      <th>hate_speech</th>\n",
       "    </tr>\n",
       "  </thead>\n",
       "  <tbody>\n",
       "    <tr>\n",
       "      <th>count</th>\n",
       "      <td>22841.000000</td>\n",
       "    </tr>\n",
       "    <tr>\n",
       "      <th>mean</th>\n",
       "      <td>0.231864</td>\n",
       "    </tr>\n",
       "    <tr>\n",
       "      <th>std</th>\n",
       "      <td>0.422032</td>\n",
       "    </tr>\n",
       "    <tr>\n",
       "      <th>min</th>\n",
       "      <td>0.000000</td>\n",
       "    </tr>\n",
       "    <tr>\n",
       "      <th>25%</th>\n",
       "      <td>0.000000</td>\n",
       "    </tr>\n",
       "    <tr>\n",
       "      <th>50%</th>\n",
       "      <td>0.000000</td>\n",
       "    </tr>\n",
       "    <tr>\n",
       "      <th>75%</th>\n",
       "      <td>0.000000</td>\n",
       "    </tr>\n",
       "    <tr>\n",
       "      <th>max</th>\n",
       "      <td>1.000000</td>\n",
       "    </tr>\n",
       "  </tbody>\n",
       "</table>\n",
       "</div>"
      ],
      "text/plain": [
       "        hate_speech\n",
       "count  22841.000000\n",
       "mean       0.231864\n",
       "std        0.422032\n",
       "min        0.000000\n",
       "25%        0.000000\n",
       "50%        0.000000\n",
       "75%        0.000000\n",
       "max        1.000000"
      ]
     },
     "execution_count": 8,
     "metadata": {},
     "output_type": "execute_result"
    }
   ],
   "source": [
    "df.describe()"
   ]
  },
  {
   "cell_type": "code",
   "execution_count": 9,
   "id": "550c485a",
   "metadata": {
    "scrolled": true
   },
   "outputs": [
    {
     "data": {
      "image/png": "[encoded data removed]",
      "text/plain": [
       "<Figure size 500x500 with 1 Axes>"
      ]
     },
     "metadata": {},
     "output_type": "display_data"
    }
   ],
   "source": [
    "plt.figure(figsize=(5,5))\n",
    "ax=sns.countplot(x=df['hate_speech'],data=df,order=df['hate_speech'].value_counts().index)\n",
    "for p,label in zip(ax.patches,df['hate_speech'].value_counts()):\n",
    "    ax.annotate(label,(p.get_x()+0.25,p.get_height()+0.5))"
   ]
  },
  {
   "cell_type": "markdown",
   "id": "704129cf",
   "metadata": {},
   "source": [
    "## Data Cleaning"
   ]
  },
  {
   "cell_type": "markdown",
   "id": "a9201f1d",
   "metadata": {},
   "source": [
    "#### Remove NaN values and drop comments which are deleted or removed"
   ]
  },
  {
   "cell_type": "code",
   "execution_count": 10,
   "id": "c83555f0",
   "metadata": {},
   "outputs": [
    {
     "name": "stdout",
     "output_type": "stream",
     "text": [
      "Comment Length:  22841\n",
      "Comment Count:  22841\n",
      "Hate Speech Length:  22841\n",
      "Hate Speech Count:  22841\n"
     ]
    }
   ],
   "source": [
    "size_col0 = len(df['comment'])\n",
    "size_col1 = df['comment'].count()\n",
    "size_col2 = len(df['hate_speech'])\n",
    "size_col3 = df['hate_speech'].count()\n",
    "print(\"Comment Length: \", size_col0)\n",
    "print(\"Comment Count: \", size_col1)\n",
    "print(\"Hate Speech Length: \", size_col2)\n",
    "print(\"Hate Speech Count: \",size_col3)"
   ]
  },
  {
   "cell_type": "code",
   "execution_count": 11,
   "id": "2b85b670",
   "metadata": {},
   "outputs": [],
   "source": [
    "df = df.dropna().loc[(df['comment'] != '[deleted]') & (df['comment'] != '[removed]')]"
   ]
  },
  {
   "cell_type": "code",
   "execution_count": 12,
   "id": "c3293986",
   "metadata": {},
   "outputs": [
    {
     "name": "stdout",
     "output_type": "stream",
     "text": [
      "Comment Length:  22330\n",
      "Comment Count:  22330\n",
      "Hate Speech Length:  22330\n",
      "Hate Speech Count:  22330\n"
     ]
    }
   ],
   "source": [
    "size_col0 = len(df['comment'])\n",
    "size_col1 = df['comment'].count()\n",
    "size_col2 = len(df['hate_speech'])\n",
    "size_col3 = df['hate_speech'].count()\n",
    "print(\"Comment Length: \", size_col0)\n",
    "print(\"Comment Count: \", size_col1)\n",
    "print(\"Hate Speech Length: \", size_col2)\n",
    "print(\"Hate Speech Count: \",size_col3)"
   ]
  },
  {
   "cell_type": "markdown",
   "id": "05a22cb1",
   "metadata": {},
   "source": [
    "## Removing HTML Tags \n",
    "\n",
    "#### Removing unwanted data from the text, let’s take the case of scraping data from web, where we get html tags which are unnecessary for the data,those should be removed."
   ]
  },
  {
   "cell_type": "code",
   "execution_count": 13,
   "id": "65cee46d",
   "metadata": {},
   "outputs": [],
   "source": [
    "df['comment']=df['comment'].str.lower()\n",
    "\n",
    "def remove_html_tags(text):\n",
    "    if isinstance(text, float) or text is None:  # Check for float or None and convert to empty string\n",
    "        text = ''\n",
    "    pattern = re.compile(r'<.*?>')\n",
    "    return pattern.sub('', text)\n",
    "\n",
    "df['comment'] = df['comment'].astype(str)\n",
    "df['comment'] = df['comment'].apply(remove_html_tags)\n"
   ]
  },
  {
   "cell_type": "markdown",
   "id": "938e6737",
   "metadata": {},
   "source": [
    "## Removing URL"
   ]
  },
  {
   "cell_type": "code",
   "execution_count": 14,
   "id": "801ce1c4",
   "metadata": {},
   "outputs": [],
   "source": [
    "def remove_url(text):\n",
    "    pattern=re.compile(r'https?://\\s+|www.\\.\\S+')\n",
    "    return pattern.sub(r'',text)\n",
    "\n",
    "df['comment']=df['comment'].apply(remove_url)\n"
   ]
  },
  {
   "cell_type": "markdown",
   "id": "a1f1d0fa",
   "metadata": {},
   "source": [
    "## Stop words Removal \n",
    "\n",
    "#### Words which help in sentence formation, but does not aid any meaning to the sentence like ‘a’, ‘an’, ‘the’, ‘is’ and so on."
   ]
  },
  {
   "cell_type": "code",
   "execution_count": 15,
   "id": "a0581abd",
   "metadata": {},
   "outputs": [
    {
     "data": {
      "text/plain": [
       "'hiii. just got off work. 444 is mainly the typa guys you imagine writing for us stupid sites, but basically they just try to fit in with the western european and us big city hipsters.   rich kids from budapest who feel they are brave journalistic heroes.'"
      ]
     },
     "execution_count": 15,
     "metadata": {},
     "output_type": "execute_result"
    }
   ],
   "source": [
    "df['comment'][1]"
   ]
  },
  {
   "cell_type": "code",
   "execution_count": 16,
   "id": "2e7e163e",
   "metadata": {},
   "outputs": [],
   "source": [
    "stop_words = get_stop_words('en')\n",
    "def stop_words_removal(text):\n",
    "    new_text=[]\n",
    "    for word in text.split():\n",
    "        if word in get_stop_words('en'):\n",
    "            new_text.append('')\n",
    "        else:\n",
    "            new_text.append(word)\n",
    "    return ' '.join(new_text)\n",
    "\n",
    "df['comment']=df['comment'].apply(stop_words_removal)"
   ]
  },
  {
   "cell_type": "code",
   "execution_count": 17,
   "id": "408eff26",
   "metadata": {},
   "outputs": [
    {
     "data": {
      "text/plain": [
       "'hiii. just got  work. 444  mainly  typa guys  imagine writing  us stupid sites,  basically  just try  fit    western european  us big city hipsters. rich kids  budapest  feel   brave journalistic heroes.'"
      ]
     },
     "execution_count": 17,
     "metadata": {},
     "output_type": "execute_result"
    }
   ],
   "source": [
    "df['comment'][1]"
   ]
  },
  {
   "cell_type": "markdown",
   "id": "9aa06d54",
   "metadata": {},
   "source": [
    "## Removing Punctuations \n",
    "\n",
    "#### When we are tokenizing the sentences, punctuations become different words. For example, \"Hello! how are you?\" is tokenized as [Hello , !, how ,are, you,?]. Here punctuation marks are taken as different words. It adds complexity to the model by performing more operations to the code and punctuations does not attribute any meaning to the sentence."
   ]
  },
  {
   "cell_type": "code",
   "execution_count": 18,
   "id": "1559f232",
   "metadata": {},
   "outputs": [
    {
     "data": {
      "text/plain": [
       "'hiii. just got  work. 444  mainly  typa guys  imagine writing  us stupid sites,  basically  just try  fit    western european  us big city hipsters. rich kids  budapest  feel   brave journalistic heroes.'"
      ]
     },
     "execution_count": 18,
     "metadata": {},
     "output_type": "execute_result"
    }
   ],
   "source": [
    "df['comment'][1]"
   ]
  },
  {
   "cell_type": "code",
   "execution_count": 19,
   "id": "32d7ded2",
   "metadata": {},
   "outputs": [
    {
     "name": "stdout",
     "output_type": "stream",
     "text": [
      "!\"#$%&'()*+,-./:;<=>?@[\\]^_`{|}~\n"
     ]
    }
   ],
   "source": [
    "print(string.punctuation)\n",
    "exclude=string.punctuation\n",
    "\n",
    "def remove_punctuation(text):\n",
    "    for char in exclude:\n",
    "        text=text.replace(char,'')\n",
    "    return text\n",
    "\n",
    "df['comment']=df['comment'].apply(remove_punctuation)"
   ]
  },
  {
   "cell_type": "code",
   "execution_count": 20,
   "id": "1c83247b",
   "metadata": {},
   "outputs": [
    {
     "data": {
      "text/plain": [
       "'hiii just got  work 444  mainly  typa guys  imagine writing  us stupid sites  basically  just try  fit    western european  us big city hipsters rich kids  budapest  feel   brave journalistic heroes'"
      ]
     },
     "execution_count": 20,
     "metadata": {},
     "output_type": "execute_result"
    }
   ],
   "source": [
    "df['comment'][1]"
   ]
  },
  {
   "cell_type": "markdown",
   "id": "95a26915",
   "metadata": {},
   "source": [
    "## Chat Word Treatment \n",
    "\n",
    "#### Words like ROFL,LMAO,FYI,GD,ASAP, are found in chat messages of many social media platforms like WhatsApp, Instagram, Twitter. While summarizing the text, to understand the meaning of the word, these short words should be replaced with long forms. "
   ]
  },
  {
   "cell_type": "code",
   "execution_count": 21,
   "id": "50a4f48f",
   "metadata": {},
   "outputs": [],
   "source": [
    "chat_words={'AFAIK': 'As Far As I Know',\n",
    "'AFK':'Away From Keyboard',\n",
    "'ASAP':'As Soon As Possible',\n",
    "'ATK':'At The Keyboard',\n",
    "'ATM':'At The Moment',\n",
    "'A3':'Anytime, Anywhere, Anyplace',\n",
    "'BAK':'Back At Keyboard',\n",
    "'BBL': 'Be Back Later',\n",
    "'BBS': 'Be Back Soon',\n",
    "'BFN': 'Bye For Now',\n",
    "'B4N': 'Bye For Now',\n",
    "'BRB': 'Be Right Back',\n",
    "'BRT': 'Be Right There',\n",
    "'BTW': 'By The Way',\n",
    "'B4': 'Before',\n",
    "'B4N': 'Bye For Now',\n",
    "'CU':'See You',\n",
    "'CUL8R':'See You Later',\n",
    "'CYA': 'See You',\n",
    "'FAQ': 'Frequently Asked Questions',\n",
    "'FC': 'Fingers Crossed',\n",
    "'FWIW': 'For What Its Worth',\n",
    "'FYI': 'For Your Information',\n",
    "'GAL': 'Get A Life',\n",
    "'GG': 'Good Game',\n",
    "'GN' : 'Good Night',\n",
    "'GMTA': 'Great Minds Think Alike',\n",
    "'GR8': 'Great!',\n",
    "'G9': 'Genius',\n",
    "'IC': 'I See',\n",
    "'ICQ': 'I Seek you (also a chat program)',\n",
    "'ILU': 'I Love You',\n",
    "'IMHO': 'In My Honest/Humble Opinion',\n",
    "'IMO':'In My Opinion',\n",
    "'IOW':'In Other Words',\n",
    "'IRL': 'In Real Life',\n",
    "'KISS':'Keep It Simple, Stupid',\n",
    "'LDR':'Long Distance Relationship',\n",
    "'LMAO':'Laugh My A.. Off',\n",
    "'LOL':'Laughing Out Loud',\n",
    "'LTNS': 'Long Time No See',\n",
    "'L8R': 'Later',\n",
    "'MTE': 'My Thoughts Exactly',\n",
    "'M8': 'Mate',\n",
    "'NRN': 'No Reply Necessary',\n",
    "'OIC':'Oh I See',\n",
    "'PITA':'Pain In The A..',\n",
    "'PRT': 'Party',\n",
    "'PRW':'Parents Are Watching',\n",
    "'QPSA':\t'Que Pasa?',\n",
    "'ROFL':'Rolling On The Floor Laughing',\n",
    "'ROFLOL': 'Rolling On The Floor Laughing Out Loud',\n",
    "'ROTFLMAO':'Rolling On The Floor Laughing My A.. Off',\n",
    "'SK8':'Skate',\n",
    "'STATS':'Your sex and age',\n",
    "'ASL':'Age, Sex, Location',\n",
    "'THX':'Thank You',\n",
    "'TTFN':'Ta-Ta For Now!',\n",
    "'TTYL':'Talk To You Later',\n",
    "'U':'You',\n",
    "'U2':'You Too',\n",
    "'U4E':'Yours For Ever',\n",
    "'WB':'Welcome Back',\n",
    "'WTF':'What The F...',\n",
    "'WTG':'Way To Go!',\n",
    "'WUF':'Where Are You From?',\n",
    "'W8':'Wait...',\n",
    "'7K':'Sick'}"
   ]
  },
  {
   "cell_type": "code",
   "execution_count": 22,
   "id": "a1bc79e7",
   "metadata": {},
   "outputs": [
    {
     "data": {
      "text/plain": [
       "' apparently  don’t study    either    had you’d know   muchanticipated modern reformation  islam will never actually happen  i’m wasting  time   think marxism   positive influence   christian west   retarded last  checked atheists still need food lol'"
      ]
     },
     "execution_count": 22,
     "metadata": {},
     "output_type": "execute_result"
    }
   ],
   "source": [
    "df['comment'][16]"
   ]
  },
  {
   "cell_type": "code",
   "execution_count": 23,
   "id": "dbe898a6",
   "metadata": {},
   "outputs": [],
   "source": [
    "def chat_word(text):\n",
    "    new_text=[]\n",
    "    for word in text.split():\n",
    "        if word.upper() in chat_words:\n",
    "            new_text.append(chat_words[word.upper()])\n",
    "        else:\n",
    "            new_text.append(word)\n",
    "            \n",
    "    return \" \".join(new_text)\n",
    "\n",
    "df['comment']=df['comment'].apply(chat_word)"
   ]
  },
  {
   "cell_type": "code",
   "execution_count": 24,
   "id": "5dd103c1",
   "metadata": {},
   "outputs": [
    {
     "data": {
      "text/plain": [
       "'apparently don’t study either had you’d know muchanticipated modern reformation islam will never actually happen i’m wasting time think marxism positive influence christian west retarded last checked atheists still need food Laughing Out Loud'"
      ]
     },
     "execution_count": 24,
     "metadata": {},
     "output_type": "execute_result"
    }
   ],
   "source": [
    "df['comment'][16]"
   ]
  },
  {
   "cell_type": "markdown",
   "id": "fea68239",
   "metadata": {},
   "source": [
    "## Handling Emoji’s \n",
    "\n",
    "#### While analyzing chatting messages, for text classification or sentiment analysis, emoji’s particularly have a meaning, we can replace emoji expression with their corresponding meaning. If our problem statement does not have anything to do with sentiments or feelings,we can remove them. "
   ]
  },
  {
   "cell_type": "code",
   "execution_count": 25,
   "id": "d9b52a2c",
   "metadata": {},
   "outputs": [],
   "source": [
    "def emoji_removal(text):\n",
    "    emoji_pattern = re.compile(\"[\"\n",
    "                           u\"\\U0001F600-\\U0001F64F\"  # emoticons\n",
    "                           u\"\\U0001F300-\\U0001F5FF\"  # symbols & pictographs\n",
    "                           u\"\\U0001F680-\\U0001F6FF\"  # transport & map symbols\n",
    "                           u\"\\U0001F1E0-\\U0001F1FF\"  # flags (iOS)\n",
    "                           u\"\\U00002702-\\U000027B0\"\n",
    "                           u\"\\U000024C2-\\U0001F251\"\n",
    "                           \"]+\", flags=re.UNICODE)\n",
    "    return emoji_pattern.sub(r'', text)\n",
    "\n",
    "df['comment']=df['comment'].apply(emoji_removal)"
   ]
  },
  {
   "cell_type": "markdown",
   "id": "5f7f2bc4-b259-40a1-8a06-5774afe3d94a",
   "metadata": {},
   "source": [
    "## Remove extra spaces"
   ]
  },
  {
   "cell_type": "code",
   "execution_count": 26,
   "id": "349e6d17-333f-45ec-b554-7e2a46979cab",
   "metadata": {},
   "outputs": [
    {
     "name": "stderr",
     "output_type": "stream",
     "text": [
      "C:\\Users\\Aman Shekhar Sachan\\AppData\\Local\\Temp\\ipykernel_15516\\1291788884.py:11: FutureWarning: DataFrame.applymap has been deprecated. Use DataFrame.map instead.\n",
      "  df = df.applymap(clean_spaces)\n"
     ]
    }
   ],
   "source": [
    "# Function to clean up extra spaces in a string\n",
    "def clean_spaces(text):\n",
    "    if isinstance(text, str):\n",
    "        # Remove multiple consecutive spaces\n",
    "        text = re.sub(r'\\s{2,}', ' ', text)\n",
    "        # Trim leading and trailing spaces\n",
    "        text = text.strip()\n",
    "    return text\n",
    "\n",
    "# Apply the cleaning function to each cell in the DataFrame\n",
    "df = df.applymap(clean_spaces)"
   ]
  },
  {
   "cell_type": "code",
   "execution_count": 27,
   "id": "668352ba-152e-47c1-9f87-251a9d56a269",
   "metadata": {},
   "outputs": [
    {
     "data": {
      "text/html": [
       "<div>\n",
       "<style scoped>\n",
       "    .dataframe tbody tr th:only-of-type {\n",
       "        vertical-align: middle;\n",
       "    }\n",
       "\n",
       "    .dataframe tbody tr th {\n",
       "        vertical-align: top;\n",
       "    }\n",
       "\n",
       "    .dataframe thead th {\n",
       "        text-align: right;\n",
       "    }\n",
       "</style>\n",
       "<table border=\"1\" class=\"dataframe\">\n",
       "  <thead>\n",
       "    <tr style=\"text-align: right;\">\n",
       "      <th></th>\n",
       "      <th>comment</th>\n",
       "      <th>hate_speech</th>\n",
       "    </tr>\n",
       "  </thead>\n",
       "  <tbody>\n",
       "    <tr>\n",
       "      <th>0</th>\n",
       "      <td>subsection retarded hungarians ohh boy brace l...</td>\n",
       "      <td>1</td>\n",
       "    </tr>\n",
       "    <tr>\n",
       "      <th>1</th>\n",
       "      <td>hiii just got work 444 mainly typa guys imagin...</td>\n",
       "      <td>0</td>\n",
       "    </tr>\n",
       "    <tr>\n",
       "      <th>2</th>\n",
       "      <td>wow guess soyboys every country</td>\n",
       "      <td>0</td>\n",
       "    </tr>\n",
       "    <tr>\n",
       "      <th>3</th>\n",
       "      <td>owen benjamins soyboy song goes every country ...</td>\n",
       "      <td>0</td>\n",
       "    </tr>\n",
       "    <tr>\n",
       "      <th>4</th>\n",
       "      <td>yall hear sumn means live small town rn for wo...</td>\n",
       "      <td>0</td>\n",
       "    </tr>\n",
       "  </tbody>\n",
       "</table>\n",
       "</div>"
      ],
      "text/plain": [
       "                                             comment  hate_speech\n",
       "0  subsection retarded hungarians ohh boy brace l...            1\n",
       "1  hiii just got work 444 mainly typa guys imagin...            0\n",
       "2                    wow guess soyboys every country            0\n",
       "3  owen benjamins soyboy song goes every country ...            0\n",
       "4  yall hear sumn means live small town rn for wo...            0"
      ]
     },
     "execution_count": 27,
     "metadata": {},
     "output_type": "execute_result"
    }
   ],
   "source": [
    "df.head()"
   ]
  },
  {
   "cell_type": "markdown",
   "id": "19cb556d",
   "metadata": {},
   "source": [
    "## Remove Numbers\n"
   ]
  },
  {
   "cell_type": "code",
   "execution_count": 28,
   "id": "37640f1e-cc65-45ad-82be-99defe414c6f",
   "metadata": {},
   "outputs": [],
   "source": [
    "import pandas as pd\n",
    "import re\n",
    "\n",
    "# Define the file paths\n",
    "input_file_path = 'Cleaned_spaces_Reddit.csv'\n",
    "output_file_path = 'processed_Reddit.csv'\n",
    "\n",
    "# Dictionary of number meanings\n",
    "number_meanings = {\n",
    "    '111': 'Alignment and manifestation',\n",
    "    '1111': 'New beginnings and unity',\n",
    "    '222': 'Balance and harmony',\n",
    "    '333': 'Protection and encouragement',\n",
    "    '444': 'Foundation and grounding',\n",
    "    '555': 'Change and transformation',\n",
    "    '666': 'Reflection and personal development',\n",
    "    '777': 'Spiritual growth and good fortune',\n",
    "    '888': 'Abundance and success',\n",
    "    '999': 'Completion and closure',\n",
    "    '1010': 'Personal development and growth',\n",
    "    '1212': 'Spiritual awakening and higher consciousness',\n",
    "    '1234': 'Progress and moving forward',\n",
    "    '2222': 'Peace and balance in life',\n",
    "    '3333': 'Divine protection and guidance',\n",
    "    '4444': 'Strong foundation and support',\n",
    "    '5555': 'Major life changes',\n",
    "    '6666': 'Reflecting on past choices',\n",
    "    '7777': 'Luck and spiritual awareness',\n",
    "    '8888': 'Financial abundance and prosperity',\n",
    "    '9999': 'Endings leading to new beginnings',\n",
    "    '1001': 'Self-improvement and new perspectives',\n",
    "    '1101': 'Opening new doors and opportunities',\n",
    "    '1211': 'Embracing new phases in life',\n",
    "    '1233': 'Balanced progress and harmony',\n",
    "    '1441': 'Foundation and new opportunities',\n",
    "    '1515': 'Personal growth and freedom',\n",
    "    '1616': 'Stability and inner strength',\n",
    "    '1717': 'Awakening and self-awareness',\n",
    "    '1818': 'Financial success and independence',\n",
    "    '1919': 'Completion of cycles and new beginnings',\n",
    "    '2020': 'Vision and clarity',\n",
    "    '2121': 'Positive change and new opportunities',\n",
    "    '2323': 'Creativity and self-expression',\n",
    "    '2424': 'Building strong foundations',\n",
    "    '2525': 'Adaptability and positive change',\n",
    "    '2626': 'Nurturing and care for loved ones',\n",
    "    '2727': 'Spiritual awareness and inner wisdom',\n",
    "    '2828': 'Abundance and prosperity',\n",
    "    '2929': 'Transformation and new phases',\n",
    "    '3030': 'Creativity and communication',\n",
    "    '3131': 'Optimism and positive energy',\n",
    "    '3232': 'Faith and trust in the universe',\n",
    "    '3434': 'Stability and determination',\n",
    "    '3535': 'Personal freedom and individuality',\n",
    "    '3636': 'Nurturing and compassion',\n",
    "    '3737': 'Spiritual growth and awareness',\n",
    "    '3838': 'Ab'}\n"
   ]
  },
  {
   "cell_type": "code",
   "execution_count": 29,
   "id": "fc96d676",
   "metadata": {},
   "outputs": [
    {
     "name": "stderr",
     "output_type": "stream",
     "text": [
      "C:\\Users\\Aman Shekhar Sachan\\AppData\\Local\\Temp\\ipykernel_15516\\947521680.py:18: FutureWarning: DataFrame.applymap has been deprecated. Use DataFrame.map instead.\n",
      "  df = df.applymap(lambda x: replace_numbers(x, number_meanings))\n"
     ]
    }
   ],
   "source": [
    "\n",
    "# Function to replace or remove numbers in a string\n",
    "def replace_numbers(text, number_meanings):\n",
    "    if isinstance(text, str):\n",
    "        # Find all numbers in the text\n",
    "        numbers = re.findall(r'\\b\\d+\\b', text)\n",
    "        for number in numbers:\n",
    "            if number in number_meanings:\n",
    "                # Replace number with its meaning\n",
    "                text = re.sub(r'\\b' + re.escape(number) + r'\\b', number_meanings[number], text)\n",
    "            else:\n",
    "                # Remove number if no meaning exists\n",
    "                text = re.sub(r'\\b' + re.escape(number) + r'\\b', '', text)\n",
    "        # Remove any extra spaces after replacement/removal\n",
    "        text = re.sub(r'\\s{2,}', ' ', text).strip()\n",
    "    return text\n",
    "\n",
    "# Apply the number replacement function to each cell in the DataFrame\n",
    "df = df.applymap(lambda x: replace_numbers(x, number_meanings))"
   ]
  },
  {
   "cell_type": "code",
   "execution_count": 30,
   "id": "5eb83768-ccb8-4676-8099-949cdc40d28e",
   "metadata": {},
   "outputs": [
    {
     "data": {
      "text/html": [
       "<div>\n",
       "<style scoped>\n",
       "    .dataframe tbody tr th:only-of-type {\n",
       "        vertical-align: middle;\n",
       "    }\n",
       "\n",
       "    .dataframe tbody tr th {\n",
       "        vertical-align: top;\n",
       "    }\n",
       "\n",
       "    .dataframe thead th {\n",
       "        text-align: right;\n",
       "    }\n",
       "</style>\n",
       "<table border=\"1\" class=\"dataframe\">\n",
       "  <thead>\n",
       "    <tr style=\"text-align: right;\">\n",
       "      <th></th>\n",
       "      <th>comment</th>\n",
       "      <th>hate_speech</th>\n",
       "    </tr>\n",
       "  </thead>\n",
       "  <tbody>\n",
       "    <tr>\n",
       "      <th>0</th>\n",
       "      <td>subsection retarded hungarians ohh boy brace l...</td>\n",
       "      <td>1</td>\n",
       "    </tr>\n",
       "    <tr>\n",
       "      <th>1</th>\n",
       "      <td>hiii just got work Foundation and grounding ma...</td>\n",
       "      <td>0</td>\n",
       "    </tr>\n",
       "    <tr>\n",
       "      <th>2</th>\n",
       "      <td>wow guess soyboys every country</td>\n",
       "      <td>0</td>\n",
       "    </tr>\n",
       "    <tr>\n",
       "      <th>3</th>\n",
       "      <td>owen benjamins soyboy song goes every country ...</td>\n",
       "      <td>0</td>\n",
       "    </tr>\n",
       "    <tr>\n",
       "      <th>4</th>\n",
       "      <td>yall hear sumn means live small town rn for wo...</td>\n",
       "      <td>0</td>\n",
       "    </tr>\n",
       "  </tbody>\n",
       "</table>\n",
       "</div>"
      ],
      "text/plain": [
       "                                             comment  hate_speech\n",
       "0  subsection retarded hungarians ohh boy brace l...            1\n",
       "1  hiii just got work Foundation and grounding ma...            0\n",
       "2                    wow guess soyboys every country            0\n",
       "3  owen benjamins soyboy song goes every country ...            0\n",
       "4  yall hear sumn means live small town rn for wo...            0"
      ]
     },
     "execution_count": 30,
     "metadata": {},
     "output_type": "execute_result"
    }
   ],
   "source": [
    "df.head()"
   ]
  },
  {
   "cell_type": "markdown",
   "id": "e89871ed",
   "metadata": {},
   "source": [
    "## Apply Autocorrect"
   ]
  },
  {
   "cell_type": "code",
   "execution_count": 31,
   "id": "24e3594d-eb12-4aa3-98a5-9eb71abfa3f1",
   "metadata": {},
   "outputs": [
    {
     "name": "stderr",
     "output_type": "stream",
     "text": [
      "100%|██████████████████████████████████████████████████████████████████████████| 22330/22330 [5:33:10<00:00,  1.12it/s]\n"
     ]
    }
   ],
   "source": [
    "from autocorrect import Speller\n",
    "from concurrent.futures import ThreadPoolExecutor\n",
    "from tqdm import tqdm\n",
    "\n",
    "# Initialize the spell checker\n",
    "spell = Speller()\n",
    "\n",
    "# Define the autocorrect function\n",
    "def autocorrect_text(text):\n",
    "    if isinstance(text, str):\n",
    "        return spell(text)\n",
    "    return text\n",
    "\n",
    "# Function to apply autocorrect in parallel\n",
    "def parallel_apply(data, func, workers=4):\n",
    "    with ThreadPoolExecutor(max_workers=workers) as executor:\n",
    "        results = list(tqdm(executor.map(func, data), total=len(data)))\n",
    "    return results\n",
    "\n",
    "# Choose the columns to apply autocorrect\n",
    "target_columns = ['comment']\n",
    "\n",
    "# Apply autocorrect to each target column in parallel\n",
    "for column in target_columns:\n",
    "    df[column] = parallel_apply(df[column], autocorrect_text)\n"
   ]
  },
  {
   "cell_type": "markdown",
   "id": "15cd19e7",
   "metadata": {},
   "source": [
    "#### Preprocessed Dataset"
   ]
  },
  {
   "cell_type": "code",
   "execution_count": 32,
   "id": "5182879d-568b-4c84-bd83-2fea9c3550ac",
   "metadata": {},
   "outputs": [
    {
     "data": {
      "text/html": [
       "<div>\n",
       "<style scoped>\n",
       "    .dataframe tbody tr th:only-of-type {\n",
       "        vertical-align: middle;\n",
       "    }\n",
       "\n",
       "    .dataframe tbody tr th {\n",
       "        vertical-align: top;\n",
       "    }\n",
       "\n",
       "    .dataframe thead th {\n",
       "        text-align: right;\n",
       "    }\n",
       "</style>\n",
       "<table border=\"1\" class=\"dataframe\">\n",
       "  <thead>\n",
       "    <tr style=\"text-align: right;\">\n",
       "      <th></th>\n",
       "      <th>comment</th>\n",
       "      <th>hate_speech</th>\n",
       "    </tr>\n",
       "  </thead>\n",
       "  <tbody>\n",
       "    <tr>\n",
       "      <th>0</th>\n",
       "      <td>subsection retarded hungarian oh boy brace liv...</td>\n",
       "      <td>1</td>\n",
       "    </tr>\n",
       "    <tr>\n",
       "      <th>1</th>\n",
       "      <td>iii just got work Foundation and grounding mai...</td>\n",
       "      <td>0</td>\n",
       "    </tr>\n",
       "    <tr>\n",
       "      <th>2</th>\n",
       "      <td>wow guess cowboys every country</td>\n",
       "      <td>0</td>\n",
       "    </tr>\n",
       "    <tr>\n",
       "      <th>3</th>\n",
       "      <td>owen benjamin cowboy song goes every country a...</td>\n",
       "      <td>0</td>\n",
       "    </tr>\n",
       "    <tr>\n",
       "      <th>4</th>\n",
       "      <td>all hear sun means live small town rn for work...</td>\n",
       "      <td>0</td>\n",
       "    </tr>\n",
       "  </tbody>\n",
       "</table>\n",
       "</div>"
      ],
      "text/plain": [
       "                                             comment  hate_speech\n",
       "0  subsection retarded hungarian oh boy brace liv...            1\n",
       "1  iii just got work Foundation and grounding mai...            0\n",
       "2                    wow guess cowboys every country            0\n",
       "3  owen benjamin cowboy song goes every country a...            0\n",
       "4  all hear sun means live small town rn for work...            0"
      ]
     },
     "execution_count": 32,
     "metadata": {},
     "output_type": "execute_result"
    }
   ],
   "source": [
    "df.head()"
   ]
  },
  {
   "cell_type": "code",
   "execution_count": 33,
   "id": "e2a6819b-9e59-4786-b1a9-e3837032dbc3",
   "metadata": {},
   "outputs": [
    {
     "name": "stdout",
     "output_type": "stream",
     "text": [
      "File saved\n"
     ]
    }
   ],
   "source": [
    "df.to_csv('Reddit_AK_Final.csv', index=False)\n",
    "print(\"File saved\")"
   ]
  },
  {
   "cell_type": "markdown",
   "id": "565ab3f4-cc5f-40b4-8c4f-ff5c7834ff8d",
   "metadata": {},
   "source": [
    "## Tokenization and Encoding(Fasttext)"
   ]
  },
  {
   "cell_type": "code",
   "execution_count": 34,
   "id": "6c77d655-6f66-4f21-8ce4-4514fe2e180b",
   "metadata": {},
   "outputs": [],
   "source": [
    "df= pd.read_csv('Reddit_AK_Final.csv')"
   ]
  },
  {
   "cell_type": "code",
   "execution_count": 37,
   "id": "81a0a183-af42-4c03-a931-2a36fbb409d0",
   "metadata": {},
   "outputs": [
    {
     "name": "stdout",
     "output_type": "stream",
     "text": [
      "comment        130\n",
      "hate_speech      0\n",
      "dtype: int64\n"
     ]
    }
   ],
   "source": [
    "print(df.isnull().sum())"
   ]
  },
  {
   "cell_type": "code",
   "execution_count": 38,
   "id": "09aa05ca-dcc8-4ae2-ac50-0c790d6962cf",
   "metadata": {},
   "outputs": [],
   "source": [
    "df.dropna(inplace=True)"
   ]
  },
  {
   "cell_type": "code",
   "execution_count": 39,
   "id": "e18ad22d-201f-417b-a088-033be00c6b27",
   "metadata": {},
   "outputs": [
    {
     "name": "stdout",
     "output_type": "stream",
     "text": [
      "comment        0\n",
      "hate_speech    0\n",
      "dtype: int64\n"
     ]
    }
   ],
   "source": [
    "print(df.isnull().sum())"
   ]
  },
  {
   "cell_type": "code",
   "execution_count": 40,
   "id": "ffdae077-31fa-49d9-bd58-4e97f3c8c55d",
   "metadata": {},
   "outputs": [
    {
     "data": {
      "text/html": [
       "<div>\n",
       "<style scoped>\n",
       "    .dataframe tbody tr th:only-of-type {\n",
       "        vertical-align: middle;\n",
       "    }\n",
       "\n",
       "    .dataframe tbody tr th {\n",
       "        vertical-align: top;\n",
       "    }\n",
       "\n",
       "    .dataframe thead th {\n",
       "        text-align: right;\n",
       "    }\n",
       "</style>\n",
       "<table border=\"1\" class=\"dataframe\">\n",
       "  <thead>\n",
       "    <tr style=\"text-align: right;\">\n",
       "      <th></th>\n",
       "      <th>comment</th>\n",
       "      <th>hate_speech</th>\n",
       "      <th>words</th>\n",
       "    </tr>\n",
       "  </thead>\n",
       "  <tbody>\n",
       "    <tr>\n",
       "      <th>0</th>\n",
       "      <td>subsection retarded hungarian oh boy brace liv...</td>\n",
       "      <td>1</td>\n",
       "      <td>[subsection, retarded, hungarian, oh, boy, bra...</td>\n",
       "    </tr>\n",
       "    <tr>\n",
       "      <th>1</th>\n",
       "      <td>iii just got work Foundation and grounding mai...</td>\n",
       "      <td>0</td>\n",
       "      <td>[iii, just, got, work, Foundation, and, ground...</td>\n",
       "    </tr>\n",
       "    <tr>\n",
       "      <th>2</th>\n",
       "      <td>wow guess cowboys every country</td>\n",
       "      <td>0</td>\n",
       "      <td>[wow, guess, cowboys, every, country]</td>\n",
       "    </tr>\n",
       "    <tr>\n",
       "      <th>3</th>\n",
       "      <td>owen benjamin cowboy song goes every country a...</td>\n",
       "      <td>0</td>\n",
       "      <td>[owen, benjamin, cowboy, song, goes, every, co...</td>\n",
       "    </tr>\n",
       "    <tr>\n",
       "      <th>4</th>\n",
       "      <td>all hear sun means live small town rn for work...</td>\n",
       "      <td>0</td>\n",
       "      <td>[all, hear, sun, means, live, small, town, rn,...</td>\n",
       "    </tr>\n",
       "  </tbody>\n",
       "</table>\n",
       "</div>"
      ],
      "text/plain": [
       "                                             comment  hate_speech  \\\n",
       "0  subsection retarded hungarian oh boy brace liv...            1   \n",
       "1  iii just got work Foundation and grounding mai...            0   \n",
       "2                    wow guess cowboys every country            0   \n",
       "3  owen benjamin cowboy song goes every country a...            0   \n",
       "4  all hear sun means live small town rn for work...            0   \n",
       "\n",
       "                                               words  \n",
       "0  [subsection, retarded, hungarian, oh, boy, bra...  \n",
       "1  [iii, just, got, work, Foundation, and, ground...  \n",
       "2              [wow, guess, cowboys, every, country]  \n",
       "3  [owen, benjamin, cowboy, song, goes, every, co...  \n",
       "4  [all, hear, sun, means, live, small, town, rn,...  "
      ]
     },
     "execution_count": 40,
     "metadata": {},
     "output_type": "execute_result"
    }
   ],
   "source": [
    "df['words'] = df['comment'].apply(lambda x: word_tokenize(x))\n",
    "df.head()"
   ]
  },
  {
   "cell_type": "code",
   "execution_count": 41,
   "id": "b5c0165c-049c-4010-b983-bb1a4308e771",
   "metadata": {},
   "outputs": [],
   "source": [
    "lemmatizer = WordNetLemmatizer()\n",
    "df['lemmatized_comment'] = df['words'].apply(lambda x: ' '.join([lemmatizer.lemmatize(word, pos='v') for word in x]))\n",
    "\n",
    "df['tokens'] = df['lemmatized_comment'].apply(lambda x: x.split())"
   ]
  },
  {
   "cell_type": "code",
   "execution_count": 1,
   "id": "6ca52d59-d5cb-4276-b162-d02deb419dd3",
   "metadata": {},
   "outputs": [],
   "source": [
    "import fasttext\n",
    "# Load the FastText model\n",
    "ft_model = fasttext.load_model('cc.en.300.bin')"
   ]
  },
  {
   "cell_type": "code",
   "execution_count": 44,
   "id": "31b5a27d-9caa-498c-821e-2af1655e22a4",
   "metadata": {},
   "outputs": [
    {
     "name": "stdout",
     "output_type": "stream",
     "text": [
      "                                             comment  \\\n",
      "0  subsection retarded hungarian oh boy brace liv...   \n",
      "1  iii just got work Foundation and grounding mai...   \n",
      "2                    wow guess cowboys every country   \n",
      "3  owen benjamin cowboy song goes every country a...   \n",
      "4  all hear sun means live small town rn for work...   \n",
      "\n",
      "                                document_vector_flat  \n",
      "0  0.019159256,-0.04540207,-0.013310673,0.0693318...  \n",
      "1  -0.009258354,-0.03500584,0.024274409,0.0689532...  \n",
      "2  0.031344395,-0.006678687,0.02832899,0.08750783...  \n",
      "3  0.027822988,-0.0011368291,-0.0047952645,0.0754...  \n",
      "4  0.020198364,0.010235707,0.00050375995,0.065230...  \n",
      "File saved as Processed_Reddit_Encoded_AK.csv\n"
     ]
    }
   ],
   "source": [
    "# Get word vectors for each token\n",
    "df['word_vectors'] = df['tokens'].apply(lambda tokens: [ft_model.get_word_vector(token) for token in tokens])\n",
    "# Function to average word vectors\n",
    "def average_word_vectors(word_vectors):\n",
    "    return np.mean(word_vectors, axis=0) if word_vectors else np.zeros(ft_model.get_dimension())\n",
    "\n",
    "# Aggregate word vectors for each document\n",
    "df['document_vector'] = df['word_vectors'].apply(average_word_vectors)\n",
    "\n",
    "df['document_vector_flat'] = df['document_vector'].apply(lambda vec: ','.join(map(str, vec)))\n",
    "print(df[['comment', 'document_vector_flat']].head())\n",
    "\n",
    "\n",
    "# Save the result to a CSV file\n",
    "output_file = 'Processed_Reddit_Encoded_AK.csv'\n",
    "df.to_csv(output_file, index=False,  columns=['comment', 'hate_speech', 'lemmatized_comment', 'document_vector_flat'])\n",
    "\n",
    "print(\"File saved as\", output_file)"
   ]
  },
  {
   "cell_type": "markdown",
   "id": "5fe8392a-3f9e-44eb-82b9-7a8830bd927a",
   "metadata": {},
   "source": [
    "### Train and Test Splitting(by 80% and 20%)"
   ]
  },
  {
   "cell_type": "code",
   "execution_count": 1,
   "id": "55605cd3-1448-4671-a712-53c6b1e6d6d0",
   "metadata": {},
   "outputs": [],
   "source": [
    "import pandas as pd\n",
    "import numpy as np\n",
    "from sklearn.feature_extraction.text import TfidfVectorizer\n",
    "from sklearn.ensemble import RandomForestClassifier\n",
    "from sklearn.metrics import classification_report, accuracy_score\n",
    "from sklearn.model_selection import GridSearchCV\n",
    "from imblearn.over_sampling import SMOTE\n",
    "from scipy.sparse import csr_matrix\n",
    "from sklearn.model_selection import train_test_split\n"
   ]
  },
  {
   "cell_type": "code",
   "execution_count": 5,
   "id": "02d61ea7-7ccf-446a-80d1-d487f2f451ca",
   "metadata": {},
   "outputs": [
    {
     "data": {
      "text/html": [
       "<div>\n",
       "<style scoped>\n",
       "    .dataframe tbody tr th:only-of-type {\n",
       "        vertical-align: middle;\n",
       "    }\n",
       "\n",
       "    .dataframe tbody tr th {\n",
       "        vertical-align: top;\n",
       "    }\n",
       "\n",
       "    .dataframe thead th {\n",
       "        text-align: right;\n",
       "    }\n",
       "</style>\n",
       "<table border=\"1\" class=\"dataframe\">\n",
       "  <thead>\n",
       "    <tr style=\"text-align: right;\">\n",
       "      <th></th>\n",
       "      <th>comment</th>\n",
       "      <th>hate_speech</th>\n",
       "      <th>lemmatized_comment</th>\n",
       "      <th>document_vector_flat</th>\n",
       "    </tr>\n",
       "  </thead>\n",
       "  <tbody>\n",
       "    <tr>\n",
       "      <th>0</th>\n",
       "      <td>subsection retarded hungarian oh boy brace liv...</td>\n",
       "      <td>1</td>\n",
       "      <td>subsection retard hungarian oh boy brace live ...</td>\n",
       "      <td>0.019159256,-0.04540207,-0.013310673,0.0693318...</td>\n",
       "    </tr>\n",
       "    <tr>\n",
       "      <th>1</th>\n",
       "      <td>iii just got work Foundation and grounding mai...</td>\n",
       "      <td>0</td>\n",
       "      <td>iii just get work Foundation and ground mainly...</td>\n",
       "      <td>-0.009258354,-0.03500584,0.024274409,0.0689532...</td>\n",
       "    </tr>\n",
       "    <tr>\n",
       "      <th>2</th>\n",
       "      <td>wow guess cowboys every country</td>\n",
       "      <td>0</td>\n",
       "      <td>wow guess cowboys every country</td>\n",
       "      <td>0.031344395,-0.006678687,0.02832899,0.08750783...</td>\n",
       "    </tr>\n",
       "    <tr>\n",
       "      <th>3</th>\n",
       "      <td>owen benjamin cowboy song goes every country a...</td>\n",
       "      <td>0</td>\n",
       "      <td>owen benjamin cowboy song go every country amaze</td>\n",
       "      <td>0.027822988,-0.0011368291,-0.0047952645,0.0754...</td>\n",
       "    </tr>\n",
       "    <tr>\n",
       "      <th>4</th>\n",
       "      <td>all hear sun means live small town rn for work...</td>\n",
       "      <td>0</td>\n",
       "      <td>all hear sun mean live small town rn for work ...</td>\n",
       "      <td>0.020198364,0.010235707,0.00050375995,0.065230...</td>\n",
       "    </tr>\n",
       "  </tbody>\n",
       "</table>\n",
       "</div>"
      ],
      "text/plain": [
       "                                             comment  hate_speech  \\\n",
       "0  subsection retarded hungarian oh boy brace liv...            1   \n",
       "1  iii just got work Foundation and grounding mai...            0   \n",
       "2                    wow guess cowboys every country            0   \n",
       "3  owen benjamin cowboy song goes every country a...            0   \n",
       "4  all hear sun means live small town rn for work...            0   \n",
       "\n",
       "                                  lemmatized_comment  \\\n",
       "0  subsection retard hungarian oh boy brace live ...   \n",
       "1  iii just get work Foundation and ground mainly...   \n",
       "2                    wow guess cowboys every country   \n",
       "3   owen benjamin cowboy song go every country amaze   \n",
       "4  all hear sun mean live small town rn for work ...   \n",
       "\n",
       "                                document_vector_flat  \n",
       "0  0.019159256,-0.04540207,-0.013310673,0.0693318...  \n",
       "1  -0.009258354,-0.03500584,0.024274409,0.0689532...  \n",
       "2  0.031344395,-0.006678687,0.02832899,0.08750783...  \n",
       "3  0.027822988,-0.0011368291,-0.0047952645,0.0754...  \n",
       "4  0.020198364,0.010235707,0.00050375995,0.065230...  "
      ]
     },
     "execution_count": 5,
     "metadata": {},
     "output_type": "execute_result"
    }
   ],
   "source": [
    "df = pd.read_csv('Processed_Reddit_Encoded_AK.csv')\n",
    "df.head()"
   ]
  },
  {
   "cell_type": "code",
   "execution_count": 6,
   "id": "56cf8def-2ba1-456d-8484-f6542a3a05bc",
   "metadata": {},
   "outputs": [
    {
     "name": "stdout",
     "output_type": "stream",
     "text": [
      "0    [0.019159256, -0.04540207, -0.013310673, 0.069...\n",
      "1    [-0.009258354, -0.03500584, 0.024274409, 0.068...\n",
      "2    [0.031344395, -0.006678687, 0.02832899, 0.0875...\n",
      "3    [0.027822988, -0.0011368291, -0.0047952645, 0....\n",
      "4    [0.020198364, 0.010235707, 0.00050375995, 0.06...\n",
      "Name: document_vector, dtype: object\n"
     ]
    }
   ],
   "source": [
    "# Convert the document vectors from their string representation back into numerical form\n",
    "df['document_vector'] = df['document_vector_flat'].apply(lambda x: np.fromstring(x, sep=','))\n",
    "\n",
    "# Ensure the conversion was successful\n",
    "print(df['document_vector'].head())"
   ]
  },
  {
   "cell_type": "code",
   "execution_count": 7,
   "id": "74eb7306-767f-4698-bb7a-0a9828f81618",
   "metadata": {},
   "outputs": [
    {
     "name": "stdout",
     "output_type": "stream",
     "text": [
      "Training data shape: (17760, 300)\n",
      "Testing data shape: (4440, 300)\n"
     ]
    }
   ],
   "source": [
    "from sklearn.model_selection import train_test_split\n",
    "# Extract features (document vectors) and labels (hate speech)\n",
    "X = np.array(df['document_vector'].tolist())\n",
    "y = df['hate_speech']\n",
    "\n",
    "# Split the data into training and testing sets\n",
    "X_train, X_test, y_train, y_test = train_test_split(X, y, test_size=0.2, random_state=42)\n",
    "\n",
    "# Display the shapes of the datasets\n",
    "print(f\"Training data shape: {X_train.shape}\")\n",
    "print(f\"Testing data shape: {X_test.shape}\")"
   ]
  },
  {
   "cell_type": "markdown",
   "id": "cafb18f5-b514-4d3f-b479-cd6425b7d2ed",
   "metadata": {},
   "source": [
    "## Imbalanced data handling (SMOTE)"
   ]
  },
  {
   "cell_type": "code",
   "execution_count": 1,
   "id": "8a455b04-7ffd-44e7-b22e-505d0a08a03e",
   "metadata": {},
   "outputs": [
    {
     "data": {
      "text/html": [
       "<div>\n",
       "<style scoped>\n",
       "    .dataframe tbody tr th:only-of-type {\n",
       "        vertical-align: middle;\n",
       "    }\n",
       "\n",
       "    .dataframe tbody tr th {\n",
       "        vertical-align: top;\n",
       "    }\n",
       "\n",
       "    .dataframe thead th {\n",
       "        text-align: right;\n",
       "    }\n",
       "</style>\n",
       "<table border=\"1\" class=\"dataframe\">\n",
       "  <thead>\n",
       "    <tr style=\"text-align: right;\">\n",
       "      <th></th>\n",
       "      <th>comment</th>\n",
       "      <th>hate_speech</th>\n",
       "      <th>lemmatized_comment</th>\n",
       "      <th>document_vector_flat</th>\n",
       "    </tr>\n",
       "  </thead>\n",
       "  <tbody>\n",
       "    <tr>\n",
       "      <th>0</th>\n",
       "      <td>subsection retarded hungarians ohh boy brace l...</td>\n",
       "      <td>1</td>\n",
       "      <td>subsection retard hungarians ohh boy brace liv...</td>\n",
       "      <td>0.014043219,-0.01809359,0.017145459,0.08062436...</td>\n",
       "    </tr>\n",
       "    <tr>\n",
       "      <th>1</th>\n",
       "      <td>hiii just got work Foundation and grounding ma...</td>\n",
       "      <td>0</td>\n",
       "      <td>hiii just get work Foundation and ground mainl...</td>\n",
       "      <td>-0.0030388932,-0.035133556,0.020659983,0.07383...</td>\n",
       "    </tr>\n",
       "    <tr>\n",
       "      <th>2</th>\n",
       "      <td>wow guess soyboys every country</td>\n",
       "      <td>0</td>\n",
       "      <td>wow guess soyboys every country</td>\n",
       "      <td>0.017362628,0.005587179,0.0297773,0.109146975,...</td>\n",
       "    </tr>\n",
       "    <tr>\n",
       "      <th>3</th>\n",
       "      <td>owen benjamins soyboy song goes every country ...</td>\n",
       "      <td>0</td>\n",
       "      <td>owen benjamins soyboy song go every country amaze</td>\n",
       "      <td>0.018085241,0.0011954829,2.8959475e-05,0.07601...</td>\n",
       "    </tr>\n",
       "    <tr>\n",
       "      <th>4</th>\n",
       "      <td>yall hear sumn means live small town rn for w...</td>\n",
       "      <td>0</td>\n",
       "      <td>yall hear sumn mean live small town rn for wor...</td>\n",
       "      <td>0.023993038,-0.00060867134,0.005239945,0.05989...</td>\n",
       "    </tr>\n",
       "  </tbody>\n",
       "</table>\n",
       "</div>"
      ],
      "text/plain": [
       "                                             comment  hate_speech  \\\n",
       "0  subsection retarded hungarians ohh boy brace l...            1   \n",
       "1  hiii just got work Foundation and grounding ma...            0   \n",
       "2                    wow guess soyboys every country            0   \n",
       "3  owen benjamins soyboy song goes every country ...            0   \n",
       "4   yall hear sumn means live small town rn for w...            0   \n",
       "\n",
       "                                  lemmatized_comment  \\\n",
       "0  subsection retard hungarians ohh boy brace liv...   \n",
       "1  hiii just get work Foundation and ground mainl...   \n",
       "2                    wow guess soyboys every country   \n",
       "3  owen benjamins soyboy song go every country amaze   \n",
       "4  yall hear sumn mean live small town rn for wor...   \n",
       "\n",
       "                                document_vector_flat  \n",
       "0  0.014043219,-0.01809359,0.017145459,0.08062436...  \n",
       "1  -0.0030388932,-0.035133556,0.020659983,0.07383...  \n",
       "2  0.017362628,0.005587179,0.0297773,0.109146975,...  \n",
       "3  0.018085241,0.0011954829,2.8959475e-05,0.07601...  \n",
       "4  0.023993038,-0.00060867134,0.005239945,0.05989...  "
      ]
     },
     "execution_count": 1,
     "metadata": {},
     "output_type": "execute_result"
    }
   ],
   "source": [
    "import pandas as pd\n",
    "import numpy as np\n",
    "from sklearn.feature_extraction.text import TfidfVectorizer\n",
    "from sklearn.model_selection import train_test_split\n",
    "\n",
    "df = pd.read_csv('Reddit_Encoded.csv')\n",
    "df.head()"
   ]
  },
  {
   "cell_type": "code",
   "execution_count": 2,
   "id": "136b0227-a8f3-4752-a8e6-cba5fdf565e5",
   "metadata": {},
   "outputs": [
    {
     "name": "stderr",
     "output_type": "stream",
     "text": [
      "C:\\Users\\Aman Shekhar Sachan\\AppData\\Local\\Temp\\ipykernel_1312\\1435646104.py:6: SettingWithCopyWarning: \n",
      "A value is trying to be set on a copy of a slice from a DataFrame.\n",
      "Try using .loc[row_indexer,col_indexer] = value instead\n",
      "\n",
      "See the caveats in the documentation: https://pandas.pydata.org/pandas-docs/stable/user_guide/indexing.html#returning-a-view-versus-a-copy\n",
      "  X['document_vector_flat'] = X['document_vector_flat'].apply(lambda x: np.array([float(i) for i in x.split(',')]))\n"
     ]
    },
    {
     "name": "stdout",
     "output_type": "stream",
     "text": [
      "X_train shape: (17768, 2)\n",
      "X_test shape: (4443, 2)\n",
      "y_train shape: (17768,)\n",
      "y_test shape: (4443,)\n",
      "X_train_vectors shape: (17768, 300)\n",
      "X_test_vectors shape: (4443, 300)\n"
     ]
    }
   ],
   "source": [
    "# Extract features and labels\n",
    "X = df[['lemmatized_comment', 'document_vector_flat']]\n",
    "y = df['hate_speech']\n",
    "\n",
    "# Convert document vectors to numerical form\n",
    "X['document_vector_flat'] = X['document_vector_flat'].apply(lambda x: np.array([float(i) for i in x.split(',')]))\n",
    "\n",
    "# Split the data\n",
    "X_train, X_test, y_train, y_test = train_test_split(X, y, test_size=0.2, random_state=42, stratify=y)\n",
    "\n",
    "# Handle document vectors separately\n",
    "X_train_vectors = np.stack(X_train['document_vector_flat'].values)\n",
    "X_test_vectors = np.stack(X_test['document_vector_flat'].values)\n",
    "\n",
    "# Optional: Combine features if needed\n",
    "combined_train_features = [X_train['lemmatized_comment'].values, X_train_vectors]\n",
    "combined_test_features = [X_test['lemmatized_comment'].values, X_test_vectors]\n",
    "\n",
    "# Print shapes to confirm\n",
    "print(\"X_train shape:\", X_train.shape)\n",
    "print(\"X_test shape:\", X_test.shape)\n",
    "print(\"y_train shape:\", y_train.shape)\n",
    "print(\"y_test shape:\", y_test.shape)\n",
    "print(\"X_train_vectors shape:\", X_train_vectors.shape)\n",
    "print(\"X_test_vectors shape:\", X_test_vectors.shape)\n"
   ]
  },
  {
   "cell_type": "code",
   "execution_count": 9,
   "id": "157ca65f-68de-4dfd-bcfd-9ba5f8f4ed3f",
   "metadata": {},
   "outputs": [
    {
     "name": "stdout",
     "output_type": "stream",
     "text": [
      "Class distribution after applying SMOTE:\n",
      "Counter({0: 13539, 1: 13539})\n"
     ]
    },
    {
     "data": {
      "image/png": "[encoded data removed]",
      "text/plain": [
       "<Figure size 800x600 with 1 Axes>"
      ]
     },
     "metadata": {},
     "output_type": "display_data"
    },
    {
     "name": "stdout",
     "output_type": "stream",
     "text": [
      "X_train_resampled_vectors shape: (27078, 300)\n",
      "y_train_resampled shape: (27078,)\n"
     ]
    }
   ],
   "source": [
    "import matplotlib.pyplot as plt\n",
    "from imblearn.over_sampling import SMOTE\n",
    "from collections import Counter\n",
    "\n",
    "# Initialize SMOTE\n",
    "smote = SMOTE(random_state=42)\n",
    "\n",
    "# Apply SMOTE to the training data\n",
    "X_train_resampled_vectors, y_train_resampled = smote.fit_resample(X_train_vectors, y_train)\n",
    "\n",
    "# Display the new class distribution after applying SMOTE\n",
    "print(\"Class distribution after applying SMOTE:\")\n",
    "print(Counter(y_train_resampled))\n",
    "\n",
    "# Optional: Plot the new distribution\n",
    "plt.figure(figsize=(8, 6))\n",
    "pd.Series(y_train_resampled).value_counts().plot(kind='bar')\n",
    "plt.title('Class Distribution after SMOTE')\n",
    "plt.xlabel('Class')\n",
    "plt.ylabel('Count')\n",
    "plt.xticks([0, 1], ['Non-Hate Speech (0)', 'Hate Speech (1)'], rotation=0)\n",
    "plt.show()\n",
    "\n",
    "# Print shapes to confirm\n",
    "print(\"X_train_resampled_vectors shape:\", X_train_resampled_vectors.shape)\n",
    "print(\"y_train_resampled shape:\", y_train_resampled.shape)\n"
   ]
  },
  {
   "cell_type": "markdown",
   "id": "85e583b8-9b27-4137-82b9-bf3405001aa8",
   "metadata": {},
   "source": [
    "### now save balanced train file and the test file in csv format"
   ]
  },
  {
   "cell_type": "code",
   "execution_count": 3,
   "id": "a543c3ad-50c8-4d80-9534-5503e1a4d796",
   "metadata": {},
   "outputs": [],
   "source": [
    "import pandas as pd\n",
    "import numpy as np\n",
    "from sklearn.model_selection import train_test_split\n",
    "from sklearn.metrics import classification_report, accuracy_score\n",
    "from keras.models import Sequential\n",
    "from keras.layers import Dense, Dropout, Conv1D, MaxPooling1D, Flatten, LSTM\n"
   ]
  },
  {
   "cell_type": "code",
   "execution_count": 4,
   "id": "906d54e0-4701-42dd-9ee3-43e0ee42e519",
   "metadata": {},
   "outputs": [
    {
     "name": "stderr",
     "output_type": "stream",
     "text": [
      "C:\\Users\\Aman Shekhar Sachan\\AppData\\Local\\Temp\\ipykernel_6312\\2809165132.py:2: DtypeWarning: Columns (300) have mixed types. Specify dtype option on import or set low_memory=False.\n",
      "  train_data = pd.read_csv('train.csv')\n"
     ]
    }
   ],
   "source": [
    "# Load the balanced training data and test data\n",
    "train_data = pd.read_csv('train.csv')\n",
    "test_data = pd.read_csv('test.csv')\n",
    "\n",
    "# Separate features and labels\n",
    "X_train = train_data.drop(columns=['hate_speech', 'lemmatized_comment'])\n",
    "y_train = train_data['hate_speech']\n",
    "\n",
    "X_test = test_data.drop(columns=['hate_speech', 'lemmatized_comment'])\n",
    "y_test = test_data['hate_speech']\n",
    "\n",
    "# Convert DataFrames to numpy arrays-keras require inpute data in numpy array format\n",
    "X_train = np.array(X_train)\n",
    "X_test = np.array(X_test)\n",
    "\n",
    "# Ensure the labels are in the correct format\n",
    "y_train = np.array(y_train)\n",
    "y_test = np.array(y_test)\n",
    "\n",
    "# Reshape the input data to be 3D [samples, time steps, features]\n",
    "# This is necessary for Conv1D and LSTM layers which expect 3D input\n",
    "X_train = X_train.reshape((X_train.shape[0], 1, X_train.shape[1]))\n",
    "X_test = X_test.reshape((X_test.shape[0], 1, X_test.shape[1]))\n"
   ]
  },
  {
   "cell_type": "markdown",
   "id": "f20dadd8-ffdb-477f-a7fb-8d2867bcee89",
   "metadata": {},
   "source": [
    "## ***Deep Learning Models (LSTM)***"
   ]
  },
  {
   "cell_type": "code",
   "execution_count": 36,
   "id": "c6c22c00-40a8-47b2-b134-5ce1c233a5a5",
   "metadata": {},
   "outputs": [],
   "source": [
    "from sklearn.metrics import classification_report, accuracy_score\n",
    "from keras.models import Sequential\n",
    "from keras.layers import Dense, Dropout, Conv1D, MaxPooling1D, Flatten, LSTM, Embedding, SpatialDropout1D, Bidirectional\n",
    "\n",
    "# Define the LSTM model\n",
    "def create_lstm_model(input_shape):\n",
    "    model = Sequential()\n",
    "    model.add(Bidirectional(LSTM(100, return_sequences=True), input_shape=input_shape))\n",
    "    model.add(SpatialDropout1D(0.5))\n",
    "    model.add(Flatten())\n",
    "    model.add(Dense(100, activation='relu'))\n",
    "    model.add(Dropout(0.5))\n",
    "    model.add(Dense(1, activation='sigmoid'))\n",
    "    model.compile(optimizer='adam', loss='binary_crossentropy', metrics=['accuracy'])\n",
    "    return model"
   ]
  },
  {
   "cell_type": "code",
   "execution_count": 37,
   "id": "e8b7469d-57b4-441f-b7c4-5594b44f76c8",
   "metadata": {},
   "outputs": [
    {
     "name": "stderr",
     "output_type": "stream",
     "text": [
      "C:\\Users\\Aman Shekhar Sachan\\AppData\\Roaming\\Python\\Python311\\site-packages\\keras\\src\\layers\\rnn\\bidirectional.py:107: UserWarning: Do not pass an `input_shape`/`input_dim` argument to a layer. When using Sequential models, prefer using an `Input(shape)` object as the first layer in the model instead.\n",
      "  super().__init__(**kwargs)\n"
     ]
    },
    {
     "data": {
      "text/html": [
       "<pre style=\"white-space:pre;overflow-x:auto;line-height:normal;font-family:Menlo,'DejaVu Sans Mono',consolas,'Courier New',monospace\"><span style=\"font-weight: bold\">Model: \"sequential_1\"</span>\n",
       "</pre>\n"
      ],
      "text/plain": [
       "\u001b[1mModel: \"sequential_1\"\u001b[0m\n"
      ]
     },
     "metadata": {},
     "output_type": "display_data"
    },
    {
     "data": {
      "text/html": [
       "<pre style=\"white-space:pre;overflow-x:auto;line-height:normal;font-family:Menlo,'DejaVu Sans Mono',consolas,'Courier New',monospace\">┏━━━━━━━━━━━━━━━━━━━━━━━━━━━━━━━━━━━━━━┳━━━━━━━━━━━━━━━━━━━━━━━━━━━━━┳━━━━━━━━━━━━━━━━━┓\n",
       "┃<span style=\"font-weight: bold\"> Layer (type)                         </span>┃<span style=\"font-weight: bold\"> Output Shape                </span>┃<span style=\"font-weight: bold\">         Param # </span>┃\n",
       "┡━━━━━━━━━━━━━━━━━━━━━━━━━━━━━━━━━━━━━━╇━━━━━━━━━━━━━━━━━━━━━━━━━━━━━╇━━━━━━━━━━━━━━━━━┩\n",
       "│ bidirectional_1 (<span style=\"color: #0087ff; text-decoration-color: #0087ff\">Bidirectional</span>)      │ (<span style=\"color: #00d7ff; text-decoration-color: #00d7ff\">None</span>, <span style=\"color: #00af00; text-decoration-color: #00af00\">1</span>, <span style=\"color: #00af00; text-decoration-color: #00af00\">200</span>)              │         <span style=\"color: #00af00; text-decoration-color: #00af00\">320,800</span> │\n",
       "├──────────────────────────────────────┼─────────────────────────────┼─────────────────┤\n",
       "│ spatial_dropout1d_1                  │ (<span style=\"color: #00d7ff; text-decoration-color: #00d7ff\">None</span>, <span style=\"color: #00af00; text-decoration-color: #00af00\">1</span>, <span style=\"color: #00af00; text-decoration-color: #00af00\">200</span>)              │               <span style=\"color: #00af00; text-decoration-color: #00af00\">0</span> │\n",
       "│ (<span style=\"color: #0087ff; text-decoration-color: #0087ff\">SpatialDropout1D</span>)                   │                             │                 │\n",
       "├──────────────────────────────────────┼─────────────────────────────┼─────────────────┤\n",
       "│ flatten_1 (<span style=\"color: #0087ff; text-decoration-color: #0087ff\">Flatten</span>)                  │ (<span style=\"color: #00d7ff; text-decoration-color: #00d7ff\">None</span>, <span style=\"color: #00af00; text-decoration-color: #00af00\">200</span>)                 │               <span style=\"color: #00af00; text-decoration-color: #00af00\">0</span> │\n",
       "├──────────────────────────────────────┼─────────────────────────────┼─────────────────┤\n",
       "│ dense_2 (<span style=\"color: #0087ff; text-decoration-color: #0087ff\">Dense</span>)                      │ (<span style=\"color: #00d7ff; text-decoration-color: #00d7ff\">None</span>, <span style=\"color: #00af00; text-decoration-color: #00af00\">100</span>)                 │          <span style=\"color: #00af00; text-decoration-color: #00af00\">20,100</span> │\n",
       "├──────────────────────────────────────┼─────────────────────────────┼─────────────────┤\n",
       "│ dropout_1 (<span style=\"color: #0087ff; text-decoration-color: #0087ff\">Dropout</span>)                  │ (<span style=\"color: #00d7ff; text-decoration-color: #00d7ff\">None</span>, <span style=\"color: #00af00; text-decoration-color: #00af00\">100</span>)                 │               <span style=\"color: #00af00; text-decoration-color: #00af00\">0</span> │\n",
       "├──────────────────────────────────────┼─────────────────────────────┼─────────────────┤\n",
       "│ dense_3 (<span style=\"color: #0087ff; text-decoration-color: #0087ff\">Dense</span>)                      │ (<span style=\"color: #00d7ff; text-decoration-color: #00d7ff\">None</span>, <span style=\"color: #00af00; text-decoration-color: #00af00\">1</span>)                   │             <span style=\"color: #00af00; text-decoration-color: #00af00\">101</span> │\n",
       "└──────────────────────────────────────┴─────────────────────────────┴─────────────────┘\n",
       "</pre>\n"
      ],
      "text/plain": [
       "┏━━━━━━━━━━━━━━━━━━━━━━━━━━━━━━━━━━━━━━┳━━━━━━━━━━━━━━━━━━━━━━━━━━━━━┳━━━━━━━━━━━━━━━━━┓\n",
       "┃\u001b[1m \u001b[0m\u001b[1mLayer (type)                        \u001b[0m\u001b[1m \u001b[0m┃\u001b[1m \u001b[0m\u001b[1mOutput Shape               \u001b[0m\u001b[1m \u001b[0m┃\u001b[1m \u001b[0m\u001b[1m        Param #\u001b[0m\u001b[1m \u001b[0m┃\n",
       "┡━━━━━━━━━━━━━━━━━━━━━━━━━━━━━━━━━━━━━━╇━━━━━━━━━━━━━━━━━━━━━━━━━━━━━╇━━━━━━━━━━━━━━━━━┩\n",
       "│ bidirectional_1 (\u001b[38;5;33mBidirectional\u001b[0m)      │ (\u001b[38;5;45mNone\u001b[0m, \u001b[38;5;34m1\u001b[0m, \u001b[38;5;34m200\u001b[0m)              │         \u001b[38;5;34m320,800\u001b[0m │\n",
       "├──────────────────────────────────────┼─────────────────────────────┼─────────────────┤\n",
       "│ spatial_dropout1d_1                  │ (\u001b[38;5;45mNone\u001b[0m, \u001b[38;5;34m1\u001b[0m, \u001b[38;5;34m200\u001b[0m)              │               \u001b[38;5;34m0\u001b[0m │\n",
       "│ (\u001b[38;5;33mSpatialDropout1D\u001b[0m)                   │                             │                 │\n",
       "├──────────────────────────────────────┼─────────────────────────────┼─────────────────┤\n",
       "│ flatten_1 (\u001b[38;5;33mFlatten\u001b[0m)                  │ (\u001b[38;5;45mNone\u001b[0m, \u001b[38;5;34m200\u001b[0m)                 │               \u001b[38;5;34m0\u001b[0m │\n",
       "├──────────────────────────────────────┼─────────────────────────────┼─────────────────┤\n",
       "│ dense_2 (\u001b[38;5;33mDense\u001b[0m)                      │ (\u001b[38;5;45mNone\u001b[0m, \u001b[38;5;34m100\u001b[0m)                 │          \u001b[38;5;34m20,100\u001b[0m │\n",
       "├──────────────────────────────────────┼─────────────────────────────┼─────────────────┤\n",
       "│ dropout_1 (\u001b[38;5;33mDropout\u001b[0m)                  │ (\u001b[38;5;45mNone\u001b[0m, \u001b[38;5;34m100\u001b[0m)                 │               \u001b[38;5;34m0\u001b[0m │\n",
       "├──────────────────────────────────────┼─────────────────────────────┼─────────────────┤\n",
       "│ dense_3 (\u001b[38;5;33mDense\u001b[0m)                      │ (\u001b[38;5;45mNone\u001b[0m, \u001b[38;5;34m1\u001b[0m)                   │             \u001b[38;5;34m101\u001b[0m │\n",
       "└──────────────────────────────────────┴─────────────────────────────┴─────────────────┘\n"
      ]
     },
     "metadata": {},
     "output_type": "display_data"
    },
    {
     "data": {
      "text/html": [
       "<pre style=\"white-space:pre;overflow-x:auto;line-height:normal;font-family:Menlo,'DejaVu Sans Mono',consolas,'Courier New',monospace\"><span style=\"font-weight: bold\"> Total params: </span><span style=\"color: #00af00; text-decoration-color: #00af00\">341,001</span> (1.30 MB)\n",
       "</pre>\n"
      ],
      "text/plain": [
       "\u001b[1m Total params: \u001b[0m\u001b[38;5;34m341,001\u001b[0m (1.30 MB)\n"
      ]
     },
     "metadata": {},
     "output_type": "display_data"
    },
    {
     "data": {
      "text/html": [
       "<pre style=\"white-space:pre;overflow-x:auto;line-height:normal;font-family:Menlo,'DejaVu Sans Mono',consolas,'Courier New',monospace\"><span style=\"font-weight: bold\"> Trainable params: </span><span style=\"color: #00af00; text-decoration-color: #00af00\">341,001</span> (1.30 MB)\n",
       "</pre>\n"
      ],
      "text/plain": [
       "\u001b[1m Trainable params: \u001b[0m\u001b[38;5;34m341,001\u001b[0m (1.30 MB)\n"
      ]
     },
     "metadata": {},
     "output_type": "display_data"
    },
    {
     "data": {
      "text/html": [
       "<pre style=\"white-space:pre;overflow-x:auto;line-height:normal;font-family:Menlo,'DejaVu Sans Mono',consolas,'Courier New',monospace\"><span style=\"font-weight: bold\"> Non-trainable params: </span><span style=\"color: #00af00; text-decoration-color: #00af00\">0</span> (0.00 B)\n",
       "</pre>\n"
      ],
      "text/plain": [
       "\u001b[1m Non-trainable params: \u001b[0m\u001b[38;5;34m0\u001b[0m (0.00 B)\n"
      ]
     },
     "metadata": {},
     "output_type": "display_data"
    },
    {
     "name": "stdout",
     "output_type": "stream",
     "text": [
      "Epoch 1/10\n",
      "\u001b[1m339/339\u001b[0m \u001b[32m━━━━━━━━━━━━━━━━━━━━\u001b[0m\u001b[37m\u001b[0m \u001b[1m21s\u001b[0m 17ms/step - accuracy: 0.6808 - loss: 0.5958 - val_accuracy: 0.6433 - val_loss: 0.6535\n",
      "Epoch 2/10\n",
      "\u001b[1m339/339\u001b[0m \u001b[32m━━━━━━━━━━━━━━━━━━━━\u001b[0m\u001b[37m\u001b[0m \u001b[1m5s\u001b[0m 13ms/step - accuracy: 0.7669 - loss: 0.4749 - val_accuracy: 0.7179 - val_loss: 0.5818\n",
      "Epoch 3/10\n",
      "\u001b[1m339/339\u001b[0m \u001b[32m━━━━━━━━━━━━━━━━━━━━\u001b[0m\u001b[37m\u001b[0m \u001b[1m6s\u001b[0m 14ms/step - accuracy: 0.7764 - loss: 0.4587 - val_accuracy: 0.6802 - val_loss: 0.6545\n",
      "Epoch 4/10\n",
      "\u001b[1m339/339\u001b[0m \u001b[32m━━━━━━━━━━━━━━━━━━━━\u001b[0m\u001b[37m\u001b[0m \u001b[1m5s\u001b[0m 13ms/step - accuracy: 0.7885 - loss: 0.4434 - val_accuracy: 0.6784 - val_loss: 0.6486\n",
      "Epoch 5/10\n",
      "\u001b[1m339/339\u001b[0m \u001b[32m━━━━━━━━━━━━━━━━━━━━\u001b[0m\u001b[37m\u001b[0m \u001b[1m5s\u001b[0m 14ms/step - accuracy: 0.7988 - loss: 0.4248 - val_accuracy: 0.5685 - val_loss: 0.7592\n",
      "Epoch 6/10\n",
      "\u001b[1m339/339\u001b[0m \u001b[32m━━━━━━━━━━━━━━━━━━━━\u001b[0m\u001b[37m\u001b[0m \u001b[1m5s\u001b[0m 13ms/step - accuracy: 0.8068 - loss: 0.4185 - val_accuracy: 0.7400 - val_loss: 0.5549\n",
      "Epoch 7/10\n",
      "\u001b[1m339/339\u001b[0m \u001b[32m━━━━━━━━━━━━━━━━━━━━\u001b[0m\u001b[37m\u001b[0m \u001b[1m6s\u001b[0m 13ms/step - accuracy: 0.8127 - loss: 0.4136 - val_accuracy: 0.7548 - val_loss: 0.5313\n",
      "Epoch 8/10\n",
      "\u001b[1m339/339\u001b[0m \u001b[32m━━━━━━━━━━━━━━━━━━━━\u001b[0m\u001b[37m\u001b[0m \u001b[1m5s\u001b[0m 13ms/step - accuracy: 0.8191 - loss: 0.4014 - val_accuracy: 0.7581 - val_loss: 0.5418\n",
      "Epoch 9/10\n",
      "\u001b[1m339/339\u001b[0m \u001b[32m━━━━━━━━━━━━━━━━━━━━\u001b[0m\u001b[37m\u001b[0m \u001b[1m6s\u001b[0m 14ms/step - accuracy: 0.8172 - loss: 0.4008 - val_accuracy: 0.7103 - val_loss: 0.5955\n",
      "Epoch 10/10\n",
      "\u001b[1m339/339\u001b[0m \u001b[32m━━━━━━━━━━━━━━━━━━━━\u001b[0m\u001b[37m\u001b[0m \u001b[1m5s\u001b[0m 13ms/step - accuracy: 0.8228 - loss: 0.3915 - val_accuracy: 0.7415 - val_loss: 0.5521\n"
     ]
    },
    {
     "data": {
      "text/plain": [
       "<keras.src.callbacks.history.History at 0x1ad0ddb2910>"
      ]
     },
     "execution_count": 37,
     "metadata": {},
     "output_type": "execute_result"
    }
   ],
   "source": [
    "# LSTM Model\n",
    "lstm_model = create_lstm_model((X_train.shape[1], X_train.shape[2]))\n",
    "lstm_model.summary()\n",
    "lstm_model.fit(X_train, y_train, epochs=10, batch_size=64, validation_split=0.2)"
   ]
  },
  {
   "cell_type": "code",
   "execution_count": 41,
   "id": "a5bcba21-c23a-4736-bddd-f2896a038a25",
   "metadata": {},
   "outputs": [
    {
     "name": "stdout",
     "output_type": "stream",
     "text": [
      "\n",
      "--- LSTM Model Evaluation ---\n",
      "\u001b[1m139/139\u001b[0m \u001b[32m━━━━━━━━━━━━━━━━━━━━\u001b[0m\u001b[37m\u001b[0m \u001b[1m1s\u001b[0m 4ms/step\n",
      "Accuracy: 0.8438\n",
      "Precision: 0.6537\n",
      "Recall: 0.7304\n",
      "F1 Score: 0.6899\n",
      "Classification Report:\n",
      "              precision    recall  f1-score   support\n",
      "\n",
      "           0       0.91      0.88      0.90      3386\n",
      "           1       0.65      0.73      0.69      1057\n",
      "\n",
      "    accuracy                           0.84      4443\n",
      "   macro avg       0.78      0.80      0.79      4443\n",
      "weighted avg       0.85      0.84      0.85      4443\n",
      "\n"
     ]
    }
   ],
   "source": [
    "from sklearn.metrics import classification_report, accuracy_score, precision_score, recall_score, f1_score\n",
    "# Evaluate models\n",
    "def evaluate_model(model, X_test, y_test):\n",
    "    y_pred = model.predict(X_test)\n",
    "    y_pred = (y_pred > 0.5).astype(\"int32\")\n",
    "    accuracy = accuracy_score(y_test, y_pred)\n",
    "    precision = precision_score(y_test, y_pred)\n",
    "    recall = recall_score(y_test, y_pred)\n",
    "    f1 = f1_score(y_test, y_pred)\n",
    "    \n",
    "    print(f\"Accuracy: {accuracy:.4f}\")\n",
    "    print(f\"Precision: {precision:.4f}\")\n",
    "    print(f\"Recall: {recall:.4f}\")\n",
    "    print(f\"F1 Score: {f1:.4f}\")\n",
    "    print(\"Classification Report:\")\n",
    "    print(classification_report(y_test, y_pred))\n",
    "    return y_pred\n",
    "\n",
    "print(\"\\n--- LSTM Model Evaluation ---\")\n",
    "lstm_predictions= evaluate_model(lstm_model, X_test, y_test)"
   ]
  },
  {
   "cell_type": "code",
   "execution_count": 42,
   "id": "eaf80b7c-131f-4a5d-9ba8-908756f070a3",
   "metadata": {},
   "outputs": [
    {
     "data": {
      "image/png": "[encoded data removed]",
      "text/plain": [
       "<Figure size 1000x700 with 2 Axes>"
      ]
     },
     "metadata": {},
     "output_type": "display_data"
    }
   ],
   "source": [
    "from sklearn.metrics import confusion_matrix\n",
    "import seaborn as sns\n",
    "import matplotlib.pyplot as plt\n",
    "\n",
    "# Plot the confusion matrix\n",
    "def plot_confusion_matrix(y_true, y_pred):\n",
    "    cm = confusion_matrix(y_true, y_pred)\n",
    "    plt.figure(figsize=(10, 7))\n",
    "    sns.heatmap(cm, annot=True, fmt='d', cmap='Blues', xticklabels=['Not Hate Speech', 'Hate Speech'], yticklabels=['Not Hate Speech', 'Hate Speech'])\n",
    "    plt.ylabel('Actual')\n",
    "    plt.xlabel('Predicted')\n",
    "    plt.title('Confusion Matrix')\n",
    "    plt.show()\n",
    "\n",
    "# Plot confusion matrix for CNN model\n",
    "plot_confusion_matrix(y_test, lstm_predictions)"
   ]
  },
  {
   "cell_type": "markdown",
   "id": "dad76ca6-bdf5-4db5-b4e0-1ddc0e29e509",
   "metadata": {},
   "source": [
    "#### Based on the evaluation results of the LSTM model, we have surpassed our previous benchmark scores. Our accuracy and F1-score for hate speech prediction have improved, reaching 84% accuracy and an F1-score of 69%, compared to our previous benchmark of 82% accuracy and 62% F1-score in our initial machine learning models(SVM).\n"
   ]
  },
  {
   "cell_type": "markdown",
   "id": "5aa80bce-adb9-4ee0-9a9a-931f8d31f085",
   "metadata": {},
   "source": [
    "## Prediction of Model Performance"
   ]
  },
  {
   "cell_type": "code",
   "execution_count": 2,
   "id": "e7841f79-5867-499d-aae1-689cf0a91c30",
   "metadata": {},
   "outputs": [],
   "source": [
    "import fasttext\n",
    "# Load the FastText model\n",
    "ft_model = fasttext.load_model('cc.en.300.bin')"
   ]
  },
  {
   "cell_type": "code",
   "execution_count": 43,
   "id": "f7fd55df-c7b8-41ce-8b32-1deb60b04a02",
   "metadata": {},
   "outputs": [],
   "source": [
    "import numpy as np\n",
    "from tensorflow.keras.preprocessing.sequence import pad_sequences\n",
    "import fasttext\n",
    "# load fasttext model- cc.en.300.bin\n",
    "# Function to preprocess texts using FastText for vectorization\n",
    "def preprocess_texts(texts, ft_model):\n",
    "    preprocessed_texts = []\n",
    "    for text in texts:\n",
    "        # Split text into words\n",
    "        words = text.split()\n",
    "        # Get FastText embeddings for each word\n",
    "        word_vectors = [ft_model.get_word_vector(word) for word in words]\n",
    "        # Average the word vectors to get text vector\n",
    "        text_vector = np.mean(word_vectors, axis=0)\n",
    "        preprocessed_texts.append(text_vector)\n",
    "    return np.array(preprocessed_texts)\n",
    "\n",
    "# Function to predict hate speech for given text samples\n",
    "def predict_hate_speech(texts, lstm_model, ft_model):\n",
    "    # Preprocess texts using FastText for vectorization\n",
    "    X_samples = preprocess_texts(texts, ft_model)\n",
    "    \n",
    "    # Reshape the input data to be 3D [samples, time steps, features]\n",
    "    X_samples = X_samples.reshape((X_samples.shape[0], 1, X_samples.shape[1]))\n",
    "    \n",
    "    # Predict using the model\n",
    "    predictions = lstm_model.predict(X_samples)\n",
    "    predictions = (predictions > 0.5).astype(\"int32\")\n",
    "    \n",
    "    # Print predictions\n",
    "    for text, prediction in zip(texts, predictions):\n",
    "        label = 'Hate Speech' if prediction == 1 else 'Not Hate Speech'\n",
    "        print(f\"Text: {text}\\nPrediction: {label}\\n\")\n",
    "\n"
   ]
  },
  {
   "cell_type": "code",
   "execution_count": 44,
   "id": "33157317-f674-405a-844d-4a0fe184a9c7",
   "metadata": {},
   "outputs": [],
   "source": [
    "# Example of a few sample texts for prediction\n",
    "sample_texts = [\n",
    "    \"This is a terrible thing to say.\",\n",
    "    \"You are a good person!\",\n",
    "    \"I hate everyone.\",\n",
    "    \"Jun, You are a bitch\",\n",
    "    \"Kim, You are bitch\",\n",
    "    \"Karim, fuck you\",\n",
    "    \"I hope you die, bitch\",\n",
    "    \"You ever fuck a bitch and she start to cry?\",\n",
    "    \"The new restaurant in town has amazing food and great service.\",\n",
    "]\n"
   ]
  },
  {
   "cell_type": "code",
   "execution_count": 45,
   "id": "03ae5677-a82c-4655-90bc-333b28def4f6",
   "metadata": {},
   "outputs": [
    {
     "name": "stdout",
     "output_type": "stream",
     "text": [
      "\u001b[1m1/1\u001b[0m \u001b[32m━━━━━━━━━━━━━━━━━━━━\u001b[0m\u001b[37m\u001b[0m \u001b[1m0s\u001b[0m 178ms/step\n",
      "Text: This is a terrible thing to say.\n",
      "Prediction: Not Hate Speech\n",
      "\n",
      "Text: You are a good person!\n",
      "Prediction: Not Hate Speech\n",
      "\n",
      "Text: I hate everyone.\n",
      "Prediction: Not Hate Speech\n",
      "\n",
      "Text: Jun, You are a bitch\n",
      "Prediction: Hate Speech\n",
      "\n",
      "Text: Kim, You are bitch\n",
      "Prediction: Hate Speech\n",
      "\n",
      "Text: Karim, fuck you\n",
      "Prediction: Hate Speech\n",
      "\n",
      "Text: I hope you die, bitch\n",
      "Prediction: Hate Speech\n",
      "\n",
      "Text: You ever fuck a bitch and she start to cry?\n",
      "Prediction: Hate Speech\n",
      "\n",
      "Text: The new restaurant in town has amazing food and great service.\n",
      "Prediction: Not Hate Speech\n",
      "\n"
     ]
    }
   ],
   "source": [
    "# Call the prediction function\n",
    "predict_hate_speech(sample_texts, lstm_model, ft_model)\n"
   ]
  },
  {
   "cell_type": "code",
   "execution_count": null,
   "id": "91276b84-3eeb-4a72-959e-377cee6da2d7",
   "metadata": {},
   "outputs": [],
   "source": []
  }
 ],
 "metadata": {
  "kernelspec": {
   "display_name": "Python 3 (ipykernel)",
   "language": "python",
   "name": "python3"
  },
  "language_info": {
   "codemirror_mode": {
    "name": "ipython",
    "version": 3
   },
   "file_extension": ".py",
   "mimetype": "text/x-python",
   "name": "python",
   "nbconvert_exporter": "python",
   "pygments_lexer": "ipython3",
   "version": "3.11.7"
  }
 },
 "nbformat": 4,
 "nbformat_minor": 5
}
