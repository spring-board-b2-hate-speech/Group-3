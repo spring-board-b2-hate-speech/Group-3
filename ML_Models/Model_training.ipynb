{
 "cells": [
  {
   "cell_type": "code",
   "execution_count": 2,
   "id": "e498004e-5dee-4100-b8b8-f2d124c1088f",
   "metadata": {},
   "outputs": [],
   "source": [
    "import pandas as pd\n",
    "import numpy as np\n",
    "import matplotlib.pyplot as plt\n",
    "import seaborn as sns"
   ]
  },
  {
   "cell_type": "code",
   "execution_count": 3,
   "id": "2b2e0aeb-498f-45a1-835a-376500331556",
   "metadata": {},
   "outputs": [
    {
     "data": {
      "text/html": [
       "<div>\n",
       "<style scoped>\n",
       "    .dataframe tbody tr th:only-of-type {\n",
       "        vertical-align: middle;\n",
       "    }\n",
       "\n",
       "    .dataframe tbody tr th {\n",
       "        vertical-align: top;\n",
       "    }\n",
       "\n",
       "    .dataframe thead th {\n",
       "        text-align: right;\n",
       "    }\n",
       "</style>\n",
       "<table border=\"1\" class=\"dataframe\">\n",
       "  <thead>\n",
       "    <tr style=\"text-align: right;\">\n",
       "      <th></th>\n",
       "      <th>comment</th>\n",
       "      <th>hate_speech</th>\n",
       "      <th>lemmatized_comment</th>\n",
       "      <th>document_vector_flat</th>\n",
       "    </tr>\n",
       "  </thead>\n",
       "  <tbody>\n",
       "    <tr>\n",
       "      <th>0</th>\n",
       "      <td>subsection retarded hungarians ohh boy brace l...</td>\n",
       "      <td>1</td>\n",
       "      <td>subsection retard hungarians ohh boy brace liv...</td>\n",
       "      <td>0.014043219,-0.01809359,0.017145459,0.08062436...</td>\n",
       "    </tr>\n",
       "    <tr>\n",
       "      <th>1</th>\n",
       "      <td>hiii just got work Foundation and grounding ma...</td>\n",
       "      <td>0</td>\n",
       "      <td>hiii just get work Foundation and ground mainl...</td>\n",
       "      <td>-0.0030388932,-0.035133556,0.020659983,0.07383...</td>\n",
       "    </tr>\n",
       "    <tr>\n",
       "      <th>2</th>\n",
       "      <td>wow guess soyboys every country</td>\n",
       "      <td>0</td>\n",
       "      <td>wow guess soyboys every country</td>\n",
       "      <td>0.017362628,0.005587179,0.0297773,0.109146975,...</td>\n",
       "    </tr>\n",
       "    <tr>\n",
       "      <th>3</th>\n",
       "      <td>owen benjamins soyboy song goes every country ...</td>\n",
       "      <td>0</td>\n",
       "      <td>owen benjamins soyboy song go every country amaze</td>\n",
       "      <td>0.018085241,0.0011954829,2.8959475e-05,0.07601...</td>\n",
       "    </tr>\n",
       "    <tr>\n",
       "      <th>4</th>\n",
       "      <td>yall hear sumn means live small town rn for w...</td>\n",
       "      <td>0</td>\n",
       "      <td>yall hear sumn mean live small town rn for wor...</td>\n",
       "      <td>0.023993038,-0.00060867134,0.005239945,0.05989...</td>\n",
       "    </tr>\n",
       "    <tr>\n",
       "      <th>...</th>\n",
       "      <td>...</td>\n",
       "      <td>...</td>\n",
       "      <td>...</td>\n",
       "      <td>...</td>\n",
       "    </tr>\n",
       "    <tr>\n",
       "      <th>22206</th>\n",
       "      <td>op stop faggot post videos next time hard</td>\n",
       "      <td>1</td>\n",
       "      <td>op stop faggot post videos next time hard</td>\n",
       "      <td>0.08339707,-0.017676119,-0.036872935,0.1038081...</td>\n",
       "    </tr>\n",
       "    <tr>\n",
       "      <th>22207</th>\n",
       "      <td>minute long video top hate champagne goes need...</td>\n",
       "      <td>0</td>\n",
       "      <td>minute long video top hate champagne go need g...</td>\n",
       "      <td>0.009342635,0.02728245,-0.0013451587,0.0765217...</td>\n",
       "    </tr>\n",
       "    <tr>\n",
       "      <th>22208</th>\n",
       "      <td>clue whos ecelebs are point time  need get alo...</td>\n",
       "      <td>1</td>\n",
       "      <td>clue whos ecelebs be point time need get along...</td>\n",
       "      <td>-0.0006810841,0.008315975,0.029024707,0.077029...</td>\n",
       "    </tr>\n",
       "    <tr>\n",
       "      <th>22209</th>\n",
       "      <td>didn’t insult you insult me</td>\n",
       "      <td>0</td>\n",
       "      <td>didn ’ t insult you insult me</td>\n",
       "      <td>0.06474433,-0.17082486,-0.029483724,0.04382453...</td>\n",
       "    </tr>\n",
       "    <tr>\n",
       "      <th>22210</th>\n",
       "      <td>living lie</td>\n",
       "      <td>0</td>\n",
       "      <td>live lie</td>\n",
       "      <td>-0.11396426,0.04755594,-0.07264759,0.08606285,...</td>\n",
       "    </tr>\n",
       "  </tbody>\n",
       "</table>\n",
       "<p>22211 rows × 4 columns</p>\n",
       "</div>"
      ],
      "text/plain": [
       "                                                 comment  hate_speech  \\\n",
       "0      subsection retarded hungarians ohh boy brace l...            1   \n",
       "1      hiii just got work Foundation and grounding ma...            0   \n",
       "2                        wow guess soyboys every country            0   \n",
       "3      owen benjamins soyboy song goes every country ...            0   \n",
       "4       yall hear sumn means live small town rn for w...            0   \n",
       "...                                                  ...          ...   \n",
       "22206          op stop faggot post videos next time hard            1   \n",
       "22207  minute long video top hate champagne goes need...            0   \n",
       "22208  clue whos ecelebs are point time  need get alo...            1   \n",
       "22209                        didn’t insult you insult me            0   \n",
       "22210                                         living lie            0   \n",
       "\n",
       "                                      lemmatized_comment  \\\n",
       "0      subsection retard hungarians ohh boy brace liv...   \n",
       "1      hiii just get work Foundation and ground mainl...   \n",
       "2                        wow guess soyboys every country   \n",
       "3      owen benjamins soyboy song go every country amaze   \n",
       "4      yall hear sumn mean live small town rn for wor...   \n",
       "...                                                  ...   \n",
       "22206          op stop faggot post videos next time hard   \n",
       "22207  minute long video top hate champagne go need g...   \n",
       "22208  clue whos ecelebs be point time need get along...   \n",
       "22209                      didn ’ t insult you insult me   \n",
       "22210                                           live lie   \n",
       "\n",
       "                                    document_vector_flat  \n",
       "0      0.014043219,-0.01809359,0.017145459,0.08062436...  \n",
       "1      -0.0030388932,-0.035133556,0.020659983,0.07383...  \n",
       "2      0.017362628,0.005587179,0.0297773,0.109146975,...  \n",
       "3      0.018085241,0.0011954829,2.8959475e-05,0.07601...  \n",
       "4      0.023993038,-0.00060867134,0.005239945,0.05989...  \n",
       "...                                                  ...  \n",
       "22206  0.08339707,-0.017676119,-0.036872935,0.1038081...  \n",
       "22207  0.009342635,0.02728245,-0.0013451587,0.0765217...  \n",
       "22208  -0.0006810841,0.008315975,0.029024707,0.077029...  \n",
       "22209  0.06474433,-0.17082486,-0.029483724,0.04382453...  \n",
       "22210  -0.11396426,0.04755594,-0.07264759,0.08606285,...  \n",
       "\n",
       "[22211 rows x 4 columns]"
      ]
     },
     "execution_count": 3,
     "metadata": {},
     "output_type": "execute_result"
    }
   ],
   "source": [
    "df=pd.read_csv('Reddit_Encoded.csv')\n",
    "df"
   ]
  },
  {
   "cell_type": "code",
   "execution_count": 4,
   "id": "37530854-9973-44ab-a3bf-ee39a1f8baab",
   "metadata": {},
   "outputs": [],
   "source": [
    "df['fasttext_vector'] = df['document_vector_flat'].apply(lambda x: np.fromstring(x.strip('[]'), sep=','))\n",
    "X = np.vstack(df['fasttext_vector'].values)\n",
    "y=df['hate_speech']"
   ]
  },
  {
   "cell_type": "code",
   "execution_count": 5,
   "id": "015ad658-a266-47fa-916b-372841096084",
   "metadata": {},
   "outputs": [],
   "source": [
    "from sklearn.model_selection import train_test_split\n",
    "X_train,X_test,y_train,y_test=train_test_split(X,y,test_size=0.2,random_state=42,stratify=y)"
   ]
  },
  {
   "cell_type": "markdown",
   "id": "430fae49-53e4-4179-8f70-5a280db58f27",
   "metadata": {},
   "source": [
    "### Applying SMOTE"
   ]
  },
  {
   "cell_type": "code",
   "execution_count": 6,
   "id": "7280cd0e-c020-4c56-9a8c-e869c35e20a5",
   "metadata": {},
   "outputs": [
    {
     "data": {
      "text/plain": [
       "0    13539\n",
       "1    13539\n",
       "Name: hate_speech, dtype: int64"
      ]
     },
     "execution_count": 6,
     "metadata": {},
     "output_type": "execute_result"
    }
   ],
   "source": [
    "from imblearn.over_sampling import SMOTE\n",
    "\n",
    "smote = SMOTE(sampling_strategy='minority',random_state=42)\n",
    "X_sm, y_sm = smote.fit_resample(X_train,y_train)\n",
    "y_sm.value_counts()"
   ]
  },
  {
   "cell_type": "markdown",
   "id": "d54b4477-dc05-4715-b9f8-a35c75bc692e",
   "metadata": {},
   "source": [
    "### Time to train and compare our models!!"
   ]
  },
  {
   "cell_type": "code",
   "execution_count": 7,
   "id": "68a5db14-af32-4248-b27c-0de4711a2cf9",
   "metadata": {},
   "outputs": [],
   "source": [
    "from sklearn.ensemble import RandomForestClassifier, GradientBoostingClassifier, VotingClassifier, AdaBoostClassifier\n",
    "from sklearn.linear_model import LogisticRegression\n",
    "from sklearn.tree import DecisionTreeClassifier\n",
    "from sklearn.neighbors import KNeighborsClassifier\n",
    "from sklearn.neural_network import MLPClassifier\n",
    "from sklearn.model_selection import cross_val_score\n",
    "from sklearn.naive_bayes import GaussianNB, MultinomialNB\n",
    "from sklearn.svm import LinearSVC\n",
    "from sklearn.metrics import classification_report,confusion_matrix\n",
    "from sklearn.metrics import accuracy_score,precision_score,recall_score,f1_score"
   ]
  },
  {
   "cell_type": "markdown",
   "id": "513c85d8-1f29-4dc9-83e4-8aceb480ec2e",
   "metadata": {},
   "source": [
    "### 1 . Logistic Regression¶"
   ]
  },
  {
   "cell_type": "markdown",
   "id": "03c10039-0bbd-45cf-92e6-581f84dab867",
   "metadata": {},
   "source": [
    "Logistic Regression is one of the oldest and most basic algorithms to solve a classification problem:"
   ]
  },
  {
   "cell_type": "code",
   "execution_count": 8,
   "id": "91fd344d-d5b8-461a-a15e-abef423498f3",
   "metadata": {},
   "outputs": [
    {
     "name": "stdout",
     "output_type": "stream",
     "text": [
      "0.7431490640637495 0.016369678616386024\n"
     ]
    }
   ],
   "source": [
    "lr = LogisticRegression(max_iter=500)\n",
    "scores_lr = cross_val_score(lr,X_sm,y_sm,cv=8)\n",
    "print(scores_lr.mean(), scores_lr.std())"
   ]
  },
  {
   "cell_type": "code",
   "execution_count": 9,
   "id": "b9c8a250-6cd3-4850-b8d5-ff328113f769",
   "metadata": {},
   "outputs": [],
   "source": [
    "lr.fit(X_sm,y_sm)\n",
    "y_pred_lr=lr.predict(X_test)"
   ]
  },
  {
   "cell_type": "code",
   "execution_count": 10,
   "id": "f0dfabad-9b4c-4bbd-a631-f6e95f015cba",
   "metadata": {
    "scrolled": true
   },
   "outputs": [
    {
     "name": "stdout",
     "output_type": "stream",
     "text": [
      "Logistic Regression Performancbe:\n",
      "Confusion Matrix:\n",
      " [[2799  587]\n",
      " [ 293  764]]\n",
      "              precision    recall  f1-score   support\n",
      "\n",
      "           0       0.91      0.83      0.86      3386\n",
      "           1       0.57      0.72      0.63      1057\n",
      "\n",
      "    accuracy                           0.80      4443\n",
      "   macro avg       0.74      0.77      0.75      4443\n",
      "weighted avg       0.82      0.80      0.81      4443\n",
      "\n"
     ]
    }
   ],
   "source": [
    "print(\"Logistic Regression Performancbe:\")\n",
    "print(\"Confusion Matrix:\\n\", confusion_matrix(y_test, y_pred_lr))\n",
    "print(classification_report(y_test, y_pred_lr))"
   ]
  },
  {
   "cell_type": "code",
   "execution_count": 54,
   "id": "354ab1d3-bc26-4fe1-9eb4-2261c619da55",
   "metadata": {},
   "outputs": [
    {
     "name": "stdout",
     "output_type": "stream",
     "text": [
      "Accuracy:0.84\n",
      "precision:0.69\n",
      "recall:0.61\n",
      "f1-score:0.65\n"
     ]
    }
   ],
   "source": [
    "accuracy_lr=accuracy_score(y_test,y_pred_lr)\n",
    "precision_lr=precision_score(y_test,y_pred_lr)\n",
    "recall_lr=recall_score(y_test,y_pred_lr)\n",
    "f1_lr=f1_score(y_test,y_pred_lr)\n",
    "print(f\"Accuracy:{accuracy:.2f}\")\n",
    "print(f\"precision:{precision:.2f}\")\n",
    "print(f\"recall:{recall:.2f}\")\n",
    "print(f\"f1-score:{f1:.2f}\")"
   ]
  },
  {
   "cell_type": "markdown",
   "id": "9d2c2dfb-a9c1-4ba3-ba6e-2a3459298122",
   "metadata": {},
   "source": [
    "### 2 .Naive Bayes"
   ]
  },
  {
   "cell_type": "markdown",
   "id": "f4d2aae6-2435-4ca5-92e4-020c53ac98c8",
   "metadata": {},
   "source": [
    "The Naive Bayes method is a supervised learning algorithm based on applying Bayes’ theorem with the “naive” assumption of conditional independence between every pair of features given the value of the class variable."
   ]
  },
  {
   "cell_type": "code",
   "execution_count": 12,
   "id": "d72de41d-3a75-46fa-a5f4-2ea27223e3af",
   "metadata": {},
   "outputs": [
    {
     "name": "stdout",
     "output_type": "stream",
     "text": [
      "0.4961486820776676 0.016438903904379486\n"
     ]
    }
   ],
   "source": [
    "nb = GaussianNB()\n",
    "scores_nb = cross_val_score(nb, X, y, cv = 8)\n",
    "print(scores_nb.mean(), scores_nb.std())"
   ]
  },
  {
   "cell_type": "code",
   "execution_count": 13,
   "id": "c833cf5e-6c6e-4ab5-ae94-74958ee9446a",
   "metadata": {},
   "outputs": [],
   "source": [
    "nb.fit(X_sm,y_sm)\n",
    "y_pred_nb=nb.predict(X_test)"
   ]
  },
  {
   "cell_type": "code",
   "execution_count": 14,
   "id": "94501aa9-95ba-438c-8ac3-d7f75a9479c1",
   "metadata": {},
   "outputs": [
    {
     "name": "stdout",
     "output_type": "stream",
     "text": [
      "Naive Bayes Performance:\n",
      "Confusion Matrix:\n",
      " [[1215 2171]\n",
      " [ 233  824]]\n",
      "              precision    recall  f1-score   support\n",
      "\n",
      "           0       0.84      0.36      0.50      3386\n",
      "           1       0.28      0.78      0.41      1057\n",
      "\n",
      "    accuracy                           0.46      4443\n",
      "   macro avg       0.56      0.57      0.45      4443\n",
      "weighted avg       0.70      0.46      0.48      4443\n",
      "\n"
     ]
    }
   ],
   "source": [
    "print(\"Naive Bayes Performance:\")\n",
    "print(\"Confusion Matrix:\\n\", confusion_matrix(y_test, y_pred_nb))\n",
    "print(classification_report(y_test, y_pred_nb))"
   ]
  },
  {
   "cell_type": "code",
   "execution_count": 55,
   "id": "1d15121e-23b6-4b24-b8ee-d98271cf68ae",
   "metadata": {},
   "outputs": [
    {
     "name": "stdout",
     "output_type": "stream",
     "text": [
      "Accuracy:0.84\n",
      "precision:0.69\n",
      "recall:0.61\n",
      "f1:0.65\n"
     ]
    }
   ],
   "source": [
    "accuracy_nb=accuracy_score(y_test,y_pred_nb)\n",
    "precision_nb=precision_score(y_test,y_pred_nb)\n",
    "recall_nb=recall_score(y_test,y_pred_nb)\n",
    "f1_nb=f1_score(y_test,y_pred_nb)\n",
    "print(f\"Accuracy:{accuracy:.2f}\")\n",
    "print(f\"precision:{precision:.2f}\")\n",
    "print(f\"recall:{recall:.2f}\")\n",
    "print(f\"f1:{f1:.2f}\")"
   ]
  },
  {
   "cell_type": "markdown",
   "id": "0dd6db17-4cf9-49f2-b672-197e91363c90",
   "metadata": {},
   "source": [
    "### 3 . KNN"
   ]
  },
  {
   "cell_type": "markdown",
   "id": "876e6fe9-25eb-4734-9197-e51c775368e7",
   "metadata": {},
   "source": [
    "The k-nearest neighbors (KNN) algorithm is a supervised machine learning algorithm that can be used to solve both classification and regression problems. For KNN, it is known that it does not work so well with large datasets (high sample size) and in with many features (high dimensions) in particular."
   ]
  },
  {
   "cell_type": "code",
   "execution_count": 16,
   "id": "693f0260-3d65-4cc7-9401-f6320cc48486",
   "metadata": {},
   "outputs": [
    {
     "name": "stdout",
     "output_type": "stream",
     "text": [
      "0.7515642366173768 0.010419572435279616\n"
     ]
    }
   ],
   "source": [
    "knn = KNeighborsClassifier()\n",
    "scores_knn = cross_val_score(knn, X, y, cv = 8)\n",
    "print(scores_knn.mean(), scores_knn.std())"
   ]
  },
  {
   "cell_type": "code",
   "execution_count": 17,
   "id": "c4cb4750-cb0e-4d22-9700-828b3635533b",
   "metadata": {},
   "outputs": [],
   "source": [
    "knn.fit(X_sm,y_sm)\n",
    "y_pred_knn=knn.predict(X_test)"
   ]
  },
  {
   "cell_type": "code",
   "execution_count": 18,
   "id": "e2115d94-ae0a-405c-8886-3bae42f25434",
   "metadata": {
    "scrolled": true
   },
   "outputs": [
    {
     "name": "stdout",
     "output_type": "stream",
     "text": [
      "Knn Performance:\n",
      "Confusion Matrix:\n",
      " [[1143 2243]\n",
      " [ 103  954]]\n",
      "              precision    recall  f1-score   support\n",
      "\n",
      "           0       0.92      0.34      0.49      3386\n",
      "           1       0.30      0.90      0.45      1057\n",
      "\n",
      "    accuracy                           0.47      4443\n",
      "   macro avg       0.61      0.62      0.47      4443\n",
      "weighted avg       0.77      0.47      0.48      4443\n",
      "\n"
     ]
    }
   ],
   "source": [
    "print(\"Knn Performance:\")\n",
    "print(\"Confusion Matrix:\\n\", confusion_matrix(y_test, y_pred_knn))\n",
    "print(classification_report(y_test, y_pred_knn))"
   ]
  },
  {
   "cell_type": "code",
   "execution_count": 56,
   "id": "6cb434f1-ab24-4b66-8875-5791318b91c1",
   "metadata": {},
   "outputs": [
    {
     "name": "stdout",
     "output_type": "stream",
     "text": [
      "Accuracy:0.84\n",
      "precision:0.69\n",
      "recall:0.61\n",
      "f1:0.65\n"
     ]
    }
   ],
   "source": [
    "accuracy_knn=accuracy_score(y_test,y_pred_knn)\n",
    "precision_knn=precision_score(y_test,y_pred_knn)\n",
    "recall_knn=recall_score(y_test,y_pred_knn)\n",
    "f1_knn=f1_score(y_test,y_pred_knn)\n",
    "print(f\"Accuracy:{accuracy:.2f}\")\n",
    "print(f\"precision:{precision:.2f}\")\n",
    "print(f\"recall:{recall:.2f}\")\n",
    "print(f\"f1:{f1:.2f}\")"
   ]
  },
  {
   "cell_type": "markdown",
   "id": "a23601ef-3de8-4ee6-b28c-ec3ea60134a4",
   "metadata": {},
   "source": [
    "### 4 . Random Forest"
   ]
  },
  {
   "cell_type": "markdown",
   "id": "125bf878-929c-44b3-a42b-40640e96db20",
   "metadata": {},
   "source": [
    "The Random Forest Algorithm is another frequently used ensemble learning classifier which uses multiple decision trees. The Random Forest classifier is basically a modified bagging algorithm of a Decision Tree that selects the subsets differently."
   ]
  },
  {
   "cell_type": "code",
   "execution_count": 45,
   "id": "2f3a91ae-3899-44d4-9f40-2c81ca5a47db",
   "metadata": {},
   "outputs": [
    {
     "name": "stdout",
     "output_type": "stream",
     "text": [
      "0.8629514735209395 0.03302211397043384\n"
     ]
    }
   ],
   "source": [
    "rand = RandomForestClassifier(n_estimators=300, max_depth=10)\n",
    "scores_rand = cross_val_score(rand, X_sm,y_sm, cv = 6)\n",
    "print(scores_rand.mean(), scores_rand.std())"
   ]
  },
  {
   "cell_type": "code",
   "execution_count": 58,
   "id": "10a4d731-e29e-4af9-9791-73f3401d13ff",
   "metadata": {},
   "outputs": [],
   "source": [
    "rand.fit(X_sm,y_sm)\n",
    "y_pred_rand=rand.predict(X_test)"
   ]
  },
  {
   "cell_type": "code",
   "execution_count": 59,
   "id": "035c6784-d3fe-400f-a86a-5d928bffd776",
   "metadata": {},
   "outputs": [
    {
     "name": "stdout",
     "output_type": "stream",
     "text": [
      "Random Forest Performance:\n",
      "Confusion Matrix:\n",
      " [[2835  551]\n",
      " [ 362  695]]\n",
      "              precision    recall  f1-score   support\n",
      "\n",
      "           0       0.89      0.84      0.86      3386\n",
      "           1       0.56      0.66      0.60      1057\n",
      "\n",
      "    accuracy                           0.79      4443\n",
      "   macro avg       0.72      0.75      0.73      4443\n",
      "weighted avg       0.81      0.79      0.80      4443\n",
      "\n"
     ]
    }
   ],
   "source": [
    "print(\"Random Forest Performance:\")\n",
    "print(\"Confusion Matrix:\\n\", confusion_matrix(y_test, y_pred_rand))\n",
    "print(classification_report(y_test, y_pred_rand))"
   ]
  },
  {
   "cell_type": "code",
   "execution_count": 60,
   "id": "929c2a71-8fc2-4cfd-b833-18069657117a",
   "metadata": {},
   "outputs": [
    {
     "name": "stdout",
     "output_type": "stream",
     "text": [
      "Accuracy:0.84\n",
      "precision:0.69\n",
      "recall:0.61\n",
      "f1:0.65\n"
     ]
    }
   ],
   "source": [
    "accuracy_rand=accuracy_score(y_test,y_pred_rand)\n",
    "precision_rand=precision_score(y_test,y_pred_rand)\n",
    "recall_rand=recall_score(y_test,y_pred_rand)\n",
    "f1_rand=f1_score(y_test,y_pred_rand)\n",
    "print(f\"Accuracy:{accuracy:.2f}\")\n",
    "print(f\"precision:{precision:.2f}\")\n",
    "print(f\"recall:{recall:.2f}\")\n",
    "print(f\"f1:{f1:.2f}\")"
   ]
  },
  {
   "cell_type": "markdown",
   "id": "5e05464d-eaeb-4782-836e-ea1f3ca02d2c",
   "metadata": {},
   "source": [
    "### 5.Decision Tree"
   ]
  },
  {
   "cell_type": "markdown",
   "id": "0241e1bc-625b-432e-8b3c-e240b28eeda2",
   "metadata": {},
   "source": [
    "A Decision Tree is a non-parametric supervised learning method used for classification and regression. The goal is to create a model that predicts the value of a target variable by learning simple decision rules (if-else) inferred from the data features."
   ]
  },
  {
   "cell_type": "code",
   "execution_count": 20,
   "id": "3703313a-861e-4ac0-8898-4899bd123247",
   "metadata": {},
   "outputs": [
    {
     "name": "stdout",
     "output_type": "stream",
     "text": [
      "0.7821847994682031 0.0290241534104655\n"
     ]
    }
   ],
   "source": [
    "tr = DecisionTreeClassifier()\n",
    "scores_tr = cross_val_score(tr, X_sm, y_sm, cv = 6)\n",
    "print(scores_tr.mean(), scores_tr.std())"
   ]
  },
  {
   "cell_type": "code",
   "execution_count": 21,
   "id": "e956463f-9e2b-4d4c-84d7-99ff36466979",
   "metadata": {},
   "outputs": [],
   "source": [
    "tr.fit(X_sm,y_sm)\n",
    "y_pred_tr=tr.predict(X_test)"
   ]
  },
  {
   "cell_type": "code",
   "execution_count": 39,
   "id": "d7f8ba40-39cf-4bd8-946b-6d50a8fed7c3",
   "metadata": {},
   "outputs": [
    {
     "name": "stdout",
     "output_type": "stream",
     "text": [
      "Decision Tree Performance:\n",
      "Confusion Matrix:\n",
      " [[2574  812]\n",
      " [ 496  561]]\n",
      "              precision    recall  f1-score   support\n",
      "\n",
      "           0       0.84      0.76      0.80      3386\n",
      "           1       0.41      0.53      0.46      1057\n",
      "\n",
      "    accuracy                           0.71      4443\n",
      "   macro avg       0.62      0.65      0.63      4443\n",
      "weighted avg       0.74      0.71      0.72      4443\n",
      "\n"
     ]
    }
   ],
   "source": [
    "print(\"Decision Tree Performance:\")\n",
    "print(\"Confusion Matrix:\\n\", confusion_matrix(y_test, y_pred_tr))\n",
    "print(classification_report(y_test, y_pred_tr))"
   ]
  },
  {
   "cell_type": "code",
   "execution_count": 61,
   "id": "09ff5cd5-c336-4165-a556-aff7e50ea94d",
   "metadata": {},
   "outputs": [
    {
     "name": "stdout",
     "output_type": "stream",
     "text": [
      "Accuracy:0.84\n",
      "precision:0.69\n",
      "recall:0.61\n",
      "f1:0.65\n"
     ]
    }
   ],
   "source": [
    "accuracy_tr=accuracy_score(y_test,y_pred_tr)\n",
    "precision_tr=precision_score(y_test,y_pred_tr)\n",
    "recall_tr=recall_score(y_test,y_pred_tr)\n",
    "f1_tr=f1_score(y_test,y_pred_tr)\n",
    "print(f\"Accuracy:{accuracy:.2f}\")\n",
    "print(f\"precision:{precision:.2f}\")\n",
    "print(f\"recall:{recall:.2f}\")\n",
    "print(f\"f1:{f1:.2f}\")"
   ]
  },
  {
   "cell_type": "markdown",
   "id": "1a39ca0d-88b2-435e-ba40-45f48cc29695",
   "metadata": {},
   "source": [
    "### 6.Neural Network"
   ]
  },
  {
   "cell_type": "markdown",
   "id": "b0e5af59-08c2-4d34-8257-eed6ca38f899",
   "metadata": {},
   "source": [
    "Deep learning uses an artificial neural network that uses multiple layers to progressively extract higher level features from the training data. We are using a simple three-layer network without any optimisation, except the usage of a small validation dataset. Here we are using Keras instead of Sklearn."
   ]
  },
  {
   "cell_type": "code",
   "execution_count": 33,
   "id": "45c5d140-da30-4eef-ac58-0d644d4f826a",
   "metadata": {
    "scrolled": true
   },
   "outputs": [],
   "source": [
    "mlp = MLPClassifier(max_iter=300)"
   ]
  },
  {
   "cell_type": "code",
   "execution_count": 37,
   "id": "68dabd08-7b5c-45e5-a882-30cedd7d9e07",
   "metadata": {},
   "outputs": [
    {
     "name": "stderr",
     "output_type": "stream",
     "text": [
      "C:\\Users\\moham\\anaconda3\\Lib\\site-packages\\sklearn\\neural_network\\_multilayer_perceptron.py:686: ConvergenceWarning: Stochastic Optimizer: Maximum iterations (300) reached and the optimization hasn't converged yet.\n",
      "  warnings.warn(\n",
      "C:\\Users\\moham\\anaconda3\\Lib\\site-packages\\sklearn\\neural_network\\_multilayer_perceptron.py:686: ConvergenceWarning: Stochastic Optimizer: Maximum iterations (300) reached and the optimization hasn't converged yet.\n",
      "  warnings.warn(\n",
      "C:\\Users\\moham\\anaconda3\\Lib\\site-packages\\sklearn\\neural_network\\_multilayer_perceptron.py:686: ConvergenceWarning: Stochastic Optimizer: Maximum iterations (300) reached and the optimization hasn't converged yet.\n",
      "  warnings.warn(\n",
      "C:\\Users\\moham\\anaconda3\\Lib\\site-packages\\sklearn\\neural_network\\_multilayer_perceptron.py:686: ConvergenceWarning: Stochastic Optimizer: Maximum iterations (300) reached and the optimization hasn't converged yet.\n",
      "  warnings.warn(\n",
      "C:\\Users\\moham\\anaconda3\\Lib\\site-packages\\sklearn\\neural_network\\_multilayer_perceptron.py:686: ConvergenceWarning: Stochastic Optimizer: Maximum iterations (300) reached and the optimization hasn't converged yet.\n",
      "  warnings.warn(\n",
      "C:\\Users\\moham\\anaconda3\\Lib\\site-packages\\sklearn\\neural_network\\_multilayer_perceptron.py:686: ConvergenceWarning: Stochastic Optimizer: Maximum iterations (300) reached and the optimization hasn't converged yet.\n",
      "  warnings.warn(\n",
      "C:\\Users\\moham\\anaconda3\\Lib\\site-packages\\sklearn\\neural_network\\_multilayer_perceptron.py:686: ConvergenceWarning: Stochastic Optimizer: Maximum iterations (300) reached and the optimization hasn't converged yet.\n",
      "  warnings.warn(\n"
     ]
    },
    {
     "name": "stdout",
     "output_type": "stream",
     "text": [
      "0.9192721482796791 0.03730946831838785\n"
     ]
    },
    {
     "name": "stderr",
     "output_type": "stream",
     "text": [
      "C:\\Users\\moham\\anaconda3\\Lib\\site-packages\\sklearn\\neural_network\\_multilayer_perceptron.py:686: ConvergenceWarning: Stochastic Optimizer: Maximum iterations (300) reached and the optimization hasn't converged yet.\n",
      "  warnings.warn(\n"
     ]
    }
   ],
   "source": [
    "scores_mlp = cross_val_score(mlp, X_sm, y_sm, cv = 8)\n",
    "print(scores_mlp.mean(), scores_mlp.std())"
   ]
  },
  {
   "cell_type": "code",
   "execution_count": 34,
   "id": "b746ab1d-ff00-42d1-afdd-f802ddba2ba3",
   "metadata": {
    "scrolled": true
   },
   "outputs": [
    {
     "name": "stderr",
     "output_type": "stream",
     "text": [
      "C:\\Users\\moham\\anaconda3\\Lib\\site-packages\\sklearn\\neural_network\\_multilayer_perceptron.py:686: ConvergenceWarning: Stochastic Optimizer: Maximum iterations (300) reached and the optimization hasn't converged yet.\n",
      "  warnings.warn(\n"
     ]
    }
   ],
   "source": [
    "mlp.fit(X_sm,y_sm)\n",
    "y_pred_mlp=mlp.predict(X_test)"
   ]
  },
  {
   "cell_type": "code",
   "execution_count": 40,
   "id": "4ac1b824-32cc-45b2-9532-124120990ed5",
   "metadata": {
    "scrolled": true
   },
   "outputs": [
    {
     "name": "stdout",
     "output_type": "stream",
     "text": [
      "Neural network Performance:\n",
      "Confusion Matrix:\n",
      " [[3051  335]\n",
      " [ 354  703]]\n",
      "              precision    recall  f1-score   support\n",
      "\n",
      "           0       0.90      0.90      0.90      3386\n",
      "           1       0.68      0.67      0.67      1057\n",
      "\n",
      "    accuracy                           0.84      4443\n",
      "   macro avg       0.79      0.78      0.78      4443\n",
      "weighted avg       0.84      0.84      0.84      4443\n",
      "\n"
     ]
    }
   ],
   "source": [
    "print(\"Neural network Performance:\")\n",
    "print(\"Confusion Matrix:\\n\", confusion_matrix(y_test, y_pred_mlp))\n",
    "print(classification_report(y_test, y_pred_mlp))"
   ]
  },
  {
   "cell_type": "code",
   "execution_count": 62,
   "id": "4528b0dc-5d82-4dd2-8ff5-0de74327919b",
   "metadata": {},
   "outputs": [
    {
     "name": "stdout",
     "output_type": "stream",
     "text": [
      "Accuracy:0.84\n",
      "precision:0.69\n",
      "recall:0.61\n",
      "f1:0.65\n"
     ]
    }
   ],
   "source": [
    "accuracy_mlp=accuracy_score(y_test,y_pred_mlp)\n",
    "precision_mlp=precision_score(y_test,y_pred_mlp)\n",
    "recall_mlp=recall_score(y_test,y_pred_mlp)\n",
    "f1_mlp=f1_score(y_test,y_pred_mlp)\n",
    "print(f\"Accuracy:{accuracy:.2f}\")\n",
    "print(f\"precision:{precision:.2f}\")\n",
    "print(f\"recall:{recall:.2f}\")\n",
    "print(f\"f1:{f1:.2f}\")"
   ]
  },
  {
   "cell_type": "markdown",
   "id": "a55a27c8-d971-4b6d-8f9d-ef0f55536470",
   "metadata": {},
   "source": [
    "### 7 .Support Vector Machine - SVM"
   ]
  },
  {
   "cell_type": "markdown",
   "id": "c964b8e4-49b7-4dd0-a886-4aaa8527163e",
   "metadata": {},
   "source": [
    "The Support Vector Machine is a simple algorithm for classification and regression tasks. It can provide high accuracy with less computation power very fast. Due to the large number of features, we are using the LinearSVC. It turned out that setting the regularisation parameter C=0.0001 improves the quality of the prediction and reduces overfitting."
   ]
  },
  {
   "cell_type": "code",
   "execution_count": 25,
   "id": "adaab577-40a0-45fc-b97b-dcd001f08e83",
   "metadata": {},
   "outputs": [
    {
     "name": "stdout",
     "output_type": "stream",
     "text": [
      "0.6734608362054817 0.020286463934128075\n"
     ]
    }
   ],
   "source": [
    "sv = LinearSVC(C=0.0001)\n",
    "scores_sv = cross_val_score(sv, X_sm, y_sm, cv = 8)\n",
    "print(scores_sv.mean(), scores_sv.std())"
   ]
  },
  {
   "cell_type": "code",
   "execution_count": 26,
   "id": "875e2527-28b0-46ff-bdd2-bec98f8ac142",
   "metadata": {},
   "outputs": [],
   "source": [
    "sv.fit(X_sm,y_sm)\n",
    "y_pred_sv=sv.predict(X_test)"
   ]
  },
  {
   "cell_type": "code",
   "execution_count": 27,
   "id": "50b83ebb-f3ce-4a2d-90c2-0f8928c47b20",
   "metadata": {
    "scrolled": true
   },
   "outputs": [
    {
     "name": "stdout",
     "output_type": "stream",
     "text": [
      "Support Vector Machine Performance:\n",
      "Confusion Matrix:\n",
      " [[2672  714]\n",
      " [ 420  637]]\n",
      "              precision    recall  f1-score   support\n",
      "\n",
      "           0       0.86      0.79      0.82      3386\n",
      "           1       0.47      0.60      0.53      1057\n",
      "\n",
      "    accuracy                           0.74      4443\n",
      "   macro avg       0.67      0.70      0.68      4443\n",
      "weighted avg       0.77      0.74      0.75      4443\n",
      "\n"
     ]
    }
   ],
   "source": [
    "print(\"Support Vector Machine Performance:\")\n",
    "print(\"Confusion Matrix:\\n\", confusion_matrix(y_test, y_pred_sv))\n",
    "print(classification_report(y_test, y_pred_sv))"
   ]
  },
  {
   "cell_type": "code",
   "execution_count": 63,
   "id": "c8bb22e5-a114-450c-9255-acfe6ca223ee",
   "metadata": {
    "scrolled": true
   },
   "outputs": [
    {
     "name": "stdout",
     "output_type": "stream",
     "text": [
      "Accuracy:0.84\n",
      "precision:0.69\n",
      "recall:0.61\n",
      "f1:0.65\n"
     ]
    }
   ],
   "source": [
    "accuracy_sv=accuracy_score(y_test,y_pred_sv)\n",
    "precision_sv=precision_score(y_test,y_pred_sv)\n",
    "recall_sv=recall_score(y_test,y_pred_sv)\n",
    "f1_sv=f1_score(y_test,y_pred_sv)\n",
    "print(f\"Accuracy:{accuracy:.2f}\")\n",
    "print(f\"precision:{precision:.2f}\")\n",
    "print(f\"recall:{recall:.2f}\")\n",
    "print(f\"f1:{f1:.2f}\")"
   ]
  },
  {
   "cell_type": "markdown",
   "id": "5fd74a97-fb05-43fc-b6ed-b7858b149bea",
   "metadata": {},
   "source": [
    "### 8 .Voting"
   ]
  },
  {
   "cell_type": "markdown",
   "id": "cc368faf-45fb-46f1-ab70-36576c1e1da2",
   "metadata": {},
   "source": [
    "This classifier from the ensemble learning toolbox evaluates different classifiers and selects the best out of it.\n",
    "\n",
    "The idea behind the VotingClassifier is to combine conceptually different machine learning classifiers and use a majority vote or the average predicted probabilities to predict the class labels. Such a classifier can be useful for a set of equally well performing models in order to balance out their individual weaknesses.\n",
    "\n",
    "So let’s use this classifier to combine some of the models we had so far and apply the Voting Classifier on:\n",
    "\n",
    "- Gradient Boossting\n",
    "- Random forest\n",
    "- Logistique Regression\n",
    "- Decision Tree"
   ]
  },
  {
   "cell_type": "code",
   "execution_count": 46,
   "id": "50946c3d-dc57-4453-a877-624c036c0e04",
   "metadata": {
    "scrolled": true
   },
   "outputs": [
    {
     "name": "stderr",
     "output_type": "stream",
     "text": [
      "C:\\Users\\moham\\anaconda3\\Lib\\site-packages\\sklearn\\neural_network\\_multilayer_perceptron.py:686: ConvergenceWarning: Stochastic Optimizer: Maximum iterations (300) reached and the optimization hasn't converged yet.\n",
      "  warnings.warn(\n",
      "C:\\Users\\moham\\anaconda3\\Lib\\site-packages\\sklearn\\neural_network\\_multilayer_perceptron.py:686: ConvergenceWarning: Stochastic Optimizer: Maximum iterations (300) reached and the optimization hasn't converged yet.\n",
      "  warnings.warn(\n",
      "C:\\Users\\moham\\anaconda3\\Lib\\site-packages\\sklearn\\neural_network\\_multilayer_perceptron.py:686: ConvergenceWarning: Stochastic Optimizer: Maximum iterations (300) reached and the optimization hasn't converged yet.\n",
      "  warnings.warn(\n",
      "C:\\Users\\moham\\anaconda3\\Lib\\site-packages\\sklearn\\neural_network\\_multilayer_perceptron.py:686: ConvergenceWarning: Stochastic Optimizer: Maximum iterations (300) reached and the optimization hasn't converged yet.\n",
      "  warnings.warn(\n",
      "C:\\Users\\moham\\anaconda3\\Lib\\site-packages\\sklearn\\neural_network\\_multilayer_perceptron.py:686: ConvergenceWarning: Stochastic Optimizer: Maximum iterations (300) reached and the optimization hasn't converged yet.\n",
      "  warnings.warn(\n",
      "C:\\Users\\moham\\anaconda3\\Lib\\site-packages\\sklearn\\neural_network\\_multilayer_perceptron.py:686: ConvergenceWarning: Stochastic Optimizer: Maximum iterations (300) reached and the optimization hasn't converged yet.\n",
      "  warnings.warn(\n",
      "C:\\Users\\moham\\anaconda3\\Lib\\site-packages\\sklearn\\neural_network\\_multilayer_perceptron.py:686: ConvergenceWarning: Stochastic Optimizer: Maximum iterations (300) reached and the optimization hasn't converged yet.\n",
      "  warnings.warn(\n",
      "C:\\Users\\moham\\anaconda3\\Lib\\site-packages\\sklearn\\neural_network\\_multilayer_perceptron.py:686: ConvergenceWarning: Stochastic Optimizer: Maximum iterations (300) reached and the optimization hasn't converged yet.\n",
      "  warnings.warn(\n"
     ]
    },
    {
     "name": "stdout",
     "output_type": "stream",
     "text": [
      "0.7897183199416142 0.00788567054812239\n"
     ]
    }
   ],
   "source": [
    "evc=VotingClassifier(estimators=[('sv',sv),('lr',lr),('mlp',mlp),('rand',rand)],voting='hard')\n",
    "scores_evc = cross_val_score(evc, X_sm, y_sm, cv = 8)\n",
    "print(scores_evc.mean(), scores_evc.std())"
   ]
  },
  {
   "cell_type": "code",
   "execution_count": 47,
   "id": "feae6782-05ac-4472-94a6-664dc3d5dc54",
   "metadata": {},
   "outputs": [
    {
     "name": "stderr",
     "output_type": "stream",
     "text": [
      "C:\\Users\\moham\\anaconda3\\Lib\\site-packages\\sklearn\\neural_network\\_multilayer_perceptron.py:686: ConvergenceWarning: Stochastic Optimizer: Maximum iterations (300) reached and the optimization hasn't converged yet.\n",
      "  warnings.warn(\n"
     ]
    }
   ],
   "source": [
    "evc.fit(X_sm,y_sm)\n",
    "y_pred_evc=evc.predict(X_test)"
   ]
  },
  {
   "cell_type": "code",
   "execution_count": 48,
   "id": "dd86925f-ac79-4cf2-8c2d-e99f771a53d1",
   "metadata": {
    "scrolled": true
   },
   "outputs": [
    {
     "name": "stdout",
     "output_type": "stream",
     "text": [
      "voting classifier Performance:\n",
      "Confusion Matrix:\n",
      " [[3102  284]\n",
      " [ 417  640]]\n",
      "              precision    recall  f1-score   support\n",
      "\n",
      "           0       0.88      0.92      0.90      3386\n",
      "           1       0.69      0.61      0.65      1057\n",
      "\n",
      "    accuracy                           0.84      4443\n",
      "   macro avg       0.79      0.76      0.77      4443\n",
      "weighted avg       0.84      0.84      0.84      4443\n",
      "\n"
     ]
    }
   ],
   "source": [
    "print(\"voting classifier Performance:\")\n",
    "print(\"Confusion Matrix:\\n\", confusion_matrix(y_test, y_pred_evc))\n",
    "print(classification_report(y_test, y_pred_evc))"
   ]
  },
  {
   "cell_type": "code",
   "execution_count": 64,
   "id": "501772bd-fc4a-440a-a2cf-05a0e9bf7f6d",
   "metadata": {
    "scrolled": true
   },
   "outputs": [
    {
     "name": "stdout",
     "output_type": "stream",
     "text": [
      "Accuracy:0.84\n",
      "precision:0.69\n",
      "recall:0.61\n",
      "f1:0.65\n"
     ]
    }
   ],
   "source": [
    "accuracy_evc=accuracy_score(y_test,y_pred_evc)\n",
    "precision_evc=precision_score(y_test,y_pred_evc)\n",
    "recall_evc=recall_score(y_test,y_pred_evc)\n",
    "f1_evc=f1_score(y_test,y_pred_evc)\n",
    "print(f\"Accuracy:{accuracy:.2f}\")\n",
    "print(f\"precision:{precision:.2f}\")\n",
    "print(f\"recall:{recall:.2f}\")\n",
    "print(f\"f1:{f1:.2f}\")"
   ]
  },
  {
   "cell_type": "markdown",
   "id": "696c299d-af38-4b91-acb9-0088d0989f66",
   "metadata": {},
   "source": [
    "### 9.Boosting Decision Tree"
   ]
  },
  {
   "cell_type": "markdown",
   "id": "97866c71-4030-4ad2-a5d2-a8d6134b05f9",
   "metadata": {},
   "source": [
    "In general, we can’t use Boosting to improve a completely overfitted model with score = 1. To apply Boosting, we first have to tweak the decision tree classifier a bit. It took me some trial and error until I got the best parameters for the Decision Tree and the AdaBoost Classifier. I am sure you can further improve by playing around a bit more"
   ]
  },
  {
   "cell_type": "code",
   "execution_count": 29,
   "id": "afe9d828-eb2b-4b3d-9d5c-57017b8f4d1d",
   "metadata": {},
   "outputs": [
    {
     "name": "stdout",
     "output_type": "stream",
     "text": [
      "0.8058218512873161 0.03439025736938702\n"
     ]
    }
   ],
   "source": [
    "adb = AdaBoostClassifier(DecisionTreeClassifier(min_samples_split=10,max_depth=4),n_estimators=10,learning_rate=0.6)\n",
    "scores_adb = cross_val_score(adb, X_sm, y_sm, cv = 8)\n",
    "print(scores_adb.mean(), scores_adb.std())"
   ]
  },
  {
   "cell_type": "code",
   "execution_count": 30,
   "id": "f137d61d-ac0a-4ade-9a1c-eb05dfddd0e5",
   "metadata": {},
   "outputs": [],
   "source": [
    "adb.fit(X_sm,y_sm)\n",
    "y_pred_adb=adb.predict(X_test)"
   ]
  },
  {
   "cell_type": "code",
   "execution_count": 31,
   "id": "89e12d56-5181-4c01-bbbb-62ce792a0e86",
   "metadata": {
    "scrolled": true
   },
   "outputs": [
    {
     "name": "stdout",
     "output_type": "stream",
     "text": [
      "Ada Boost Classifier Performance:\n",
      "Confusion Matrix:\n",
      " [[2645  741]\n",
      " [ 305  752]]\n",
      "              precision    recall  f1-score   support\n",
      "\n",
      "           0       0.90      0.78      0.83      3386\n",
      "           1       0.50      0.71      0.59      1057\n",
      "\n",
      "    accuracy                           0.76      4443\n",
      "   macro avg       0.70      0.75      0.71      4443\n",
      "weighted avg       0.80      0.76      0.78      4443\n",
      "\n"
     ]
    }
   ],
   "source": [
    "print(\"Ada Boost Classifier Performance:\")\n",
    "print(\"Confusion Matrix:\\n\", confusion_matrix(y_test, y_pred_adb))\n",
    "print(classification_report(y_test, y_pred_adb))"
   ]
  },
  {
   "cell_type": "code",
   "execution_count": 65,
   "id": "a0b4e16e-14c5-4c4d-9a37-0731a51b7392",
   "metadata": {},
   "outputs": [
    {
     "name": "stdout",
     "output_type": "stream",
     "text": [
      "Accuracy:0.84\n",
      "precision:0.69\n",
      "recall:0.61\n",
      "f1:0.65\n"
     ]
    }
   ],
   "source": [
    "accuracy_adb=accuracy_score(y_test,y_pred_adb)\n",
    "precision_adb=precision_score(y_test,y_pred_adb)\n",
    "recall_adb=recall_score(y_test,y_pred_adb)\n",
    "f1_adb=f1_score(y_test,y_pred_adb)\n",
    "print(f\"Accuracy:{accuracy:.2f}\")\n",
    "print(f\"precision:{precision:.2f}\")\n",
    "print(f\"recall:{recall:.2f}\")\n",
    "print(f\"f1:{f1:.2f}\")"
   ]
  },
  {
   "cell_type": "markdown",
   "id": "1e226137-a23d-46ca-806f-6f3c4d58ea00",
   "metadata": {},
   "source": [
    "### Comparing ML Models"
   ]
  },
  {
   "cell_type": "code",
   "execution_count": 71,
   "id": "41c415f2-a3b8-47ce-bdff-75226251d1ff",
   "metadata": {},
   "outputs": [
    {
     "data": {
      "image/png": "[encoded data removed]",
      "text/plain": [
       "<Figure size 1000x800 with 1 Axes>"
      ]
     },
     "metadata": {},
     "output_type": "display_data"
    }
   ],
   "source": [
    "names = ['LogisticRegression' , 'Random Forest Classifier','Naive Bayes','Decision Tree','Neural Network','SVM',\n",
    "        'KNN','voting classifier','Boosting Decision tree']\n",
    "acc = [scores_lr.mean(),scores_rand.mean(),scores_nb.mean(),scores_tr.mean(),scores_mlp.mean(),scores_sv.mean(),\n",
    "      scores_knn.mean(),scores_evc.mean(),scores_adb.mean()]\n",
    "\n",
    "plt.figure(figsize=(10,8))\n",
    "graph = plt.barh(names,acc)\n",
    "plt.xlabel('Overall Accuracy')\n",
    "plt.ylabel('Models')    \n",
    "graph[0].set_color('red')\n",
    "graph[1].set_color('blue')\n",
    "graph[3].set_color('green')\n",
    "graph[4].set_color('yellow')\n",
    "graph[5].set_color('maroon')\n",
    "graph[6].set_color('pink')\n",
    "graph[7].set_color('violet')\n",
    "graph[8].set_color('grey')"
   ]
  },
  {
   "cell_type": "code",
   "execution_count": 66,
   "id": "3abb4ae7-75ec-436d-bdd7-b533266dc495",
   "metadata": {},
   "outputs": [
    {
     "data": {
      "image/png": "[encoded data removed]",
      "text/plain": [
       "<Figure size 1000x800 with 1 Axes>"
      ]
     },
     "metadata": {},
     "output_type": "display_data"
    }
   ],
   "source": [
    "names = ['LogisticRegression' , 'Random Forest Classifier','Naive Bayes','Decision Tree','Neural Network','SVM',\n",
    "        'KNN','voting classifier','Boosting Decision tree']\n",
    "acc = [accuracy_lr,accuracy_rand,accuracy_nb,accuracy_tr,accuracy_mlp,accuracy_sv,accuracy_knn,accuracy_evc,accuracy_adb]\n",
    "\n",
    "plt.figure(figsize=(10,8))\n",
    "graph = plt.barh(names,acc)\n",
    "plt.xlabel('Accuracy')\n",
    "plt.ylabel('Models')    \n",
    "graph[0].set_color('red')\n",
    "graph[1].set_color('blue')\n",
    "graph[3].set_color('green')\n",
    "graph[4].set_color('yellow')\n",
    "graph[5].set_color('maroon')\n",
    "graph[6].set_color('pink')\n",
    "graph[7].set_color('violet')\n",
    "graph[8].set_color('grey')"
   ]
  },
  {
   "cell_type": "code",
   "execution_count": 72,
   "id": "251c0f2d-31ec-4d86-b5d0-bd67e09836ff",
   "metadata": {},
   "outputs": [
    {
     "data": {
      "image/png": "[encoded data removed]",
      "text/plain": [
       "<Figure size 1000x800 with 1 Axes>"
      ]
     },
     "metadata": {},
     "output_type": "display_data"
    }
   ],
   "source": [
    "names = ['LogisticRegression' , 'Random Forest Classifier','Naive Bayes','Decision Tree','Neural Network','SVM',\n",
    "        'KNN','voting classifier','Boosting Decision tree']\n",
    "acc = [precision_lr,precision_rand,precision_nb,precision_tr,precision_mlp,precision_sv,precision_knn,precision_evc,precision_adb]\n",
    "\n",
    "plt.figure(figsize=(10,8))\n",
    "graph = plt.barh(names,acc)\n",
    "plt.xlabel('precision')\n",
    "plt.ylabel('Models')    \n",
    "graph[0].set_color('red')\n",
    "graph[1].set_color('blue')\n",
    "graph[3].set_color('green')\n",
    "graph[4].set_color('yellow')\n",
    "graph[5].set_color('maroon')\n",
    "graph[6].set_color('pink')\n",
    "graph[7].set_color('violet')\n",
    "graph[8].set_color('grey')"
   ]
  },
  {
   "cell_type": "code",
   "execution_count": 73,
   "id": "4432b5f5-3921-418e-92f8-79284606ae43",
   "metadata": {},
   "outputs": [
    {
     "data": {
      "image/png": "[encoded data removed]",
      "text/plain": [
       "<Figure size 1000x800 with 1 Axes>"
      ]
     },
     "metadata": {},
     "output_type": "display_data"
    }
   ],
   "source": [
    "names = ['LogisticRegression' , 'Random Forest Classifier','Naive Bayes','Decision Tree','Neural Network','SVM',\n",
    "        'KNN','voting classifier','Boosting Decision tree']\n",
    "acc = [recall_lr,recall_rand,recall_nb,recall_tr,recall_mlp,recall_sv,recall_knn,recall_evc,recall_adb]\n",
    "\n",
    "plt.figure(figsize=(10,8))\n",
    "graph = plt.barh(names,acc)\n",
    "plt.xlabel('recall')\n",
    "plt.ylabel('Models')    \n",
    "graph[0].set_color('red')\n",
    "graph[1].set_color('blue')\n",
    "graph[3].set_color('green')\n",
    "graph[4].set_color('yellow')\n",
    "graph[5].set_color('maroon')\n",
    "graph[6].set_color('pink')\n",
    "graph[7].set_color('violet')\n",
    "graph[8].set_color('grey')"
   ]
  },
  {
   "cell_type": "code",
   "execution_count": 75,
   "id": "0985be4c-8556-4cbc-958a-4bc6e7525c88",
   "metadata": {},
   "outputs": [
    {
     "data": {
      "image/png": "[encoded data removed]",
      "text/plain": [
       "<Figure size 1000x800 with 1 Axes>"
      ]
     },
     "metadata": {},
     "output_type": "display_data"
    }
   ],
   "source": [
    "names = ['LogisticRegression' , 'Random Forest Classifier','Naive Bayes','Decision Tree','Neural Network','SVM',\n",
    "        'KNN','voting classifier','Boosting Decision tree']\n",
    "acc = [f1_lr,f1_rand,f1_nb,f1_tr,f1_mlp,f1_sv,f1_knn,f1_evc,f1_adb]\n",
    "\n",
    "plt.figure(figsize=(10,8))\n",
    "graph = plt.barh(names,acc)\n",
    "plt.xlabel('F1_score')\n",
    "plt.ylabel('Models')    \n",
    "graph[0].set_color('red')\n",
    "graph[1].set_color('blue')\n",
    "graph[3].set_color('green')\n",
    "graph[4].set_color('yellow')\n",
    "graph[5].set_color('maroon')\n",
    "graph[6].set_color('pink')\n",
    "graph[7].set_color('violet')\n",
    "graph[8].set_color('grey')"
   ]
  }
 ],
 "metadata": {
  "kernelspec": {
   "display_name": "Python 3 (ipykernel)",
   "language": "python",
   "name": "python3"
  },
  "language_info": {
   "codemirror_mode": {
    "name": "ipython",
    "version": 3
   },
   "file_extension": ".py",
   "mimetype": "text/x-python",
   "name": "python",
   "nbconvert_exporter": "python",
   "pygments_lexer": "ipython3",
   "version": "3.11.7"
  }
 },
 "nbformat": 4,
 "nbformat_minor": 5
}
