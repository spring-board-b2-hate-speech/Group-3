{
 "cells": [
  {
   "cell_type": "code",
   "execution_count": 1,
   "id": "5fc46d4c-e483-4481-beac-4c52c3de2d80",
   "metadata": {},
   "outputs": [],
   "source": [
    "import pandas as pd\n",
    "import numpy as np\n",
    "import matplotlib.pyplot as plt\n",
    "import seaborn as sns"
   ]
  },
  {
   "cell_type": "code",
   "execution_count": 2,
   "id": "782317e0-2963-4146-baa1-57baa5305d86",
   "metadata": {
    "scrolled": true
   },
   "outputs": [
    {
     "data": {
      "text/html": [
       "<div>\n",
       "<style scoped>\n",
       "    .dataframe tbody tr th:only-of-type {\n",
       "        vertical-align: middle;\n",
       "    }\n",
       "\n",
       "    .dataframe tbody tr th {\n",
       "        vertical-align: top;\n",
       "    }\n",
       "\n",
       "    .dataframe thead th {\n",
       "        text-align: right;\n",
       "    }\n",
       "</style>\n",
       "<table border=\"1\" class=\"dataframe\">\n",
       "  <thead>\n",
       "    <tr style=\"text-align: right;\">\n",
       "      <th></th>\n",
       "      <th>comment</th>\n",
       "      <th>hate_speech</th>\n",
       "      <th>lemmatized_comment</th>\n",
       "      <th>document_vector_flat</th>\n",
       "    </tr>\n",
       "  </thead>\n",
       "  <tbody>\n",
       "    <tr>\n",
       "      <th>0</th>\n",
       "      <td>subsection retarded hungarians ohh boy brace l...</td>\n",
       "      <td>1</td>\n",
       "      <td>subsection retard hungarians ohh boy brace liv...</td>\n",
       "      <td>0.014043219,-0.01809359,0.017145459,0.08062436...</td>\n",
       "    </tr>\n",
       "    <tr>\n",
       "      <th>1</th>\n",
       "      <td>hiii just got work Foundation and grounding ma...</td>\n",
       "      <td>0</td>\n",
       "      <td>hiii just get work Foundation and ground mainl...</td>\n",
       "      <td>-0.0030388932,-0.035133556,0.020659983,0.07383...</td>\n",
       "    </tr>\n",
       "    <tr>\n",
       "      <th>2</th>\n",
       "      <td>wow guess soyboys every country</td>\n",
       "      <td>0</td>\n",
       "      <td>wow guess soyboys every country</td>\n",
       "      <td>0.017362628,0.005587179,0.0297773,0.109146975,...</td>\n",
       "    </tr>\n",
       "    <tr>\n",
       "      <th>3</th>\n",
       "      <td>owen benjamins soyboy song goes every country ...</td>\n",
       "      <td>0</td>\n",
       "      <td>owen benjamins soyboy song go every country amaze</td>\n",
       "      <td>0.018085241,0.0011954829,2.8959475e-05,0.07601...</td>\n",
       "    </tr>\n",
       "    <tr>\n",
       "      <th>4</th>\n",
       "      <td>yall hear sumn means live small town rn for w...</td>\n",
       "      <td>0</td>\n",
       "      <td>yall hear sumn mean live small town rn for wor...</td>\n",
       "      <td>0.023993038,-0.00060867134,0.005239945,0.05989...</td>\n",
       "    </tr>\n",
       "    <tr>\n",
       "      <th>...</th>\n",
       "      <td>...</td>\n",
       "      <td>...</td>\n",
       "      <td>...</td>\n",
       "      <td>...</td>\n",
       "    </tr>\n",
       "    <tr>\n",
       "      <th>22206</th>\n",
       "      <td>op stop faggot post videos next time hard</td>\n",
       "      <td>1</td>\n",
       "      <td>op stop faggot post videos next time hard</td>\n",
       "      <td>0.08339707,-0.017676119,-0.036872935,0.1038081...</td>\n",
       "    </tr>\n",
       "    <tr>\n",
       "      <th>22207</th>\n",
       "      <td>minute long video top hate champagne goes need...</td>\n",
       "      <td>0</td>\n",
       "      <td>minute long video top hate champagne go need g...</td>\n",
       "      <td>0.009342635,0.02728245,-0.0013451587,0.0765217...</td>\n",
       "    </tr>\n",
       "    <tr>\n",
       "      <th>22208</th>\n",
       "      <td>clue whos ecelebs are point time  need get alo...</td>\n",
       "      <td>1</td>\n",
       "      <td>clue whos ecelebs be point time need get along...</td>\n",
       "      <td>-0.0006810841,0.008315975,0.029024707,0.077029...</td>\n",
       "    </tr>\n",
       "    <tr>\n",
       "      <th>22209</th>\n",
       "      <td>didn’t insult you insult me</td>\n",
       "      <td>0</td>\n",
       "      <td>didn ’ t insult you insult me</td>\n",
       "      <td>0.06474433,-0.17082486,-0.029483724,0.04382453...</td>\n",
       "    </tr>\n",
       "    <tr>\n",
       "      <th>22210</th>\n",
       "      <td>living lie</td>\n",
       "      <td>0</td>\n",
       "      <td>live lie</td>\n",
       "      <td>-0.11396426,0.04755594,-0.07264759,0.08606285,...</td>\n",
       "    </tr>\n",
       "  </tbody>\n",
       "</table>\n",
       "<p>22211 rows × 4 columns</p>\n",
       "</div>"
      ],
      "text/plain": [
       "                                                 comment  hate_speech  \\\n",
       "0      subsection retarded hungarians ohh boy brace l...            1   \n",
       "1      hiii just got work Foundation and grounding ma...            0   \n",
       "2                        wow guess soyboys every country            0   \n",
       "3      owen benjamins soyboy song goes every country ...            0   \n",
       "4       yall hear sumn means live small town rn for w...            0   \n",
       "...                                                  ...          ...   \n",
       "22206          op stop faggot post videos next time hard            1   \n",
       "22207  minute long video top hate champagne goes need...            0   \n",
       "22208  clue whos ecelebs are point time  need get alo...            1   \n",
       "22209                        didn’t insult you insult me            0   \n",
       "22210                                         living lie            0   \n",
       "\n",
       "                                      lemmatized_comment  \\\n",
       "0      subsection retard hungarians ohh boy brace liv...   \n",
       "1      hiii just get work Foundation and ground mainl...   \n",
       "2                        wow guess soyboys every country   \n",
       "3      owen benjamins soyboy song go every country amaze   \n",
       "4      yall hear sumn mean live small town rn for wor...   \n",
       "...                                                  ...   \n",
       "22206          op stop faggot post videos next time hard   \n",
       "22207  minute long video top hate champagne go need g...   \n",
       "22208  clue whos ecelebs be point time need get along...   \n",
       "22209                      didn ’ t insult you insult me   \n",
       "22210                                           live lie   \n",
       "\n",
       "                                    document_vector_flat  \n",
       "0      0.014043219,-0.01809359,0.017145459,0.08062436...  \n",
       "1      -0.0030388932,-0.035133556,0.020659983,0.07383...  \n",
       "2      0.017362628,0.005587179,0.0297773,0.109146975,...  \n",
       "3      0.018085241,0.0011954829,2.8959475e-05,0.07601...  \n",
       "4      0.023993038,-0.00060867134,0.005239945,0.05989...  \n",
       "...                                                  ...  \n",
       "22206  0.08339707,-0.017676119,-0.036872935,0.1038081...  \n",
       "22207  0.009342635,0.02728245,-0.0013451587,0.0765217...  \n",
       "22208  -0.0006810841,0.008315975,0.029024707,0.077029...  \n",
       "22209  0.06474433,-0.17082486,-0.029483724,0.04382453...  \n",
       "22210  -0.11396426,0.04755594,-0.07264759,0.08606285,...  \n",
       "\n",
       "[22211 rows x 4 columns]"
      ]
     },
     "execution_count": 2,
     "metadata": {},
     "output_type": "execute_result"
    }
   ],
   "source": [
    "df=pd.read_csv('Reddit_Encoded.csv')\n",
    "df"
   ]
  },
  {
   "cell_type": "code",
   "execution_count": 3,
   "id": "17e65cf4-5aaf-4359-8283-2762b85129f2",
   "metadata": {},
   "outputs": [],
   "source": [
    "df['fasttext_vector'] = df['document_vector_flat'].apply(lambda x: np.fromstring(x.strip('[]'), sep=','))"
   ]
  },
  {
   "cell_type": "code",
   "execution_count": 4,
   "id": "ad8883df-039b-453b-bda3-366a9023eb6d",
   "metadata": {},
   "outputs": [
    {
     "data": {
      "text/html": [
       "<div>\n",
       "<style scoped>\n",
       "    .dataframe tbody tr th:only-of-type {\n",
       "        vertical-align: middle;\n",
       "    }\n",
       "\n",
       "    .dataframe tbody tr th {\n",
       "        vertical-align: top;\n",
       "    }\n",
       "\n",
       "    .dataframe thead th {\n",
       "        text-align: right;\n",
       "    }\n",
       "</style>\n",
       "<table border=\"1\" class=\"dataframe\">\n",
       "  <thead>\n",
       "    <tr style=\"text-align: right;\">\n",
       "      <th></th>\n",
       "      <th>comment</th>\n",
       "      <th>hate_speech</th>\n",
       "      <th>lemmatized_comment</th>\n",
       "      <th>document_vector_flat</th>\n",
       "      <th>fasttext_vector</th>\n",
       "    </tr>\n",
       "  </thead>\n",
       "  <tbody>\n",
       "    <tr>\n",
       "      <th>0</th>\n",
       "      <td>subsection retarded hungarians ohh boy brace l...</td>\n",
       "      <td>1</td>\n",
       "      <td>subsection retard hungarians ohh boy brace liv...</td>\n",
       "      <td>0.014043219,-0.01809359,0.017145459,0.08062436...</td>\n",
       "      <td>[0.014043219, -0.01809359, 0.017145459, 0.0806...</td>\n",
       "    </tr>\n",
       "    <tr>\n",
       "      <th>1</th>\n",
       "      <td>hiii just got work Foundation and grounding ma...</td>\n",
       "      <td>0</td>\n",
       "      <td>hiii just get work Foundation and ground mainl...</td>\n",
       "      <td>-0.0030388932,-0.035133556,0.020659983,0.07383...</td>\n",
       "      <td>[-0.0030388932, -0.035133556, 0.020659983, 0.0...</td>\n",
       "    </tr>\n",
       "    <tr>\n",
       "      <th>2</th>\n",
       "      <td>wow guess soyboys every country</td>\n",
       "      <td>0</td>\n",
       "      <td>wow guess soyboys every country</td>\n",
       "      <td>0.017362628,0.005587179,0.0297773,0.109146975,...</td>\n",
       "      <td>[0.017362628, 0.005587179, 0.0297773, 0.109146...</td>\n",
       "    </tr>\n",
       "    <tr>\n",
       "      <th>3</th>\n",
       "      <td>owen benjamins soyboy song goes every country ...</td>\n",
       "      <td>0</td>\n",
       "      <td>owen benjamins soyboy song go every country amaze</td>\n",
       "      <td>0.018085241,0.0011954829,2.8959475e-05,0.07601...</td>\n",
       "      <td>[0.018085241, 0.0011954829, 2.8959475e-05, 0.0...</td>\n",
       "    </tr>\n",
       "    <tr>\n",
       "      <th>4</th>\n",
       "      <td>yall hear sumn means live small town rn for w...</td>\n",
       "      <td>0</td>\n",
       "      <td>yall hear sumn mean live small town rn for wor...</td>\n",
       "      <td>0.023993038,-0.00060867134,0.005239945,0.05989...</td>\n",
       "      <td>[0.023993038, -0.00060867134, 0.005239945, 0.0...</td>\n",
       "    </tr>\n",
       "    <tr>\n",
       "      <th>...</th>\n",
       "      <td>...</td>\n",
       "      <td>...</td>\n",
       "      <td>...</td>\n",
       "      <td>...</td>\n",
       "      <td>...</td>\n",
       "    </tr>\n",
       "    <tr>\n",
       "      <th>22206</th>\n",
       "      <td>op stop faggot post videos next time hard</td>\n",
       "      <td>1</td>\n",
       "      <td>op stop faggot post videos next time hard</td>\n",
       "      <td>0.08339707,-0.017676119,-0.036872935,0.1038081...</td>\n",
       "      <td>[0.08339707, -0.017676119, -0.036872935, 0.103...</td>\n",
       "    </tr>\n",
       "    <tr>\n",
       "      <th>22207</th>\n",
       "      <td>minute long video top hate champagne goes need...</td>\n",
       "      <td>0</td>\n",
       "      <td>minute long video top hate champagne go need g...</td>\n",
       "      <td>0.009342635,0.02728245,-0.0013451587,0.0765217...</td>\n",
       "      <td>[0.009342635, 0.02728245, -0.0013451587, 0.076...</td>\n",
       "    </tr>\n",
       "    <tr>\n",
       "      <th>22208</th>\n",
       "      <td>clue whos ecelebs are point time  need get alo...</td>\n",
       "      <td>1</td>\n",
       "      <td>clue whos ecelebs be point time need get along...</td>\n",
       "      <td>-0.0006810841,0.008315975,0.029024707,0.077029...</td>\n",
       "      <td>[-0.0006810841, 0.008315975, 0.029024707, 0.07...</td>\n",
       "    </tr>\n",
       "    <tr>\n",
       "      <th>22209</th>\n",
       "      <td>didn’t insult you insult me</td>\n",
       "      <td>0</td>\n",
       "      <td>didn ’ t insult you insult me</td>\n",
       "      <td>0.06474433,-0.17082486,-0.029483724,0.04382453...</td>\n",
       "      <td>[0.06474433, -0.17082486, -0.029483724, 0.0438...</td>\n",
       "    </tr>\n",
       "    <tr>\n",
       "      <th>22210</th>\n",
       "      <td>living lie</td>\n",
       "      <td>0</td>\n",
       "      <td>live lie</td>\n",
       "      <td>-0.11396426,0.04755594,-0.07264759,0.08606285,...</td>\n",
       "      <td>[-0.11396426, 0.04755594, -0.07264759, 0.08606...</td>\n",
       "    </tr>\n",
       "  </tbody>\n",
       "</table>\n",
       "<p>22211 rows × 5 columns</p>\n",
       "</div>"
      ],
      "text/plain": [
       "                                                 comment  hate_speech  \\\n",
       "0      subsection retarded hungarians ohh boy brace l...            1   \n",
       "1      hiii just got work Foundation and grounding ma...            0   \n",
       "2                        wow guess soyboys every country            0   \n",
       "3      owen benjamins soyboy song goes every country ...            0   \n",
       "4       yall hear sumn means live small town rn for w...            0   \n",
       "...                                                  ...          ...   \n",
       "22206          op stop faggot post videos next time hard            1   \n",
       "22207  minute long video top hate champagne goes need...            0   \n",
       "22208  clue whos ecelebs are point time  need get alo...            1   \n",
       "22209                        didn’t insult you insult me            0   \n",
       "22210                                         living lie            0   \n",
       "\n",
       "                                      lemmatized_comment  \\\n",
       "0      subsection retard hungarians ohh boy brace liv...   \n",
       "1      hiii just get work Foundation and ground mainl...   \n",
       "2                        wow guess soyboys every country   \n",
       "3      owen benjamins soyboy song go every country amaze   \n",
       "4      yall hear sumn mean live small town rn for wor...   \n",
       "...                                                  ...   \n",
       "22206          op stop faggot post videos next time hard   \n",
       "22207  minute long video top hate champagne go need g...   \n",
       "22208  clue whos ecelebs be point time need get along...   \n",
       "22209                      didn ’ t insult you insult me   \n",
       "22210                                           live lie   \n",
       "\n",
       "                                    document_vector_flat  \\\n",
       "0      0.014043219,-0.01809359,0.017145459,0.08062436...   \n",
       "1      -0.0030388932,-0.035133556,0.020659983,0.07383...   \n",
       "2      0.017362628,0.005587179,0.0297773,0.109146975,...   \n",
       "3      0.018085241,0.0011954829,2.8959475e-05,0.07601...   \n",
       "4      0.023993038,-0.00060867134,0.005239945,0.05989...   \n",
       "...                                                  ...   \n",
       "22206  0.08339707,-0.017676119,-0.036872935,0.1038081...   \n",
       "22207  0.009342635,0.02728245,-0.0013451587,0.0765217...   \n",
       "22208  -0.0006810841,0.008315975,0.029024707,0.077029...   \n",
       "22209  0.06474433,-0.17082486,-0.029483724,0.04382453...   \n",
       "22210  -0.11396426,0.04755594,-0.07264759,0.08606285,...   \n",
       "\n",
       "                                         fasttext_vector  \n",
       "0      [0.014043219, -0.01809359, 0.017145459, 0.0806...  \n",
       "1      [-0.0030388932, -0.035133556, 0.020659983, 0.0...  \n",
       "2      [0.017362628, 0.005587179, 0.0297773, 0.109146...  \n",
       "3      [0.018085241, 0.0011954829, 2.8959475e-05, 0.0...  \n",
       "4      [0.023993038, -0.00060867134, 0.005239945, 0.0...  \n",
       "...                                                  ...  \n",
       "22206  [0.08339707, -0.017676119, -0.036872935, 0.103...  \n",
       "22207  [0.009342635, 0.02728245, -0.0013451587, 0.076...  \n",
       "22208  [-0.0006810841, 0.008315975, 0.029024707, 0.07...  \n",
       "22209  [0.06474433, -0.17082486, -0.029483724, 0.0438...  \n",
       "22210  [-0.11396426, 0.04755594, -0.07264759, 0.08606...  \n",
       "\n",
       "[22211 rows x 5 columns]"
      ]
     },
     "execution_count": 4,
     "metadata": {},
     "output_type": "execute_result"
    }
   ],
   "source": [
    "df"
   ]
  },
  {
   "cell_type": "code",
   "execution_count": 27,
   "id": "0208442b-edd7-4472-b157-cf85498cdd15",
   "metadata": {},
   "outputs": [],
   "source": [
    "from sklearn.datasets import make_blobs\n",
    "from sklearn.metrics import classification_report, roc_auc_score, roc_curve\n",
    "from sklearn.model_selection import train_test_split"
   ]
  },
  {
   "cell_type": "code",
   "execution_count": 31,
   "id": "d8a895fe-be48-4914-82a8-b82577638ab9",
   "metadata": {},
   "outputs": [],
   "source": [
    "count_class_0,count_class_1=df.hate_speech.value_counts()"
   ]
  },
  {
   "cell_type": "code",
   "execution_count": 32,
   "id": "c4e9739b-0a57-46ea-8564-c3dad1977bf2",
   "metadata": {},
   "outputs": [],
   "source": [
    "X = np.vstack(df['fasttext_vector'].values)\n",
    "y=df['hate_speech']"
   ]
  },
  {
   "cell_type": "code",
   "execution_count": 33,
   "id": "68a284f8-0a65-4ff7-8450-9186f419c0b5",
   "metadata": {},
   "outputs": [],
   "source": [
    "from sklearn.model_selection import train_test_split\n",
    "X_train,X_test,y_train,y_test=train_test_split(X,y,test_size=0.2,random_state=42,stratify=y)"
   ]
  },
  {
   "cell_type": "code",
   "execution_count": 81,
   "id": "813a59f5-8e35-4048-983c-1b1a3e534f2f",
   "metadata": {},
   "outputs": [],
   "source": [
    "from sklearn.ensemble import RandomForestClassifier\n",
    "from sklearn.metrics import accuracy_score, classification_report\n",
    "\n",
    "def model_train(X_train,X_test,y_train,y_test):\n",
    "    # Create a Random Forest Classifier\n",
    "    model = RandomForestClassifier(n_estimators=100,random_state=42)\n",
    "    # Train the classifier\n",
    "    model.fit(X_train, y_train)\n",
    "    # Make predictions on the test set\n",
    "    y_pred = model.predict(X_test)\n",
    "   # Evaluate the model\n",
    "    accuracy = accuracy_score(y_test, y_pred)\n",
    "    classification_rep = classification_report(y_test, y_pred)\n",
    "   # Print the results\n",
    "    print(f\"Accuracy: {accuracy:.2f}\")\n",
    "    print(\"\\nClassification Report:\\n\", classification_rep)"
   ]
  },
  {
   "cell_type": "code",
   "execution_count": 53,
   "id": "242c06e3-29cf-4cd3-b27c-e7c93c2622c0",
   "metadata": {},
   "outputs": [
    {
     "name": "stdout",
     "output_type": "stream",
     "text": [
      "Accuracy: 0.81\n",
      "\n",
      "Classification Report:\n",
      "               precision    recall  f1-score   support\n",
      "\n",
      "           0       0.81      0.98      0.89      5082\n",
      "           1       0.83      0.27      0.41      1582\n",
      "\n",
      "    accuracy                           0.81      6664\n",
      "   macro avg       0.82      0.63      0.65      6664\n",
      "weighted avg       0.82      0.81      0.77      6664\n",
      "\n"
     ]
    }
   ],
   "source": [
    "model_train(X_train,X_test,y_train,y_test)"
   ]
  },
  {
   "cell_type": "markdown",
   "id": "9ed9c17e-e5fe-4284-adbd-03bc8d63b58a",
   "metadata": {},
   "source": [
    "#### Undersampling"
   ]
  },
  {
   "cell_type": "code",
   "execution_count": 18,
   "id": "91b3667e-5949-44c4-8966-5cd2c21d1788",
   "metadata": {},
   "outputs": [],
   "source": [
    "from imblearn.under_sampling import RandomUnderSampler"
   ]
  },
  {
   "cell_type": "code",
   "execution_count": 20,
   "id": "ebf9a8e8-e663-40c6-b990-6e0463684bc2",
   "metadata": {},
   "outputs": [
    {
     "data": {
      "text/plain": [
       "(16925, 5286)"
      ]
     },
     "execution_count": 20,
     "metadata": {},
     "output_type": "execute_result"
    }
   ],
   "source": [
    "count_class_0,count_class_1"
   ]
  },
  {
   "cell_type": "code",
   "execution_count": 49,
   "id": "c00ace6e-5112-4fba-8a07-c20fb0eefe01",
   "metadata": {},
   "outputs": [],
   "source": [
    "#Applying Random Under Sampling\n",
    "rus= RandomUnderSampler(random_state=42)\n",
    "X_resampled,y_resampled=rus.fit_resample(X_train,y_train)"
   ]
  },
  {
   "cell_type": "code",
   "execution_count": 41,
   "id": "847d4d25-d393-4b90-b785-613e9e47d643",
   "metadata": {},
   "outputs": [
    {
     "data": {
      "text/plain": [
       "0    4229\n",
       "1    4229\n",
       "Name: hate_speech, dtype: int64"
      ]
     },
     "execution_count": 41,
     "metadata": {},
     "output_type": "execute_result"
    }
   ],
   "source": [
    "pd.Series(y_resampled).value_counts()\n"
   ]
  },
  {
   "cell_type": "code",
   "execution_count": 42,
   "id": "5cfb08f0-0ab9-4c03-a6ac-c5e5742f886c",
   "metadata": {},
   "outputs": [
    {
     "data": {
      "text/plain": [
       "0    11843\n",
       "1     3704\n",
       "Name: hate_speech, dtype: int64"
      ]
     },
     "execution_count": 42,
     "metadata": {},
     "output_type": "execute_result"
    }
   ],
   "source": [
    "pd.Series(y_train).value_counts()"
   ]
  },
  {
   "cell_type": "code",
   "execution_count": 50,
   "id": "e5c8885b-72f0-4e6e-b93a-88a7712a5658",
   "metadata": {},
   "outputs": [
    {
     "name": "stdout",
     "output_type": "stream",
     "text": [
      "Accuracy: 0.79\n",
      "\n",
      "Classification Report:\n",
      "               precision    recall  f1-score   support\n",
      "\n",
      "           0       0.90      0.81      0.85      5082\n",
      "           1       0.54      0.72      0.62      1582\n",
      "\n",
      "    accuracy                           0.79      6664\n",
      "   macro avg       0.72      0.76      0.73      6664\n",
      "weighted avg       0.82      0.79      0.80      6664\n",
      "\n"
     ]
    }
   ],
   "source": [
    "model_train(X_resampled,X_test,y_resampled,y_test)"
   ]
  },
  {
   "cell_type": "markdown",
   "id": "136a0bec-a863-42dc-862b-4f01fe770577",
   "metadata": {},
   "source": [
    "### OverSampling"
   ]
  },
  {
   "cell_type": "code",
   "execution_count": 44,
   "id": "8ecf9d9e-edb7-4012-a87b-72c4b0277bf9",
   "metadata": {},
   "outputs": [
    {
     "data": {
      "text/plain": [
       "(16925, 5286)"
      ]
     },
     "execution_count": 44,
     "metadata": {},
     "output_type": "execute_result"
    }
   ],
   "source": [
    "count_class_0,count_class_1"
   ]
  },
  {
   "cell_type": "code",
   "execution_count": 47,
   "id": "d05c2a3b-6378-45dc-ac08-e9f459b8b9f9",
   "metadata": {},
   "outputs": [],
   "source": [
    "from imblearn.over_sampling import RandomOverSampler"
   ]
  },
  {
   "cell_type": "code",
   "execution_count": 51,
   "id": "748cb2ab-4917-4513-ba3b-8d0ffe74c049",
   "metadata": {},
   "outputs": [],
   "source": [
    "#Applying Random Under Sampling\n",
    "rus= RandomOverSampler(random_state=42)\n",
    "X_oversampled,y_oversampled=rus.fit_resample(X_train,y_train)"
   ]
  },
  {
   "cell_type": "code",
   "execution_count": 54,
   "id": "6ae302bf-de17-4320-bba5-82b7727f5252",
   "metadata": {},
   "outputs": [
    {
     "data": {
      "text/plain": [
       "0    11843\n",
       "1    11843\n",
       "Name: hate_speech, dtype: int64"
      ]
     },
     "execution_count": 54,
     "metadata": {},
     "output_type": "execute_result"
    }
   ],
   "source": [
    "pd.Series(y_oversampled).value_counts()"
   ]
  },
  {
   "cell_type": "code",
   "execution_count": 55,
   "id": "2d4017bc-6925-4197-88c5-5ca5bf3bc99b",
   "metadata": {},
   "outputs": [
    {
     "data": {
      "text/plain": [
       "0    11843\n",
       "1     3704\n",
       "Name: hate_speech, dtype: int64"
      ]
     },
     "execution_count": 55,
     "metadata": {},
     "output_type": "execute_result"
    }
   ],
   "source": [
    "pd.Series(y_train).value_counts()"
   ]
  },
  {
   "cell_type": "code",
   "execution_count": 52,
   "id": "0e3ea4eb-27cb-4ff7-a217-467f7903b298",
   "metadata": {},
   "outputs": [
    {
     "name": "stdout",
     "output_type": "stream",
     "text": [
      "Accuracy: 0.82\n",
      "\n",
      "Classification Report:\n",
      "               precision    recall  f1-score   support\n",
      "\n",
      "           0       0.83      0.95      0.89      5082\n",
      "           1       0.72      0.39      0.50      1582\n",
      "\n",
      "    accuracy                           0.82      6664\n",
      "   macro avg       0.78      0.67      0.70      6664\n",
      "weighted avg       0.81      0.82      0.80      6664\n",
      "\n"
     ]
    }
   ],
   "source": [
    "model_train(X_oversampled,X_test,y_oversampled,y_test)"
   ]
  },
  {
   "cell_type": "markdown",
   "id": "a1ce2c64-35e9-46e9-9a30-3031d5e57a29",
   "metadata": {},
   "source": [
    "### method 3:SMOTE"
   ]
  },
  {
   "cell_type": "code",
   "execution_count": 56,
   "id": "39977c3c-6228-427a-9e1d-e6c20150cd5d",
   "metadata": {},
   "outputs": [],
   "source": [
    "X = np.vstack(df['fasttext_vector'].values)\n",
    "y=df['hate_speech']"
   ]
  },
  {
   "cell_type": "code",
   "execution_count": 57,
   "id": "6ad4159e-1ef2-4061-84fb-3b6197e8c1d4",
   "metadata": {},
   "outputs": [
    {
     "data": {
      "text/plain": [
       "0    16925\n",
       "1     5286\n",
       "Name: hate_speech, dtype: int64"
      ]
     },
     "execution_count": 57,
     "metadata": {},
     "output_type": "execute_result"
    }
   ],
   "source": [
    "y.value_counts()"
   ]
  },
  {
   "cell_type": "code",
   "execution_count": 94,
   "id": "f9c95632-dd34-448e-b9a4-81810526f5c6",
   "metadata": {
    "scrolled": true
   },
   "outputs": [
    {
     "data": {
      "text/plain": [
       "1    16925\n",
       "0    16925\n",
       "Name: hate_speech, dtype: int64"
      ]
     },
     "execution_count": 94,
     "metadata": {},
     "output_type": "execute_result"
    }
   ],
   "source": [
    "from imblearn.over_sampling import SMOTE\n",
    "\n",
    "smote = SMOTE(sampling_strategy='minority',random_state=42)\n",
    "X_sm, y_sm = smote.fit_resample(X,y)\n",
    "y_sm.value_counts()"
   ]
  },
  {
   "cell_type": "code",
   "execution_count": 95,
   "id": "6dcaf689-94f0-4d8d-a438-92f835ef95e4",
   "metadata": {},
   "outputs": [
    {
     "name": "stderr",
     "output_type": "stream",
     "text": [
      "C:\\Users\\moham\\anaconda3\\Lib\\site-packages\\sklearn\\linear_model\\_logistic.py:458: ConvergenceWarning: lbfgs failed to converge (status=1):\n",
      "STOP: TOTAL NO. of ITERATIONS REACHED LIMIT.\n",
      "\n",
      "Increase the number of iterations (max_iter) or scale the data as shown in:\n",
      "    https://scikit-learn.org/stable/modules/preprocessing.html\n",
      "Please also refer to the documentation for alternative solver options:\n",
      "    https://scikit-learn.org/stable/modules/linear_model.html#logistic-regression\n",
      "  n_iter_i = _check_optimize_result(\n"
     ]
    }
   ],
   "source": [
    "model = LogisticRegression()\n",
    "\n",
    "# Train the model\n",
    "model.fit(X_sm, y_sm)\n",
    "\n",
    "# Predict on the test set\n",
    "y_pred_sm = model.predict(X_test)"
   ]
  },
  {
   "cell_type": "code",
   "execution_count": 96,
   "id": "67630d12-2bcc-4f49-b9b8-d7677098ab13",
   "metadata": {},
   "outputs": [
    {
     "name": "stdout",
     "output_type": "stream",
     "text": [
      "Accuracy: 0.81\n",
      "Classification Report:\n",
      "              precision    recall  f1-score   support\n",
      "\n",
      "           0       0.91      0.83      0.87      5082\n",
      "           1       0.58      0.73      0.64      1582\n",
      "\n",
      "    accuracy                           0.81      6664\n",
      "   macro avg       0.74      0.78      0.76      6664\n",
      "weighted avg       0.83      0.81      0.82      6664\n",
      "\n"
     ]
    }
   ],
   "source": [
    "accuracy = accuracy_score(y_test, y_pred_sm)\n",
    "print(f\"Accuracy: {accuracy:.2f}\")\n",
    "# Evaluate the model\n",
    "print(\"Classification Report:\")\n",
    "print(classification_report(y_test, y_pred_sm))"
   ]
  },
  {
   "cell_type": "markdown",
   "id": "c9fd9e02-e863-4e0b-9d53-026918739ec6",
   "metadata": {},
   "source": [
    "### method 4: Balanced Random Forest"
   ]
  },
  {
   "cell_type": "code",
   "execution_count": 62,
   "id": "79bb20be-0db7-470a-b263-a4ab9ee0a0f1",
   "metadata": {
    "scrolled": true
   },
   "outputs": [
    {
     "name": "stderr",
     "output_type": "stream",
     "text": [
      "C:\\Users\\moham\\anaconda3\\Lib\\site-packages\\imblearn\\ensemble\\_forest.py:546: FutureWarning: The default of `sampling_strategy` will change from `'auto'` to `'all'` in version 0.13. This change will follow the implementation proposed in the original paper. Set to `'all'` to silence this warning and adopt the future behaviour.\n",
      "  warn(\n",
      "C:\\Users\\moham\\anaconda3\\Lib\\site-packages\\imblearn\\ensemble\\_forest.py:558: FutureWarning: The default of `replacement` will change from `False` to `True` in version 0.13. This change will follow the implementation proposed in the original paper. Set to `True` to silence this warning and adopt the future behaviour.\n",
      "  warn(\n"
     ]
    },
    {
     "data": {
      "text/html": [
       "<style>#sk-container-id-1 {color: black;background-color: white;}#sk-container-id-1 pre{padding: 0;}#sk-container-id-1 div.sk-toggleable {background-color: white;}#sk-container-id-1 label.sk-toggleable__label {cursor: pointer;display: block;width: 100%;margin-bottom: 0;padding: 0.3em;box-sizing: border-box;text-align: center;}#sk-container-id-1 label.sk-toggleable__label-arrow:before {content: \"▸\";float: left;margin-right: 0.25em;color: #696969;}#sk-container-id-1 label.sk-toggleable__label-arrow:hover:before {color: black;}#sk-container-id-1 div.sk-estimator:hover label.sk-toggleable__label-arrow:before {color: black;}#sk-container-id-1 div.sk-toggleable__content {max-height: 0;max-width: 0;overflow: hidden;text-align: left;background-color: #f0f8ff;}#sk-container-id-1 div.sk-toggleable__content pre {margin: 0.2em;color: black;border-radius: 0.25em;background-color: #f0f8ff;}#sk-container-id-1 input.sk-toggleable__control:checked~div.sk-toggleable__content {max-height: 200px;max-width: 100%;overflow: auto;}#sk-container-id-1 input.sk-toggleable__control:checked~label.sk-toggleable__label-arrow:before {content: \"▾\";}#sk-container-id-1 div.sk-estimator input.sk-toggleable__control:checked~label.sk-toggleable__label {background-color: #d4ebff;}#sk-container-id-1 div.sk-label input.sk-toggleable__control:checked~label.sk-toggleable__label {background-color: #d4ebff;}#sk-container-id-1 input.sk-hidden--visually {border: 0;clip: rect(1px 1px 1px 1px);clip: rect(1px, 1px, 1px, 1px);height: 1px;margin: -1px;overflow: hidden;padding: 0;position: absolute;width: 1px;}#sk-container-id-1 div.sk-estimator {font-family: monospace;background-color: #f0f8ff;border: 1px dotted black;border-radius: 0.25em;box-sizing: border-box;margin-bottom: 0.5em;}#sk-container-id-1 div.sk-estimator:hover {background-color: #d4ebff;}#sk-container-id-1 div.sk-parallel-item::after {content: \"\";width: 100%;border-bottom: 1px solid gray;flex-grow: 1;}#sk-container-id-1 div.sk-label:hover label.sk-toggleable__label {background-color: #d4ebff;}#sk-container-id-1 div.sk-serial::before {content: \"\";position: absolute;border-left: 1px solid gray;box-sizing: border-box;top: 0;bottom: 0;left: 50%;z-index: 0;}#sk-container-id-1 div.sk-serial {display: flex;flex-direction: column;align-items: center;background-color: white;padding-right: 0.2em;padding-left: 0.2em;position: relative;}#sk-container-id-1 div.sk-item {position: relative;z-index: 1;}#sk-container-id-1 div.sk-parallel {display: flex;align-items: stretch;justify-content: center;background-color: white;position: relative;}#sk-container-id-1 div.sk-item::before, #sk-container-id-1 div.sk-parallel-item::before {content: \"\";position: absolute;border-left: 1px solid gray;box-sizing: border-box;top: 0;bottom: 0;left: 50%;z-index: -1;}#sk-container-id-1 div.sk-parallel-item {display: flex;flex-direction: column;z-index: 1;position: relative;background-color: white;}#sk-container-id-1 div.sk-parallel-item:first-child::after {align-self: flex-end;width: 50%;}#sk-container-id-1 div.sk-parallel-item:last-child::after {align-self: flex-start;width: 50%;}#sk-container-id-1 div.sk-parallel-item:only-child::after {width: 0;}#sk-container-id-1 div.sk-dashed-wrapped {border: 1px dashed gray;margin: 0 0.4em 0.5em 0.4em;box-sizing: border-box;padding-bottom: 0.4em;background-color: white;}#sk-container-id-1 div.sk-label label {font-family: monospace;font-weight: bold;display: inline-block;line-height: 1.2em;}#sk-container-id-1 div.sk-label-container {text-align: center;}#sk-container-id-1 div.sk-container {/* jupyter's `normalize.less` sets `[hidden] { display: none; }` but bootstrap.min.css set `[hidden] { display: none !important; }` so we also need the `!important` here to be able to override the default hidden behavior on the sphinx rendered scikit-learn.org. See: https://github.com/scikit-learn/scikit-learn/issues/21755 */display: inline-block !important;position: relative;}#sk-container-id-1 div.sk-text-repr-fallback {display: none;}</style><div id=\"sk-container-id-1\" class=\"sk-top-container\"><div class=\"sk-text-repr-fallback\"><pre>BalancedRandomForestClassifier(random_state=42)</pre><b>In a Jupyter environment, please rerun this cell to show the HTML representation or trust the notebook. <br />On GitHub, the HTML representation is unable to render, please try loading this page with nbviewer.org.</b></div><div class=\"sk-container\" hidden><div class=\"sk-item\"><div class=\"sk-estimator sk-toggleable\"><input class=\"sk-toggleable__control sk-hidden--visually\" id=\"sk-estimator-id-1\" type=\"checkbox\" checked><label for=\"sk-estimator-id-1\" class=\"sk-toggleable__label sk-toggleable__label-arrow\">BalancedRandomForestClassifier</label><div class=\"sk-toggleable__content\"><pre>BalancedRandomForestClassifier(random_state=42)</pre></div></div></div></div></div>"
      ],
      "text/plain": [
       "BalancedRandomForestClassifier(random_state=42)"
      ]
     },
     "execution_count": 62,
     "metadata": {},
     "output_type": "execute_result"
    }
   ],
   "source": [
    "from imblearn.ensemble import BalancedRandomForestClassifier\n",
    "\n",
    "# Applying BalancedRandomForestClassifier\n",
    "classifier = BalancedRandomForestClassifier(random_state=42)\n",
    "classifier.fit(X_train, y_train)"
   ]
  },
  {
   "cell_type": "code",
   "execution_count": 63,
   "id": "5041e480-6fc3-49fb-9ca4-5ae9a67467e6",
   "metadata": {},
   "outputs": [],
   "source": [
    "y_pred_brf = classifier.predict(X_test)"
   ]
  },
  {
   "cell_type": "code",
   "execution_count": 72,
   "id": "a1a1ae69-6954-4548-a60e-5cb2620a551d",
   "metadata": {},
   "outputs": [
    {
     "name": "stdout",
     "output_type": "stream",
     "text": [
      "Accuracy: 0.78\n",
      "\n",
      "Classification Report:\n",
      "              precision    recall  f1-score   support\n",
      "\n",
      "           0       0.90      0.80      0.85      5082\n",
      "           1       0.53      0.72      0.61      1582\n",
      "\n",
      "    accuracy                           0.78      6664\n",
      "   macro avg       0.72      0.76      0.73      6664\n",
      "weighted avg       0.81      0.78      0.79      6664\n",
      "\n"
     ]
    }
   ],
   "source": [
    "# Print classification report for BalancedRandomForestClassifier data\n",
    "accuracy = accuracy_score(y_test, y_pred_brf)\n",
    "print(f\"Accuracy: {accuracy:.2f}\")\n",
    "classification_rep = classification_report(y_test, y_pred_brf)\n",
    "print(f\"\\nClassification Report:\")\n",
    "print(classification_rep)"
   ]
  },
  {
   "cell_type": "markdown",
   "id": "9d01a851-c8a4-4d48-a59c-4ae866d885f1",
   "metadata": {},
   "source": [
    "### Class Weights"
   ]
  },
  {
   "cell_type": "code",
   "execution_count": 76,
   "id": "abb6805d-1d5b-4d77-8f5e-b4b1c83b59f5",
   "metadata": {},
   "outputs": [
    {
     "name": "stdout",
     "output_type": "stream",
     "text": [
      "Classification Report:\n",
      "              precision    recall  f1-score   support\n",
      "\n",
      "           0       0.90      0.85      0.87      5082\n",
      "           1       0.59      0.70      0.64      1582\n",
      "\n",
      "    accuracy                           0.81      6664\n",
      "   macro avg       0.74      0.77      0.75      6664\n",
      "weighted avg       0.83      0.81      0.82      6664\n",
      "\n",
      "ROC AUC Score: 0.8387565294530012\n"
     ]
    }
   ],
   "source": [
    "# Create a logistic regression model with class weights\n",
    "model = LogisticRegression(class_weight='balanced')\n",
    "\n",
    "# Train the model\n",
    "model.fit(X_train, y_train)\n",
    "\n",
    "# Predict on the test set\n",
    "y_pred = model.predict(X_test)\n",
    "y_proba = classifier.predict_proba(X_test)[:, 1]\n",
    "\n",
    "# Evaluate the model\n",
    "print(\"Classification Report:\")\n",
    "print(classification_report(y_test, y_pred))\n",
    "\n",
    "\n",
    "# Print ROC AUC Score\n",
    "print(\"ROC AUC Score:\", roc_auc_score(y_test, y_proba))"
   ]
  }
 ],
 "metadata": {
  "kernelspec": {
   "display_name": "Python 3 (ipykernel)",
   "language": "python",
   "name": "python3"
  },
  "language_info": {
   "codemirror_mode": {
    "name": "ipython",
    "version": 3
   },
   "file_extension": ".py",
   "mimetype": "text/x-python",
   "name": "python",
   "nbconvert_exporter": "python",
   "pygments_lexer": "ipython3",
   "version": "3.11.7"
  }
 },
 "nbformat": 4,
 "nbformat_minor": 5
}
