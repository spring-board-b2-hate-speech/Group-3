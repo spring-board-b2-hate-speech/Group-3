{
 "cells": [
  {
   "cell_type": "code",
   "execution_count": 1,
   "id": "c504947e-a4c9-4c6e-9d4f-9c3c824ac922",
   "metadata": {},
   "outputs": [],
   "source": [
    "import pandas as pd\n",
    "import numpy as np\n",
    "import matplotlib.pyplot as plt"
   ]
  },
  {
   "cell_type": "code",
   "execution_count": 2,
   "id": "e3d7e42c-5609-4a4e-9955-710db2b3c212",
   "metadata": {
    "scrolled": true
   },
   "outputs": [
    {
     "data": {
      "text/html": [
       "<div>\n",
       "<style scoped>\n",
       "    .dataframe tbody tr th:only-of-type {\n",
       "        vertical-align: middle;\n",
       "    }\n",
       "\n",
       "    .dataframe tbody tr th {\n",
       "        vertical-align: top;\n",
       "    }\n",
       "\n",
       "    .dataframe thead th {\n",
       "        text-align: right;\n",
       "    }\n",
       "</style>\n",
       "<table border=\"1\" class=\"dataframe\">\n",
       "  <thead>\n",
       "    <tr style=\"text-align: right;\">\n",
       "      <th></th>\n",
       "      <th>comment</th>\n",
       "      <th>hate_speech</th>\n",
       "      <th>lemmatized_comment</th>\n",
       "      <th>document_vector_flat</th>\n",
       "    </tr>\n",
       "  </thead>\n",
       "  <tbody>\n",
       "    <tr>\n",
       "      <th>0</th>\n",
       "      <td>subsection retarded hungarians ohh boy brace l...</td>\n",
       "      <td>1</td>\n",
       "      <td>subsection retard hungarians ohh boy brace liv...</td>\n",
       "      <td>0.014043219,-0.01809359,0.017145459,0.08062436...</td>\n",
       "    </tr>\n",
       "    <tr>\n",
       "      <th>1</th>\n",
       "      <td>hiii just got work Foundation and grounding ma...</td>\n",
       "      <td>0</td>\n",
       "      <td>hiii just get work Foundation and ground mainl...</td>\n",
       "      <td>-0.0030388932,-0.035133556,0.020659983,0.07383...</td>\n",
       "    </tr>\n",
       "    <tr>\n",
       "      <th>2</th>\n",
       "      <td>wow guess soyboys every country</td>\n",
       "      <td>0</td>\n",
       "      <td>wow guess soyboys every country</td>\n",
       "      <td>0.017362628,0.005587179,0.0297773,0.109146975,...</td>\n",
       "    </tr>\n",
       "    <tr>\n",
       "      <th>3</th>\n",
       "      <td>owen benjamins soyboy song goes every country ...</td>\n",
       "      <td>0</td>\n",
       "      <td>owen benjamins soyboy song go every country amaze</td>\n",
       "      <td>0.018085241,0.0011954829,2.8959475e-05,0.07601...</td>\n",
       "    </tr>\n",
       "    <tr>\n",
       "      <th>4</th>\n",
       "      <td>yall hear sumn means live small town rn for w...</td>\n",
       "      <td>0</td>\n",
       "      <td>yall hear sumn mean live small town rn for wor...</td>\n",
       "      <td>0.023993038,-0.00060867134,0.005239945,0.05989...</td>\n",
       "    </tr>\n",
       "    <tr>\n",
       "      <th>...</th>\n",
       "      <td>...</td>\n",
       "      <td>...</td>\n",
       "      <td>...</td>\n",
       "      <td>...</td>\n",
       "    </tr>\n",
       "    <tr>\n",
       "      <th>22206</th>\n",
       "      <td>op stop faggot post videos next time hard</td>\n",
       "      <td>1</td>\n",
       "      <td>op stop faggot post videos next time hard</td>\n",
       "      <td>0.08339707,-0.017676119,-0.036872935,0.1038081...</td>\n",
       "    </tr>\n",
       "    <tr>\n",
       "      <th>22207</th>\n",
       "      <td>minute long video top hate champagne goes need...</td>\n",
       "      <td>0</td>\n",
       "      <td>minute long video top hate champagne go need g...</td>\n",
       "      <td>0.009342635,0.02728245,-0.0013451587,0.0765217...</td>\n",
       "    </tr>\n",
       "    <tr>\n",
       "      <th>22208</th>\n",
       "      <td>clue whos ecelebs are point time  need get alo...</td>\n",
       "      <td>1</td>\n",
       "      <td>clue whos ecelebs be point time need get along...</td>\n",
       "      <td>-0.0006810841,0.008315975,0.029024707,0.077029...</td>\n",
       "    </tr>\n",
       "    <tr>\n",
       "      <th>22209</th>\n",
       "      <td>didn’t insult you insult me</td>\n",
       "      <td>0</td>\n",
       "      <td>didn ’ t insult you insult me</td>\n",
       "      <td>0.06474433,-0.17082486,-0.029483724,0.04382453...</td>\n",
       "    </tr>\n",
       "    <tr>\n",
       "      <th>22210</th>\n",
       "      <td>living lie</td>\n",
       "      <td>0</td>\n",
       "      <td>live lie</td>\n",
       "      <td>-0.11396426,0.04755594,-0.07264759,0.08606285,...</td>\n",
       "    </tr>\n",
       "  </tbody>\n",
       "</table>\n",
       "<p>22211 rows × 4 columns</p>\n",
       "</div>"
      ],
      "text/plain": [
       "                                                 comment  hate_speech  \\\n",
       "0      subsection retarded hungarians ohh boy brace l...            1   \n",
       "1      hiii just got work Foundation and grounding ma...            0   \n",
       "2                        wow guess soyboys every country            0   \n",
       "3      owen benjamins soyboy song goes every country ...            0   \n",
       "4       yall hear sumn means live small town rn for w...            0   \n",
       "...                                                  ...          ...   \n",
       "22206          op stop faggot post videos next time hard            1   \n",
       "22207  minute long video top hate champagne goes need...            0   \n",
       "22208  clue whos ecelebs are point time  need get alo...            1   \n",
       "22209                        didn’t insult you insult me            0   \n",
       "22210                                         living lie            0   \n",
       "\n",
       "                                      lemmatized_comment  \\\n",
       "0      subsection retard hungarians ohh boy brace liv...   \n",
       "1      hiii just get work Foundation and ground mainl...   \n",
       "2                        wow guess soyboys every country   \n",
       "3      owen benjamins soyboy song go every country amaze   \n",
       "4      yall hear sumn mean live small town rn for wor...   \n",
       "...                                                  ...   \n",
       "22206          op stop faggot post videos next time hard   \n",
       "22207  minute long video top hate champagne go need g...   \n",
       "22208  clue whos ecelebs be point time need get along...   \n",
       "22209                      didn ’ t insult you insult me   \n",
       "22210                                           live lie   \n",
       "\n",
       "                                    document_vector_flat  \n",
       "0      0.014043219,-0.01809359,0.017145459,0.08062436...  \n",
       "1      -0.0030388932,-0.035133556,0.020659983,0.07383...  \n",
       "2      0.017362628,0.005587179,0.0297773,0.109146975,...  \n",
       "3      0.018085241,0.0011954829,2.8959475e-05,0.07601...  \n",
       "4      0.023993038,-0.00060867134,0.005239945,0.05989...  \n",
       "...                                                  ...  \n",
       "22206  0.08339707,-0.017676119,-0.036872935,0.1038081...  \n",
       "22207  0.009342635,0.02728245,-0.0013451587,0.0765217...  \n",
       "22208  -0.0006810841,0.008315975,0.029024707,0.077029...  \n",
       "22209  0.06474433,-0.17082486,-0.029483724,0.04382453...  \n",
       "22210  -0.11396426,0.04755594,-0.07264759,0.08606285,...  \n",
       "\n",
       "[22211 rows x 4 columns]"
      ]
     },
     "execution_count": 2,
     "metadata": {},
     "output_type": "execute_result"
    }
   ],
   "source": [
    "df=pd.read_csv('Reddit_Encoded.csv')\n",
    "df"
   ]
  },
  {
   "cell_type": "code",
   "execution_count": 6,
   "id": "a23b39e5-c564-4645-999d-ca0a26b10973",
   "metadata": {},
   "outputs": [],
   "source": [
    "df['fasttext_vec']=df['document_vector_flat'].apply(lambda x:np.fromstring(x.strip('[]'),sep=','))\n",
    "X=np.vstack(df['fasttext_vec'].values)\n",
    "y=df['hate_speech']"
   ]
  },
  {
   "cell_type": "code",
   "execution_count": 7,
   "id": "a37eebf8-7322-44a0-8718-c267c3c9802e",
   "metadata": {},
   "outputs": [],
   "source": [
    "from sklearn.model_selection import train_test_split\n",
    "X_train,X_test,y_train,y_test=train_test_split(X,y,test_size=0.2,random_state=42,stratify=y)"
   ]
  },
  {
   "cell_type": "code",
   "execution_count": 8,
   "id": "12abf708-bc9f-4448-93a6-84c25852f266",
   "metadata": {},
   "outputs": [
    {
     "data": {
      "text/plain": [
       "0    13539\n",
       "1    13539\n",
       "Name: hate_speech, dtype: int64"
      ]
     },
     "execution_count": 8,
     "metadata": {},
     "output_type": "execute_result"
    }
   ],
   "source": [
    "from imblearn.over_sampling import SMOTE\n",
    "\n",
    "smote = SMOTE(sampling_strategy='minority',random_state=42)\n",
    "X_sm, y_sm = smote.fit_resample(X_train,y_train)\n",
    "y_sm.value_counts()"
   ]
  },
  {
   "cell_type": "code",
   "execution_count": 9,
   "id": "f8c4ad89-0433-496a-9927-5d235c7982c0",
   "metadata": {},
   "outputs": [],
   "source": [
    "from sklearn.metrics import classification_report,confusion_matrix,accuracy_score,precision_score,recall_score,f1_score\n",
    "from sklearn.model_selection import cross_val_score"
   ]
  },
  {
   "cell_type": "code",
   "execution_count": 12,
   "id": "fa7433bf-4d1c-4451-83bd-3a7e5c8c9720",
   "metadata": {},
   "outputs": [],
   "source": [
    "from sklearn.svm import SVC"
   ]
  },
  {
   "cell_type": "code",
   "execution_count": 13,
   "id": "4d43e398-a480-4465-89d9-93c3a91552ae",
   "metadata": {},
   "outputs": [
    {
     "data": {
      "text/html": [
       "<style>#sk-container-id-1 {color: black;background-color: white;}#sk-container-id-1 pre{padding: 0;}#sk-container-id-1 div.sk-toggleable {background-color: white;}#sk-container-id-1 label.sk-toggleable__label {cursor: pointer;display: block;width: 100%;margin-bottom: 0;padding: 0.3em;box-sizing: border-box;text-align: center;}#sk-container-id-1 label.sk-toggleable__label-arrow:before {content: \"▸\";float: left;margin-right: 0.25em;color: #696969;}#sk-container-id-1 label.sk-toggleable__label-arrow:hover:before {color: black;}#sk-container-id-1 div.sk-estimator:hover label.sk-toggleable__label-arrow:before {color: black;}#sk-container-id-1 div.sk-toggleable__content {max-height: 0;max-width: 0;overflow: hidden;text-align: left;background-color: #f0f8ff;}#sk-container-id-1 div.sk-toggleable__content pre {margin: 0.2em;color: black;border-radius: 0.25em;background-color: #f0f8ff;}#sk-container-id-1 input.sk-toggleable__control:checked~div.sk-toggleable__content {max-height: 200px;max-width: 100%;overflow: auto;}#sk-container-id-1 input.sk-toggleable__control:checked~label.sk-toggleable__label-arrow:before {content: \"▾\";}#sk-container-id-1 div.sk-estimator input.sk-toggleable__control:checked~label.sk-toggleable__label {background-color: #d4ebff;}#sk-container-id-1 div.sk-label input.sk-toggleable__control:checked~label.sk-toggleable__label {background-color: #d4ebff;}#sk-container-id-1 input.sk-hidden--visually {border: 0;clip: rect(1px 1px 1px 1px);clip: rect(1px, 1px, 1px, 1px);height: 1px;margin: -1px;overflow: hidden;padding: 0;position: absolute;width: 1px;}#sk-container-id-1 div.sk-estimator {font-family: monospace;background-color: #f0f8ff;border: 1px dotted black;border-radius: 0.25em;box-sizing: border-box;margin-bottom: 0.5em;}#sk-container-id-1 div.sk-estimator:hover {background-color: #d4ebff;}#sk-container-id-1 div.sk-parallel-item::after {content: \"\";width: 100%;border-bottom: 1px solid gray;flex-grow: 1;}#sk-container-id-1 div.sk-label:hover label.sk-toggleable__label {background-color: #d4ebff;}#sk-container-id-1 div.sk-serial::before {content: \"\";position: absolute;border-left: 1px solid gray;box-sizing: border-box;top: 0;bottom: 0;left: 50%;z-index: 0;}#sk-container-id-1 div.sk-serial {display: flex;flex-direction: column;align-items: center;background-color: white;padding-right: 0.2em;padding-left: 0.2em;position: relative;}#sk-container-id-1 div.sk-item {position: relative;z-index: 1;}#sk-container-id-1 div.sk-parallel {display: flex;align-items: stretch;justify-content: center;background-color: white;position: relative;}#sk-container-id-1 div.sk-item::before, #sk-container-id-1 div.sk-parallel-item::before {content: \"\";position: absolute;border-left: 1px solid gray;box-sizing: border-box;top: 0;bottom: 0;left: 50%;z-index: -1;}#sk-container-id-1 div.sk-parallel-item {display: flex;flex-direction: column;z-index: 1;position: relative;background-color: white;}#sk-container-id-1 div.sk-parallel-item:first-child::after {align-self: flex-end;width: 50%;}#sk-container-id-1 div.sk-parallel-item:last-child::after {align-self: flex-start;width: 50%;}#sk-container-id-1 div.sk-parallel-item:only-child::after {width: 0;}#sk-container-id-1 div.sk-dashed-wrapped {border: 1px dashed gray;margin: 0 0.4em 0.5em 0.4em;box-sizing: border-box;padding-bottom: 0.4em;background-color: white;}#sk-container-id-1 div.sk-label label {font-family: monospace;font-weight: bold;display: inline-block;line-height: 1.2em;}#sk-container-id-1 div.sk-label-container {text-align: center;}#sk-container-id-1 div.sk-container {/* jupyter's `normalize.less` sets `[hidden] { display: none; }` but bootstrap.min.css set `[hidden] { display: none !important; }` so we also need the `!important` here to be able to override the default hidden behavior on the sphinx rendered scikit-learn.org. See: https://github.com/scikit-learn/scikit-learn/issues/21755 */display: inline-block !important;position: relative;}#sk-container-id-1 div.sk-text-repr-fallback {display: none;}</style><div id=\"sk-container-id-1\" class=\"sk-top-container\"><div class=\"sk-text-repr-fallback\"><pre>SVC(degree=5, kernel=&#x27;poly&#x27;, random_state=42)</pre><b>In a Jupyter environment, please rerun this cell to show the HTML representation or trust the notebook. <br />On GitHub, the HTML representation is unable to render, please try loading this page with nbviewer.org.</b></div><div class=\"sk-container\" hidden><div class=\"sk-item\"><div class=\"sk-estimator sk-toggleable\"><input class=\"sk-toggleable__control sk-hidden--visually\" id=\"sk-estimator-id-1\" type=\"checkbox\" checked><label for=\"sk-estimator-id-1\" class=\"sk-toggleable__label sk-toggleable__label-arrow\">SVC</label><div class=\"sk-toggleable__content\"><pre>SVC(degree=5, kernel=&#x27;poly&#x27;, random_state=42)</pre></div></div></div></div></div>"
      ],
      "text/plain": [
       "SVC(degree=5, kernel='poly', random_state=42)"
      ]
     },
     "execution_count": 13,
     "metadata": {},
     "output_type": "execute_result"
    }
   ],
   "source": [
    "# Create a non-linear kernel SVM classifier\n",
    "svm = SVC(kernel='poly',degree=5, random_state=42)\n",
    "svm.fit(X_sm, y_sm)"
   ]
  },
  {
   "cell_type": "code",
   "execution_count": 16,
   "id": "0024fdf5-afee-485a-bd7e-1f670d1eb018",
   "metadata": {},
   "outputs": [],
   "source": [
    "y_pred_svm=svm.predict(X_test)"
   ]
  },
  {
   "cell_type": "code",
   "execution_count": 17,
   "id": "954d66a7-5fa6-4ef2-a69d-de335721b9c2",
   "metadata": {},
   "outputs": [
    {
     "name": "stdout",
     "output_type": "stream",
     "text": [
      "Support Vector Machine Performance:\n",
      "Confusion Matrix:\n",
      " [[3009  377]\n",
      " [ 400  657]]\n",
      "              precision    recall  f1-score   support\n",
      "\n",
      "           0       0.88      0.89      0.89      3386\n",
      "           1       0.64      0.62      0.63      1057\n",
      "\n",
      "    accuracy                           0.83      4443\n",
      "   macro avg       0.76      0.76      0.76      4443\n",
      "weighted avg       0.82      0.83      0.82      4443\n",
      "\n"
     ]
    }
   ],
   "source": [
    "print(\"Support Vector Machine Performance:\")\n",
    "print(\"Confusion Matrix:\\n\", confusion_matrix(y_test, y_pred_svm))\n",
    "print(classification_report(y_test, y_pred_svm))"
   ]
  },
  {
   "cell_type": "code",
   "execution_count": 19,
   "id": "eee06be1-6237-4ac5-bb46-31910fa3312a",
   "metadata": {},
   "outputs": [
    {
     "name": "stdout",
     "output_type": "stream",
     "text": [
      "Accuracy:0.83\n",
      "precision:0.64\n",
      "recall:0.62\n",
      "f1:0.63\n"
     ]
    }
   ],
   "source": [
    "accuracy=accuracy_score(y_test,y_pred_svm)\n",
    "precision=precision_score(y_test,y_pred_svm)\n",
    "recall=recall_score(y_test,y_pred_svm)\n",
    "f1=f1_score(y_test,y_pred_svm)\n",
    "print(f\"Accuracy:{accuracy:.2f}\")\n",
    "print(f\"precision:{precision:.2f}\")\n",
    "print(f\"recall:{recall:.2f}\")\n",
    "print(f\"f1:{f1:.2f}\")"
   ]
  },
  {
   "cell_type": "code",
   "execution_count": 10,
   "id": "d3bbd0e1-f890-4518-981f-8b5f59296804",
   "metadata": {},
   "outputs": [],
   "source": [
    "from sklearn.model_selection import GridSearchCV\n",
    "from sklearn.model_selection import RandomizedSearchCV "
   ]
  },
  {
   "cell_type": "code",
   "execution_count": 4,
   "id": "8eb6bf45-7b3a-4d4e-97c8-a4dfdc97f81e",
   "metadata": {},
   "outputs": [],
   "source": [
    "# defining parameter range \n",
    "param_grid = {'C': [0.1, 1, 10, 100, 1000],  \n",
    "              'gamma': [1, 0.1, 0.01, 0.001, 0.0001,'scale'], \n",
    "              'kernel': ['rbf','linear','poly']}  "
   ]
  },
  {
   "cell_type": "code",
   "execution_count": 23,
   "id": "72c083b0-9c7b-4af3-a5cf-f41b726d5b0a",
   "metadata": {},
   "outputs": [],
   "source": [
    "svm_r=SVC()"
   ]
  },
  {
   "cell_type": "code",
   "execution_count": 24,
   "id": "448e2247-caf4-4240-99c5-c0ec5a05cb25",
   "metadata": {},
   "outputs": [
    {
     "name": "stdout",
     "output_type": "stream",
     "text": [
      "SVC(C=10)\n"
     ]
    }
   ],
   "source": [
    "random_search = RandomizedSearchCV(svm_r,\n",
    "                                   param_grid) \n",
    "random_search.fit(X_train, y_train) \n",
    "print(random_search.best_estimator_)"
   ]
  },
  {
   "cell_type": "code",
   "execution_count": 25,
   "id": "11b12d5c-8f7d-4c11-9d3e-abbcaa48306d",
   "metadata": {
    "scrolled": true
   },
   "outputs": [
    {
     "name": "stdout",
     "output_type": "stream",
     "text": [
      "{'kernel': 'rbf', 'gamma': 'scale', 'C': 10}\n"
     ]
    }
   ],
   "source": [
    "print(random_search.best_params_)"
   ]
  },
  {
   "cell_type": "code",
   "execution_count": 29,
   "id": "eb84a2a3-a31e-478a-9886-c18e49375784",
   "metadata": {},
   "outputs": [],
   "source": [
    "svm = SVC(C=10,kernel='rbf',degree=5,gamma='scale',random_state=42)"
   ]
  },
  {
   "cell_type": "code",
   "execution_count": 30,
   "id": "936b5df3-1c79-4da4-b7e4-6bc45342f5ef",
   "metadata": {},
   "outputs": [
    {
     "data": {
      "text/html": [
       "<style>#sk-container-id-2 {color: black;background-color: white;}#sk-container-id-2 pre{padding: 0;}#sk-container-id-2 div.sk-toggleable {background-color: white;}#sk-container-id-2 label.sk-toggleable__label {cursor: pointer;display: block;width: 100%;margin-bottom: 0;padding: 0.3em;box-sizing: border-box;text-align: center;}#sk-container-id-2 label.sk-toggleable__label-arrow:before {content: \"▸\";float: left;margin-right: 0.25em;color: #696969;}#sk-container-id-2 label.sk-toggleable__label-arrow:hover:before {color: black;}#sk-container-id-2 div.sk-estimator:hover label.sk-toggleable__label-arrow:before {color: black;}#sk-container-id-2 div.sk-toggleable__content {max-height: 0;max-width: 0;overflow: hidden;text-align: left;background-color: #f0f8ff;}#sk-container-id-2 div.sk-toggleable__content pre {margin: 0.2em;color: black;border-radius: 0.25em;background-color: #f0f8ff;}#sk-container-id-2 input.sk-toggleable__control:checked~div.sk-toggleable__content {max-height: 200px;max-width: 100%;overflow: auto;}#sk-container-id-2 input.sk-toggleable__control:checked~label.sk-toggleable__label-arrow:before {content: \"▾\";}#sk-container-id-2 div.sk-estimator input.sk-toggleable__control:checked~label.sk-toggleable__label {background-color: #d4ebff;}#sk-container-id-2 div.sk-label input.sk-toggleable__control:checked~label.sk-toggleable__label {background-color: #d4ebff;}#sk-container-id-2 input.sk-hidden--visually {border: 0;clip: rect(1px 1px 1px 1px);clip: rect(1px, 1px, 1px, 1px);height: 1px;margin: -1px;overflow: hidden;padding: 0;position: absolute;width: 1px;}#sk-container-id-2 div.sk-estimator {font-family: monospace;background-color: #f0f8ff;border: 1px dotted black;border-radius: 0.25em;box-sizing: border-box;margin-bottom: 0.5em;}#sk-container-id-2 div.sk-estimator:hover {background-color: #d4ebff;}#sk-container-id-2 div.sk-parallel-item::after {content: \"\";width: 100%;border-bottom: 1px solid gray;flex-grow: 1;}#sk-container-id-2 div.sk-label:hover label.sk-toggleable__label {background-color: #d4ebff;}#sk-container-id-2 div.sk-serial::before {content: \"\";position: absolute;border-left: 1px solid gray;box-sizing: border-box;top: 0;bottom: 0;left: 50%;z-index: 0;}#sk-container-id-2 div.sk-serial {display: flex;flex-direction: column;align-items: center;background-color: white;padding-right: 0.2em;padding-left: 0.2em;position: relative;}#sk-container-id-2 div.sk-item {position: relative;z-index: 1;}#sk-container-id-2 div.sk-parallel {display: flex;align-items: stretch;justify-content: center;background-color: white;position: relative;}#sk-container-id-2 div.sk-item::before, #sk-container-id-2 div.sk-parallel-item::before {content: \"\";position: absolute;border-left: 1px solid gray;box-sizing: border-box;top: 0;bottom: 0;left: 50%;z-index: -1;}#sk-container-id-2 div.sk-parallel-item {display: flex;flex-direction: column;z-index: 1;position: relative;background-color: white;}#sk-container-id-2 div.sk-parallel-item:first-child::after {align-self: flex-end;width: 50%;}#sk-container-id-2 div.sk-parallel-item:last-child::after {align-self: flex-start;width: 50%;}#sk-container-id-2 div.sk-parallel-item:only-child::after {width: 0;}#sk-container-id-2 div.sk-dashed-wrapped {border: 1px dashed gray;margin: 0 0.4em 0.5em 0.4em;box-sizing: border-box;padding-bottom: 0.4em;background-color: white;}#sk-container-id-2 div.sk-label label {font-family: monospace;font-weight: bold;display: inline-block;line-height: 1.2em;}#sk-container-id-2 div.sk-label-container {text-align: center;}#sk-container-id-2 div.sk-container {/* jupyter's `normalize.less` sets `[hidden] { display: none; }` but bootstrap.min.css set `[hidden] { display: none !important; }` so we also need the `!important` here to be able to override the default hidden behavior on the sphinx rendered scikit-learn.org. See: https://github.com/scikit-learn/scikit-learn/issues/21755 */display: inline-block !important;position: relative;}#sk-container-id-2 div.sk-text-repr-fallback {display: none;}</style><div id=\"sk-container-id-2\" class=\"sk-top-container\"><div class=\"sk-text-repr-fallback\"><pre>SVC(C=10, degree=5, random_state=42)</pre><b>In a Jupyter environment, please rerun this cell to show the HTML representation or trust the notebook. <br />On GitHub, the HTML representation is unable to render, please try loading this page with nbviewer.org.</b></div><div class=\"sk-container\" hidden><div class=\"sk-item\"><div class=\"sk-estimator sk-toggleable\"><input class=\"sk-toggleable__control sk-hidden--visually\" id=\"sk-estimator-id-2\" type=\"checkbox\" checked><label for=\"sk-estimator-id-2\" class=\"sk-toggleable__label sk-toggleable__label-arrow\">SVC</label><div class=\"sk-toggleable__content\"><pre>SVC(C=10, degree=5, random_state=42)</pre></div></div></div></div></div>"
      ],
      "text/plain": [
       "SVC(C=10, degree=5, random_state=42)"
      ]
     },
     "execution_count": 30,
     "metadata": {},
     "output_type": "execute_result"
    }
   ],
   "source": [
    "svm.fit(X_sm, y_sm)"
   ]
  },
  {
   "cell_type": "code",
   "execution_count": 31,
   "id": "30c47da8-6783-4b30-b2ed-46706d0d0040",
   "metadata": {},
   "outputs": [],
   "source": [
    "y_pred_svm=svm.predict(X_test)"
   ]
  },
  {
   "cell_type": "code",
   "execution_count": 32,
   "id": "eca4a42d-e80b-49b6-bab2-a49e97e4aa79",
   "metadata": {},
   "outputs": [
    {
     "name": "stdout",
     "output_type": "stream",
     "text": [
      "Support Vector Machine Performance:\n",
      "Confusion Matrix:\n",
      " [[2924  462]\n",
      " [ 276  781]]\n",
      "              precision    recall  f1-score   support\n",
      "\n",
      "           0       0.91      0.86      0.89      3386\n",
      "           1       0.63      0.74      0.68      1057\n",
      "\n",
      "    accuracy                           0.83      4443\n",
      "   macro avg       0.77      0.80      0.78      4443\n",
      "weighted avg       0.85      0.83      0.84      4443\n",
      "\n"
     ]
    }
   ],
   "source": [
    "print(\"Support Vector Machine Performance:\")\n",
    "print(\"Confusion Matrix:\\n\", confusion_matrix(y_test, y_pred_svm))\n",
    "print(classification_report(y_test, y_pred_svm))"
   ]
  },
  {
   "cell_type": "code",
   "execution_count": 33,
   "id": "53c22f58-c6ed-46dd-af7f-83070aa8550b",
   "metadata": {},
   "outputs": [
    {
     "name": "stdout",
     "output_type": "stream",
     "text": [
      "Accuracy:0.83\n",
      "precision:0.63\n",
      "recall:0.74\n",
      "f1:0.68\n"
     ]
    }
   ],
   "source": [
    "accuracy=accuracy_score(y_test,y_pred_svm)\n",
    "precision=precision_score(y_test,y_pred_svm)\n",
    "recall=recall_score(y_test,y_pred_svm)\n",
    "f1=f1_score(y_test,y_pred_svm)\n",
    "print(f\"Accuracy:{accuracy:.2f}\")\n",
    "print(f\"precision:{precision:.2f}\")\n",
    "print(f\"recall:{recall:.2f}\")\n",
    "print(f\"f1:{f1:.2f}\")"
   ]
  }
 ],
 "metadata": {
  "kernelspec": {
   "display_name": "Python 3 (ipykernel)",
   "language": "python",
   "name": "python3"
  },
  "language_info": {
   "codemirror_mode": {
    "name": "ipython",
    "version": 3
   },
   "file_extension": ".py",
   "mimetype": "text/x-python",
   "name": "python",
   "nbconvert_exporter": "python",
   "pygments_lexer": "ipython3",
   "version": "3.11.7"
  }
 },
 "nbformat": 4,
 "nbformat_minor": 5
}
