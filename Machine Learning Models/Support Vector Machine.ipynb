{
 "cells": [
  {
   "cell_type": "code",
   "execution_count": 1,
   "id": "bbd694e6",
   "metadata": {
    "scrolled": false
   },
   "outputs": [],
   "source": [
    "import pandas as pd\n",
    "import numpy as np\n",
    "from sklearn.model_selection import train_test_split\n",
    "from imblearn.over_sampling import SMOTE\n",
    "from sklearn.svm import SVC\n",
    "from sklearn.metrics import accuracy_score, precision_score, recall_score, f1_score\n",
    "from sklearn.metrics import classification_report"
   ]
  },
  {
   "cell_type": "code",
   "execution_count": 2,
   "id": "925fbcac",
   "metadata": {
    "scrolled": true
   },
   "outputs": [
    {
     "name": "stdout",
     "output_type": "stream",
     "text": [
      "                                             comment  hate_speech  \\\n",
      "0  subsection retarded hungarians ohh boy brace l...            1   \n",
      "1  hiii just got work Foundation and grounding ma...            0   \n",
      "2                    wow guess soyboys every country            0   \n",
      "3  owen benjamins soyboy song goes every country ...            0   \n",
      "4   yall hear sumn means live small town rn for w...            0   \n",
      "\n",
      "                                  lemmatized_comment  \\\n",
      "0  subsection retard hungarians ohh boy brace liv...   \n",
      "1  hiii just get work Foundation and ground mainl...   \n",
      "2                    wow guess soyboys every country   \n",
      "3  owen benjamins soyboy song go every country amaze   \n",
      "4  yall hear sumn mean live small town rn for wor...   \n",
      "\n",
      "                                document_vector_flat  \n",
      "0  0.014043219,-0.01809359,0.017145459,0.08062436...  \n",
      "1  -0.0030388932,-0.035133556,0.020659983,0.07383...  \n",
      "2  0.017362628,0.005587179,0.0297773,0.109146975,...  \n",
      "3  0.018085241,0.0011954829,2.8959475e-05,0.07601...  \n",
      "4  0.023993038,-0.00060867134,0.005239945,0.05989...  \n"
     ]
    }
   ],
   "source": [
    "df = pd.read_csv('/Users/CRYPTO/Infosys Internship - Hate Speech Detection/Tokenization & Encoding/Reddit_Encoded.csv')\n",
    "print(df.head())"
   ]
  },
  {
   "cell_type": "code",
   "execution_count": 3,
   "id": "83e2ba5d",
   "metadata": {},
   "outputs": [
    {
     "name": "stdout",
     "output_type": "stream",
     "text": [
      "0    [0.014043219, -0.01809359, 0.017145459, 0.0806...\n",
      "1    [-0.0030388932, -0.035133556, 0.020659983, 0.0...\n",
      "2    [0.017362628, 0.005587179, 0.0297773, 0.109146...\n",
      "3    [0.018085241, 0.0011954829, 2.8959475e-05, 0.0...\n",
      "4    [0.023993038, -0.00060867134, 0.005239945, 0.0...\n",
      "Name: document_vector, dtype: object\n"
     ]
    }
   ],
   "source": [
    "# Convert the document vectors from their string representation back into numerical form\n",
    "df['document_vector'] = df['document_vector_flat'].apply(lambda x: np.fromstring(x, sep=','))\n",
    "print(df['document_vector'].head())"
   ]
  },
  {
   "cell_type": "code",
   "execution_count": 4,
   "id": "465120aa",
   "metadata": {},
   "outputs": [],
   "source": [
    "# Extract features (document vectors) and labels (binary hate speech)\n",
    "X = np.array(df['document_vector'].tolist())\n",
    "y = df['hate_speech']\n",
    "\n",
    "# Split the data into training and testing sets\n",
    "X_train, X_test, y_train, y_test = train_test_split(X, y, test_size=0.2, random_state=42)"
   ]
  },
  {
   "cell_type": "markdown",
   "id": "ee470b9d",
   "metadata": {},
   "source": [
    "### Apply SMOTE on the training data"
   ]
  },
  {
   "cell_type": "code",
   "execution_count": 5,
   "id": "ac7af44e",
   "metadata": {},
   "outputs": [],
   "source": [
    "smote = SMOTE(random_state=42)\n",
    "X_train_resampled, y_train_resampled = smote.fit_resample(X_train, y_train)"
   ]
  },
  {
   "cell_type": "markdown",
   "id": "c7845a6f",
   "metadata": {},
   "source": [
    "### SVM with linear kernal"
   ]
  },
  {
   "cell_type": "code",
   "execution_count": 6,
   "id": "7e6c91db",
   "metadata": {},
   "outputs": [],
   "source": [
    "model = SVC(kernel='linear', random_state=42)"
   ]
  },
  {
   "cell_type": "code",
   "execution_count": 7,
   "id": "55c47898",
   "metadata": {},
   "outputs": [],
   "source": [
    "# Train the model\n",
    "model.fit(X_train_resampled, y_train_resampled)\n",
    "y_pred = model.predict(X_test)"
   ]
  },
  {
   "cell_type": "code",
   "execution_count": 8,
   "id": "a4835b23",
   "metadata": {},
   "outputs": [
    {
     "name": "stdout",
     "output_type": "stream",
     "text": [
      "Accuracy: 0.81\n",
      "Precision: 0.59\n",
      "Recall: 0.73\n",
      "F1-Score: 0.65\n"
     ]
    }
   ],
   "source": [
    "# Evaluate the model\n",
    "accuracy = accuracy_score(y_test, y_pred)\n",
    "precision = precision_score(y_test, y_pred)\n",
    "recall = recall_score(y_test, y_pred)\n",
    "f1 = f1_score(y_test, y_pred)\n",
    "\n",
    "print(f\"Accuracy: {accuracy:.2f}\")\n",
    "print(f\"Precision: {precision:.2f}\")\n",
    "print(f\"Recall: {recall:.2f}\")\n",
    "print(f\"F1-Score: {f1:.2f}\")"
   ]
  },
  {
   "cell_type": "code",
   "execution_count": 9,
   "id": "0463fb1d",
   "metadata": {
    "scrolled": true
   },
   "outputs": [
    {
     "name": "stdout",
     "output_type": "stream",
     "text": [
      "              precision    recall  f1-score   support\n",
      "\n",
      "           0       0.91      0.84      0.87      3369\n",
      "           1       0.59      0.73      0.65      1074\n",
      "\n",
      "    accuracy                           0.81      4443\n",
      "   macro avg       0.75      0.78      0.76      4443\n",
      "weighted avg       0.83      0.81      0.82      4443\n",
      "\n"
     ]
    }
   ],
   "source": [
    "print(classification_report(y_test, y_pred))"
   ]
  },
  {
   "cell_type": "markdown",
   "id": "6aba1e90",
   "metadata": {},
   "source": [
    "### SVM with RBF Kernal"
   ]
  },
  {
   "cell_type": "code",
   "execution_count": 10,
   "id": "ea826d8e",
   "metadata": {},
   "outputs": [],
   "source": [
    "model = SVC(kernel='rbf', gamma='scale', random_state=42)"
   ]
  },
  {
   "cell_type": "code",
   "execution_count": 11,
   "id": "807c4082",
   "metadata": {},
   "outputs": [],
   "source": [
    "# Train the model\n",
    "model.fit(X_train_resampled, y_train_resampled)\n",
    "y_pred = model.predict(X_test)"
   ]
  },
  {
   "cell_type": "code",
   "execution_count": 12,
   "id": "60ed4da4",
   "metadata": {},
   "outputs": [
    {
     "name": "stdout",
     "output_type": "stream",
     "text": [
      "Accuracy: 0.83\n",
      "Precision: 0.61\n",
      "Recall: 0.79\n",
      "F1-Score: 0.69\n"
     ]
    }
   ],
   "source": [
    "# Evaluate the model\n",
    "accuracy = accuracy_score(y_test, y_pred)\n",
    "precision = precision_score(y_test, y_pred)\n",
    "recall = recall_score(y_test, y_pred)\n",
    "f1 = f1_score(y_test, y_pred)\n",
    "\n",
    "print(f\"Accuracy: {accuracy:.2f}\")\n",
    "print(f\"Precision: {precision:.2f}\")\n",
    "print(f\"Recall: {recall:.2f}\")\n",
    "print(f\"F1-Score: {f1:.2f}\")"
   ]
  },
  {
   "cell_type": "code",
   "execution_count": 13,
   "id": "8f1cfa79",
   "metadata": {},
   "outputs": [
    {
     "name": "stdout",
     "output_type": "stream",
     "text": [
      "              precision    recall  f1-score   support\n",
      "\n",
      "           0       0.93      0.84      0.88      3369\n",
      "           1       0.61      0.79      0.69      1074\n",
      "\n",
      "    accuracy                           0.83      4443\n",
      "   macro avg       0.77      0.81      0.78      4443\n",
      "weighted avg       0.85      0.83      0.83      4443\n",
      "\n"
     ]
    }
   ],
   "source": [
    "print(classification_report(y_test, y_pred))"
   ]
  },
  {
   "cell_type": "markdown",
   "id": "4ac6ceb6",
   "metadata": {},
   "source": [
    "### SVM with polynomial kernal"
   ]
  },
  {
   "cell_type": "code",
   "execution_count": 18,
   "id": "0a62102a",
   "metadata": {},
   "outputs": [],
   "source": [
    "model = SVC(kernel='poly', degree=3, random_state=42)"
   ]
  },
  {
   "cell_type": "code",
   "execution_count": 19,
   "id": "c3a894a5",
   "metadata": {},
   "outputs": [],
   "source": [
    "# Train the model\n",
    "model.fit(X_train_resampled, y_train_resampled)\n",
    "y_pred = model.predict(X_test)"
   ]
  },
  {
   "cell_type": "code",
   "execution_count": 20,
   "id": "3fba9467",
   "metadata": {},
   "outputs": [
    {
     "name": "stdout",
     "output_type": "stream",
     "text": [
      "Accuracy: 0.83\n",
      "Precision: 0.62\n",
      "Recall: 0.77\n",
      "F1-Score: 0.69\n"
     ]
    }
   ],
   "source": [
    "# Evaluate the model\n",
    "accuracy = accuracy_score(y_test, y_pred)\n",
    "precision = precision_score(y_test, y_pred)\n",
    "recall = recall_score(y_test, y_pred)\n",
    "f1 = f1_score(y_test, y_pred)\n",
    "\n",
    "print(f\"Accuracy: {accuracy:.2f}\")\n",
    "print(f\"Precision: {precision:.2f}\")\n",
    "print(f\"Recall: {recall:.2f}\")\n",
    "print(f\"F1-Score: {f1:.2f}\")"
   ]
  },
  {
   "cell_type": "code",
   "execution_count": 21,
   "id": "2b4a01e0",
   "metadata": {},
   "outputs": [
    {
     "name": "stdout",
     "output_type": "stream",
     "text": [
      "              precision    recall  f1-score   support\n",
      "\n",
      "           0       0.92      0.85      0.88      3369\n",
      "           1       0.62      0.77      0.69      1074\n",
      "\n",
      "    accuracy                           0.83      4443\n",
      "   macro avg       0.77      0.81      0.79      4443\n",
      "weighted avg       0.85      0.83      0.84      4443\n",
      "\n"
     ]
    }
   ],
   "source": [
    "print(classification_report(y_test, y_pred))"
   ]
  },
  {
   "cell_type": "markdown",
   "id": "76c77052",
   "metadata": {},
   "source": [
    "### SVM with sigmoid kernal"
   ]
  },
  {
   "cell_type": "code",
   "execution_count": 22,
   "id": "bd666044",
   "metadata": {},
   "outputs": [],
   "source": [
    "model = SVC(kernel='sigmoid', degree=3, random_state=42)"
   ]
  },
  {
   "cell_type": "code",
   "execution_count": 23,
   "id": "f652bcf0",
   "metadata": {},
   "outputs": [],
   "source": [
    "# Train the model\n",
    "model.fit(X_train_resampled, y_train_resampled)\n",
    "y_pred = model.predict(X_test)"
   ]
  },
  {
   "cell_type": "code",
   "execution_count": 24,
   "id": "1cf859ae",
   "metadata": {},
   "outputs": [
    {
     "name": "stdout",
     "output_type": "stream",
     "text": [
      "Accuracy: 0.66\n",
      "Precision: 0.37\n",
      "Recall: 0.64\n",
      "F1-Score: 0.47\n"
     ]
    }
   ],
   "source": [
    "# Evaluate the model\n",
    "accuracy = accuracy_score(y_test, y_pred)\n",
    "precision = precision_score(y_test, y_pred)\n",
    "recall = recall_score(y_test, y_pred)\n",
    "f1 = f1_score(y_test, y_pred)\n",
    "\n",
    "print(f\"Accuracy: {accuracy:.2f}\")\n",
    "print(f\"Precision: {precision:.2f}\")\n",
    "print(f\"Recall: {recall:.2f}\")\n",
    "print(f\"F1-Score: {f1:.2f}\")"
   ]
  },
  {
   "cell_type": "code",
   "execution_count": 25,
   "id": "c8779efe",
   "metadata": {},
   "outputs": [
    {
     "name": "stdout",
     "output_type": "stream",
     "text": [
      "              precision    recall  f1-score   support\n",
      "\n",
      "           0       0.85      0.66      0.74      3369\n",
      "           1       0.37      0.64      0.47      1074\n",
      "\n",
      "    accuracy                           0.66      4443\n",
      "   macro avg       0.61      0.65      0.61      4443\n",
      "weighted avg       0.74      0.66      0.68      4443\n",
      "\n"
     ]
    }
   ],
   "source": [
    "print(classification_report(y_test, y_pred))"
   ]
  }
 ],
 "metadata": {
  "kernelspec": {
   "display_name": "Python 3 (ipykernel)",
   "language": "python",
   "name": "python3"
  },
  "language_info": {
   "codemirror_mode": {
    "name": "ipython",
    "version": 3
   },
   "file_extension": ".py",
   "mimetype": "text/x-python",
   "name": "python",
   "nbconvert_exporter": "python",
   "pygments_lexer": "ipython3",
   "version": "3.11.0"
  }
 },
 "nbformat": 4,
 "nbformat_minor": 5
}
