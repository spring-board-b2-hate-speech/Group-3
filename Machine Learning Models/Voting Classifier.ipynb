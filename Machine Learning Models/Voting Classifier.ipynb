{
 "cells": [
  {
   "cell_type": "code",
   "execution_count": 1,
   "id": "c317ad5f",
   "metadata": {},
   "outputs": [],
   "source": [
    "import pandas as pd\n",
    "import numpy as np\n",
    "from sklearn.model_selection import train_test_split\n",
    "from imblearn.over_sampling import SMOTE\n",
    "from sklearn.ensemble import VotingClassifier\n",
    "from sklearn.linear_model import LogisticRegression\n",
    "from sklearn.svm import SVC\n",
    "from sklearn.naive_bayes import GaussianNB\n",
    "from sklearn.metrics import accuracy_score, precision_score, recall_score, f1_score\n",
    "from sklearn.metrics import classification_report"
   ]
  },
  {
   "cell_type": "code",
   "execution_count": 2,
   "id": "f096b805",
   "metadata": {
    "scrolled": true
   },
   "outputs": [
    {
     "name": "stdout",
     "output_type": "stream",
     "text": [
      "                                             comment  hate_speech  \\\n",
      "0  subsection retarded hungarians ohh boy brace l...            1   \n",
      "1  hiii just got work Foundation and grounding ma...            0   \n",
      "2                    wow guess soyboys every country            0   \n",
      "3  owen benjamins soyboy song goes every country ...            0   \n",
      "4   yall hear sumn means live small town rn for w...            0   \n",
      "\n",
      "                                  lemmatized_comment  \\\n",
      "0  subsection retard hungarians ohh boy brace liv...   \n",
      "1  hiii just get work Foundation and ground mainl...   \n",
      "2                    wow guess soyboys every country   \n",
      "3  owen benjamins soyboy song go every country amaze   \n",
      "4  yall hear sumn mean live small town rn for wor...   \n",
      "\n",
      "                                document_vector_flat  \n",
      "0  0.014043219,-0.01809359,0.017145459,0.08062436...  \n",
      "1  -0.0030388932,-0.035133556,0.020659983,0.07383...  \n",
      "2  0.017362628,0.005587179,0.0297773,0.109146975,...  \n",
      "3  0.018085241,0.0011954829,2.8959475e-05,0.07601...  \n",
      "4  0.023993038,-0.00060867134,0.005239945,0.05989...  \n"
     ]
    }
   ],
   "source": [
    "df = pd.read_csv('/Users/CRYPTO/Infosys Internship - Hate Speech Detection/Tokenization & Encoding/Reddit_Encoded.csv')\n",
    "print(df.head())"
   ]
  },
  {
   "cell_type": "code",
   "execution_count": 3,
   "id": "4649b389",
   "metadata": {},
   "outputs": [
    {
     "name": "stdout",
     "output_type": "stream",
     "text": [
      "0    [0.014043219, -0.01809359, 0.017145459, 0.0806...\n",
      "1    [-0.0030388932, -0.035133556, 0.020659983, 0.0...\n",
      "2    [0.017362628, 0.005587179, 0.0297773, 0.109146...\n",
      "3    [0.018085241, 0.0011954829, 2.8959475e-05, 0.0...\n",
      "4    [0.023993038, -0.00060867134, 0.005239945, 0.0...\n",
      "Name: document_vector, dtype: object\n"
     ]
    }
   ],
   "source": [
    "# Convert the document vectors from their string representation back into numerical form\n",
    "df['document_vector'] = df['document_vector_flat'].apply(lambda x: np.fromstring(x, sep=','))\n",
    "print(df['document_vector'].head())"
   ]
  },
  {
   "cell_type": "code",
   "execution_count": 4,
   "id": "f578db95",
   "metadata": {},
   "outputs": [],
   "source": [
    "# Extract features (document vectors) and labels (binary hate speech)\n",
    "X = np.array(df['document_vector'].tolist())\n",
    "y = df['hate_speech']\n",
    "\n",
    "# Split the data into training and testing sets\n",
    "X_train, X_test, y_train, y_test = train_test_split(X, y, test_size=0.2, random_state=42)"
   ]
  },
  {
   "cell_type": "code",
   "execution_count": 5,
   "id": "c86fe8ed",
   "metadata": {},
   "outputs": [],
   "source": [
    "smote = SMOTE(random_state=42)\n",
    "X_train_resampled, y_train_resampled = smote.fit_resample(X_train, y_train)"
   ]
  },
  {
   "cell_type": "code",
   "execution_count": 6,
   "id": "adecfd85",
   "metadata": {},
   "outputs": [],
   "source": [
    "clf1 = LogisticRegression(max_iter= 1000, random_state=42)\n",
    "clf2 = SVC(kernel='poly', degree=3, gamma='scale', probability=True, random_state=42)\n",
    "clf3 = SVC(kernel='rbf', gamma='scale', probability=True, random_state=42)"
   ]
  },
  {
   "cell_type": "code",
   "execution_count": null,
   "id": "8bee8d10",
   "metadata": {},
   "outputs": [],
   "source": [
    "# Create a Voting Classifier with hard voting (majority voting)\n",
    "voting_clf = VotingClassifier(estimators=[('lr', clf1), ('svc1', clf2), ('svc2', clf3)], voting='hard')\n",
    "voting_clf.fit(X_train_resampled, y_train_resampled)\n",
    "y_pred = voting_clf.predict(X_test)"
   ]
  },
  {
   "cell_type": "code",
   "execution_count": 16,
   "id": "e188559e",
   "metadata": {},
   "outputs": [
    {
     "name": "stdout",
     "output_type": "stream",
     "text": [
      "Accuracy: 0.84\n",
      "Precision: 0.63\n",
      "Recall: 0.79\n",
      "F1-Score: 0.70\n"
     ]
    }
   ],
   "source": [
    "# Evaluate the Voting Classifier\n",
    "accuracy = accuracy_score(y_test, y_pred)\n",
    "precision = precision_score(y_test, y_pred)\n",
    "recall = recall_score(y_test, y_pred)\n",
    "f1 = f1_score(y_test, y_pred)\n",
    "\n",
    "print(f\"Accuracy: {accuracy:.2f}\")\n",
    "print(f\"Precision: {precision:.2f}\")\n",
    "print(f\"Recall: {recall:.2f}\")\n",
    "print(f\"F1-Score: {f1:.2f}\")"
   ]
  },
  {
   "cell_type": "code",
   "execution_count": 17,
   "id": "97113af7",
   "metadata": {
    "scrolled": false
   },
   "outputs": [
    {
     "name": "stdout",
     "output_type": "stream",
     "text": [
      "              precision    recall  f1-score   support\n",
      "\n",
      "           0       0.93      0.85      0.89      3369\n",
      "           1       0.63      0.79      0.70      1074\n",
      "\n",
      "    accuracy                           0.84      4443\n",
      "   macro avg       0.78      0.82      0.79      4443\n",
      "weighted avg       0.85      0.84      0.84      4443\n",
      "\n"
     ]
    }
   ],
   "source": [
    "print(classification_report(y_test, y_pred))"
   ]
  },
  {
   "cell_type": "code",
   "execution_count": null,
   "id": "fad1cec3",
   "metadata": {},
   "outputs": [],
   "source": [
    "# Create a Voting Classifier with hard voting (majority voting)\n",
    "voting_clf = VotingClassifier(estimators=[('lr', clf1), ('svc1', clf2), ('svc2', clf3)], voting='soft')\n",
    "voting_clf.fit(X_train_resampled, y_train_resampled)\n",
    "y_pred = voting_clf.predict(X_test)"
   ]
  },
  {
   "cell_type": "code",
   "execution_count": 26,
   "id": "425d1af7",
   "metadata": {},
   "outputs": [
    {
     "name": "stdout",
     "output_type": "stream",
     "text": [
      "Accuracy: 0.86\n",
      "Precision: 0.86\n",
      "Recall: 0.49\n",
      "F1-Score: 0.62\n"
     ]
    }
   ],
   "source": [
    "# Evaluate the Voting Classifier\n",
    "accuracy = accuracy_score(y_test, y_pred)\n",
    "precision = precision_score(y_test, y_pred)\n",
    "recall = recall_score(y_test, y_pred)\n",
    "f1 = f1_score(y_test, y_pred)\n",
    "\n",
    "print(f\"Accuracy: {accuracy:.2f}\")\n",
    "print(f\"Precision: {precision:.2f}\")\n",
    "print(f\"Recall: {recall:.2f}\")\n",
    "print(f\"F1-Score: {f1:.2f}\")"
   ]
  },
  {
   "cell_type": "code",
   "execution_count": 27,
   "id": "4ba6ccc6",
   "metadata": {
    "scrolled": true
   },
   "outputs": [
    {
     "name": "stdout",
     "output_type": "stream",
     "text": [
      "              precision    recall  f1-score   support\n",
      "\n",
      "           0       0.86      0.97      0.91      3369\n",
      "           1       0.86      0.49      0.62      1074\n",
      "\n",
      "    accuracy                           0.86      4443\n",
      "   macro avg       0.86      0.73      0.77      4443\n",
      "weighted avg       0.86      0.86      0.84      4443\n",
      "\n"
     ]
    }
   ],
   "source": [
    "print(classification_report(y_test, y_pred))"
   ]
  }
 ],
 "metadata": {
  "kernelspec": {
   "display_name": "Python 3 (ipykernel)",
   "language": "python",
   "name": "python3"
  },
  "language_info": {
   "codemirror_mode": {
    "name": "ipython",
    "version": 3
   },
   "file_extension": ".py",
   "mimetype": "text/x-python",
   "name": "python",
   "nbconvert_exporter": "python",
   "pygments_lexer": "ipython3",
   "version": "3.11.0"
  }
 },
 "nbformat": 4,
 "nbformat_minor": 5
}
