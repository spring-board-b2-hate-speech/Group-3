{
 "cells": [
  {
   "cell_type": "code",
   "execution_count": 1,
   "id": "e9dbad43",
   "metadata": {},
   "outputs": [
    {
     "name": "stdout",
     "output_type": "stream",
     "text": [
      "Requirement already satisfied: tokenizers in /Users/CRYPTO/anaconda3/lib/python3.11/site-packages (0.13.2)\n",
      "Requirement already satisfied: transformers in /Users/CRYPTO/anaconda3/lib/python3.11/site-packages (4.29.2)\n",
      "Requirement already satisfied: torch in /Users/CRYPTO/anaconda3/lib/python3.11/site-packages (2.0.1)\n",
      "Requirement already satisfied: filelock in /Users/CRYPTO/anaconda3/lib/python3.11/site-packages (from transformers) (3.9.0)\n",
      "Requirement already satisfied: huggingface-hub<1.0,>=0.14.1 in /Users/CRYPTO/anaconda3/lib/python3.11/site-packages (from transformers) (0.15.1)\n",
      "Requirement already satisfied: numpy>=1.17 in /Users/CRYPTO/anaconda3/lib/python3.11/site-packages (from transformers) (1.24.3)\n",
      "Requirement already satisfied: packaging>=20.0 in /Users/CRYPTO/anaconda3/lib/python3.11/site-packages (from transformers) (23.0)\n",
      "Requirement already satisfied: pyyaml>=5.1 in /Users/CRYPTO/anaconda3/lib/python3.11/site-packages (from transformers) (6.0)\n",
      "Requirement already satisfied: regex!=2019.12.17 in /Users/CRYPTO/anaconda3/lib/python3.11/site-packages (from transformers) (2022.7.9)\n",
      "Requirement already satisfied: requests in /Users/CRYPTO/anaconda3/lib/python3.11/site-packages (from transformers) (2.31.0)\n",
      "Requirement already satisfied: tqdm>=4.27 in /Users/CRYPTO/anaconda3/lib/python3.11/site-packages (from transformers) (4.65.0)\n",
      "Requirement already satisfied: typing-extensions in /Users/CRYPTO/anaconda3/lib/python3.11/site-packages (from torch) (4.7.1)\n",
      "Requirement already satisfied: sympy in /Users/CRYPTO/anaconda3/lib/python3.11/site-packages (from torch) (1.11.1)\n",
      "Requirement already satisfied: networkx in /Users/CRYPTO/anaconda3/lib/python3.11/site-packages (from torch) (3.1)\n",
      "Requirement already satisfied: jinja2 in /Users/CRYPTO/anaconda3/lib/python3.11/site-packages (from torch) (3.1.2)\n",
      "Requirement already satisfied: fsspec in /Users/CRYPTO/anaconda3/lib/python3.11/site-packages (from huggingface-hub<1.0,>=0.14.1->transformers) (2023.4.0)\n",
      "Requirement already satisfied: MarkupSafe>=2.0 in /Users/CRYPTO/anaconda3/lib/python3.11/site-packages (from jinja2->torch) (2.1.1)\n",
      "Requirement already satisfied: charset-normalizer<4,>=2 in /Users/CRYPTO/anaconda3/lib/python3.11/site-packages (from requests->transformers) (2.0.4)\n",
      "Requirement already satisfied: idna<4,>=2.5 in /Users/CRYPTO/anaconda3/lib/python3.11/site-packages (from requests->transformers) (3.4)\n",
      "Requirement already satisfied: urllib3<3,>=1.21.1 in /Users/CRYPTO/anaconda3/lib/python3.11/site-packages (from requests->transformers) (1.26.16)\n",
      "Requirement already satisfied: certifi>=2017.4.17 in /Users/CRYPTO/anaconda3/lib/python3.11/site-packages (from requests->transformers) (2024.2.2)\n",
      "Requirement already satisfied: mpmath>=0.19 in /Users/CRYPTO/anaconda3/lib/python3.11/site-packages (from sympy->torch) (1.3.0)\n",
      "Note: you may need to restart the kernel to use updated packages.\n"
     ]
    }
   ],
   "source": [
    "pip install tokenizers transformers torch"
   ]
  },
  {
   "cell_type": "code",
   "execution_count": 1,
   "id": "95223c3c",
   "metadata": {},
   "outputs": [],
   "source": [
    "import pandas as pd\n",
    "df= pd.read_csv('/Users/CRYPTO/Infosys Internship - Hate Speech Detection/Data Preprocessing/Reddit_Preprocessed.csv')"
   ]
  },
  {
   "cell_type": "code",
   "execution_count": 2,
   "id": "540fe42b",
   "metadata": {},
   "outputs": [
    {
     "name": "stdout",
     "output_type": "stream",
     "text": [
      "comment        35\n",
      "hate_speech     0\n",
      "dtype: int64\n"
     ]
    }
   ],
   "source": [
    "print(df.isnull().sum())"
   ]
  },
  {
   "cell_type": "code",
   "execution_count": 3,
   "id": "08338777",
   "metadata": {},
   "outputs": [],
   "source": [
    "df.dropna(inplace=True)"
   ]
  },
  {
   "cell_type": "code",
   "execution_count": 4,
   "id": "5910f25e",
   "metadata": {},
   "outputs": [
    {
     "name": "stdout",
     "output_type": "stream",
     "text": [
      "comment        0\n",
      "hate_speech    0\n",
      "dtype: int64\n"
     ]
    }
   ],
   "source": [
    "print(df.isnull().sum())"
   ]
  },
  {
   "cell_type": "markdown",
   "id": "469801fc",
   "metadata": {},
   "source": [
    "## Tokenization"
   ]
  },
  {
   "cell_type": "code",
   "execution_count": 5,
   "id": "67f3db9a",
   "metadata": {},
   "outputs": [
    {
     "data": {
      "text/html": [
       "<div>\n",
       "<style scoped>\n",
       "    .dataframe tbody tr th:only-of-type {\n",
       "        vertical-align: middle;\n",
       "    }\n",
       "\n",
       "    .dataframe tbody tr th {\n",
       "        vertical-align: top;\n",
       "    }\n",
       "\n",
       "    .dataframe thead th {\n",
       "        text-align: right;\n",
       "    }\n",
       "</style>\n",
       "<table border=\"1\" class=\"dataframe\">\n",
       "  <thead>\n",
       "    <tr style=\"text-align: right;\">\n",
       "      <th></th>\n",
       "      <th>comment</th>\n",
       "      <th>hate_speech</th>\n",
       "      <th>sentences</th>\n",
       "    </tr>\n",
       "  </thead>\n",
       "  <tbody>\n",
       "    <tr>\n",
       "      <th>0</th>\n",
       "      <td>subsection retarded hungarians ohh boy brace l...</td>\n",
       "      <td>1</td>\n",
       "      <td>[subsection retarded hungarians ohh boy brace ...</td>\n",
       "    </tr>\n",
       "    <tr>\n",
       "      <th>1</th>\n",
       "      <td>hiii just got work Foundation and grounding ma...</td>\n",
       "      <td>0</td>\n",
       "      <td>[hiii just got work Foundation and grounding m...</td>\n",
       "    </tr>\n",
       "    <tr>\n",
       "      <th>2</th>\n",
       "      <td>wow guess soyboys every country</td>\n",
       "      <td>0</td>\n",
       "      <td>[wow guess soyboys every country]</td>\n",
       "    </tr>\n",
       "    <tr>\n",
       "      <th>3</th>\n",
       "      <td>owen benjamins soyboy song goes every country ...</td>\n",
       "      <td>0</td>\n",
       "      <td>[owen benjamins soyboy song goes every country...</td>\n",
       "    </tr>\n",
       "    <tr>\n",
       "      <th>4</th>\n",
       "      <td>yall hear sumn means live small town rn for w...</td>\n",
       "      <td>0</td>\n",
       "      <td>[ yall hear sumn means live small town rn for ...</td>\n",
       "    </tr>\n",
       "  </tbody>\n",
       "</table>\n",
       "</div>"
      ],
      "text/plain": [
       "                                             comment  hate_speech  \\\n",
       "0  subsection retarded hungarians ohh boy brace l...            1   \n",
       "1  hiii just got work Foundation and grounding ma...            0   \n",
       "2                    wow guess soyboys every country            0   \n",
       "3  owen benjamins soyboy song goes every country ...            0   \n",
       "4   yall hear sumn means live small town rn for w...            0   \n",
       "\n",
       "                                           sentences  \n",
       "0  [subsection retarded hungarians ohh boy brace ...  \n",
       "1  [hiii just got work Foundation and grounding m...  \n",
       "2                  [wow guess soyboys every country]  \n",
       "3  [owen benjamins soyboy song goes every country...  \n",
       "4  [ yall hear sumn means live small town rn for ...  "
      ]
     },
     "execution_count": 5,
     "metadata": {},
     "output_type": "execute_result"
    }
   ],
   "source": [
    "from nltk import sent_tokenize\n",
    "import pandas as pd\n",
    "\n",
    "df['sentences'] = df['comment'].apply(lambda x: sent_tokenize(x))\n",
    "\n",
    "df.head()"
   ]
  },
  {
   "cell_type": "code",
   "execution_count": 6,
   "id": "95a5cc01",
   "metadata": {},
   "outputs": [
    {
     "data": {
      "text/html": [
       "<div>\n",
       "<style scoped>\n",
       "    .dataframe tbody tr th:only-of-type {\n",
       "        vertical-align: middle;\n",
       "    }\n",
       "\n",
       "    .dataframe tbody tr th {\n",
       "        vertical-align: top;\n",
       "    }\n",
       "\n",
       "    .dataframe thead th {\n",
       "        text-align: right;\n",
       "    }\n",
       "</style>\n",
       "<table border=\"1\" class=\"dataframe\">\n",
       "  <thead>\n",
       "    <tr style=\"text-align: right;\">\n",
       "      <th></th>\n",
       "      <th>comment</th>\n",
       "      <th>hate_speech</th>\n",
       "      <th>sentences</th>\n",
       "      <th>words</th>\n",
       "    </tr>\n",
       "  </thead>\n",
       "  <tbody>\n",
       "    <tr>\n",
       "      <th>0</th>\n",
       "      <td>subsection retarded hungarians ohh boy brace l...</td>\n",
       "      <td>1</td>\n",
       "      <td>[subsection retarded hungarians ohh boy brace ...</td>\n",
       "      <td>[subsection, retarded, hungarians, ohh, boy, b...</td>\n",
       "    </tr>\n",
       "    <tr>\n",
       "      <th>1</th>\n",
       "      <td>hiii just got work Foundation and grounding ma...</td>\n",
       "      <td>0</td>\n",
       "      <td>[hiii just got work Foundation and grounding m...</td>\n",
       "      <td>[hiii, just, got, work, Foundation, and, groun...</td>\n",
       "    </tr>\n",
       "    <tr>\n",
       "      <th>2</th>\n",
       "      <td>wow guess soyboys every country</td>\n",
       "      <td>0</td>\n",
       "      <td>[wow guess soyboys every country]</td>\n",
       "      <td>[wow, guess, soyboys, every, country]</td>\n",
       "    </tr>\n",
       "    <tr>\n",
       "      <th>3</th>\n",
       "      <td>owen benjamins soyboy song goes every country ...</td>\n",
       "      <td>0</td>\n",
       "      <td>[owen benjamins soyboy song goes every country...</td>\n",
       "      <td>[owen, benjamins, soyboy, song, goes, every, c...</td>\n",
       "    </tr>\n",
       "    <tr>\n",
       "      <th>4</th>\n",
       "      <td>yall hear sumn means live small town rn for w...</td>\n",
       "      <td>0</td>\n",
       "      <td>[ yall hear sumn means live small town rn for ...</td>\n",
       "      <td>[yall, hear, sumn, means, live, small, town, r...</td>\n",
       "    </tr>\n",
       "  </tbody>\n",
       "</table>\n",
       "</div>"
      ],
      "text/plain": [
       "                                             comment  hate_speech  \\\n",
       "0  subsection retarded hungarians ohh boy brace l...            1   \n",
       "1  hiii just got work Foundation and grounding ma...            0   \n",
       "2                    wow guess soyboys every country            0   \n",
       "3  owen benjamins soyboy song goes every country ...            0   \n",
       "4   yall hear sumn means live small town rn for w...            0   \n",
       "\n",
       "                                           sentences  \\\n",
       "0  [subsection retarded hungarians ohh boy brace ...   \n",
       "1  [hiii just got work Foundation and grounding m...   \n",
       "2                  [wow guess soyboys every country]   \n",
       "3  [owen benjamins soyboy song goes every country...   \n",
       "4  [ yall hear sumn means live small town rn for ...   \n",
       "\n",
       "                                               words  \n",
       "0  [subsection, retarded, hungarians, ohh, boy, b...  \n",
       "1  [hiii, just, got, work, Foundation, and, groun...  \n",
       "2              [wow, guess, soyboys, every, country]  \n",
       "3  [owen, benjamins, soyboy, song, goes, every, c...  \n",
       "4  [yall, hear, sumn, means, live, small, town, r...  "
      ]
     },
     "execution_count": 6,
     "metadata": {},
     "output_type": "execute_result"
    }
   ],
   "source": [
    "from nltk import word_tokenize\n",
    "import pandas as pd\n",
    "\n",
    "df['words'] = df['comment'].apply(lambda x: word_tokenize(x))\n",
    "\n",
    "df.head()"
   ]
  },
  {
   "cell_type": "markdown",
   "id": "72272902",
   "metadata": {},
   "source": [
    "## Stemming"
   ]
  },
  {
   "cell_type": "code",
   "execution_count": 7,
   "id": "ec03ea82",
   "metadata": {},
   "outputs": [],
   "source": [
    "from nltk.stem import PorterStemmer\n",
    "\n",
    "porter = PorterStemmer()\n",
    "df['stemmed_comment'] = df['comment'].apply(lambda x: ' '.join([porter.stem(word) for word in x.split()]))"
   ]
  },
  {
   "cell_type": "code",
   "execution_count": 8,
   "id": "5ac6394e",
   "metadata": {},
   "outputs": [
    {
     "data": {
      "text/html": [
       "<div>\n",
       "<style scoped>\n",
       "    .dataframe tbody tr th:only-of-type {\n",
       "        vertical-align: middle;\n",
       "    }\n",
       "\n",
       "    .dataframe tbody tr th {\n",
       "        vertical-align: top;\n",
       "    }\n",
       "\n",
       "    .dataframe thead th {\n",
       "        text-align: right;\n",
       "    }\n",
       "</style>\n",
       "<table border=\"1\" class=\"dataframe\">\n",
       "  <thead>\n",
       "    <tr style=\"text-align: right;\">\n",
       "      <th></th>\n",
       "      <th>comment</th>\n",
       "      <th>hate_speech</th>\n",
       "      <th>sentences</th>\n",
       "      <th>words</th>\n",
       "      <th>stemmed_comment</th>\n",
       "    </tr>\n",
       "  </thead>\n",
       "  <tbody>\n",
       "    <tr>\n",
       "      <th>0</th>\n",
       "      <td>subsection retarded hungarians ohh boy brace l...</td>\n",
       "      <td>1</td>\n",
       "      <td>[subsection retarded hungarians ohh boy brace ...</td>\n",
       "      <td>[subsection, retarded, hungarians, ohh, boy, b...</td>\n",
       "      <td>subsect retard hungarian ohh boy brace livid b...</td>\n",
       "    </tr>\n",
       "    <tr>\n",
       "      <th>1</th>\n",
       "      <td>hiii just got work Foundation and grounding ma...</td>\n",
       "      <td>0</td>\n",
       "      <td>[hiii just got work Foundation and grounding m...</td>\n",
       "      <td>[hiii, just, got, work, Foundation, and, groun...</td>\n",
       "      <td>hiii just got work foundat and ground mainli t...</td>\n",
       "    </tr>\n",
       "    <tr>\n",
       "      <th>2</th>\n",
       "      <td>wow guess soyboys every country</td>\n",
       "      <td>0</td>\n",
       "      <td>[wow guess soyboys every country]</td>\n",
       "      <td>[wow, guess, soyboys, every, country]</td>\n",
       "      <td>wow guess soyboy everi countri</td>\n",
       "    </tr>\n",
       "    <tr>\n",
       "      <th>3</th>\n",
       "      <td>owen benjamins soyboy song goes every country ...</td>\n",
       "      <td>0</td>\n",
       "      <td>[owen benjamins soyboy song goes every country...</td>\n",
       "      <td>[owen, benjamins, soyboy, song, goes, every, c...</td>\n",
       "      <td>owen benjamin soyboy song goe everi countri amaz</td>\n",
       "    </tr>\n",
       "    <tr>\n",
       "      <th>4</th>\n",
       "      <td>yall hear sumn means live small town rn for w...</td>\n",
       "      <td>0</td>\n",
       "      <td>[ yall hear sumn means live small town rn for ...</td>\n",
       "      <td>[yall, hear, sumn, means, live, small, town, r...</td>\n",
       "      <td>yall hear sumn mean live small town rn for wor...</td>\n",
       "    </tr>\n",
       "  </tbody>\n",
       "</table>\n",
       "</div>"
      ],
      "text/plain": [
       "                                             comment  hate_speech  \\\n",
       "0  subsection retarded hungarians ohh boy brace l...            1   \n",
       "1  hiii just got work Foundation and grounding ma...            0   \n",
       "2                    wow guess soyboys every country            0   \n",
       "3  owen benjamins soyboy song goes every country ...            0   \n",
       "4   yall hear sumn means live small town rn for w...            0   \n",
       "\n",
       "                                           sentences  \\\n",
       "0  [subsection retarded hungarians ohh boy brace ...   \n",
       "1  [hiii just got work Foundation and grounding m...   \n",
       "2                  [wow guess soyboys every country]   \n",
       "3  [owen benjamins soyboy song goes every country...   \n",
       "4  [ yall hear sumn means live small town rn for ...   \n",
       "\n",
       "                                               words  \\\n",
       "0  [subsection, retarded, hungarians, ohh, boy, b...   \n",
       "1  [hiii, just, got, work, Foundation, and, groun...   \n",
       "2              [wow, guess, soyboys, every, country]   \n",
       "3  [owen, benjamins, soyboy, song, goes, every, c...   \n",
       "4  [yall, hear, sumn, means, live, small, town, r...   \n",
       "\n",
       "                                     stemmed_comment  \n",
       "0  subsect retard hungarian ohh boy brace livid b...  \n",
       "1  hiii just got work foundat and ground mainli t...  \n",
       "2                     wow guess soyboy everi countri  \n",
       "3   owen benjamin soyboy song goe everi countri amaz  \n",
       "4  yall hear sumn mean live small town rn for wor...  "
      ]
     },
     "execution_count": 8,
     "metadata": {},
     "output_type": "execute_result"
    }
   ],
   "source": [
    "df.head()"
   ]
  },
  {
   "cell_type": "markdown",
   "id": "85663459",
   "metadata": {},
   "source": [
    "## Lemmatization"
   ]
  },
  {
   "cell_type": "code",
   "execution_count": 9,
   "id": "931109f8",
   "metadata": {},
   "outputs": [
    {
     "data": {
      "text/html": [
       "<div>\n",
       "<style scoped>\n",
       "    .dataframe tbody tr th:only-of-type {\n",
       "        vertical-align: middle;\n",
       "    }\n",
       "\n",
       "    .dataframe tbody tr th {\n",
       "        vertical-align: top;\n",
       "    }\n",
       "\n",
       "    .dataframe thead th {\n",
       "        text-align: right;\n",
       "    }\n",
       "</style>\n",
       "<table border=\"1\" class=\"dataframe\">\n",
       "  <thead>\n",
       "    <tr style=\"text-align: right;\">\n",
       "      <th></th>\n",
       "      <th>comment</th>\n",
       "      <th>hate_speech</th>\n",
       "      <th>sentences</th>\n",
       "      <th>words</th>\n",
       "      <th>stemmed_comment</th>\n",
       "      <th>lemmatized_comment</th>\n",
       "    </tr>\n",
       "  </thead>\n",
       "  <tbody>\n",
       "    <tr>\n",
       "      <th>0</th>\n",
       "      <td>subsection retarded hungarians ohh boy brace l...</td>\n",
       "      <td>1</td>\n",
       "      <td>[subsection retarded hungarians ohh boy brace ...</td>\n",
       "      <td>[subsection, retarded, hungarians, ohh, boy, b...</td>\n",
       "      <td>subsect retard hungarian ohh boy brace livid b...</td>\n",
       "      <td>subsection retard hungarians ohh boy brace liv...</td>\n",
       "    </tr>\n",
       "    <tr>\n",
       "      <th>1</th>\n",
       "      <td>hiii just got work Foundation and grounding ma...</td>\n",
       "      <td>0</td>\n",
       "      <td>[hiii just got work Foundation and grounding m...</td>\n",
       "      <td>[hiii, just, got, work, Foundation, and, groun...</td>\n",
       "      <td>hiii just got work foundat and ground mainli t...</td>\n",
       "      <td>hiii just get work Foundation and ground mainl...</td>\n",
       "    </tr>\n",
       "    <tr>\n",
       "      <th>2</th>\n",
       "      <td>wow guess soyboys every country</td>\n",
       "      <td>0</td>\n",
       "      <td>[wow guess soyboys every country]</td>\n",
       "      <td>[wow, guess, soyboys, every, country]</td>\n",
       "      <td>wow guess soyboy everi countri</td>\n",
       "      <td>wow guess soyboys every country</td>\n",
       "    </tr>\n",
       "    <tr>\n",
       "      <th>3</th>\n",
       "      <td>owen benjamins soyboy song goes every country ...</td>\n",
       "      <td>0</td>\n",
       "      <td>[owen benjamins soyboy song goes every country...</td>\n",
       "      <td>[owen, benjamins, soyboy, song, goes, every, c...</td>\n",
       "      <td>owen benjamin soyboy song goe everi countri amaz</td>\n",
       "      <td>owen benjamins soyboy song go every country amaze</td>\n",
       "    </tr>\n",
       "    <tr>\n",
       "      <th>4</th>\n",
       "      <td>yall hear sumn means live small town rn for w...</td>\n",
       "      <td>0</td>\n",
       "      <td>[ yall hear sumn means live small town rn for ...</td>\n",
       "      <td>[yall, hear, sumn, means, live, small, town, r...</td>\n",
       "      <td>yall hear sumn mean live small town rn for wor...</td>\n",
       "      <td>yall hear sumn mean live small town rn for wor...</td>\n",
       "    </tr>\n",
       "  </tbody>\n",
       "</table>\n",
       "</div>"
      ],
      "text/plain": [
       "                                             comment  hate_speech  \\\n",
       "0  subsection retarded hungarians ohh boy brace l...            1   \n",
       "1  hiii just got work Foundation and grounding ma...            0   \n",
       "2                    wow guess soyboys every country            0   \n",
       "3  owen benjamins soyboy song goes every country ...            0   \n",
       "4   yall hear sumn means live small town rn for w...            0   \n",
       "\n",
       "                                           sentences  \\\n",
       "0  [subsection retarded hungarians ohh boy brace ...   \n",
       "1  [hiii just got work Foundation and grounding m...   \n",
       "2                  [wow guess soyboys every country]   \n",
       "3  [owen benjamins soyboy song goes every country...   \n",
       "4  [ yall hear sumn means live small town rn for ...   \n",
       "\n",
       "                                               words  \\\n",
       "0  [subsection, retarded, hungarians, ohh, boy, b...   \n",
       "1  [hiii, just, got, work, Foundation, and, groun...   \n",
       "2              [wow, guess, soyboys, every, country]   \n",
       "3  [owen, benjamins, soyboy, song, goes, every, c...   \n",
       "4  [yall, hear, sumn, means, live, small, town, r...   \n",
       "\n",
       "                                     stemmed_comment  \\\n",
       "0  subsect retard hungarian ohh boy brace livid b...   \n",
       "1  hiii just got work foundat and ground mainli t...   \n",
       "2                     wow guess soyboy everi countri   \n",
       "3   owen benjamin soyboy song goe everi countri amaz   \n",
       "4  yall hear sumn mean live small town rn for wor...   \n",
       "\n",
       "                                  lemmatized_comment  \n",
       "0  subsection retard hungarians ohh boy brace liv...  \n",
       "1  hiii just get work Foundation and ground mainl...  \n",
       "2                    wow guess soyboys every country  \n",
       "3  owen benjamins soyboy song go every country amaze  \n",
       "4  yall hear sumn mean live small town rn for wor...  "
      ]
     },
     "execution_count": 9,
     "metadata": {},
     "output_type": "execute_result"
    }
   ],
   "source": [
    "from nltk.stem import WordNetLemmatizer\n",
    "\n",
    "lemmatizer = WordNetLemmatizer()\n",
    "df['lemmatized_comment'] = df['words'].apply(lambda x: ' '.join([lemmatizer.lemmatize(word, pos='v') for word in x]))\n",
    "\n",
    "df.head()"
   ]
  },
  {
   "cell_type": "code",
   "execution_count": 10,
   "id": "945d64c4",
   "metadata": {},
   "outputs": [],
   "source": [
    "df = df.drop(columns=['sentences', 'stemmed_comment'])"
   ]
  },
  {
   "cell_type": "code",
   "execution_count": 11,
   "id": "0a4b559a",
   "metadata": {
    "scrolled": true
   },
   "outputs": [
    {
     "name": "stdout",
     "output_type": "stream",
     "text": [
      "File saved\n"
     ]
    }
   ],
   "source": [
    "df.to_csv('Reddit_Tokenization.csv', index=False)\n",
    "print(\"File saved\")"
   ]
  }
 ],
 "metadata": {
  "kernelspec": {
   "display_name": "Python 3 (ipykernel)",
   "language": "python",
   "name": "python3"
  },
  "language_info": {
   "codemirror_mode": {
    "name": "ipython",
    "version": 3
   },
   "file_extension": ".py",
   "mimetype": "text/x-python",
   "name": "python",
   "nbconvert_exporter": "python",
   "pygments_lexer": "ipython3",
   "version": "3.11.0"
  }
 },
 "nbformat": 4,
 "nbformat_minor": 5
}
